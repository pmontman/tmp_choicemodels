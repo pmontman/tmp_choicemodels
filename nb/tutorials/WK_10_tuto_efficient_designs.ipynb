{
  "nbformat": 4,
  "nbformat_minor": 0,
  "metadata": {
    "colab": {
      "name": "10_efficient_designs",
      "provenance": [],
      "authorship_tag": "ABX9TyNVajar5VHWStOOO2gIJL6t",
      "include_colab_link": true
    },
    "kernelspec": {
      "name": "python3",
      "display_name": "Python 3"
    },
    "language_info": {
      "name": "python"
    }
  },
  "cells": [
    {
      "cell_type": "markdown",
      "metadata": {
        "id": "view-in-github",
        "colab_type": "text"
      },
      "source": [
        "<a href=\"https://colab.research.google.com/github/pmontman/tmp_choicemodels/blob/main/nb/tutorials/WK_10_tuto_efficient_designs.ipynb\" target=\"_parent\"><img src=\"https://colab.research.google.com/assets/colab-badge.svg\" alt=\"Open In Colab\"/></a>"
      ]
    },
    {
      "cell_type": "markdown",
      "metadata": {
        "id": "FiGIpQJKMDqU"
      },
      "source": [
        "# How to design efficient experiments\n",
        "\n",
        "In this lecture we are going to\n",
        "\n",
        "* Properly define what is an efficient design\n",
        "* Use the mathematical definition to create good designs\n",
        "* Give some final guidelines on design of experiments for choice modelling"
      ]
    },
    {
      "cell_type": "code",
      "source": [
        "!pip install biogeme"
      ],
      "metadata": {
        "id": "SJcWKRH83Nhx",
        "outputId": "dca2c305-05ce-4336-cba9-649db580a13e",
        "colab": {
          "base_uri": "https://localhost:8080/"
        }
      },
      "execution_count": 58,
      "outputs": [
        {
          "output_type": "stream",
          "name": "stdout",
          "text": [
            "Looking in indexes: https://pypi.org/simple, https://us-python.pkg.dev/colab-wheels/public/simple/\n",
            "Collecting biogeme\n",
            "  Downloading biogeme-3.2.10.tar.gz (1.8 MB)\n",
            "\u001b[K     |████████████████████████████████| 1.8 MB 15.6 MB/s \n",
            "\u001b[?25hBuilding wheels for collected packages: biogeme\n",
            "  Building wheel for biogeme (setup.py) ... \u001b[?25l\u001b[?25hdone\n",
            "  Created wheel for biogeme: filename=biogeme-3.2.10-cp37-cp37m-linux_x86_64.whl size=4253311 sha256=0d0caa53c1a05a6aef751ebadebd8b47b6b0aa63b9bc21886536207049f26f45\n",
            "  Stored in directory: /root/.cache/pip/wheels/5b/92/9b/63caa7ad9b2cd582de77d3701d10f7e8d041466f4a9d07d554\n",
            "Successfully built biogeme\n",
            "Installing collected packages: biogeme\n",
            "Successfully installed biogeme-3.2.10\n"
          ]
        }
      ]
    },
    {
      "cell_type": "code",
      "metadata": {
        "id": "zmxyZx5dl267"
      },
      "source": [
        "import pandas as pd\n",
        "import numpy as np\n",
        "\n",
        "import matplotlib.pyplot as plt\n",
        "\n",
        "import biogeme.database as db\n",
        "import biogeme.biogeme as bio\n",
        "import biogeme.models as models\n",
        "import biogeme.expressions as exp\n",
        "import biogeme.tools as tools"
      ],
      "execution_count": 59,
      "outputs": []
    },
    {
      "cell_type": "code",
      "metadata": {
        "id": "jXHBZMkwjxq2"
      },
      "source": [
        "betas = np.matrix(' 1 1; 2 2')"
      ],
      "execution_count": 60,
      "outputs": []
    },
    {
      "cell_type": "code",
      "metadata": {
        "id": "XhQsU5Rgof6x"
      },
      "source": [
        "def choice_prob(betas, X):\n",
        "  V = np.matmul(X, betas)\n",
        "  P = np.exp(V)\n",
        "  return P / np.sum(P, axis = 1)"
      ],
      "execution_count": 61,
      "outputs": []
    },
    {
      "cell_type": "code",
      "metadata": {
        "id": "930fgh5UUUdh"
      },
      "source": [
        "colnames = ['price_apple', 'size_apple', 'os_apple', 'price_android', 'size_android', 'os_android']"
      ],
      "execution_count": 62,
      "outputs": []
    },
    {
      "cell_type": "markdown",
      "source": [
        "# Working eample, discrete choice experiment for automobile preferences.\n",
        "\n",
        "We want to understand population preferences for cars, we will consider the following variables.\n",
        "\n",
        "`price`, `power`, `engine_type`\n",
        "\n",
        "Ignoring all realistic values, let's go for:\n",
        "\n",
        "* Prices: 20000, 30000, 40000 AUD.\n",
        "* Consider power: 130 hp, 170 hp, 220 hp.\n",
        "* Engine types, encoded as integer initially: 0=petrol, 1=diesel, 2=hybrid, 3=electric."
      ],
      "metadata": {
        "id": "TKBQuhUVqHGN"
      }
    },
    {
      "cell_type": "markdown",
      "metadata": {
        "id": "V4pglKCiQslA"
      },
      "source": [
        "\n",
        "\n",
        "#Creating all combinations of variables and values\n",
        "\n",
        "We can create the full factorial design in python by using the cartesian product\n",
        "`cartesian` function.\n",
        "\n",
        "Here is an example of use."
      ]
    },
    {
      "cell_type": "code",
      "metadata": {
        "colab": {
          "base_uri": "https://localhost:8080/",
          "height": 1000
        },
        "id": "peajmmSF1hNd",
        "outputId": "39417b4d-cd54-4a82-c845-0bc6a2afdb14"
      },
      "source": [
        "from sklearn.utils.extmath import cartesian\n",
        "\n",
        "full_fact = pd.DataFrame(cartesian(([20000.0, 30000.0, 40000.0], [130, 170, 220], [0, 1, 2, 3, 4])), columns=['price', 'power', 'engine_type'])\n",
        "full_fact"
      ],
      "execution_count": 63,
      "outputs": [
        {
          "output_type": "execute_result",
          "data": {
            "text/plain": [
              "      price  power  engine_type\n",
              "0   20000.0  130.0          0.0\n",
              "1   20000.0  130.0          1.0\n",
              "2   20000.0  130.0          2.0\n",
              "3   20000.0  130.0          3.0\n",
              "4   20000.0  130.0          4.0\n",
              "5   20000.0  170.0          0.0\n",
              "6   20000.0  170.0          1.0\n",
              "7   20000.0  170.0          2.0\n",
              "8   20000.0  170.0          3.0\n",
              "9   20000.0  170.0          4.0\n",
              "10  20000.0  220.0          0.0\n",
              "11  20000.0  220.0          1.0\n",
              "12  20000.0  220.0          2.0\n",
              "13  20000.0  220.0          3.0\n",
              "14  20000.0  220.0          4.0\n",
              "15  30000.0  130.0          0.0\n",
              "16  30000.0  130.0          1.0\n",
              "17  30000.0  130.0          2.0\n",
              "18  30000.0  130.0          3.0\n",
              "19  30000.0  130.0          4.0\n",
              "20  30000.0  170.0          0.0\n",
              "21  30000.0  170.0          1.0\n",
              "22  30000.0  170.0          2.0\n",
              "23  30000.0  170.0          3.0\n",
              "24  30000.0  170.0          4.0\n",
              "25  30000.0  220.0          0.0\n",
              "26  30000.0  220.0          1.0\n",
              "27  30000.0  220.0          2.0\n",
              "28  30000.0  220.0          3.0\n",
              "29  30000.0  220.0          4.0\n",
              "30  40000.0  130.0          0.0\n",
              "31  40000.0  130.0          1.0\n",
              "32  40000.0  130.0          2.0\n",
              "33  40000.0  130.0          3.0\n",
              "34  40000.0  130.0          4.0\n",
              "35  40000.0  170.0          0.0\n",
              "36  40000.0  170.0          1.0\n",
              "37  40000.0  170.0          2.0\n",
              "38  40000.0  170.0          3.0\n",
              "39  40000.0  170.0          4.0\n",
              "40  40000.0  220.0          0.0\n",
              "41  40000.0  220.0          1.0\n",
              "42  40000.0  220.0          2.0\n",
              "43  40000.0  220.0          3.0\n",
              "44  40000.0  220.0          4.0"
            ],
            "text/html": [
              "\n",
              "  <div id=\"df-db555cb1-d4c5-4d49-bb8d-295dacb7cd82\">\n",
              "    <div class=\"colab-df-container\">\n",
              "      <div>\n",
              "<style scoped>\n",
              "    .dataframe tbody tr th:only-of-type {\n",
              "        vertical-align: middle;\n",
              "    }\n",
              "\n",
              "    .dataframe tbody tr th {\n",
              "        vertical-align: top;\n",
              "    }\n",
              "\n",
              "    .dataframe thead th {\n",
              "        text-align: right;\n",
              "    }\n",
              "</style>\n",
              "<table border=\"1\" class=\"dataframe\">\n",
              "  <thead>\n",
              "    <tr style=\"text-align: right;\">\n",
              "      <th></th>\n",
              "      <th>price</th>\n",
              "      <th>power</th>\n",
              "      <th>engine_type</th>\n",
              "    </tr>\n",
              "  </thead>\n",
              "  <tbody>\n",
              "    <tr>\n",
              "      <th>0</th>\n",
              "      <td>20000.0</td>\n",
              "      <td>130.0</td>\n",
              "      <td>0.0</td>\n",
              "    </tr>\n",
              "    <tr>\n",
              "      <th>1</th>\n",
              "      <td>20000.0</td>\n",
              "      <td>130.0</td>\n",
              "      <td>1.0</td>\n",
              "    </tr>\n",
              "    <tr>\n",
              "      <th>2</th>\n",
              "      <td>20000.0</td>\n",
              "      <td>130.0</td>\n",
              "      <td>2.0</td>\n",
              "    </tr>\n",
              "    <tr>\n",
              "      <th>3</th>\n",
              "      <td>20000.0</td>\n",
              "      <td>130.0</td>\n",
              "      <td>3.0</td>\n",
              "    </tr>\n",
              "    <tr>\n",
              "      <th>4</th>\n",
              "      <td>20000.0</td>\n",
              "      <td>130.0</td>\n",
              "      <td>4.0</td>\n",
              "    </tr>\n",
              "    <tr>\n",
              "      <th>5</th>\n",
              "      <td>20000.0</td>\n",
              "      <td>170.0</td>\n",
              "      <td>0.0</td>\n",
              "    </tr>\n",
              "    <tr>\n",
              "      <th>6</th>\n",
              "      <td>20000.0</td>\n",
              "      <td>170.0</td>\n",
              "      <td>1.0</td>\n",
              "    </tr>\n",
              "    <tr>\n",
              "      <th>7</th>\n",
              "      <td>20000.0</td>\n",
              "      <td>170.0</td>\n",
              "      <td>2.0</td>\n",
              "    </tr>\n",
              "    <tr>\n",
              "      <th>8</th>\n",
              "      <td>20000.0</td>\n",
              "      <td>170.0</td>\n",
              "      <td>3.0</td>\n",
              "    </tr>\n",
              "    <tr>\n",
              "      <th>9</th>\n",
              "      <td>20000.0</td>\n",
              "      <td>170.0</td>\n",
              "      <td>4.0</td>\n",
              "    </tr>\n",
              "    <tr>\n",
              "      <th>10</th>\n",
              "      <td>20000.0</td>\n",
              "      <td>220.0</td>\n",
              "      <td>0.0</td>\n",
              "    </tr>\n",
              "    <tr>\n",
              "      <th>11</th>\n",
              "      <td>20000.0</td>\n",
              "      <td>220.0</td>\n",
              "      <td>1.0</td>\n",
              "    </tr>\n",
              "    <tr>\n",
              "      <th>12</th>\n",
              "      <td>20000.0</td>\n",
              "      <td>220.0</td>\n",
              "      <td>2.0</td>\n",
              "    </tr>\n",
              "    <tr>\n",
              "      <th>13</th>\n",
              "      <td>20000.0</td>\n",
              "      <td>220.0</td>\n",
              "      <td>3.0</td>\n",
              "    </tr>\n",
              "    <tr>\n",
              "      <th>14</th>\n",
              "      <td>20000.0</td>\n",
              "      <td>220.0</td>\n",
              "      <td>4.0</td>\n",
              "    </tr>\n",
              "    <tr>\n",
              "      <th>15</th>\n",
              "      <td>30000.0</td>\n",
              "      <td>130.0</td>\n",
              "      <td>0.0</td>\n",
              "    </tr>\n",
              "    <tr>\n",
              "      <th>16</th>\n",
              "      <td>30000.0</td>\n",
              "      <td>130.0</td>\n",
              "      <td>1.0</td>\n",
              "    </tr>\n",
              "    <tr>\n",
              "      <th>17</th>\n",
              "      <td>30000.0</td>\n",
              "      <td>130.0</td>\n",
              "      <td>2.0</td>\n",
              "    </tr>\n",
              "    <tr>\n",
              "      <th>18</th>\n",
              "      <td>30000.0</td>\n",
              "      <td>130.0</td>\n",
              "      <td>3.0</td>\n",
              "    </tr>\n",
              "    <tr>\n",
              "      <th>19</th>\n",
              "      <td>30000.0</td>\n",
              "      <td>130.0</td>\n",
              "      <td>4.0</td>\n",
              "    </tr>\n",
              "    <tr>\n",
              "      <th>20</th>\n",
              "      <td>30000.0</td>\n",
              "      <td>170.0</td>\n",
              "      <td>0.0</td>\n",
              "    </tr>\n",
              "    <tr>\n",
              "      <th>21</th>\n",
              "      <td>30000.0</td>\n",
              "      <td>170.0</td>\n",
              "      <td>1.0</td>\n",
              "    </tr>\n",
              "    <tr>\n",
              "      <th>22</th>\n",
              "      <td>30000.0</td>\n",
              "      <td>170.0</td>\n",
              "      <td>2.0</td>\n",
              "    </tr>\n",
              "    <tr>\n",
              "      <th>23</th>\n",
              "      <td>30000.0</td>\n",
              "      <td>170.0</td>\n",
              "      <td>3.0</td>\n",
              "    </tr>\n",
              "    <tr>\n",
              "      <th>24</th>\n",
              "      <td>30000.0</td>\n",
              "      <td>170.0</td>\n",
              "      <td>4.0</td>\n",
              "    </tr>\n",
              "    <tr>\n",
              "      <th>25</th>\n",
              "      <td>30000.0</td>\n",
              "      <td>220.0</td>\n",
              "      <td>0.0</td>\n",
              "    </tr>\n",
              "    <tr>\n",
              "      <th>26</th>\n",
              "      <td>30000.0</td>\n",
              "      <td>220.0</td>\n",
              "      <td>1.0</td>\n",
              "    </tr>\n",
              "    <tr>\n",
              "      <th>27</th>\n",
              "      <td>30000.0</td>\n",
              "      <td>220.0</td>\n",
              "      <td>2.0</td>\n",
              "    </tr>\n",
              "    <tr>\n",
              "      <th>28</th>\n",
              "      <td>30000.0</td>\n",
              "      <td>220.0</td>\n",
              "      <td>3.0</td>\n",
              "    </tr>\n",
              "    <tr>\n",
              "      <th>29</th>\n",
              "      <td>30000.0</td>\n",
              "      <td>220.0</td>\n",
              "      <td>4.0</td>\n",
              "    </tr>\n",
              "    <tr>\n",
              "      <th>30</th>\n",
              "      <td>40000.0</td>\n",
              "      <td>130.0</td>\n",
              "      <td>0.0</td>\n",
              "    </tr>\n",
              "    <tr>\n",
              "      <th>31</th>\n",
              "      <td>40000.0</td>\n",
              "      <td>130.0</td>\n",
              "      <td>1.0</td>\n",
              "    </tr>\n",
              "    <tr>\n",
              "      <th>32</th>\n",
              "      <td>40000.0</td>\n",
              "      <td>130.0</td>\n",
              "      <td>2.0</td>\n",
              "    </tr>\n",
              "    <tr>\n",
              "      <th>33</th>\n",
              "      <td>40000.0</td>\n",
              "      <td>130.0</td>\n",
              "      <td>3.0</td>\n",
              "    </tr>\n",
              "    <tr>\n",
              "      <th>34</th>\n",
              "      <td>40000.0</td>\n",
              "      <td>130.0</td>\n",
              "      <td>4.0</td>\n",
              "    </tr>\n",
              "    <tr>\n",
              "      <th>35</th>\n",
              "      <td>40000.0</td>\n",
              "      <td>170.0</td>\n",
              "      <td>0.0</td>\n",
              "    </tr>\n",
              "    <tr>\n",
              "      <th>36</th>\n",
              "      <td>40000.0</td>\n",
              "      <td>170.0</td>\n",
              "      <td>1.0</td>\n",
              "    </tr>\n",
              "    <tr>\n",
              "      <th>37</th>\n",
              "      <td>40000.0</td>\n",
              "      <td>170.0</td>\n",
              "      <td>2.0</td>\n",
              "    </tr>\n",
              "    <tr>\n",
              "      <th>38</th>\n",
              "      <td>40000.0</td>\n",
              "      <td>170.0</td>\n",
              "      <td>3.0</td>\n",
              "    </tr>\n",
              "    <tr>\n",
              "      <th>39</th>\n",
              "      <td>40000.0</td>\n",
              "      <td>170.0</td>\n",
              "      <td>4.0</td>\n",
              "    </tr>\n",
              "    <tr>\n",
              "      <th>40</th>\n",
              "      <td>40000.0</td>\n",
              "      <td>220.0</td>\n",
              "      <td>0.0</td>\n",
              "    </tr>\n",
              "    <tr>\n",
              "      <th>41</th>\n",
              "      <td>40000.0</td>\n",
              "      <td>220.0</td>\n",
              "      <td>1.0</td>\n",
              "    </tr>\n",
              "    <tr>\n",
              "      <th>42</th>\n",
              "      <td>40000.0</td>\n",
              "      <td>220.0</td>\n",
              "      <td>2.0</td>\n",
              "    </tr>\n",
              "    <tr>\n",
              "      <th>43</th>\n",
              "      <td>40000.0</td>\n",
              "      <td>220.0</td>\n",
              "      <td>3.0</td>\n",
              "    </tr>\n",
              "    <tr>\n",
              "      <th>44</th>\n",
              "      <td>40000.0</td>\n",
              "      <td>220.0</td>\n",
              "      <td>4.0</td>\n",
              "    </tr>\n",
              "  </tbody>\n",
              "</table>\n",
              "</div>\n",
              "      <button class=\"colab-df-convert\" onclick=\"convertToInteractive('df-db555cb1-d4c5-4d49-bb8d-295dacb7cd82')\"\n",
              "              title=\"Convert this dataframe to an interactive table.\"\n",
              "              style=\"display:none;\">\n",
              "        \n",
              "  <svg xmlns=\"http://www.w3.org/2000/svg\" height=\"24px\"viewBox=\"0 0 24 24\"\n",
              "       width=\"24px\">\n",
              "    <path d=\"M0 0h24v24H0V0z\" fill=\"none\"/>\n",
              "    <path d=\"M18.56 5.44l.94 2.06.94-2.06 2.06-.94-2.06-.94-.94-2.06-.94 2.06-2.06.94zm-11 1L8.5 8.5l.94-2.06 2.06-.94-2.06-.94L8.5 2.5l-.94 2.06-2.06.94zm10 10l.94 2.06.94-2.06 2.06-.94-2.06-.94-.94-2.06-.94 2.06-2.06.94z\"/><path d=\"M17.41 7.96l-1.37-1.37c-.4-.4-.92-.59-1.43-.59-.52 0-1.04.2-1.43.59L10.3 9.45l-7.72 7.72c-.78.78-.78 2.05 0 2.83L4 21.41c.39.39.9.59 1.41.59.51 0 1.02-.2 1.41-.59l7.78-7.78 2.81-2.81c.8-.78.8-2.07 0-2.86zM5.41 20L4 18.59l7.72-7.72 1.47 1.35L5.41 20z\"/>\n",
              "  </svg>\n",
              "      </button>\n",
              "      \n",
              "  <style>\n",
              "    .colab-df-container {\n",
              "      display:flex;\n",
              "      flex-wrap:wrap;\n",
              "      gap: 12px;\n",
              "    }\n",
              "\n",
              "    .colab-df-convert {\n",
              "      background-color: #E8F0FE;\n",
              "      border: none;\n",
              "      border-radius: 50%;\n",
              "      cursor: pointer;\n",
              "      display: none;\n",
              "      fill: #1967D2;\n",
              "      height: 32px;\n",
              "      padding: 0 0 0 0;\n",
              "      width: 32px;\n",
              "    }\n",
              "\n",
              "    .colab-df-convert:hover {\n",
              "      background-color: #E2EBFA;\n",
              "      box-shadow: 0px 1px 2px rgba(60, 64, 67, 0.3), 0px 1px 3px 1px rgba(60, 64, 67, 0.15);\n",
              "      fill: #174EA6;\n",
              "    }\n",
              "\n",
              "    [theme=dark] .colab-df-convert {\n",
              "      background-color: #3B4455;\n",
              "      fill: #D2E3FC;\n",
              "    }\n",
              "\n",
              "    [theme=dark] .colab-df-convert:hover {\n",
              "      background-color: #434B5C;\n",
              "      box-shadow: 0px 1px 3px 1px rgba(0, 0, 0, 0.15);\n",
              "      filter: drop-shadow(0px 1px 2px rgba(0, 0, 0, 0.3));\n",
              "      fill: #FFFFFF;\n",
              "    }\n",
              "  </style>\n",
              "\n",
              "      <script>\n",
              "        const buttonEl =\n",
              "          document.querySelector('#df-db555cb1-d4c5-4d49-bb8d-295dacb7cd82 button.colab-df-convert');\n",
              "        buttonEl.style.display =\n",
              "          google.colab.kernel.accessAllowed ? 'block' : 'none';\n",
              "\n",
              "        async function convertToInteractive(key) {\n",
              "          const element = document.querySelector('#df-db555cb1-d4c5-4d49-bb8d-295dacb7cd82');\n",
              "          const dataTable =\n",
              "            await google.colab.kernel.invokeFunction('convertToInteractive',\n",
              "                                                     [key], {});\n",
              "          if (!dataTable) return;\n",
              "\n",
              "          const docLinkHtml = 'Like what you see? Visit the ' +\n",
              "            '<a target=\"_blank\" href=https://colab.research.google.com/notebooks/data_table.ipynb>data table notebook</a>'\n",
              "            + ' to learn more about interactive tables.';\n",
              "          element.innerHTML = '';\n",
              "          dataTable['output_type'] = 'display_data';\n",
              "          await google.colab.output.renderOutput(dataTable, element);\n",
              "          const docLink = document.createElement('div');\n",
              "          docLink.innerHTML = docLinkHtml;\n",
              "          element.appendChild(docLink);\n",
              "        }\n",
              "      </script>\n",
              "    </div>\n",
              "  </div>\n",
              "  "
            ]
          },
          "metadata": {},
          "execution_count": 63
        }
      ]
    },
    {
      "cell_type": "markdown",
      "source": [
        "These are all possible combinations of price, car and engine type.\n",
        "\n",
        "In practice the full factorial could be too large to compute. We do not need to\n",
        "actually compute it *completely* for want we want to do, which is finding the best subset of size $N$ out of the factorial.\n",
        "\n",
        "For example, imagine that we hace two car manufacturers, each will identify one alternative. The two alternatives are Toyota and Renault. Comparing all possible Toyota values for the attribute vs all possible Renault attributes will render 2025 entries in the full factorial.\n",
        "\n",
        "Let us create the full experiment comparing two alternatives, we can do that by using the `cartesian` product, or in this case we `merge` together two copies of the attributes that we computed earlier. `merge` takes to dataframe and a pair of `suffixes` to identify the repeated names of the columns."
      ],
      "metadata": {
        "id": "WQ-FZVBdi9Hx"
      }
    },
    {
      "cell_type": "code",
      "source": [
        "design_mat = pd.merge(full_fact, full_fact, how='cross', suffixes=('_toyo', '_rena'))\n",
        "design_mat"
      ],
      "metadata": {
        "id": "7iRwB65suk-d",
        "outputId": "6de92ef1-b2a9-437f-959c-64480ecbd501",
        "colab": {
          "base_uri": "https://localhost:8080/",
          "height": 424
        }
      },
      "execution_count": 64,
      "outputs": [
        {
          "output_type": "execute_result",
          "data": {
            "text/plain": [
              "      price_toyo  power_toyo  engine_type_toyo  price_rena  power_rena  \\\n",
              "0        20000.0       130.0               0.0     20000.0       130.0   \n",
              "1        20000.0       130.0               0.0     20000.0       130.0   \n",
              "2        20000.0       130.0               0.0     20000.0       130.0   \n",
              "3        20000.0       130.0               0.0     20000.0       130.0   \n",
              "4        20000.0       130.0               0.0     20000.0       130.0   \n",
              "...          ...         ...               ...         ...         ...   \n",
              "2020     40000.0       220.0               4.0     40000.0       220.0   \n",
              "2021     40000.0       220.0               4.0     40000.0       220.0   \n",
              "2022     40000.0       220.0               4.0     40000.0       220.0   \n",
              "2023     40000.0       220.0               4.0     40000.0       220.0   \n",
              "2024     40000.0       220.0               4.0     40000.0       220.0   \n",
              "\n",
              "      engine_type_rena  \n",
              "0                  0.0  \n",
              "1                  1.0  \n",
              "2                  2.0  \n",
              "3                  3.0  \n",
              "4                  4.0  \n",
              "...                ...  \n",
              "2020               0.0  \n",
              "2021               1.0  \n",
              "2022               2.0  \n",
              "2023               3.0  \n",
              "2024               4.0  \n",
              "\n",
              "[2025 rows x 6 columns]"
            ],
            "text/html": [
              "\n",
              "  <div id=\"df-ff7e9e2d-4cf6-4ad0-96be-56f8919d0d73\">\n",
              "    <div class=\"colab-df-container\">\n",
              "      <div>\n",
              "<style scoped>\n",
              "    .dataframe tbody tr th:only-of-type {\n",
              "        vertical-align: middle;\n",
              "    }\n",
              "\n",
              "    .dataframe tbody tr th {\n",
              "        vertical-align: top;\n",
              "    }\n",
              "\n",
              "    .dataframe thead th {\n",
              "        text-align: right;\n",
              "    }\n",
              "</style>\n",
              "<table border=\"1\" class=\"dataframe\">\n",
              "  <thead>\n",
              "    <tr style=\"text-align: right;\">\n",
              "      <th></th>\n",
              "      <th>price_toyo</th>\n",
              "      <th>power_toyo</th>\n",
              "      <th>engine_type_toyo</th>\n",
              "      <th>price_rena</th>\n",
              "      <th>power_rena</th>\n",
              "      <th>engine_type_rena</th>\n",
              "    </tr>\n",
              "  </thead>\n",
              "  <tbody>\n",
              "    <tr>\n",
              "      <th>0</th>\n",
              "      <td>20000.0</td>\n",
              "      <td>130.0</td>\n",
              "      <td>0.0</td>\n",
              "      <td>20000.0</td>\n",
              "      <td>130.0</td>\n",
              "      <td>0.0</td>\n",
              "    </tr>\n",
              "    <tr>\n",
              "      <th>1</th>\n",
              "      <td>20000.0</td>\n",
              "      <td>130.0</td>\n",
              "      <td>0.0</td>\n",
              "      <td>20000.0</td>\n",
              "      <td>130.0</td>\n",
              "      <td>1.0</td>\n",
              "    </tr>\n",
              "    <tr>\n",
              "      <th>2</th>\n",
              "      <td>20000.0</td>\n",
              "      <td>130.0</td>\n",
              "      <td>0.0</td>\n",
              "      <td>20000.0</td>\n",
              "      <td>130.0</td>\n",
              "      <td>2.0</td>\n",
              "    </tr>\n",
              "    <tr>\n",
              "      <th>3</th>\n",
              "      <td>20000.0</td>\n",
              "      <td>130.0</td>\n",
              "      <td>0.0</td>\n",
              "      <td>20000.0</td>\n",
              "      <td>130.0</td>\n",
              "      <td>3.0</td>\n",
              "    </tr>\n",
              "    <tr>\n",
              "      <th>4</th>\n",
              "      <td>20000.0</td>\n",
              "      <td>130.0</td>\n",
              "      <td>0.0</td>\n",
              "      <td>20000.0</td>\n",
              "      <td>130.0</td>\n",
              "      <td>4.0</td>\n",
              "    </tr>\n",
              "    <tr>\n",
              "      <th>...</th>\n",
              "      <td>...</td>\n",
              "      <td>...</td>\n",
              "      <td>...</td>\n",
              "      <td>...</td>\n",
              "      <td>...</td>\n",
              "      <td>...</td>\n",
              "    </tr>\n",
              "    <tr>\n",
              "      <th>2020</th>\n",
              "      <td>40000.0</td>\n",
              "      <td>220.0</td>\n",
              "      <td>4.0</td>\n",
              "      <td>40000.0</td>\n",
              "      <td>220.0</td>\n",
              "      <td>0.0</td>\n",
              "    </tr>\n",
              "    <tr>\n",
              "      <th>2021</th>\n",
              "      <td>40000.0</td>\n",
              "      <td>220.0</td>\n",
              "      <td>4.0</td>\n",
              "      <td>40000.0</td>\n",
              "      <td>220.0</td>\n",
              "      <td>1.0</td>\n",
              "    </tr>\n",
              "    <tr>\n",
              "      <th>2022</th>\n",
              "      <td>40000.0</td>\n",
              "      <td>220.0</td>\n",
              "      <td>4.0</td>\n",
              "      <td>40000.0</td>\n",
              "      <td>220.0</td>\n",
              "      <td>2.0</td>\n",
              "    </tr>\n",
              "    <tr>\n",
              "      <th>2023</th>\n",
              "      <td>40000.0</td>\n",
              "      <td>220.0</td>\n",
              "      <td>4.0</td>\n",
              "      <td>40000.0</td>\n",
              "      <td>220.0</td>\n",
              "      <td>3.0</td>\n",
              "    </tr>\n",
              "    <tr>\n",
              "      <th>2024</th>\n",
              "      <td>40000.0</td>\n",
              "      <td>220.0</td>\n",
              "      <td>4.0</td>\n",
              "      <td>40000.0</td>\n",
              "      <td>220.0</td>\n",
              "      <td>4.0</td>\n",
              "    </tr>\n",
              "  </tbody>\n",
              "</table>\n",
              "<p>2025 rows × 6 columns</p>\n",
              "</div>\n",
              "      <button class=\"colab-df-convert\" onclick=\"convertToInteractive('df-ff7e9e2d-4cf6-4ad0-96be-56f8919d0d73')\"\n",
              "              title=\"Convert this dataframe to an interactive table.\"\n",
              "              style=\"display:none;\">\n",
              "        \n",
              "  <svg xmlns=\"http://www.w3.org/2000/svg\" height=\"24px\"viewBox=\"0 0 24 24\"\n",
              "       width=\"24px\">\n",
              "    <path d=\"M0 0h24v24H0V0z\" fill=\"none\"/>\n",
              "    <path d=\"M18.56 5.44l.94 2.06.94-2.06 2.06-.94-2.06-.94-.94-2.06-.94 2.06-2.06.94zm-11 1L8.5 8.5l.94-2.06 2.06-.94-2.06-.94L8.5 2.5l-.94 2.06-2.06.94zm10 10l.94 2.06.94-2.06 2.06-.94-2.06-.94-.94-2.06-.94 2.06-2.06.94z\"/><path d=\"M17.41 7.96l-1.37-1.37c-.4-.4-.92-.59-1.43-.59-.52 0-1.04.2-1.43.59L10.3 9.45l-7.72 7.72c-.78.78-.78 2.05 0 2.83L4 21.41c.39.39.9.59 1.41.59.51 0 1.02-.2 1.41-.59l7.78-7.78 2.81-2.81c.8-.78.8-2.07 0-2.86zM5.41 20L4 18.59l7.72-7.72 1.47 1.35L5.41 20z\"/>\n",
              "  </svg>\n",
              "      </button>\n",
              "      \n",
              "  <style>\n",
              "    .colab-df-container {\n",
              "      display:flex;\n",
              "      flex-wrap:wrap;\n",
              "      gap: 12px;\n",
              "    }\n",
              "\n",
              "    .colab-df-convert {\n",
              "      background-color: #E8F0FE;\n",
              "      border: none;\n",
              "      border-radius: 50%;\n",
              "      cursor: pointer;\n",
              "      display: none;\n",
              "      fill: #1967D2;\n",
              "      height: 32px;\n",
              "      padding: 0 0 0 0;\n",
              "      width: 32px;\n",
              "    }\n",
              "\n",
              "    .colab-df-convert:hover {\n",
              "      background-color: #E2EBFA;\n",
              "      box-shadow: 0px 1px 2px rgba(60, 64, 67, 0.3), 0px 1px 3px 1px rgba(60, 64, 67, 0.15);\n",
              "      fill: #174EA6;\n",
              "    }\n",
              "\n",
              "    [theme=dark] .colab-df-convert {\n",
              "      background-color: #3B4455;\n",
              "      fill: #D2E3FC;\n",
              "    }\n",
              "\n",
              "    [theme=dark] .colab-df-convert:hover {\n",
              "      background-color: #434B5C;\n",
              "      box-shadow: 0px 1px 3px 1px rgba(0, 0, 0, 0.15);\n",
              "      filter: drop-shadow(0px 1px 2px rgba(0, 0, 0, 0.3));\n",
              "      fill: #FFFFFF;\n",
              "    }\n",
              "  </style>\n",
              "\n",
              "      <script>\n",
              "        const buttonEl =\n",
              "          document.querySelector('#df-ff7e9e2d-4cf6-4ad0-96be-56f8919d0d73 button.colab-df-convert');\n",
              "        buttonEl.style.display =\n",
              "          google.colab.kernel.accessAllowed ? 'block' : 'none';\n",
              "\n",
              "        async function convertToInteractive(key) {\n",
              "          const element = document.querySelector('#df-ff7e9e2d-4cf6-4ad0-96be-56f8919d0d73');\n",
              "          const dataTable =\n",
              "            await google.colab.kernel.invokeFunction('convertToInteractive',\n",
              "                                                     [key], {});\n",
              "          if (!dataTable) return;\n",
              "\n",
              "          const docLinkHtml = 'Like what you see? Visit the ' +\n",
              "            '<a target=\"_blank\" href=https://colab.research.google.com/notebooks/data_table.ipynb>data table notebook</a>'\n",
              "            + ' to learn more about interactive tables.';\n",
              "          element.innerHTML = '';\n",
              "          dataTable['output_type'] = 'display_data';\n",
              "          await google.colab.output.renderOutput(dataTable, element);\n",
              "          const docLink = document.createElement('div');\n",
              "          docLink.innerHTML = docLinkHtml;\n",
              "          element.appendChild(docLink);\n",
              "        }\n",
              "      </script>\n",
              "    </div>\n",
              "  </div>\n",
              "  "
            ]
          },
          "metadata": {},
          "execution_count": 64
        }
      ]
    },
    {
      "cell_type": "markdown",
      "source": [
        "#Efficiency\n",
        "\n",
        "Recall that we want to find the subset of $N$ rows from the full experiment that maximizes the efficiency of the resulting experiment.\n",
        "There are several concepts of efficiency, relatively similar but we will\n",
        "focus on $D-efficiency$. Roughly speakling, D-efficiency want to make the covariance matrix for the coefficients, $\\text{covariance}(B)$, as 'small' as possible.\n",
        "In discrete choice, the formula for the covariance matrix of the coefficients is a bit more complex than for linear regression.\n",
        "\n",
        "\n",
        "$$\\text{covariance}(\\beta) = (Z' P Z )^{-1}$$\n",
        "\n",
        "when working with $J$ alternatives:\n",
        "*  $P$ is the matrix of choice probabilities computed by the model.\n",
        "* $Z$ is similar to design matrix, but 'centered' using the choice probabilities. Basically, to each row of observations, we substract the weighted mean of the variables across all alternatives. The weights are the choice probabilities computed by the model.\n",
        "\n",
        " $$z_{jn} = x_{jn} - \\sum_{i=1}^Jx_{in}P_{in}$$\n",
        "\n",
        "To compute the $Z$ matrix, we need the 'choice probabilities'. In our context, we do not yet know these choice probabilities, so we need to work with an initial guess of them. This initial guess usually comes from an 'initial' value for the coefficients that creates equal choice probs, basically a 'no-information' stating model. In some cases, we might get a good starting guess, from example, if we have data of a similar problem or from a similar experiment."
      ],
      "metadata": {
        "id": "Uvv25I_VlLL0"
      }
    },
    {
      "cell_type": "markdown",
      "source": [
        "#Creating the centered design matrix $Z$"
      ],
      "metadata": {
        "id": "uJwLaM--vfxk"
      }
    },
    {
      "cell_type": "markdown",
      "source": [
        "We need some initial model that we can use to compute choice probabilities.\n",
        "We can use a biogeme model, or some manual compuation.\n",
        "Lets try some biogeme."
      ],
      "metadata": {
        "id": "OYpR3okOwAM-"
      }
    },
    {
      "cell_type": "markdown",
      "source": [
        "Load some auxiliary function first:"
      ],
      "metadata": {
        "id": "CjdOGQBHxQ-h"
      }
    },
    {
      "cell_type": "markdown",
      "metadata": {
        "id": "YEJvXwpekbvd"
      },
      "source": [
        "---\n",
        "---\n",
        "\n",
        "# Auxiliary functions"
      ]
    },
    {
      "cell_type": "markdown",
      "metadata": {
        "id": "CKyKA_dj-IVp"
      },
      "source": [
        "The first function takes the dictionary of utilities, a pandas dataframe, and the name of the variable that contains the variable with the results of the choice. It returns the biogeme object with the model and the estimated 'results' object (the one we get the values, likelihoods, etc.)\n",
        "We have added the dictionary with the utilities to the biogeme object, in case we use it later."
      ]
    },
    {
      "cell_type": "code",
      "metadata": {
        "id": "0OQ1ls2Bi_ot"
      },
      "source": [
        "def qbus_estimate_bgm(V, pd_df, tgtvar_name, modelname='bgmdef'):\n",
        " av = {1: 1,\n",
        "       2: 1}\n",
        " bgm_db = db.Database(modelname + '_db', pd_df)\n",
        " globals().update(bgm_db.variables)\n",
        " logprob = models.loglogit (V , av , bgm_db.variables[tgtvar_name] )\n",
        " bgm_model = bio.BIOGEME ( bgm_db, logprob )\n",
        " bgm_model.utility_dic = V.copy()\n",
        " return bgm_model, bgm_model.estimate()"
      ],
      "execution_count": 89,
      "outputs": []
    },
    {
      "cell_type": "markdown",
      "metadata": {
        "id": "dM2f5-0w-_4b"
      },
      "source": [
        "The next function will calculate the predictions for a given biogeme object that was estimated with `qbus_estimate_bgm`. The output is the array with the choice probabilities. From the choice probabilities, this can be used to calculate accuracies, confusion matrices and the output of what-if scenarios."
      ]
    },
    {
      "cell_type": "code",
      "metadata": {
        "id": "O4Iau_IHHCzc"
      },
      "source": [
        "def qbus_simulate_bgm(qbus_bgm_model, betas, pred_pd_df):\n",
        "  av_auto = qbus_bgm_model.utility_dic.copy()\n",
        "  for key, value in av_auto.items():\n",
        "   av_auto[key] = 1\n",
        "\n",
        "  targets = qbus_bgm_model.utility_dic.copy()\n",
        "  for key, value in targets.items():\n",
        "   targets[key] = models.logit(qbus_bgm_model.utility_dic, av_auto, key)\n",
        "\n",
        "  bgm_db = db.Database('simul', pred_pd_df)\n",
        "  globals().update(bgm_db.variables)\n",
        "  bgm_pred_model = bio.BIOGEME(bgm_db, targets)\n",
        "  simulatedValues = bgm_pred_model.simulate(betas)\n",
        "  return simulatedValues"
      ],
      "execution_count": 90,
      "outputs": []
    },
    {
      "cell_type": "markdown",
      "metadata": {
        "id": "AnBLUPi-DjU7"
      },
      "source": [
        "The function `qbus_calc_accu_confusion` calculates the accuracies given the choice probability predictions a pandas dataset and the specification of the name that contains the actual choices in the input dataset."
      ]
    },
    {
      "cell_type": "code",
      "metadata": {
        "id": "m9l5cDGkzsfJ"
      },
      "source": [
        "def qbus_calc_accu_confusion(sim_probs, pd_df, choice_var):\n",
        "  which_max = sim_probs.idxmax(axis=1)\n",
        "  data = {'y_Actual':   pd_df[choice_var],\n",
        "          'y_Predicted': which_max\n",
        "        }\n",
        "\n",
        "  df = pd.DataFrame(data, columns=['y_Actual','y_Predicted'])\n",
        "  confusion_matrix = pd.crosstab(df['y_Actual'], df['y_Predicted'], rownames=['Actual'], colnames=['Predicted'])\n",
        "  accu = np.mean(which_max == pd_df[choice_var])\n",
        "  return accu, confusion_matrix "
      ],
      "execution_count": 91,
      "outputs": []
    },
    {
      "cell_type": "markdown",
      "metadata": {
        "id": "dYfxQpYLDzgm"
      },
      "source": [
        "The next function calculates the likelihood ratio test having to write a bit less code that the default biogeme function. The arguments are the results objects of the two models to be compared. The first is the more complex and the second is the reference model (**the order is important!**). The third argument is the significance level for the test."
      ]
    },
    {
      "cell_type": "code",
      "metadata": {
        "id": "GUNVxPmK3rF2"
      },
      "source": [
        "def qbus_likeli_ratio_test_bgm(results_complex, results_reference, signif_level):\n",
        "  return tools.likelihood_ratio_test( (results_complex.data.logLike, results_complex.data.nparam),\n",
        "                                     (results_reference.data.logLike, results_reference.data.nparam), signif_level)"
      ],
      "execution_count": 92,
      "outputs": []
    },
    {
      "cell_type": "markdown",
      "metadata": {
        "id": "5b7TaMhCEZIZ"
      },
      "source": [
        "The next function just updates the globals so we can use it "
      ]
    },
    {
      "cell_type": "code",
      "metadata": {
        "id": "PfHXGoLS1yHX"
      },
      "source": [
        "def qbus_update_globals_bgm(pd_df):\n",
        "   globals().update(db.Database('tmp_bg_bgm_for_glob', pd_df).variables)"
      ],
      "execution_count": 93,
      "outputs": []
    },
    {
      "cell_type": "markdown",
      "source": [
        "---\n",
        "---\n",
        "\n",
        "#Est"
      ],
      "metadata": {
        "id": "-tFq1YKmxcY_"
      }
    },
    {
      "cell_type": "markdown",
      "source": [
        "WE will create a dataset for biogeme model"
      ],
      "metadata": {
        "id": "rhYKOKPO2kLp"
      }
    },
    {
      "cell_type": "markdown",
      "source": [],
      "metadata": {
        "id": "RVn4k5rt2pMW"
      }
    },
    {
      "cell_type": "code",
      "source": [
        "init_dset = design_mat.copy()\n",
        "init_dset['choice'] = 1\n",
        "qbus_update_globals_bgm(init_dset)"
      ],
      "metadata": {
        "id": "rpxXnSIF2p7R"
      },
      "execution_count": 94,
      "outputs": []
    },
    {
      "cell_type": "code",
      "source": [
        "init_dset[0] = 2\n"
      ],
      "metadata": {
        "id": "izSKNbBp4u7Y"
      },
      "execution_count": 95,
      "outputs": []
    },
    {
      "cell_type": "code",
      "source": [
        "ASC_toyo = exp.Beta ( 'ASC_toyo' ,0, None , None ,1)\n",
        "ASC_rena = exp.Beta ( 'ASC_rena' ,0, None , None ,0)\n",
        "\n",
        "B_price = exp.Beta ( 'B_price',0, None , None ,1)\n",
        "B_power = exp.Beta ( 'B_power',0, None , None ,1)\n",
        "B_engine_type = exp.Beta('B_engine_type', 0, None, None, 1)"
      ],
      "metadata": {
        "id": "Az790aPDvohL"
      },
      "execution_count": 99,
      "outputs": []
    },
    {
      "cell_type": "code",
      "source": [
        "V_toyo = ASC_toyo + B_price*price_toyo + B_power*power_toyo + B_engine_type*engine_type_toyo\n",
        "V_rena = ASC_rena + B_price*price_rena + B_power*power_rena + B_engine_type*engine_type_rena\n",
        "\n",
        "V_base = {1: V_toyo,\n",
        "     2: V_rena}"
      ],
      "metadata": {
        "id": "lfo1ZyeUws_d"
      },
      "execution_count": 100,
      "outputs": []
    },
    {
      "cell_type": "code",
      "source": [
        "model_base, results_base = qbus_estimate_bgm(V_base, init_dset, 'choice', 'automob')"
      ],
      "metadata": {
        "id": "Cme91OFK3_vv",
        "outputId": "07f1f335-9b58-43bd-faa3-0f2cfc9a7d07",
        "colab": {
          "base_uri": "https://localhost:8080/"
        }
      },
      "execution_count": 113,
      "outputs": [
        {
          "output_type": "stream",
          "name": "stdout",
          "text": [
            "[07:02:59] < Warning >   You have not defined a name for the model. The output files are named from the model name. The default is [biogemeModelDefaultName]\n"
          ]
        }
      ]
    },
    {
      "cell_type": "code",
      "source": [
        "results_base.getBetaValues()['ASC_rena'] = 0"
      ],
      "metadata": {
        "id": "kL2WBr6G58jg",
        "outputId": "7398b8c8-aed8-4f8d-c430-1588726eeb05",
        "colab": {
          "base_uri": "https://localhost:8080/"
        }
      },
      "execution_count": 121,
      "outputs": [
        {
          "output_type": "execute_result",
          "data": {
            "text/plain": [
              "{'ASC_rena': -15.5105542762932}"
            ]
          },
          "metadata": {},
          "execution_count": 121
        }
      ]
    },
    {
      "cell_type": "code",
      "source": [
        "init_choice_probs=qbus_simulate_bgm(model_base, {'ASC_rena':0.01}, init_dset)\n",
        "init_choice_probs"
      ],
      "metadata": {
        "id": "8-GAbZoJ5WZy",
        "outputId": "02f95043-adaa-4ec9-bea7-81f1db4562c1",
        "colab": {
          "base_uri": "https://localhost:8080/",
          "height": 424
        }
      },
      "execution_count": 146,
      "outputs": [
        {
          "output_type": "execute_result",
          "data": {
            "text/plain": [
              "           1       2\n",
              "0     0.4975  0.5025\n",
              "1     0.4975  0.5025\n",
              "2     0.4975  0.5025\n",
              "3     0.4975  0.5025\n",
              "4     0.4975  0.5025\n",
              "...      ...     ...\n",
              "2020  0.4975  0.5025\n",
              "2021  0.4975  0.5025\n",
              "2022  0.4975  0.5025\n",
              "2023  0.4975  0.5025\n",
              "2024  0.4975  0.5025\n",
              "\n",
              "[2025 rows x 2 columns]"
            ],
            "text/html": [
              "\n",
              "  <div id=\"df-ca0dfc6f-c253-4187-b816-c25b9174f87c\">\n",
              "    <div class=\"colab-df-container\">\n",
              "      <div>\n",
              "<style scoped>\n",
              "    .dataframe tbody tr th:only-of-type {\n",
              "        vertical-align: middle;\n",
              "    }\n",
              "\n",
              "    .dataframe tbody tr th {\n",
              "        vertical-align: top;\n",
              "    }\n",
              "\n",
              "    .dataframe thead th {\n",
              "        text-align: right;\n",
              "    }\n",
              "</style>\n",
              "<table border=\"1\" class=\"dataframe\">\n",
              "  <thead>\n",
              "    <tr style=\"text-align: right;\">\n",
              "      <th></th>\n",
              "      <th>1</th>\n",
              "      <th>2</th>\n",
              "    </tr>\n",
              "  </thead>\n",
              "  <tbody>\n",
              "    <tr>\n",
              "      <th>0</th>\n",
              "      <td>0.4975</td>\n",
              "      <td>0.5025</td>\n",
              "    </tr>\n",
              "    <tr>\n",
              "      <th>1</th>\n",
              "      <td>0.4975</td>\n",
              "      <td>0.5025</td>\n",
              "    </tr>\n",
              "    <tr>\n",
              "      <th>2</th>\n",
              "      <td>0.4975</td>\n",
              "      <td>0.5025</td>\n",
              "    </tr>\n",
              "    <tr>\n",
              "      <th>3</th>\n",
              "      <td>0.4975</td>\n",
              "      <td>0.5025</td>\n",
              "    </tr>\n",
              "    <tr>\n",
              "      <th>4</th>\n",
              "      <td>0.4975</td>\n",
              "      <td>0.5025</td>\n",
              "    </tr>\n",
              "    <tr>\n",
              "      <th>...</th>\n",
              "      <td>...</td>\n",
              "      <td>...</td>\n",
              "    </tr>\n",
              "    <tr>\n",
              "      <th>2020</th>\n",
              "      <td>0.4975</td>\n",
              "      <td>0.5025</td>\n",
              "    </tr>\n",
              "    <tr>\n",
              "      <th>2021</th>\n",
              "      <td>0.4975</td>\n",
              "      <td>0.5025</td>\n",
              "    </tr>\n",
              "    <tr>\n",
              "      <th>2022</th>\n",
              "      <td>0.4975</td>\n",
              "      <td>0.5025</td>\n",
              "    </tr>\n",
              "    <tr>\n",
              "      <th>2023</th>\n",
              "      <td>0.4975</td>\n",
              "      <td>0.5025</td>\n",
              "    </tr>\n",
              "    <tr>\n",
              "      <th>2024</th>\n",
              "      <td>0.4975</td>\n",
              "      <td>0.5025</td>\n",
              "    </tr>\n",
              "  </tbody>\n",
              "</table>\n",
              "<p>2025 rows × 2 columns</p>\n",
              "</div>\n",
              "      <button class=\"colab-df-convert\" onclick=\"convertToInteractive('df-ca0dfc6f-c253-4187-b816-c25b9174f87c')\"\n",
              "              title=\"Convert this dataframe to an interactive table.\"\n",
              "              style=\"display:none;\">\n",
              "        \n",
              "  <svg xmlns=\"http://www.w3.org/2000/svg\" height=\"24px\"viewBox=\"0 0 24 24\"\n",
              "       width=\"24px\">\n",
              "    <path d=\"M0 0h24v24H0V0z\" fill=\"none\"/>\n",
              "    <path d=\"M18.56 5.44l.94 2.06.94-2.06 2.06-.94-2.06-.94-.94-2.06-.94 2.06-2.06.94zm-11 1L8.5 8.5l.94-2.06 2.06-.94-2.06-.94L8.5 2.5l-.94 2.06-2.06.94zm10 10l.94 2.06.94-2.06 2.06-.94-2.06-.94-.94-2.06-.94 2.06-2.06.94z\"/><path d=\"M17.41 7.96l-1.37-1.37c-.4-.4-.92-.59-1.43-.59-.52 0-1.04.2-1.43.59L10.3 9.45l-7.72 7.72c-.78.78-.78 2.05 0 2.83L4 21.41c.39.39.9.59 1.41.59.51 0 1.02-.2 1.41-.59l7.78-7.78 2.81-2.81c.8-.78.8-2.07 0-2.86zM5.41 20L4 18.59l7.72-7.72 1.47 1.35L5.41 20z\"/>\n",
              "  </svg>\n",
              "      </button>\n",
              "      \n",
              "  <style>\n",
              "    .colab-df-container {\n",
              "      display:flex;\n",
              "      flex-wrap:wrap;\n",
              "      gap: 12px;\n",
              "    }\n",
              "\n",
              "    .colab-df-convert {\n",
              "      background-color: #E8F0FE;\n",
              "      border: none;\n",
              "      border-radius: 50%;\n",
              "      cursor: pointer;\n",
              "      display: none;\n",
              "      fill: #1967D2;\n",
              "      height: 32px;\n",
              "      padding: 0 0 0 0;\n",
              "      width: 32px;\n",
              "    }\n",
              "\n",
              "    .colab-df-convert:hover {\n",
              "      background-color: #E2EBFA;\n",
              "      box-shadow: 0px 1px 2px rgba(60, 64, 67, 0.3), 0px 1px 3px 1px rgba(60, 64, 67, 0.15);\n",
              "      fill: #174EA6;\n",
              "    }\n",
              "\n",
              "    [theme=dark] .colab-df-convert {\n",
              "      background-color: #3B4455;\n",
              "      fill: #D2E3FC;\n",
              "    }\n",
              "\n",
              "    [theme=dark] .colab-df-convert:hover {\n",
              "      background-color: #434B5C;\n",
              "      box-shadow: 0px 1px 3px 1px rgba(0, 0, 0, 0.15);\n",
              "      filter: drop-shadow(0px 1px 2px rgba(0, 0, 0, 0.3));\n",
              "      fill: #FFFFFF;\n",
              "    }\n",
              "  </style>\n",
              "\n",
              "      <script>\n",
              "        const buttonEl =\n",
              "          document.querySelector('#df-ca0dfc6f-c253-4187-b816-c25b9174f87c button.colab-df-convert');\n",
              "        buttonEl.style.display =\n",
              "          google.colab.kernel.accessAllowed ? 'block' : 'none';\n",
              "\n",
              "        async function convertToInteractive(key) {\n",
              "          const element = document.querySelector('#df-ca0dfc6f-c253-4187-b816-c25b9174f87c');\n",
              "          const dataTable =\n",
              "            await google.colab.kernel.invokeFunction('convertToInteractive',\n",
              "                                                     [key], {});\n",
              "          if (!dataTable) return;\n",
              "\n",
              "          const docLinkHtml = 'Like what you see? Visit the ' +\n",
              "            '<a target=\"_blank\" href=https://colab.research.google.com/notebooks/data_table.ipynb>data table notebook</a>'\n",
              "            + ' to learn more about interactive tables.';\n",
              "          element.innerHTML = '';\n",
              "          dataTable['output_type'] = 'display_data';\n",
              "          await google.colab.output.renderOutput(dataTable, element);\n",
              "          const docLink = document.createElement('div');\n",
              "          docLink.innerHTML = docLinkHtml;\n",
              "          element.appendChild(docLink);\n",
              "        }\n",
              "      </script>\n",
              "    </div>\n",
              "  </div>\n",
              "  "
            ]
          },
          "metadata": {},
          "execution_count": 146
        }
      ]
    },
    {
      "cell_type": "code",
      "source": [
        "P_rep = np.repeat(init_choice_probs.to_numpy(), [3,3], axis=1)"
      ],
      "metadata": {
        "id": "4ala02XS6l4j"
      },
      "execution_count": 150,
      "outputs": []
    },
    {
      "cell_type": "code",
      "source": [
        "XP_rep = np.repeat((design_mat.to_numpy()*P_rep).sum(axis=1).T.reshape(-1,1), 6, axis=1)"
      ],
      "metadata": {
        "id": "svhZWR0H8aKf"
      },
      "execution_count": 171,
      "outputs": []
    },
    {
      "cell_type": "code",
      "source": [
        "Z = design_mat - XP_rep\n",
        "Z"
      ],
      "metadata": {
        "id": "y_XdIsnp-qzI",
        "outputId": "06a43b93-655b-40a1-953e-3416b6249512",
        "colab": {
          "base_uri": "https://localhost:8080/",
          "height": 424
        }
      },
      "execution_count": 173,
      "outputs": [
        {
          "output_type": "execute_result",
          "data": {
            "text/plain": [
              "      price_toyo  power_toyo  engine_type_toyo  price_rena  power_rena  \\\n",
              "0      -130.0000 -20000.0000       -20130.0000   -130.0000 -20000.0000   \n",
              "1      -130.5025 -20000.5025       -20130.5025   -130.5025 -20000.5025   \n",
              "2      -131.0050 -20001.0050       -20131.0050   -131.0050 -20001.0050   \n",
              "3      -131.5075 -20001.5075       -20131.5075   -131.5075 -20001.5075   \n",
              "4      -132.0100 -20002.0100       -20132.0100   -132.0100 -20002.0100   \n",
              "...          ...         ...               ...         ...         ...   \n",
              "2020   -221.9900 -40001.9900       -40217.9900   -221.9900 -40001.9900   \n",
              "2021   -222.4925 -40002.4925       -40218.4925   -222.4925 -40002.4925   \n",
              "2022   -222.9950 -40002.9950       -40218.9950   -222.9950 -40002.9950   \n",
              "2023   -223.4975 -40003.4975       -40219.4975   -223.4975 -40003.4975   \n",
              "2024   -224.0000 -40004.0000       -40220.0000   -224.0000 -40004.0000   \n",
              "\n",
              "      engine_type_rena  \n",
              "0          -20130.0000  \n",
              "1          -20129.5025  \n",
              "2          -20129.0050  \n",
              "3          -20128.5075  \n",
              "4          -20128.0100  \n",
              "...                ...  \n",
              "2020       -40221.9900  \n",
              "2021       -40221.4925  \n",
              "2022       -40220.9950  \n",
              "2023       -40220.4975  \n",
              "2024       -40220.0000  \n",
              "\n",
              "[2025 rows x 6 columns]"
            ],
            "text/html": [
              "\n",
              "  <div id=\"df-5c0680d0-c953-461f-a2c4-b31f7c47ac30\">\n",
              "    <div class=\"colab-df-container\">\n",
              "      <div>\n",
              "<style scoped>\n",
              "    .dataframe tbody tr th:only-of-type {\n",
              "        vertical-align: middle;\n",
              "    }\n",
              "\n",
              "    .dataframe tbody tr th {\n",
              "        vertical-align: top;\n",
              "    }\n",
              "\n",
              "    .dataframe thead th {\n",
              "        text-align: right;\n",
              "    }\n",
              "</style>\n",
              "<table border=\"1\" class=\"dataframe\">\n",
              "  <thead>\n",
              "    <tr style=\"text-align: right;\">\n",
              "      <th></th>\n",
              "      <th>price_toyo</th>\n",
              "      <th>power_toyo</th>\n",
              "      <th>engine_type_toyo</th>\n",
              "      <th>price_rena</th>\n",
              "      <th>power_rena</th>\n",
              "      <th>engine_type_rena</th>\n",
              "    </tr>\n",
              "  </thead>\n",
              "  <tbody>\n",
              "    <tr>\n",
              "      <th>0</th>\n",
              "      <td>-130.0000</td>\n",
              "      <td>-20000.0000</td>\n",
              "      <td>-20130.0000</td>\n",
              "      <td>-130.0000</td>\n",
              "      <td>-20000.0000</td>\n",
              "      <td>-20130.0000</td>\n",
              "    </tr>\n",
              "    <tr>\n",
              "      <th>1</th>\n",
              "      <td>-130.5025</td>\n",
              "      <td>-20000.5025</td>\n",
              "      <td>-20130.5025</td>\n",
              "      <td>-130.5025</td>\n",
              "      <td>-20000.5025</td>\n",
              "      <td>-20129.5025</td>\n",
              "    </tr>\n",
              "    <tr>\n",
              "      <th>2</th>\n",
              "      <td>-131.0050</td>\n",
              "      <td>-20001.0050</td>\n",
              "      <td>-20131.0050</td>\n",
              "      <td>-131.0050</td>\n",
              "      <td>-20001.0050</td>\n",
              "      <td>-20129.0050</td>\n",
              "    </tr>\n",
              "    <tr>\n",
              "      <th>3</th>\n",
              "      <td>-131.5075</td>\n",
              "      <td>-20001.5075</td>\n",
              "      <td>-20131.5075</td>\n",
              "      <td>-131.5075</td>\n",
              "      <td>-20001.5075</td>\n",
              "      <td>-20128.5075</td>\n",
              "    </tr>\n",
              "    <tr>\n",
              "      <th>4</th>\n",
              "      <td>-132.0100</td>\n",
              "      <td>-20002.0100</td>\n",
              "      <td>-20132.0100</td>\n",
              "      <td>-132.0100</td>\n",
              "      <td>-20002.0100</td>\n",
              "      <td>-20128.0100</td>\n",
              "    </tr>\n",
              "    <tr>\n",
              "      <th>...</th>\n",
              "      <td>...</td>\n",
              "      <td>...</td>\n",
              "      <td>...</td>\n",
              "      <td>...</td>\n",
              "      <td>...</td>\n",
              "      <td>...</td>\n",
              "    </tr>\n",
              "    <tr>\n",
              "      <th>2020</th>\n",
              "      <td>-221.9900</td>\n",
              "      <td>-40001.9900</td>\n",
              "      <td>-40217.9900</td>\n",
              "      <td>-221.9900</td>\n",
              "      <td>-40001.9900</td>\n",
              "      <td>-40221.9900</td>\n",
              "    </tr>\n",
              "    <tr>\n",
              "      <th>2021</th>\n",
              "      <td>-222.4925</td>\n",
              "      <td>-40002.4925</td>\n",
              "      <td>-40218.4925</td>\n",
              "      <td>-222.4925</td>\n",
              "      <td>-40002.4925</td>\n",
              "      <td>-40221.4925</td>\n",
              "    </tr>\n",
              "    <tr>\n",
              "      <th>2022</th>\n",
              "      <td>-222.9950</td>\n",
              "      <td>-40002.9950</td>\n",
              "      <td>-40218.9950</td>\n",
              "      <td>-222.9950</td>\n",
              "      <td>-40002.9950</td>\n",
              "      <td>-40220.9950</td>\n",
              "    </tr>\n",
              "    <tr>\n",
              "      <th>2023</th>\n",
              "      <td>-223.4975</td>\n",
              "      <td>-40003.4975</td>\n",
              "      <td>-40219.4975</td>\n",
              "      <td>-223.4975</td>\n",
              "      <td>-40003.4975</td>\n",
              "      <td>-40220.4975</td>\n",
              "    </tr>\n",
              "    <tr>\n",
              "      <th>2024</th>\n",
              "      <td>-224.0000</td>\n",
              "      <td>-40004.0000</td>\n",
              "      <td>-40220.0000</td>\n",
              "      <td>-224.0000</td>\n",
              "      <td>-40004.0000</td>\n",
              "      <td>-40220.0000</td>\n",
              "    </tr>\n",
              "  </tbody>\n",
              "</table>\n",
              "<p>2025 rows × 6 columns</p>\n",
              "</div>\n",
              "      <button class=\"colab-df-convert\" onclick=\"convertToInteractive('df-5c0680d0-c953-461f-a2c4-b31f7c47ac30')\"\n",
              "              title=\"Convert this dataframe to an interactive table.\"\n",
              "              style=\"display:none;\">\n",
              "        \n",
              "  <svg xmlns=\"http://www.w3.org/2000/svg\" height=\"24px\"viewBox=\"0 0 24 24\"\n",
              "       width=\"24px\">\n",
              "    <path d=\"M0 0h24v24H0V0z\" fill=\"none\"/>\n",
              "    <path d=\"M18.56 5.44l.94 2.06.94-2.06 2.06-.94-2.06-.94-.94-2.06-.94 2.06-2.06.94zm-11 1L8.5 8.5l.94-2.06 2.06-.94-2.06-.94L8.5 2.5l-.94 2.06-2.06.94zm10 10l.94 2.06.94-2.06 2.06-.94-2.06-.94-.94-2.06-.94 2.06-2.06.94z\"/><path d=\"M17.41 7.96l-1.37-1.37c-.4-.4-.92-.59-1.43-.59-.52 0-1.04.2-1.43.59L10.3 9.45l-7.72 7.72c-.78.78-.78 2.05 0 2.83L4 21.41c.39.39.9.59 1.41.59.51 0 1.02-.2 1.41-.59l7.78-7.78 2.81-2.81c.8-.78.8-2.07 0-2.86zM5.41 20L4 18.59l7.72-7.72 1.47 1.35L5.41 20z\"/>\n",
              "  </svg>\n",
              "      </button>\n",
              "      \n",
              "  <style>\n",
              "    .colab-df-container {\n",
              "      display:flex;\n",
              "      flex-wrap:wrap;\n",
              "      gap: 12px;\n",
              "    }\n",
              "\n",
              "    .colab-df-convert {\n",
              "      background-color: #E8F0FE;\n",
              "      border: none;\n",
              "      border-radius: 50%;\n",
              "      cursor: pointer;\n",
              "      display: none;\n",
              "      fill: #1967D2;\n",
              "      height: 32px;\n",
              "      padding: 0 0 0 0;\n",
              "      width: 32px;\n",
              "    }\n",
              "\n",
              "    .colab-df-convert:hover {\n",
              "      background-color: #E2EBFA;\n",
              "      box-shadow: 0px 1px 2px rgba(60, 64, 67, 0.3), 0px 1px 3px 1px rgba(60, 64, 67, 0.15);\n",
              "      fill: #174EA6;\n",
              "    }\n",
              "\n",
              "    [theme=dark] .colab-df-convert {\n",
              "      background-color: #3B4455;\n",
              "      fill: #D2E3FC;\n",
              "    }\n",
              "\n",
              "    [theme=dark] .colab-df-convert:hover {\n",
              "      background-color: #434B5C;\n",
              "      box-shadow: 0px 1px 3px 1px rgba(0, 0, 0, 0.15);\n",
              "      filter: drop-shadow(0px 1px 2px rgba(0, 0, 0, 0.3));\n",
              "      fill: #FFFFFF;\n",
              "    }\n",
              "  </style>\n",
              "\n",
              "      <script>\n",
              "        const buttonEl =\n",
              "          document.querySelector('#df-5c0680d0-c953-461f-a2c4-b31f7c47ac30 button.colab-df-convert');\n",
              "        buttonEl.style.display =\n",
              "          google.colab.kernel.accessAllowed ? 'block' : 'none';\n",
              "\n",
              "        async function convertToInteractive(key) {\n",
              "          const element = document.querySelector('#df-5c0680d0-c953-461f-a2c4-b31f7c47ac30');\n",
              "          const dataTable =\n",
              "            await google.colab.kernel.invokeFunction('convertToInteractive',\n",
              "                                                     [key], {});\n",
              "          if (!dataTable) return;\n",
              "\n",
              "          const docLinkHtml = 'Like what you see? Visit the ' +\n",
              "            '<a target=\"_blank\" href=https://colab.research.google.com/notebooks/data_table.ipynb>data table notebook</a>'\n",
              "            + ' to learn more about interactive tables.';\n",
              "          element.innerHTML = '';\n",
              "          dataTable['output_type'] = 'display_data';\n",
              "          await google.colab.output.renderOutput(dataTable, element);\n",
              "          const docLink = document.createElement('div');\n",
              "          docLink.innerHTML = docLinkHtml;\n",
              "          element.appendChild(docLink);\n",
              "        }\n",
              "      </script>\n",
              "    </div>\n",
              "  </div>\n",
              "  "
            ]
          },
          "metadata": {},
          "execution_count": 173
        }
      ]
    },
    {
      "cell_type": "code",
      "source": [
        "ZPZ = np.matmul(Z.T, P_rep*Z.to_numpy())\n",
        "invcovMNL = np.linalg.inv(ZPZ)\n",
        "np.linalg.det(invcovMNL)"
      ],
      "metadata": {
        "id": "W69E9Mnw-zPo",
        "outputId": "21527f64-5f10-444e-8e82-df7519d955b8",
        "colab": {
          "base_uri": "https://localhost:8080/"
        }
      },
      "execution_count": 197,
      "outputs": [
        {
          "output_type": "execute_result",
          "data": {
            "text/plain": [
              "9.306942625179009e-44"
            ]
          },
          "metadata": {},
          "execution_count": 197
        }
      ]
    },
    {
      "cell_type": "code",
      "source": [
        "def d_effic(covMAT):\n",
        "  return np.power( np.linalg.det(covMAT), 1 / (covMAT.shape[0] + 1) )"
      ],
      "metadata": {
        "id": "HDpM9DyrBwhw"
      },
      "execution_count": 196,
      "outputs": []
    },
    {
      "cell_type": "code",
      "source": [
        "def"
      ],
      "metadata": {
        "id": "1DAHE-JmCdKx"
      },
      "execution_count": null,
      "outputs": []
    },
    {
      "cell_type": "markdown",
      "source": [
        "With the choice probs, we can compute the z matrix"
      ],
      "metadata": {
        "id": "rcbgwodb6m-f"
      }
    },
    {
      "cell_type": "code",
      "metadata": {
        "id": "_now17Bg5lcS"
      },
      "source": [
        "def cov_mnl(Xj, J, betas):\n",
        "  Xj = np.hsplit(np.array(Xj), 2)\n",
        "  P = np.hstack( [np.matmul(Xj[0], betas[0].T ), np.matmul(Xj[1], betas[0].T )])\n",
        "  P = np.exp(P)\n",
        "  PP = P / np.sum(P, axis = 1)\n",
        "  P0D = np.diag(np.array(PP[:,0].flatten()[0].T[:]).T[0])\n",
        "  return np.linalg.inv(np.matmul( np.matmul(Xj[0].T, P0D), Xj[0]))"
      ],
      "execution_count": null,
      "outputs": []
    },
    {
      "cell_type": "markdown",
      "metadata": {
        "id": "I1p6yicQFaH8"
      },
      "source": [
        "And now we calculate"
      ]
    },
    {
      "cell_type": "code",
      "metadata": {
        "id": "QSOrlg4d7D2o"
      },
      "source": [
        " sub_fact = np.array(full_factorial)[np.random.choice(full_factorial.shape[0], 10, replace=False), :]"
      ],
      "execution_count": null,
      "outputs": []
    },
    {
      "cell_type": "code",
      "metadata": {
        "id": "M3toETva7WzX"
      },
      "source": [
        "betas = [ np.matrix('0.5 0.1 1.1')]\n",
        "betas[0]"
      ],
      "execution_count": null,
      "outputs": []
    },
    {
      "cell_type": "code",
      "metadata": {
        "id": "iNi6gCQxEqsK"
      },
      "source": [
        "pd.DataFrame(cov_mnl(sub_fact, 2, betas))"
      ],
      "execution_count": null,
      "outputs": []
    },
    {
      "cell_type": "code",
      "metadata": {
        "id": "0y5YckmNFoWq"
      },
      "source": [
        "def deffic_mnl(X, J, betas):\n",
        "  covX = cov_mnl(X, J, betas)\n",
        "  return np.power( np.linalg.det(covX), 1 / (covX.shape[0] + 1) )"
      ],
      "execution_count": null,
      "outputs": []
    },
    {
      "cell_type": "code",
      "metadata": {
        "id": "f9FZVpPLFtpk"
      },
      "source": [
        "deffic_mnl(sub_fact, 2, betas)"
      ],
      "execution_count": null,
      "outputs": []
    },
    {
      "cell_type": "code",
      "metadata": {
        "id": "pa0YZZR-F4mt"
      },
      "source": [
        "deffic_mnl(full_factorial, 2, betas)"
      ],
      "execution_count": null,
      "outputs": []
    },
    {
      "cell_type": "markdown",
      "metadata": {
        "id": "_4S08C4NKBMl"
      },
      "source": [
        "#Relationship to the principles of design of experiments\n",
        "\n",
        "Recall the four principles\n",
        "\n",
        "1. Level balance\n",
        "2. Orthogonality\n",
        "3. Minimal level overlap\n",
        "4. Utility balance\n",
        "\n",
        "\n",
        "These principles are all summarized in the D-efficiency, meaning that they are 'rules of thumb' to create designs with good efficiency. Nowadays we can just put the computer to work to find a good design, before that, we used to pick the design manually by following the principles... It is important to get an intuition on how it works.\n"
      ]
    },
    {
      "cell_type": "markdown",
      "metadata": {
        "id": "cQ1qdKzNGVlK"
      },
      "source": [
        "# Example: Level balance and overlap\n",
        "\n"
      ]
    },
    {
      "cell_type": "code",
      "metadata": {
        "id": "kbVbA_dIGaIv"
      },
      "source": [
        "np.random.seed(1234) \n",
        "sub_fact = np.array(full_factorial)[np.random.choice(full_factorial.shape[0], 20, replace=False), :]\n",
        "sub_fact"
      ],
      "execution_count": null,
      "outputs": []
    },
    {
      "cell_type": "code",
      "metadata": {
        "id": "yTH-BHFAHG89"
      },
      "source": [
        "\n",
        "sub_fact = sub_fact[[ 0, 5, 8, 9, 13, 15,  17, 2],:]\n"
      ],
      "execution_count": null,
      "outputs": []
    },
    {
      "cell_type": "code",
      "metadata": {
        "id": "WeqR0NsqHDq5"
      },
      "source": [
        "sub_fact"
      ],
      "execution_count": null,
      "outputs": []
    },
    {
      "cell_type": "code",
      "metadata": {
        "id": "ovjGNMzzG6N1"
      },
      "source": [
        "deffic_mnl(sub_fact, 2, betas)"
      ],
      "execution_count": null,
      "outputs": []
    },
    {
      "cell_type": "markdown",
      "metadata": {
        "id": "Fz9boXB3IpPl"
      },
      "source": [
        "Compare with random experiments of the same size (look at the largest efficiency in a random search of experiments of 8 rows)."
      ]
    },
    {
      "cell_type": "code",
      "metadata": {
        "id": "POBZbuxRIMYB"
      },
      "source": [
        "np.random.seed(1234) \n",
        "[deffic_mnl(np.array(full_factorial)[np.random.choice(full_factorial.shape[0], 8, replace=False), :], 2, betas) for i in range(20)]"
      ],
      "execution_count": null,
      "outputs": []
    },
    {
      "cell_type": "markdown",
      "source": [
        "#Orthogonality\n",
        "\n",
        "We pick rows that cannot tell attribute \n",
        "(column) 2 vs 3."
      ],
      "metadata": {
        "id": "CSLCcg4Asxgj"
      }
    },
    {
      "cell_type": "code",
      "source": [
        "np.random.seed(1234) \n",
        "sub_fact = np.array(full_factorial)[np.random.choice(full_factorial.shape[0], 20, replace=False), :]\n",
        "sub_fact\n",
        "sub_fact_orth = sub_fact[[ 0, 1, 3, 7, 9, 11, 12, 15],:]\n",
        "sub_fact_orth"
      ],
      "metadata": {
        "id": "xRmtbwx0sU2W"
      },
      "execution_count": null,
      "outputs": []
    },
    {
      "cell_type": "code",
      "source": [
        "\n",
        "deffic_mnl(sub_fact_orth, 2, betas)"
      ],
      "metadata": {
        "id": "OqZ-QfSjuPxg"
      },
      "execution_count": null,
      "outputs": []
    },
    {
      "cell_type": "markdown",
      "metadata": {
        "id": "nfOBc4Ly4ohV"
      },
      "source": [
        "# The workflow\n",
        "\n",
        "1) Define attributes and levels\n",
        "\n",
        "\n",
        "2) Pilot Studuy\n",
        "\n",
        "3) Design of the Experiment\n",
        "\n",
        "4) Design the Survey\n",
        "\n",
        "5) Conduct the survey and data analysis"
      ]
    },
    {
      "cell_type": "markdown",
      "metadata": {
        "id": "4eV_Jtea4qRq"
      },
      "source": [
        "# Recommendations\n",
        "\n",
        "\n",
        "* **Which variables should we choose?**\n",
        " Create an exhaustive list of attributes, the reduce it to a number between 3 to 7 by discarding some and mergin others (important combinations of a pair of attributes). For example, screen size and speed can be merged if these do not really vary independently (no small fast smartphones), just create a new categorical attribute with a few levels for the realistic combination.\n",
        "\n",
        "* **How do we choose the levels?**\n",
        " Try a large range and pick the best subset using a computer.\n",
        "\n",
        "* **How many alternatives**\n",
        " From 2 to 3 alternatives can be handled by people before getting into decision fatigue."
      ]
    }
  ]
}