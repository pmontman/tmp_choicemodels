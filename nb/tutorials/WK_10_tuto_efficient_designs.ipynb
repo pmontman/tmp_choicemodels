{
  "nbformat": 4,
  "nbformat_minor": 0,
  "metadata": {
    "colab": {
      "name": "10_efficient_designs",
      "provenance": [],
      "authorship_tag": "ABX9TyOk6mENxs1WieCSxap2Rgqd",
      "include_colab_link": true
    },
    "kernelspec": {
      "name": "python3",
      "display_name": "Python 3"
    },
    "language_info": {
      "name": "python"
    }
  },
  "cells": [
    {
      "cell_type": "markdown",
      "metadata": {
        "id": "view-in-github",
        "colab_type": "text"
      },
      "source": [
        "<a href=\"https://colab.research.google.com/github/pmontman/tmp_choicemodels/blob/main/nb/tutorials/WK_10_tuto_efficient_designs.ipynb\" target=\"_parent\"><img src=\"https://colab.research.google.com/assets/colab-badge.svg\" alt=\"Open In Colab\"/></a>"
      ]
    },
    {
      "cell_type": "markdown",
      "metadata": {
        "id": "FiGIpQJKMDqU"
      },
      "source": [
        "# How to design efficient experiments\n",
        "\n",
        "* We will create a fake design matrix for the full experiment\n",
        "* We will use biogeme to compute the initial choice probabilities\n",
        "* Compute the d-efficiency for the design\n",
        "* Show can we can get subsets of the full design and compute their efficiency\n",
        "* Do a random search for the best subdesign originating from the initial design"
      ]
    },
    {
      "cell_type": "code",
      "source": [
        "!pip install biogeme"
      ],
      "metadata": {
        "colab": {
          "base_uri": "https://localhost:8080/"
        },
        "id": "SJcWKRH83Nhx",
        "outputId": "4b4a9d8f-4b20-4f80-8fc1-be6bec8f8e44"
      },
      "execution_count": 1,
      "outputs": [
        {
          "output_type": "stream",
          "name": "stdout",
          "text": [
            "Looking in indexes: https://pypi.org/simple, https://us-python.pkg.dev/colab-wheels/public/simple/\n",
            "Requirement already satisfied: biogeme in /usr/local/lib/python3.7/dist-packages (3.2.10)\n"
          ]
        }
      ]
    },
    {
      "cell_type": "code",
      "metadata": {
        "id": "zmxyZx5dl267"
      },
      "source": [
        "import pandas as pd\n",
        "import numpy as np\n",
        "\n",
        "import matplotlib.pyplot as plt\n",
        "\n",
        "import biogeme.database as db\n",
        "import biogeme.biogeme as bio\n",
        "import biogeme.models as models\n",
        "import biogeme.expressions as exp\n",
        "import biogeme.tools as tools"
      ],
      "execution_count": 2,
      "outputs": []
    },
    {
      "cell_type": "code",
      "metadata": {
        "id": "jXHBZMkwjxq2"
      },
      "source": [
        "betas = np.matrix(' 1 1; 2 2')"
      ],
      "execution_count": 3,
      "outputs": []
    },
    {
      "cell_type": "code",
      "metadata": {
        "id": "XhQsU5Rgof6x"
      },
      "source": [
        "def choice_prob(betas, X):\n",
        "  V = np.matmul(X, betas)\n",
        "  P = np.exp(V)\n",
        "  return P / np.sum(P, axis = 1)"
      ],
      "execution_count": 4,
      "outputs": []
    },
    {
      "cell_type": "code",
      "metadata": {
        "id": "930fgh5UUUdh"
      },
      "source": [
        "colnames = ['price_apple', 'size_apple', 'os_apple', 'price_android', 'size_android', 'os_android']"
      ],
      "execution_count": 5,
      "outputs": []
    },
    {
      "cell_type": "markdown",
      "source": [
        "# Working example, discrete choice experiment for automobile preferences.\n",
        "\n",
        "We want to understand population preferences for cars, we will consider the following variables.\n",
        "\n",
        "`price`, `power`, `engine_type`\n",
        "\n",
        "Ignoring all realistic values, let's go for:\n",
        "\n",
        "* Prices: 20000, 30000, 40000 AUD.\n",
        "* Consider power: 130 hp, 170 hp, 220 hp.\n",
        "* Engine types, encoded as integer initially: 0=petrol, 1=diesel, 2=hybrid, 3=electric."
      ],
      "metadata": {
        "id": "TKBQuhUVqHGN"
      }
    },
    {
      "cell_type": "markdown",
      "metadata": {
        "id": "V4pglKCiQslA"
      },
      "source": [
        "\n",
        "\n",
        "#Creating all combinations of variables and values\n",
        "\n",
        "We can create the full factorial design in python by using the cartesian product\n",
        "`cartesian` function.\n",
        "\n",
        "Here is an example of use."
      ]
    },
    {
      "cell_type": "code",
      "metadata": {
        "colab": {
          "base_uri": "https://localhost:8080/",
          "height": 1000
        },
        "id": "peajmmSF1hNd",
        "outputId": "287212f1-4314-4f3d-ef76-f04b80bc9882"
      },
      "source": [
        "from sklearn.utils.extmath import cartesian\n",
        "\n",
        "full_fact = pd.DataFrame(cartesian(([20000.0, 30000.0, 40000.0], [130, 170, 220], [0, 1, 2, 3, 4])), columns=['price', 'power', 'engine_type'])\n",
        "full_fact"
      ],
      "execution_count": 6,
      "outputs": [
        {
          "output_type": "execute_result",
          "data": {
            "text/plain": [
              "      price  power  engine_type\n",
              "0   20000.0  130.0          0.0\n",
              "1   20000.0  130.0          1.0\n",
              "2   20000.0  130.0          2.0\n",
              "3   20000.0  130.0          3.0\n",
              "4   20000.0  130.0          4.0\n",
              "5   20000.0  170.0          0.0\n",
              "6   20000.0  170.0          1.0\n",
              "7   20000.0  170.0          2.0\n",
              "8   20000.0  170.0          3.0\n",
              "9   20000.0  170.0          4.0\n",
              "10  20000.0  220.0          0.0\n",
              "11  20000.0  220.0          1.0\n",
              "12  20000.0  220.0          2.0\n",
              "13  20000.0  220.0          3.0\n",
              "14  20000.0  220.0          4.0\n",
              "15  30000.0  130.0          0.0\n",
              "16  30000.0  130.0          1.0\n",
              "17  30000.0  130.0          2.0\n",
              "18  30000.0  130.0          3.0\n",
              "19  30000.0  130.0          4.0\n",
              "20  30000.0  170.0          0.0\n",
              "21  30000.0  170.0          1.0\n",
              "22  30000.0  170.0          2.0\n",
              "23  30000.0  170.0          3.0\n",
              "24  30000.0  170.0          4.0\n",
              "25  30000.0  220.0          0.0\n",
              "26  30000.0  220.0          1.0\n",
              "27  30000.0  220.0          2.0\n",
              "28  30000.0  220.0          3.0\n",
              "29  30000.0  220.0          4.0\n",
              "30  40000.0  130.0          0.0\n",
              "31  40000.0  130.0          1.0\n",
              "32  40000.0  130.0          2.0\n",
              "33  40000.0  130.0          3.0\n",
              "34  40000.0  130.0          4.0\n",
              "35  40000.0  170.0          0.0\n",
              "36  40000.0  170.0          1.0\n",
              "37  40000.0  170.0          2.0\n",
              "38  40000.0  170.0          3.0\n",
              "39  40000.0  170.0          4.0\n",
              "40  40000.0  220.0          0.0\n",
              "41  40000.0  220.0          1.0\n",
              "42  40000.0  220.0          2.0\n",
              "43  40000.0  220.0          3.0\n",
              "44  40000.0  220.0          4.0"
            ],
            "text/html": [
              "\n",
              "  <div id=\"df-25877e83-d004-4281-a46e-06f85784c90f\">\n",
              "    <div class=\"colab-df-container\">\n",
              "      <div>\n",
              "<style scoped>\n",
              "    .dataframe tbody tr th:only-of-type {\n",
              "        vertical-align: middle;\n",
              "    }\n",
              "\n",
              "    .dataframe tbody tr th {\n",
              "        vertical-align: top;\n",
              "    }\n",
              "\n",
              "    .dataframe thead th {\n",
              "        text-align: right;\n",
              "    }\n",
              "</style>\n",
              "<table border=\"1\" class=\"dataframe\">\n",
              "  <thead>\n",
              "    <tr style=\"text-align: right;\">\n",
              "      <th></th>\n",
              "      <th>price</th>\n",
              "      <th>power</th>\n",
              "      <th>engine_type</th>\n",
              "    </tr>\n",
              "  </thead>\n",
              "  <tbody>\n",
              "    <tr>\n",
              "      <th>0</th>\n",
              "      <td>20000.0</td>\n",
              "      <td>130.0</td>\n",
              "      <td>0.0</td>\n",
              "    </tr>\n",
              "    <tr>\n",
              "      <th>1</th>\n",
              "      <td>20000.0</td>\n",
              "      <td>130.0</td>\n",
              "      <td>1.0</td>\n",
              "    </tr>\n",
              "    <tr>\n",
              "      <th>2</th>\n",
              "      <td>20000.0</td>\n",
              "      <td>130.0</td>\n",
              "      <td>2.0</td>\n",
              "    </tr>\n",
              "    <tr>\n",
              "      <th>3</th>\n",
              "      <td>20000.0</td>\n",
              "      <td>130.0</td>\n",
              "      <td>3.0</td>\n",
              "    </tr>\n",
              "    <tr>\n",
              "      <th>4</th>\n",
              "      <td>20000.0</td>\n",
              "      <td>130.0</td>\n",
              "      <td>4.0</td>\n",
              "    </tr>\n",
              "    <tr>\n",
              "      <th>5</th>\n",
              "      <td>20000.0</td>\n",
              "      <td>170.0</td>\n",
              "      <td>0.0</td>\n",
              "    </tr>\n",
              "    <tr>\n",
              "      <th>6</th>\n",
              "      <td>20000.0</td>\n",
              "      <td>170.0</td>\n",
              "      <td>1.0</td>\n",
              "    </tr>\n",
              "    <tr>\n",
              "      <th>7</th>\n",
              "      <td>20000.0</td>\n",
              "      <td>170.0</td>\n",
              "      <td>2.0</td>\n",
              "    </tr>\n",
              "    <tr>\n",
              "      <th>8</th>\n",
              "      <td>20000.0</td>\n",
              "      <td>170.0</td>\n",
              "      <td>3.0</td>\n",
              "    </tr>\n",
              "    <tr>\n",
              "      <th>9</th>\n",
              "      <td>20000.0</td>\n",
              "      <td>170.0</td>\n",
              "      <td>4.0</td>\n",
              "    </tr>\n",
              "    <tr>\n",
              "      <th>10</th>\n",
              "      <td>20000.0</td>\n",
              "      <td>220.0</td>\n",
              "      <td>0.0</td>\n",
              "    </tr>\n",
              "    <tr>\n",
              "      <th>11</th>\n",
              "      <td>20000.0</td>\n",
              "      <td>220.0</td>\n",
              "      <td>1.0</td>\n",
              "    </tr>\n",
              "    <tr>\n",
              "      <th>12</th>\n",
              "      <td>20000.0</td>\n",
              "      <td>220.0</td>\n",
              "      <td>2.0</td>\n",
              "    </tr>\n",
              "    <tr>\n",
              "      <th>13</th>\n",
              "      <td>20000.0</td>\n",
              "      <td>220.0</td>\n",
              "      <td>3.0</td>\n",
              "    </tr>\n",
              "    <tr>\n",
              "      <th>14</th>\n",
              "      <td>20000.0</td>\n",
              "      <td>220.0</td>\n",
              "      <td>4.0</td>\n",
              "    </tr>\n",
              "    <tr>\n",
              "      <th>15</th>\n",
              "      <td>30000.0</td>\n",
              "      <td>130.0</td>\n",
              "      <td>0.0</td>\n",
              "    </tr>\n",
              "    <tr>\n",
              "      <th>16</th>\n",
              "      <td>30000.0</td>\n",
              "      <td>130.0</td>\n",
              "      <td>1.0</td>\n",
              "    </tr>\n",
              "    <tr>\n",
              "      <th>17</th>\n",
              "      <td>30000.0</td>\n",
              "      <td>130.0</td>\n",
              "      <td>2.0</td>\n",
              "    </tr>\n",
              "    <tr>\n",
              "      <th>18</th>\n",
              "      <td>30000.0</td>\n",
              "      <td>130.0</td>\n",
              "      <td>3.0</td>\n",
              "    </tr>\n",
              "    <tr>\n",
              "      <th>19</th>\n",
              "      <td>30000.0</td>\n",
              "      <td>130.0</td>\n",
              "      <td>4.0</td>\n",
              "    </tr>\n",
              "    <tr>\n",
              "      <th>20</th>\n",
              "      <td>30000.0</td>\n",
              "      <td>170.0</td>\n",
              "      <td>0.0</td>\n",
              "    </tr>\n",
              "    <tr>\n",
              "      <th>21</th>\n",
              "      <td>30000.0</td>\n",
              "      <td>170.0</td>\n",
              "      <td>1.0</td>\n",
              "    </tr>\n",
              "    <tr>\n",
              "      <th>22</th>\n",
              "      <td>30000.0</td>\n",
              "      <td>170.0</td>\n",
              "      <td>2.0</td>\n",
              "    </tr>\n",
              "    <tr>\n",
              "      <th>23</th>\n",
              "      <td>30000.0</td>\n",
              "      <td>170.0</td>\n",
              "      <td>3.0</td>\n",
              "    </tr>\n",
              "    <tr>\n",
              "      <th>24</th>\n",
              "      <td>30000.0</td>\n",
              "      <td>170.0</td>\n",
              "      <td>4.0</td>\n",
              "    </tr>\n",
              "    <tr>\n",
              "      <th>25</th>\n",
              "      <td>30000.0</td>\n",
              "      <td>220.0</td>\n",
              "      <td>0.0</td>\n",
              "    </tr>\n",
              "    <tr>\n",
              "      <th>26</th>\n",
              "      <td>30000.0</td>\n",
              "      <td>220.0</td>\n",
              "      <td>1.0</td>\n",
              "    </tr>\n",
              "    <tr>\n",
              "      <th>27</th>\n",
              "      <td>30000.0</td>\n",
              "      <td>220.0</td>\n",
              "      <td>2.0</td>\n",
              "    </tr>\n",
              "    <tr>\n",
              "      <th>28</th>\n",
              "      <td>30000.0</td>\n",
              "      <td>220.0</td>\n",
              "      <td>3.0</td>\n",
              "    </tr>\n",
              "    <tr>\n",
              "      <th>29</th>\n",
              "      <td>30000.0</td>\n",
              "      <td>220.0</td>\n",
              "      <td>4.0</td>\n",
              "    </tr>\n",
              "    <tr>\n",
              "      <th>30</th>\n",
              "      <td>40000.0</td>\n",
              "      <td>130.0</td>\n",
              "      <td>0.0</td>\n",
              "    </tr>\n",
              "    <tr>\n",
              "      <th>31</th>\n",
              "      <td>40000.0</td>\n",
              "      <td>130.0</td>\n",
              "      <td>1.0</td>\n",
              "    </tr>\n",
              "    <tr>\n",
              "      <th>32</th>\n",
              "      <td>40000.0</td>\n",
              "      <td>130.0</td>\n",
              "      <td>2.0</td>\n",
              "    </tr>\n",
              "    <tr>\n",
              "      <th>33</th>\n",
              "      <td>40000.0</td>\n",
              "      <td>130.0</td>\n",
              "      <td>3.0</td>\n",
              "    </tr>\n",
              "    <tr>\n",
              "      <th>34</th>\n",
              "      <td>40000.0</td>\n",
              "      <td>130.0</td>\n",
              "      <td>4.0</td>\n",
              "    </tr>\n",
              "    <tr>\n",
              "      <th>35</th>\n",
              "      <td>40000.0</td>\n",
              "      <td>170.0</td>\n",
              "      <td>0.0</td>\n",
              "    </tr>\n",
              "    <tr>\n",
              "      <th>36</th>\n",
              "      <td>40000.0</td>\n",
              "      <td>170.0</td>\n",
              "      <td>1.0</td>\n",
              "    </tr>\n",
              "    <tr>\n",
              "      <th>37</th>\n",
              "      <td>40000.0</td>\n",
              "      <td>170.0</td>\n",
              "      <td>2.0</td>\n",
              "    </tr>\n",
              "    <tr>\n",
              "      <th>38</th>\n",
              "      <td>40000.0</td>\n",
              "      <td>170.0</td>\n",
              "      <td>3.0</td>\n",
              "    </tr>\n",
              "    <tr>\n",
              "      <th>39</th>\n",
              "      <td>40000.0</td>\n",
              "      <td>170.0</td>\n",
              "      <td>4.0</td>\n",
              "    </tr>\n",
              "    <tr>\n",
              "      <th>40</th>\n",
              "      <td>40000.0</td>\n",
              "      <td>220.0</td>\n",
              "      <td>0.0</td>\n",
              "    </tr>\n",
              "    <tr>\n",
              "      <th>41</th>\n",
              "      <td>40000.0</td>\n",
              "      <td>220.0</td>\n",
              "      <td>1.0</td>\n",
              "    </tr>\n",
              "    <tr>\n",
              "      <th>42</th>\n",
              "      <td>40000.0</td>\n",
              "      <td>220.0</td>\n",
              "      <td>2.0</td>\n",
              "    </tr>\n",
              "    <tr>\n",
              "      <th>43</th>\n",
              "      <td>40000.0</td>\n",
              "      <td>220.0</td>\n",
              "      <td>3.0</td>\n",
              "    </tr>\n",
              "    <tr>\n",
              "      <th>44</th>\n",
              "      <td>40000.0</td>\n",
              "      <td>220.0</td>\n",
              "      <td>4.0</td>\n",
              "    </tr>\n",
              "  </tbody>\n",
              "</table>\n",
              "</div>\n",
              "      <button class=\"colab-df-convert\" onclick=\"convertToInteractive('df-25877e83-d004-4281-a46e-06f85784c90f')\"\n",
              "              title=\"Convert this dataframe to an interactive table.\"\n",
              "              style=\"display:none;\">\n",
              "        \n",
              "  <svg xmlns=\"http://www.w3.org/2000/svg\" height=\"24px\"viewBox=\"0 0 24 24\"\n",
              "       width=\"24px\">\n",
              "    <path d=\"M0 0h24v24H0V0z\" fill=\"none\"/>\n",
              "    <path d=\"M18.56 5.44l.94 2.06.94-2.06 2.06-.94-2.06-.94-.94-2.06-.94 2.06-2.06.94zm-11 1L8.5 8.5l.94-2.06 2.06-.94-2.06-.94L8.5 2.5l-.94 2.06-2.06.94zm10 10l.94 2.06.94-2.06 2.06-.94-2.06-.94-.94-2.06-.94 2.06-2.06.94z\"/><path d=\"M17.41 7.96l-1.37-1.37c-.4-.4-.92-.59-1.43-.59-.52 0-1.04.2-1.43.59L10.3 9.45l-7.72 7.72c-.78.78-.78 2.05 0 2.83L4 21.41c.39.39.9.59 1.41.59.51 0 1.02-.2 1.41-.59l7.78-7.78 2.81-2.81c.8-.78.8-2.07 0-2.86zM5.41 20L4 18.59l7.72-7.72 1.47 1.35L5.41 20z\"/>\n",
              "  </svg>\n",
              "      </button>\n",
              "      \n",
              "  <style>\n",
              "    .colab-df-container {\n",
              "      display:flex;\n",
              "      flex-wrap:wrap;\n",
              "      gap: 12px;\n",
              "    }\n",
              "\n",
              "    .colab-df-convert {\n",
              "      background-color: #E8F0FE;\n",
              "      border: none;\n",
              "      border-radius: 50%;\n",
              "      cursor: pointer;\n",
              "      display: none;\n",
              "      fill: #1967D2;\n",
              "      height: 32px;\n",
              "      padding: 0 0 0 0;\n",
              "      width: 32px;\n",
              "    }\n",
              "\n",
              "    .colab-df-convert:hover {\n",
              "      background-color: #E2EBFA;\n",
              "      box-shadow: 0px 1px 2px rgba(60, 64, 67, 0.3), 0px 1px 3px 1px rgba(60, 64, 67, 0.15);\n",
              "      fill: #174EA6;\n",
              "    }\n",
              "\n",
              "    [theme=dark] .colab-df-convert {\n",
              "      background-color: #3B4455;\n",
              "      fill: #D2E3FC;\n",
              "    }\n",
              "\n",
              "    [theme=dark] .colab-df-convert:hover {\n",
              "      background-color: #434B5C;\n",
              "      box-shadow: 0px 1px 3px 1px rgba(0, 0, 0, 0.15);\n",
              "      filter: drop-shadow(0px 1px 2px rgba(0, 0, 0, 0.3));\n",
              "      fill: #FFFFFF;\n",
              "    }\n",
              "  </style>\n",
              "\n",
              "      <script>\n",
              "        const buttonEl =\n",
              "          document.querySelector('#df-25877e83-d004-4281-a46e-06f85784c90f button.colab-df-convert');\n",
              "        buttonEl.style.display =\n",
              "          google.colab.kernel.accessAllowed ? 'block' : 'none';\n",
              "\n",
              "        async function convertToInteractive(key) {\n",
              "          const element = document.querySelector('#df-25877e83-d004-4281-a46e-06f85784c90f');\n",
              "          const dataTable =\n",
              "            await google.colab.kernel.invokeFunction('convertToInteractive',\n",
              "                                                     [key], {});\n",
              "          if (!dataTable) return;\n",
              "\n",
              "          const docLinkHtml = 'Like what you see? Visit the ' +\n",
              "            '<a target=\"_blank\" href=https://colab.research.google.com/notebooks/data_table.ipynb>data table notebook</a>'\n",
              "            + ' to learn more about interactive tables.';\n",
              "          element.innerHTML = '';\n",
              "          dataTable['output_type'] = 'display_data';\n",
              "          await google.colab.output.renderOutput(dataTable, element);\n",
              "          const docLink = document.createElement('div');\n",
              "          docLink.innerHTML = docLinkHtml;\n",
              "          element.appendChild(docLink);\n",
              "        }\n",
              "      </script>\n",
              "    </div>\n",
              "  </div>\n",
              "  "
            ]
          },
          "metadata": {},
          "execution_count": 6
        }
      ]
    },
    {
      "cell_type": "markdown",
      "source": [
        "These are all possible combinations of price, car and engine type.\n",
        "\n",
        "In practice the full factorial could be too large to compute. We do not need to\n",
        "actually compute it *completely* for what we want to do, which is finding the best subset of size $N$ out of the full factorial.\n",
        "\n",
        "We still need to create the alternatives to compare, imagine that we have two car manufacturers, each will identify one alternative. The two alternatives are then Toyota and Renault. Comparing all possible Toyota values for the attributes vs all possible Renault attributes will render 2025 entries in the full factorial.\n",
        "\n",
        "Let us create the full experiment comparing two alternatives, we can do that by using the `cartesian` product again, or in this case we `merge` together two copies of the attributes that we computed earlier. `merge` takes two dataframe and a pair of `suffixes` to identify the repeated names of the columns."
      ],
      "metadata": {
        "id": "WQ-FZVBdi9Hx"
      }
    },
    {
      "cell_type": "code",
      "source": [
        "design_mat = pd.merge(full_fact, full_fact, how='cross', suffixes=('_toyo', '_rena'))\n",
        "design_mat"
      ],
      "metadata": {
        "colab": {
          "base_uri": "https://localhost:8080/",
          "height": 424
        },
        "id": "7iRwB65suk-d",
        "outputId": "fc2f48e2-42e7-4575-fc26-8414aa2991a7"
      },
      "execution_count": 7,
      "outputs": [
        {
          "output_type": "execute_result",
          "data": {
            "text/plain": [
              "      price_toyo  power_toyo  engine_type_toyo  price_rena  power_rena  \\\n",
              "0        20000.0       130.0               0.0     20000.0       130.0   \n",
              "1        20000.0       130.0               0.0     20000.0       130.0   \n",
              "2        20000.0       130.0               0.0     20000.0       130.0   \n",
              "3        20000.0       130.0               0.0     20000.0       130.0   \n",
              "4        20000.0       130.0               0.0     20000.0       130.0   \n",
              "...          ...         ...               ...         ...         ...   \n",
              "2020     40000.0       220.0               4.0     40000.0       220.0   \n",
              "2021     40000.0       220.0               4.0     40000.0       220.0   \n",
              "2022     40000.0       220.0               4.0     40000.0       220.0   \n",
              "2023     40000.0       220.0               4.0     40000.0       220.0   \n",
              "2024     40000.0       220.0               4.0     40000.0       220.0   \n",
              "\n",
              "      engine_type_rena  \n",
              "0                  0.0  \n",
              "1                  1.0  \n",
              "2                  2.0  \n",
              "3                  3.0  \n",
              "4                  4.0  \n",
              "...                ...  \n",
              "2020               0.0  \n",
              "2021               1.0  \n",
              "2022               2.0  \n",
              "2023               3.0  \n",
              "2024               4.0  \n",
              "\n",
              "[2025 rows x 6 columns]"
            ],
            "text/html": [
              "\n",
              "  <div id=\"df-293d6f7e-28e8-4ee9-bc87-d0ca8472396b\">\n",
              "    <div class=\"colab-df-container\">\n",
              "      <div>\n",
              "<style scoped>\n",
              "    .dataframe tbody tr th:only-of-type {\n",
              "        vertical-align: middle;\n",
              "    }\n",
              "\n",
              "    .dataframe tbody tr th {\n",
              "        vertical-align: top;\n",
              "    }\n",
              "\n",
              "    .dataframe thead th {\n",
              "        text-align: right;\n",
              "    }\n",
              "</style>\n",
              "<table border=\"1\" class=\"dataframe\">\n",
              "  <thead>\n",
              "    <tr style=\"text-align: right;\">\n",
              "      <th></th>\n",
              "      <th>price_toyo</th>\n",
              "      <th>power_toyo</th>\n",
              "      <th>engine_type_toyo</th>\n",
              "      <th>price_rena</th>\n",
              "      <th>power_rena</th>\n",
              "      <th>engine_type_rena</th>\n",
              "    </tr>\n",
              "  </thead>\n",
              "  <tbody>\n",
              "    <tr>\n",
              "      <th>0</th>\n",
              "      <td>20000.0</td>\n",
              "      <td>130.0</td>\n",
              "      <td>0.0</td>\n",
              "      <td>20000.0</td>\n",
              "      <td>130.0</td>\n",
              "      <td>0.0</td>\n",
              "    </tr>\n",
              "    <tr>\n",
              "      <th>1</th>\n",
              "      <td>20000.0</td>\n",
              "      <td>130.0</td>\n",
              "      <td>0.0</td>\n",
              "      <td>20000.0</td>\n",
              "      <td>130.0</td>\n",
              "      <td>1.0</td>\n",
              "    </tr>\n",
              "    <tr>\n",
              "      <th>2</th>\n",
              "      <td>20000.0</td>\n",
              "      <td>130.0</td>\n",
              "      <td>0.0</td>\n",
              "      <td>20000.0</td>\n",
              "      <td>130.0</td>\n",
              "      <td>2.0</td>\n",
              "    </tr>\n",
              "    <tr>\n",
              "      <th>3</th>\n",
              "      <td>20000.0</td>\n",
              "      <td>130.0</td>\n",
              "      <td>0.0</td>\n",
              "      <td>20000.0</td>\n",
              "      <td>130.0</td>\n",
              "      <td>3.0</td>\n",
              "    </tr>\n",
              "    <tr>\n",
              "      <th>4</th>\n",
              "      <td>20000.0</td>\n",
              "      <td>130.0</td>\n",
              "      <td>0.0</td>\n",
              "      <td>20000.0</td>\n",
              "      <td>130.0</td>\n",
              "      <td>4.0</td>\n",
              "    </tr>\n",
              "    <tr>\n",
              "      <th>...</th>\n",
              "      <td>...</td>\n",
              "      <td>...</td>\n",
              "      <td>...</td>\n",
              "      <td>...</td>\n",
              "      <td>...</td>\n",
              "      <td>...</td>\n",
              "    </tr>\n",
              "    <tr>\n",
              "      <th>2020</th>\n",
              "      <td>40000.0</td>\n",
              "      <td>220.0</td>\n",
              "      <td>4.0</td>\n",
              "      <td>40000.0</td>\n",
              "      <td>220.0</td>\n",
              "      <td>0.0</td>\n",
              "    </tr>\n",
              "    <tr>\n",
              "      <th>2021</th>\n",
              "      <td>40000.0</td>\n",
              "      <td>220.0</td>\n",
              "      <td>4.0</td>\n",
              "      <td>40000.0</td>\n",
              "      <td>220.0</td>\n",
              "      <td>1.0</td>\n",
              "    </tr>\n",
              "    <tr>\n",
              "      <th>2022</th>\n",
              "      <td>40000.0</td>\n",
              "      <td>220.0</td>\n",
              "      <td>4.0</td>\n",
              "      <td>40000.0</td>\n",
              "      <td>220.0</td>\n",
              "      <td>2.0</td>\n",
              "    </tr>\n",
              "    <tr>\n",
              "      <th>2023</th>\n",
              "      <td>40000.0</td>\n",
              "      <td>220.0</td>\n",
              "      <td>4.0</td>\n",
              "      <td>40000.0</td>\n",
              "      <td>220.0</td>\n",
              "      <td>3.0</td>\n",
              "    </tr>\n",
              "    <tr>\n",
              "      <th>2024</th>\n",
              "      <td>40000.0</td>\n",
              "      <td>220.0</td>\n",
              "      <td>4.0</td>\n",
              "      <td>40000.0</td>\n",
              "      <td>220.0</td>\n",
              "      <td>4.0</td>\n",
              "    </tr>\n",
              "  </tbody>\n",
              "</table>\n",
              "<p>2025 rows × 6 columns</p>\n",
              "</div>\n",
              "      <button class=\"colab-df-convert\" onclick=\"convertToInteractive('df-293d6f7e-28e8-4ee9-bc87-d0ca8472396b')\"\n",
              "              title=\"Convert this dataframe to an interactive table.\"\n",
              "              style=\"display:none;\">\n",
              "        \n",
              "  <svg xmlns=\"http://www.w3.org/2000/svg\" height=\"24px\"viewBox=\"0 0 24 24\"\n",
              "       width=\"24px\">\n",
              "    <path d=\"M0 0h24v24H0V0z\" fill=\"none\"/>\n",
              "    <path d=\"M18.56 5.44l.94 2.06.94-2.06 2.06-.94-2.06-.94-.94-2.06-.94 2.06-2.06.94zm-11 1L8.5 8.5l.94-2.06 2.06-.94-2.06-.94L8.5 2.5l-.94 2.06-2.06.94zm10 10l.94 2.06.94-2.06 2.06-.94-2.06-.94-.94-2.06-.94 2.06-2.06.94z\"/><path d=\"M17.41 7.96l-1.37-1.37c-.4-.4-.92-.59-1.43-.59-.52 0-1.04.2-1.43.59L10.3 9.45l-7.72 7.72c-.78.78-.78 2.05 0 2.83L4 21.41c.39.39.9.59 1.41.59.51 0 1.02-.2 1.41-.59l7.78-7.78 2.81-2.81c.8-.78.8-2.07 0-2.86zM5.41 20L4 18.59l7.72-7.72 1.47 1.35L5.41 20z\"/>\n",
              "  </svg>\n",
              "      </button>\n",
              "      \n",
              "  <style>\n",
              "    .colab-df-container {\n",
              "      display:flex;\n",
              "      flex-wrap:wrap;\n",
              "      gap: 12px;\n",
              "    }\n",
              "\n",
              "    .colab-df-convert {\n",
              "      background-color: #E8F0FE;\n",
              "      border: none;\n",
              "      border-radius: 50%;\n",
              "      cursor: pointer;\n",
              "      display: none;\n",
              "      fill: #1967D2;\n",
              "      height: 32px;\n",
              "      padding: 0 0 0 0;\n",
              "      width: 32px;\n",
              "    }\n",
              "\n",
              "    .colab-df-convert:hover {\n",
              "      background-color: #E2EBFA;\n",
              "      box-shadow: 0px 1px 2px rgba(60, 64, 67, 0.3), 0px 1px 3px 1px rgba(60, 64, 67, 0.15);\n",
              "      fill: #174EA6;\n",
              "    }\n",
              "\n",
              "    [theme=dark] .colab-df-convert {\n",
              "      background-color: #3B4455;\n",
              "      fill: #D2E3FC;\n",
              "    }\n",
              "\n",
              "    [theme=dark] .colab-df-convert:hover {\n",
              "      background-color: #434B5C;\n",
              "      box-shadow: 0px 1px 3px 1px rgba(0, 0, 0, 0.15);\n",
              "      filter: drop-shadow(0px 1px 2px rgba(0, 0, 0, 0.3));\n",
              "      fill: #FFFFFF;\n",
              "    }\n",
              "  </style>\n",
              "\n",
              "      <script>\n",
              "        const buttonEl =\n",
              "          document.querySelector('#df-293d6f7e-28e8-4ee9-bc87-d0ca8472396b button.colab-df-convert');\n",
              "        buttonEl.style.display =\n",
              "          google.colab.kernel.accessAllowed ? 'block' : 'none';\n",
              "\n",
              "        async function convertToInteractive(key) {\n",
              "          const element = document.querySelector('#df-293d6f7e-28e8-4ee9-bc87-d0ca8472396b');\n",
              "          const dataTable =\n",
              "            await google.colab.kernel.invokeFunction('convertToInteractive',\n",
              "                                                     [key], {});\n",
              "          if (!dataTable) return;\n",
              "\n",
              "          const docLinkHtml = 'Like what you see? Visit the ' +\n",
              "            '<a target=\"_blank\" href=https://colab.research.google.com/notebooks/data_table.ipynb>data table notebook</a>'\n",
              "            + ' to learn more about interactive tables.';\n",
              "          element.innerHTML = '';\n",
              "          dataTable['output_type'] = 'display_data';\n",
              "          await google.colab.output.renderOutput(dataTable, element);\n",
              "          const docLink = document.createElement('div');\n",
              "          docLink.innerHTML = docLinkHtml;\n",
              "          element.appendChild(docLink);\n",
              "        }\n",
              "      </script>\n",
              "    </div>\n",
              "  </div>\n",
              "  "
            ]
          },
          "metadata": {},
          "execution_count": 7
        }
      ]
    },
    {
      "cell_type": "markdown",
      "source": [
        "#Efficiency\n",
        "\n",
        "Recall that we want to find the subset of $N$ rows from the full experiment that maximizes the efficiency of the resulting experiment.\n",
        "There are several concepts of efficiency, relatively similar but we will\n",
        "focus on D-efficiency. Roughly speaking, D-efficiency want to make the covariance matrix for the coefficients, $\\text{covariance}(B)$, as 'small' as possible.\n",
        "In discrete choice, the formula for the covariance matrix of the coefficients is a bit more complex than for linear regression.\n",
        "\n",
        "\n",
        "$$\\text{covariance}(\\beta) = (Z' P Z )^{-1}$$\n",
        "\n",
        "when working with $J$ alternatives:\n",
        "*  $P$ is the matrix of choice probabilities computed by the model.\n",
        "* $Z$ is similar to design matrix, but 'centered' using the choice probabilities. Basically, to each row of observations, we substract the weighted mean of the variables across all alternatives. The weights are the choice probabilities computed by the model.\n",
        "\n",
        " $$z_{jn} = x_{jn} - \\sum_{i=1}^Jx_{in}P_{in}$$\n",
        "\n",
        "To compute the $Z$ matrix, **we need some  'choice probabilities'**. In our context, we do not yet know these choice probabilities, so we need to work with an initial guess of them. This initial guess usually comes from an 'initial' value for the coefficients that creates equal choice probs, basically a 'no-information' stating model. In some cases (as in the group assignment!), we might get a good starting guess, fom example, if we have data of a similar problem or from a similar experiment."
      ],
      "metadata": {
        "id": "Uvv25I_VlLL0"
      }
    },
    {
      "cell_type": "markdown",
      "source": [
        "#Creating the centered design matrix $Z$"
      ],
      "metadata": {
        "id": "uJwLaM--vfxk"
      }
    },
    {
      "cell_type": "markdown",
      "source": [
        "We need some initial model that we can use to compute choice probabilities.\n",
        "We can use a biogeme model, or some manual computation, since we do not really need to estimate the coefficients from the data.\n",
        "\n",
        "Lets try biogeme."
      ],
      "metadata": {
        "id": "OYpR3okOwAM-"
      }
    },
    {
      "cell_type": "markdown",
      "source": [
        "Load some auxiliary functions first:"
      ],
      "metadata": {
        "id": "CjdOGQBHxQ-h"
      }
    },
    {
      "cell_type": "markdown",
      "metadata": {
        "id": "YEJvXwpekbvd"
      },
      "source": [
        "---\n",
        "---\n",
        "\n",
        "# Auxiliary functions"
      ]
    },
    {
      "cell_type": "markdown",
      "metadata": {
        "id": "CKyKA_dj-IVp"
      },
      "source": [
        "The first function takes the dictionary of utilities, a pandas dataframe, and the name of the variable that contains the variable with the results of the choice. It returns the biogeme object with the model and the estimated 'results' object (the one we get the values, likelihoods, etc.)\n",
        "We have added the dictionary with the utilities to the biogeme object, in case we use it later."
      ]
    },
    {
      "cell_type": "code",
      "metadata": {
        "id": "0OQ1ls2Bi_ot"
      },
      "source": [
        "def qbus_estimate_bgm(V, pd_df, tgtvar_name, modelname='bgmdef'):\n",
        " av = {1: 1,\n",
        "       2: 1}\n",
        " bgm_db = db.Database(modelname + '_db', pd_df)\n",
        " globals().update(bgm_db.variables)\n",
        " logprob = models.loglogit (V , av , bgm_db.variables[tgtvar_name] )\n",
        " bgm_model = bio.BIOGEME ( bgm_db, logprob )\n",
        " bgm_model.utility_dic = V.copy()\n",
        " return bgm_model, bgm_model.estimate()"
      ],
      "execution_count": 8,
      "outputs": []
    },
    {
      "cell_type": "markdown",
      "metadata": {
        "id": "dM2f5-0w-_4b"
      },
      "source": [
        "The next function will calculate the predictions for a given biogeme object that was estimated with `qbus_estimate_bgm`. The output is the array with the choice probabilities. From the choice probabilities, this can be used to calculate accuracies, confusion matrices and the output of what-if scenarios."
      ]
    },
    {
      "cell_type": "code",
      "metadata": {
        "id": "O4Iau_IHHCzc"
      },
      "source": [
        "def qbus_simulate_bgm(qbus_bgm_model, betas, pred_pd_df):\n",
        "  av_auto = qbus_bgm_model.utility_dic.copy()\n",
        "  for key, value in av_auto.items():\n",
        "   av_auto[key] = 1\n",
        "\n",
        "  targets = qbus_bgm_model.utility_dic.copy()\n",
        "  for key, value in targets.items():\n",
        "   targets[key] = models.logit(qbus_bgm_model.utility_dic, av_auto, key)\n",
        "\n",
        "  bgm_db = db.Database('simul', pred_pd_df)\n",
        "  globals().update(bgm_db.variables)\n",
        "  bgm_pred_model = bio.BIOGEME(bgm_db, targets)\n",
        "  simulatedValues = bgm_pred_model.simulate(betas)\n",
        "  return simulatedValues"
      ],
      "execution_count": 9,
      "outputs": []
    },
    {
      "cell_type": "markdown",
      "metadata": {
        "id": "AnBLUPi-DjU7"
      },
      "source": [
        "The function `qbus_calc_accu_confusion` calculates the accuracies given the choice probability predictions a pandas dataset and the specification of the name that contains the actual choices in the input dataset."
      ]
    },
    {
      "cell_type": "code",
      "metadata": {
        "id": "m9l5cDGkzsfJ"
      },
      "source": [
        "def qbus_calc_accu_confusion(sim_probs, pd_df, choice_var):\n",
        "  which_max = sim_probs.idxmax(axis=1)\n",
        "  data = {'y_Actual':   pd_df[choice_var],\n",
        "          'y_Predicted': which_max\n",
        "        }\n",
        "\n",
        "  df = pd.DataFrame(data, columns=['y_Actual','y_Predicted'])\n",
        "  confusion_matrix = pd.crosstab(df['y_Actual'], df['y_Predicted'], rownames=['Actual'], colnames=['Predicted'])\n",
        "  accu = np.mean(which_max == pd_df[choice_var])\n",
        "  return accu, confusion_matrix "
      ],
      "execution_count": 10,
      "outputs": []
    },
    {
      "cell_type": "markdown",
      "metadata": {
        "id": "dYfxQpYLDzgm"
      },
      "source": [
        "The next function calculates the likelihood ratio test having to write a bit less code that the default biogeme function. The arguments are the results objects of the two models to be compared. The first is the more complex and the second is the reference model (**the order is important!**). The third argument is the significance level for the test."
      ]
    },
    {
      "cell_type": "code",
      "metadata": {
        "id": "GUNVxPmK3rF2"
      },
      "source": [
        "def qbus_likeli_ratio_test_bgm(results_complex, results_reference, signif_level):\n",
        "  return tools.likelihood_ratio_test( (results_complex.data.logLike, results_complex.data.nparam),\n",
        "                                     (results_reference.data.logLike, results_reference.data.nparam), signif_level)"
      ],
      "execution_count": 11,
      "outputs": []
    },
    {
      "cell_type": "markdown",
      "metadata": {
        "id": "5b7TaMhCEZIZ"
      },
      "source": [
        "The next function just updates the globals so we can use it "
      ]
    },
    {
      "cell_type": "code",
      "metadata": {
        "id": "PfHXGoLS1yHX"
      },
      "source": [
        "def qbus_update_globals_bgm(pd_df):\n",
        "   globals().update(db.Database('tmp_bg_bgm_for_glob', pd_df).variables)"
      ],
      "execution_count": 12,
      "outputs": []
    },
    {
      "cell_type": "markdown",
      "source": [
        "---\n",
        "---\n",
        "\n",
        "#'Estimating' the initial biogeme model"
      ],
      "metadata": {
        "id": "-tFq1YKmxcY_"
      }
    },
    {
      "cell_type": "markdown",
      "source": [
        "We will create a dataset that is the same as the design matrix, to pass to biogeme. We will get a biogeme model with the right structure and use biogeme for the predictions.\n",
        "We have to give biogeme a 'fake' response variable that does not exist so it can create the model, otherwise it will give us an error.\n",
        "\n",
        "We can give arbitrarily values to the choice variable, since we are going to impose the coefficients manually afterwards. We set all choices to 1, then, we need to get some of the entries to the other alternative (otherwise biogeme will go crazy), so we set the first row to 2."
      ],
      "metadata": {
        "id": "rhYKOKPO2kLp"
      }
    },
    {
      "cell_type": "code",
      "source": [
        "init_dset = design_mat.copy()\n",
        "init_dset['choice'] = 1\n",
        "qbus_update_globals_bgm(init_dset)"
      ],
      "metadata": {
        "id": "rpxXnSIF2p7R"
      },
      "execution_count": 13,
      "outputs": []
    },
    {
      "cell_type": "code",
      "source": [
        "init_dset['choice'][0] = 2"
      ],
      "metadata": {
        "id": "izSKNbBp4u7Y",
        "outputId": "14f0fe53-2c10-455a-a782-4ea42b40eb0a",
        "colab": {
          "base_uri": "https://localhost:8080/"
        }
      },
      "execution_count": 14,
      "outputs": [
        {
          "output_type": "stream",
          "name": "stderr",
          "text": [
            "/usr/local/lib/python3.7/dist-packages/ipykernel_launcher.py:1: SettingWithCopyWarning: \n",
            "A value is trying to be set on a copy of a slice from a DataFrame\n",
            "\n",
            "See the caveats in the documentation: https://pandas.pydata.org/pandas-docs/stable/user_guide/indexing.html#returning-a-view-versus-a-copy\n",
            "  \"\"\"Entry point for launching an IPython kernel.\n"
          ]
        }
      ]
    },
    {
      "cell_type": "markdown",
      "source": [
        "Now we create the biogeme model that would analyze the data, as usual.\n",
        "The differences is that, for simplicity, we will set most coefficients to 0 and tell biogeme to **not fit them.** This is because we would like to set them manually to 0 so we have the no-information starting coefficients. If we have other dataset that could be used for the initial guess, then we would fit it for real.\n",
        "\n",
        "Unfortunately, we cannot set all coefficients to 0 at this stage, we have to fit some coefficient (otherwise biogeme will give an error) so we fill fit one of the ASC (we will ignore the result anyway)."
      ],
      "metadata": {
        "id": "NNfIjC_Uw7kV"
      }
    },
    {
      "cell_type": "code",
      "source": [
        "ASC_toyo = exp.Beta ( 'ASC_toyo' ,0, None , None ,1)\n",
        "ASC_rena = exp.Beta ( 'ASC_rena' ,0, None , None ,0)\n",
        "\n",
        "B_price = exp.Beta ( 'B_price',0, None , None ,1)\n",
        "B_power = exp.Beta ( 'B_power',0, None , None ,1)\n",
        "B_engine_type = exp.Beta('B_engine_type', 0, None, None, 1)"
      ],
      "metadata": {
        "id": "Az790aPDvohL"
      },
      "execution_count": 15,
      "outputs": []
    },
    {
      "cell_type": "code",
      "source": [
        "V_toyo = ASC_toyo + B_price*price_toyo + B_power*power_toyo + B_engine_type*engine_type_toyo\n",
        "V_rena = ASC_rena + B_price*price_rena + B_power*power_rena + B_engine_type*engine_type_rena\n",
        "\n",
        "V_base = {1: V_toyo,\n",
        "     2: V_rena}"
      ],
      "metadata": {
        "id": "lfo1ZyeUws_d"
      },
      "execution_count": 16,
      "outputs": []
    },
    {
      "cell_type": "markdown",
      "source": [
        "And we now 'estimate' the biogeme model, remember this estiamtion is so we can get the structure for making the predictions, but we are going to ignore the actual estimated coefficients and set them to 0."
      ],
      "metadata": {
        "id": "Fn8HdVKKxFMJ"
      }
    },
    {
      "cell_type": "code",
      "source": [
        "model_base, results_base = qbus_estimate_bgm(V_base, init_dset, 'choice', 'automob')"
      ],
      "metadata": {
        "colab": {
          "base_uri": "https://localhost:8080/"
        },
        "id": "Cme91OFK3_vv",
        "outputId": "a45c95f3-34d4-4f14-8a20-b32a01ecbf96"
      },
      "execution_count": 17,
      "outputs": [
        {
          "output_type": "stream",
          "name": "stdout",
          "text": [
            "[12:20:43] < Warning >   You have not defined a name for the model. The output files are named from the model name. The default is [biogemeModelDefaultName]\n"
          ]
        }
      ]
    },
    {
      "cell_type": "code",
      "source": [
        "results_base.getEstimatedParameters()"
      ],
      "metadata": {
        "id": "Z7rz1ntYC_6I",
        "outputId": "3614b097-3b9b-4803-b42b-34cf80b6d3fe",
        "colab": {
          "base_uri": "https://localhost:8080/",
          "height": 81
        }
      },
      "execution_count": 29,
      "outputs": [
        {
          "output_type": "execute_result",
          "data": {
            "text/plain": [
              "             Value  Rob. Std err  Rob. t-test  Rob. p-value\n",
              "ASC_rena -7.612799      1.000215    -7.611162  2.708944e-14"
            ],
            "text/html": [
              "\n",
              "  <div id=\"df-00c0da4c-68ef-4c7b-955a-d8aa01d77cd2\">\n",
              "    <div class=\"colab-df-container\">\n",
              "      <div>\n",
              "<style scoped>\n",
              "    .dataframe tbody tr th:only-of-type {\n",
              "        vertical-align: middle;\n",
              "    }\n",
              "\n",
              "    .dataframe tbody tr th {\n",
              "        vertical-align: top;\n",
              "    }\n",
              "\n",
              "    .dataframe thead th {\n",
              "        text-align: right;\n",
              "    }\n",
              "</style>\n",
              "<table border=\"1\" class=\"dataframe\">\n",
              "  <thead>\n",
              "    <tr style=\"text-align: right;\">\n",
              "      <th></th>\n",
              "      <th>Value</th>\n",
              "      <th>Rob. Std err</th>\n",
              "      <th>Rob. t-test</th>\n",
              "      <th>Rob. p-value</th>\n",
              "    </tr>\n",
              "  </thead>\n",
              "  <tbody>\n",
              "    <tr>\n",
              "      <th>ASC_rena</th>\n",
              "      <td>-7.612799</td>\n",
              "      <td>1.000215</td>\n",
              "      <td>-7.611162</td>\n",
              "      <td>2.708944e-14</td>\n",
              "    </tr>\n",
              "  </tbody>\n",
              "</table>\n",
              "</div>\n",
              "      <button class=\"colab-df-convert\" onclick=\"convertToInteractive('df-00c0da4c-68ef-4c7b-955a-d8aa01d77cd2')\"\n",
              "              title=\"Convert this dataframe to an interactive table.\"\n",
              "              style=\"display:none;\">\n",
              "        \n",
              "  <svg xmlns=\"http://www.w3.org/2000/svg\" height=\"24px\"viewBox=\"0 0 24 24\"\n",
              "       width=\"24px\">\n",
              "    <path d=\"M0 0h24v24H0V0z\" fill=\"none\"/>\n",
              "    <path d=\"M18.56 5.44l.94 2.06.94-2.06 2.06-.94-2.06-.94-.94-2.06-.94 2.06-2.06.94zm-11 1L8.5 8.5l.94-2.06 2.06-.94-2.06-.94L8.5 2.5l-.94 2.06-2.06.94zm10 10l.94 2.06.94-2.06 2.06-.94-2.06-.94-.94-2.06-.94 2.06-2.06.94z\"/><path d=\"M17.41 7.96l-1.37-1.37c-.4-.4-.92-.59-1.43-.59-.52 0-1.04.2-1.43.59L10.3 9.45l-7.72 7.72c-.78.78-.78 2.05 0 2.83L4 21.41c.39.39.9.59 1.41.59.51 0 1.02-.2 1.41-.59l7.78-7.78 2.81-2.81c.8-.78.8-2.07 0-2.86zM5.41 20L4 18.59l7.72-7.72 1.47 1.35L5.41 20z\"/>\n",
              "  </svg>\n",
              "      </button>\n",
              "      \n",
              "  <style>\n",
              "    .colab-df-container {\n",
              "      display:flex;\n",
              "      flex-wrap:wrap;\n",
              "      gap: 12px;\n",
              "    }\n",
              "\n",
              "    .colab-df-convert {\n",
              "      background-color: #E8F0FE;\n",
              "      border: none;\n",
              "      border-radius: 50%;\n",
              "      cursor: pointer;\n",
              "      display: none;\n",
              "      fill: #1967D2;\n",
              "      height: 32px;\n",
              "      padding: 0 0 0 0;\n",
              "      width: 32px;\n",
              "    }\n",
              "\n",
              "    .colab-df-convert:hover {\n",
              "      background-color: #E2EBFA;\n",
              "      box-shadow: 0px 1px 2px rgba(60, 64, 67, 0.3), 0px 1px 3px 1px rgba(60, 64, 67, 0.15);\n",
              "      fill: #174EA6;\n",
              "    }\n",
              "\n",
              "    [theme=dark] .colab-df-convert {\n",
              "      background-color: #3B4455;\n",
              "      fill: #D2E3FC;\n",
              "    }\n",
              "\n",
              "    [theme=dark] .colab-df-convert:hover {\n",
              "      background-color: #434B5C;\n",
              "      box-shadow: 0px 1px 3px 1px rgba(0, 0, 0, 0.15);\n",
              "      filter: drop-shadow(0px 1px 2px rgba(0, 0, 0, 0.3));\n",
              "      fill: #FFFFFF;\n",
              "    }\n",
              "  </style>\n",
              "\n",
              "      <script>\n",
              "        const buttonEl =\n",
              "          document.querySelector('#df-00c0da4c-68ef-4c7b-955a-d8aa01d77cd2 button.colab-df-convert');\n",
              "        buttonEl.style.display =\n",
              "          google.colab.kernel.accessAllowed ? 'block' : 'none';\n",
              "\n",
              "        async function convertToInteractive(key) {\n",
              "          const element = document.querySelector('#df-00c0da4c-68ef-4c7b-955a-d8aa01d77cd2');\n",
              "          const dataTable =\n",
              "            await google.colab.kernel.invokeFunction('convertToInteractive',\n",
              "                                                     [key], {});\n",
              "          if (!dataTable) return;\n",
              "\n",
              "          const docLinkHtml = 'Like what you see? Visit the ' +\n",
              "            '<a target=\"_blank\" href=https://colab.research.google.com/notebooks/data_table.ipynb>data table notebook</a>'\n",
              "            + ' to learn more about interactive tables.';\n",
              "          element.innerHTML = '';\n",
              "          dataTable['output_type'] = 'display_data';\n",
              "          await google.colab.output.renderOutput(dataTable, element);\n",
              "          const docLink = document.createElement('div');\n",
              "          docLink.innerHTML = docLinkHtml;\n",
              "          element.appendChild(docLink);\n",
              "        }\n",
              "      </script>\n",
              "    </div>\n",
              "  </div>\n",
              "  "
            ]
          },
          "metadata": {},
          "execution_count": 29
        }
      ]
    },
    {
      "cell_type": "markdown",
      "source": [
        "**Important step**. We need to compute the choice probabilities of the initial model. We will use biogeme for that, but where we pass the Betas, we will set them manually. Notice the dictionary `{'ACS_rena':0}`, this will tell biogeme that the value of the ASC that we fitted is set to 0, manually by us. The rest of the betas are not needed to set manually to 0, because they were set fixed to zero at the time of the definition.\n",
        "\n",
        "We calculate the choice probabilties for the design matrix, we should get equal probs. because the Betas are set to 0, so all alternatives haver the same utility for all values of their attributes."
      ],
      "metadata": {
        "id": "WuE5a1niySLO"
      }
    },
    {
      "cell_type": "code",
      "source": [
        "init_choice_probs=qbus_simulate_bgm(model_base, {'ASC_rena':0}, design_mat)\n",
        "init_choice_probs"
      ],
      "metadata": {
        "colab": {
          "base_uri": "https://localhost:8080/",
          "height": 424
        },
        "id": "8-GAbZoJ5WZy",
        "outputId": "6cc71d65-595d-49dc-ccd5-786244524ec0"
      },
      "execution_count": 18,
      "outputs": [
        {
          "output_type": "execute_result",
          "data": {
            "text/plain": [
              "        1    2\n",
              "0     0.5  0.5\n",
              "1     0.5  0.5\n",
              "2     0.5  0.5\n",
              "3     0.5  0.5\n",
              "4     0.5  0.5\n",
              "...   ...  ...\n",
              "2020  0.5  0.5\n",
              "2021  0.5  0.5\n",
              "2022  0.5  0.5\n",
              "2023  0.5  0.5\n",
              "2024  0.5  0.5\n",
              "\n",
              "[2025 rows x 2 columns]"
            ],
            "text/html": [
              "\n",
              "  <div id=\"df-b2f09415-00ec-408d-9908-939c5902d026\">\n",
              "    <div class=\"colab-df-container\">\n",
              "      <div>\n",
              "<style scoped>\n",
              "    .dataframe tbody tr th:only-of-type {\n",
              "        vertical-align: middle;\n",
              "    }\n",
              "\n",
              "    .dataframe tbody tr th {\n",
              "        vertical-align: top;\n",
              "    }\n",
              "\n",
              "    .dataframe thead th {\n",
              "        text-align: right;\n",
              "    }\n",
              "</style>\n",
              "<table border=\"1\" class=\"dataframe\">\n",
              "  <thead>\n",
              "    <tr style=\"text-align: right;\">\n",
              "      <th></th>\n",
              "      <th>1</th>\n",
              "      <th>2</th>\n",
              "    </tr>\n",
              "  </thead>\n",
              "  <tbody>\n",
              "    <tr>\n",
              "      <th>0</th>\n",
              "      <td>0.5</td>\n",
              "      <td>0.5</td>\n",
              "    </tr>\n",
              "    <tr>\n",
              "      <th>1</th>\n",
              "      <td>0.5</td>\n",
              "      <td>0.5</td>\n",
              "    </tr>\n",
              "    <tr>\n",
              "      <th>2</th>\n",
              "      <td>0.5</td>\n",
              "      <td>0.5</td>\n",
              "    </tr>\n",
              "    <tr>\n",
              "      <th>3</th>\n",
              "      <td>0.5</td>\n",
              "      <td>0.5</td>\n",
              "    </tr>\n",
              "    <tr>\n",
              "      <th>4</th>\n",
              "      <td>0.5</td>\n",
              "      <td>0.5</td>\n",
              "    </tr>\n",
              "    <tr>\n",
              "      <th>...</th>\n",
              "      <td>...</td>\n",
              "      <td>...</td>\n",
              "    </tr>\n",
              "    <tr>\n",
              "      <th>2020</th>\n",
              "      <td>0.5</td>\n",
              "      <td>0.5</td>\n",
              "    </tr>\n",
              "    <tr>\n",
              "      <th>2021</th>\n",
              "      <td>0.5</td>\n",
              "      <td>0.5</td>\n",
              "    </tr>\n",
              "    <tr>\n",
              "      <th>2022</th>\n",
              "      <td>0.5</td>\n",
              "      <td>0.5</td>\n",
              "    </tr>\n",
              "    <tr>\n",
              "      <th>2023</th>\n",
              "      <td>0.5</td>\n",
              "      <td>0.5</td>\n",
              "    </tr>\n",
              "    <tr>\n",
              "      <th>2024</th>\n",
              "      <td>0.5</td>\n",
              "      <td>0.5</td>\n",
              "    </tr>\n",
              "  </tbody>\n",
              "</table>\n",
              "<p>2025 rows × 2 columns</p>\n",
              "</div>\n",
              "      <button class=\"colab-df-convert\" onclick=\"convertToInteractive('df-b2f09415-00ec-408d-9908-939c5902d026')\"\n",
              "              title=\"Convert this dataframe to an interactive table.\"\n",
              "              style=\"display:none;\">\n",
              "        \n",
              "  <svg xmlns=\"http://www.w3.org/2000/svg\" height=\"24px\"viewBox=\"0 0 24 24\"\n",
              "       width=\"24px\">\n",
              "    <path d=\"M0 0h24v24H0V0z\" fill=\"none\"/>\n",
              "    <path d=\"M18.56 5.44l.94 2.06.94-2.06 2.06-.94-2.06-.94-.94-2.06-.94 2.06-2.06.94zm-11 1L8.5 8.5l.94-2.06 2.06-.94-2.06-.94L8.5 2.5l-.94 2.06-2.06.94zm10 10l.94 2.06.94-2.06 2.06-.94-2.06-.94-.94-2.06-.94 2.06-2.06.94z\"/><path d=\"M17.41 7.96l-1.37-1.37c-.4-.4-.92-.59-1.43-.59-.52 0-1.04.2-1.43.59L10.3 9.45l-7.72 7.72c-.78.78-.78 2.05 0 2.83L4 21.41c.39.39.9.59 1.41.59.51 0 1.02-.2 1.41-.59l7.78-7.78 2.81-2.81c.8-.78.8-2.07 0-2.86zM5.41 20L4 18.59l7.72-7.72 1.47 1.35L5.41 20z\"/>\n",
              "  </svg>\n",
              "      </button>\n",
              "      \n",
              "  <style>\n",
              "    .colab-df-container {\n",
              "      display:flex;\n",
              "      flex-wrap:wrap;\n",
              "      gap: 12px;\n",
              "    }\n",
              "\n",
              "    .colab-df-convert {\n",
              "      background-color: #E8F0FE;\n",
              "      border: none;\n",
              "      border-radius: 50%;\n",
              "      cursor: pointer;\n",
              "      display: none;\n",
              "      fill: #1967D2;\n",
              "      height: 32px;\n",
              "      padding: 0 0 0 0;\n",
              "      width: 32px;\n",
              "    }\n",
              "\n",
              "    .colab-df-convert:hover {\n",
              "      background-color: #E2EBFA;\n",
              "      box-shadow: 0px 1px 2px rgba(60, 64, 67, 0.3), 0px 1px 3px 1px rgba(60, 64, 67, 0.15);\n",
              "      fill: #174EA6;\n",
              "    }\n",
              "\n",
              "    [theme=dark] .colab-df-convert {\n",
              "      background-color: #3B4455;\n",
              "      fill: #D2E3FC;\n",
              "    }\n",
              "\n",
              "    [theme=dark] .colab-df-convert:hover {\n",
              "      background-color: #434B5C;\n",
              "      box-shadow: 0px 1px 3px 1px rgba(0, 0, 0, 0.15);\n",
              "      filter: drop-shadow(0px 1px 2px rgba(0, 0, 0, 0.3));\n",
              "      fill: #FFFFFF;\n",
              "    }\n",
              "  </style>\n",
              "\n",
              "      <script>\n",
              "        const buttonEl =\n",
              "          document.querySelector('#df-b2f09415-00ec-408d-9908-939c5902d026 button.colab-df-convert');\n",
              "        buttonEl.style.display =\n",
              "          google.colab.kernel.accessAllowed ? 'block' : 'none';\n",
              "\n",
              "        async function convertToInteractive(key) {\n",
              "          const element = document.querySelector('#df-b2f09415-00ec-408d-9908-939c5902d026');\n",
              "          const dataTable =\n",
              "            await google.colab.kernel.invokeFunction('convertToInteractive',\n",
              "                                                     [key], {});\n",
              "          if (!dataTable) return;\n",
              "\n",
              "          const docLinkHtml = 'Like what you see? Visit the ' +\n",
              "            '<a target=\"_blank\" href=https://colab.research.google.com/notebooks/data_table.ipynb>data table notebook</a>'\n",
              "            + ' to learn more about interactive tables.';\n",
              "          element.innerHTML = '';\n",
              "          dataTable['output_type'] = 'display_data';\n",
              "          await google.colab.output.renderOutput(dataTable, element);\n",
              "          const docLink = document.createElement('div');\n",
              "          docLink.innerHTML = docLinkHtml;\n",
              "          element.appendChild(docLink);\n",
              "        }\n",
              "      </script>\n",
              "    </div>\n",
              "  </div>\n",
              "  "
            ]
          },
          "metadata": {},
          "execution_count": 18
        }
      ]
    },
    {
      "cell_type": "markdown",
      "source": [
        "# Estimating the d-efficiency for choice models.\n",
        "\n",
        "With the initial choice probabilities and the design matrix we can compute the efficiency following the above for the covariance for the betas, and the formula in the lectures for the d-efficienty based on the determinant of the covariance of the betas.\n",
        "\n",
        "Programmatically it is a bit tricky, so we have this function `calc_mnl_cov`. \n",
        "\n",
        " **Important, you might want to reuse it for the group assignment**. The function gets as arguments, a design matrix, the choice probabilities, and we have also to pass them the number of alternatives and the number of attribures per alternatives."
      ],
      "metadata": {
        "id": "gCOThVjYzh8x"
      }
    },
    {
      "cell_type": "code",
      "source": [
        "def calc_mnl_cov(design_m, cprobs, num_alt, attrs_per_alt):\n",
        "  P_rep = np.repeat(cprobs.to_numpy(), np.repeat(attrs_per_alt, num_alt), axis=1)\n",
        "  XP_rep = np.repeat((design_m.to_numpy()*P_rep).sum(axis=1).T.reshape(-1,1), 6, axis=1)\n",
        "  Z = design_m - XP_rep\n",
        "  ZPZ = np.matmul(Z.T, P_rep*Z.to_numpy())\n",
        "  covMNL = np.linalg.inv(ZPZ)\n",
        "  return covMNL"
      ],
      "metadata": {
        "id": "fTZmFOA20yIC"
      },
      "execution_count": 19,
      "outputs": []
    },
    {
      "cell_type": "code",
      "source": [
        "covMNL = calc_mnl_cov(design_mat, init_choice_probs, 2, 3)"
      ],
      "metadata": {
        "id": "B_VLtw7R1tEF"
      },
      "execution_count": 20,
      "outputs": []
    },
    {
      "cell_type": "markdown",
      "source": [
        "The definition of d-efficiency:"
      ],
      "metadata": {
        "id": "v7icJFCeDsc1"
      }
    },
    {
      "cell_type": "code",
      "source": [
        "def d_effic(covMAT):\n",
        "  return np.power( np.linalg.det(covMAT), 1 / (covMAT.shape[0] + 1) )"
      ],
      "metadata": {
        "id": "HDpM9DyrBwhw"
      },
      "execution_count": 21,
      "outputs": []
    },
    {
      "cell_type": "markdown",
      "source": [
        "And we can calculate the efficiency, finally."
      ],
      "metadata": {
        "id": "i88JyQiHDvMZ"
      }
    },
    {
      "cell_type": "code",
      "source": [
        "d_effic(covMNL)"
      ],
      "metadata": {
        "colab": {
          "base_uri": "https://localhost:8080/"
        },
        "id": "1DAHE-JmCdKx",
        "outputId": "25ae4bf6-38c0-4288-ee5b-0f37154b04ee"
      },
      "execution_count": 22,
      "outputs": [
        {
          "output_type": "execute_result",
          "data": {
            "text/plain": [
              "7.123314013365285e-07"
            ]
          },
          "metadata": {},
          "execution_count": 22
        }
      ]
    },
    {
      "cell_type": "markdown",
      "metadata": {
        "id": "cQ1qdKzNGVlK"
      },
      "source": [
        "#Finding good designs by random search\n",
        "\n",
        "Our actual goal is to find a good subset of the full factorial design matrix.\n",
        "There are some sophisticated ways of findining it, it is an optimization problem that mathematicians have studied.\n",
        "\n",
        "We will use random search, we will compare many possible subsets of the full design matrix, and pick the best one.\n",
        "\n",
        "\n"
      ]
    },
    {
      "cell_type": "markdown",
      "source": [
        "Set the size of the experiment, say 100 rows."
      ],
      "metadata": {
        "id": "q7CtjUsU2Ryr"
      }
    },
    {
      "cell_type": "code",
      "source": [
        "N = 100"
      ],
      "metadata": {
        "id": "3iOTJJHpDJiZ"
      },
      "execution_count": 23,
      "outputs": []
    },
    {
      "cell_type": "markdown",
      "source": [
        "Get a random subset of the design matrix.\n",
        "The python function `np.random.choice` generates random integers for a given range. We pass as range, the number of rows in the full design matrix.\n",
        "We use sampling without replacement, but you can use replacement, it could repeat rows of the design, but as long as the efficiency is OK, we are good to go."
      ],
      "metadata": {
        "id": "sn8vsXBs6D_s"
      }
    },
    {
      "cell_type": "code",
      "metadata": {
        "id": "kbVbA_dIGaIv",
        "outputId": "0c7ad921-47a5-4101-85fb-859d5fd524a5",
        "colab": {
          "base_uri": "https://localhost:8080/"
        }
      },
      "source": [
        "np.random.seed(1234) \n",
        "\n",
        "selected_rows = np.random.choice(design_mat.shape[0], N, replace=False)\n",
        "selected_rows"
      ],
      "execution_count": 24,
      "outputs": [
        {
          "output_type": "execute_result",
          "data": {
            "text/plain": [
              "array([ 685,  878,  486,  937,  891,  362,  456, 1878,  984,  894, 1741,\n",
              "        881,  995,   69,  697, 1523,  310,  184, 1381, 1928,   90, 1303,\n",
              "       1468,  265,  466, 1418,  114,   21,  123,  483, 1190,  802, 1933,\n",
              "        202,  218,  492, 1476,  808,  266,  338,  463, 1446, 1910, 1670,\n",
              "       1635, 1157,  316,  276, 1644, 1023, 1888, 1113,  220,  234,  836,\n",
              "       1563,  284, 1456,  570,  791, 1719,  216, 1861, 1375, 1049,  709,\n",
              "        884, 1602, 1823, 1409,  950,  214, 1988,  839, 1419,  315, 1143,\n",
              "       1651, 1742,  646, 1086, 1291,  188, 1199, 1334,  441, 1637,  668,\n",
              "        921, 1107,  319,  190,  982,  154, 1634, 1646,  750, 1198, 1522,\n",
              "       1779])"
            ]
          },
          "metadata": {},
          "execution_count": 24
        }
      ]
    },
    {
      "cell_type": "markdown",
      "source": [
        "Lets look at how this subdesign looks like"
      ],
      "metadata": {
        "id": "iTrNzTB47pm_"
      }
    },
    {
      "cell_type": "code",
      "source": [
        "sub_design = design_mat.iloc[selected_rows,:]\n",
        "sub_design"
      ],
      "metadata": {
        "id": "_rl7qiIz61wb",
        "outputId": "43711882-ed4e-43db-bc35-7d6b31517f25",
        "colab": {
          "base_uri": "https://localhost:8080/",
          "height": 424
        }
      },
      "execution_count": 25,
      "outputs": [
        {
          "output_type": "execute_result",
          "data": {
            "text/plain": [
              "      price_toyo  power_toyo  engine_type_toyo  price_rena  power_rena  \\\n",
              "685      30000.0       130.0               0.0     20000.0       220.0   \n",
              "878      30000.0       130.0               4.0     30000.0       170.0   \n",
              "486      20000.0       220.0               0.0     40000.0       170.0   \n",
              "937      30000.0       170.0               0.0     40000.0       170.0   \n",
              "891      30000.0       130.0               4.0     40000.0       170.0   \n",
              "...          ...         ...               ...         ...         ...   \n",
              "1646     40000.0       170.0               1.0     30000.0       220.0   \n",
              "750      30000.0       130.0               1.0     40000.0       130.0   \n",
              "1198     30000.0       220.0               1.0     30000.0       220.0   \n",
              "1522     40000.0       130.0               3.0     40000.0       170.0   \n",
              "1779     40000.0       170.0               4.0     30000.0       170.0   \n",
              "\n",
              "      engine_type_rena  \n",
              "685                0.0  \n",
              "878                3.0  \n",
              "486                1.0  \n",
              "937                2.0  \n",
              "891                1.0  \n",
              "...                ...  \n",
              "1646               1.0  \n",
              "750                0.0  \n",
              "1198               3.0  \n",
              "1522               2.0  \n",
              "1779               4.0  \n",
              "\n",
              "[100 rows x 6 columns]"
            ],
            "text/html": [
              "\n",
              "  <div id=\"df-1a79a143-3e45-4700-ac04-d9404f21a1dd\">\n",
              "    <div class=\"colab-df-container\">\n",
              "      <div>\n",
              "<style scoped>\n",
              "    .dataframe tbody tr th:only-of-type {\n",
              "        vertical-align: middle;\n",
              "    }\n",
              "\n",
              "    .dataframe tbody tr th {\n",
              "        vertical-align: top;\n",
              "    }\n",
              "\n",
              "    .dataframe thead th {\n",
              "        text-align: right;\n",
              "    }\n",
              "</style>\n",
              "<table border=\"1\" class=\"dataframe\">\n",
              "  <thead>\n",
              "    <tr style=\"text-align: right;\">\n",
              "      <th></th>\n",
              "      <th>price_toyo</th>\n",
              "      <th>power_toyo</th>\n",
              "      <th>engine_type_toyo</th>\n",
              "      <th>price_rena</th>\n",
              "      <th>power_rena</th>\n",
              "      <th>engine_type_rena</th>\n",
              "    </tr>\n",
              "  </thead>\n",
              "  <tbody>\n",
              "    <tr>\n",
              "      <th>685</th>\n",
              "      <td>30000.0</td>\n",
              "      <td>130.0</td>\n",
              "      <td>0.0</td>\n",
              "      <td>20000.0</td>\n",
              "      <td>220.0</td>\n",
              "      <td>0.0</td>\n",
              "    </tr>\n",
              "    <tr>\n",
              "      <th>878</th>\n",
              "      <td>30000.0</td>\n",
              "      <td>130.0</td>\n",
              "      <td>4.0</td>\n",
              "      <td>30000.0</td>\n",
              "      <td>170.0</td>\n",
              "      <td>3.0</td>\n",
              "    </tr>\n",
              "    <tr>\n",
              "      <th>486</th>\n",
              "      <td>20000.0</td>\n",
              "      <td>220.0</td>\n",
              "      <td>0.0</td>\n",
              "      <td>40000.0</td>\n",
              "      <td>170.0</td>\n",
              "      <td>1.0</td>\n",
              "    </tr>\n",
              "    <tr>\n",
              "      <th>937</th>\n",
              "      <td>30000.0</td>\n",
              "      <td>170.0</td>\n",
              "      <td>0.0</td>\n",
              "      <td>40000.0</td>\n",
              "      <td>170.0</td>\n",
              "      <td>2.0</td>\n",
              "    </tr>\n",
              "    <tr>\n",
              "      <th>891</th>\n",
              "      <td>30000.0</td>\n",
              "      <td>130.0</td>\n",
              "      <td>4.0</td>\n",
              "      <td>40000.0</td>\n",
              "      <td>170.0</td>\n",
              "      <td>1.0</td>\n",
              "    </tr>\n",
              "    <tr>\n",
              "      <th>...</th>\n",
              "      <td>...</td>\n",
              "      <td>...</td>\n",
              "      <td>...</td>\n",
              "      <td>...</td>\n",
              "      <td>...</td>\n",
              "      <td>...</td>\n",
              "    </tr>\n",
              "    <tr>\n",
              "      <th>1646</th>\n",
              "      <td>40000.0</td>\n",
              "      <td>170.0</td>\n",
              "      <td>1.0</td>\n",
              "      <td>30000.0</td>\n",
              "      <td>220.0</td>\n",
              "      <td>1.0</td>\n",
              "    </tr>\n",
              "    <tr>\n",
              "      <th>750</th>\n",
              "      <td>30000.0</td>\n",
              "      <td>130.0</td>\n",
              "      <td>1.0</td>\n",
              "      <td>40000.0</td>\n",
              "      <td>130.0</td>\n",
              "      <td>0.0</td>\n",
              "    </tr>\n",
              "    <tr>\n",
              "      <th>1198</th>\n",
              "      <td>30000.0</td>\n",
              "      <td>220.0</td>\n",
              "      <td>1.0</td>\n",
              "      <td>30000.0</td>\n",
              "      <td>220.0</td>\n",
              "      <td>3.0</td>\n",
              "    </tr>\n",
              "    <tr>\n",
              "      <th>1522</th>\n",
              "      <td>40000.0</td>\n",
              "      <td>130.0</td>\n",
              "      <td>3.0</td>\n",
              "      <td>40000.0</td>\n",
              "      <td>170.0</td>\n",
              "      <td>2.0</td>\n",
              "    </tr>\n",
              "    <tr>\n",
              "      <th>1779</th>\n",
              "      <td>40000.0</td>\n",
              "      <td>170.0</td>\n",
              "      <td>4.0</td>\n",
              "      <td>30000.0</td>\n",
              "      <td>170.0</td>\n",
              "      <td>4.0</td>\n",
              "    </tr>\n",
              "  </tbody>\n",
              "</table>\n",
              "<p>100 rows × 6 columns</p>\n",
              "</div>\n",
              "      <button class=\"colab-df-convert\" onclick=\"convertToInteractive('df-1a79a143-3e45-4700-ac04-d9404f21a1dd')\"\n",
              "              title=\"Convert this dataframe to an interactive table.\"\n",
              "              style=\"display:none;\">\n",
              "        \n",
              "  <svg xmlns=\"http://www.w3.org/2000/svg\" height=\"24px\"viewBox=\"0 0 24 24\"\n",
              "       width=\"24px\">\n",
              "    <path d=\"M0 0h24v24H0V0z\" fill=\"none\"/>\n",
              "    <path d=\"M18.56 5.44l.94 2.06.94-2.06 2.06-.94-2.06-.94-.94-2.06-.94 2.06-2.06.94zm-11 1L8.5 8.5l.94-2.06 2.06-.94-2.06-.94L8.5 2.5l-.94 2.06-2.06.94zm10 10l.94 2.06.94-2.06 2.06-.94-2.06-.94-.94-2.06-.94 2.06-2.06.94z\"/><path d=\"M17.41 7.96l-1.37-1.37c-.4-.4-.92-.59-1.43-.59-.52 0-1.04.2-1.43.59L10.3 9.45l-7.72 7.72c-.78.78-.78 2.05 0 2.83L4 21.41c.39.39.9.59 1.41.59.51 0 1.02-.2 1.41-.59l7.78-7.78 2.81-2.81c.8-.78.8-2.07 0-2.86zM5.41 20L4 18.59l7.72-7.72 1.47 1.35L5.41 20z\"/>\n",
              "  </svg>\n",
              "      </button>\n",
              "      \n",
              "  <style>\n",
              "    .colab-df-container {\n",
              "      display:flex;\n",
              "      flex-wrap:wrap;\n",
              "      gap: 12px;\n",
              "    }\n",
              "\n",
              "    .colab-df-convert {\n",
              "      background-color: #E8F0FE;\n",
              "      border: none;\n",
              "      border-radius: 50%;\n",
              "      cursor: pointer;\n",
              "      display: none;\n",
              "      fill: #1967D2;\n",
              "      height: 32px;\n",
              "      padding: 0 0 0 0;\n",
              "      width: 32px;\n",
              "    }\n",
              "\n",
              "    .colab-df-convert:hover {\n",
              "      background-color: #E2EBFA;\n",
              "      box-shadow: 0px 1px 2px rgba(60, 64, 67, 0.3), 0px 1px 3px 1px rgba(60, 64, 67, 0.15);\n",
              "      fill: #174EA6;\n",
              "    }\n",
              "\n",
              "    [theme=dark] .colab-df-convert {\n",
              "      background-color: #3B4455;\n",
              "      fill: #D2E3FC;\n",
              "    }\n",
              "\n",
              "    [theme=dark] .colab-df-convert:hover {\n",
              "      background-color: #434B5C;\n",
              "      box-shadow: 0px 1px 3px 1px rgba(0, 0, 0, 0.15);\n",
              "      filter: drop-shadow(0px 1px 2px rgba(0, 0, 0, 0.3));\n",
              "      fill: #FFFFFF;\n",
              "    }\n",
              "  </style>\n",
              "\n",
              "      <script>\n",
              "        const buttonEl =\n",
              "          document.querySelector('#df-1a79a143-3e45-4700-ac04-d9404f21a1dd button.colab-df-convert');\n",
              "        buttonEl.style.display =\n",
              "          google.colab.kernel.accessAllowed ? 'block' : 'none';\n",
              "\n",
              "        async function convertToInteractive(key) {\n",
              "          const element = document.querySelector('#df-1a79a143-3e45-4700-ac04-d9404f21a1dd');\n",
              "          const dataTable =\n",
              "            await google.colab.kernel.invokeFunction('convertToInteractive',\n",
              "                                                     [key], {});\n",
              "          if (!dataTable) return;\n",
              "\n",
              "          const docLinkHtml = 'Like what you see? Visit the ' +\n",
              "            '<a target=\"_blank\" href=https://colab.research.google.com/notebooks/data_table.ipynb>data table notebook</a>'\n",
              "            + ' to learn more about interactive tables.';\n",
              "          element.innerHTML = '';\n",
              "          dataTable['output_type'] = 'display_data';\n",
              "          await google.colab.output.renderOutput(dataTable, element);\n",
              "          const docLink = document.createElement('div');\n",
              "          docLink.innerHTML = docLinkHtml;\n",
              "          element.appendChild(docLink);\n",
              "        }\n",
              "      </script>\n",
              "    </div>\n",
              "  </div>\n",
              "  "
            ]
          },
          "metadata": {},
          "execution_count": 25
        }
      ]
    },
    {
      "cell_type": "markdown",
      "source": [
        "Compute the efficiency for that design."
      ],
      "metadata": {
        "id": "jFfssNoe7xSt"
      }
    },
    {
      "cell_type": "code",
      "metadata": {
        "id": "yTH-BHFAHG89",
        "outputId": "5c45fd14-76e5-41da-832c-9ca2ed0663de",
        "colab": {
          "base_uri": "https://localhost:8080/"
        }
      },
      "source": [
        "sub_probs = qbus_simulate_bgm(model_base, {'ASC_rena':0}, sub_design)\n",
        "sub_covMNL = calc_mnl_cov(sub_design, sub_probs, 2, 3)\n",
        "d_effic(sub_covMNL)"
      ],
      "execution_count": 26,
      "outputs": [
        {
          "output_type": "execute_result",
          "data": {
            "text/plain": [
              "9.69990271225827e-06"
            ]
          },
          "metadata": {},
          "execution_count": 26
        }
      ]
    },
    {
      "cell_type": "markdown",
      "source": [
        "Put everything in a `for` loop, and run 250 times, pick the best sub design."
      ],
      "metadata": {
        "id": "qIk-7Xon8kjN"
      }
    },
    {
      "cell_type": "code",
      "metadata": {
        "id": "WeqR0NsqHDq5",
        "outputId": "e5732425-7d80-4caf-a9cf-cc060ef6ea6a",
        "colab": {
          "base_uri": "https://localhost:8080/"
        }
      },
      "source": [
        "best_rows = None\n",
        "best_effic = 9999\n",
        "for i in range(250):\n",
        "  selected_rows = np.random.choice(design_mat.shape[0], N, replace=False)\n",
        "  sub_design = design_mat.iloc[selected_rows,:]\n",
        "  sub_probs = qbus_simulate_bgm(model_base, {'ASC_rena':0}, sub_design)\n",
        "  sub_covMNL = calc_mnl_cov(sub_design, sub_probs, 2, 3)\n",
        "  d_ef = d_effic(sub_covMNL)\n",
        "  if (d_ef < best_effic):\n",
        "    best_effic = d_ef\n",
        "    print('New best efficiency found!', best_effic)\n",
        "    best_rows = selected_rows\n"
      ],
      "execution_count": 27,
      "outputs": [
        {
          "output_type": "stream",
          "name": "stdout",
          "text": [
            "New best efficiency found! 9.403906999879586e-06\n",
            "New best efficiency found! 9.356175086759439e-06\n",
            "New best efficiency found! 9.08633026111215e-06\n",
            "New best efficiency found! 9.001191933946822e-06\n",
            "New best efficiency found! 8.966224621314157e-06\n"
          ]
        }
      ]
    },
    {
      "cell_type": "markdown",
      "source": [
        "Lets print the best design found"
      ],
      "metadata": {
        "id": "EC3YSJh9_ZWG"
      }
    },
    {
      "cell_type": "code",
      "source": [
        "design_mat.iloc[best_rows,:]"
      ],
      "metadata": {
        "id": "FRyW2un8_YHa",
        "outputId": "4d85d6e8-4a0b-4c50-ca31-5d26c1cced43",
        "colab": {
          "base_uri": "https://localhost:8080/",
          "height": 424
        }
      },
      "execution_count": 28,
      "outputs": [
        {
          "output_type": "execute_result",
          "data": {
            "text/plain": [
              "      price_toyo  power_toyo  engine_type_toyo  price_rena  power_rena  \\\n",
              "1544     40000.0       130.0               4.0     20000.0       220.0   \n",
              "34       20000.0       130.0               0.0     40000.0       130.0   \n",
              "415      20000.0       170.0               4.0     20000.0       220.0   \n",
              "1173     30000.0       220.0               1.0     20000.0       130.0   \n",
              "1483     40000.0       130.0               2.0     40000.0       220.0   \n",
              "...          ...         ...               ...         ...         ...   \n",
              "1400     40000.0       130.0               1.0     20000.0       170.0   \n",
              "1160     30000.0       220.0               0.0     40000.0       170.0   \n",
              "133      20000.0       130.0               2.0     40000.0       220.0   \n",
              "1313     30000.0       220.0               4.0     20000.0       170.0   \n",
              "690      30000.0       130.0               0.0     30000.0       130.0   \n",
              "\n",
              "      engine_type_rena  \n",
              "1544               4.0  \n",
              "34                 4.0  \n",
              "415                0.0  \n",
              "1173               3.0  \n",
              "1483               3.0  \n",
              "...                ...  \n",
              "1400               0.0  \n",
              "1160               0.0  \n",
              "133                3.0  \n",
              "1313               3.0  \n",
              "690                0.0  \n",
              "\n",
              "[100 rows x 6 columns]"
            ],
            "text/html": [
              "\n",
              "  <div id=\"df-b0d73b42-f429-48fb-b345-87166cd11756\">\n",
              "    <div class=\"colab-df-container\">\n",
              "      <div>\n",
              "<style scoped>\n",
              "    .dataframe tbody tr th:only-of-type {\n",
              "        vertical-align: middle;\n",
              "    }\n",
              "\n",
              "    .dataframe tbody tr th {\n",
              "        vertical-align: top;\n",
              "    }\n",
              "\n",
              "    .dataframe thead th {\n",
              "        text-align: right;\n",
              "    }\n",
              "</style>\n",
              "<table border=\"1\" class=\"dataframe\">\n",
              "  <thead>\n",
              "    <tr style=\"text-align: right;\">\n",
              "      <th></th>\n",
              "      <th>price_toyo</th>\n",
              "      <th>power_toyo</th>\n",
              "      <th>engine_type_toyo</th>\n",
              "      <th>price_rena</th>\n",
              "      <th>power_rena</th>\n",
              "      <th>engine_type_rena</th>\n",
              "    </tr>\n",
              "  </thead>\n",
              "  <tbody>\n",
              "    <tr>\n",
              "      <th>1544</th>\n",
              "      <td>40000.0</td>\n",
              "      <td>130.0</td>\n",
              "      <td>4.0</td>\n",
              "      <td>20000.0</td>\n",
              "      <td>220.0</td>\n",
              "      <td>4.0</td>\n",
              "    </tr>\n",
              "    <tr>\n",
              "      <th>34</th>\n",
              "      <td>20000.0</td>\n",
              "      <td>130.0</td>\n",
              "      <td>0.0</td>\n",
              "      <td>40000.0</td>\n",
              "      <td>130.0</td>\n",
              "      <td>4.0</td>\n",
              "    </tr>\n",
              "    <tr>\n",
              "      <th>415</th>\n",
              "      <td>20000.0</td>\n",
              "      <td>170.0</td>\n",
              "      <td>4.0</td>\n",
              "      <td>20000.0</td>\n",
              "      <td>220.0</td>\n",
              "      <td>0.0</td>\n",
              "    </tr>\n",
              "    <tr>\n",
              "      <th>1173</th>\n",
              "      <td>30000.0</td>\n",
              "      <td>220.0</td>\n",
              "      <td>1.0</td>\n",
              "      <td>20000.0</td>\n",
              "      <td>130.0</td>\n",
              "      <td>3.0</td>\n",
              "    </tr>\n",
              "    <tr>\n",
              "      <th>1483</th>\n",
              "      <td>40000.0</td>\n",
              "      <td>130.0</td>\n",
              "      <td>2.0</td>\n",
              "      <td>40000.0</td>\n",
              "      <td>220.0</td>\n",
              "      <td>3.0</td>\n",
              "    </tr>\n",
              "    <tr>\n",
              "      <th>...</th>\n",
              "      <td>...</td>\n",
              "      <td>...</td>\n",
              "      <td>...</td>\n",
              "      <td>...</td>\n",
              "      <td>...</td>\n",
              "      <td>...</td>\n",
              "    </tr>\n",
              "    <tr>\n",
              "      <th>1400</th>\n",
              "      <td>40000.0</td>\n",
              "      <td>130.0</td>\n",
              "      <td>1.0</td>\n",
              "      <td>20000.0</td>\n",
              "      <td>170.0</td>\n",
              "      <td>0.0</td>\n",
              "    </tr>\n",
              "    <tr>\n",
              "      <th>1160</th>\n",
              "      <td>30000.0</td>\n",
              "      <td>220.0</td>\n",
              "      <td>0.0</td>\n",
              "      <td>40000.0</td>\n",
              "      <td>170.0</td>\n",
              "      <td>0.0</td>\n",
              "    </tr>\n",
              "    <tr>\n",
              "      <th>133</th>\n",
              "      <td>20000.0</td>\n",
              "      <td>130.0</td>\n",
              "      <td>2.0</td>\n",
              "      <td>40000.0</td>\n",
              "      <td>220.0</td>\n",
              "      <td>3.0</td>\n",
              "    </tr>\n",
              "    <tr>\n",
              "      <th>1313</th>\n",
              "      <td>30000.0</td>\n",
              "      <td>220.0</td>\n",
              "      <td>4.0</td>\n",
              "      <td>20000.0</td>\n",
              "      <td>170.0</td>\n",
              "      <td>3.0</td>\n",
              "    </tr>\n",
              "    <tr>\n",
              "      <th>690</th>\n",
              "      <td>30000.0</td>\n",
              "      <td>130.0</td>\n",
              "      <td>0.0</td>\n",
              "      <td>30000.0</td>\n",
              "      <td>130.0</td>\n",
              "      <td>0.0</td>\n",
              "    </tr>\n",
              "  </tbody>\n",
              "</table>\n",
              "<p>100 rows × 6 columns</p>\n",
              "</div>\n",
              "      <button class=\"colab-df-convert\" onclick=\"convertToInteractive('df-b0d73b42-f429-48fb-b345-87166cd11756')\"\n",
              "              title=\"Convert this dataframe to an interactive table.\"\n",
              "              style=\"display:none;\">\n",
              "        \n",
              "  <svg xmlns=\"http://www.w3.org/2000/svg\" height=\"24px\"viewBox=\"0 0 24 24\"\n",
              "       width=\"24px\">\n",
              "    <path d=\"M0 0h24v24H0V0z\" fill=\"none\"/>\n",
              "    <path d=\"M18.56 5.44l.94 2.06.94-2.06 2.06-.94-2.06-.94-.94-2.06-.94 2.06-2.06.94zm-11 1L8.5 8.5l.94-2.06 2.06-.94-2.06-.94L8.5 2.5l-.94 2.06-2.06.94zm10 10l.94 2.06.94-2.06 2.06-.94-2.06-.94-.94-2.06-.94 2.06-2.06.94z\"/><path d=\"M17.41 7.96l-1.37-1.37c-.4-.4-.92-.59-1.43-.59-.52 0-1.04.2-1.43.59L10.3 9.45l-7.72 7.72c-.78.78-.78 2.05 0 2.83L4 21.41c.39.39.9.59 1.41.59.51 0 1.02-.2 1.41-.59l7.78-7.78 2.81-2.81c.8-.78.8-2.07 0-2.86zM5.41 20L4 18.59l7.72-7.72 1.47 1.35L5.41 20z\"/>\n",
              "  </svg>\n",
              "      </button>\n",
              "      \n",
              "  <style>\n",
              "    .colab-df-container {\n",
              "      display:flex;\n",
              "      flex-wrap:wrap;\n",
              "      gap: 12px;\n",
              "    }\n",
              "\n",
              "    .colab-df-convert {\n",
              "      background-color: #E8F0FE;\n",
              "      border: none;\n",
              "      border-radius: 50%;\n",
              "      cursor: pointer;\n",
              "      display: none;\n",
              "      fill: #1967D2;\n",
              "      height: 32px;\n",
              "      padding: 0 0 0 0;\n",
              "      width: 32px;\n",
              "    }\n",
              "\n",
              "    .colab-df-convert:hover {\n",
              "      background-color: #E2EBFA;\n",
              "      box-shadow: 0px 1px 2px rgba(60, 64, 67, 0.3), 0px 1px 3px 1px rgba(60, 64, 67, 0.15);\n",
              "      fill: #174EA6;\n",
              "    }\n",
              "\n",
              "    [theme=dark] .colab-df-convert {\n",
              "      background-color: #3B4455;\n",
              "      fill: #D2E3FC;\n",
              "    }\n",
              "\n",
              "    [theme=dark] .colab-df-convert:hover {\n",
              "      background-color: #434B5C;\n",
              "      box-shadow: 0px 1px 3px 1px rgba(0, 0, 0, 0.15);\n",
              "      filter: drop-shadow(0px 1px 2px rgba(0, 0, 0, 0.3));\n",
              "      fill: #FFFFFF;\n",
              "    }\n",
              "  </style>\n",
              "\n",
              "      <script>\n",
              "        const buttonEl =\n",
              "          document.querySelector('#df-b0d73b42-f429-48fb-b345-87166cd11756 button.colab-df-convert');\n",
              "        buttonEl.style.display =\n",
              "          google.colab.kernel.accessAllowed ? 'block' : 'none';\n",
              "\n",
              "        async function convertToInteractive(key) {\n",
              "          const element = document.querySelector('#df-b0d73b42-f429-48fb-b345-87166cd11756');\n",
              "          const dataTable =\n",
              "            await google.colab.kernel.invokeFunction('convertToInteractive',\n",
              "                                                     [key], {});\n",
              "          if (!dataTable) return;\n",
              "\n",
              "          const docLinkHtml = 'Like what you see? Visit the ' +\n",
              "            '<a target=\"_blank\" href=https://colab.research.google.com/notebooks/data_table.ipynb>data table notebook</a>'\n",
              "            + ' to learn more about interactive tables.';\n",
              "          element.innerHTML = '';\n",
              "          dataTable['output_type'] = 'display_data';\n",
              "          await google.colab.output.renderOutput(dataTable, element);\n",
              "          const docLink = document.createElement('div');\n",
              "          docLink.innerHTML = docLinkHtml;\n",
              "          element.appendChild(docLink);\n",
              "        }\n",
              "      </script>\n",
              "    </div>\n",
              "  </div>\n",
              "  "
            ]
          },
          "metadata": {},
          "execution_count": 28
        }
      ]
    },
    {
      "cell_type": "markdown",
      "source": [
        "#Exercise 1) Think of some good initial coefficients that are not zero, and run the search again using that model for the choice probabilities. Notice the differences? What are the choice probs of the original subset found (under the new coefficients)  vs the new subset found?"
      ],
      "metadata": {
        "id": "8oHhhLn0EYLS"
      }
    },
    {
      "cell_type": "code",
      "source": [],
      "metadata": {
        "id": "iAjTzFLzFA03"
      },
      "execution_count": null,
      "outputs": []
    },
    {
      "cell_type": "markdown",
      "source": [
        "#Exercise 2) Encode the engine_type as binary dummy and find a good experiment of 100 rows."
      ],
      "metadata": {
        "id": "MDGSaQ16EKR_"
      }
    },
    {
      "cell_type": "code",
      "source": [],
      "metadata": {
        "id": "Lcpp3J6PEW4d"
      },
      "execution_count": null,
      "outputs": []
    }
  ]
}