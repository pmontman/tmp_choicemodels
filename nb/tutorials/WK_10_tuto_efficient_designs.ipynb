{
  "nbformat": 4,
  "nbformat_minor": 0,
  "metadata": {
    "colab": {
      "name": "10_efficient_designs",
      "provenance": [],
      "authorship_tag": "ABX9TyPR53HkEn+BhecTNkG/c5dz",
      "include_colab_link": true
    },
    "kernelspec": {
      "name": "python3",
      "display_name": "Python 3"
    },
    "language_info": {
      "name": "python"
    }
  },
  "cells": [
    {
      "cell_type": "markdown",
      "metadata": {
        "id": "view-in-github",
        "colab_type": "text"
      },
      "source": [
        "<a href=\"https://colab.research.google.com/github/pmontman/tmp_choicemodels/blob/main/nb/tutorials/WK_10_tuto_efficient_designs.ipynb\" target=\"_parent\"><img src=\"https://colab.research.google.com/assets/colab-badge.svg\" alt=\"Open In Colab\"/></a>"
      ]
    },
    {
      "cell_type": "markdown",
      "metadata": {
        "id": "FiGIpQJKMDqU"
      },
      "source": [
        "# How to design efficient experiments\n",
        "\n",
        "In this lecture we are going to\n",
        "\n",
        "* Properly define what is an efficient design\n",
        "* Use the mathematical definition to create good designs\n",
        "* Give some final guidelines on design of experiments for choice modelling"
      ]
    },
    {
      "cell_type": "code",
      "metadata": {
        "id": "zmxyZx5dl267"
      },
      "source": [
        "import pandas as pd\n",
        "import numpy as np"
      ],
      "execution_count": null,
      "outputs": []
    },
    {
      "cell_type": "code",
      "metadata": {
        "id": "jXHBZMkwjxq2"
      },
      "source": [
        "betas = np.matrix(' 1 1; 2 2')"
      ],
      "execution_count": null,
      "outputs": []
    },
    {
      "cell_type": "code",
      "metadata": {
        "id": "XhQsU5Rgof6x"
      },
      "source": [
        "def choice_prob(betas, X):\n",
        "  V = np.matmul(X, betas)\n",
        "  P = np.exp(V)\n",
        "  return P / np.sum(P, axis = 1)"
      ],
      "execution_count": null,
      "outputs": []
    },
    {
      "cell_type": "code",
      "metadata": {
        "id": "930fgh5UUUdh"
      },
      "source": [
        "colnames = ['price_apple', 'size_apple', 'os_apple', 'price_android', 'size_android', 'os_android']"
      ],
      "execution_count": null,
      "outputs": []
    },
    {
      "cell_type": "markdown",
      "source": [
        "# Working eample, discrete choice experiment for automobile preferences.\n",
        "\n",
        "We want to understand population preferences for cars, we will consider the following variables.\n",
        "\n",
        "`price`, `power`, `engine_type`\n",
        "\n",
        "Ignoring all realistic values, let's go for:\n",
        "\n",
        "* Prices: 20000, 30000, 40000 AUD.\n",
        "* Consider power: 130 hp, 170 hp, 220 hp.\n",
        "* Engine types, encoded as integer initially: 0=petrol, 1=diesel, 2=hybrid, 3=electric."
      ],
      "metadata": {
        "id": "TKBQuhUVqHGN"
      }
    },
    {
      "cell_type": "markdown",
      "metadata": {
        "id": "V4pglKCiQslA"
      },
      "source": [
        "\n",
        "\n",
        "#Creating all combinations of variables and values\n",
        "\n",
        "We can create the full factorial design in python by using the cartesian product\n",
        "`cartesian` function.\n",
        "\n",
        "Here is an example of use."
      ]
    },
    {
      "cell_type": "code",
      "metadata": {
        "colab": {
          "base_uri": "https://localhost:8080/",
          "height": 426
        },
        "id": "peajmmSF1hNd",
        "outputId": "766607a1-6ab4-47c0-e544-288fc48b4513"
      },
      "source": [
        "from sklearn.utils.extmath import cartesian\n",
        "pd.DataFrame(cartesian(([800.0, 1000.0, 1200.0], [4.7, 5.8], [1.8, 3.2])), columns=['price', 'size', 'speed'])"
      ],
      "execution_count": null,
      "outputs": [
        {
          "output_type": "execute_result",
          "data": {
            "text/plain": [
              "     price  size  speed\n",
              "0    800.0   4.7    1.8\n",
              "1    800.0   4.7    3.2\n",
              "2    800.0   5.8    1.8\n",
              "3    800.0   5.8    3.2\n",
              "4   1000.0   4.7    1.8\n",
              "5   1000.0   4.7    3.2\n",
              "6   1000.0   5.8    1.8\n",
              "7   1000.0   5.8    3.2\n",
              "8   1200.0   4.7    1.8\n",
              "9   1200.0   4.7    3.2\n",
              "10  1200.0   5.8    1.8\n",
              "11  1200.0   5.8    3.2"
            ],
            "text/html": [
              "\n",
              "  <div id=\"df-8b23316c-0750-478f-ab67-4816eae2c43d\">\n",
              "    <div class=\"colab-df-container\">\n",
              "      <div>\n",
              "<style scoped>\n",
              "    .dataframe tbody tr th:only-of-type {\n",
              "        vertical-align: middle;\n",
              "    }\n",
              "\n",
              "    .dataframe tbody tr th {\n",
              "        vertical-align: top;\n",
              "    }\n",
              "\n",
              "    .dataframe thead th {\n",
              "        text-align: right;\n",
              "    }\n",
              "</style>\n",
              "<table border=\"1\" class=\"dataframe\">\n",
              "  <thead>\n",
              "    <tr style=\"text-align: right;\">\n",
              "      <th></th>\n",
              "      <th>price</th>\n",
              "      <th>size</th>\n",
              "      <th>speed</th>\n",
              "    </tr>\n",
              "  </thead>\n",
              "  <tbody>\n",
              "    <tr>\n",
              "      <th>0</th>\n",
              "      <td>800.0</td>\n",
              "      <td>4.7</td>\n",
              "      <td>1.8</td>\n",
              "    </tr>\n",
              "    <tr>\n",
              "      <th>1</th>\n",
              "      <td>800.0</td>\n",
              "      <td>4.7</td>\n",
              "      <td>3.2</td>\n",
              "    </tr>\n",
              "    <tr>\n",
              "      <th>2</th>\n",
              "      <td>800.0</td>\n",
              "      <td>5.8</td>\n",
              "      <td>1.8</td>\n",
              "    </tr>\n",
              "    <tr>\n",
              "      <th>3</th>\n",
              "      <td>800.0</td>\n",
              "      <td>5.8</td>\n",
              "      <td>3.2</td>\n",
              "    </tr>\n",
              "    <tr>\n",
              "      <th>4</th>\n",
              "      <td>1000.0</td>\n",
              "      <td>4.7</td>\n",
              "      <td>1.8</td>\n",
              "    </tr>\n",
              "    <tr>\n",
              "      <th>5</th>\n",
              "      <td>1000.0</td>\n",
              "      <td>4.7</td>\n",
              "      <td>3.2</td>\n",
              "    </tr>\n",
              "    <tr>\n",
              "      <th>6</th>\n",
              "      <td>1000.0</td>\n",
              "      <td>5.8</td>\n",
              "      <td>1.8</td>\n",
              "    </tr>\n",
              "    <tr>\n",
              "      <th>7</th>\n",
              "      <td>1000.0</td>\n",
              "      <td>5.8</td>\n",
              "      <td>3.2</td>\n",
              "    </tr>\n",
              "    <tr>\n",
              "      <th>8</th>\n",
              "      <td>1200.0</td>\n",
              "      <td>4.7</td>\n",
              "      <td>1.8</td>\n",
              "    </tr>\n",
              "    <tr>\n",
              "      <th>9</th>\n",
              "      <td>1200.0</td>\n",
              "      <td>4.7</td>\n",
              "      <td>3.2</td>\n",
              "    </tr>\n",
              "    <tr>\n",
              "      <th>10</th>\n",
              "      <td>1200.0</td>\n",
              "      <td>5.8</td>\n",
              "      <td>1.8</td>\n",
              "    </tr>\n",
              "    <tr>\n",
              "      <th>11</th>\n",
              "      <td>1200.0</td>\n",
              "      <td>5.8</td>\n",
              "      <td>3.2</td>\n",
              "    </tr>\n",
              "  </tbody>\n",
              "</table>\n",
              "</div>\n",
              "      <button class=\"colab-df-convert\" onclick=\"convertToInteractive('df-8b23316c-0750-478f-ab67-4816eae2c43d')\"\n",
              "              title=\"Convert this dataframe to an interactive table.\"\n",
              "              style=\"display:none;\">\n",
              "        \n",
              "  <svg xmlns=\"http://www.w3.org/2000/svg\" height=\"24px\"viewBox=\"0 0 24 24\"\n",
              "       width=\"24px\">\n",
              "    <path d=\"M0 0h24v24H0V0z\" fill=\"none\"/>\n",
              "    <path d=\"M18.56 5.44l.94 2.06.94-2.06 2.06-.94-2.06-.94-.94-2.06-.94 2.06-2.06.94zm-11 1L8.5 8.5l.94-2.06 2.06-.94-2.06-.94L8.5 2.5l-.94 2.06-2.06.94zm10 10l.94 2.06.94-2.06 2.06-.94-2.06-.94-.94-2.06-.94 2.06-2.06.94z\"/><path d=\"M17.41 7.96l-1.37-1.37c-.4-.4-.92-.59-1.43-.59-.52 0-1.04.2-1.43.59L10.3 9.45l-7.72 7.72c-.78.78-.78 2.05 0 2.83L4 21.41c.39.39.9.59 1.41.59.51 0 1.02-.2 1.41-.59l7.78-7.78 2.81-2.81c.8-.78.8-2.07 0-2.86zM5.41 20L4 18.59l7.72-7.72 1.47 1.35L5.41 20z\"/>\n",
              "  </svg>\n",
              "      </button>\n",
              "      \n",
              "  <style>\n",
              "    .colab-df-container {\n",
              "      display:flex;\n",
              "      flex-wrap:wrap;\n",
              "      gap: 12px;\n",
              "    }\n",
              "\n",
              "    .colab-df-convert {\n",
              "      background-color: #E8F0FE;\n",
              "      border: none;\n",
              "      border-radius: 50%;\n",
              "      cursor: pointer;\n",
              "      display: none;\n",
              "      fill: #1967D2;\n",
              "      height: 32px;\n",
              "      padding: 0 0 0 0;\n",
              "      width: 32px;\n",
              "    }\n",
              "\n",
              "    .colab-df-convert:hover {\n",
              "      background-color: #E2EBFA;\n",
              "      box-shadow: 0px 1px 2px rgba(60, 64, 67, 0.3), 0px 1px 3px 1px rgba(60, 64, 67, 0.15);\n",
              "      fill: #174EA6;\n",
              "    }\n",
              "\n",
              "    [theme=dark] .colab-df-convert {\n",
              "      background-color: #3B4455;\n",
              "      fill: #D2E3FC;\n",
              "    }\n",
              "\n",
              "    [theme=dark] .colab-df-convert:hover {\n",
              "      background-color: #434B5C;\n",
              "      box-shadow: 0px 1px 3px 1px rgba(0, 0, 0, 0.15);\n",
              "      filter: drop-shadow(0px 1px 2px rgba(0, 0, 0, 0.3));\n",
              "      fill: #FFFFFF;\n",
              "    }\n",
              "  </style>\n",
              "\n",
              "      <script>\n",
              "        const buttonEl =\n",
              "          document.querySelector('#df-8b23316c-0750-478f-ab67-4816eae2c43d button.colab-df-convert');\n",
              "        buttonEl.style.display =\n",
              "          google.colab.kernel.accessAllowed ? 'block' : 'none';\n",
              "\n",
              "        async function convertToInteractive(key) {\n",
              "          const element = document.querySelector('#df-8b23316c-0750-478f-ab67-4816eae2c43d');\n",
              "          const dataTable =\n",
              "            await google.colab.kernel.invokeFunction('convertToInteractive',\n",
              "                                                     [key], {});\n",
              "          if (!dataTable) return;\n",
              "\n",
              "          const docLinkHtml = 'Like what you see? Visit the ' +\n",
              "            '<a target=\"_blank\" href=https://colab.research.google.com/notebooks/data_table.ipynb>data table notebook</a>'\n",
              "            + ' to learn more about interactive tables.';\n",
              "          element.innerHTML = '';\n",
              "          dataTable['output_type'] = 'display_data';\n",
              "          await google.colab.output.renderOutput(dataTable, element);\n",
              "          const docLink = document.createElement('div');\n",
              "          docLink.innerHTML = docLinkHtml;\n",
              "          element.appendChild(docLink);\n",
              "        }\n",
              "      </script>\n",
              "    </div>\n",
              "  </div>\n",
              "  "
            ]
          },
          "metadata": {},
          "execution_count": 5
        }
      ]
    },
    {
      "cell_type": "markdown",
      "source": [
        "In practice the full factorial could be too large to compute. We do not need to\n",
        "actually compute it all at the same time.  \n"
      ],
      "metadata": {
        "id": "WQ-FZVBdi9Hx"
      }
    },
    {
      "cell_type": "markdown",
      "source": [
        "#Efficiency\n",
        "\n",
        "Recall that we want to find the subset of $N$ rows from the full experiment that maximizes the efficiency of the resulting experiment.\n",
        "There are several concepts of efficiency, relatively similar but we will\n",
        "focus on $D-efficiency$. Roughly speakling, D-efficiency want to make the covariance matrix for the coefficients, $\\text{covariance}(B)$, as 'small' as possible.\n",
        "In discrete choice, the formula for the covariance matrix of the coefficients is a bit more complex than for linear regression.\n",
        "\n",
        "\n",
        "$$\\text{covariance}(\\beta) = (Z' P Z )^{-1}$$\n",
        "\n",
        "when working with $J$ alternatives:\n",
        "*  $P$ is the matrix of choice probabilities computed by the model.\n",
        "* $Z$ is similar to design matrix, but 'centered' using the choice probabilities. Basically, to each row of observations, we substract the weighted mean of the variables across all alternatives. The weights are the choice probabilities computed by the model.\n",
        "\n",
        " $$z_{jn} = x_{jn} - \\sum_{i=1}^Jx_{in}P_{in}$$\n",
        "\n",
        "To compute the $Z$ matrix, we need the 'choice probabilities'. In our context, we do not yet know these choice probabilities, so we need to work with an initial guess of them. This initial guess usually comes from an 'initial' value for the coefficients that creates equal choice probs, basically a 'no-information' stating model. In some cases, we might get a good starting guess, from example, if we have data of a similar problem or from a similar experiment."
      ],
      "metadata": {
        "id": "Uvv25I_VlLL0"
      }
    },
    {
      "cell_type": "code",
      "metadata": {
        "id": "_now17Bg5lcS"
      },
      "source": [
        "def cov_mnl(Xj, J, betas):\n",
        "  Xj = np.hsplit(np.array(Xj), 2)\n",
        "  P = np.hstack( [np.matmul(Xj[0], betas[0].T ), np.matmul(Xj[1], betas[0].T )])\n",
        "  P = np.exp(P)\n",
        "  PP = P / np.sum(P, axis = 1)\n",
        "  P0D = np.diag(np.array(PP[:,0].flatten()[0].T[:]).T[0])\n",
        "  return np.linalg.inv(np.matmul( np.matmul(Xj[0].T, P0D), Xj[0]))"
      ],
      "execution_count": null,
      "outputs": []
    },
    {
      "cell_type": "markdown",
      "metadata": {
        "id": "I1p6yicQFaH8"
      },
      "source": [
        "And now we calculate"
      ]
    },
    {
      "cell_type": "code",
      "metadata": {
        "id": "QSOrlg4d7D2o"
      },
      "source": [
        " sub_fact = np.array(full_factorial)[np.random.choice(full_factorial.shape[0], 10, replace=False), :]"
      ],
      "execution_count": null,
      "outputs": []
    },
    {
      "cell_type": "code",
      "metadata": {
        "colab": {
          "base_uri": "https://localhost:8080/"
        },
        "id": "M3toETva7WzX",
        "outputId": "7c3588a9-cbc1-44f1-8431-a3439fbf13bd"
      },
      "source": [
        "betas = [ np.matrix('0.5 0.1 1.1')]\n",
        "betas[0]"
      ],
      "execution_count": null,
      "outputs": [
        {
          "output_type": "execute_result",
          "data": {
            "text/plain": [
              "matrix([[0.5, 0.1, 1.1]])"
            ]
          },
          "metadata": {},
          "execution_count": 21
        }
      ]
    },
    {
      "cell_type": "code",
      "metadata": {
        "colab": {
          "base_uri": "https://localhost:8080/",
          "height": 143
        },
        "id": "iNi6gCQxEqsK",
        "outputId": "5e9a856e-8740-4bb6-ba2d-52cf77c68dfd"
      },
      "source": [
        "pd.DataFrame(cov_mnl(sub_fact, 2, betas))"
      ],
      "execution_count": null,
      "outputs": [
        {
          "output_type": "execute_result",
          "data": {
            "text/plain": [
              "          0         1         2\n",
              "0  0.000009 -0.002320  0.000663\n",
              "1 -0.002320  0.834454 -0.593470\n",
              "2  0.000663 -0.593470  0.800610"
            ],
            "text/html": [
              "\n",
              "  <div id=\"df-a03fea07-3fc7-441c-b75d-82d7eae4c796\">\n",
              "    <div class=\"colab-df-container\">\n",
              "      <div>\n",
              "<style scoped>\n",
              "    .dataframe tbody tr th:only-of-type {\n",
              "        vertical-align: middle;\n",
              "    }\n",
              "\n",
              "    .dataframe tbody tr th {\n",
              "        vertical-align: top;\n",
              "    }\n",
              "\n",
              "    .dataframe thead th {\n",
              "        text-align: right;\n",
              "    }\n",
              "</style>\n",
              "<table border=\"1\" class=\"dataframe\">\n",
              "  <thead>\n",
              "    <tr style=\"text-align: right;\">\n",
              "      <th></th>\n",
              "      <th>0</th>\n",
              "      <th>1</th>\n",
              "      <th>2</th>\n",
              "    </tr>\n",
              "  </thead>\n",
              "  <tbody>\n",
              "    <tr>\n",
              "      <th>0</th>\n",
              "      <td>0.000009</td>\n",
              "      <td>-0.002320</td>\n",
              "      <td>0.000663</td>\n",
              "    </tr>\n",
              "    <tr>\n",
              "      <th>1</th>\n",
              "      <td>-0.002320</td>\n",
              "      <td>0.834454</td>\n",
              "      <td>-0.593470</td>\n",
              "    </tr>\n",
              "    <tr>\n",
              "      <th>2</th>\n",
              "      <td>0.000663</td>\n",
              "      <td>-0.593470</td>\n",
              "      <td>0.800610</td>\n",
              "    </tr>\n",
              "  </tbody>\n",
              "</table>\n",
              "</div>\n",
              "      <button class=\"colab-df-convert\" onclick=\"convertToInteractive('df-a03fea07-3fc7-441c-b75d-82d7eae4c796')\"\n",
              "              title=\"Convert this dataframe to an interactive table.\"\n",
              "              style=\"display:none;\">\n",
              "        \n",
              "  <svg xmlns=\"http://www.w3.org/2000/svg\" height=\"24px\"viewBox=\"0 0 24 24\"\n",
              "       width=\"24px\">\n",
              "    <path d=\"M0 0h24v24H0V0z\" fill=\"none\"/>\n",
              "    <path d=\"M18.56 5.44l.94 2.06.94-2.06 2.06-.94-2.06-.94-.94-2.06-.94 2.06-2.06.94zm-11 1L8.5 8.5l.94-2.06 2.06-.94-2.06-.94L8.5 2.5l-.94 2.06-2.06.94zm10 10l.94 2.06.94-2.06 2.06-.94-2.06-.94-.94-2.06-.94 2.06-2.06.94z\"/><path d=\"M17.41 7.96l-1.37-1.37c-.4-.4-.92-.59-1.43-.59-.52 0-1.04.2-1.43.59L10.3 9.45l-7.72 7.72c-.78.78-.78 2.05 0 2.83L4 21.41c.39.39.9.59 1.41.59.51 0 1.02-.2 1.41-.59l7.78-7.78 2.81-2.81c.8-.78.8-2.07 0-2.86zM5.41 20L4 18.59l7.72-7.72 1.47 1.35L5.41 20z\"/>\n",
              "  </svg>\n",
              "      </button>\n",
              "      \n",
              "  <style>\n",
              "    .colab-df-container {\n",
              "      display:flex;\n",
              "      flex-wrap:wrap;\n",
              "      gap: 12px;\n",
              "    }\n",
              "\n",
              "    .colab-df-convert {\n",
              "      background-color: #E8F0FE;\n",
              "      border: none;\n",
              "      border-radius: 50%;\n",
              "      cursor: pointer;\n",
              "      display: none;\n",
              "      fill: #1967D2;\n",
              "      height: 32px;\n",
              "      padding: 0 0 0 0;\n",
              "      width: 32px;\n",
              "    }\n",
              "\n",
              "    .colab-df-convert:hover {\n",
              "      background-color: #E2EBFA;\n",
              "      box-shadow: 0px 1px 2px rgba(60, 64, 67, 0.3), 0px 1px 3px 1px rgba(60, 64, 67, 0.15);\n",
              "      fill: #174EA6;\n",
              "    }\n",
              "\n",
              "    [theme=dark] .colab-df-convert {\n",
              "      background-color: #3B4455;\n",
              "      fill: #D2E3FC;\n",
              "    }\n",
              "\n",
              "    [theme=dark] .colab-df-convert:hover {\n",
              "      background-color: #434B5C;\n",
              "      box-shadow: 0px 1px 3px 1px rgba(0, 0, 0, 0.15);\n",
              "      filter: drop-shadow(0px 1px 2px rgba(0, 0, 0, 0.3));\n",
              "      fill: #FFFFFF;\n",
              "    }\n",
              "  </style>\n",
              "\n",
              "      <script>\n",
              "        const buttonEl =\n",
              "          document.querySelector('#df-a03fea07-3fc7-441c-b75d-82d7eae4c796 button.colab-df-convert');\n",
              "        buttonEl.style.display =\n",
              "          google.colab.kernel.accessAllowed ? 'block' : 'none';\n",
              "\n",
              "        async function convertToInteractive(key) {\n",
              "          const element = document.querySelector('#df-a03fea07-3fc7-441c-b75d-82d7eae4c796');\n",
              "          const dataTable =\n",
              "            await google.colab.kernel.invokeFunction('convertToInteractive',\n",
              "                                                     [key], {});\n",
              "          if (!dataTable) return;\n",
              "\n",
              "          const docLinkHtml = 'Like what you see? Visit the ' +\n",
              "            '<a target=\"_blank\" href=https://colab.research.google.com/notebooks/data_table.ipynb>data table notebook</a>'\n",
              "            + ' to learn more about interactive tables.';\n",
              "          element.innerHTML = '';\n",
              "          dataTable['output_type'] = 'display_data';\n",
              "          await google.colab.output.renderOutput(dataTable, element);\n",
              "          const docLink = document.createElement('div');\n",
              "          docLink.innerHTML = docLinkHtml;\n",
              "          element.appendChild(docLink);\n",
              "        }\n",
              "      </script>\n",
              "    </div>\n",
              "  </div>\n",
              "  "
            ]
          },
          "metadata": {},
          "execution_count": 22
        }
      ]
    },
    {
      "cell_type": "code",
      "metadata": {
        "id": "0y5YckmNFoWq"
      },
      "source": [
        "def deffic_mnl(X, J, betas):\n",
        "  covX = cov_mnl(X, J, betas)\n",
        "  return np.power( np.linalg.det(covX), 1 / (covX.shape[0] + 1) )"
      ],
      "execution_count": null,
      "outputs": []
    },
    {
      "cell_type": "code",
      "metadata": {
        "colab": {
          "base_uri": "https://localhost:8080/"
        },
        "id": "f9FZVpPLFtpk",
        "outputId": "bf0d5cfa-c7a6-4000-d0c1-501f6ab37faf"
      },
      "source": [
        "deffic_mnl(sub_fact, 2, betas)"
      ],
      "execution_count": null,
      "outputs": [
        {
          "output_type": "execute_result",
          "data": {
            "text/plain": [
              "0.015101961211840247"
            ]
          },
          "metadata": {},
          "execution_count": 24
        }
      ]
    },
    {
      "cell_type": "code",
      "metadata": {
        "colab": {
          "base_uri": "https://localhost:8080/"
        },
        "id": "pa0YZZR-F4mt",
        "outputId": "44d9edd5-05dc-4f0d-beef-d2924d43fa31"
      },
      "source": [
        "deffic_mnl(full_factorial, 2, betas)"
      ],
      "execution_count": null,
      "outputs": [
        {
          "output_type": "execute_result",
          "data": {
            "text/plain": [
              "0.001539231431536287"
            ]
          },
          "metadata": {},
          "execution_count": 25
        }
      ]
    },
    {
      "cell_type": "markdown",
      "metadata": {
        "id": "_4S08C4NKBMl"
      },
      "source": [
        "#Relationship to the principles of design of experiments\n",
        "\n",
        "Recall the four principles\n",
        "\n",
        "1. Level balance\n",
        "2. Orthogonality\n",
        "3. Minimal level overlap\n",
        "4. Utility balance\n",
        "\n",
        "\n",
        "These principles are all summarized in the D-efficiency, meaning that they are 'rules of thumb' to create designs with good efficiency. Nowadays we can just put the computer to work to find a good design, before that, we used to pick the design manually by following the principles... It is important to get an intuition on how it works.\n"
      ]
    },
    {
      "cell_type": "markdown",
      "metadata": {
        "id": "cQ1qdKzNGVlK"
      },
      "source": [
        "# Example: Level balance and overlap\n",
        "\n"
      ]
    },
    {
      "cell_type": "code",
      "metadata": {
        "colab": {
          "base_uri": "https://localhost:8080/"
        },
        "id": "kbVbA_dIGaIv",
        "outputId": "664e7df7-6dda-4330-e097-23420e90d444"
      },
      "source": [
        "np.random.seed(1234) \n",
        "sub_fact = np.array(full_factorial)[np.random.choice(full_factorial.shape[0], 20, replace=False), :]\n",
        "sub_fact"
      ],
      "execution_count": null,
      "outputs": [
        {
          "output_type": "execute_result",
          "data": {
            "text/plain": [
              "array([[ 800. ,    4.7,    1.8, 1000. ,    5.8,    1.8],\n",
              "       [1200. ,    4.7,    1.8, 1000. ,    4.7,    3.2],\n",
              "       [1000. ,    4.7,    3.2,  800. ,    5.8,    3.2],\n",
              "       [1000. ,    5.8,    3.2, 1000. ,    4.7,    1.8],\n",
              "       [1200. ,    4.7,    3.2, 1200. ,    4.7,    3.2],\n",
              "       [ 800. ,    5.8,    3.2, 1000. ,    4.7,    1.8],\n",
              "       [1200. ,    4.7,    3.2,  800. ,    5.8,    3.2],\n",
              "       [1200. ,    4.7,    1.8,  800. ,    5.8,    1.8],\n",
              "       [ 800. ,    5.8,    1.8,  800. ,    5.8,    3.2],\n",
              "       [ 800. ,    5.8,    3.2, 1000. ,    5.8,    3.2],\n",
              "       [1000. ,    4.7,    3.2, 1000. ,    5.8,    1.8],\n",
              "       [1000. ,    4.7,    1.8, 1200. ,    5.8,    1.8],\n",
              "       [1000. ,    4.7,    1.8,  800. ,    5.8,    3.2],\n",
              "       [ 800. ,    5.8,    1.8,  800. ,    4.7,    3.2],\n",
              "       [1000. ,    5.8,    1.8, 1000. ,    5.8,    3.2],\n",
              "       [ 800. ,    5.8,    3.2, 1000. ,    5.8,    1.8],\n",
              "       [1000. ,    5.8,    3.2,  800. ,    4.7,    3.2],\n",
              "       [ 800. ,    5.8,    3.2,  800. ,    4.7,    1.8],\n",
              "       [1200. ,    5.8,    3.2, 1000. ,    4.7,    3.2],\n",
              "       [ 800. ,    5.8,    1.8, 1200. ,    5.8,    3.2]])"
            ]
          },
          "metadata": {},
          "execution_count": 26
        }
      ]
    },
    {
      "cell_type": "code",
      "metadata": {
        "id": "yTH-BHFAHG89"
      },
      "source": [
        "\n",
        "sub_fact = sub_fact[[ 0, 5, 8, 9, 13, 15,  17, 2],:]\n"
      ],
      "execution_count": null,
      "outputs": []
    },
    {
      "cell_type": "code",
      "metadata": {
        "colab": {
          "base_uri": "https://localhost:8080/"
        },
        "id": "WeqR0NsqHDq5",
        "outputId": "651722e8-b91b-4384-c7c1-995ec29bd0a7"
      },
      "source": [
        "sub_fact"
      ],
      "execution_count": null,
      "outputs": [
        {
          "output_type": "execute_result",
          "data": {
            "text/plain": [
              "array([[ 800. ,    4.7,    1.8, 1000. ,    5.8,    1.8],\n",
              "       [ 800. ,    5.8,    3.2, 1000. ,    4.7,    1.8],\n",
              "       [ 800. ,    5.8,    1.8,  800. ,    5.8,    3.2],\n",
              "       [ 800. ,    5.8,    3.2, 1000. ,    5.8,    3.2],\n",
              "       [ 800. ,    5.8,    1.8,  800. ,    4.7,    3.2],\n",
              "       [ 800. ,    5.8,    3.2, 1000. ,    5.8,    1.8],\n",
              "       [ 800. ,    5.8,    3.2,  800. ,    4.7,    1.8],\n",
              "       [1000. ,    4.7,    3.2,  800. ,    5.8,    3.2]])"
            ]
          },
          "metadata": {},
          "execution_count": 28
        }
      ]
    },
    {
      "cell_type": "code",
      "metadata": {
        "colab": {
          "base_uri": "https://localhost:8080/"
        },
        "id": "ovjGNMzzG6N1",
        "outputId": "5564e347-d587-42ad-a99a-dad15979c800"
      },
      "source": [
        "deffic_mnl(sub_fact, 2, betas)"
      ],
      "execution_count": null,
      "outputs": [
        {
          "output_type": "execute_result",
          "data": {
            "text/plain": [
              "0.025075612050753034"
            ]
          },
          "metadata": {},
          "execution_count": 29
        }
      ]
    },
    {
      "cell_type": "markdown",
      "metadata": {
        "id": "Fz9boXB3IpPl"
      },
      "source": [
        "Compare with random experiments of the same size (look at the largest efficiency in a random search of experiments of 8 rows)."
      ]
    },
    {
      "cell_type": "code",
      "metadata": {
        "colab": {
          "base_uri": "https://localhost:8080/"
        },
        "id": "POBZbuxRIMYB",
        "outputId": "d7c9c22e-b8aa-48a2-c579-5456282d66a3"
      },
      "source": [
        "np.random.seed(1234) \n",
        "[deffic_mnl(np.array(full_factorial)[np.random.choice(full_factorial.shape[0], 8, replace=False), :], 2, betas) for i in range(20)]"
      ],
      "execution_count": null,
      "outputs": [
        {
          "output_type": "execute_result",
          "data": {
            "text/plain": [
              "[0.012616982133300486,\n",
              " 0.011695402568277412,\n",
              " 0.03184815359360849,\n",
              " 0.03509450126161441,\n",
              " 0.012031835107409962,\n",
              " 0.012735934085607309,\n",
              " 0.012301612107096209,\n",
              " 0.024778969051915976,\n",
              " 0.012241126754476505,\n",
              " 0.015347405493874052,\n",
              " 0.016536761463146362,\n",
              " 0.015980132366145514,\n",
              " 0.017566893133088412,\n",
              " 0.008988701322920645,\n",
              " 0.013424721792247204,\n",
              " 0.02550199312206731,\n",
              " 0.05737907706040104,\n",
              " 0.016783149094670952,\n",
              " 0.011277858292034334,\n",
              " 0.019826977666191882]"
            ]
          },
          "metadata": {},
          "execution_count": 37
        }
      ]
    },
    {
      "cell_type": "markdown",
      "source": [
        "#Orthogonality\n",
        "\n",
        "We pick rows that cannot tell attribute \n",
        "(column) 2 vs 3."
      ],
      "metadata": {
        "id": "CSLCcg4Asxgj"
      }
    },
    {
      "cell_type": "code",
      "source": [
        "np.random.seed(1234) \n",
        "sub_fact = np.array(full_factorial)[np.random.choice(full_factorial.shape[0], 20, replace=False), :]\n",
        "sub_fact\n",
        "sub_fact_orth = sub_fact[[ 0, 1, 3, 7, 9, 11, 12, 15],:]\n",
        "sub_fact_orth"
      ],
      "metadata": {
        "colab": {
          "base_uri": "https://localhost:8080/"
        },
        "id": "xRmtbwx0sU2W",
        "outputId": "3dd5c8db-dc2c-4f76-9ff6-05c89723dc6d"
      },
      "execution_count": null,
      "outputs": [
        {
          "output_type": "execute_result",
          "data": {
            "text/plain": [
              "array([[ 800. ,    4.7,    1.8, 1000. ,    5.8,    1.8],\n",
              "       [1200. ,    4.7,    1.8, 1000. ,    4.7,    3.2],\n",
              "       [1000. ,    5.8,    3.2, 1000. ,    4.7,    1.8],\n",
              "       [1200. ,    4.7,    1.8,  800. ,    5.8,    1.8],\n",
              "       [ 800. ,    5.8,    3.2, 1000. ,    5.8,    3.2],\n",
              "       [1000. ,    4.7,    1.8, 1200. ,    5.8,    1.8],\n",
              "       [1000. ,    4.7,    1.8,  800. ,    5.8,    3.2],\n",
              "       [ 800. ,    5.8,    3.2, 1000. ,    5.8,    1.8]])"
            ]
          },
          "metadata": {},
          "execution_count": 50
        }
      ]
    },
    {
      "cell_type": "code",
      "source": [
        "\n",
        "deffic_mnl(sub_fact_orth, 2, betas)"
      ],
      "metadata": {
        "colab": {
          "base_uri": "https://localhost:8080/"
        },
        "id": "OqZ-QfSjuPxg",
        "outputId": "70733a53-2618-40d1-bce7-7bf4962f1c98"
      },
      "execution_count": null,
      "outputs": [
        {
          "output_type": "execute_result",
          "data": {
            "text/plain": [
              "0.028968245815118584"
            ]
          },
          "metadata": {},
          "execution_count": 51
        }
      ]
    },
    {
      "cell_type": "markdown",
      "metadata": {
        "id": "nfOBc4Ly4ohV"
      },
      "source": [
        "# The workflow\n",
        "\n",
        "1) Define attributes and levels\n",
        "\n",
        "\n",
        "2) Pilot Studuy\n",
        "\n",
        "3) Design of the Experiment\n",
        "\n",
        "4) Design the Survey\n",
        "\n",
        "5) Conduct the survey and data analysis"
      ]
    },
    {
      "cell_type": "markdown",
      "metadata": {
        "id": "4eV_Jtea4qRq"
      },
      "source": [
        "# Recommendations\n",
        "\n",
        "\n",
        "* **Which variables should we choose?**\n",
        " Create an exhaustive list of attributes, the reduce it to a number between 3 to 7 by discarding some and mergin others (important combinations of a pair of attributes). For example, screen size and speed can be merged if these do not really vary independently (no small fast smartphones), just create a new categorical attribute with a few levels for the realistic combination.\n",
        "\n",
        "* **How do we choose the levels?**\n",
        " Try a large range and pick the best subset using a computer.\n",
        "\n",
        "* **How many alternatives**\n",
        " From 2 to 3 alternatives can be handled by people before getting into decision fatigue."
      ]
    }
  ]
}