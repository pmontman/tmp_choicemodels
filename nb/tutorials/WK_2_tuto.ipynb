{
  "nbformat": 4,
  "nbformat_minor": 0,
  "metadata": {
    "colab": {
      "name": "01_tutorial",
      "provenance": [],
      "collapsed_sections": [],
      "toc_visible": true,
      "include_colab_link": true
    },
    "kernelspec": {
      "display_name": "Python 3",
      "name": "python3"
    }
  },
  "cells": [
    {
      "cell_type": "markdown",
      "metadata": {
        "id": "view-in-github",
        "colab_type": "text"
      },
      "source": [
        "<a href=\"https://colab.research.google.com/github/pmontman/pub-choicemodels/blob/main/nb/01_tutorial.ipynb\" target=\"_parent\"><img src=\"https://colab.research.google.com/assets/colab-badge.svg\" alt=\"Open In Colab\"/></a>"
      ]
    },
    {
      "cell_type": "markdown",
      "metadata": {
        "id": "kL5FegN2HVVI"
      },
      "source": [
        "# **Tutorial 1** Choice Modelling: Jupyter, Google, Markdown, Colab and python fundamentals\n",
        "\n",
        "This is a 'warmup' tutorial for providing (or refreshing) the basic computing tools that we are going to use throughout the unit.\n",
        "\n",
        "The goal is to use computing on the cloud, so everything runs in a web browser.\n",
        "Both the data analysis document (the 'report' that is the deliverable document) and the programming code are embedded together in a single interactive document, that runs on the cloud.  \n",
        "We can achieve that by a combination of Jupyter notebooks, the technology for the text + source code interaction, ang Google Colab, the technology to run that interaction on the cloud.\n",
        "\n",
        "**This way of working is rapidly becoming an industry standard in data science.**\n",
        "\n",
        "Advantages:\n",
        " * No need to install anything.\n",
        " * Accessible anywhere with an internet connection and a browser.\n",
        " * Consistent performance across different computers, no problems with different versions of the tools installed, etc.\n",
        " * Easy to share the work with others.\n",
        " * No need to have a powerful computer, in fact the access to high performance computing resources is almost seamless.\n",
        " * Automatic saving/backups on the cloud. No more losing hours of work because of power outages or other events.\n",
        "\n",
        "Disadvantages:\n",
        " * Less flexibility in the tools we can use, not everything is available in Google Colab.\n",
        " * Some things will run a bit slower.\n",
        " * Some forms of debugging migh be more cumbersome.\n",
        "\n"
      ]
    },
    {
      "cell_type": "markdown",
      "metadata": {
        "id": "7fuC9P_S3gd_"
      },
      "source": [
        "\n",
        "\n",
        "We will uniformize this set of tools because they are easy to use, quick to learn, and I believe they will be very useful in your future careers as data analysts (should you choose to go for that, though many jobs have some data analysis component).\n",
        "\n",
        "There are some limitations with our set of tools, for example if we want to create a really good looking document, such as professionally edited book or paper, these are not the tools for it. However, these tools provide a very good compromise, we will be able to create reasonably high quality documents for data analysis practices.\n",
        "\n",
        "'Style and presentation' will be considered for the marks in the exams and assignments, but we will not ask you to use anything that is not provided in these tools. We are aiming for a sensible use, for example:\n",
        " * Structuring the documents in meaningful sections.\n",
        " * Limiting the size of the output do not print table with thousands of rows.\n",
        " * Not too many decimals in the numeric outputs.\n",
        " * Plots with the proper axis identification, line types, colors and size.\n",
        " * Referencing the figures or tables in the text.\n",
        "\n",
        "The combo of Jupyter + Google Colab is in my opinion very powerful and you will be able to 'take it with you' and use it for your career as data analyst in the future. You are also not limited to python, other programming languages are available in Colab.\n",
        "\n",
        "The bottom line: These are very useful tools, and will remain very usefuls for the foreseeable future (a personal opinion, but based on reason).\n"
      ]
    },
    {
      "cell_type": "markdown",
      "metadata": {
        "id": "PXPRV1bK7yWo"
      },
      "source": [
        "\n",
        "## A unifying toolbox\n",
        " Instead of having to do some computations in python and then copying the results to a word document, then creating a pdf, having to deal with formatting issues, figures, etc. Everything is self contained in a web page.\n",
        "\n",
        "It is divided in \n",
        " * Jupyter Notebooks: The underlyg technology for mixing code and text\n",
        " * Markdown/$\\LaTeX$: The 'rich text' technology for creating good looking documents in a simple way. $\\LaTeX$ is mostly used here for mathematical notation. In general it is used to create full professionally looking books and othe document types.\n",
        " * Google Colab: For running everything on the cloud.\n",
        " * Python: The progamming language that we will use for data analysis."
      ]
    },
    {
      "cell_type": "markdown",
      "metadata": {
        "id": "81_6nvO8G4zZ"
      },
      "source": [
        "To run the tutorials and the assignments, exams, etc. **you will need a google account**."
      ]
    },
    {
      "cell_type": "markdown",
      "metadata": {
        "id": "BIuDyoEdIhD5"
      },
      "source": [
        "---\n",
        "---\n",
        "\n",
        "***The Following part is the introduction to Google Colaboratory (it is taken and modified from an official Google Tutorial)***\n",
        "\n",
        "[See the original here](https://colab.research.google.com/notebooks/intro.ipynb)\n",
        "\n",
        "\n",
        "---\n",
        "---"
      ]
    },
    {
      "cell_type": "markdown",
      "metadata": {
        "id": "5fCEDCU_qrC0"
      },
      "source": [
        "<p><img alt=\"Colaboratory logo\" height=\"45px\" src=\"/img/colab_favicon.ico\" align=\"left\" hspace=\"10px\" vspace=\"0px\"></p>\n",
        "\n",
        "<h1>What is Colaboratory?</h1>\n",
        "\n",
        "Colaboratory, or 'Colab' for short, allows you to write and execute Python in your browser, with \n",
        "- Zero configuration required\n",
        "- Free access to GPUs\n",
        "- Easy sharing\n",
        "\n",
        "Whether you're a <strong>student</strong>, a <strong>data scientist</strong> or an <strong>AI researcher</strong>, Colab can make your work easier. Watch <a href=\"https://www.youtube.com/watch?v=inN8seMm7UI\">Introduction to Colab</a> to find out more, or just get started below!"
      ]
    },
    {
      "cell_type": "markdown",
      "metadata": {
        "id": "GJBs_flRovLc"
      },
      "source": [
        "## <strong>Getting started</strong>\n",
        "\n",
        "The document that you are reading is not a static web page, but an interactive environment called a <strong>Colab notebook</strong> that lets you write and execute code.\n",
        "\n",
        "For example, here is a <strong>code cell</strong> with a short Python script that computes a value, stores it in a variable and prints the result:"
      ]
    },
    {
      "cell_type": "code",
      "metadata": {
        "colab": {
          "base_uri": "https://localhost:8080/",
          "height": 34
        },
        "id": "gJr_9dXGpJ05",
        "outputId": "9f556d03-ec67-4950-a485-cfdba9ddd14d"
      },
      "source": [
        "seconds_in_a_day = 24 * 60 * 60\n",
        "seconds_in_a_day"
      ],
      "execution_count": null,
      "outputs": [
        {
          "output_type": "execute_result",
          "data": {
            "text/plain": [
              "86400"
            ]
          },
          "metadata": {
            "tags": []
          },
          "execution_count": 0
        }
      ]
    },
    {
      "cell_type": "markdown",
      "metadata": {
        "id": "2fhs6GZ4qFMx"
      },
      "source": [
        "To execute the code in the above cell, select it with a click and then either press the play button to the left of the code, or use the keyboard shortcut 'Command/Ctrl+Enter'. To edit the code, just click the cell and start editing.\n",
        "\n",
        "Variables that you define in one cell can later be used in other cells:"
      ]
    },
    {
      "cell_type": "code",
      "metadata": {
        "colab": {
          "base_uri": "https://localhost:8080/",
          "height": 34
        },
        "id": "-gE-Ez1qtyIA",
        "outputId": "94cb2224-0edf-457b-90b5-0ac3488d8a97"
      },
      "source": [
        "seconds_in_a_week = 7 * seconds_in_a_day\n",
        "seconds_in_a_week"
      ],
      "execution_count": null,
      "outputs": [
        {
          "output_type": "execute_result",
          "data": {
            "text/plain": [
              "604800"
            ]
          },
          "metadata": {
            "tags": []
          },
          "execution_count": 0
        }
      ]
    },
    {
      "cell_type": "markdown",
      "metadata": {
        "id": "lSrWNr3MuFUS"
      },
      "source": [
        "Colab notebooks allow you to combine <strong>executable code</strong> and <strong>rich text</strong> in a single document, along with <strong>images</strong>, <strong>HTML</strong>, <strong>LaTeX</strong> and more. When you create your own Colab notebooks, they are stored in your Google Drive account. You can easily share your Colab notebooks with co-workers or friends, allowing them to comment on your notebooks or even edit them. To find out more, see <a href=\"/notebooks/basic_features_overview.ipynb\">Overview of Colab</a>. To create a new Colab notebook you can use the File menu above, or use the following link: <a href=\"http://colab.research.google.com#create=true\">Create a new Colab notebook</a>.\n",
        "\n",
        "Colab notebooks are Jupyter notebooks that are hosted by Colab. To find out more about the Jupyter project, see <a href=\"https://www.jupyter.org\">jupyter.org</a>."
      ]
    },
    {
      "cell_type": "markdown",
      "metadata": {
        "id": "UdRyKR44dcNI"
      },
      "source": [
        "## Data science\n",
        "\n",
        "With Colab you can harness the full power of popular Python libraries to analyse and visualise data. The code cell below uses <strong>numpy</strong> to generate some random data, and uses <strong>matplotlib</strong> to visualise it. To edit the code, just click the cell and start editing."
      ]
    },
    {
      "cell_type": "code",
      "metadata": {
        "colab": {
          "base_uri": "https://localhost:8080/",
          "height": 281
        },
        "id": "C4HZx7Gndbrh",
        "outputId": "8a3e0e18-70ec-431a-f388-9c3784197f00"
      },
      "source": [
        "import numpy as np\n",
        "from matplotlib import pyplot as plt\n",
        "\n",
        "ys = 200 + np.random.randn(100)\n",
        "x = [x for x in range(len(ys))]\n",
        "\n",
        "plt.plot(x, ys, '-')\n",
        "plt.fill_between(x, ys, 195, where=(ys > 195), facecolor='r', alpha=0.6)\n",
        "\n",
        "plt.title(\"Sample Visualization\")\n",
        "plt.show()"
      ],
      "execution_count": null,
      "outputs": [
        {
          "output_type": "display_data",
          "data": {
            "image/png": "[encoded data removed]",
            "text/plain": [
              "<Figure size 432x288 with 1 Axes>"
            ]
          },
          "metadata": {
            "tags": [],
            "needs_background": "light"
          }
        }
      ]
    },
    {
      "cell_type": "markdown",
      "metadata": {
        "id": "4_kCnsPUqS6o"
      },
      "source": [
        "You can import your own data into Colab notebooks from your Google Drive account, including from spreadsheets, as well as from GitHub and many other sources. To find out more about importing data, and how Colab can be used for data science, see the links below under <a href=\"#working-with-data\">Working with data</a>."
      ]
    },
    {
      "cell_type": "markdown",
      "metadata": {
        "id": "-Rh3-Vt9Nev9"
      },
      "source": [
        "### Working with notebooks in Colab\n",
        "- [Overview of Colaboratory](/notebooks/basic_features_overview.ipynb)\n",
        "- [Guide to markdown](/notebooks/markdown_guide.ipynb)\n",
        "- **[Another guide to markdown and colab](https://towardsdatascience.com/cheat-sheet-for-google-colab-63853778c093)**\n",
        "- **[Introduction to python](https://colab.research.google.com/github/cs231n/cs231n.github.io/blob/master/python-colab.ipynb)**\n",
        "- **[Linear Regression with python](https://colab.research.google.com/github/QuantEcon/lecture-python.notebooks/blob/master/ols.ipynb)**\n",
        "- **[Introduction to Scikit-Learn](https://colab.research.google.com/github/jakevdp/PythonDataScienceHandbook/blob/master/notebooks/05.02-Introducing-Scikit-Learn.ipynb)**\n",
        "- [Importing libraries and installing dependencies](/notebooks/snippets/importing_libraries.ipynb)\n",
        "- [Saving and loading notebooks in GitHub](https://colab.research.google.com/github/googlecolab/colabtools/blob/master/notebooks/colab-github-demo.ipynb)\n",
        "- [Interactive forms](/notebooks/forms.ipynb)\n",
        "- [Interactive widgets](/notebooks/widgets.ipynb)\n",
        "- <img src=\"/img/new.png\" height=\"20px\" align=\"left\" hspace=\"4px\" alt=\"New\"></img>\n",
        " [TensorFlow 2 in Colab](/notebooks/tensorflow_version.ipynb)\n",
        "\n",
        "<a name=\"working-with-data\"></a>\n",
        "### Working with data\n",
        "- [Loading data: Drive, Sheets and Google Cloud Storage](/notebooks/io.ipynb) \n",
        "- [Charts: visualising data](/notebooks/charts.ipynb)\n",
        "- [Intro to Pandas](/notebooks/mlcc/intro_to_pandas.ipynb)"
      ]
    }
  ]
}