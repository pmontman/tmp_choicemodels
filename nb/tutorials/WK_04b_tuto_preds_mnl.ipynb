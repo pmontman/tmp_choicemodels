{
  "nbformat": 4,
  "nbformat_minor": 0,
  "metadata": {
    "colab": {
      "name": "tuto_04b_predictions_multinomial",
      "provenance": [],
      "collapsed_sections": [],
      "authorship_tag": "ABX9TyPVrRlhSQi6eC9kwOCTeRNs",
      "include_colab_link": true
    },
    "kernelspec": {
      "name": "python3",
      "display_name": "Python 3"
    },
    "language_info": {
      "name": "python"
    }
  },
  "cells": [
    {
      "cell_type": "markdown",
      "metadata": {
        "id": "view-in-github",
        "colab_type": "text"
      },
      "source": [
        "<a href=\"https://colab.research.google.com/github/pmontman/tmp_choicemodels/blob/main/nb/WK_04b_tuto_preds_mnl.ipynb\" target=\"_parent\"><img src=\"https://colab.research.google.com/assets/colab-badge.svg\" alt=\"Open In Colab\"/></a>"
      ]
    },
    {
      "cell_type": "markdown",
      "metadata": {
        "id": "zuJImh8WqX_m"
      },
      "source": [
        "# Tutorial 4b: Predictions and what if scenarios.\n",
        "\n",
        "#NOTE: This tutorial follows from the previous one, so it will reuse first part. The novelty starts at the section 'Predictions of the model'. There is change w.r.t. to the version for tutorial 3 , we remove the individuals with `GA==0` from the database in the preprocessing step. This is to simplify the notebook a bit."
      ]
    },
    {
      "cell_type": "markdown",
      "metadata": {
        "id": "tzgJbWL2qlAP"
      },
      "source": [
        "\"*Biogeme is a open source Python package designed for the maximum likelihood estimation of parametric models in general, with a special emphasis on discrete choice models.*\""
      ]
    },
    {
      "cell_type": "markdown",
      "metadata": {
        "id": "vb9SIunnASNB"
      },
      "source": [
        "# Preparing the environment"
      ]
    },
    {
      "cell_type": "markdown",
      "metadata": {
        "id": "rlvYdSNvrRfV"
      },
      "source": [
        "Google colab environment does not have biogeme installed by default,\n",
        "so we need to install in every session. Hopefully, it will take less than one minute. Once installed it will be valid until the session expires (or we reset it)."
      ]
    },
    {
      "cell_type": "code",
      "metadata": {
        "colab": {
          "base_uri": "https://localhost:8080/"
        },
        "id": "j5zHGhgErHPd",
        "outputId": "ce2e5a11-b739-4d2a-b091-4002bb245dc1"
      },
      "source": [
        "!pip install biogeme"
      ],
      "execution_count": 2,
      "outputs": [
        {
          "output_type": "stream",
          "name": "stdout",
          "text": [
            "Collecting biogeme\n",
            "  Downloading biogeme-3.2.8.tar.gz (1.5 MB)\n",
            "\u001b[K     |████████████████████████████████| 1.5 MB 12.2 MB/s \n",
            "\u001b[?25hRequirement already satisfied: numpy in /usr/local/lib/python3.7/dist-packages (from biogeme) (1.19.5)\n",
            "Requirement already satisfied: cython in /usr/local/lib/python3.7/dist-packages (from biogeme) (0.29.24)\n",
            "Collecting unidecode\n",
            "  Downloading Unidecode-1.3.0-py2.py3-none-any.whl (235 kB)\n",
            "\u001b[K     |████████████████████████████████| 235 kB 65.1 MB/s \n",
            "\u001b[?25hRequirement already satisfied: scipy in /usr/local/lib/python3.7/dist-packages (from biogeme) (1.4.1)\n",
            "Requirement already satisfied: pandas in /usr/local/lib/python3.7/dist-packages (from biogeme) (1.1.5)\n",
            "Requirement already satisfied: tqdm in /usr/local/lib/python3.7/dist-packages (from biogeme) (4.62.0)\n",
            "Requirement already satisfied: pytz>=2017.2 in /usr/local/lib/python3.7/dist-packages (from pandas->biogeme) (2018.9)\n",
            "Requirement already satisfied: python-dateutil>=2.7.3 in /usr/local/lib/python3.7/dist-packages (from pandas->biogeme) (2.8.2)\n",
            "Requirement already satisfied: six>=1.5 in /usr/local/lib/python3.7/dist-packages (from python-dateutil>=2.7.3->pandas->biogeme) (1.15.0)\n",
            "Building wheels for collected packages: biogeme\n",
            "  Building wheel for biogeme (setup.py) ... \u001b[?25l\u001b[?25hdone\n",
            "  Created wheel for biogeme: filename=biogeme-3.2.8-cp37-cp37m-linux_x86_64.whl size=4030747 sha256=c7cee3b4d6940c0284f42788ced085613e81165dd3f046dedc4d013b94a8e12b\n",
            "  Stored in directory: /root/.cache/pip/wheels/d4/52/61/de6c73d2bc17603c60e754e260bccb7d4da2503e97015ebd49\n",
            "Successfully built biogeme\n",
            "Installing collected packages: unidecode, biogeme\n",
            "Successfully installed biogeme-3.2.8 unidecode-1.3.0\n"
          ]
        }
      ]
    },
    {
      "cell_type": "markdown",
      "metadata": {
        "id": "1z0X9xZ8rChf"
      },
      "source": [
        "First load the packages typical packages, biogeme and the common one for python data analysis."
      ]
    },
    {
      "cell_type": "code",
      "metadata": {
        "id": "apVB-TMkrFnb"
      },
      "source": [
        "import pandas  as pd\n",
        "import numpy as np\n",
        "import seaborn as sns\n",
        "import matplotlib.pyplot as plt\n",
        "\n",
        "import biogeme.database as db\n",
        "import biogeme.biogeme as bio\n",
        "import biogeme.models as models\n",
        "import biogeme.expressions as exp\n"
      ],
      "execution_count": 3,
      "outputs": []
    },
    {
      "cell_type": "markdown",
      "metadata": {
        "id": "Mgv0hV1YAieW"
      },
      "source": [
        "# The dataset\n",
        "\n",
        "We will use the example from the biogeme package, Swissmetro dataset:\n",
        "\n",
        "\"*This dataset consists of survey data collected on the trains between St. Gallen and Geneva, Switzerland, during March 1998. The respondents provided information in order to analyze the impact of\n",
        "the modal innovation in transportation (a new mode of transport), represented by the Swissmetro, a revolutionary mag-lev underground system, against the usual transport modes represented by car and train.*\""
      ]
    },
    {
      "cell_type": "markdown",
      "metadata": {
        "id": "_Zq_3AwIr7u8"
      },
      "source": [
        "#Loading the dataset\n",
        "\n",
        "Biogeme can interact with the popular pandas package, so we can load the dataset in pandas first and then pass it to biogeme.\n",
        "\n",
        "This specific dataset uses the format 'tab separated values' instead of the more common 'comma separated values'. We can specify this non-standard separator by the argument `sep` in `pandas.read_csv`.\n",
        "\n"
      ]
    },
    {
      "cell_type": "code",
      "metadata": {
        "id": "g1Ykn5Ytr7Rs"
      },
      "source": [
        "swissmetro = pd.read_csv('http://transp-or.epfl.ch/data/swissmetro.dat', sep='\\t')"
      ],
      "execution_count": 4,
      "outputs": []
    },
    {
      "cell_type": "markdown",
      "metadata": {
        "id": "ZY55r3Gesb3t"
      },
      "source": [
        "We will take a look at it, using the head() method of to display the first few rows.\n",
        "\n",
        "There is a detailed description of the dataset \n",
        "variables [here](http://transp-or.epfl.ch/documents/technicalReports/CS_SwissmetroDescription.pdf). **You will need to take a look at them later\n",
        "to understand the data and create your own models.**"
      ]
    },
    {
      "cell_type": "code",
      "metadata": {
        "colab": {
          "base_uri": "https://localhost:8080/",
          "height": 205
        },
        "id": "ldkmnMhssemT",
        "outputId": "de18ef22-0345-4e78-ef29-f2a8d6930bc2"
      },
      "source": [
        "swissmetro.head(5)"
      ],
      "execution_count": 5,
      "outputs": [
        {
          "output_type": "execute_result",
          "data": {
            "text/html": [
              "<div>\n",
              "<style scoped>\n",
              "    .dataframe tbody tr th:only-of-type {\n",
              "        vertical-align: middle;\n",
              "    }\n",
              "\n",
              "    .dataframe tbody tr th {\n",
              "        vertical-align: top;\n",
              "    }\n",
              "\n",
              "    .dataframe thead th {\n",
              "        text-align: right;\n",
              "    }\n",
              "</style>\n",
              "<table border=\"1\" class=\"dataframe\">\n",
              "  <thead>\n",
              "    <tr style=\"text-align: right;\">\n",
              "      <th></th>\n",
              "      <th>GROUP</th>\n",
              "      <th>SURVEY</th>\n",
              "      <th>SP</th>\n",
              "      <th>ID</th>\n",
              "      <th>PURPOSE</th>\n",
              "      <th>FIRST</th>\n",
              "      <th>TICKET</th>\n",
              "      <th>WHO</th>\n",
              "      <th>LUGGAGE</th>\n",
              "      <th>AGE</th>\n",
              "      <th>MALE</th>\n",
              "      <th>INCOME</th>\n",
              "      <th>GA</th>\n",
              "      <th>ORIGIN</th>\n",
              "      <th>DEST</th>\n",
              "      <th>TRAIN_AV</th>\n",
              "      <th>CAR_AV</th>\n",
              "      <th>SM_AV</th>\n",
              "      <th>TRAIN_TT</th>\n",
              "      <th>TRAIN_CO</th>\n",
              "      <th>TRAIN_HE</th>\n",
              "      <th>SM_TT</th>\n",
              "      <th>SM_CO</th>\n",
              "      <th>SM_HE</th>\n",
              "      <th>SM_SEATS</th>\n",
              "      <th>CAR_TT</th>\n",
              "      <th>CAR_CO</th>\n",
              "      <th>CHOICE</th>\n",
              "    </tr>\n",
              "  </thead>\n",
              "  <tbody>\n",
              "    <tr>\n",
              "      <th>0</th>\n",
              "      <td>2</td>\n",
              "      <td>0</td>\n",
              "      <td>1</td>\n",
              "      <td>1</td>\n",
              "      <td>1</td>\n",
              "      <td>0</td>\n",
              "      <td>1</td>\n",
              "      <td>1</td>\n",
              "      <td>0</td>\n",
              "      <td>3</td>\n",
              "      <td>0</td>\n",
              "      <td>2</td>\n",
              "      <td>0</td>\n",
              "      <td>2</td>\n",
              "      <td>1</td>\n",
              "      <td>1</td>\n",
              "      <td>1</td>\n",
              "      <td>1</td>\n",
              "      <td>112</td>\n",
              "      <td>48</td>\n",
              "      <td>120</td>\n",
              "      <td>63</td>\n",
              "      <td>52</td>\n",
              "      <td>20</td>\n",
              "      <td>0</td>\n",
              "      <td>117</td>\n",
              "      <td>65</td>\n",
              "      <td>2</td>\n",
              "    </tr>\n",
              "    <tr>\n",
              "      <th>1</th>\n",
              "      <td>2</td>\n",
              "      <td>0</td>\n",
              "      <td>1</td>\n",
              "      <td>1</td>\n",
              "      <td>1</td>\n",
              "      <td>0</td>\n",
              "      <td>1</td>\n",
              "      <td>1</td>\n",
              "      <td>0</td>\n",
              "      <td>3</td>\n",
              "      <td>0</td>\n",
              "      <td>2</td>\n",
              "      <td>0</td>\n",
              "      <td>2</td>\n",
              "      <td>1</td>\n",
              "      <td>1</td>\n",
              "      <td>1</td>\n",
              "      <td>1</td>\n",
              "      <td>103</td>\n",
              "      <td>48</td>\n",
              "      <td>30</td>\n",
              "      <td>60</td>\n",
              "      <td>49</td>\n",
              "      <td>10</td>\n",
              "      <td>0</td>\n",
              "      <td>117</td>\n",
              "      <td>84</td>\n",
              "      <td>2</td>\n",
              "    </tr>\n",
              "    <tr>\n",
              "      <th>2</th>\n",
              "      <td>2</td>\n",
              "      <td>0</td>\n",
              "      <td>1</td>\n",
              "      <td>1</td>\n",
              "      <td>1</td>\n",
              "      <td>0</td>\n",
              "      <td>1</td>\n",
              "      <td>1</td>\n",
              "      <td>0</td>\n",
              "      <td>3</td>\n",
              "      <td>0</td>\n",
              "      <td>2</td>\n",
              "      <td>0</td>\n",
              "      <td>2</td>\n",
              "      <td>1</td>\n",
              "      <td>1</td>\n",
              "      <td>1</td>\n",
              "      <td>1</td>\n",
              "      <td>130</td>\n",
              "      <td>48</td>\n",
              "      <td>60</td>\n",
              "      <td>67</td>\n",
              "      <td>58</td>\n",
              "      <td>30</td>\n",
              "      <td>0</td>\n",
              "      <td>117</td>\n",
              "      <td>52</td>\n",
              "      <td>2</td>\n",
              "    </tr>\n",
              "    <tr>\n",
              "      <th>3</th>\n",
              "      <td>2</td>\n",
              "      <td>0</td>\n",
              "      <td>1</td>\n",
              "      <td>1</td>\n",
              "      <td>1</td>\n",
              "      <td>0</td>\n",
              "      <td>1</td>\n",
              "      <td>1</td>\n",
              "      <td>0</td>\n",
              "      <td>3</td>\n",
              "      <td>0</td>\n",
              "      <td>2</td>\n",
              "      <td>0</td>\n",
              "      <td>2</td>\n",
              "      <td>1</td>\n",
              "      <td>1</td>\n",
              "      <td>1</td>\n",
              "      <td>1</td>\n",
              "      <td>103</td>\n",
              "      <td>40</td>\n",
              "      <td>30</td>\n",
              "      <td>63</td>\n",
              "      <td>52</td>\n",
              "      <td>20</td>\n",
              "      <td>0</td>\n",
              "      <td>72</td>\n",
              "      <td>52</td>\n",
              "      <td>2</td>\n",
              "    </tr>\n",
              "    <tr>\n",
              "      <th>4</th>\n",
              "      <td>2</td>\n",
              "      <td>0</td>\n",
              "      <td>1</td>\n",
              "      <td>1</td>\n",
              "      <td>1</td>\n",
              "      <td>0</td>\n",
              "      <td>1</td>\n",
              "      <td>1</td>\n",
              "      <td>0</td>\n",
              "      <td>3</td>\n",
              "      <td>0</td>\n",
              "      <td>2</td>\n",
              "      <td>0</td>\n",
              "      <td>2</td>\n",
              "      <td>1</td>\n",
              "      <td>1</td>\n",
              "      <td>1</td>\n",
              "      <td>1</td>\n",
              "      <td>130</td>\n",
              "      <td>36</td>\n",
              "      <td>60</td>\n",
              "      <td>63</td>\n",
              "      <td>42</td>\n",
              "      <td>20</td>\n",
              "      <td>0</td>\n",
              "      <td>90</td>\n",
              "      <td>84</td>\n",
              "      <td>2</td>\n",
              "    </tr>\n",
              "  </tbody>\n",
              "</table>\n",
              "</div>"
            ],
            "text/plain": [
              "   GROUP  SURVEY  SP  ID  PURPOSE  ...  SM_HE  SM_SEATS  CAR_TT  CAR_CO  CHOICE\n",
              "0      2       0   1   1        1  ...     20         0     117      65       2\n",
              "1      2       0   1   1        1  ...     10         0     117      84       2\n",
              "2      2       0   1   1        1  ...     30         0     117      52       2\n",
              "3      2       0   1   1        1  ...     20         0      72      52       2\n",
              "4      2       0   1   1        1  ...     20         0      90      84       2\n",
              "\n",
              "[5 rows x 28 columns]"
            ]
          },
          "metadata": {},
          "execution_count": 5
        }
      ]
    },
    {
      "cell_type": "markdown",
      "metadata": {
        "id": "K3-FzZrJuma4"
      },
      "source": [
        "We see some socioeconomic characteristics such as 'AGE', likely encoding by age groups, 'MALE' which we can assume refers to gender. There are also some attributes of the alternatives, such as 'CAR_TT' which would be travel time in car, 'TRAIN_CO' which refers to the cost of the fare by train.\n",
        "\n",
        "An important variable is 'CHOICE' it is the result of the choice for each individual, coded as 1 for train, 2 for swissmetro, 3 for car. The value 0 indicates invalid response."
      ]
    },
    {
      "cell_type": "markdown",
      "metadata": {
        "id": "o3BZ4otYvdYM"
      },
      "source": [
        "# Passing the dataset to biogeme\n",
        "\n",
        "For now, we have loaded the dataset into a pandas dataframe, we need to transform it into a Biogeme database, the format that biogeme understands.\n",
        "We pass first argument the name of the database that we want to give and second the pandas dataframe."
      ]
    },
    {
      "cell_type": "code",
      "metadata": {
        "id": "JAuXh-SfvcwT"
      },
      "source": [
        "bgm_swissmetro = db.Database('swissmetro', swissmetro)"
      ],
      "execution_count": 6,
      "outputs": []
    },
    {
      "cell_type": "markdown",
      "metadata": {
        "id": "LOO_ErPbw0go"
      },
      "source": [
        "We can access the dictionary of variables in the biogeme database the following way:"
      ]
    },
    {
      "cell_type": "code",
      "metadata": {
        "colab": {
          "base_uri": "https://localhost:8080/"
        },
        "id": "6Bt1iHz9xUHm",
        "outputId": "26623a65-6434-4772-8ee0-01bc3ab998c1"
      },
      "source": [
        "bgm_swissmetro.variables['CHOICE']"
      ],
      "execution_count": 7,
      "outputs": [
        {
          "output_type": "execute_result",
          "data": {
            "text/plain": [
              "CHOICE"
            ]
          },
          "metadata": {},
          "execution_count": 7
        }
      ]
    },
    {
      "cell_type": "markdown",
      "metadata": {
        "id": "qmw2wtC2yHFZ"
      },
      "source": [
        "Because this is too verbose, we can load them into the global variables\n",
        "of the python environment, to make the symbolic manipulation less verbose, so we can refer to them just by writing `VARIABLE_NAME` instead of having to write `database.variables['VARIABLE_NAME']`."
      ]
    },
    {
      "cell_type": "code",
      "metadata": {
        "colab": {
          "base_uri": "https://localhost:8080/"
        },
        "id": "q3VDQa8Xwln5",
        "outputId": "be1f127a-1bbd-4c4d-d2c4-ac9a5dc3953f"
      },
      "source": [
        "globals().update(bgm_swissmetro.variables)\n",
        "CHOICE"
      ],
      "execution_count": 8,
      "outputs": [
        {
          "output_type": "execute_result",
          "data": {
            "text/plain": [
              "CHOICE"
            ]
          },
          "metadata": {},
          "execution_count": 8
        }
      ]
    },
    {
      "cell_type": "markdown",
      "metadata": {
        "id": "G-WceQeczaS4"
      },
      "source": [
        "Before we begin, we will need to clean the dataset a bit. In this case,\n",
        "we have people that did not respond to the survey, and their value assigned\n",
        "to the choice is 0. The only valid values for the choice are 1,2,3 indicating\n",
        "the alternatives, train, swissmetro and car.\n",
        "We can remove them from the biogeme database using the `remove` method with the logical indicator for the row that have choice 0.\n",
        "\n",
        "**It is recommended that all database manipulations/cleaning are applied directly on the pandas dataframe before passing it to biogeme.** The reason being that pandas is better designed for that purpose and makes the code more readable. Ideally we would like out interactions with biogeme to be minimized and do as much as possible with the standard frameworks such as pandas.  "
      ]
    },
    {
      "cell_type": "code",
      "metadata": {
        "id": "xV8HYAgdREiN"
      },
      "source": [
        "bgm_swissmetro.remove( (CHOICE == 0) )\n",
        "bgm_swissmetro.remove( (GA == 1) )"
      ],
      "execution_count": 9,
      "outputs": []
    },
    {
      "cell_type": "markdown",
      "metadata": {
        "id": "KqiArlqd0qFR"
      },
      "source": [
        "# Creating the model\n",
        "\n",
        "What we usually need to define in the multinomial logit can be summarized as:\n",
        " * Which variables in the database are we going to include in the model linear model.\n",
        " * What is the variable in the database that specifies the choice made, the alternative selected by an individual. The 'target variable' or dependent variable.\n",
        " * What variables are used in the modelling of each alternative. Remember that we can define a utility function for each alternative, so we can have alternatives that depend of some variables, and we can also have some variables that are estimated for all alternatives.\n",
        "\n",
        "We can connect this back to the utily theory view, we want to specify the functions that produce the observed component of the utility, the $V_{nj}$\n",
        "\n",
        "For each alternative $j$ and observation $n$, we consider the vector $x_{nj}$\n",
        "to be the joint vector of for both attributes and characteristics (to simplify things).  We try to find the vector of coefficients $\\beta_j$ for each alternative. In other words, we try to find the linear relationship between the variables and utility for each alternative:\n",
        "  $$V_{nj} = \\beta_j x_n$$ \n",
        "\n",
        "* Consider that some attributes or characteristics are not relevant for some alternatives: This would be equivanlent to fixing some of the values for $\\beta_j$ to 0 and not fitting them to data.\n",
        "* Consider that some attributes or characteristics 'share' the value of the coefficient.\n"
      ]
    },
    {
      "cell_type": "markdown",
      "metadata": {
        "id": "0De-iYpQbw67"
      },
      "source": [
        "\n",
        "# The alternative specific constants:\n",
        "Just as in linear models we have the intercept, in choice models we have alternative specific constants. An important difference is that we cannot determine their value, because we have seen in the previous tutorial that the absolute level of utilities cannot be recovered. In practice, what we will do is assume that the attribute specific characteristic of one of the alternatives is set to 0 and we do not fit them to the data. This will set a reference point.\n",
        "Again, which alternative we use as reference and what value for the ASC is arbitrary.\n"
      ]
    },
    {
      "cell_type": "markdown",
      "metadata": {
        "id": "PIouJf_BRyUu"
      },
      "source": [
        "# Definition of the model in biogeme\n",
        "We define the parameters of the model through the function `exp.Beta`.\n",
        "The function `exp.Beta` takes 5 arguments:\n",
        "1. the name of the parameter.\n",
        "2. the default value. We can use 0 for the default values unless we know a better starting value, for example when we have prior information.\n",
        "3. The lower bound, if we want to restrict it to a range, `None` if we do not want to restrict the value of the parameter. For example, sometimes we might know or would like to for a parameter to be positive.\n",
        "4. The upper bound, if we want to restrict it to a range, `None` if we do not want to restrict the value of the parameter.\n",
        "5. A 0/1 argument, 0 if the parameter must be estimated and 1 if it remains fixed.\n",
        "\n",
        "We will define a simple model with just the three ASCs and two parameters for two variables of interest, time and cost.\n",
        "Note that one of the ASCs, `ASC_SM` is set to not be estimated, notice the 1 in the value of the last argument when it is created. This comes from the explanation above, we set one of the ASCs arbitrarily to 0 because we utility cannot be recovered up to changes in constants, so we will pick among the many possible solutions the one that makes the ASC for the SwissMetro alternative 0.\n"
      ]
    },
    {
      "cell_type": "code",
      "metadata": {
        "id": "zOpyvTcbRPy4"
      },
      "source": [
        "ASC_CAR = exp.Beta ( 'ASC_CAR' ,0, None , None ,0)\n",
        "ASC_TRAIN = exp.Beta ( 'ASC_TRAIN' ,0, None , None ,0)\n",
        "ASC_SM = exp.Beta ( 'ASC_SM' ,0, None , None ,1)\n",
        "B_TIME = exp.Beta ( 'B_TIME' ,0, None , None ,0)\n",
        "B_COST = exp.Beta ( 'B_COST' ,0, None , None ,0)"
      ],
      "execution_count": 10,
      "outputs": []
    },
    {
      "cell_type": "markdown",
      "metadata": {
        "id": "t3REqjxrj2x1"
      },
      "source": [
        "We will create an artificial variable, ussing the luggage variable but squared.\n",
        "This variable will only be included as a parameter for the utility of the car alternative. This is a totally arbitrary variable for the purposes of exposition, it does not mean that it is a good one."
      ]
    },
    {
      "cell_type": "code",
      "metadata": {
        "id": "wwISbL_Gi-A_"
      },
      "source": [
        "B_LUGGA_SQ = exp.Beta( 'B_LUGGA_SQ', 0, None, None, 0)\n",
        "LUGGA_SQ = LUGGAGE**2"
      ],
      "execution_count": 11,
      "outputs": []
    },
    {
      "cell_type": "markdown",
      "metadata": {
        "id": "YT3brmCSUaLB"
      },
      "source": [
        "A warning from the creator of the biogeme package:\n",
        "when we define the parameters of our model, we store them into python variables.\n",
        "The authr strongly recomments using the same name for the python variable\n",
        "than for the parameter.\n",
        "For example, while we could have define the variable following the code in the next cell, it is not recommended. I imagine that this could cause some confusion later on.\n",
        "\n"
      ]
    },
    {
      "cell_type": "code",
      "metadata": {
        "id": "J6jlUKDRUfjx"
      },
      "source": [
        "#doing this is not recommended!\n",
        "car_cte = exp.Beta( 'ASC_CAR' ,0, None , None ,0)"
      ],
      "execution_count": 12,
      "outputs": []
    },
    {
      "cell_type": "markdown",
      "metadata": {
        "id": "4ECerH2CWOBV"
      },
      "source": [
        "We now define the utility functions for each alternative, more speficifically the linear relationship between the variables and the observed component of the utility."
      ]
    },
    {
      "cell_type": "code",
      "metadata": {
        "id": "VZ7iyvO4WEtz"
      },
      "source": [
        "V1 = ASC_TRAIN + B_TIME * TRAIN_TT + B_COST * TRAIN_CO \n",
        "\n",
        "V2 = ASC_SM + B_TIME * SM_TT + B_COST * SM_CO \n",
        "\n",
        "V3 = ASC_CAR + B_TIME * CAR_TT + B_COST * CAR_CO + B_LUGGA_SQ*LUGGA_SQ\n"
      ],
      "execution_count": 13,
      "outputs": []
    },
    {
      "cell_type": "markdown",
      "metadata": {
        "id": "DEC2xflnWfHr"
      },
      "source": [
        "We have to create a dictionary that maps the utility functions to the numbers that identify the alternatives in the database.\n",
        "In this case 1 for Train, 2 for Swissmetro, 3 for car."
      ]
    },
    {
      "cell_type": "code",
      "metadata": {
        "id": "B8hQMvaFWekd"
      },
      "source": [
        "V = {1: V1 ,\n",
        "2: V2 ,\n",
        "3: V3 }"
      ],
      "execution_count": 14,
      "outputs": []
    },
    {
      "cell_type": "markdown",
      "metadata": {
        "id": "Bs6NR7URW4_w"
      },
      "source": [
        "We have to pass availabilities, these are the indicator variables signaling if the option is available for that individual. Remember that the multinomial does not need to have all alternatives present for all individuals, it can recover the model from data even if the full choice set is not available for all individuals."
      ]
    },
    {
      "cell_type": "code",
      "metadata": {
        "id": "7cFRkLSQW5bZ"
      },
      "source": [
        "\n",
        "\n",
        "av = {1: TRAIN_AV,\n",
        "2: SM_AV,\n",
        "3: CAR_AV }"
      ],
      "execution_count": 15,
      "outputs": []
    },
    {
      "cell_type": "markdown",
      "metadata": {
        "id": "Ibxs6VjNDDo6"
      },
      "source": [
        "This is the definition of the model, in this case the multinomial logit (we will use other models later)."
      ]
    },
    {
      "cell_type": "code",
      "metadata": {
        "id": "FFPU3K7EXlZm"
      },
      "source": [
        "logprob = models.loglogit (V , av , CHOICE )"
      ],
      "execution_count": 16,
      "outputs": []
    },
    {
      "cell_type": "markdown",
      "metadata": {
        "id": "G6TgmVHtdT9G"
      },
      "source": [
        "And finally we pack everything together in the biogeme object."
      ]
    },
    {
      "cell_type": "code",
      "metadata": {
        "id": "4Qw4I1HdXgvb"
      },
      "source": [
        "bgm_model = bio.BIOGEME ( bgm_swissmetro, logprob )"
      ],
      "execution_count": 17,
      "outputs": []
    },
    {
      "cell_type": "markdown",
      "metadata": {
        "id": "ez0sa4fAcT9b"
      },
      "source": [
        "We can give a name to the model, this can help identifying the model when we come back to it later, for example when we save it to a file and want to use it in another report."
      ]
    },
    {
      "cell_type": "code",
      "metadata": {
        "id": "zn-2Fy3JX2Gi"
      },
      "source": [
        "bgm_model.modelName = 'my first multinomial logit'"
      ],
      "execution_count": 18,
      "outputs": []
    },
    {
      "cell_type": "markdown",
      "metadata": {
        "id": "86bZksOJb70Y"
      },
      "source": [
        "# Estimation of the model\n",
        "\n",
        "Everythin is set, biogeme will kindly do maximum likelihood estimation for us."
      ]
    },
    {
      "cell_type": "code",
      "metadata": {
        "id": "XqRyOneGYG2t"
      },
      "source": [
        "results = bgm_model.estimate()"
      ],
      "execution_count": 19,
      "outputs": []
    },
    {
      "cell_type": "markdown",
      "metadata": {
        "id": "d4RInW7rcC3r"
      },
      "source": [
        "# Results of the model\n",
        "\n",
        "We can check a basic summary of the estimated model, likelihoods, information\n",
        "criterions, etc."
      ]
    },
    {
      "cell_type": "code",
      "metadata": {
        "colab": {
          "base_uri": "https://localhost:8080/"
        },
        "id": "oMV3mFzuYJKB",
        "outputId": "f831f13b-06e0-4c8b-cd65-2106634498a3"
      },
      "source": [
        "results.getGeneralStatistics()"
      ],
      "execution_count": 20,
      "outputs": [
        {
          "output_type": "execute_result",
          "data": {
            "text/plain": [
              "{'Akaike Information Criterion': (14200.492538968734, '.7g'),\n",
              " 'Bayesian Information Criterion': (14236.131135685173, '.7g'),\n",
              " 'Excluded observations': (1512, ''),\n",
              " 'Final gradient norm': (0.0451203565262594, '.4E'),\n",
              " 'Final log likelihood': (-7095.246269484367, '.7g'),\n",
              " 'Init log likelihood': (-9742.706372523207, '.7g'),\n",
              " 'Likelihood ratio test for the init. model': (5294.920206077681, '.7g'),\n",
              " 'Nbr of threads': (2, ''),\n",
              " 'Number of estimated parameters': (5, ''),\n",
              " 'Rho-square for the init. model': (0.27173764679035384, '.3g'),\n",
              " 'Rho-square-bar for the init. model': (0.2712244423675969, '.3g'),\n",
              " 'Sample size': (9207, '')}"
            ]
          },
          "metadata": {},
          "execution_count": 20
        }
      ]
    },
    {
      "cell_type": "markdown",
      "metadata": {
        "id": "2IJGgJ59iHHB"
      },
      "source": [
        "The value of the parameters and the p-values for their statistical significance.\n",
        "Note that ASC_SM is not shown, it was fixed to 0 by us."
      ]
    },
    {
      "cell_type": "code",
      "metadata": {
        "colab": {
          "base_uri": "https://localhost:8080/",
          "height": 205
        },
        "id": "6wTlZ6NuYXAf",
        "outputId": "502c1307-299e-4ee9-b954-800fe3328192"
      },
      "source": [
        "results.getEstimatedParameters()"
      ],
      "execution_count": 21,
      "outputs": [
        {
          "output_type": "execute_result",
          "data": {
            "text/html": [
              "<div>\n",
              "<style scoped>\n",
              "    .dataframe tbody tr th:only-of-type {\n",
              "        vertical-align: middle;\n",
              "    }\n",
              "\n",
              "    .dataframe tbody tr th {\n",
              "        vertical-align: top;\n",
              "    }\n",
              "\n",
              "    .dataframe thead th {\n",
              "        text-align: right;\n",
              "    }\n",
              "</style>\n",
              "<table border=\"1\" class=\"dataframe\">\n",
              "  <thead>\n",
              "    <tr style=\"text-align: right;\">\n",
              "      <th></th>\n",
              "      <th>Value</th>\n",
              "      <th>Std err</th>\n",
              "      <th>t-test</th>\n",
              "      <th>p-value</th>\n",
              "      <th>Rob. Std err</th>\n",
              "      <th>Rob. t-test</th>\n",
              "      <th>Rob. p-value</th>\n",
              "    </tr>\n",
              "  </thead>\n",
              "  <tbody>\n",
              "    <tr>\n",
              "      <th>ASC_CAR</th>\n",
              "      <td>0.100709</td>\n",
              "      <td>0.037175</td>\n",
              "      <td>2.709050</td>\n",
              "      <td>0.006748</td>\n",
              "      <td>0.044229</td>\n",
              "      <td>2.276975</td>\n",
              "      <td>0.022788</td>\n",
              "    </tr>\n",
              "    <tr>\n",
              "      <th>ASC_TRAIN</th>\n",
              "      <td>-1.067158</td>\n",
              "      <td>0.050138</td>\n",
              "      <td>-21.284324</td>\n",
              "      <td>0.000000</td>\n",
              "      <td>0.063920</td>\n",
              "      <td>-16.695091</td>\n",
              "      <td>0.000000</td>\n",
              "    </tr>\n",
              "    <tr>\n",
              "      <th>B_COST</th>\n",
              "      <td>-0.007187</td>\n",
              "      <td>0.000382</td>\n",
              "      <td>-18.800027</td>\n",
              "      <td>0.000000</td>\n",
              "      <td>0.000541</td>\n",
              "      <td>-13.293817</td>\n",
              "      <td>0.000000</td>\n",
              "    </tr>\n",
              "    <tr>\n",
              "      <th>B_LUGGA_SQ</th>\n",
              "      <td>-0.081684</td>\n",
              "      <td>0.024663</td>\n",
              "      <td>-3.311961</td>\n",
              "      <td>0.000926</td>\n",
              "      <td>0.022470</td>\n",
              "      <td>-3.635325</td>\n",
              "      <td>0.000278</td>\n",
              "    </tr>\n",
              "    <tr>\n",
              "      <th>B_TIME</th>\n",
              "      <td>-0.012762</td>\n",
              "      <td>0.000446</td>\n",
              "      <td>-28.611135</td>\n",
              "      <td>0.000000</td>\n",
              "      <td>0.000703</td>\n",
              "      <td>-18.160019</td>\n",
              "      <td>0.000000</td>\n",
              "    </tr>\n",
              "  </tbody>\n",
              "</table>\n",
              "</div>"
            ],
            "text/plain": [
              "               Value   Std err  ...  Rob. t-test  Rob. p-value\n",
              "ASC_CAR     0.100709  0.037175  ...     2.276975      0.022788\n",
              "ASC_TRAIN  -1.067158  0.050138  ...   -16.695091      0.000000\n",
              "B_COST     -0.007187  0.000382  ...   -13.293817      0.000000\n",
              "B_LUGGA_SQ -0.081684  0.024663  ...    -3.635325      0.000278\n",
              "B_TIME     -0.012762  0.000446  ...   -18.160019      0.000000\n",
              "\n",
              "[5 rows x 7 columns]"
            ]
          },
          "metadata": {},
          "execution_count": 21
        }
      ]
    },
    {
      "cell_type": "markdown",
      "metadata": {
        "id": "AjwSwASHiZ63"
      },
      "source": [
        "We can recover the values for the parameters in a dictionary."
      ]
    },
    {
      "cell_type": "code",
      "metadata": {
        "colab": {
          "base_uri": "https://localhost:8080/"
        },
        "id": "hbIei-9NYqR4",
        "outputId": "52fdee7d-a259-48f1-8085-5949c100b3a5"
      },
      "source": [
        "results.getBetaValues()"
      ],
      "execution_count": 22,
      "outputs": [
        {
          "output_type": "execute_result",
          "data": {
            "text/plain": [
              "{'ASC_CAR': 0.10070859907228755,\n",
              " 'ASC_TRAIN': -1.0671577468567794,\n",
              " 'B_COST': -0.007186549330881186,\n",
              " 'B_LUGGA_SQ': -0.08168395799711564,\n",
              " 'B_TIME': -0.012762245336960068}"
            ]
          },
          "metadata": {},
          "execution_count": 22
        }
      ]
    },
    {
      "cell_type": "markdown",
      "metadata": {
        "id": "XmlGz3EoUfrK"
      },
      "source": [
        "# Predictions of the model"
      ]
    },
    {
      "cell_type": "markdown",
      "metadata": {
        "id": "titlXaWWSlco"
      },
      "source": [
        "Producing the choice probabilities with biogeme is a little bit more cumbersome,\n",
        "we need to do a two-step process:\n",
        " 1. We need to create a biogeme object with two arguments\n",
        "   * The dataset that we want to calculate the predictions on\n",
        "   * The targets to predict. This could be the individual utility functions, if we want to calculate utilities. It could also be the logit transformation of the utility functions, if we want to calculate probabilities.\n",
        " 2. Then we call the `simulate()` method of the biogeme object, the one that calculates predictions. The argument for simulate is the values for the betas, the coefficients estimated in the model. We can get them from the `getBetaValues()` in the estimated model, the `results` object calculated before. Note that we have two biogeme objects, the one we created to estimate the model and the one we use to produce the predictions, name them appropiately!\n",
        "\n",
        "We can use as input dataset the same dataset in which we estimated the model, this way we could get all the validation measures. We can use a different dataset, as long as it has the same structure as the one that was used to estimate the model. A 'different dataset' can be used for holdout validation measures, all the what-if scenarios (and willingness to pay, elasticities, marginal) and the actual 'predictions' in practice, in real scenarios where we do not know the choices.\n",
        " **Important: If we use variable transformations, we need to be careful when inputting a different dataset, because these transformations will not exists in the new dataset. This is why creating the transformations using panda/numpy in the pandas dataframe and then passing it to biogeme is the recommended approach.** \n"
      ]
    },
    {
      "cell_type": "markdown",
      "metadata": {
        "id": "0QGaGort9qf4"
      },
      "source": [
        "## Calculating choice probabilities\n",
        "\n",
        "The first example is to get the choice probabilities.\n",
        "We start with the expressions from the utility functions and we need to tranform them into expressions for choice probabilities. The way to do this is\n",
        "to apply the mutinomial logit 'squashing function'. We indicate this in biogeme using the `models.logit` function. The `models.logit` function requies the dictionary for the utilities espressions `V`, the availabilities dictionary. We need to create one `models.logit` for each alternative, and we indicate that with the number that indentifies the alternatives in the database, so 1 for train, 2 for swissmetro and 3 for car."
      ]
    },
    {
      "cell_type": "code",
      "metadata": {
        "id": "UGz7cl-NR0wa"
      },
      "source": [
        "prob_train = models.logit(V, av, 1)\n",
        "prob_SM = models.logit(V, av, 2)\n",
        "prob_car = models.logit(V, av, 3)"
      ],
      "execution_count": 23,
      "outputs": []
    },
    {
      "cell_type": "markdown",
      "metadata": {
        "id": "6-u7-f6I_pab"
      },
      "source": [
        "Next we need to assemble all the `models.logit` into one dictionary, we name the outputs properly to know what is being calculated."
      ]
    },
    {
      "cell_type": "code",
      "metadata": {
        "id": "u--HilQK-TKz"
      },
      "source": [
        "\n",
        "targets_to_simulate ={'Prob. train':  prob_train ,\n",
        "                      'Prob. SM':  prob_SM ,\n",
        "           'Prob. car': prob_car }\n"
      ],
      "execution_count": 24,
      "outputs": []
    },
    {
      "cell_type": "markdown",
      "metadata": {
        "id": "s0fdoj0b_40F"
      },
      "source": [
        "The we create the biogeme object with the dataset we want to calculate the predictions on and the dictionary for the expressions of choice probabilities."
      ]
    },
    {
      "cell_type": "code",
      "metadata": {
        "id": "m1hQnknT_3I6"
      },
      "source": [
        "\n",
        "bgm_pred_model = bio.BIOGEME(bgm_swissmetro, targets_to_simulate)\n",
        "bgm_pred_model.modelName = \"swissmetro_logit_test\"           \n"
      ],
      "execution_count": 25,
      "outputs": []
    },
    {
      "cell_type": "markdown",
      "metadata": {
        "id": "e__kLvBdUWvN"
      },
      "source": [
        "Finally we pass to the predictive biogeme object the coefficients estimated from the other model, in the `results` object in our example. We show the choice probabilities predicted by the model."
      ]
    },
    {
      "cell_type": "code",
      "metadata": {
        "id": "v9JwqaV7UUAW",
        "colab": {
          "base_uri": "https://localhost:8080/"
        },
        "outputId": "74dc443c-8096-4ae5-ed4f-3aa5f3156bb6"
      },
      "source": [
        "\n",
        "betaValues = results.getBetaValues()\n",
        "simulatedValues = bgm_pred_model.simulate(betaValues)\n",
        "print(simulatedValues.head())"
      ],
      "execution_count": 26,
      "outputs": [
        {
          "output_type": "stream",
          "name": "stdout",
          "text": [
            "   Prob. train  Prob. SM  Prob. car\n",
            "0     0.111749  0.589939   0.298312\n",
            "1     0.123875  0.618950   0.257175\n",
            "2     0.093168  0.563247   0.343585\n",
            "3     0.101789  0.452283   0.445928\n",
            "4     0.088171  0.577315   0.334514\n"
          ]
        }
      ]
    },
    {
      "cell_type": "markdown",
      "metadata": {
        "id": "PR-9QqyHuHjT"
      },
      "source": [
        "## Calculating utilities\n",
        "\n",
        "The utility functions can be recovered from the  python\n",
        "dictionary that was used to specify the expressions for each, the `V` object in our example.\n",
        "\n",
        "So we will do everythin in one line, creating the biogeme object for the predictions, and the computing the utilities.\n"
      ]
    },
    {
      "cell_type": "code",
      "metadata": {
        "colab": {
          "base_uri": "https://localhost:8080/",
          "height": 205
        },
        "id": "Vv4lXVsWngX1",
        "outputId": "d7d52d28-b51b-4494-b803-95cd2577d4fe"
      },
      "source": [
        "Vpred = bio.BIOGEME(bgm_swissmetro, V).simulate(betaValues)\n",
        "Vpred.head()"
      ],
      "execution_count": 27,
      "outputs": [
        {
          "output_type": "execute_result",
          "data": {
            "text/html": [
              "<div>\n",
              "<style scoped>\n",
              "    .dataframe tbody tr th:only-of-type {\n",
              "        vertical-align: middle;\n",
              "    }\n",
              "\n",
              "    .dataframe tbody tr th {\n",
              "        vertical-align: top;\n",
              "    }\n",
              "\n",
              "    .dataframe thead th {\n",
              "        text-align: right;\n",
              "    }\n",
              "</style>\n",
              "<table border=\"1\" class=\"dataframe\">\n",
              "  <thead>\n",
              "    <tr style=\"text-align: right;\">\n",
              "      <th></th>\n",
              "      <th>1</th>\n",
              "      <th>2</th>\n",
              "      <th>3</th>\n",
              "    </tr>\n",
              "  </thead>\n",
              "  <tbody>\n",
              "    <tr>\n",
              "      <th>0</th>\n",
              "      <td>-2.841484</td>\n",
              "      <td>-1.177722</td>\n",
              "      <td>-1.859600</td>\n",
              "    </tr>\n",
              "    <tr>\n",
              "      <th>1</th>\n",
              "      <td>-2.726623</td>\n",
              "      <td>-1.117876</td>\n",
              "      <td>-1.996144</td>\n",
              "    </tr>\n",
              "    <tr>\n",
              "      <th>2</th>\n",
              "      <td>-3.071204</td>\n",
              "      <td>-1.271890</td>\n",
              "      <td>-1.766175</td>\n",
              "    </tr>\n",
              "    <tr>\n",
              "      <th>3</th>\n",
              "      <td>-2.669131</td>\n",
              "      <td>-1.177722</td>\n",
              "      <td>-1.191874</td>\n",
              "    </tr>\n",
              "    <tr>\n",
              "      <th>4</th>\n",
              "      <td>-2.984965</td>\n",
              "      <td>-1.105857</td>\n",
              "      <td>-1.651564</td>\n",
              "    </tr>\n",
              "  </tbody>\n",
              "</table>\n",
              "</div>"
            ],
            "text/plain": [
              "          1         2         3\n",
              "0 -2.841484 -1.177722 -1.859600\n",
              "1 -2.726623 -1.117876 -1.996144\n",
              "2 -3.071204 -1.271890 -1.766175\n",
              "3 -2.669131 -1.177722 -1.191874\n",
              "4 -2.984965 -1.105857 -1.651564"
            ]
          },
          "metadata": {},
          "execution_count": 27
        }
      ]
    },
    {
      "cell_type": "markdown",
      "metadata": {
        "id": "qmlggeJxCmt4"
      },
      "source": [
        "What simulate is doing is just computing the expression for the utilities, here is a manual way of computing the utility for the car alernative in the first row of the dataset. It should coincide with previous result."
      ]
    },
    {
      "cell_type": "code",
      "metadata": {
        "id": "-UzDM2x-56NK",
        "colab": {
          "base_uri": "https://localhost:8080/"
        },
        "outputId": "204c5753-9597-497a-82ea-e08d73e7c6be"
      },
      "source": [
        "swissmetro['CAR_CO'][0]*betaValues['B_COST'] + swissmetro['CAR_TT'][0]*betaValues['B_TIME'] + (swissmetro['LUGGAGE'][0]**2) *betaValues['B_LUGGA_SQ']  + betaValues['ASC_CAR']\n"
      ],
      "execution_count": 28,
      "outputs": [
        {
          "output_type": "execute_result",
          "data": {
            "text/plain": [
              "-1.8595998118593176"
            ]
          },
          "metadata": {},
          "execution_count": 28
        }
      ]
    },
    {
      "cell_type": "markdown",
      "metadata": {
        "id": "er_yl83nAsdF"
      },
      "source": [
        "Finally we check that everything is correct, we can compute manually the choice proabilities from the utilities by applying the multinomal logit squashing manually using numpy. We should ge the choice probabilies as computed using the `model.logit` expressions in `biogeme.simulate()`.\n",
        "\n",
        "So next cell is computing the multinomial logit squashing $ \\frac{e^V_j}{\\sum_{k=1}^{J}{e^V_k}}$ for each row"
      ]
    },
    {
      "cell_type": "code",
      "metadata": {
        "colab": {
          "base_uri": "https://localhost:8080/",
          "height": 422
        },
        "id": "tQhyh35smL1v",
        "outputId": "ca4186b0-0806-4473-83be-d45acfccdb17"
      },
      "source": [
        "expV = np.exp(Vpred)\n",
        "expV / expV.sum(axis=1).to_numpy()[:, np.newaxis]"
      ],
      "execution_count": 29,
      "outputs": [
        {
          "output_type": "execute_result",
          "data": {
            "text/html": [
              "<div>\n",
              "<style scoped>\n",
              "    .dataframe tbody tr th:only-of-type {\n",
              "        vertical-align: middle;\n",
              "    }\n",
              "\n",
              "    .dataframe tbody tr th {\n",
              "        vertical-align: top;\n",
              "    }\n",
              "\n",
              "    .dataframe thead th {\n",
              "        text-align: right;\n",
              "    }\n",
              "</style>\n",
              "<table border=\"1\" class=\"dataframe\">\n",
              "  <thead>\n",
              "    <tr style=\"text-align: right;\">\n",
              "      <th></th>\n",
              "      <th>1</th>\n",
              "      <th>2</th>\n",
              "      <th>3</th>\n",
              "    </tr>\n",
              "  </thead>\n",
              "  <tbody>\n",
              "    <tr>\n",
              "      <th>0</th>\n",
              "      <td>0.111749</td>\n",
              "      <td>0.589939</td>\n",
              "      <td>0.298312</td>\n",
              "    </tr>\n",
              "    <tr>\n",
              "      <th>1</th>\n",
              "      <td>0.123875</td>\n",
              "      <td>0.618950</td>\n",
              "      <td>0.257175</td>\n",
              "    </tr>\n",
              "    <tr>\n",
              "      <th>2</th>\n",
              "      <td>0.093168</td>\n",
              "      <td>0.563247</td>\n",
              "      <td>0.343585</td>\n",
              "    </tr>\n",
              "    <tr>\n",
              "      <th>3</th>\n",
              "      <td>0.101789</td>\n",
              "      <td>0.452283</td>\n",
              "      <td>0.445928</td>\n",
              "    </tr>\n",
              "    <tr>\n",
              "      <th>4</th>\n",
              "      <td>0.088171</td>\n",
              "      <td>0.577315</td>\n",
              "      <td>0.334514</td>\n",
              "    </tr>\n",
              "    <tr>\n",
              "      <th>...</th>\n",
              "      <td>...</td>\n",
              "      <td>...</td>\n",
              "      <td>...</td>\n",
              "    </tr>\n",
              "    <tr>\n",
              "      <th>10723</th>\n",
              "      <td>0.113243</td>\n",
              "      <td>0.645399</td>\n",
              "      <td>0.241358</td>\n",
              "    </tr>\n",
              "    <tr>\n",
              "      <th>10724</th>\n",
              "      <td>0.094336</td>\n",
              "      <td>0.517452</td>\n",
              "      <td>0.388212</td>\n",
              "    </tr>\n",
              "    <tr>\n",
              "      <th>10725</th>\n",
              "      <td>0.086588</td>\n",
              "      <td>0.507879</td>\n",
              "      <td>0.405533</td>\n",
              "    </tr>\n",
              "    <tr>\n",
              "      <th>10726</th>\n",
              "      <td>0.068681</td>\n",
              "      <td>0.564505</td>\n",
              "      <td>0.366814</td>\n",
              "    </tr>\n",
              "    <tr>\n",
              "      <th>10727</th>\n",
              "      <td>0.106598</td>\n",
              "      <td>0.568138</td>\n",
              "      <td>0.325264</td>\n",
              "    </tr>\n",
              "  </tbody>\n",
              "</table>\n",
              "<p>9207 rows × 3 columns</p>\n",
              "</div>"
            ],
            "text/plain": [
              "              1         2         3\n",
              "0      0.111749  0.589939  0.298312\n",
              "1      0.123875  0.618950  0.257175\n",
              "2      0.093168  0.563247  0.343585\n",
              "3      0.101789  0.452283  0.445928\n",
              "4      0.088171  0.577315  0.334514\n",
              "...         ...       ...       ...\n",
              "10723  0.113243  0.645399  0.241358\n",
              "10724  0.094336  0.517452  0.388212\n",
              "10725  0.086588  0.507879  0.405533\n",
              "10726  0.068681  0.564505  0.366814\n",
              "10727  0.106598  0.568138  0.325264\n",
              "\n",
              "[9207 rows x 3 columns]"
            ]
          },
          "metadata": {},
          "execution_count": 29
        }
      ]
    },
    {
      "cell_type": "markdown",
      "metadata": {
        "id": "UEPgCo04DBO_"
      },
      "source": [
        "# What-if scenarios\n",
        "\n",
        "Most of the what-if scenarios can be recovered by manipulating the dataset that is passed to simulate.\n",
        "\n",
        "## Calculating Willingess to pay as a what-if scenario.\n",
        "\n",
        "The definition of willingness to pay is the ratio of the derivates of the utility w.r.t a variable of interest and cost\n",
        "\n",
        "\n",
        "$$WTP_{\\text{variable of interest}} = \\frac{ \\frac{ \\partial V_{nj}} { \\partial \\text{variable of interest}} } {  \\frac{ \\partial V_{nj}} { \\partial \\text{cost}}}$$\n",
        "\n",
        "We can think of calculating the numerical derivatives as a what if scenario.\n",
        "Imagine that we want to calculate the willingness to pay for travel time. Basically, the question is, How much do utility change if the travel times increase by a very small value, relative to the change in utility if the cost increase by a very small value?\n",
        "\n",
        "This might seem as a weird what if scenario, but illustrates the power of the 'what-if' scenarios in general. Later, we will calculate a more normal scenario."
      ]
    },
    {
      "cell_type": "markdown",
      "metadata": {
        "id": "amzeTdDvKTDi"
      },
      "source": [
        "Remember that numerical derivate of function $f$ can be calculated $ \\frac{f(x + \\delta) - f(x)}{\\delta}$, for $\\delta$ a small value.\n",
        "So the derviate of utility w.r.t. cost is the scenario where the dataset is modified by adding a small value to the cost variables. We do this at the `pandas` level, recovering the dataframe inside the biogeme database (because it was modified by biogeme). The we compute the new utilities for the modified dataset"
      ]
    },
    {
      "cell_type": "code",
      "metadata": {
        "colab": {
          "base_uri": "https://localhost:8080/",
          "height": 205
        },
        "id": "R-VtMNYZDUIr",
        "outputId": "0e853f76-22ed-4c1b-cef6-593994df58d3"
      },
      "source": [
        "delta = 0.001\n",
        "swissmetro_deltacost = bgm_swissmetro.data.copy()\n",
        "swissmetro_deltacost[ ['TRAIN_CO', 'SM_CO', 'CAR_CO'] ] += delta\n",
        "swissmetro_deltacost = db.Database('swissmetro_deltacost', swissmetro_deltacost)\n",
        "\n",
        "Vpred_deltacost = bio.BIOGEME( swissmetro_deltacost, V).simulate(betaValues)\n",
        "Vpred_deltacost.head()"
      ],
      "execution_count": 30,
      "outputs": [
        {
          "output_type": "execute_result",
          "data": {
            "text/html": [
              "<div>\n",
              "<style scoped>\n",
              "    .dataframe tbody tr th:only-of-type {\n",
              "        vertical-align: middle;\n",
              "    }\n",
              "\n",
              "    .dataframe tbody tr th {\n",
              "        vertical-align: top;\n",
              "    }\n",
              "\n",
              "    .dataframe thead th {\n",
              "        text-align: right;\n",
              "    }\n",
              "</style>\n",
              "<table border=\"1\" class=\"dataframe\">\n",
              "  <thead>\n",
              "    <tr style=\"text-align: right;\">\n",
              "      <th></th>\n",
              "      <th>1</th>\n",
              "      <th>2</th>\n",
              "      <th>3</th>\n",
              "    </tr>\n",
              "  </thead>\n",
              "  <tbody>\n",
              "    <tr>\n",
              "      <th>0</th>\n",
              "      <td>-2.841491</td>\n",
              "      <td>-1.177729</td>\n",
              "      <td>-1.859607</td>\n",
              "    </tr>\n",
              "    <tr>\n",
              "      <th>1</th>\n",
              "      <td>-2.726631</td>\n",
              "      <td>-1.117883</td>\n",
              "      <td>-1.996151</td>\n",
              "    </tr>\n",
              "    <tr>\n",
              "      <th>2</th>\n",
              "      <td>-3.071211</td>\n",
              "      <td>-1.271897</td>\n",
              "      <td>-1.766182</td>\n",
              "    </tr>\n",
              "    <tr>\n",
              "      <th>3</th>\n",
              "      <td>-2.669138</td>\n",
              "      <td>-1.177729</td>\n",
              "      <td>-1.191881</td>\n",
              "    </tr>\n",
              "    <tr>\n",
              "      <th>4</th>\n",
              "      <td>-2.984973</td>\n",
              "      <td>-1.105864</td>\n",
              "      <td>-1.651571</td>\n",
              "    </tr>\n",
              "  </tbody>\n",
              "</table>\n",
              "</div>"
            ],
            "text/plain": [
              "          1         2         3\n",
              "0 -2.841491 -1.177729 -1.859607\n",
              "1 -2.726631 -1.117883 -1.996151\n",
              "2 -3.071211 -1.271897 -1.766182\n",
              "3 -2.669138 -1.177729 -1.191881\n",
              "4 -2.984973 -1.105864 -1.651571"
            ]
          },
          "metadata": {},
          "execution_count": 30
        }
      ]
    },
    {
      "cell_type": "markdown",
      "metadata": {
        "id": "hj_nT9dNLXen"
      },
      "source": [
        "We have to do the same for travel time, and be carefull not to modify the wrong dataset!"
      ]
    },
    {
      "cell_type": "code",
      "metadata": {
        "colab": {
          "base_uri": "https://localhost:8080/",
          "height": 205
        },
        "id": "SbkLmylyE8nn",
        "outputId": "6f752844-8c8d-4e87-f7c3-4aec742dbbda"
      },
      "source": [
        "swissmetro_deltatime = bgm_swissmetro.data.copy()\n",
        "swissmetro_deltatime[ ['TRAIN_TT', 'SM_TT', 'CAR_TT'] ] += delta\n",
        "swissmetro_deltatime = db.Database('swissmetro_deltatime', swissmetro_deltatime)\n",
        "\n",
        "Vpred_deltatime = bio.BIOGEME(swissmetro_deltatime, V).simulate(betaValues)\n",
        "Vpred_deltatime.head()"
      ],
      "execution_count": 31,
      "outputs": [
        {
          "output_type": "execute_result",
          "data": {
            "text/html": [
              "<div>\n",
              "<style scoped>\n",
              "    .dataframe tbody tr th:only-of-type {\n",
              "        vertical-align: middle;\n",
              "    }\n",
              "\n",
              "    .dataframe tbody tr th {\n",
              "        vertical-align: top;\n",
              "    }\n",
              "\n",
              "    .dataframe thead th {\n",
              "        text-align: right;\n",
              "    }\n",
              "</style>\n",
              "<table border=\"1\" class=\"dataframe\">\n",
              "  <thead>\n",
              "    <tr style=\"text-align: right;\">\n",
              "      <th></th>\n",
              "      <th>1</th>\n",
              "      <th>2</th>\n",
              "      <th>3</th>\n",
              "    </tr>\n",
              "  </thead>\n",
              "  <tbody>\n",
              "    <tr>\n",
              "      <th>0</th>\n",
              "      <td>-2.841496</td>\n",
              "      <td>-1.177735</td>\n",
              "      <td>-1.859613</td>\n",
              "    </tr>\n",
              "    <tr>\n",
              "      <th>1</th>\n",
              "      <td>-2.726636</td>\n",
              "      <td>-1.117888</td>\n",
              "      <td>-1.996157</td>\n",
              "    </tr>\n",
              "    <tr>\n",
              "      <th>2</th>\n",
              "      <td>-3.071217</td>\n",
              "      <td>-1.271903</td>\n",
              "      <td>-1.766187</td>\n",
              "    </tr>\n",
              "    <tr>\n",
              "      <th>3</th>\n",
              "      <td>-2.669144</td>\n",
              "      <td>-1.177735</td>\n",
              "      <td>-1.191886</td>\n",
              "    </tr>\n",
              "    <tr>\n",
              "      <th>4</th>\n",
              "      <td>-2.984978</td>\n",
              "      <td>-1.105869</td>\n",
              "      <td>-1.651576</td>\n",
              "    </tr>\n",
              "  </tbody>\n",
              "</table>\n",
              "</div>"
            ],
            "text/plain": [
              "          1         2         3\n",
              "0 -2.841496 -1.177735 -1.859613\n",
              "1 -2.726636 -1.117888 -1.996157\n",
              "2 -3.071217 -1.271903 -1.766187\n",
              "3 -2.669144 -1.177735 -1.191886\n",
              "4 -2.984978 -1.105869 -1.651576"
            ]
          },
          "metadata": {},
          "execution_count": 31
        }
      ]
    },
    {
      "cell_type": "markdown",
      "metadata": {
        "id": "_4_yuLzDLheQ"
      },
      "source": [
        "Finally we compute the ratio of derivaties, the division by $\\delta$ is omitted because it does not affect the result.\n",
        "We average over all individuals and alternatives in this case."
      ]
    },
    {
      "cell_type": "code",
      "metadata": {
        "colab": {
          "base_uri": "https://localhost:8080/"
        },
        "id": "5O9R_WTcFMRF",
        "outputId": "7af8febf-495b-4617-9eeb-86bbd8bbe577"
      },
      "source": [
        "(Vpred_deltatime - Vpred).values.mean() / (Vpred_deltacost - Vpred).values.mean()\n"
      ],
      "execution_count": 32,
      "outputs": [
        {
          "output_type": "execute_result",
          "data": {
            "text/plain": [
              "1.775851629113709"
            ]
          },
          "metadata": {},
          "execution_count": 32
        }
      ]
    },
    {
      "cell_type": "markdown",
      "metadata": {
        "id": "vSwexiVsLtE2"
      },
      "source": [
        "The result should be very similar to the 'analytic' definintion of willingness to pay for linear utility, which is the ratio of the coefficients."
      ]
    },
    {
      "cell_type": "code",
      "metadata": {
        "colab": {
          "base_uri": "https://localhost:8080/"
        },
        "id": "EIuHLyqWG1yr",
        "outputId": "65919f24-6ef6-46f5-fb59-f6ac8166b6ef"
      },
      "source": [
        "betaValues['B_TIME'] / betaValues['B_COST']"
      ],
      "execution_count": 33,
      "outputs": [
        {
          "output_type": "execute_result",
          "data": {
            "text/plain": [
              "1.7758516291149167"
            ]
          },
          "metadata": {},
          "execution_count": 33
        }
      ]
    },
    {
      "cell_type": "markdown",
      "metadata": {
        "id": "O5P3UTqiMB15"
      },
      "source": [
        "## What happens to choice probabilities there are problems in the roads? \n",
        "\n",
        "Imagine that there is a big snowfall (it is Switzerland after all). It is estimated that this will increase the travel time by car 25% (cost x1.25), and then add a flat 30 mins because of setting up the chains for the tires. What would happen to choice probabilities?\n"
      ]
    },
    {
      "cell_type": "code",
      "metadata": {
        "colab": {
          "base_uri": "https://localhost:8080/",
          "height": 205
        },
        "id": "ecpumThZQnpC",
        "outputId": "55ee64cb-b9af-44f7-b81c-d9874b367674"
      },
      "source": [
        "results.getEstimatedParameters()"
      ],
      "execution_count": 34,
      "outputs": [
        {
          "output_type": "execute_result",
          "data": {
            "text/html": [
              "<div>\n",
              "<style scoped>\n",
              "    .dataframe tbody tr th:only-of-type {\n",
              "        vertical-align: middle;\n",
              "    }\n",
              "\n",
              "    .dataframe tbody tr th {\n",
              "        vertical-align: top;\n",
              "    }\n",
              "\n",
              "    .dataframe thead th {\n",
              "        text-align: right;\n",
              "    }\n",
              "</style>\n",
              "<table border=\"1\" class=\"dataframe\">\n",
              "  <thead>\n",
              "    <tr style=\"text-align: right;\">\n",
              "      <th></th>\n",
              "      <th>Value</th>\n",
              "      <th>Std err</th>\n",
              "      <th>t-test</th>\n",
              "      <th>p-value</th>\n",
              "      <th>Rob. Std err</th>\n",
              "      <th>Rob. t-test</th>\n",
              "      <th>Rob. p-value</th>\n",
              "    </tr>\n",
              "  </thead>\n",
              "  <tbody>\n",
              "    <tr>\n",
              "      <th>ASC_CAR</th>\n",
              "      <td>0.100709</td>\n",
              "      <td>0.037175</td>\n",
              "      <td>2.709050</td>\n",
              "      <td>0.006748</td>\n",
              "      <td>0.044229</td>\n",
              "      <td>2.276975</td>\n",
              "      <td>0.022788</td>\n",
              "    </tr>\n",
              "    <tr>\n",
              "      <th>ASC_TRAIN</th>\n",
              "      <td>-1.067158</td>\n",
              "      <td>0.050138</td>\n",
              "      <td>-21.284324</td>\n",
              "      <td>0.000000</td>\n",
              "      <td>0.063920</td>\n",
              "      <td>-16.695091</td>\n",
              "      <td>0.000000</td>\n",
              "    </tr>\n",
              "    <tr>\n",
              "      <th>B_COST</th>\n",
              "      <td>-0.007187</td>\n",
              "      <td>0.000382</td>\n",
              "      <td>-18.800027</td>\n",
              "      <td>0.000000</td>\n",
              "      <td>0.000541</td>\n",
              "      <td>-13.293817</td>\n",
              "      <td>0.000000</td>\n",
              "    </tr>\n",
              "    <tr>\n",
              "      <th>B_LUGGA_SQ</th>\n",
              "      <td>-0.081684</td>\n",
              "      <td>0.024663</td>\n",
              "      <td>-3.311961</td>\n",
              "      <td>0.000926</td>\n",
              "      <td>0.022470</td>\n",
              "      <td>-3.635325</td>\n",
              "      <td>0.000278</td>\n",
              "    </tr>\n",
              "    <tr>\n",
              "      <th>B_TIME</th>\n",
              "      <td>-0.012762</td>\n",
              "      <td>0.000446</td>\n",
              "      <td>-28.611135</td>\n",
              "      <td>0.000000</td>\n",
              "      <td>0.000703</td>\n",
              "      <td>-18.160019</td>\n",
              "      <td>0.000000</td>\n",
              "    </tr>\n",
              "  </tbody>\n",
              "</table>\n",
              "</div>"
            ],
            "text/plain": [
              "               Value   Std err  ...  Rob. t-test  Rob. p-value\n",
              "ASC_CAR     0.100709  0.037175  ...     2.276975      0.022788\n",
              "ASC_TRAIN  -1.067158  0.050138  ...   -16.695091      0.000000\n",
              "B_COST     -0.007187  0.000382  ...   -13.293817      0.000000\n",
              "B_LUGGA_SQ -0.081684  0.024663  ...    -3.635325      0.000278\n",
              "B_TIME     -0.012762  0.000446  ...   -18.160019      0.000000\n",
              "\n",
              "[5 rows x 7 columns]"
            ]
          },
          "metadata": {},
          "execution_count": 34
        }
      ]
    },
    {
      "cell_type": "code",
      "metadata": {
        "id": "EJs-Zdi3MNXw"
      },
      "source": [
        "swissmetro_snow = bgm_swissmetro.data.copy()\n",
        "swissmetro_snow[ 'CAR_CO' ] *= 1.25\n",
        "swissmetro_snow[ 'CAR_CO' ] += 30\n",
        "\n",
        "bgm_model_snow = bio.BIOGEME(db.Database('swissmetro_snow', swissmetro_snow),\n",
        "                             targets_to_simulate)\n",
        "\n",
        "snow_probs = bgm_model_snow.simulate(betaValues)"
      ],
      "execution_count": 35,
      "outputs": []
    },
    {
      "cell_type": "code",
      "metadata": {
        "colab": {
          "base_uri": "https://localhost:8080/",
          "height": 205
        },
        "id": "rpmHJjlKRSVq",
        "outputId": "7d7dd6f1-10c7-4407-8fe3-5a5dc6e34f6d"
      },
      "source": [
        "snow_probs.head()"
      ],
      "execution_count": 36,
      "outputs": [
        {
          "output_type": "execute_result",
          "data": {
            "text/html": [
              "<div>\n",
              "<style scoped>\n",
              "    .dataframe tbody tr th:only-of-type {\n",
              "        vertical-align: middle;\n",
              "    }\n",
              "\n",
              "    .dataframe tbody tr th {\n",
              "        vertical-align: top;\n",
              "    }\n",
              "\n",
              "    .dataframe thead th {\n",
              "        text-align: right;\n",
              "    }\n",
              "</style>\n",
              "<table border=\"1\" class=\"dataframe\">\n",
              "  <thead>\n",
              "    <tr style=\"text-align: right;\">\n",
              "      <th></th>\n",
              "      <th>Prob. train</th>\n",
              "      <th>Prob. SM</th>\n",
              "      <th>Prob. car</th>\n",
              "    </tr>\n",
              "  </thead>\n",
              "  <tbody>\n",
              "    <tr>\n",
              "      <th>0</th>\n",
              "      <td>0.122045</td>\n",
              "      <td>0.644289</td>\n",
              "      <td>0.233666</td>\n",
              "    </tr>\n",
              "    <tr>\n",
              "      <th>1</th>\n",
              "      <td>0.134489</td>\n",
              "      <td>0.671979</td>\n",
              "      <td>0.193532</td>\n",
              "    </tr>\n",
              "    <tr>\n",
              "      <th>2</th>\n",
              "      <td>0.102533</td>\n",
              "      <td>0.619864</td>\n",
              "      <td>0.277603</td>\n",
              "    </tr>\n",
              "    <tr>\n",
              "      <th>3</th>\n",
              "      <td>0.115478</td>\n",
              "      <td>0.513109</td>\n",
              "      <td>0.371413</td>\n",
              "    </tr>\n",
              "    <tr>\n",
              "      <th>4</th>\n",
              "      <td>0.098257</td>\n",
              "      <td>0.643353</td>\n",
              "      <td>0.258391</td>\n",
              "    </tr>\n",
              "  </tbody>\n",
              "</table>\n",
              "</div>"
            ],
            "text/plain": [
              "   Prob. train  Prob. SM  Prob. car\n",
              "0     0.122045  0.644289   0.233666\n",
              "1     0.134489  0.671979   0.193532\n",
              "2     0.102533  0.619864   0.277603\n",
              "3     0.115478  0.513109   0.371413\n",
              "4     0.098257  0.643353   0.258391"
            ]
          },
          "metadata": {},
          "execution_count": 36
        }
      ]
    },
    {
      "cell_type": "markdown",
      "metadata": {
        "id": "uD73bmokSmoH"
      },
      "source": [
        "We can compute the differences"
      ]
    },
    {
      "cell_type": "code",
      "metadata": {
        "colab": {
          "base_uri": "https://localhost:8080/",
          "height": 205
        },
        "id": "FAtYt9AYNbMX",
        "outputId": "fe0f360e-215e-4e12-fe08-e799076ca4c3"
      },
      "source": [
        "(snow_probs - simulatedValues ).head()"
      ],
      "execution_count": 37,
      "outputs": [
        {
          "output_type": "execute_result",
          "data": {
            "text/html": [
              "<div>\n",
              "<style scoped>\n",
              "    .dataframe tbody tr th:only-of-type {\n",
              "        vertical-align: middle;\n",
              "    }\n",
              "\n",
              "    .dataframe tbody tr th {\n",
              "        vertical-align: top;\n",
              "    }\n",
              "\n",
              "    .dataframe thead th {\n",
              "        text-align: right;\n",
              "    }\n",
              "</style>\n",
              "<table border=\"1\" class=\"dataframe\">\n",
              "  <thead>\n",
              "    <tr style=\"text-align: right;\">\n",
              "      <th></th>\n",
              "      <th>Prob. train</th>\n",
              "      <th>Prob. SM</th>\n",
              "      <th>Prob. car</th>\n",
              "    </tr>\n",
              "  </thead>\n",
              "  <tbody>\n",
              "    <tr>\n",
              "      <th>0</th>\n",
              "      <td>0.010295</td>\n",
              "      <td>0.054351</td>\n",
              "      <td>-0.064646</td>\n",
              "    </tr>\n",
              "    <tr>\n",
              "      <th>1</th>\n",
              "      <td>0.010613</td>\n",
              "      <td>0.053029</td>\n",
              "      <td>-0.063642</td>\n",
              "    </tr>\n",
              "    <tr>\n",
              "      <th>2</th>\n",
              "      <td>0.009365</td>\n",
              "      <td>0.056616</td>\n",
              "      <td>-0.065981</td>\n",
              "    </tr>\n",
              "    <tr>\n",
              "      <th>3</th>\n",
              "      <td>0.013689</td>\n",
              "      <td>0.060826</td>\n",
              "      <td>-0.074515</td>\n",
              "    </tr>\n",
              "    <tr>\n",
              "      <th>4</th>\n",
              "      <td>0.010086</td>\n",
              "      <td>0.066038</td>\n",
              "      <td>-0.076124</td>\n",
              "    </tr>\n",
              "  </tbody>\n",
              "</table>\n",
              "</div>"
            ],
            "text/plain": [
              "   Prob. train  Prob. SM  Prob. car\n",
              "0     0.010295  0.054351  -0.064646\n",
              "1     0.010613  0.053029  -0.063642\n",
              "2     0.009365  0.056616  -0.065981\n",
              "3     0.013689  0.060826  -0.074515\n",
              "4     0.010086  0.066038  -0.076124"
            ]
          },
          "metadata": {},
          "execution_count": 37
        }
      ]
    },
    {
      "cell_type": "markdown",
      "metadata": {
        "id": "9nwuVbmtTl16"
      },
      "source": [
        "Lets see how market shares change:"
      ]
    },
    {
      "cell_type": "code",
      "metadata": {
        "colab": {
          "base_uri": "https://localhost:8080/"
        },
        "id": "ddMen8ixThzg",
        "outputId": "9b7d7e05-a286-4b29-da13-df07543416b3"
      },
      "source": [
        "simulatedValues.mean(axis=0)"
      ],
      "execution_count": 38,
      "outputs": [
        {
          "output_type": "execute_result",
          "data": {
            "text/plain": [
              "Prob. train    0.086131\n",
              "Prob. SM       0.584990\n",
              "Prob. car      0.328880\n",
              "dtype: float64"
            ]
          },
          "metadata": {},
          "execution_count": 38
        }
      ]
    },
    {
      "cell_type": "code",
      "metadata": {
        "colab": {
          "base_uri": "https://localhost:8080/"
        },
        "id": "yUp1DGbkTdgk",
        "outputId": "8e4574a9-cca3-4488-facf-c088557ab4d6"
      },
      "source": [
        "snow_probs.mean(axis=0)"
      ],
      "execution_count": 39,
      "outputs": [
        {
          "output_type": "execute_result",
          "data": {
            "text/plain": [
              "Prob. train    0.094524\n",
              "Prob. SM       0.640429\n",
              "Prob. car      0.265047\n",
              "dtype: float64"
            ]
          },
          "metadata": {},
          "execution_count": 39
        }
      ]
    },
    {
      "cell_type": "markdown",
      "metadata": {
        "id": "LjTfPTzqTXdl"
      },
      "source": [
        "Instead of probabilities we can calculate the number of people that will go for each transport in each scenario."
      ]
    },
    {
      "cell_type": "code",
      "metadata": {
        "colab": {
          "base_uri": "https://localhost:8080/"
        },
        "id": "3Q7vu5NHTTBr",
        "outputId": "0bebad9e-dd72-4173-81a6-b036b0df070e"
      },
      "source": [
        "simulatedValues.sum(axis=0)"
      ],
      "execution_count": 40,
      "outputs": [
        {
          "output_type": "execute_result",
          "data": {
            "text/plain": [
              "Prob. train     793.004412\n",
              "Prob. SM       5385.999584\n",
              "Prob. car      3027.996005\n",
              "dtype: float64"
            ]
          },
          "metadata": {},
          "execution_count": 40
        }
      ]
    },
    {
      "cell_type": "code",
      "metadata": {
        "colab": {
          "base_uri": "https://localhost:8080/"
        },
        "id": "Pwt_sLQYSprG",
        "outputId": "cd879122-2f5c-4bd3-ad9f-f5bcf02d6da5"
      },
      "source": [
        "snow_probs.sum(axis=0)"
      ],
      "execution_count": 41,
      "outputs": [
        {
          "output_type": "execute_result",
          "data": {
            "text/plain": [
              "Prob. train     870.285327\n",
              "Prob. SM       5896.428525\n",
              "Prob. car      2440.286148\n",
              "dtype: float64"
            ]
          },
          "metadata": {},
          "execution_count": 41
        }
      ]
    },
    {
      "cell_type": "markdown",
      "metadata": {
        "id": "LN0QXT8TwQ9G"
      },
      "source": [
        "# Accuracies and confusion matrices"
      ]
    },
    {
      "cell_type": "code",
      "metadata": {
        "id": "QDVKAVmoLSOk"
      },
      "source": [
        "which_max = simulatedValues.idxmax(axis=1)\n",
        "which_max = which_max.replace({'Prob. train': 1, 'Prob. SM': 2, 'Prob. car': 3,})"
      ],
      "execution_count": 52,
      "outputs": []
    },
    {
      "cell_type": "code",
      "metadata": {
        "colab": {
          "base_uri": "https://localhost:8080/"
        },
        "id": "BbykD5HK19rB",
        "outputId": "a3779db6-56e4-4ee7-eaf8-5d241872208e"
      },
      "source": [
        "#accuracy\n",
        "np.mean(which_max == bgm_swissmetro.data['CHOICE'])"
      ],
      "execution_count": 53,
      "outputs": [
        {
          "output_type": "execute_result",
          "data": {
            "text/plain": [
              "0.673617899424351"
            ]
          },
          "metadata": {},
          "execution_count": 53
        }
      ]
    },
    {
      "cell_type": "markdown",
      "metadata": {
        "id": "Es5aujeGyADh"
      },
      "source": [
        "Calculate the proportions in the dataset, to see how much improvement there is for a naive model that predicts the most popular class."
      ]
    },
    {
      "cell_type": "code",
      "metadata": {
        "colab": {
          "base_uri": "https://localhost:8080/",
          "height": 175
        },
        "id": "3wK9epAGxbG2",
        "outputId": "b677b32b-8dcc-42d9-e90d-260a1dcf59ba"
      },
      "source": [
        "tab = pd.crosstab(bgm_swissmetro.data['CHOICE'], 'count')\n",
        "tab / tab.sum()"
      ],
      "execution_count": 58,
      "outputs": [
        {
          "output_type": "execute_result",
          "data": {
            "text/html": [
              "<div>\n",
              "<style scoped>\n",
              "    .dataframe tbody tr th:only-of-type {\n",
              "        vertical-align: middle;\n",
              "    }\n",
              "\n",
              "    .dataframe tbody tr th {\n",
              "        vertical-align: top;\n",
              "    }\n",
              "\n",
              "    .dataframe thead th {\n",
              "        text-align: right;\n",
              "    }\n",
              "</style>\n",
              "<table border=\"1\" class=\"dataframe\">\n",
              "  <thead>\n",
              "    <tr style=\"text-align: right;\">\n",
              "      <th>col_0</th>\n",
              "      <th>count</th>\n",
              "    </tr>\n",
              "    <tr>\n",
              "      <th>CHOICE</th>\n",
              "      <th></th>\n",
              "    </tr>\n",
              "  </thead>\n",
              "  <tbody>\n",
              "    <tr>\n",
              "      <th>1</th>\n",
              "      <td>0.08613</td>\n",
              "    </tr>\n",
              "    <tr>\n",
              "      <th>2</th>\n",
              "      <td>0.58499</td>\n",
              "    </tr>\n",
              "    <tr>\n",
              "      <th>3</th>\n",
              "      <td>0.32888</td>\n",
              "    </tr>\n",
              "  </tbody>\n",
              "</table>\n",
              "</div>"
            ],
            "text/plain": [
              "col_0     count\n",
              "CHOICE         \n",
              "1       0.08613\n",
              "2       0.58499\n",
              "3       0.32888"
            ]
          },
          "metadata": {},
          "execution_count": 58
        }
      ]
    },
    {
      "cell_type": "markdown",
      "metadata": {
        "id": "fPus9M4NyOmx"
      },
      "source": [
        "Calculate the confusion matrix"
      ]
    },
    {
      "cell_type": "code",
      "metadata": {
        "colab": {
          "base_uri": "https://localhost:8080/",
          "height": 175
        },
        "id": "B6CGNgSyN8OP",
        "outputId": "33f0375b-1115-4c48-e039-8b0a959d455c"
      },
      "source": [
        "data = {'y_Actual':   bgm_swissmetro.data['CHOICE'],\n",
        "        'y_Predicted': which_max\n",
        "        }\n",
        "\n",
        "df = pd.DataFrame(data, columns=['y_Actual','y_Predicted'])\n",
        "confusion_matrix = pd.crosstab(df['y_Actual'], df['y_Predicted'], rownames=['Actual'], colnames=['Predicted'])\n",
        "\n",
        "confusion_matrix"
      ],
      "execution_count": 79,
      "outputs": [
        {
          "output_type": "execute_result",
          "data": {
            "text/html": [
              "<div>\n",
              "<style scoped>\n",
              "    .dataframe tbody tr th:only-of-type {\n",
              "        vertical-align: middle;\n",
              "    }\n",
              "\n",
              "    .dataframe tbody tr th {\n",
              "        vertical-align: top;\n",
              "    }\n",
              "\n",
              "    .dataframe thead th {\n",
              "        text-align: right;\n",
              "    }\n",
              "</style>\n",
              "<table border=\"1\" class=\"dataframe\">\n",
              "  <thead>\n",
              "    <tr style=\"text-align: right;\">\n",
              "      <th>Predicted</th>\n",
              "      <th>2</th>\n",
              "      <th>3</th>\n",
              "    </tr>\n",
              "    <tr>\n",
              "      <th>Actual</th>\n",
              "      <th></th>\n",
              "      <th></th>\n",
              "    </tr>\n",
              "  </thead>\n",
              "  <tbody>\n",
              "    <tr>\n",
              "      <th>1</th>\n",
              "      <td>655</td>\n",
              "      <td>138</td>\n",
              "    </tr>\n",
              "    <tr>\n",
              "      <th>2</th>\n",
              "      <td>4744</td>\n",
              "      <td>642</td>\n",
              "    </tr>\n",
              "    <tr>\n",
              "      <th>3</th>\n",
              "      <td>1570</td>\n",
              "      <td>1458</td>\n",
              "    </tr>\n",
              "  </tbody>\n",
              "</table>\n",
              "</div>"
            ],
            "text/plain": [
              "Predicted     2     3\n",
              "Actual               \n",
              "1           655   138\n",
              "2          4744   642\n",
              "3          1570  1458"
            ]
          },
          "metadata": {},
          "execution_count": 79
        }
      ]
    },
    {
      "cell_type": "markdown",
      "metadata": {
        "id": "ECjM59B9zVOt"
      },
      "source": [
        "For example only 68% of the predictions for car turned out to be cars"
      ]
    },
    {
      "cell_type": "code",
      "metadata": {
        "colab": {
          "base_uri": "https://localhost:8080/"
        },
        "id": "3tqYb51nzG_1",
        "outputId": "328d856d-cd66-4658-fb72-9cf5effd4871"
      },
      "source": [
        "confusion_matrix.loc[:,3] / confusion_matrix.loc[:,3].sum()"
      ],
      "execution_count": 74,
      "outputs": [
        {
          "output_type": "execute_result",
          "data": {
            "text/plain": [
              "Actual\n",
              "1    0.061662\n",
              "2    0.286863\n",
              "3    0.651475\n",
              "Name: 3, dtype: float64"
            ]
          },
          "metadata": {},
          "execution_count": 74
        }
      ]
    },
    {
      "cell_type": "markdown",
      "metadata": {
        "id": "jBtutf7f0E2N"
      },
      "source": [
        "For the predictions of swissmetro, the accuracy is similar.\n",
        "Confusion with trains is greater than for cars, so more percentage of swissmetro go to cars than to trains."
      ]
    },
    {
      "cell_type": "code",
      "metadata": {
        "colab": {
          "base_uri": "https://localhost:8080/"
        },
        "id": "6RVX3z2vzqxf",
        "outputId": "6916fe0c-1c2d-4992-fc14-ad21544e8f3b"
      },
      "source": [
        "confusion_matrix.loc[:,2] / confusion_matrix.loc[:,2].sum()"
      ],
      "execution_count": 78,
      "outputs": [
        {
          "output_type": "execute_result",
          "data": {
            "text/plain": [
              "Actual\n",
              "1    0.093988\n",
              "2    0.680729\n",
              "3    0.225283\n",
              "Name: 2, dtype: float64"
            ]
          },
          "metadata": {},
          "execution_count": 78
        }
      ]
    },
    {
      "cell_type": "markdown",
      "metadata": {
        "id": "gS1beZKp4GCD"
      },
      "source": [
        "---\n",
        "---\n",
        "\n",
        "# Exercises\n",
        "\n",
        "---\n",
        "---\n",
        "\n",
        "# 1) Calculate the choice probabilities according to your model\n"
      ]
    },
    {
      "cell_type": "code",
      "metadata": {
        "id": "8ojjjQsK4qzM"
      },
      "source": [
        ""
      ],
      "execution_count": null,
      "outputs": []
    },
    {
      "cell_type": "markdown",
      "metadata": {
        "id": "00pwVfjW4o8T"
      },
      "source": [
        "\n",
        "\n",
        "# 2) What would happen to choice probabilities in the model estimated in (Exercise 3) of the previous tutorial if cost of train and swissmetro increase by 15%\n"
      ]
    },
    {
      "cell_type": "code",
      "metadata": {
        "id": "RYgiJBKP4rLh"
      },
      "source": [
        ""
      ],
      "execution_count": null,
      "outputs": []
    },
    {
      "cell_type": "markdown",
      "metadata": {
        "id": "e2XiE6eT4qFT"
      },
      "source": [
        "\n",
        "\n",
        "# 3) What would happen to the revenue?"
      ]
    },
    {
      "cell_type": "code",
      "metadata": {
        "id": "ST_nK19i4rwr"
      },
      "source": [
        ""
      ],
      "execution_count": null,
      "outputs": []
    }
  ]
}
