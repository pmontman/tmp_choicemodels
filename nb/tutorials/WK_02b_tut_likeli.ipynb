{
  "nbformat": 4,
  "nbformat_minor": 0,
  "metadata": {
    "colab": {
      "name": "wk_02b_tut_likeli",
      "provenance": [],
      "collapsed_sections": [],
      "authorship_tag": "ABX9TyM9YjkBbzYE766cygMnFpWF",
      "include_colab_link": true
    },
    "kernelspec": {
      "name": "python3",
      "display_name": "Python 3"
    },
    "language_info": {
      "name": "python"
    }
  },
  "cells": [
    {
      "cell_type": "markdown",
      "metadata": {
        "id": "view-in-github",
        "colab_type": "text"
      },
      "source": [
        "<a href=\"https://colab.research.google.com/github/pmontman/tmp_choicemodels/blob/main/nb/tutorials/WK_02b_tut_likeli.ipynb\" target=\"_parent\"><img src=\"https://colab.research.google.com/assets/colab-badge.svg\" alt=\"Open In Colab\"/></a>"
      ]
    },
    {
      "cell_type": "markdown",
      "metadata": {
        "id": "XAaq0M26oNGI"
      },
      "source": [
        "# Tutorial 2\n",
        "\n",
        "In this tutorial, we will see:\n",
        "\n",
        "* Some exercises to solidify the concept of around the concept of 'likelihood' or likelihood function for a candidate model, given some data.\n"
      ]
    },
    {
      "cell_type": "markdown",
      "metadata": {
        "id": "5WSklb2pcTRh"
      },
      "source": [
        "---\n",
        "---\n",
        "\n",
        "# 2) Intuition on likelihood\n",
        "\n",
        "\n",
        "Let's consider the following scenario: We are responsible for the sales of umbrellas in a large department store, we would like to understand a bit more about the process.\n",
        "We have a sample of the clients that come into the store, knowing whether they bought an umbrella or not, a simple binary choice.\n",
        "\n",
        "Our first approximation consists of assuming that all clients are equivalent, so every time a client enters our store, they choose whether to buy an umbrella or not following some random variable (but the probability distribution for that random variable is the same for all clients). For example, the choose according to a coin toss, each client might get a different outcome, but they all choose according to a coin toss."
      ]
    },
    {
      "cell_type": "markdown",
      "metadata": {
        "id": "BEHO7qeF85ZB"
      },
      "source": [
        "## 2.1) What do you think is the probability distribution that governs the decision-making process under our initial assumptions?\n",
        " A random choice between two alternatives, there is a 'famous' probability distribution that is used to model experiments with 2 possible outcomes...\n"
      ]
    },
    {
      "cell_type": "markdown",
      "source": [
        "\n",
        "## *You can write the answer here, if you want.*"
      ],
      "metadata": {
        "id": "0lEq2D54jy95"
      }
    },
    {
      "cell_type": "markdown",
      "metadata": {
        "id": "JaWwv9p59iIv"
      },
      "source": [
        "---\n",
        "\n",
        "The parameter of that distribution, this unique probability, lets call it $p_{\\Omega}$ is the parameter in our simple model.\n",
        "\n",
        "Our data for the clients coming to our store is [in this file](https://raw.githubusercontent.com/pmontman/pub-choicemodels/main/data/umbrella_month.csv), lets take a look at it.\n"
      ]
    },
    {
      "cell_type": "code",
      "metadata": {
        "colab": {
          "base_uri": "https://localhost:8080/",
          "height": 203
        },
        "id": "6jqxsqsS9eb7",
        "outputId": "fe771bdb-b2bb-4941-c282-3aff71499fe8"
      },
      "source": [
        "import pandas as pd\n",
        "umbrella_df = pd.read_csv(\"https://raw.githubusercontent.com/pmontman/pub-choicemodels/main/data/umbrella_month.csv\")\n",
        "\n",
        "umbrella_df.head(5)"
      ],
      "execution_count": null,
      "outputs": [
        {
          "output_type": "execute_result",
          "data": {
            "text/html": [
              "<div>\n",
              "<style scoped>\n",
              "    .dataframe tbody tr th:only-of-type {\n",
              "        vertical-align: middle;\n",
              "    }\n",
              "\n",
              "    .dataframe tbody tr th {\n",
              "        vertical-align: top;\n",
              "    }\n",
              "\n",
              "    .dataframe thead th {\n",
              "        text-align: right;\n",
              "    }\n",
              "</style>\n",
              "<table border=\"1\" class=\"dataframe\">\n",
              "  <thead>\n",
              "    <tr style=\"text-align: right;\">\n",
              "      <th></th>\n",
              "      <th>buy_umbr</th>\n",
              "      <th>month</th>\n",
              "      <th>client_id</th>\n",
              "    </tr>\n",
              "  </thead>\n",
              "  <tbody>\n",
              "    <tr>\n",
              "      <th>0</th>\n",
              "      <td>True</td>\n",
              "      <td>12</td>\n",
              "      <td>1</td>\n",
              "    </tr>\n",
              "    <tr>\n",
              "      <th>1</th>\n",
              "      <td>False</td>\n",
              "      <td>10</td>\n",
              "      <td>2</td>\n",
              "    </tr>\n",
              "    <tr>\n",
              "      <th>2</th>\n",
              "      <td>False</td>\n",
              "      <td>6</td>\n",
              "      <td>3</td>\n",
              "    </tr>\n",
              "    <tr>\n",
              "      <th>3</th>\n",
              "      <td>True</td>\n",
              "      <td>5</td>\n",
              "      <td>4</td>\n",
              "    </tr>\n",
              "    <tr>\n",
              "      <th>4</th>\n",
              "      <td>True</td>\n",
              "      <td>12</td>\n",
              "      <td>5</td>\n",
              "    </tr>\n",
              "  </tbody>\n",
              "</table>\n",
              "</div>"
            ],
            "text/plain": [
              "   buy_umbr  month  client_id\n",
              "0      True     12          1\n",
              "1     False     10          2\n",
              "2     False      6          3\n",
              "3      True      5          4\n",
              "4      True     12          5"
            ]
          },
          "metadata": {},
          "execution_count": 2
        }
      ]
    },
    {
      "cell_type": "markdown",
      "metadata": {
        "id": "Z6Sm5ZiXI8b1"
      },
      "source": [
        "the variable **buy_umbr** indicates whether the client bought the umbrella, **month** is the month when the client visited the store (it is some 'side information' that we will use later to come up with a better model)."
      ]
    },
    {
      "cell_type": "markdown",
      "metadata": {
        "id": "tPDgg2qsHI74"
      },
      "source": [
        "\n",
        "\n",
        "## 2.2) Compute the likehood function for a range of values of $p_{\\Omega}$ and plot them.\n",
        "*For each value of $p_{\\Omega}$ compute the likelihood function: the probability of having ovserved the data if $p_{\\Omega}$ was the value of the Bernouilli that generates the experimental data.*\n",
        "*Because there are many repetitions of the experiment, the likelihood for all is the joint probability. We can assume that the observations are independent therefore the joint probability is calculated by the product of all individual ones.* *The product of many small number will produced 'numerical problems' in the computations, rounding errors because of the limitations. A way to mitigate the issue is to transform the product into a sum of larger numbers by taking the logarithm. We can use the logarithm to do maximum likelihood because the logarithm does not change which input value produces the maximum.*\n",
        "\n",
        "HINT: You can transform the product in the likelhood function to a sum by taking the logarithm. $\\log(a\\times b \\times c) = log(a) + log(b) + log(c)$. This is commonly done when calculating likelihoods, because computing many products of small numbers produces numerical problems (very small numbers are difficult to handle by computers). This technique is so commo that we often tlak about log likelihoods."
      ]
    },
    {
      "cell_type": "code",
      "metadata": {
        "id": "Q14AW5NGH6qN"
      },
      "source": [
        ""
      ],
      "execution_count": null,
      "outputs": []
    },
    {
      "cell_type": "markdown",
      "metadata": {
        "id": "B6BhTU_v-ZV8"
      },
      "source": [
        "We now go for a more advanced model. We have data about the month that the clients visit our store, and we think with that the probability of buying an umbrella can be approximated more accurately if we consider the month in our model. The probability therefore is not unique, it varies from month to month.\n",
        "\n",
        "#2.3) Can you think of a function that could express the relationship between month and the probability of buying an umbrella?\n",
        "HINT: You can plot the data, and think of functions that create cyclical patterns. The answer does not have to be perfect! There are many different possibilities, the main point is using the information about the month to now produce a probability of buying an umbrella for each client, instead of the same for all clients.\n",
        "\n",
        "*Please write some answer here*\n"
      ]
    },
    {
      "cell_type": "markdown",
      "metadata": {
        "id": "nMJV2N2FBShF"
      },
      "source": [
        "To better tune the solution, we introduce a parameter in our model, we will first multiplying the number of the month by this parameter and then transform this through the function that creates cycles.\n",
        "\n",
        "*The idea here is that when we have a function that produces cycles, we then can adjust the length of the cycles by adding a parameter to the model. We can find the value of this parameter by using maximum likelihood. This should make clear the idea that maximum likelihood is a general technique to find good values for the parameters in our model, when we know the shape of the underlying probability distribution that generates the data. In the case of choice model, this is a well known distribution.*\n",
        "\n",
        "##2.4) Plot the likelihood function of that parameter for a range of values. What are some good values for that parameter? Compare the likelihoods of this model with the initial one, which model do you think  is better?"
      ]
    },
    {
      "cell_type": "code",
      "metadata": {
        "id": "n7v9EMt6CW88"
      },
      "source": [
        ""
      ],
      "execution_count": null,
      "outputs": []
    }
  ]
}
