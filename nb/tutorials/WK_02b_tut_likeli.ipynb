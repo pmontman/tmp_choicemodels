{
  "nbformat": 4,
  "nbformat_minor": 0,
  "metadata": {
    "colab": {
      "name": "wk_02b_tut_likeli",
      "provenance": [],
      "collapsed_sections": [],
      "authorship_tag": "ABX9TyM9YjkBbzYE766cygMnFpWF",
      "include_colab_link": true
    },
    "kernelspec": {
      "name": "python3",
      "display_name": "Python 3"
    },
    "language_info": {
      "name": "python"
    }
  },
  "cells": [
    {
      "cell_type": "markdown",
      "metadata": {
        "id": "view-in-github",
        "colab_type": "text"
      },
      "source": [
        "<a href=\"https://colab.research.google.com/github/pmontman/tmp_choicemodels/blob/main/nb/tutorials/WK_02b_tut_likeli.ipynb\" target=\"_parent\"><img src=\"https://colab.research.google.com/assets/colab-badge.svg\" alt=\"Open In Colab\"/></a>"
      ]
    },
    {
      "cell_type": "markdown",
      "metadata": {
        "id": "XAaq0M26oNGI"
      },
      "source": [
        "# Tutorial 2b\n",
        "\n",
        "In this tutorial, we will see:\n",
        "\n",
        "* Some exercises to solidify the concept of around the concept of 'likelihood' or likelihood function for a candidate model, given some data.\n"
      ]
    },
    {
      "cell_type": "markdown",
      "metadata": {
        "id": "5WSklb2pcTRh"
      },
      "source": [
        "---\n",
        "---\n",
        "\n",
        "# 2) Intuition on likelihood\n",
        "\n",
        "\n",
        "Let's consider the following scenario: We are responsible for the sales of umbrellas in a large department store, we would like to understand a bit more about the process.\n",
        "We have a sample of the clients that come into the store, knowing whether they bought an umbrella or not, a simple binary choice.\n",
        "\n",
        "Our first approximation consists of assuming that all clients are equivalent, so every time a client enters our store, they choose whether to buy an umbrella or not following some random variable (but the probability distribution for that random variable is the same for all clients). For example, the choose according to a coin toss, each client might get a different outcome, but they all choose according to a coin toss."
      ]
    },
    {
      "cell_type": "markdown",
      "metadata": {
        "id": "BEHO7qeF85ZB"
      },
      "source": [
        "## 2.1) What do you think is the probability distribution that governs the decision-making process under our initial assumptions?\n",
        " A random choice between two alternatives, there is a 'famous' probability distribution that is used to model experiments with 2 possible outcomes...\n"
      ]
    },
    {
      "cell_type": "markdown",
      "source": [
        "\n",
        "## *You can write the answer here, if you want.*"
      ],
      "metadata": {
        "id": "0lEq2D54jy95"
      }
    },
    {
      "cell_type": "markdown",
      "metadata": {
        "id": "JaWwv9p59iIv"
      },
      "source": [
        "---\n",
        "\n",
        "The parameter of that distribution, this unique probability, lets call it $p_{\\Omega}$ is the parameter in our simple model.\n",
        "\n",
        "Our data for the clients coming to our store is [in this file](https://raw.githubusercontent.com/pmontman/pub-choicemodels/main/data/umbrella_month.csv), lets take a look at it.\n"
      ]
    },
    {
      "cell_type": "code",
      "metadata": {
        "colab": {
          "base_uri": "https://localhost:8080/",
          "height": 206
        },
        "id": "6jqxsqsS9eb7",
        "outputId": "8dd170c9-c019-45eb-a86c-5bf6bb0bf54e"
      },
      "source": [
        "import pandas as pd\n",
        "umbrella_df = pd.read_csv(\"https://raw.githubusercontent.com/pmontman/pub-choicemodels/main/data/umbrella_month.csv\")\n",
        "\n",
        "umbrella_df.head(5)"
      ],
      "execution_count": 1,
      "outputs": [
        {
          "output_type": "execute_result",
          "data": {
            "text/plain": [
              "   buy_umbr  month  client_id\n",
              "0      True     12          1\n",
              "1     False     10          2\n",
              "2     False      6          3\n",
              "3      True      5          4\n",
              "4      True     12          5"
            ],
            "text/html": [
              "\n",
              "  <div id=\"df-7fc952bf-cd47-41f9-a909-141cf1bbe9a7\">\n",
              "    <div class=\"colab-df-container\">\n",
              "      <div>\n",
              "<style scoped>\n",
              "    .dataframe tbody tr th:only-of-type {\n",
              "        vertical-align: middle;\n",
              "    }\n",
              "\n",
              "    .dataframe tbody tr th {\n",
              "        vertical-align: top;\n",
              "    }\n",
              "\n",
              "    .dataframe thead th {\n",
              "        text-align: right;\n",
              "    }\n",
              "</style>\n",
              "<table border=\"1\" class=\"dataframe\">\n",
              "  <thead>\n",
              "    <tr style=\"text-align: right;\">\n",
              "      <th></th>\n",
              "      <th>buy_umbr</th>\n",
              "      <th>month</th>\n",
              "      <th>client_id</th>\n",
              "    </tr>\n",
              "  </thead>\n",
              "  <tbody>\n",
              "    <tr>\n",
              "      <th>0</th>\n",
              "      <td>True</td>\n",
              "      <td>12</td>\n",
              "      <td>1</td>\n",
              "    </tr>\n",
              "    <tr>\n",
              "      <th>1</th>\n",
              "      <td>False</td>\n",
              "      <td>10</td>\n",
              "      <td>2</td>\n",
              "    </tr>\n",
              "    <tr>\n",
              "      <th>2</th>\n",
              "      <td>False</td>\n",
              "      <td>6</td>\n",
              "      <td>3</td>\n",
              "    </tr>\n",
              "    <tr>\n",
              "      <th>3</th>\n",
              "      <td>True</td>\n",
              "      <td>5</td>\n",
              "      <td>4</td>\n",
              "    </tr>\n",
              "    <tr>\n",
              "      <th>4</th>\n",
              "      <td>True</td>\n",
              "      <td>12</td>\n",
              "      <td>5</td>\n",
              "    </tr>\n",
              "  </tbody>\n",
              "</table>\n",
              "</div>\n",
              "      <button class=\"colab-df-convert\" onclick=\"convertToInteractive('df-7fc952bf-cd47-41f9-a909-141cf1bbe9a7')\"\n",
              "              title=\"Convert this dataframe to an interactive table.\"\n",
              "              style=\"display:none;\">\n",
              "        \n",
              "  <svg xmlns=\"http://www.w3.org/2000/svg\" height=\"24px\"viewBox=\"0 0 24 24\"\n",
              "       width=\"24px\">\n",
              "    <path d=\"M0 0h24v24H0V0z\" fill=\"none\"/>\n",
              "    <path d=\"M18.56 5.44l.94 2.06.94-2.06 2.06-.94-2.06-.94-.94-2.06-.94 2.06-2.06.94zm-11 1L8.5 8.5l.94-2.06 2.06-.94-2.06-.94L8.5 2.5l-.94 2.06-2.06.94zm10 10l.94 2.06.94-2.06 2.06-.94-2.06-.94-.94-2.06-.94 2.06-2.06.94z\"/><path d=\"M17.41 7.96l-1.37-1.37c-.4-.4-.92-.59-1.43-.59-.52 0-1.04.2-1.43.59L10.3 9.45l-7.72 7.72c-.78.78-.78 2.05 0 2.83L4 21.41c.39.39.9.59 1.41.59.51 0 1.02-.2 1.41-.59l7.78-7.78 2.81-2.81c.8-.78.8-2.07 0-2.86zM5.41 20L4 18.59l7.72-7.72 1.47 1.35L5.41 20z\"/>\n",
              "  </svg>\n",
              "      </button>\n",
              "      \n",
              "  <style>\n",
              "    .colab-df-container {\n",
              "      display:flex;\n",
              "      flex-wrap:wrap;\n",
              "      gap: 12px;\n",
              "    }\n",
              "\n",
              "    .colab-df-convert {\n",
              "      background-color: #E8F0FE;\n",
              "      border: none;\n",
              "      border-radius: 50%;\n",
              "      cursor: pointer;\n",
              "      display: none;\n",
              "      fill: #1967D2;\n",
              "      height: 32px;\n",
              "      padding: 0 0 0 0;\n",
              "      width: 32px;\n",
              "    }\n",
              "\n",
              "    .colab-df-convert:hover {\n",
              "      background-color: #E2EBFA;\n",
              "      box-shadow: 0px 1px 2px rgba(60, 64, 67, 0.3), 0px 1px 3px 1px rgba(60, 64, 67, 0.15);\n",
              "      fill: #174EA6;\n",
              "    }\n",
              "\n",
              "    [theme=dark] .colab-df-convert {\n",
              "      background-color: #3B4455;\n",
              "      fill: #D2E3FC;\n",
              "    }\n",
              "\n",
              "    [theme=dark] .colab-df-convert:hover {\n",
              "      background-color: #434B5C;\n",
              "      box-shadow: 0px 1px 3px 1px rgba(0, 0, 0, 0.15);\n",
              "      filter: drop-shadow(0px 1px 2px rgba(0, 0, 0, 0.3));\n",
              "      fill: #FFFFFF;\n",
              "    }\n",
              "  </style>\n",
              "\n",
              "      <script>\n",
              "        const buttonEl =\n",
              "          document.querySelector('#df-7fc952bf-cd47-41f9-a909-141cf1bbe9a7 button.colab-df-convert');\n",
              "        buttonEl.style.display =\n",
              "          google.colab.kernel.accessAllowed ? 'block' : 'none';\n",
              "\n",
              "        async function convertToInteractive(key) {\n",
              "          const element = document.querySelector('#df-7fc952bf-cd47-41f9-a909-141cf1bbe9a7');\n",
              "          const dataTable =\n",
              "            await google.colab.kernel.invokeFunction('convertToInteractive',\n",
              "                                                     [key], {});\n",
              "          if (!dataTable) return;\n",
              "\n",
              "          const docLinkHtml = 'Like what you see? Visit the ' +\n",
              "            '<a target=\"_blank\" href=https://colab.research.google.com/notebooks/data_table.ipynb>data table notebook</a>'\n",
              "            + ' to learn more about interactive tables.';\n",
              "          element.innerHTML = '';\n",
              "          dataTable['output_type'] = 'display_data';\n",
              "          await google.colab.output.renderOutput(dataTable, element);\n",
              "          const docLink = document.createElement('div');\n",
              "          docLink.innerHTML = docLinkHtml;\n",
              "          element.appendChild(docLink);\n",
              "        }\n",
              "      </script>\n",
              "    </div>\n",
              "  </div>\n",
              "  "
            ]
          },
          "metadata": {},
          "execution_count": 1
        }
      ]
    },
    {
      "cell_type": "markdown",
      "metadata": {
        "id": "Z6Sm5ZiXI8b1"
      },
      "source": [
        "the variable **buy_umbr** indicates whether the client bought the umbrella, **month** is the month when the client visited the store (it is some 'side information' that we will use later to come up with a better model)."
      ]
    },
    {
      "cell_type": "markdown",
      "metadata": {
        "id": "tPDgg2qsHI74"
      },
      "source": [
        "\n",
        "\n",
        "## 2.2) Compute the likehood function for a range of values of $p_{\\Omega}$ and plot them.\n",
        "*For each value of $p_{\\Omega}$ compute the likelihood function: the probability of having ovserved the data if $p_{\\Omega}$ was the value of the Bernouilli that generates the experimental data.*\n",
        "*Because there are many repetitions of the experiment, the likelihood for all is the joint probability. We can assume that the observations are independent therefore the joint probability is calculated by the product of all individual ones.* *The product of many small number will produced 'numerical problems' in the computations, rounding errors because of the limitations. A way to mitigate the issue is to transform the product into a sum of larger numbers by taking the logarithm. We can use the logarithm to do maximum likelihood because the logarithm does not change which input value produces the maximum.*\n",
        "\n",
        "HINT: You can transform the product in the likelhood function to a sum by taking the logarithm. $\\log(a\\times b \\times c) = log(a) + log(b) + log(c)$. This is commonly done when calculating likelihoods, because computing many products of small numbers produces numerical problems (very small numbers are difficult to handle by computers). This technique is so commo that we often tlak about log likelihoods."
      ]
    },
    {
      "cell_type": "code",
      "metadata": {
        "id": "Q14AW5NGH6qN"
      },
      "source": [
        ""
      ],
      "execution_count": 1,
      "outputs": []
    },
    {
      "cell_type": "markdown",
      "metadata": {
        "id": "B6BhTU_v-ZV8"
      },
      "source": [
        "We now go for a more advanced model. We have data about the month that the clients visit our store, and we think with that the probability of buying an umbrella can be approximated more accurately if we consider the month in our model. The probability therefore is not unique, it varies from month to month.\n",
        "\n",
        "#2.3) Can you think of a function that could express the relationship between month and the probability of buying an umbrella?\n",
        "HINT: You can plot the data, and think of functions that create cyclical patterns. The answer does not have to be perfect! There are many different possibilities, the main point is using the information about the month to now produce a probability of buying an umbrella for each client, instead of the same for all clients.\n",
        "\n",
        "*Please write some answer here*\n"
      ]
    },
    {
      "cell_type": "markdown",
      "metadata": {
        "id": "nMJV2N2FBShF"
      },
      "source": [
        "To better tune the solution, we introduce a parameter in our model, we will first multiplying the number of the month by this parameter and then transform this through the function that creates cycles.\n",
        "\n",
        "*The idea here is that when we have a function that produces cycles, we then can adjust the length of the cycles by adding a parameter to the model. We can find the value of this parameter by using maximum likelihood. This should make clear the idea that maximum likelihood is a general technique to find good values for the parameters in our model, when we know the shape of the underlying probability distribution that generates the data. In the case of choice model, this is a well known distribution.*\n",
        "\n",
        "##2.4) Plot the likelihood function of that parameter for a range of values. What are some good values for that parameter? Compare the likelihoods of this model with the initial one, which model do you think  is better?"
      ]
    },
    {
      "cell_type": "code",
      "metadata": {
        "id": "n7v9EMt6CW88"
      },
      "source": [
        ""
      ],
      "execution_count": 1,
      "outputs": []
    }
  ]
}
