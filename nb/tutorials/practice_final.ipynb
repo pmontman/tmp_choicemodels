{
  "nbformat": 4,
  "nbformat_minor": 0,
  "metadata": {
    "colab": {
      "name": "practice_final",
      "provenance": [],
      "collapsed_sections": [],
      "include_colab_link": true
    },
    "kernelspec": {
      "name": "python3",
      "display_name": "Python 3"
    },
    "language_info": {
      "name": "python"
    }
  },
  "cells": [
    {
      "cell_type": "markdown",
      "metadata": {
        "id": "view-in-github",
        "colab_type": "text"
      },
      "source": [
        "<a href=\"https://colab.research.google.com/github/pmontman/tmp_choicemodels/blob/main/nb/tutorials/practice_final.ipynb\" target=\"_parent\"><img src=\"https://colab.research.google.com/assets/colab-badge.svg\" alt=\"Open In Colab\"/></a>"
      ]
    },
    {
      "cell_type": "markdown",
      "metadata": {
        "id": "rxbeRIOOkIRc"
      },
      "source": [
        "#Types of questions for the final exam\n",
        "\n",
        "We will see:\n",
        " * Nested logit\n",
        " * Ordered logit\n",
        " * Panel data and Mixed logit\n",
        "\n"
      ]
    },
    {
      "cell_type": "markdown",
      "metadata": {
        "id": "vb9SIunnASNB"
      },
      "source": [
        "---\n",
        "---\n",
        "\n",
        "# Preparing the environment\n",
        "*The preparation and dataset loading code is given to the students*"
      ]
    },
    {
      "cell_type": "code",
      "metadata": {
        "id": "j5zHGhgErHPd",
        "colab": {
          "base_uri": "https://localhost:8080/"
        },
        "outputId": "4eef0bbd-be53-474c-b5e3-e1ed08cb3d87"
      },
      "source": [
        "!pip install biogeme"
      ],
      "execution_count": 1,
      "outputs": [
        {
          "output_type": "stream",
          "name": "stdout",
          "text": [
            "Looking in indexes: https://pypi.org/simple, https://us-python.pkg.dev/colab-wheels/public/simple/\n",
            "Requirement already satisfied: biogeme in /usr/local/lib/python3.7/dist-packages (3.2.10)\n"
          ]
        }
      ]
    },
    {
      "cell_type": "markdown",
      "metadata": {
        "id": "1z0X9xZ8rChf"
      },
      "source": [
        "Load the packages, feel free to change the names."
      ]
    },
    {
      "cell_type": "code",
      "metadata": {
        "id": "apVB-TMkrFnb"
      },
      "source": [
        "import pandas  as pd\n",
        "import numpy as np\n",
        "import matplotlib.pyplot as plt\n",
        "\n",
        "import biogeme.database as db\n",
        "import biogeme.biogeme as bio\n",
        "import biogeme.models as models\n",
        "import biogeme.expressions as exp\n",
        "import biogeme.tools as tools\n",
        "import biogeme.distributions as dist"
      ],
      "execution_count": 2,
      "outputs": []
    },
    {
      "cell_type": "markdown",
      "metadata": {
        "id": "Mgv0hV1YAieW"
      },
      "source": [
        "# Load the dataset"
      ]
    },
    {
      "cell_type": "code",
      "metadata": {
        "id": "g1Ykn5Ytr7Rs"
      },
      "source": [
        "path = 'https://raw.githubusercontent.com/pmontman/pub-choicemodels/main/data/fishing.csv'\n",
        "data_pd = pd.read_csv(path)"
      ],
      "execution_count": 3,
      "outputs": []
    },
    {
      "cell_type": "markdown",
      "metadata": {
        "id": "ZY55r3Gesb3t"
      },
      "source": [
        "A simple look at the dataset."
      ]
    },
    {
      "cell_type": "code",
      "metadata": {
        "id": "ldkmnMhssemT",
        "colab": {
          "base_uri": "https://localhost:8080/",
          "height": 206
        },
        "outputId": "0ef48bdc-7b2e-4d74-cf9a-a9c56f1a8115"
      },
      "source": [
        "data_pd.head(5)"
      ],
      "execution_count": 4,
      "outputs": [
        {
          "output_type": "execute_result",
          "data": {
            "text/plain": [
              "   mode  price_beach  price_pier  price_boat  price_charter  catch_beach  \\\n",
              "0     4      157.930     157.930     157.930        182.930       0.0678   \n",
              "1     4       15.114      15.114      10.534         34.534       0.1049   \n",
              "2     3      161.874     161.874      24.334         59.334       0.5333   \n",
              "3     2       15.134      15.134      55.930         84.930       0.0678   \n",
              "4     3      106.930     106.930      41.514         71.014       0.0678   \n",
              "\n",
              "   catch_pier  catch_boat  catch_charter     income  \n",
              "0      0.0503      0.2601         0.5391  7083.3317  \n",
              "1      0.0451      0.1574         0.4671  1249.9998  \n",
              "2      0.4522      0.2413         1.0266  3749.9999  \n",
              "3      0.0789      0.1643         0.5391  2083.3332  \n",
              "4      0.0503      0.1082         0.3240  4583.3320  "
            ],
            "text/html": [
              "\n",
              "  <div id=\"df-234d142f-969f-40e0-a723-bc35bcff8d68\">\n",
              "    <div class=\"colab-df-container\">\n",
              "      <div>\n",
              "<style scoped>\n",
              "    .dataframe tbody tr th:only-of-type {\n",
              "        vertical-align: middle;\n",
              "    }\n",
              "\n",
              "    .dataframe tbody tr th {\n",
              "        vertical-align: top;\n",
              "    }\n",
              "\n",
              "    .dataframe thead th {\n",
              "        text-align: right;\n",
              "    }\n",
              "</style>\n",
              "<table border=\"1\" class=\"dataframe\">\n",
              "  <thead>\n",
              "    <tr style=\"text-align: right;\">\n",
              "      <th></th>\n",
              "      <th>mode</th>\n",
              "      <th>price_beach</th>\n",
              "      <th>price_pier</th>\n",
              "      <th>price_boat</th>\n",
              "      <th>price_charter</th>\n",
              "      <th>catch_beach</th>\n",
              "      <th>catch_pier</th>\n",
              "      <th>catch_boat</th>\n",
              "      <th>catch_charter</th>\n",
              "      <th>income</th>\n",
              "    </tr>\n",
              "  </thead>\n",
              "  <tbody>\n",
              "    <tr>\n",
              "      <th>0</th>\n",
              "      <td>4</td>\n",
              "      <td>157.930</td>\n",
              "      <td>157.930</td>\n",
              "      <td>157.930</td>\n",
              "      <td>182.930</td>\n",
              "      <td>0.0678</td>\n",
              "      <td>0.0503</td>\n",
              "      <td>0.2601</td>\n",
              "      <td>0.5391</td>\n",
              "      <td>7083.3317</td>\n",
              "    </tr>\n",
              "    <tr>\n",
              "      <th>1</th>\n",
              "      <td>4</td>\n",
              "      <td>15.114</td>\n",
              "      <td>15.114</td>\n",
              "      <td>10.534</td>\n",
              "      <td>34.534</td>\n",
              "      <td>0.1049</td>\n",
              "      <td>0.0451</td>\n",
              "      <td>0.1574</td>\n",
              "      <td>0.4671</td>\n",
              "      <td>1249.9998</td>\n",
              "    </tr>\n",
              "    <tr>\n",
              "      <th>2</th>\n",
              "      <td>3</td>\n",
              "      <td>161.874</td>\n",
              "      <td>161.874</td>\n",
              "      <td>24.334</td>\n",
              "      <td>59.334</td>\n",
              "      <td>0.5333</td>\n",
              "      <td>0.4522</td>\n",
              "      <td>0.2413</td>\n",
              "      <td>1.0266</td>\n",
              "      <td>3749.9999</td>\n",
              "    </tr>\n",
              "    <tr>\n",
              "      <th>3</th>\n",
              "      <td>2</td>\n",
              "      <td>15.134</td>\n",
              "      <td>15.134</td>\n",
              "      <td>55.930</td>\n",
              "      <td>84.930</td>\n",
              "      <td>0.0678</td>\n",
              "      <td>0.0789</td>\n",
              "      <td>0.1643</td>\n",
              "      <td>0.5391</td>\n",
              "      <td>2083.3332</td>\n",
              "    </tr>\n",
              "    <tr>\n",
              "      <th>4</th>\n",
              "      <td>3</td>\n",
              "      <td>106.930</td>\n",
              "      <td>106.930</td>\n",
              "      <td>41.514</td>\n",
              "      <td>71.014</td>\n",
              "      <td>0.0678</td>\n",
              "      <td>0.0503</td>\n",
              "      <td>0.1082</td>\n",
              "      <td>0.3240</td>\n",
              "      <td>4583.3320</td>\n",
              "    </tr>\n",
              "  </tbody>\n",
              "</table>\n",
              "</div>\n",
              "      <button class=\"colab-df-convert\" onclick=\"convertToInteractive('df-234d142f-969f-40e0-a723-bc35bcff8d68')\"\n",
              "              title=\"Convert this dataframe to an interactive table.\"\n",
              "              style=\"display:none;\">\n",
              "        \n",
              "  <svg xmlns=\"http://www.w3.org/2000/svg\" height=\"24px\"viewBox=\"0 0 24 24\"\n",
              "       width=\"24px\">\n",
              "    <path d=\"M0 0h24v24H0V0z\" fill=\"none\"/>\n",
              "    <path d=\"M18.56 5.44l.94 2.06.94-2.06 2.06-.94-2.06-.94-.94-2.06-.94 2.06-2.06.94zm-11 1L8.5 8.5l.94-2.06 2.06-.94-2.06-.94L8.5 2.5l-.94 2.06-2.06.94zm10 10l.94 2.06.94-2.06 2.06-.94-2.06-.94-.94-2.06-.94 2.06-2.06.94z\"/><path d=\"M17.41 7.96l-1.37-1.37c-.4-.4-.92-.59-1.43-.59-.52 0-1.04.2-1.43.59L10.3 9.45l-7.72 7.72c-.78.78-.78 2.05 0 2.83L4 21.41c.39.39.9.59 1.41.59.51 0 1.02-.2 1.41-.59l7.78-7.78 2.81-2.81c.8-.78.8-2.07 0-2.86zM5.41 20L4 18.59l7.72-7.72 1.47 1.35L5.41 20z\"/>\n",
              "  </svg>\n",
              "      </button>\n",
              "      \n",
              "  <style>\n",
              "    .colab-df-container {\n",
              "      display:flex;\n",
              "      flex-wrap:wrap;\n",
              "      gap: 12px;\n",
              "    }\n",
              "\n",
              "    .colab-df-convert {\n",
              "      background-color: #E8F0FE;\n",
              "      border: none;\n",
              "      border-radius: 50%;\n",
              "      cursor: pointer;\n",
              "      display: none;\n",
              "      fill: #1967D2;\n",
              "      height: 32px;\n",
              "      padding: 0 0 0 0;\n",
              "      width: 32px;\n",
              "    }\n",
              "\n",
              "    .colab-df-convert:hover {\n",
              "      background-color: #E2EBFA;\n",
              "      box-shadow: 0px 1px 2px rgba(60, 64, 67, 0.3), 0px 1px 3px 1px rgba(60, 64, 67, 0.15);\n",
              "      fill: #174EA6;\n",
              "    }\n",
              "\n",
              "    [theme=dark] .colab-df-convert {\n",
              "      background-color: #3B4455;\n",
              "      fill: #D2E3FC;\n",
              "    }\n",
              "\n",
              "    [theme=dark] .colab-df-convert:hover {\n",
              "      background-color: #434B5C;\n",
              "      box-shadow: 0px 1px 3px 1px rgba(0, 0, 0, 0.15);\n",
              "      filter: drop-shadow(0px 1px 2px rgba(0, 0, 0, 0.3));\n",
              "      fill: #FFFFFF;\n",
              "    }\n",
              "  </style>\n",
              "\n",
              "      <script>\n",
              "        const buttonEl =\n",
              "          document.querySelector('#df-234d142f-969f-40e0-a723-bc35bcff8d68 button.colab-df-convert');\n",
              "        buttonEl.style.display =\n",
              "          google.colab.kernel.accessAllowed ? 'block' : 'none';\n",
              "\n",
              "        async function convertToInteractive(key) {\n",
              "          const element = document.querySelector('#df-234d142f-969f-40e0-a723-bc35bcff8d68');\n",
              "          const dataTable =\n",
              "            await google.colab.kernel.invokeFunction('convertToInteractive',\n",
              "                                                     [key], {});\n",
              "          if (!dataTable) return;\n",
              "\n",
              "          const docLinkHtml = 'Like what you see? Visit the ' +\n",
              "            '<a target=\"_blank\" href=https://colab.research.google.com/notebooks/data_table.ipynb>data table notebook</a>'\n",
              "            + ' to learn more about interactive tables.';\n",
              "          element.innerHTML = '';\n",
              "          dataTable['output_type'] = 'display_data';\n",
              "          await google.colab.output.renderOutput(dataTable, element);\n",
              "          const docLink = document.createElement('div');\n",
              "          docLink.innerHTML = docLinkHtml;\n",
              "          element.appendChild(docLink);\n",
              "        }\n",
              "      </script>\n",
              "    </div>\n",
              "  </div>\n",
              "  "
            ]
          },
          "metadata": {},
          "execution_count": 4
        }
      ]
    },
    {
      "cell_type": "markdown",
      "metadata": {
        "id": "YEJvXwpekbvd"
      },
      "source": [
        "---\n",
        "---\n",
        "\n",
        "# Auxiliary functions"
      ]
    },
    {
      "cell_type": "markdown",
      "metadata": {
        "id": "CKyKA_dj-IVp"
      },
      "source": [
        "The first function takes the dictionary of utilities, a pandas dataframe, and the name of the variable that contains the variable with the results of the choice. It returns the biogeme object with the model and the estimated 'results' object (the one we get the values, likelihoods, etc.)\n",
        "We have added the dictionary with the utilities to the biogeme object, in case we use it later."
      ]
    },
    {
      "cell_type": "code",
      "metadata": {
        "id": "0OQ1ls2Bi_ot"
      },
      "source": [
        "def qbus_estimate_bgm(V, pd_df, tgtvar_name, modelname='bgmdef'):\n",
        " av_auto = V.copy()\n",
        " for key, value in av_auto.items():\n",
        "   av_auto[key] = 1\n",
        " bgm_db = db.Database(modelname + '_db', pd_df)\n",
        " globals().update(bgm_db.variables)\n",
        " logprob = models.loglogit (V , av_auto , bgm_db.variables[tgtvar_name] )\n",
        " bgm_model = bio.BIOGEME ( bgm_db, logprob )\n",
        " bgm_model.utility_dic = V.copy()\n",
        " return bgm_model, bgm_model.estimate()"
      ],
      "execution_count": 5,
      "outputs": []
    },
    {
      "cell_type": "markdown",
      "metadata": {
        "id": "dM2f5-0w-_4b"
      },
      "source": [
        "The next function will calculate the predictions for a given biogeme object that was estimated with `qbus_estimate_bgm`. The output is the array with the choice probabilities. From the choice probabilities, this can be used to calculate accuracies, confusion matrices and the output of what-if scenarios."
      ]
    },
    {
      "cell_type": "code",
      "metadata": {
        "id": "O4Iau_IHHCzc"
      },
      "source": [
        "def qbus_simulate_bgm(qbus_bgm_model, betas, pred_pd_df):\n",
        "  av_auto = None\n",
        "  targets = None\n",
        "  if hasattr(qbus_bgm_model, 'ord_probs'):\n",
        "    av_auto = qbus_bgm_model.ord_probs.copy()\n",
        "    targets = qbus_bgm_model.ord_probs.copy()\n",
        "  else:\n",
        "    av_auto = qbus_bgm_model.utility_dic.copy()\n",
        "    targets = qbus_bgm_model.utility_dic.copy()\n",
        "\n",
        "  for key, value in av_auto.items():\n",
        "    av_auto[key] = 1\n",
        "\n",
        "\n",
        "\n",
        "  for key, value in targets.items():\n",
        "    if hasattr(qbus_bgm_model, 'nest_tuple'):\n",
        "      targets[key] = models.nested(qbus_bgm_model.utility_dic, av_auto, qbus_bgm_model.nest_tuple, key)\n",
        "    else:\n",
        "      if hasattr(qbus_bgm_model, 'ord_probs'):\n",
        "       0\n",
        "       #targets[key] = qbus_bgm_model.ord_probs[key]\n",
        "      else:\n",
        "       targets[key] = models.logit(qbus_bgm_model.utility_dic, av_auto, key)\n",
        "\n",
        "  bgm_db = db.Database('simul', pred_pd_df)\n",
        "  globals().update(bgm_db.variables)\n",
        "  bgm_pred_model = bio.BIOGEME(bgm_db, targets)\n",
        "  simulatedValues = bgm_pred_model.simulate(betas)\n",
        "  return simulatedValues"
      ],
      "execution_count": 6,
      "outputs": []
    },
    {
      "cell_type": "markdown",
      "metadata": {
        "id": "AnBLUPi-DjU7"
      },
      "source": [
        "The function `qbus_calc_accu_confusion` calculates the accuracies given the choice probability predictions a pandas dataset and the specification of the name that contains the actual choices in the input dataset."
      ]
    },
    {
      "cell_type": "code",
      "metadata": {
        "id": "m9l5cDGkzsfJ"
      },
      "source": [
        "def qbus_calc_accu_confusion(sim_probs, pd_df, choice_var):\n",
        "  which_max = sim_probs.idxmax(axis=1)\n",
        "  data = {'y_Actual':   pd_df[choice_var],\n",
        "          'y_Predicted': which_max\n",
        "        }\n",
        "\n",
        "  df = pd.DataFrame(data, columns=['y_Actual','y_Predicted'])\n",
        "  confusion_matrix = pd.crosstab(df['y_Actual'], df['y_Predicted'], rownames=['Actual'], colnames=['Predicted'])\n",
        "  accu = np.mean(which_max == pd_df[choice_var])\n",
        "  return accu, confusion_matrix "
      ],
      "execution_count": 7,
      "outputs": []
    },
    {
      "cell_type": "markdown",
      "metadata": {
        "id": "dYfxQpYLDzgm"
      },
      "source": [
        "The next function calculates the likelihood ratio test having to write a bit less code that the default biogeme function. The arguments are the results objects of the two models to be compared. The first is the more complex and the second is the reference model (**the order is important!**). The third argument is the significance level for the test."
      ]
    },
    {
      "cell_type": "code",
      "metadata": {
        "id": "GUNVxPmK3rF2"
      },
      "source": [
        "def qbus_likeli_ratio_test_bgm(results_complex, results_reference, signif_level):\n",
        "  return tools.likelihood_ratio_test( (results_complex.data.logLike, results_complex.data.nparam),\n",
        "                                     (results_reference.data.logLike, results_reference.data.nparam), signif_level)"
      ],
      "execution_count": 8,
      "outputs": []
    },
    {
      "cell_type": "markdown",
      "metadata": {
        "id": "5b7TaMhCEZIZ"
      },
      "source": [
        "The next function just updates the globals so we can use it "
      ]
    },
    {
      "cell_type": "code",
      "metadata": {
        "id": "PfHXGoLS1yHX"
      },
      "source": [
        "def qbus_update_globals_bgm(pd_df):\n",
        "   globals().update(db.Database('tmp_bg_bgm_for_glob', pd_df).variables)"
      ],
      "execution_count": 9,
      "outputs": []
    },
    {
      "cell_type": "markdown",
      "metadata": {
        "id": "buGCdfDc47M4"
      },
      "source": [
        "The next function calculates the nested logit version. Similar to the multinomial logit"
      ]
    },
    {
      "cell_type": "code",
      "metadata": {
        "id": "QEo3d3kJo2BV"
      },
      "source": [
        "def qbus_estimate_nested_bgm(V, pd_df, nests,  tgtvar_name, modelname='bgmdef'):\n",
        " av_auto = V.copy()\n",
        " for key, value in av_auto.items():\n",
        "   av_auto[key] = 1\n",
        " bgm_db = db.Database(modelname + '_db', pd_df)\n",
        " globals().update(bgm_db.variables)\n",
        " logprobnest = models.lognested (V, av_auto , nests , bgm_db.variables[tgtvar_name] )\n",
        " #logprob = models.loglogit (V , av_auto , bgm_db.variables[tgtvar_name] )\n",
        " bgm_model = bio.BIOGEME ( bgm_db, logprobnest )\n",
        " bgm_model.utility_dic = V.copy()\n",
        " bgm_model.nest_tuple = nests\n",
        " return bgm_model, bgm_model.estimate()"
      ],
      "execution_count": 10,
      "outputs": []
    },
    {
      "cell_type": "markdown",
      "metadata": {
        "id": "lvu4rY2z0lnG"
      },
      "source": [
        "The auxiliary function for the ordered logit. The use is slightly different from the basic multinomial logit!\n",
        "* The `V` argument is just the expression of a utility function, not the dictionary mapping alternative ids to the utility functions.\n",
        "* The argument `ord_alt_ids` is a list with the ids of the alternatives **in the order that we want to impose**.The parameter to know about.\n",
        "\n",
        "Then the rest of the arguments are used as usual `pd_df` the pandas dataframe, `tgt_varname` the name of the variable with the choices, and an optional `modelname`."
      ]
    },
    {
      "cell_type": "code",
      "metadata": {
        "id": "8cNy29oJjLtM"
      },
      "source": [
        "def qbus_estimate_ordered_bgm(V, ord_alt_ids, pd_df, tgtvar_name, modelname='ord_bgm'):\n",
        " bgm_db = db.Database(modelname + '_db', pd_df)\n",
        " globals().update(bgm_db.variables)\n",
        "\n",
        " taus_map = {ord_alt_ids[0]: exp.Beta('tau1', -1, None, None, 0) }\n",
        " i = 1\n",
        " for id in ord_alt_ids[1:-1]:\n",
        "  taus_map[id] = taus_map[ ord_alt_ids[i-1] ] + exp.Beta('delta_'+ str(i + 1), i, 0, None, 0)\n",
        "  i = i + 1\n",
        "\n",
        " alt_probs_map = {ord_alt_ids[0]: dist.logisticcdf( taus_map[ord_alt_ids[0] ] - V_ord) }\n",
        "\n",
        " i = 1\n",
        " for id in ord_alt_ids[1:-1]:\n",
        "  alt_probs_map[id] = dist.logisticcdf( taus_map[id] - V_ord) - dist.logisticcdf( taus_map[ ord_alt_ids[i-1] ] - V_ord)\n",
        "  i = i + 1\n",
        "\n",
        " alt_probs_map[ord_alt_ids[i] ] = 1 - dist.logisticcdf( taus_map[ord_alt_ids[i-1]] - V_ord)\n",
        "\n",
        " logprob = exp.log(exp.Elem(alt_probs_map, bgm_db.variables[tgtvar_name]))\n",
        "\n",
        " #logprob = models.loglogit (V , av_auto , bgm_db.variables[tgtvar_name] )\n",
        " bgm_model = bio.BIOGEME ( bgm_db, logprob )\n",
        " bgm_model.utility_dic = V\n",
        " bgm_model.ord_probs = alt_probs_map.copy()\n",
        " return bgm_model, bgm_model.estimate()"
      ],
      "execution_count": 11,
      "outputs": []
    },
    {
      "cell_type": "markdown",
      "metadata": {
        "id": "ApSvgeffCcRT"
      },
      "source": [
        "The mixed logit with panel data\n",
        "\n"
      ]
    },
    {
      "cell_type": "code",
      "metadata": {
        "id": "2n-4SIpBCpCI"
      },
      "source": [
        "def qbus_estimate_mixed_bgm(V, pd_df, tgtvar_name, panelvar_name=None, n_draws=50, seed=1, modelname='bgmdef'):\n",
        " do_panel = not (panelvar_name==None)\n",
        "\n",
        " av_auto = V.copy()\n",
        " for key, value in av_auto.items():\n",
        "   av_auto[key] = 1\n",
        " bgm_db = db.Database(modelname + '_db', pd_df)\n",
        " if (do_panel):\n",
        "   bgm_db.panel(panelvar_name)\n",
        "\n",
        " globals().update(bgm_db.variables)\n",
        " #logprob = models.loglogit (V , av_auto , bgm_db.variables[tgtvar_name] )\n",
        " obsprob = models.logit(V, av_auto, CHOICE)\n",
        " if (do_panel):\n",
        "  condprobIndiv = exp.PanelLikelihoodTrajectory(obsprob)\n",
        " else:\n",
        "  condprobIndiv = obsprob\n",
        " logprob = exp.log(exp.MonteCarlo(condprobIndiv))\n",
        " bgm_model  = bio.BIOGEME(bgm_db,logprob,numberOfDraws=n_draws, seed=seed)\n",
        " bgm_model.utility_dic = V.copy()\n",
        " return bgm_model, bgm_model.estimate()"
      ],
      "execution_count": 12,
      "outputs": []
    },
    {
      "cell_type": "markdown",
      "metadata": {
        "id": "Ya_1zth9vEX1"
      },
      "source": [
        "---\n",
        "---\n",
        "\n",
        "# Estimating a baseline model"
      ]
    },
    {
      "cell_type": "code",
      "metadata": {
        "id": "SeRgbCnbG4aD"
      },
      "source": [
        "ASC_beach = exp.Beta ( 'ASC_beach' ,0, None , None ,0)\n",
        "ASC_pier = exp.Beta ( 'ASC_pier' ,0, None , None ,0)\n",
        "ASC_boat = exp.Beta ( 'ASC_boat' ,0, None , None ,0)\n",
        "ASC_charter = exp.Beta ( 'ASC_charter' ,0, None , None ,1)\n",
        "B_price = exp.Beta ( 'B_price' ,0, None , None ,0)\n",
        "B_catch = exp.Beta ( 'B_catch' ,0, None , None ,0)"
      ],
      "execution_count": 13,
      "outputs": []
    },
    {
      "cell_type": "code",
      "metadata": {
        "id": "XDPllyLIijIy"
      },
      "source": [
        "qbus_update_globals_bgm(data_pd)"
      ],
      "execution_count": 14,
      "outputs": []
    },
    {
      "cell_type": "code",
      "metadata": {
        "id": "HG_YkIVy2NbS"
      },
      "source": [
        "V_beach = ASC_beach + B_price*price_beach + B_catch*catch_beach\n",
        "V_pier = ASC_pier + B_price*price_pier + B_catch*catch_pier\n",
        "V_boat = ASC_boat + B_price*price_boat + B_catch*catch_boat\n",
        "V_charter = ASC_charter + B_price*price_charter + B_catch*catch_charter\n",
        "\n",
        "V_base = {1: V_beach,\n",
        "     2: V_pier,\n",
        "     3: V_boat,\n",
        "     4: V_charter}"
      ],
      "execution_count": 15,
      "outputs": []
    },
    {
      "cell_type": "code",
      "metadata": {
        "id": "_J5poICol34Q",
        "colab": {
          "base_uri": "https://localhost:8080/"
        },
        "outputId": "56a140dc-7f6e-4f26-d1e4-a12b928cd278"
      },
      "source": [
        "model_base, results_base = qbus_estimate_bgm(V_base, data_pd, 'mode', 'fish')"
      ],
      "execution_count": 16,
      "outputs": [
        {
          "output_type": "stream",
          "name": "stdout",
          "text": [
            "[02:57:22] < Warning >   You have not defined a name for the model. The output files are named from the model name. The default is [biogemeModelDefaultName]\n"
          ]
        }
      ]
    },
    {
      "cell_type": "code",
      "metadata": {
        "id": "_qu_aguema04",
        "colab": {
          "base_uri": "https://localhost:8080/",
          "height": 206
        },
        "outputId": "3628fe36-3993-489e-a510-06cd25634e47"
      },
      "source": [
        "results_base.getEstimatedParameters()"
      ],
      "execution_count": 17,
      "outputs": [
        {
          "output_type": "execute_result",
          "data": {
            "text/plain": [
              "              Value  Rob. Std err  Rob. t-test  Rob. p-value\n",
              "ASC_beach -1.498830      0.129702   -11.555969  0.000000e+00\n",
              "ASC_boat  -0.627451      0.116826    -5.370799  7.838864e-08\n",
              "ASC_pier  -1.191783      0.128327    -9.287100  0.000000e+00\n",
              "B_catch    0.377241      0.119248     3.163500  1.558845e-03\n",
              "B_price   -0.024789      0.002329   -10.645274  0.000000e+00"
            ],
            "text/html": [
              "\n",
              "  <div id=\"df-a42346e5-1d2f-4487-96ea-0146f3ae9479\">\n",
              "    <div class=\"colab-df-container\">\n",
              "      <div>\n",
              "<style scoped>\n",
              "    .dataframe tbody tr th:only-of-type {\n",
              "        vertical-align: middle;\n",
              "    }\n",
              "\n",
              "    .dataframe tbody tr th {\n",
              "        vertical-align: top;\n",
              "    }\n",
              "\n",
              "    .dataframe thead th {\n",
              "        text-align: right;\n",
              "    }\n",
              "</style>\n",
              "<table border=\"1\" class=\"dataframe\">\n",
              "  <thead>\n",
              "    <tr style=\"text-align: right;\">\n",
              "      <th></th>\n",
              "      <th>Value</th>\n",
              "      <th>Rob. Std err</th>\n",
              "      <th>Rob. t-test</th>\n",
              "      <th>Rob. p-value</th>\n",
              "    </tr>\n",
              "  </thead>\n",
              "  <tbody>\n",
              "    <tr>\n",
              "      <th>ASC_beach</th>\n",
              "      <td>-1.498830</td>\n",
              "      <td>0.129702</td>\n",
              "      <td>-11.555969</td>\n",
              "      <td>0.000000e+00</td>\n",
              "    </tr>\n",
              "    <tr>\n",
              "      <th>ASC_boat</th>\n",
              "      <td>-0.627451</td>\n",
              "      <td>0.116826</td>\n",
              "      <td>-5.370799</td>\n",
              "      <td>7.838864e-08</td>\n",
              "    </tr>\n",
              "    <tr>\n",
              "      <th>ASC_pier</th>\n",
              "      <td>-1.191783</td>\n",
              "      <td>0.128327</td>\n",
              "      <td>-9.287100</td>\n",
              "      <td>0.000000e+00</td>\n",
              "    </tr>\n",
              "    <tr>\n",
              "      <th>B_catch</th>\n",
              "      <td>0.377241</td>\n",
              "      <td>0.119248</td>\n",
              "      <td>3.163500</td>\n",
              "      <td>1.558845e-03</td>\n",
              "    </tr>\n",
              "    <tr>\n",
              "      <th>B_price</th>\n",
              "      <td>-0.024789</td>\n",
              "      <td>0.002329</td>\n",
              "      <td>-10.645274</td>\n",
              "      <td>0.000000e+00</td>\n",
              "    </tr>\n",
              "  </tbody>\n",
              "</table>\n",
              "</div>\n",
              "      <button class=\"colab-df-convert\" onclick=\"convertToInteractive('df-a42346e5-1d2f-4487-96ea-0146f3ae9479')\"\n",
              "              title=\"Convert this dataframe to an interactive table.\"\n",
              "              style=\"display:none;\">\n",
              "        \n",
              "  <svg xmlns=\"http://www.w3.org/2000/svg\" height=\"24px\"viewBox=\"0 0 24 24\"\n",
              "       width=\"24px\">\n",
              "    <path d=\"M0 0h24v24H0V0z\" fill=\"none\"/>\n",
              "    <path d=\"M18.56 5.44l.94 2.06.94-2.06 2.06-.94-2.06-.94-.94-2.06-.94 2.06-2.06.94zm-11 1L8.5 8.5l.94-2.06 2.06-.94-2.06-.94L8.5 2.5l-.94 2.06-2.06.94zm10 10l.94 2.06.94-2.06 2.06-.94-2.06-.94-.94-2.06-.94 2.06-2.06.94z\"/><path d=\"M17.41 7.96l-1.37-1.37c-.4-.4-.92-.59-1.43-.59-.52 0-1.04.2-1.43.59L10.3 9.45l-7.72 7.72c-.78.78-.78 2.05 0 2.83L4 21.41c.39.39.9.59 1.41.59.51 0 1.02-.2 1.41-.59l7.78-7.78 2.81-2.81c.8-.78.8-2.07 0-2.86zM5.41 20L4 18.59l7.72-7.72 1.47 1.35L5.41 20z\"/>\n",
              "  </svg>\n",
              "      </button>\n",
              "      \n",
              "  <style>\n",
              "    .colab-df-container {\n",
              "      display:flex;\n",
              "      flex-wrap:wrap;\n",
              "      gap: 12px;\n",
              "    }\n",
              "\n",
              "    .colab-df-convert {\n",
              "      background-color: #E8F0FE;\n",
              "      border: none;\n",
              "      border-radius: 50%;\n",
              "      cursor: pointer;\n",
              "      display: none;\n",
              "      fill: #1967D2;\n",
              "      height: 32px;\n",
              "      padding: 0 0 0 0;\n",
              "      width: 32px;\n",
              "    }\n",
              "\n",
              "    .colab-df-convert:hover {\n",
              "      background-color: #E2EBFA;\n",
              "      box-shadow: 0px 1px 2px rgba(60, 64, 67, 0.3), 0px 1px 3px 1px rgba(60, 64, 67, 0.15);\n",
              "      fill: #174EA6;\n",
              "    }\n",
              "\n",
              "    [theme=dark] .colab-df-convert {\n",
              "      background-color: #3B4455;\n",
              "      fill: #D2E3FC;\n",
              "    }\n",
              "\n",
              "    [theme=dark] .colab-df-convert:hover {\n",
              "      background-color: #434B5C;\n",
              "      box-shadow: 0px 1px 3px 1px rgba(0, 0, 0, 0.15);\n",
              "      filter: drop-shadow(0px 1px 2px rgba(0, 0, 0, 0.3));\n",
              "      fill: #FFFFFF;\n",
              "    }\n",
              "  </style>\n",
              "\n",
              "      <script>\n",
              "        const buttonEl =\n",
              "          document.querySelector('#df-a42346e5-1d2f-4487-96ea-0146f3ae9479 button.colab-df-convert');\n",
              "        buttonEl.style.display =\n",
              "          google.colab.kernel.accessAllowed ? 'block' : 'none';\n",
              "\n",
              "        async function convertToInteractive(key) {\n",
              "          const element = document.querySelector('#df-a42346e5-1d2f-4487-96ea-0146f3ae9479');\n",
              "          const dataTable =\n",
              "            await google.colab.kernel.invokeFunction('convertToInteractive',\n",
              "                                                     [key], {});\n",
              "          if (!dataTable) return;\n",
              "\n",
              "          const docLinkHtml = 'Like what you see? Visit the ' +\n",
              "            '<a target=\"_blank\" href=https://colab.research.google.com/notebooks/data_table.ipynb>data table notebook</a>'\n",
              "            + ' to learn more about interactive tables.';\n",
              "          element.innerHTML = '';\n",
              "          dataTable['output_type'] = 'display_data';\n",
              "          await google.colab.output.renderOutput(dataTable, element);\n",
              "          const docLink = document.createElement('div');\n",
              "          docLink.innerHTML = docLinkHtml;\n",
              "          element.appendChild(docLink);\n",
              "        }\n",
              "      </script>\n",
              "    </div>\n",
              "  </div>\n",
              "  "
            ]
          },
          "metadata": {},
          "execution_count": 17
        }
      ]
    },
    {
      "cell_type": "markdown",
      "metadata": {
        "id": "4mtMh3Bl6FW8"
      },
      "source": [
        "---\n",
        "---\n",
        "\n",
        "# Nested logit Question: Estimate the model \n",
        "Nested logit, we declare the nest parameter, the parameter that will represent the 'strength' of the nesting.\n",
        "\n",
        "We use the biogeme expression (same as for the Beta coefficients). In biogeme\n",
        "the larger the parameter, the stronger the nesting. Its minimum value should be 1, the maximum can be a large enough number such as 100. This comes from the $\\lambda$ in the theory part that is between 0 and 1, biogeme use a $\\mu = 1/ \\lambda$ so it should be a number larger than 1 if $\\lambda$ is between 0 and 1."
      ]
    },
    {
      "cell_type": "code",
      "metadata": {
        "id": "T202OKu26mTv"
      },
      "source": [
        "MU_nest_A = exp.Beta('MU_nest_A', 1, 1, 100, 0)"
      ],
      "execution_count": 18,
      "outputs": []
    },
    {
      "cell_type": "markdown",
      "metadata": {
        "id": "ew8Okgp26mTv"
      },
      "source": [
        "And the nest structure. In biogeme, this is done via a python tuple of two elements:\n",
        "1. The first element is the the parameter\n",
        "2. The second parameter is a python list of ids of the alternatives that are affected by the grouping. **Remember to map the ids to the alternatives correctly!**\n",
        "\n",
        "In the following cell, we create a grouping for beach (alt. 1), pier (alt. 2) and private boat (alt. 3). This is the grouping that will be affected by the `MU_NONCHART`. Other group, in this case it is only formed by the charter boat.\n",
        "Since there is only one altenative in the group, we can set its grouping parameter to 1.\n",
        "Finaly we put all tuples together to create the full grouping specification that is passed to biogeme."
      ]
    },
    {
      "cell_type": "code",
      "metadata": {
        "id": "7rBft98X6mTv"
      },
      "source": [
        "nest_A = MU_nest_A, [1, 2, 3]\n",
        "nest_B = 1.0, [4]\n",
        "nests_struct = nest_A, nest_B"
      ],
      "execution_count": 19,
      "outputs": []
    },
    {
      "cell_type": "markdown",
      "metadata": {
        "id": "SHQARKkD6mTv"
      },
      "source": [
        "Then we will estimate and check the model parameters."
      ]
    },
    {
      "cell_type": "code",
      "metadata": {
        "id": "vcGDdPhU6mTw",
        "colab": {
          "base_uri": "https://localhost:8080/"
        },
        "outputId": "648abd63-73eb-4cfa-e99a-b0c23e77e518"
      },
      "source": [
        "model_nest, results_nest = qbus_estimate_nested_bgm(V_base, data_pd, nests_struct, 'mode', 'data_nest' )"
      ],
      "execution_count": 20,
      "outputs": [
        {
          "output_type": "stream",
          "name": "stdout",
          "text": [
            "[02:57:22] < Warning >   You have not defined a name for the model. The output files are named from the model name. The default is [biogemeModelDefaultName]\n"
          ]
        }
      ]
    },
    {
      "cell_type": "markdown",
      "metadata": {
        "id": "JfvP0WRn6mTw"
      },
      "source": [
        "The estimation of the model gives similar coefficients to the paper."
      ]
    },
    {
      "cell_type": "code",
      "metadata": {
        "id": "Qhd3rYFi6mTw",
        "colab": {
          "base_uri": "https://localhost:8080/",
          "height": 238
        },
        "outputId": "e688013d-52dd-43d5-cb33-03f5c0db9dcb"
      },
      "source": [
        "results_nest.getEstimatedParameters()"
      ],
      "execution_count": 21,
      "outputs": [
        {
          "output_type": "execute_result",
          "data": {
            "text/plain": [
              "              Value  Rob. Std err  Rob. t-test  Rob. p-value\n",
              "ASC_beach -0.391672      0.210005    -1.865064  6.217248e-02\n",
              "ASC_boat  -0.063007      0.144721    -0.435367  6.632960e-01\n",
              "ASC_pier  -0.241545      0.188887    -1.278783  2.009735e-01\n",
              "B_catch    0.414475      0.098221     4.219833  2.444838e-05\n",
              "B_price   -0.014047      0.002377    -5.909232  3.437056e-09\n",
              "MU_nest_A  2.280452      0.494278     4.613708  3.955487e-06"
            ],
            "text/html": [
              "\n",
              "  <div id=\"df-81da4404-26bd-44ec-a691-b6e0801c9e3a\">\n",
              "    <div class=\"colab-df-container\">\n",
              "      <div>\n",
              "<style scoped>\n",
              "    .dataframe tbody tr th:only-of-type {\n",
              "        vertical-align: middle;\n",
              "    }\n",
              "\n",
              "    .dataframe tbody tr th {\n",
              "        vertical-align: top;\n",
              "    }\n",
              "\n",
              "    .dataframe thead th {\n",
              "        text-align: right;\n",
              "    }\n",
              "</style>\n",
              "<table border=\"1\" class=\"dataframe\">\n",
              "  <thead>\n",
              "    <tr style=\"text-align: right;\">\n",
              "      <th></th>\n",
              "      <th>Value</th>\n",
              "      <th>Rob. Std err</th>\n",
              "      <th>Rob. t-test</th>\n",
              "      <th>Rob. p-value</th>\n",
              "    </tr>\n",
              "  </thead>\n",
              "  <tbody>\n",
              "    <tr>\n",
              "      <th>ASC_beach</th>\n",
              "      <td>-0.391672</td>\n",
              "      <td>0.210005</td>\n",
              "      <td>-1.865064</td>\n",
              "      <td>6.217248e-02</td>\n",
              "    </tr>\n",
              "    <tr>\n",
              "      <th>ASC_boat</th>\n",
              "      <td>-0.063007</td>\n",
              "      <td>0.144721</td>\n",
              "      <td>-0.435367</td>\n",
              "      <td>6.632960e-01</td>\n",
              "    </tr>\n",
              "    <tr>\n",
              "      <th>ASC_pier</th>\n",
              "      <td>-0.241545</td>\n",
              "      <td>0.188887</td>\n",
              "      <td>-1.278783</td>\n",
              "      <td>2.009735e-01</td>\n",
              "    </tr>\n",
              "    <tr>\n",
              "      <th>B_catch</th>\n",
              "      <td>0.414475</td>\n",
              "      <td>0.098221</td>\n",
              "      <td>4.219833</td>\n",
              "      <td>2.444838e-05</td>\n",
              "    </tr>\n",
              "    <tr>\n",
              "      <th>B_price</th>\n",
              "      <td>-0.014047</td>\n",
              "      <td>0.002377</td>\n",
              "      <td>-5.909232</td>\n",
              "      <td>3.437056e-09</td>\n",
              "    </tr>\n",
              "    <tr>\n",
              "      <th>MU_nest_A</th>\n",
              "      <td>2.280452</td>\n",
              "      <td>0.494278</td>\n",
              "      <td>4.613708</td>\n",
              "      <td>3.955487e-06</td>\n",
              "    </tr>\n",
              "  </tbody>\n",
              "</table>\n",
              "</div>\n",
              "      <button class=\"colab-df-convert\" onclick=\"convertToInteractive('df-81da4404-26bd-44ec-a691-b6e0801c9e3a')\"\n",
              "              title=\"Convert this dataframe to an interactive table.\"\n",
              "              style=\"display:none;\">\n",
              "        \n",
              "  <svg xmlns=\"http://www.w3.org/2000/svg\" height=\"24px\"viewBox=\"0 0 24 24\"\n",
              "       width=\"24px\">\n",
              "    <path d=\"M0 0h24v24H0V0z\" fill=\"none\"/>\n",
              "    <path d=\"M18.56 5.44l.94 2.06.94-2.06 2.06-.94-2.06-.94-.94-2.06-.94 2.06-2.06.94zm-11 1L8.5 8.5l.94-2.06 2.06-.94-2.06-.94L8.5 2.5l-.94 2.06-2.06.94zm10 10l.94 2.06.94-2.06 2.06-.94-2.06-.94-.94-2.06-.94 2.06-2.06.94z\"/><path d=\"M17.41 7.96l-1.37-1.37c-.4-.4-.92-.59-1.43-.59-.52 0-1.04.2-1.43.59L10.3 9.45l-7.72 7.72c-.78.78-.78 2.05 0 2.83L4 21.41c.39.39.9.59 1.41.59.51 0 1.02-.2 1.41-.59l7.78-7.78 2.81-2.81c.8-.78.8-2.07 0-2.86zM5.41 20L4 18.59l7.72-7.72 1.47 1.35L5.41 20z\"/>\n",
              "  </svg>\n",
              "      </button>\n",
              "      \n",
              "  <style>\n",
              "    .colab-df-container {\n",
              "      display:flex;\n",
              "      flex-wrap:wrap;\n",
              "      gap: 12px;\n",
              "    }\n",
              "\n",
              "    .colab-df-convert {\n",
              "      background-color: #E8F0FE;\n",
              "      border: none;\n",
              "      border-radius: 50%;\n",
              "      cursor: pointer;\n",
              "      display: none;\n",
              "      fill: #1967D2;\n",
              "      height: 32px;\n",
              "      padding: 0 0 0 0;\n",
              "      width: 32px;\n",
              "    }\n",
              "\n",
              "    .colab-df-convert:hover {\n",
              "      background-color: #E2EBFA;\n",
              "      box-shadow: 0px 1px 2px rgba(60, 64, 67, 0.3), 0px 1px 3px 1px rgba(60, 64, 67, 0.15);\n",
              "      fill: #174EA6;\n",
              "    }\n",
              "\n",
              "    [theme=dark] .colab-df-convert {\n",
              "      background-color: #3B4455;\n",
              "      fill: #D2E3FC;\n",
              "    }\n",
              "\n",
              "    [theme=dark] .colab-df-convert:hover {\n",
              "      background-color: #434B5C;\n",
              "      box-shadow: 0px 1px 3px 1px rgba(0, 0, 0, 0.15);\n",
              "      filter: drop-shadow(0px 1px 2px rgba(0, 0, 0, 0.3));\n",
              "      fill: #FFFFFF;\n",
              "    }\n",
              "  </style>\n",
              "\n",
              "      <script>\n",
              "        const buttonEl =\n",
              "          document.querySelector('#df-81da4404-26bd-44ec-a691-b6e0801c9e3a button.colab-df-convert');\n",
              "        buttonEl.style.display =\n",
              "          google.colab.kernel.accessAllowed ? 'block' : 'none';\n",
              "\n",
              "        async function convertToInteractive(key) {\n",
              "          const element = document.querySelector('#df-81da4404-26bd-44ec-a691-b6e0801c9e3a');\n",
              "          const dataTable =\n",
              "            await google.colab.kernel.invokeFunction('convertToInteractive',\n",
              "                                                     [key], {});\n",
              "          if (!dataTable) return;\n",
              "\n",
              "          const docLinkHtml = 'Like what you see? Visit the ' +\n",
              "            '<a target=\"_blank\" href=https://colab.research.google.com/notebooks/data_table.ipynb>data table notebook</a>'\n",
              "            + ' to learn more about interactive tables.';\n",
              "          element.innerHTML = '';\n",
              "          dataTable['output_type'] = 'display_data';\n",
              "          await google.colab.output.renderOutput(dataTable, element);\n",
              "          const docLink = document.createElement('div');\n",
              "          docLink.innerHTML = docLinkHtml;\n",
              "          element.appendChild(docLink);\n",
              "        }\n",
              "      </script>\n",
              "    </div>\n",
              "  </div>\n",
              "  "
            ]
          },
          "metadata": {},
          "execution_count": 21
        }
      ]
    },
    {
      "cell_type": "markdown",
      "metadata": {
        "id": "0bXGQXi-PyGD"
      },
      "source": [
        "To check is the nested model is a statistically significant improvement over the multinomial logit version, we can do a likelihood ratio test, as usual, when the complex model is nested. If the only thing that changes is the inclusion of the 'nesting parameter' we test if nesting is useful. We can check several modifications at once, but then we would not be able to sepearate the nesting part form the rest. "
      ]
    },
    {
      "cell_type": "code",
      "metadata": {
        "id": "ZWajooN5Bsak",
        "colab": {
          "base_uri": "https://localhost:8080/"
        },
        "outputId": "fb1f840b-fa95-4075-918c-5343f8f187da"
      },
      "source": [
        "qbus_likeli_ratio_test_bgm(results_nest, results_base, 0.05)"
      ],
      "execution_count": 22,
      "outputs": [
        {
          "output_type": "execute_result",
          "data": {
            "text/plain": [
              "LRTuple(message='H0 can be rejected at level 5.0%', statistic=27.929484222541305, threshold=3.841458820694124)"
            ]
          },
          "metadata": {},
          "execution_count": 22
        }
      ]
    },
    {
      "cell_type": "markdown",
      "metadata": {
        "id": "g7XfTB8Y7Bmb"
      },
      "source": [
        "---\n",
        "---\n",
        "\n",
        "# Nested logit question: Find/Discuss the nest structure in the data\n",
        "\n",
        "Apart from knowing how to estimate the nested logit and interpret the results, we need to be able to compare different nesting structures that might be applicable to the data, to pick the one that is better. In practice, sometimes there are several 'reasonable' nesting structures ."
      ]
    },
    {
      "cell_type": "code",
      "metadata": {
        "id": "ui2JR6OC_XZE"
      },
      "source": [
        "MU_nest_B = exp.Beta('MU_nest_B', 1, 1, 100, 0)"
      ],
      "execution_count": 23,
      "outputs": []
    },
    {
      "cell_type": "code",
      "metadata": {
        "id": "arpkVrIv5_oQ"
      },
      "source": [
        "alt_nest_A = MU_nest_A, [1, 2, 4]\n",
        "alt_nest_B = MU_nest_B, [3]\n",
        "alt_nests_struct = alt_nest_A, alt_nest_B"
      ],
      "execution_count": 24,
      "outputs": []
    },
    {
      "cell_type": "code",
      "metadata": {
        "id": "K48SJvek_iIW",
        "colab": {
          "base_uri": "https://localhost:8080/"
        },
        "outputId": "636efd43-86bb-4036-fdc2-78a7975f0c5b"
      },
      "source": [
        "alt_model_nest, alt_results_nest = qbus_estimate_nested_bgm(V_base, data_pd, alt_nests_struct, 'mode', 'data_nest' )"
      ],
      "execution_count": 25,
      "outputs": [
        {
          "output_type": "stream",
          "name": "stdout",
          "text": [
            "[02:57:23] < Warning >   You have not defined a name for the model. The output files are named from the model name. The default is [biogemeModelDefaultName]\n"
          ]
        }
      ]
    },
    {
      "cell_type": "code",
      "metadata": {
        "id": "9VwO7gBM_pPF",
        "colab": {
          "base_uri": "https://localhost:8080/",
          "height": 269
        },
        "outputId": "3475c6c5-4f6f-4a1f-d31e-74b9ec0bdd00"
      },
      "source": [
        "alt_results_nest.getEstimatedParameters()"
      ],
      "execution_count": 26,
      "outputs": [
        {
          "output_type": "execute_result",
          "data": {
            "text/plain": [
              "              Value  Active bound   Rob. Std err    Rob. t-test  Rob. p-value\n",
              "ASC_beach -1.234367           0.0   3.087387e-01  -3.998096e+00  6.385405e-05\n",
              "ASC_boat  -0.602366           0.0   1.108146e-01  -5.435799e+00  5.455140e-08\n",
              "ASC_pier  -0.976850           0.0   2.597485e-01  -3.760752e+00  1.694032e-04\n",
              "B_catch    0.375115           0.0   1.110477e-01   3.377962e+00  7.302518e-04\n",
              "B_price   -0.021707           0.0   4.288529e-03  -5.061663e+00  4.156150e-07\n",
              "MU_nest_A  1.209193           0.0   2.791223e-01   4.332124e+00  1.476775e-05\n",
              "MU_nest_B  1.000000           1.0  1.797693e+308  5.562685e-309  1.000000e+00"
            ],
            "text/html": [
              "\n",
              "  <div id=\"df-3f3e2025-431a-4015-950e-582c100c9bcc\">\n",
              "    <div class=\"colab-df-container\">\n",
              "      <div>\n",
              "<style scoped>\n",
              "    .dataframe tbody tr th:only-of-type {\n",
              "        vertical-align: middle;\n",
              "    }\n",
              "\n",
              "    .dataframe tbody tr th {\n",
              "        vertical-align: top;\n",
              "    }\n",
              "\n",
              "    .dataframe thead th {\n",
              "        text-align: right;\n",
              "    }\n",
              "</style>\n",
              "<table border=\"1\" class=\"dataframe\">\n",
              "  <thead>\n",
              "    <tr style=\"text-align: right;\">\n",
              "      <th></th>\n",
              "      <th>Value</th>\n",
              "      <th>Active bound</th>\n",
              "      <th>Rob. Std err</th>\n",
              "      <th>Rob. t-test</th>\n",
              "      <th>Rob. p-value</th>\n",
              "    </tr>\n",
              "  </thead>\n",
              "  <tbody>\n",
              "    <tr>\n",
              "      <th>ASC_beach</th>\n",
              "      <td>-1.234367</td>\n",
              "      <td>0.0</td>\n",
              "      <td>3.087387e-01</td>\n",
              "      <td>-3.998096e+00</td>\n",
              "      <td>6.385405e-05</td>\n",
              "    </tr>\n",
              "    <tr>\n",
              "      <th>ASC_boat</th>\n",
              "      <td>-0.602366</td>\n",
              "      <td>0.0</td>\n",
              "      <td>1.108146e-01</td>\n",
              "      <td>-5.435799e+00</td>\n",
              "      <td>5.455140e-08</td>\n",
              "    </tr>\n",
              "    <tr>\n",
              "      <th>ASC_pier</th>\n",
              "      <td>-0.976850</td>\n",
              "      <td>0.0</td>\n",
              "      <td>2.597485e-01</td>\n",
              "      <td>-3.760752e+00</td>\n",
              "      <td>1.694032e-04</td>\n",
              "    </tr>\n",
              "    <tr>\n",
              "      <th>B_catch</th>\n",
              "      <td>0.375115</td>\n",
              "      <td>0.0</td>\n",
              "      <td>1.110477e-01</td>\n",
              "      <td>3.377962e+00</td>\n",
              "      <td>7.302518e-04</td>\n",
              "    </tr>\n",
              "    <tr>\n",
              "      <th>B_price</th>\n",
              "      <td>-0.021707</td>\n",
              "      <td>0.0</td>\n",
              "      <td>4.288529e-03</td>\n",
              "      <td>-5.061663e+00</td>\n",
              "      <td>4.156150e-07</td>\n",
              "    </tr>\n",
              "    <tr>\n",
              "      <th>MU_nest_A</th>\n",
              "      <td>1.209193</td>\n",
              "      <td>0.0</td>\n",
              "      <td>2.791223e-01</td>\n",
              "      <td>4.332124e+00</td>\n",
              "      <td>1.476775e-05</td>\n",
              "    </tr>\n",
              "    <tr>\n",
              "      <th>MU_nest_B</th>\n",
              "      <td>1.000000</td>\n",
              "      <td>1.0</td>\n",
              "      <td>1.797693e+308</td>\n",
              "      <td>5.562685e-309</td>\n",
              "      <td>1.000000e+00</td>\n",
              "    </tr>\n",
              "  </tbody>\n",
              "</table>\n",
              "</div>\n",
              "      <button class=\"colab-df-convert\" onclick=\"convertToInteractive('df-3f3e2025-431a-4015-950e-582c100c9bcc')\"\n",
              "              title=\"Convert this dataframe to an interactive table.\"\n",
              "              style=\"display:none;\">\n",
              "        \n",
              "  <svg xmlns=\"http://www.w3.org/2000/svg\" height=\"24px\"viewBox=\"0 0 24 24\"\n",
              "       width=\"24px\">\n",
              "    <path d=\"M0 0h24v24H0V0z\" fill=\"none\"/>\n",
              "    <path d=\"M18.56 5.44l.94 2.06.94-2.06 2.06-.94-2.06-.94-.94-2.06-.94 2.06-2.06.94zm-11 1L8.5 8.5l.94-2.06 2.06-.94-2.06-.94L8.5 2.5l-.94 2.06-2.06.94zm10 10l.94 2.06.94-2.06 2.06-.94-2.06-.94-.94-2.06-.94 2.06-2.06.94z\"/><path d=\"M17.41 7.96l-1.37-1.37c-.4-.4-.92-.59-1.43-.59-.52 0-1.04.2-1.43.59L10.3 9.45l-7.72 7.72c-.78.78-.78 2.05 0 2.83L4 21.41c.39.39.9.59 1.41.59.51 0 1.02-.2 1.41-.59l7.78-7.78 2.81-2.81c.8-.78.8-2.07 0-2.86zM5.41 20L4 18.59l7.72-7.72 1.47 1.35L5.41 20z\"/>\n",
              "  </svg>\n",
              "      </button>\n",
              "      \n",
              "  <style>\n",
              "    .colab-df-container {\n",
              "      display:flex;\n",
              "      flex-wrap:wrap;\n",
              "      gap: 12px;\n",
              "    }\n",
              "\n",
              "    .colab-df-convert {\n",
              "      background-color: #E8F0FE;\n",
              "      border: none;\n",
              "      border-radius: 50%;\n",
              "      cursor: pointer;\n",
              "      display: none;\n",
              "      fill: #1967D2;\n",
              "      height: 32px;\n",
              "      padding: 0 0 0 0;\n",
              "      width: 32px;\n",
              "    }\n",
              "\n",
              "    .colab-df-convert:hover {\n",
              "      background-color: #E2EBFA;\n",
              "      box-shadow: 0px 1px 2px rgba(60, 64, 67, 0.3), 0px 1px 3px 1px rgba(60, 64, 67, 0.15);\n",
              "      fill: #174EA6;\n",
              "    }\n",
              "\n",
              "    [theme=dark] .colab-df-convert {\n",
              "      background-color: #3B4455;\n",
              "      fill: #D2E3FC;\n",
              "    }\n",
              "\n",
              "    [theme=dark] .colab-df-convert:hover {\n",
              "      background-color: #434B5C;\n",
              "      box-shadow: 0px 1px 3px 1px rgba(0, 0, 0, 0.15);\n",
              "      filter: drop-shadow(0px 1px 2px rgba(0, 0, 0, 0.3));\n",
              "      fill: #FFFFFF;\n",
              "    }\n",
              "  </style>\n",
              "\n",
              "      <script>\n",
              "        const buttonEl =\n",
              "          document.querySelector('#df-3f3e2025-431a-4015-950e-582c100c9bcc button.colab-df-convert');\n",
              "        buttonEl.style.display =\n",
              "          google.colab.kernel.accessAllowed ? 'block' : 'none';\n",
              "\n",
              "        async function convertToInteractive(key) {\n",
              "          const element = document.querySelector('#df-3f3e2025-431a-4015-950e-582c100c9bcc');\n",
              "          const dataTable =\n",
              "            await google.colab.kernel.invokeFunction('convertToInteractive',\n",
              "                                                     [key], {});\n",
              "          if (!dataTable) return;\n",
              "\n",
              "          const docLinkHtml = 'Like what you see? Visit the ' +\n",
              "            '<a target=\"_blank\" href=https://colab.research.google.com/notebooks/data_table.ipynb>data table notebook</a>'\n",
              "            + ' to learn more about interactive tables.';\n",
              "          element.innerHTML = '';\n",
              "          dataTable['output_type'] = 'display_data';\n",
              "          await google.colab.output.renderOutput(dataTable, element);\n",
              "          const docLink = document.createElement('div');\n",
              "          docLink.innerHTML = docLinkHtml;\n",
              "          element.appendChild(docLink);\n",
              "        }\n",
              "      </script>\n",
              "    </div>\n",
              "  </div>\n",
              "  "
            ]
          },
          "metadata": {},
          "execution_count": 26
        }
      ]
    },
    {
      "cell_type": "markdown",
      "metadata": {
        "id": "fhQPk9cbHJgh"
      },
      "source": [
        "What happens when comparing the nested logit is that we cannot always use the likelihood ratio test, because the models to compare are not always nested (one is not always is included in the other). When models are very similar, just differing on the nested structure and the same number of parameters, we can compare the likelihoods directly (the larger the better). This will not give us a nice p-value but it can help decide among nest structures.\n",
        "\n",
        "**However,** it more general if we just use the  Akaike information criteria directly (AIC). Remember that lower means a better model, and in practice is very conservative (adding parameter has to improve the model by 'a lot').."
      ]
    },
    {
      "cell_type": "code",
      "metadata": {
        "id": "jtPvWq5GAMTi"
      },
      "source": [
        "#Likelihood ratio test is rarely applicable to compare between nests\n",
        "#qbus_likeli_ratio_test_bgm(alt_results_nest, results_nest, 0.95)"
      ],
      "execution_count": 27,
      "outputs": []
    },
    {
      "cell_type": "code",
      "metadata": {
        "id": "DOq00EgYDi2K"
      },
      "source": [
        "#alt_results_nest.data.logLike"
      ],
      "execution_count": 28,
      "outputs": []
    },
    {
      "cell_type": "code",
      "metadata": {
        "id": "5kZBFRoODmDA"
      },
      "source": [
        "#results_nest.data.logLike"
      ],
      "execution_count": 29,
      "outputs": []
    },
    {
      "cell_type": "markdown",
      "metadata": {
        "id": "GB-_HdejDf5U"
      },
      "source": [
        "We should go directly for the Akaike information criteria (the lower the better).."
      ]
    },
    {
      "cell_type": "code",
      "metadata": {
        "id": "azLWObWxB-uZ",
        "colab": {
          "base_uri": "https://localhost:8080/"
        },
        "outputId": "71f5e818-87ea-49b9-d559-840674c613e9"
      },
      "source": [
        "alt_results_nest.data.akaike"
      ],
      "execution_count": 30,
      "outputs": [
        {
          "output_type": "execute_result",
          "data": {
            "text/plain": [
              "2474.0549749237925"
            ]
          },
          "metadata": {},
          "execution_count": 30
        }
      ]
    },
    {
      "cell_type": "code",
      "metadata": {
        "id": "D3fmvTrzCJIq",
        "colab": {
          "base_uri": "https://localhost:8080/"
        },
        "outputId": "d17036ad-8d5a-4d5a-d6b4-87968fcb6b9b"
      },
      "source": [
        "results_nest.data.akaike"
      ],
      "execution_count": 31,
      "outputs": [
        {
          "output_type": "execute_result",
          "data": {
            "text/plain": [
              "2445.638177149336"
            ]
          },
          "metadata": {},
          "execution_count": 31
        }
      ]
    },
    {
      "cell_type": "markdown",
      "metadata": {
        "id": "AZtTosUCJXuu"
      },
      "source": [
        "The results from loglik and Akaike are consistent in this case"
      ]
    },
    {
      "cell_type": "code",
      "metadata": {
        "id": "I7FYqaFCIoNa",
        "colab": {
          "base_uri": "https://localhost:8080/"
        },
        "outputId": "da1f2327-b606-4c1c-85fe-2acc966248ab"
      },
      "source": [
        "results_base.data.akaike"
      ],
      "execution_count": 32,
      "outputs": [
        {
          "output_type": "execute_result",
          "data": {
            "text/plain": [
              "2471.5676613718774"
            ]
          },
          "metadata": {},
          "execution_count": 32
        }
      ]
    },
    {
      "cell_type": "markdown",
      "metadata": {
        "id": "fMbMnRLfVJJo"
      },
      "source": [
        "---\n",
        "---\n",
        "\n",
        "# Ordered Logit question: Estimate the model and interpretation"
      ]
    },
    {
      "cell_type": "markdown",
      "metadata": {
        "id": "omPr8S9XVaDG"
      },
      "source": [
        "The ordered logit considers only one utility function, not one per alternative.\n",
        "The main 'challenge' in the ordered logit is realizing that the problem we are dealing with can be modeled with the ordered logit, that the alternatives have some sort of 'natural' order."
      ]
    },
    {
      "cell_type": "code",
      "metadata": {
        "id": "XEAtiY0rWFti"
      },
      "source": [
        "ASC_ord = exp.Beta('ASC_ord', 0, None, None, 0)"
      ],
      "execution_count": 33,
      "outputs": []
    },
    {
      "cell_type": "code",
      "metadata": {
        "id": "Bf83xKaFWCKN"
      },
      "source": [
        "V_ord = ASC_ord + B_price*price_beach + B_catch*catch_beach + B_price*price_pier + B_catch*catch_pier"
      ],
      "execution_count": 34,
      "outputs": []
    },
    {
      "cell_type": "markdown",
      "metadata": {
        "id": "D-A4gBIjnrx1"
      },
      "source": [
        "We use the auxiliary function `qbus_estimate_ordered_bgm`, notice the argument `[1,3,2,4]` specifying the desired order of the alternatives. In this case, it means we think that the order is:\n",
        "\n",
        " beach < private boat < pier < charterboat.\n",
        " \n",
        " **Please pay attention to the order that we specify! Otherwise we are incorrectly specify the model.**\n",
        "\n"
      ]
    },
    {
      "cell_type": "code",
      "metadata": {
        "id": "PqihL9PwjmFj",
        "colab": {
          "base_uri": "https://localhost:8080/"
        },
        "outputId": "75a68ad9-fbfc-4830-e74e-c99f3bb5d63d"
      },
      "source": [
        "qord_model, qord_results = qbus_estimate_ordered_bgm(V_ord, [1,3,2,4], data_pd, 'mode', )"
      ],
      "execution_count": 35,
      "outputs": [
        {
          "output_type": "stream",
          "name": "stdout",
          "text": [
            "[02:57:25] < Warning >   You have not defined a name for the model. The output files are named from the model name. The default is [biogemeModelDefaultName]\n"
          ]
        }
      ]
    },
    {
      "cell_type": "code",
      "metadata": {
        "id": "F1tnWUQ5ks9h",
        "colab": {
          "base_uri": "https://localhost:8080/",
          "height": 238
        },
        "outputId": "e6119fc5-6104-459d-c68d-e9cec7e48366"
      },
      "source": [
        "qord_results.getEstimatedParameters()"
      ],
      "execution_count": 36,
      "outputs": [
        {
          "output_type": "execute_result",
          "data": {
            "text/plain": [
              "            Value  Rob. Std err  Rob. t-test  Rob. p-value\n",
              "ASC_ord  0.455434      0.060283     7.554879  4.196643e-14\n",
              "B_catch -0.046664      0.174750    -0.267031  7.894456e-01\n",
              "B_price  0.000794      0.000289     2.744581  6.058818e-03\n",
              "delta_2  1.921617      0.087542    21.950819  0.000000e+00\n",
              "delta_3  0.609226      0.042970    14.177963  0.000000e+00\n",
              "tau1    -1.455434      0.060283   -24.143185  0.000000e+00"
            ],
            "text/html": [
              "\n",
              "  <div id=\"df-7d29524b-782d-4a08-8962-1d3b032978f8\">\n",
              "    <div class=\"colab-df-container\">\n",
              "      <div>\n",
              "<style scoped>\n",
              "    .dataframe tbody tr th:only-of-type {\n",
              "        vertical-align: middle;\n",
              "    }\n",
              "\n",
              "    .dataframe tbody tr th {\n",
              "        vertical-align: top;\n",
              "    }\n",
              "\n",
              "    .dataframe thead th {\n",
              "        text-align: right;\n",
              "    }\n",
              "</style>\n",
              "<table border=\"1\" class=\"dataframe\">\n",
              "  <thead>\n",
              "    <tr style=\"text-align: right;\">\n",
              "      <th></th>\n",
              "      <th>Value</th>\n",
              "      <th>Rob. Std err</th>\n",
              "      <th>Rob. t-test</th>\n",
              "      <th>Rob. p-value</th>\n",
              "    </tr>\n",
              "  </thead>\n",
              "  <tbody>\n",
              "    <tr>\n",
              "      <th>ASC_ord</th>\n",
              "      <td>0.455434</td>\n",
              "      <td>0.060283</td>\n",
              "      <td>7.554879</td>\n",
              "      <td>4.196643e-14</td>\n",
              "    </tr>\n",
              "    <tr>\n",
              "      <th>B_catch</th>\n",
              "      <td>-0.046664</td>\n",
              "      <td>0.174750</td>\n",
              "      <td>-0.267031</td>\n",
              "      <td>7.894456e-01</td>\n",
              "    </tr>\n",
              "    <tr>\n",
              "      <th>B_price</th>\n",
              "      <td>0.000794</td>\n",
              "      <td>0.000289</td>\n",
              "      <td>2.744581</td>\n",
              "      <td>6.058818e-03</td>\n",
              "    </tr>\n",
              "    <tr>\n",
              "      <th>delta_2</th>\n",
              "      <td>1.921617</td>\n",
              "      <td>0.087542</td>\n",
              "      <td>21.950819</td>\n",
              "      <td>0.000000e+00</td>\n",
              "    </tr>\n",
              "    <tr>\n",
              "      <th>delta_3</th>\n",
              "      <td>0.609226</td>\n",
              "      <td>0.042970</td>\n",
              "      <td>14.177963</td>\n",
              "      <td>0.000000e+00</td>\n",
              "    </tr>\n",
              "    <tr>\n",
              "      <th>tau1</th>\n",
              "      <td>-1.455434</td>\n",
              "      <td>0.060283</td>\n",
              "      <td>-24.143185</td>\n",
              "      <td>0.000000e+00</td>\n",
              "    </tr>\n",
              "  </tbody>\n",
              "</table>\n",
              "</div>\n",
              "      <button class=\"colab-df-convert\" onclick=\"convertToInteractive('df-7d29524b-782d-4a08-8962-1d3b032978f8')\"\n",
              "              title=\"Convert this dataframe to an interactive table.\"\n",
              "              style=\"display:none;\">\n",
              "        \n",
              "  <svg xmlns=\"http://www.w3.org/2000/svg\" height=\"24px\"viewBox=\"0 0 24 24\"\n",
              "       width=\"24px\">\n",
              "    <path d=\"M0 0h24v24H0V0z\" fill=\"none\"/>\n",
              "    <path d=\"M18.56 5.44l.94 2.06.94-2.06 2.06-.94-2.06-.94-.94-2.06-.94 2.06-2.06.94zm-11 1L8.5 8.5l.94-2.06 2.06-.94-2.06-.94L8.5 2.5l-.94 2.06-2.06.94zm10 10l.94 2.06.94-2.06 2.06-.94-2.06-.94-.94-2.06-.94 2.06-2.06.94z\"/><path d=\"M17.41 7.96l-1.37-1.37c-.4-.4-.92-.59-1.43-.59-.52 0-1.04.2-1.43.59L10.3 9.45l-7.72 7.72c-.78.78-.78 2.05 0 2.83L4 21.41c.39.39.9.59 1.41.59.51 0 1.02-.2 1.41-.59l7.78-7.78 2.81-2.81c.8-.78.8-2.07 0-2.86zM5.41 20L4 18.59l7.72-7.72 1.47 1.35L5.41 20z\"/>\n",
              "  </svg>\n",
              "      </button>\n",
              "      \n",
              "  <style>\n",
              "    .colab-df-container {\n",
              "      display:flex;\n",
              "      flex-wrap:wrap;\n",
              "      gap: 12px;\n",
              "    }\n",
              "\n",
              "    .colab-df-convert {\n",
              "      background-color: #E8F0FE;\n",
              "      border: none;\n",
              "      border-radius: 50%;\n",
              "      cursor: pointer;\n",
              "      display: none;\n",
              "      fill: #1967D2;\n",
              "      height: 32px;\n",
              "      padding: 0 0 0 0;\n",
              "      width: 32px;\n",
              "    }\n",
              "\n",
              "    .colab-df-convert:hover {\n",
              "      background-color: #E2EBFA;\n",
              "      box-shadow: 0px 1px 2px rgba(60, 64, 67, 0.3), 0px 1px 3px 1px rgba(60, 64, 67, 0.15);\n",
              "      fill: #174EA6;\n",
              "    }\n",
              "\n",
              "    [theme=dark] .colab-df-convert {\n",
              "      background-color: #3B4455;\n",
              "      fill: #D2E3FC;\n",
              "    }\n",
              "\n",
              "    [theme=dark] .colab-df-convert:hover {\n",
              "      background-color: #434B5C;\n",
              "      box-shadow: 0px 1px 3px 1px rgba(0, 0, 0, 0.15);\n",
              "      filter: drop-shadow(0px 1px 2px rgba(0, 0, 0, 0.3));\n",
              "      fill: #FFFFFF;\n",
              "    }\n",
              "  </style>\n",
              "\n",
              "      <script>\n",
              "        const buttonEl =\n",
              "          document.querySelector('#df-7d29524b-782d-4a08-8962-1d3b032978f8 button.colab-df-convert');\n",
              "        buttonEl.style.display =\n",
              "          google.colab.kernel.accessAllowed ? 'block' : 'none';\n",
              "\n",
              "        async function convertToInteractive(key) {\n",
              "          const element = document.querySelector('#df-7d29524b-782d-4a08-8962-1d3b032978f8');\n",
              "          const dataTable =\n",
              "            await google.colab.kernel.invokeFunction('convertToInteractive',\n",
              "                                                     [key], {});\n",
              "          if (!dataTable) return;\n",
              "\n",
              "          const docLinkHtml = 'Like what you see? Visit the ' +\n",
              "            '<a target=\"_blank\" href=https://colab.research.google.com/notebooks/data_table.ipynb>data table notebook</a>'\n",
              "            + ' to learn more about interactive tables.';\n",
              "          element.innerHTML = '';\n",
              "          dataTable['output_type'] = 'display_data';\n",
              "          await google.colab.output.renderOutput(dataTable, element);\n",
              "          const docLink = document.createElement('div');\n",
              "          docLink.innerHTML = docLinkHtml;\n",
              "          element.appendChild(docLink);\n",
              "        }\n",
              "      </script>\n",
              "    </div>\n",
              "  </div>\n",
              "  "
            ]
          },
          "metadata": {},
          "execution_count": 36
        }
      ]
    },
    {
      "cell_type": "markdown",
      "metadata": {
        "id": "sNbxuEYn4Q_x"
      },
      "source": [
        "The interpretation of the coefficients is slightly different because there is only one utility, therefoe, positive numbers that increase utility make the alternatives later in our specific order more likely. The interpretation of the cutoff points tau1 would be the fist cutoff, then tau2 would be tau1+delta_2, tau3 = tau2 + delta_3 and so on. Given the expression of the logit, it is difficult to get some clear intuition on the differences here, it is better to look at the predicions/simuations directly."
      ]
    },
    {
      "cell_type": "code",
      "metadata": {
        "id": "fABfvyZnXfy0",
        "colab": {
          "base_uri": "https://localhost:8080/",
          "height": 424
        },
        "outputId": "cae760d8-cd3f-4d7e-cf69-ec0857742c37"
      },
      "source": [
        "qbus_simulate_bgm(qord_model, qord_results.getBetaValues(), data_pd)"
      ],
      "execution_count": 37,
      "outputs": [
        {
          "output_type": "execute_result",
          "data": {
            "text/plain": [
              "             1         3         2         4\n",
              "0     0.103755  0.337871  0.150959  0.407416\n",
              "1     0.126986  0.371450  0.147900  0.353664\n",
              "2     0.106979  0.343098  0.150739  0.399183\n",
              "3     0.126966  0.371424  0.147904  0.353707\n",
              "4     0.111532  0.350151  0.150300  0.388016\n",
              "...        ...       ...       ...       ...\n",
              "1177  0.108758  0.345899  0.150585  0.394758\n",
              "1178  0.096320  0.325042  0.151134  0.427505\n",
              "1179  0.122585  0.365778  0.148707  0.362930\n",
              "1180  0.127520  0.372117  0.147796  0.352567\n",
              "1181  0.080775  0.294361  0.149589  0.475274\n",
              "\n",
              "[1182 rows x 4 columns]"
            ],
            "text/html": [
              "\n",
              "  <div id=\"df-ec183f4f-f1c1-4475-87e2-fa7f65e27352\">\n",
              "    <div class=\"colab-df-container\">\n",
              "      <div>\n",
              "<style scoped>\n",
              "    .dataframe tbody tr th:only-of-type {\n",
              "        vertical-align: middle;\n",
              "    }\n",
              "\n",
              "    .dataframe tbody tr th {\n",
              "        vertical-align: top;\n",
              "    }\n",
              "\n",
              "    .dataframe thead th {\n",
              "        text-align: right;\n",
              "    }\n",
              "</style>\n",
              "<table border=\"1\" class=\"dataframe\">\n",
              "  <thead>\n",
              "    <tr style=\"text-align: right;\">\n",
              "      <th></th>\n",
              "      <th>1</th>\n",
              "      <th>3</th>\n",
              "      <th>2</th>\n",
              "      <th>4</th>\n",
              "    </tr>\n",
              "  </thead>\n",
              "  <tbody>\n",
              "    <tr>\n",
              "      <th>0</th>\n",
              "      <td>0.103755</td>\n",
              "      <td>0.337871</td>\n",
              "      <td>0.150959</td>\n",
              "      <td>0.407416</td>\n",
              "    </tr>\n",
              "    <tr>\n",
              "      <th>1</th>\n",
              "      <td>0.126986</td>\n",
              "      <td>0.371450</td>\n",
              "      <td>0.147900</td>\n",
              "      <td>0.353664</td>\n",
              "    </tr>\n",
              "    <tr>\n",
              "      <th>2</th>\n",
              "      <td>0.106979</td>\n",
              "      <td>0.343098</td>\n",
              "      <td>0.150739</td>\n",
              "      <td>0.399183</td>\n",
              "    </tr>\n",
              "    <tr>\n",
              "      <th>3</th>\n",
              "      <td>0.126966</td>\n",
              "      <td>0.371424</td>\n",
              "      <td>0.147904</td>\n",
              "      <td>0.353707</td>\n",
              "    </tr>\n",
              "    <tr>\n",
              "      <th>4</th>\n",
              "      <td>0.111532</td>\n",
              "      <td>0.350151</td>\n",
              "      <td>0.150300</td>\n",
              "      <td>0.388016</td>\n",
              "    </tr>\n",
              "    <tr>\n",
              "      <th>...</th>\n",
              "      <td>...</td>\n",
              "      <td>...</td>\n",
              "      <td>...</td>\n",
              "      <td>...</td>\n",
              "    </tr>\n",
              "    <tr>\n",
              "      <th>1177</th>\n",
              "      <td>0.108758</td>\n",
              "      <td>0.345899</td>\n",
              "      <td>0.150585</td>\n",
              "      <td>0.394758</td>\n",
              "    </tr>\n",
              "    <tr>\n",
              "      <th>1178</th>\n",
              "      <td>0.096320</td>\n",
              "      <td>0.325042</td>\n",
              "      <td>0.151134</td>\n",
              "      <td>0.427505</td>\n",
              "    </tr>\n",
              "    <tr>\n",
              "      <th>1179</th>\n",
              "      <td>0.122585</td>\n",
              "      <td>0.365778</td>\n",
              "      <td>0.148707</td>\n",
              "      <td>0.362930</td>\n",
              "    </tr>\n",
              "    <tr>\n",
              "      <th>1180</th>\n",
              "      <td>0.127520</td>\n",
              "      <td>0.372117</td>\n",
              "      <td>0.147796</td>\n",
              "      <td>0.352567</td>\n",
              "    </tr>\n",
              "    <tr>\n",
              "      <th>1181</th>\n",
              "      <td>0.080775</td>\n",
              "      <td>0.294361</td>\n",
              "      <td>0.149589</td>\n",
              "      <td>0.475274</td>\n",
              "    </tr>\n",
              "  </tbody>\n",
              "</table>\n",
              "<p>1182 rows × 4 columns</p>\n",
              "</div>\n",
              "      <button class=\"colab-df-convert\" onclick=\"convertToInteractive('df-ec183f4f-f1c1-4475-87e2-fa7f65e27352')\"\n",
              "              title=\"Convert this dataframe to an interactive table.\"\n",
              "              style=\"display:none;\">\n",
              "        \n",
              "  <svg xmlns=\"http://www.w3.org/2000/svg\" height=\"24px\"viewBox=\"0 0 24 24\"\n",
              "       width=\"24px\">\n",
              "    <path d=\"M0 0h24v24H0V0z\" fill=\"none\"/>\n",
              "    <path d=\"M18.56 5.44l.94 2.06.94-2.06 2.06-.94-2.06-.94-.94-2.06-.94 2.06-2.06.94zm-11 1L8.5 8.5l.94-2.06 2.06-.94-2.06-.94L8.5 2.5l-.94 2.06-2.06.94zm10 10l.94 2.06.94-2.06 2.06-.94-2.06-.94-.94-2.06-.94 2.06-2.06.94z\"/><path d=\"M17.41 7.96l-1.37-1.37c-.4-.4-.92-.59-1.43-.59-.52 0-1.04.2-1.43.59L10.3 9.45l-7.72 7.72c-.78.78-.78 2.05 0 2.83L4 21.41c.39.39.9.59 1.41.59.51 0 1.02-.2 1.41-.59l7.78-7.78 2.81-2.81c.8-.78.8-2.07 0-2.86zM5.41 20L4 18.59l7.72-7.72 1.47 1.35L5.41 20z\"/>\n",
              "  </svg>\n",
              "      </button>\n",
              "      \n",
              "  <style>\n",
              "    .colab-df-container {\n",
              "      display:flex;\n",
              "      flex-wrap:wrap;\n",
              "      gap: 12px;\n",
              "    }\n",
              "\n",
              "    .colab-df-convert {\n",
              "      background-color: #E8F0FE;\n",
              "      border: none;\n",
              "      border-radius: 50%;\n",
              "      cursor: pointer;\n",
              "      display: none;\n",
              "      fill: #1967D2;\n",
              "      height: 32px;\n",
              "      padding: 0 0 0 0;\n",
              "      width: 32px;\n",
              "    }\n",
              "\n",
              "    .colab-df-convert:hover {\n",
              "      background-color: #E2EBFA;\n",
              "      box-shadow: 0px 1px 2px rgba(60, 64, 67, 0.3), 0px 1px 3px 1px rgba(60, 64, 67, 0.15);\n",
              "      fill: #174EA6;\n",
              "    }\n",
              "\n",
              "    [theme=dark] .colab-df-convert {\n",
              "      background-color: #3B4455;\n",
              "      fill: #D2E3FC;\n",
              "    }\n",
              "\n",
              "    [theme=dark] .colab-df-convert:hover {\n",
              "      background-color: #434B5C;\n",
              "      box-shadow: 0px 1px 3px 1px rgba(0, 0, 0, 0.15);\n",
              "      filter: drop-shadow(0px 1px 2px rgba(0, 0, 0, 0.3));\n",
              "      fill: #FFFFFF;\n",
              "    }\n",
              "  </style>\n",
              "\n",
              "      <script>\n",
              "        const buttonEl =\n",
              "          document.querySelector('#df-ec183f4f-f1c1-4475-87e2-fa7f65e27352 button.colab-df-convert');\n",
              "        buttonEl.style.display =\n",
              "          google.colab.kernel.accessAllowed ? 'block' : 'none';\n",
              "\n",
              "        async function convertToInteractive(key) {\n",
              "          const element = document.querySelector('#df-ec183f4f-f1c1-4475-87e2-fa7f65e27352');\n",
              "          const dataTable =\n",
              "            await google.colab.kernel.invokeFunction('convertToInteractive',\n",
              "                                                     [key], {});\n",
              "          if (!dataTable) return;\n",
              "\n",
              "          const docLinkHtml = 'Like what you see? Visit the ' +\n",
              "            '<a target=\"_blank\" href=https://colab.research.google.com/notebooks/data_table.ipynb>data table notebook</a>'\n",
              "            + ' to learn more about interactive tables.';\n",
              "          element.innerHTML = '';\n",
              "          dataTable['output_type'] = 'display_data';\n",
              "          await google.colab.output.renderOutput(dataTable, element);\n",
              "          const docLink = document.createElement('div');\n",
              "          docLink.innerHTML = docLinkHtml;\n",
              "          element.appendChild(docLink);\n",
              "        }\n",
              "      </script>\n",
              "    </div>\n",
              "  </div>\n",
              "  "
            ]
          },
          "metadata": {},
          "execution_count": 37
        }
      ]
    },
    {
      "cell_type": "markdown",
      "metadata": {
        "id": "CMIr-VivFLcd"
      },
      "source": [
        "---\n",
        "---\n",
        "\n",
        "# Ordered Logit question: Finding the order"
      ]
    },
    {
      "cell_type": "markdown",
      "metadata": {
        "id": "rNMC4bMyFSSr"
      },
      "source": [
        "The situation when several possible orders seem 'reasonable' we can compare them. It is a bit far-fetched, but it is also simple to test. We can use Akaike."
      ]
    },
    {
      "cell_type": "code",
      "metadata": {
        "id": "svlTSEm7FjjQ",
        "colab": {
          "base_uri": "https://localhost:8080/"
        },
        "outputId": "2ce9f7ed-679f-4c38-ca58-6901fc002f28"
      },
      "source": [
        "qord_model_na, qord_results_na = qbus_estimate_ordered_bgm(V_ord, [2,4,3,1], data_pd, 'mode')"
      ],
      "execution_count": 38,
      "outputs": [
        {
          "output_type": "stream",
          "name": "stdout",
          "text": [
            "[02:57:25] < Warning >   You have not defined a name for the model. The output files are named from the model name. The default is [biogemeModelDefaultName]\n"
          ]
        }
      ]
    },
    {
      "cell_type": "code",
      "metadata": {
        "id": "RoavYJm2Gt_r",
        "colab": {
          "base_uri": "https://localhost:8080/"
        },
        "outputId": "235d65a7-74be-4780-e8e9-1a5829ac3856"
      },
      "source": [
        "qord_results_na.getGeneralStatistics()"
      ],
      "execution_count": 39,
      "outputs": [
        {
          "output_type": "execute_result",
          "data": {
            "text/plain": [
              "{'Number of estimated parameters': GeneralStatistic(value=6, format=''),\n",
              " 'Sample size': GeneralStatistic(value=1182, format=''),\n",
              " 'Excluded observations': GeneralStatistic(value=0, format=''),\n",
              " 'Init log likelihood': GeneralStatistic(value=-1778.7782000547666, format='.7g'),\n",
              " 'Final log likelihood': GeneralStatistic(value=-1486.9546396919732, format='.7g'),\n",
              " 'Likelihood ratio test for the init. model': GeneralStatistic(value=583.6471207255868, format='.7g'),\n",
              " 'Rho-square for the init. model': GeneralStatistic(value=0.16405843086777683, format='.3g'),\n",
              " 'Rho-square-bar for the init. model': GeneralStatistic(value=0.1606853290387712, format='.3g'),\n",
              " 'Akaike Information Criterion': GeneralStatistic(value=2985.9092793839463, format='.7g'),\n",
              " 'Bayesian Information Criterion': GeneralStatistic(value=3016.3590585717425, format='.7g'),\n",
              " 'Final gradient norm': GeneralStatistic(value=0.0009552104027875438, format='.4E'),\n",
              " 'Nbr of threads': GeneralStatistic(value=2, format='')}"
            ]
          },
          "metadata": {},
          "execution_count": 39
        }
      ]
    },
    {
      "cell_type": "markdown",
      "metadata": {
        "id": "r9EhT_3uHTdw"
      },
      "source": [
        "We see the new order is better than the original, but both orders are really bad ideas..."
      ]
    },
    {
      "cell_type": "code",
      "metadata": {
        "id": "sWUD5E6xFzW2",
        "colab": {
          "base_uri": "https://localhost:8080/"
        },
        "outputId": "90e09c60-1c4d-4a61-8ef8-c2786a235d13"
      },
      "source": [
        "qord_results_na.data.akaike"
      ],
      "execution_count": 40,
      "outputs": [
        {
          "output_type": "execute_result",
          "data": {
            "text/plain": [
              "2985.9092793839463"
            ]
          },
          "metadata": {},
          "execution_count": 40
        }
      ]
    },
    {
      "cell_type": "code",
      "metadata": {
        "id": "mPEpJXqfF4df",
        "colab": {
          "base_uri": "https://localhost:8080/"
        },
        "outputId": "c9ef372b-c8d1-40c9-9ea1-315e9ba0cb3b"
      },
      "source": [
        "qord_results.data.akaike"
      ],
      "execution_count": 41,
      "outputs": [
        {
          "output_type": "execute_result",
          "data": {
            "text/plain": [
              "2998.53995850308"
            ]
          },
          "metadata": {},
          "execution_count": 41
        }
      ]
    },
    {
      "cell_type": "code",
      "metadata": {
        "id": "XOXPOrMcF6Ts",
        "colab": {
          "base_uri": "https://localhost:8080/"
        },
        "outputId": "e7cbed6b-4822-420f-dfc5-fa6391590436"
      },
      "source": [
        "results_base.data.akaike"
      ],
      "execution_count": 42,
      "outputs": [
        {
          "output_type": "execute_result",
          "data": {
            "text/plain": [
              "2471.5676613718774"
            ]
          },
          "metadata": {},
          "execution_count": 42
        }
      ]
    },
    {
      "cell_type": "markdown",
      "metadata": {
        "id": "xojh_NlC5q4K"
      },
      "source": [
        "---\n",
        "---\n",
        "\n",
        "\n",
        "# Panel and mixed logit questions\n",
        "\n",
        "We do not have auxiliary functions for the mixed model (yet) so we have to estimate it manually. We will go back to the Swissmetro dataset because it shows a nice result."
      ]
    },
    {
      "cell_type": "markdown",
      "metadata": {
        "id": "szu60o6XIbWO"
      },
      "source": [
        "# Panel and mixed logit questions: Panel vs Nonpanel\n",
        "\n",
        "What happens when we include the panel information?"
      ]
    },
    {
      "cell_type": "markdown",
      "metadata": {
        "id": "jD__NLr8LQwQ"
      },
      "source": [
        "Toggle `do_PANEL` and the Runtime -> Run After from here to check the differences.\n",
        "\n",
        "**IMPORTANT: We subsample the first 500 rows of the dataset, otherwise we get into numerical problems in the optimization process!** "
      ]
    },
    {
      "cell_type": "code",
      "metadata": {
        "id": "cRZVLGPaJcB1"
      },
      "source": [
        "do_PANEL = True"
      ],
      "execution_count": 232,
      "outputs": []
    },
    {
      "cell_type": "code",
      "metadata": {
        "id": "g9reskyw5tc_"
      },
      "source": [
        "\n",
        "data_pd = pd.read_csv('http://transp-or.epfl.ch/data/swissmetro.dat', sep='\\t').head(500)\n",
        "\n",
        "#data_pd"
      ],
      "execution_count": 233,
      "outputs": []
    },
    {
      "cell_type": "markdown",
      "metadata": {
        "id": "lVPiQ_-jIbqX"
      },
      "source": [
        "The basic cleanup of the Swissmetro dataset, remove invalid choices (0s in the CHOICE variable)"
      ]
    },
    {
      "cell_type": "code",
      "metadata": {
        "id": "sgKwm2N65v5X"
      },
      "source": [
        "data_pd = data_pd[ data_pd['CHOICE'] > 0]\n",
        "data_bgm = db.Database(\"swiss\", data_pd)"
      ],
      "execution_count": 234,
      "outputs": []
    },
    {
      "cell_type": "code",
      "metadata": {
        "id": "--4ijyk57j6-"
      },
      "source": [
        "globals().update(data_bgm.variables)"
      ],
      "execution_count": 235,
      "outputs": []
    },
    {
      "cell_type": "code",
      "metadata": {
        "id": "BcPiXMUN6E61"
      },
      "source": [
        "if (do_PANEL):\n",
        " data_bgm.panel(\"ID\")"
      ],
      "execution_count": 236,
      "outputs": []
    },
    {
      "cell_type": "code",
      "metadata": {
        "id": "7WXxOSCH6NTR"
      },
      "source": [
        "ASC_CAR = exp.Beta ( 'ASC_CAR' ,0, None , None ,0)\n",
        "ASC_TRAIN = exp.Beta ( 'ASC_TRAIN' ,0, None , None ,0)\n",
        "ASC_SM = exp.Beta ( 'ASC_SM' ,0, None , None ,1)\n",
        "B_TIME = exp.Beta ( 'B_TIME' ,0, None , None ,0)\n",
        "B_COST = exp.Beta ( 'B_COST' ,0, None , None ,0)"
      ],
      "execution_count": 237,
      "outputs": []
    },
    {
      "cell_type": "code",
      "metadata": {
        "id": "xdkAY4nb7L8s"
      },
      "source": [
        "V1 = ASC_TRAIN + B_TIME * TRAIN_TT + B_COST * TRAIN_CO \n",
        "V2 = ASC_SM + B_TIME * SM_TT + B_COST * SM_CO \n",
        "V3 = ASC_CAR + B_TIME * CAR_TT + B_COST * CAR_CO"
      ],
      "execution_count": 238,
      "outputs": []
    },
    {
      "cell_type": "code",
      "metadata": {
        "id": "BvK71R587Oqa"
      },
      "source": [
        "V = {1: V1 ,\n",
        "2: V2 ,\n",
        "3: V3 }"
      ],
      "execution_count": 239,
      "outputs": []
    },
    {
      "cell_type": "code",
      "metadata": {
        "id": "PPe-B7Os7QcZ"
      },
      "source": [
        "av = {1: TRAIN_AV,\n",
        "2: SM_AV,\n",
        "3: CAR_AV }"
      ],
      "execution_count": 240,
      "outputs": []
    },
    {
      "cell_type": "code",
      "metadata": {
        "id": "orKX23f-7XPE",
        "colab": {
          "base_uri": "https://localhost:8080/"
        },
        "outputId": "7d7dbb38-9363-4aca-da09-9ee7a306f6a8"
      },
      "source": [
        "logprob = None\n",
        "if (do_PANEL):\n",
        "  obsprob = models.logit(V,av, CHOICE)\n",
        "  condprobIndiv = exp.PanelLikelihoodTrajectory(obsprob)\n",
        "  logprob = exp.log((condprobIndiv))\n",
        "else:\n",
        "  logprob = models.loglogit (V , av , CHOICE )\n",
        "\n",
        "bgm_model = bio.BIOGEME ( data_bgm, logprob )\n",
        "results = bgm_model.estimate()"
      ],
      "execution_count": 241,
      "outputs": [
        {
          "output_type": "stream",
          "name": "stdout",
          "text": [
            "[03:09:43] < Warning >   You have not defined a name for the model. The output files are named from the model name. The default is [biogemeModelDefaultName]\n"
          ]
        }
      ]
    },
    {
      "cell_type": "code",
      "metadata": {
        "id": "yjtQKutD8SpL",
        "colab": {
          "base_uri": "https://localhost:8080/",
          "height": 175
        },
        "outputId": "8397ace7-771e-41d2-ee7e-6353e5595509"
      },
      "source": [
        "results.getEstimatedParameters()"
      ],
      "execution_count": 242,
      "outputs": [
        {
          "output_type": "execute_result",
          "data": {
            "text/plain": [
              "              Value  Rob. Std err  Rob. t-test  Rob. p-value\n",
              "ASC_CAR   -2.842708      0.825742    -3.442611  5.761280e-04\n",
              "ASC_TRAIN -1.694026      0.229970    -7.366297  1.754152e-13\n",
              "B_COST    -0.000131      0.000239    -0.550118  5.822382e-01\n",
              "B_TIME     0.001569      0.000739     2.122719  3.377741e-02"
            ],
            "text/html": [
              "\n",
              "  <div id=\"df-f9aa00d9-3896-42dc-b9cc-35393365e5fe\">\n",
              "    <div class=\"colab-df-container\">\n",
              "      <div>\n",
              "<style scoped>\n",
              "    .dataframe tbody tr th:only-of-type {\n",
              "        vertical-align: middle;\n",
              "    }\n",
              "\n",
              "    .dataframe tbody tr th {\n",
              "        vertical-align: top;\n",
              "    }\n",
              "\n",
              "    .dataframe thead th {\n",
              "        text-align: right;\n",
              "    }\n",
              "</style>\n",
              "<table border=\"1\" class=\"dataframe\">\n",
              "  <thead>\n",
              "    <tr style=\"text-align: right;\">\n",
              "      <th></th>\n",
              "      <th>Value</th>\n",
              "      <th>Rob. Std err</th>\n",
              "      <th>Rob. t-test</th>\n",
              "      <th>Rob. p-value</th>\n",
              "    </tr>\n",
              "  </thead>\n",
              "  <tbody>\n",
              "    <tr>\n",
              "      <th>ASC_CAR</th>\n",
              "      <td>-2.842708</td>\n",
              "      <td>0.825742</td>\n",
              "      <td>-3.442611</td>\n",
              "      <td>5.761280e-04</td>\n",
              "    </tr>\n",
              "    <tr>\n",
              "      <th>ASC_TRAIN</th>\n",
              "      <td>-1.694026</td>\n",
              "      <td>0.229970</td>\n",
              "      <td>-7.366297</td>\n",
              "      <td>1.754152e-13</td>\n",
              "    </tr>\n",
              "    <tr>\n",
              "      <th>B_COST</th>\n",
              "      <td>-0.000131</td>\n",
              "      <td>0.000239</td>\n",
              "      <td>-0.550118</td>\n",
              "      <td>5.822382e-01</td>\n",
              "    </tr>\n",
              "    <tr>\n",
              "      <th>B_TIME</th>\n",
              "      <td>0.001569</td>\n",
              "      <td>0.000739</td>\n",
              "      <td>2.122719</td>\n",
              "      <td>3.377741e-02</td>\n",
              "    </tr>\n",
              "  </tbody>\n",
              "</table>\n",
              "</div>\n",
              "      <button class=\"colab-df-convert\" onclick=\"convertToInteractive('df-f9aa00d9-3896-42dc-b9cc-35393365e5fe')\"\n",
              "              title=\"Convert this dataframe to an interactive table.\"\n",
              "              style=\"display:none;\">\n",
              "        \n",
              "  <svg xmlns=\"http://www.w3.org/2000/svg\" height=\"24px\"viewBox=\"0 0 24 24\"\n",
              "       width=\"24px\">\n",
              "    <path d=\"M0 0h24v24H0V0z\" fill=\"none\"/>\n",
              "    <path d=\"M18.56 5.44l.94 2.06.94-2.06 2.06-.94-2.06-.94-.94-2.06-.94 2.06-2.06.94zm-11 1L8.5 8.5l.94-2.06 2.06-.94-2.06-.94L8.5 2.5l-.94 2.06-2.06.94zm10 10l.94 2.06.94-2.06 2.06-.94-2.06-.94-.94-2.06-.94 2.06-2.06.94z\"/><path d=\"M17.41 7.96l-1.37-1.37c-.4-.4-.92-.59-1.43-.59-.52 0-1.04.2-1.43.59L10.3 9.45l-7.72 7.72c-.78.78-.78 2.05 0 2.83L4 21.41c.39.39.9.59 1.41.59.51 0 1.02-.2 1.41-.59l7.78-7.78 2.81-2.81c.8-.78.8-2.07 0-2.86zM5.41 20L4 18.59l7.72-7.72 1.47 1.35L5.41 20z\"/>\n",
              "  </svg>\n",
              "      </button>\n",
              "      \n",
              "  <style>\n",
              "    .colab-df-container {\n",
              "      display:flex;\n",
              "      flex-wrap:wrap;\n",
              "      gap: 12px;\n",
              "    }\n",
              "\n",
              "    .colab-df-convert {\n",
              "      background-color: #E8F0FE;\n",
              "      border: none;\n",
              "      border-radius: 50%;\n",
              "      cursor: pointer;\n",
              "      display: none;\n",
              "      fill: #1967D2;\n",
              "      height: 32px;\n",
              "      padding: 0 0 0 0;\n",
              "      width: 32px;\n",
              "    }\n",
              "\n",
              "    .colab-df-convert:hover {\n",
              "      background-color: #E2EBFA;\n",
              "      box-shadow: 0px 1px 2px rgba(60, 64, 67, 0.3), 0px 1px 3px 1px rgba(60, 64, 67, 0.15);\n",
              "      fill: #174EA6;\n",
              "    }\n",
              "\n",
              "    [theme=dark] .colab-df-convert {\n",
              "      background-color: #3B4455;\n",
              "      fill: #D2E3FC;\n",
              "    }\n",
              "\n",
              "    [theme=dark] .colab-df-convert:hover {\n",
              "      background-color: #434B5C;\n",
              "      box-shadow: 0px 1px 3px 1px rgba(0, 0, 0, 0.15);\n",
              "      filter: drop-shadow(0px 1px 2px rgba(0, 0, 0, 0.3));\n",
              "      fill: #FFFFFF;\n",
              "    }\n",
              "  </style>\n",
              "\n",
              "      <script>\n",
              "        const buttonEl =\n",
              "          document.querySelector('#df-f9aa00d9-3896-42dc-b9cc-35393365e5fe button.colab-df-convert');\n",
              "        buttonEl.style.display =\n",
              "          google.colab.kernel.accessAllowed ? 'block' : 'none';\n",
              "\n",
              "        async function convertToInteractive(key) {\n",
              "          const element = document.querySelector('#df-f9aa00d9-3896-42dc-b9cc-35393365e5fe');\n",
              "          const dataTable =\n",
              "            await google.colab.kernel.invokeFunction('convertToInteractive',\n",
              "                                                     [key], {});\n",
              "          if (!dataTable) return;\n",
              "\n",
              "          const docLinkHtml = 'Like what you see? Visit the ' +\n",
              "            '<a target=\"_blank\" href=https://colab.research.google.com/notebooks/data_table.ipynb>data table notebook</a>'\n",
              "            + ' to learn more about interactive tables.';\n",
              "          element.innerHTML = '';\n",
              "          dataTable['output_type'] = 'display_data';\n",
              "          await google.colab.output.renderOutput(dataTable, element);\n",
              "          const docLink = document.createElement('div');\n",
              "          docLink.innerHTML = docLinkHtml;\n",
              "          element.appendChild(docLink);\n",
              "        }\n",
              "      </script>\n",
              "    </div>\n",
              "  </div>\n",
              "  "
            ]
          },
          "metadata": {},
          "execution_count": 242
        }
      ]
    },
    {
      "cell_type": "markdown",
      "metadata": {
        "id": "UrV4tm529IaI"
      },
      "source": [
        "---\n",
        "---\n",
        "\n",
        "# Mixed logit question: Estimation"
      ]
    },
    {
      "cell_type": "code",
      "metadata": {
        "id": "Z7Hw5WBL9LQ3"
      },
      "source": [
        "SIGMA_B_COST = exp.Beta('SIGMA_B_COST',0.5,0.00001,None,0)"
      ],
      "execution_count": 243,
      "outputs": []
    },
    {
      "cell_type": "code",
      "metadata": {
        "id": "DBx826Lk9W62"
      },
      "source": [
        "EC_B_COST = SIGMA_B_COST * exp.bioDraws('EC_B_COST','NORMAL')"
      ],
      "execution_count": 244,
      "outputs": []
    },
    {
      "cell_type": "code",
      "metadata": {
        "id": "ldGX-lTO9ca7"
      },
      "source": [
        "m_V1 = ASC_TRAIN + B_TIME * TRAIN_TT + (B_COST + EC_B_COST )  * TRAIN_CO \n",
        "m_V2 = ASC_SM + B_TIME * SM_TT + (B_COST + EC_B_COST ) * SM_CO  \n",
        "m_V3 = ASC_CAR + B_TIME * CAR_TT + (B_COST+ EC_B_COST ) * CAR_CO "
      ],
      "execution_count": 245,
      "outputs": []
    },
    {
      "cell_type": "code",
      "metadata": {
        "id": "8J92EHb_-U5t"
      },
      "source": [
        "m_V = {1: m_V1, 2:m_V2, 3:m_V3}"
      ],
      "execution_count": 246,
      "outputs": []
    },
    {
      "cell_type": "code",
      "metadata": {
        "id": "mrU6ylTf98ff"
      },
      "source": [
        "m_obsprob = models.logit(m_V, av, CHOICE)\n",
        "m_condprobIndiv = None"
      ],
      "execution_count": 247,
      "outputs": []
    },
    {
      "cell_type": "code",
      "metadata": {
        "id": "BMrTTiT7uizv"
      },
      "source": [
        "if (do_PANEL):\n",
        " m_condprobIndiv = exp.PanelLikelihoodTrajectory(m_obsprob)\n",
        "else:\n",
        " m_condprobIndiv = m_obsprob"
      ],
      "execution_count": 248,
      "outputs": []
    },
    {
      "cell_type": "code",
      "metadata": {
        "id": "O7vqM0O9YwVz"
      },
      "source": [
        "#condprobIndiv = exp.PanelLikelihoodTrajectory(obsprob)"
      ],
      "execution_count": 249,
      "outputs": []
    },
    {
      "cell_type": "markdown",
      "metadata": {
        "id": "UfPNY5auywhh"
      },
      "source": [
        "And Step 2 we take the model and then modify it by the expresion `exp.MonteCarlo`. The final log it to take the loglikelihood."
      ]
    },
    {
      "cell_type": "code",
      "metadata": {
        "id": "PS69PxS9yAGG"
      },
      "source": [
        "m_logprob = exp.log(exp.MonteCarlo(m_condprobIndiv))"
      ],
      "execution_count": 250,
      "outputs": []
    },
    {
      "cell_type": "markdown",
      "metadata": {
        "id": "MRtpFZRayEde"
      },
      "source": [
        "We  are using simulation,  so we have to tell biogeme how many draws from the distribution are we going to generate. The more draws, the more accurate estimation, but it is compuationally costly.\n",
        "\n",
        "We also set up a seed, so we can get the same results if the run the notebook again (setting up a seed is a good habit in general)"
      ]
    },
    {
      "cell_type": "code",
      "metadata": {
        "id": "iQ4kHXoaxoY8"
      },
      "source": [
        "\n",
        "# Create the Biogeme object\n",
        "m_biogeme  = bio.BIOGEME(data_bgm,m_logprob,numberOfDraws=50, seed=1)\n"
      ],
      "execution_count": 251,
      "outputs": []
    },
    {
      "cell_type": "code",
      "metadata": {
        "id": "lQpnVVzO-CAM",
        "colab": {
          "base_uri": "https://localhost:8080/"
        },
        "outputId": "f861cd00-c3f5-462f-8ecc-8eba82a6459f"
      },
      "source": [
        "results_mixed = m_biogeme.estimate()"
      ],
      "execution_count": 252,
      "outputs": [
        {
          "output_type": "stream",
          "name": "stdout",
          "text": [
            "[03:09:44] < Warning >   You have not defined a name for the model. The output files are named from the model name. The default is [biogemeModelDefaultName]\n",
            "[03:09:44] < Warning >   Numerical problem with the second derivative matrix at the starting point. Norm = inf. Replaced by the identity matrix.\n",
            "[03:09:44] < Warning >   Numerical problem with the second derivative matrix. Norm = inf. Replaced by the identity matrix.\n",
            "[03:09:45] < Warning >   Numerical problem with the second derivative matrix. Norm = inf. Replaced by the identity matrix.\n",
            "[03:09:45] < Warning >   Numerical problem with the second derivative matrix. Norm = inf. Replaced by the identity matrix.\n",
            "[03:09:45] < Warning >   Numerical problem with the second derivative matrix. Norm = inf. Replaced by the identity matrix.\n",
            "[03:09:45] < Warning >   Numerical problem with the second derivative matrix. Norm = inf. Replaced by the identity matrix.\n",
            "[03:09:46] < Warning >   Numerical problem with the second derivative matrix. Norm = inf. Replaced by the identity matrix.\n",
            "[03:09:46] < Warning >   Numerical problem with the second derivative matrix. Norm = inf. Replaced by the identity matrix.\n",
            "[03:09:46] < Warning >   Numerical problem with the second derivative matrix. Norm = inf. Replaced by the identity matrix.\n",
            "[03:09:46] < Warning >   Numerical problem with the second derivative matrix. Norm = inf. Replaced by the identity matrix.\n",
            "[03:09:46] < Warning >   Numerical problem with the second derivative matrix. Norm = inf. Replaced by the identity matrix.\n",
            "[03:09:47] < Warning >   Numerical problem with the second derivative matrix. Norm = inf. Replaced by the identity matrix.\n"
          ]
        }
      ]
    },
    {
      "cell_type": "code",
      "metadata": {
        "id": "SGdjIPQM-G9u",
        "colab": {
          "base_uri": "https://localhost:8080/",
          "height": 206
        },
        "outputId": "ea9e664d-21c3-46e8-f72b-7538ebf1e543"
      },
      "source": [
        "results_mixed.getEstimatedParameters()"
      ],
      "execution_count": 253,
      "outputs": [
        {
          "output_type": "execute_result",
          "data": {
            "text/plain": [
              "                 Value  Rob. Std err  Rob. t-test  Rob. p-value\n",
              "ASC_CAR      -2.627400      0.727627    -3.610916  3.051177e-04\n",
              "ASC_TRAIN    -1.782721      0.239623    -7.439684  1.010303e-13\n",
              "B_COST       -0.000318      0.000256    -1.244640  2.132640e-01\n",
              "B_TIME        0.001329      0.000711     1.867854  6.178244e-02\n",
              "SIGMA_B_COST  0.001195      0.000424     2.821071  4.786364e-03"
            ],
            "text/html": [
              "\n",
              "  <div id=\"df-b8ae892a-c56b-4043-b742-bd5d009512c1\">\n",
              "    <div class=\"colab-df-container\">\n",
              "      <div>\n",
              "<style scoped>\n",
              "    .dataframe tbody tr th:only-of-type {\n",
              "        vertical-align: middle;\n",
              "    }\n",
              "\n",
              "    .dataframe tbody tr th {\n",
              "        vertical-align: top;\n",
              "    }\n",
              "\n",
              "    .dataframe thead th {\n",
              "        text-align: right;\n",
              "    }\n",
              "</style>\n",
              "<table border=\"1\" class=\"dataframe\">\n",
              "  <thead>\n",
              "    <tr style=\"text-align: right;\">\n",
              "      <th></th>\n",
              "      <th>Value</th>\n",
              "      <th>Rob. Std err</th>\n",
              "      <th>Rob. t-test</th>\n",
              "      <th>Rob. p-value</th>\n",
              "    </tr>\n",
              "  </thead>\n",
              "  <tbody>\n",
              "    <tr>\n",
              "      <th>ASC_CAR</th>\n",
              "      <td>-2.627400</td>\n",
              "      <td>0.727627</td>\n",
              "      <td>-3.610916</td>\n",
              "      <td>3.051177e-04</td>\n",
              "    </tr>\n",
              "    <tr>\n",
              "      <th>ASC_TRAIN</th>\n",
              "      <td>-1.782721</td>\n",
              "      <td>0.239623</td>\n",
              "      <td>-7.439684</td>\n",
              "      <td>1.010303e-13</td>\n",
              "    </tr>\n",
              "    <tr>\n",
              "      <th>B_COST</th>\n",
              "      <td>-0.000318</td>\n",
              "      <td>0.000256</td>\n",
              "      <td>-1.244640</td>\n",
              "      <td>2.132640e-01</td>\n",
              "    </tr>\n",
              "    <tr>\n",
              "      <th>B_TIME</th>\n",
              "      <td>0.001329</td>\n",
              "      <td>0.000711</td>\n",
              "      <td>1.867854</td>\n",
              "      <td>6.178244e-02</td>\n",
              "    </tr>\n",
              "    <tr>\n",
              "      <th>SIGMA_B_COST</th>\n",
              "      <td>0.001195</td>\n",
              "      <td>0.000424</td>\n",
              "      <td>2.821071</td>\n",
              "      <td>4.786364e-03</td>\n",
              "    </tr>\n",
              "  </tbody>\n",
              "</table>\n",
              "</div>\n",
              "      <button class=\"colab-df-convert\" onclick=\"convertToInteractive('df-b8ae892a-c56b-4043-b742-bd5d009512c1')\"\n",
              "              title=\"Convert this dataframe to an interactive table.\"\n",
              "              style=\"display:none;\">\n",
              "        \n",
              "  <svg xmlns=\"http://www.w3.org/2000/svg\" height=\"24px\"viewBox=\"0 0 24 24\"\n",
              "       width=\"24px\">\n",
              "    <path d=\"M0 0h24v24H0V0z\" fill=\"none\"/>\n",
              "    <path d=\"M18.56 5.44l.94 2.06.94-2.06 2.06-.94-2.06-.94-.94-2.06-.94 2.06-2.06.94zm-11 1L8.5 8.5l.94-2.06 2.06-.94-2.06-.94L8.5 2.5l-.94 2.06-2.06.94zm10 10l.94 2.06.94-2.06 2.06-.94-2.06-.94-.94-2.06-.94 2.06-2.06.94z\"/><path d=\"M17.41 7.96l-1.37-1.37c-.4-.4-.92-.59-1.43-.59-.52 0-1.04.2-1.43.59L10.3 9.45l-7.72 7.72c-.78.78-.78 2.05 0 2.83L4 21.41c.39.39.9.59 1.41.59.51 0 1.02-.2 1.41-.59l7.78-7.78 2.81-2.81c.8-.78.8-2.07 0-2.86zM5.41 20L4 18.59l7.72-7.72 1.47 1.35L5.41 20z\"/>\n",
              "  </svg>\n",
              "      </button>\n",
              "      \n",
              "  <style>\n",
              "    .colab-df-container {\n",
              "      display:flex;\n",
              "      flex-wrap:wrap;\n",
              "      gap: 12px;\n",
              "    }\n",
              "\n",
              "    .colab-df-convert {\n",
              "      background-color: #E8F0FE;\n",
              "      border: none;\n",
              "      border-radius: 50%;\n",
              "      cursor: pointer;\n",
              "      display: none;\n",
              "      fill: #1967D2;\n",
              "      height: 32px;\n",
              "      padding: 0 0 0 0;\n",
              "      width: 32px;\n",
              "    }\n",
              "\n",
              "    .colab-df-convert:hover {\n",
              "      background-color: #E2EBFA;\n",
              "      box-shadow: 0px 1px 2px rgba(60, 64, 67, 0.3), 0px 1px 3px 1px rgba(60, 64, 67, 0.15);\n",
              "      fill: #174EA6;\n",
              "    }\n",
              "\n",
              "    [theme=dark] .colab-df-convert {\n",
              "      background-color: #3B4455;\n",
              "      fill: #D2E3FC;\n",
              "    }\n",
              "\n",
              "    [theme=dark] .colab-df-convert:hover {\n",
              "      background-color: #434B5C;\n",
              "      box-shadow: 0px 1px 3px 1px rgba(0, 0, 0, 0.15);\n",
              "      filter: drop-shadow(0px 1px 2px rgba(0, 0, 0, 0.3));\n",
              "      fill: #FFFFFF;\n",
              "    }\n",
              "  </style>\n",
              "\n",
              "      <script>\n",
              "        const buttonEl =\n",
              "          document.querySelector('#df-b8ae892a-c56b-4043-b742-bd5d009512c1 button.colab-df-convert');\n",
              "        buttonEl.style.display =\n",
              "          google.colab.kernel.accessAllowed ? 'block' : 'none';\n",
              "\n",
              "        async function convertToInteractive(key) {\n",
              "          const element = document.querySelector('#df-b8ae892a-c56b-4043-b742-bd5d009512c1');\n",
              "          const dataTable =\n",
              "            await google.colab.kernel.invokeFunction('convertToInteractive',\n",
              "                                                     [key], {});\n",
              "          if (!dataTable) return;\n",
              "\n",
              "          const docLinkHtml = 'Like what you see? Visit the ' +\n",
              "            '<a target=\"_blank\" href=https://colab.research.google.com/notebooks/data_table.ipynb>data table notebook</a>'\n",
              "            + ' to learn more about interactive tables.';\n",
              "          element.innerHTML = '';\n",
              "          dataTable['output_type'] = 'display_data';\n",
              "          await google.colab.output.renderOutput(dataTable, element);\n",
              "          const docLink = document.createElement('div');\n",
              "          docLink.innerHTML = docLinkHtml;\n",
              "          element.appendChild(docLink);\n",
              "        }\n",
              "      </script>\n",
              "    </div>\n",
              "  </div>\n",
              "  "
            ]
          },
          "metadata": {},
          "execution_count": 253
        }
      ]
    },
    {
      "cell_type": "markdown",
      "metadata": {
        "id": "2S7TvfbZ-mH1"
      },
      "source": [
        "---\n",
        "---\n",
        "\n",
        "# Mixed Logit question: Interpretation of the distribution of a parameter"
      ]
    },
    {
      "cell_type": "markdown",
      "metadata": {
        "id": "Jf69M46IAnC6"
      },
      "source": [
        "* The main interpretation is the understanding that parameters are 'random' so the output is an estimation of the probability distribution of the parameters, in this case COST follows a normal (approximately, for the panel version) $N(-0.000318, 0.001195^2)$.\n",
        "\n",
        "* Secondary interpretations are doing 'something' with the distribution. \n",
        " For example: **What percentage of people in the population have a cost parameter that is positive?**"
      ]
    },
    {
      "cell_type": "code",
      "metadata": {
        "id": "F2JfRHhTBYpn",
        "colab": {
          "base_uri": "https://localhost:8080/"
        },
        "outputId": "a7ae0588-0611-4345-b3c5-22a1abe323f5"
      },
      "source": [
        "from scipy.stats import norm\n",
        "\n",
        "1 - norm.cdf(0, results_mixed.getBetaValues()['B_COST'], results_mixed.getBetaValues()['SIGMA_B_COST'])"
      ],
      "execution_count": 254,
      "outputs": [
        {
          "output_type": "execute_result",
          "data": {
            "text/plain": [
              "0.3949455886644454"
            ]
          },
          "metadata": {},
          "execution_count": 254
        }
      ]
    }
  ]
}