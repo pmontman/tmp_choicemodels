{
  "nbformat": 4,
  "nbformat_minor": 0,
  "metadata": {
    "colab": {
      "name": "practice_final",
      "provenance": [],
      "collapsed_sections": [],
      "authorship_tag": "ABX9TyOgThrSEIJ4OeqSRXBmCM4+",
      "include_colab_link": true
    },
    "kernelspec": {
      "name": "python3",
      "display_name": "Python 3"
    },
    "language_info": {
      "name": "python"
    }
  },
  "cells": [
    {
      "cell_type": "markdown",
      "metadata": {
        "id": "view-in-github",
        "colab_type": "text"
      },
      "source": [
        "<a href=\"https://colab.research.google.com/github/pmontman/tmp_choicemodels/blob/main/nb/tutorials/practice_final.ipynb\" target=\"_parent\"><img src=\"https://colab.research.google.com/assets/colab-badge.svg\" alt=\"Open In Colab\"/></a>"
      ]
    },
    {
      "cell_type": "markdown",
      "metadata": {
        "id": "rxbeRIOOkIRc"
      },
      "source": [
        "#Types of questions for the final exam\n",
        "\n",
        "We will see:\n",
        " * Nested logit\n",
        " * Ordered logit\n",
        " * Panel data and Mixed logit\n",
        "\n",
        ""
      ]
    },
    {
      "cell_type": "markdown",
      "metadata": {
        "id": "vb9SIunnASNB"
      },
      "source": [
        "---\n",
        "---\n",
        "\n",
        "# Preparing the environment\n",
        "*The preparation and dataset loading code is given to the students*"
      ]
    },
    {
      "cell_type": "code",
      "metadata": {
        "colab": {
          "base_uri": "https://localhost:8080/"
        },
        "id": "j5zHGhgErHPd",
        "outputId": "7f4c48ed-3e16-4764-d0d2-82646eb8988b"
      },
      "source": [
        "!pip install biogeme"
      ],
      "execution_count": 1,
      "outputs": [
        {
          "output_type": "stream",
          "name": "stdout",
          "text": [
            "Requirement already satisfied: biogeme in /usr/local/lib/python3.7/dist-packages (3.2.8)\n",
            "Requirement already satisfied: numpy in /usr/local/lib/python3.7/dist-packages (from biogeme) (1.19.5)\n",
            "Requirement already satisfied: tqdm in /usr/local/lib/python3.7/dist-packages (from biogeme) (4.62.3)\n",
            "Requirement already satisfied: unidecode in /usr/local/lib/python3.7/dist-packages (from biogeme) (1.3.2)\n",
            "Requirement already satisfied: pandas in /usr/local/lib/python3.7/dist-packages (from biogeme) (1.1.5)\n",
            "Requirement already satisfied: cython in /usr/local/lib/python3.7/dist-packages (from biogeme) (0.29.24)\n",
            "Requirement already satisfied: scipy in /usr/local/lib/python3.7/dist-packages (from biogeme) (1.4.1)\n",
            "Requirement already satisfied: pytz>=2017.2 in /usr/local/lib/python3.7/dist-packages (from pandas->biogeme) (2018.9)\n",
            "Requirement already satisfied: python-dateutil>=2.7.3 in /usr/local/lib/python3.7/dist-packages (from pandas->biogeme) (2.8.2)\n",
            "Requirement already satisfied: six>=1.5 in /usr/local/lib/python3.7/dist-packages (from python-dateutil>=2.7.3->pandas->biogeme) (1.15.0)\n"
          ]
        }
      ]
    },
    {
      "cell_type": "markdown",
      "metadata": {
        "id": "1z0X9xZ8rChf"
      },
      "source": [
        "Load the packages, feel free to change the names."
      ]
    },
    {
      "cell_type": "code",
      "metadata": {
        "id": "apVB-TMkrFnb"
      },
      "source": [
        "import pandas  as pd\n",
        "import numpy as np\n",
        "import matplotlib.pyplot as plt\n",
        "\n",
        "import biogeme.database as db\n",
        "import biogeme.biogeme as bio\n",
        "import biogeme.models as models\n",
        "import biogeme.expressions as exp\n",
        "import biogeme.tools as tools\n",
        "import biogeme.distributions as dist"
      ],
      "execution_count": 2,
      "outputs": []
    },
    {
      "cell_type": "markdown",
      "metadata": {
        "id": "Mgv0hV1YAieW"
      },
      "source": [
        "# Load the dataset"
      ]
    },
    {
      "cell_type": "code",
      "metadata": {
        "id": "g1Ykn5Ytr7Rs"
      },
      "source": [
        "path = 'https://raw.githubusercontent.com/pmontman/pub-choicemodels/main/data/fishing.csv'\n",
        "data_pd = pd.read_csv(path)"
      ],
      "execution_count": 3,
      "outputs": []
    },
    {
      "cell_type": "markdown",
      "metadata": {
        "id": "ZY55r3Gesb3t"
      },
      "source": [
        "A simple look at the dataset."
      ]
    },
    {
      "cell_type": "code",
      "metadata": {
        "colab": {
          "base_uri": "https://localhost:8080/",
          "height": 203
        },
        "id": "ldkmnMhssemT",
        "outputId": "90b6bdb2-9561-4291-85b7-cebed940a64e"
      },
      "source": [
        "data_pd.head(5)"
      ],
      "execution_count": 4,
      "outputs": [
        {
          "output_type": "execute_result",
          "data": {
            "text/html": [
              "<div>\n",
              "<style scoped>\n",
              "    .dataframe tbody tr th:only-of-type {\n",
              "        vertical-align: middle;\n",
              "    }\n",
              "\n",
              "    .dataframe tbody tr th {\n",
              "        vertical-align: top;\n",
              "    }\n",
              "\n",
              "    .dataframe thead th {\n",
              "        text-align: right;\n",
              "    }\n",
              "</style>\n",
              "<table border=\"1\" class=\"dataframe\">\n",
              "  <thead>\n",
              "    <tr style=\"text-align: right;\">\n",
              "      <th></th>\n",
              "      <th>mode</th>\n",
              "      <th>price_beach</th>\n",
              "      <th>price_pier</th>\n",
              "      <th>price_boat</th>\n",
              "      <th>price_charter</th>\n",
              "      <th>catch_beach</th>\n",
              "      <th>catch_pier</th>\n",
              "      <th>catch_boat</th>\n",
              "      <th>catch_charter</th>\n",
              "      <th>income</th>\n",
              "    </tr>\n",
              "  </thead>\n",
              "  <tbody>\n",
              "    <tr>\n",
              "      <th>0</th>\n",
              "      <td>4</td>\n",
              "      <td>157.930</td>\n",
              "      <td>157.930</td>\n",
              "      <td>157.930</td>\n",
              "      <td>182.930</td>\n",
              "      <td>0.0678</td>\n",
              "      <td>0.0503</td>\n",
              "      <td>0.2601</td>\n",
              "      <td>0.5391</td>\n",
              "      <td>7083.3317</td>\n",
              "    </tr>\n",
              "    <tr>\n",
              "      <th>1</th>\n",
              "      <td>4</td>\n",
              "      <td>15.114</td>\n",
              "      <td>15.114</td>\n",
              "      <td>10.534</td>\n",
              "      <td>34.534</td>\n",
              "      <td>0.1049</td>\n",
              "      <td>0.0451</td>\n",
              "      <td>0.1574</td>\n",
              "      <td>0.4671</td>\n",
              "      <td>1249.9998</td>\n",
              "    </tr>\n",
              "    <tr>\n",
              "      <th>2</th>\n",
              "      <td>3</td>\n",
              "      <td>161.874</td>\n",
              "      <td>161.874</td>\n",
              "      <td>24.334</td>\n",
              "      <td>59.334</td>\n",
              "      <td>0.5333</td>\n",
              "      <td>0.4522</td>\n",
              "      <td>0.2413</td>\n",
              "      <td>1.0266</td>\n",
              "      <td>3749.9999</td>\n",
              "    </tr>\n",
              "    <tr>\n",
              "      <th>3</th>\n",
              "      <td>2</td>\n",
              "      <td>15.134</td>\n",
              "      <td>15.134</td>\n",
              "      <td>55.930</td>\n",
              "      <td>84.930</td>\n",
              "      <td>0.0678</td>\n",
              "      <td>0.0789</td>\n",
              "      <td>0.1643</td>\n",
              "      <td>0.5391</td>\n",
              "      <td>2083.3332</td>\n",
              "    </tr>\n",
              "    <tr>\n",
              "      <th>4</th>\n",
              "      <td>3</td>\n",
              "      <td>106.930</td>\n",
              "      <td>106.930</td>\n",
              "      <td>41.514</td>\n",
              "      <td>71.014</td>\n",
              "      <td>0.0678</td>\n",
              "      <td>0.0503</td>\n",
              "      <td>0.1082</td>\n",
              "      <td>0.3240</td>\n",
              "      <td>4583.3320</td>\n",
              "    </tr>\n",
              "  </tbody>\n",
              "</table>\n",
              "</div>"
            ],
            "text/plain": [
              "   mode  price_beach  price_pier  ...  catch_boat  catch_charter     income\n",
              "0     4      157.930     157.930  ...      0.2601         0.5391  7083.3317\n",
              "1     4       15.114      15.114  ...      0.1574         0.4671  1249.9998\n",
              "2     3      161.874     161.874  ...      0.2413         1.0266  3749.9999\n",
              "3     2       15.134      15.134  ...      0.1643         0.5391  2083.3332\n",
              "4     3      106.930     106.930  ...      0.1082         0.3240  4583.3320\n",
              "\n",
              "[5 rows x 10 columns]"
            ]
          },
          "metadata": {},
          "execution_count": 4
        }
      ]
    },
    {
      "cell_type": "markdown",
      "metadata": {
        "id": "YEJvXwpekbvd"
      },
      "source": [
        "---\n",
        "---\n",
        "\n",
        "# Auxiliary functions"
      ]
    },
    {
      "cell_type": "markdown",
      "metadata": {
        "id": "CKyKA_dj-IVp"
      },
      "source": [
        "The first function takes the dictionary of utilities, a pandas dataframe, and the name of the variable that contains the variable with the results of the choice. It returns the biogeme object with the model and the estimated 'results' object (the one we get the values, likelihoods, etc.)\n",
        "We have added the dictionary with the utilities to the biogeme object, in case we use it later."
      ]
    },
    {
      "cell_type": "code",
      "metadata": {
        "id": "0OQ1ls2Bi_ot"
      },
      "source": [
        "def qbus_estimate_bgm(V, pd_df, tgtvar_name, modelname='bgmdef'):\n",
        " av_auto = V.copy()\n",
        " for key, value in av_auto.items():\n",
        "   av_auto[key] = 1\n",
        " bgm_db = db.Database(modelname + '_db', pd_df)\n",
        " globals().update(bgm_db.variables)\n",
        " logprob = models.loglogit (V , av_auto , bgm_db.variables[tgtvar_name] )\n",
        " bgm_model = bio.BIOGEME ( bgm_db, logprob )\n",
        " bgm_model.utility_dic = V.copy()\n",
        " return bgm_model, bgm_model.estimate()"
      ],
      "execution_count": 5,
      "outputs": []
    },
    {
      "cell_type": "markdown",
      "metadata": {
        "id": "dM2f5-0w-_4b"
      },
      "source": [
        "The next function will calculate the predictions for a given biogeme object that was estimated with `qbus_estimate_bgm`. The output is the array with the choice probabilities. From the choice probabilities, this can be used to calculate accuracies, confusion matrices and the output of what-if scenarios."
      ]
    },
    {
      "cell_type": "code",
      "metadata": {
        "id": "O4Iau_IHHCzc"
      },
      "source": [
        "def qbus_simulate_bgm(qbus_bgm_model, betas, pred_pd_df):\n",
        "  av_auto = None\n",
        "  targets = None\n",
        "  if hasattr(qbus_bgm_model, 'ord_probs'):\n",
        "    av_auto = qbus_bgm_model.ord_probs.copy()\n",
        "    targets = qbus_bgm_model.ord_probs.copy()\n",
        "  else:\n",
        "    av_auto = qbus_bgm_model.utility_dic.copy()\n",
        "    targets = qbus_bgm_model.utility_dic.copy()\n",
        "\n",
        "  for key, value in av_auto.items():\n",
        "    av_auto[key] = 1\n",
        "\n",
        "\n",
        "\n",
        "  for key, value in targets.items():\n",
        "    if hasattr(qbus_bgm_model, 'nest_tuple'):\n",
        "      targets[key] = models.nested(qbus_bgm_model.utility_dic, av_auto, qbus_bgm_model.nest_tuple, key)\n",
        "    else:\n",
        "      if hasattr(qbus_bgm_model, 'ord_probs'):\n",
        "       0\n",
        "       #targets[key] = qbus_bgm_model.ord_probs[key]\n",
        "      else:\n",
        "       targets[key] = models.logit(qbus_bgm_model.utility_dic, av_auto, key)\n",
        "\n",
        "  bgm_db = db.Database('simul', pred_pd_df)\n",
        "  globals().update(bgm_db.variables)\n",
        "  bgm_pred_model = bio.BIOGEME(bgm_db, targets)\n",
        "  simulatedValues = bgm_pred_model.simulate(betas)\n",
        "  return simulatedValues"
      ],
      "execution_count": 6,
      "outputs": []
    },
    {
      "cell_type": "markdown",
      "metadata": {
        "id": "AnBLUPi-DjU7"
      },
      "source": [
        "The function `qbus_calc_accu_confusion` calculates the accuracies given the choice probability predictions a pandas dataset and the specification of the name that contains the actual choices in the input dataset."
      ]
    },
    {
      "cell_type": "code",
      "metadata": {
        "id": "m9l5cDGkzsfJ"
      },
      "source": [
        "def qbus_calc_accu_confusion(sim_probs, pd_df, choice_var):\n",
        "  which_max = sim_probs.idxmax(axis=1)\n",
        "  data = {'y_Actual':   pd_df[choice_var],\n",
        "          'y_Predicted': which_max\n",
        "        }\n",
        "\n",
        "  df = pd.DataFrame(data, columns=['y_Actual','y_Predicted'])\n",
        "  confusion_matrix = pd.crosstab(df['y_Actual'], df['y_Predicted'], rownames=['Actual'], colnames=['Predicted'])\n",
        "  accu = np.mean(which_max == pd_df[choice_var])\n",
        "  return accu, confusion_matrix "
      ],
      "execution_count": 7,
      "outputs": []
    },
    {
      "cell_type": "markdown",
      "metadata": {
        "id": "dYfxQpYLDzgm"
      },
      "source": [
        "The next function calculates the likelihood ratio test having to write a bit less code that the default biogeme function. The arguments are the results objects of the two models to be compared. The first is the more complex and the second is the reference model (**the order is important!**). The third argument is the significance level for the test."
      ]
    },
    {
      "cell_type": "code",
      "metadata": {
        "id": "GUNVxPmK3rF2"
      },
      "source": [
        "def qbus_likeli_ratio_test_bgm(results_complex, results_reference, signif_level):\n",
        "  return tools.likelihood_ratio_test( (results_complex.data.logLike, results_complex.data.nparam),\n",
        "                                     (results_reference.data.logLike, results_reference.data.nparam), signif_level)"
      ],
      "execution_count": 8,
      "outputs": []
    },
    {
      "cell_type": "markdown",
      "metadata": {
        "id": "5b7TaMhCEZIZ"
      },
      "source": [
        "The next function just updates the globals so we can use it "
      ]
    },
    {
      "cell_type": "code",
      "metadata": {
        "id": "PfHXGoLS1yHX"
      },
      "source": [
        "def qbus_update_globals_bgm(pd_df):\n",
        "   globals().update(db.Database('tmp_bg_bgm_for_glob', pd_df).variables)"
      ],
      "execution_count": 9,
      "outputs": []
    },
    {
      "cell_type": "markdown",
      "metadata": {
        "id": "buGCdfDc47M4"
      },
      "source": [
        "The next function calculates the nested logit version. Similar to the multinomial logit"
      ]
    },
    {
      "cell_type": "code",
      "metadata": {
        "id": "QEo3d3kJo2BV"
      },
      "source": [
        "def qbus_estimate_nested_bgm(V, pd_df, nests,  tgtvar_name, modelname='bgmdef'):\n",
        " av_auto = V.copy()\n",
        " for key, value in av_auto.items():\n",
        "   av_auto[key] = 1\n",
        " bgm_db = db.Database(modelname + '_db', pd_df)\n",
        " globals().update(bgm_db.variables)\n",
        " logprobnest = models.lognested (V, av_auto , nests , bgm_db.variables[tgtvar_name] )\n",
        " #logprob = models.loglogit (V , av_auto , bgm_db.variables[tgtvar_name] )\n",
        " bgm_model = bio.BIOGEME ( bgm_db, logprobnest )\n",
        " bgm_model.utility_dic = V.copy()\n",
        " bgm_model.nest_tuple = nests\n",
        " return bgm_model, bgm_model.estimate()"
      ],
      "execution_count": 10,
      "outputs": []
    },
    {
      "cell_type": "markdown",
      "metadata": {
        "id": "lvu4rY2z0lnG"
      },
      "source": [
        "The auxiliary function for the ordered logit. The use is slightly different from the basic multinomial logit!\n",
        "* The `V` argument is just the expression of a utility function, not the dictionary mapping alternative ids to the utility functions.\n",
        "* The argument `ord_alt_ids` is a list with the ids of the alternatives **in the order that we want to impose**.The parameter to know about.\n",
        "\n",
        "Then the rest of the arguments are used as usual `pd_df` the pandas dataframe, `tgt_varname` the name of the variable with the choices, and an optional `modelname`."
      ]
    },
    {
      "cell_type": "code",
      "metadata": {
        "id": "8cNy29oJjLtM"
      },
      "source": [
        "def qbus_estimate_ordered_bgm(V, ord_alt_ids, pd_df, tgtvar_name, modelname='ord_bgm'):\n",
        " bgm_db = db.Database(modelname + '_db', pd_df)\n",
        " globals().update(bgm_db.variables)\n",
        "\n",
        " taus_map = {ord_alt_ids[0]: exp.Beta('tau1', -1, None, None, 0) }\n",
        " i = 1\n",
        " for id in ord_alt_ids[1:-1]:\n",
        "  taus_map[id] = taus_map[ ord_alt_ids[i-1] ] + exp.Beta('delta_'+ str(i + 1), i, 0, None, 0)\n",
        "  i = i + 1\n",
        "\n",
        " alt_probs_map = {ord_alt_ids[0]: dist.logisticcdf( taus_map[ord_alt_ids[0] ] - V_ord) }\n",
        "\n",
        " i = 1\n",
        " for id in ord_alt_ids[1:-1]:\n",
        "  alt_probs_map[id] = dist.logisticcdf( taus_map[id] - V_ord) - dist.logisticcdf( taus_map[ ord_alt_ids[i-1] ] - V_ord)\n",
        "  i = i + 1\n",
        "\n",
        " alt_probs_map[ord_alt_ids[i] ] = 1 - dist.logisticcdf( taus_map[ord_alt_ids[i-1]] - V_ord)\n",
        "\n",
        " logprob = exp.log(exp.Elem(alt_probs_map, bgm_db.variables[tgtvar_name]))\n",
        "\n",
        " #logprob = models.loglogit (V , av_auto , bgm_db.variables[tgtvar_name] )\n",
        " bgm_model = bio.BIOGEME ( bgm_db, logprob )\n",
        " bgm_model.utility_dic = V\n",
        " bgm_model.ord_probs = alt_probs_map.copy()\n",
        " return bgm_model, bgm_model.estimate()"
      ],
      "execution_count": 11,
      "outputs": []
    },
    {
      "cell_type": "markdown",
      "metadata": {
        "id": "ApSvgeffCcRT"
      },
      "source": [
        "The mixed logit with panel data\n",
        "\n"
      ]
    },
    {
      "cell_type": "code",
      "metadata": {
        "id": "2n-4SIpBCpCI"
      },
      "source": [
        "def qbus_estimate_mixed_bgm(V, pd_df, tgtvar_name, panelvar_name=None, n_draws=50, seed=1, modelname='bgmdef'):\n",
        " do_panel = not (panelvar_name==None)\n",
        "\n",
        " av_auto = V.copy()\n",
        " for key, value in av_auto.items():\n",
        "   av_auto[key] = 1\n",
        " bgm_db = db.Database(modelname + '_db', pd_df)\n",
        " if (do_panel):\n",
        "   bgm_db.panel(panelvar_name)\n",
        "\n",
        " globals().update(bgm_db.variables)\n",
        " #logprob = models.loglogit (V , av_auto , bgm_db.variables[tgtvar_name] )\n",
        " obsprob = models.logit(V, av_auto, CHOICE)\n",
        " if (do_panel):\n",
        "  condprobIndiv = exp.PanelLikelihoodTrajectory(obsprob)\n",
        " else:\n",
        "  condprobIndiv = obsprob\n",
        " logprob = exp.log(exp.MonteCarlo(condprobIndiv))\n",
        " bgm_model  = bio.BIOGEME(bgm_db,logprob,numberOfDraws=n_draws, seed=seed)\n",
        " bgm_model.utility_dic = V.copy()\n",
        " return bgm_model, bgm_model.estimate()"
      ],
      "execution_count": 12,
      "outputs": []
    },
    {
      "cell_type": "markdown",
      "metadata": {
        "id": "Ya_1zth9vEX1"
      },
      "source": [
        "---\n",
        "---\n",
        "\n",
        "# Estimating a baseline model"
      ]
    },
    {
      "cell_type": "code",
      "metadata": {
        "id": "SeRgbCnbG4aD"
      },
      "source": [
        "ASC_beach = exp.Beta ( 'ASC_beach' ,0, None , None ,0)\n",
        "ASC_pier = exp.Beta ( 'ASC_pier' ,0, None , None ,0)\n",
        "ASC_boat = exp.Beta ( 'ASC_boat' ,0, None , None ,0)\n",
        "ASC_charter = exp.Beta ( 'ASC_charter' ,0, None , None ,1)\n",
        "B_price = exp.Beta ( 'B_price' ,0, None , None ,0)\n",
        "B_catch = exp.Beta ( 'B_catch' ,0, None , None ,0)"
      ],
      "execution_count": 13,
      "outputs": []
    },
    {
      "cell_type": "code",
      "metadata": {
        "id": "XDPllyLIijIy"
      },
      "source": [
        "qbus_update_globals_bgm(data_pd)"
      ],
      "execution_count": 14,
      "outputs": []
    },
    {
      "cell_type": "code",
      "metadata": {
        "id": "HG_YkIVy2NbS"
      },
      "source": [
        "V_beach = ASC_beach + B_price*price_beach + B_catch*catch_beach\n",
        "V_pier = ASC_pier + B_price*price_pier + B_catch*catch_pier\n",
        "V_boat = ASC_boat + B_price*price_boat + B_catch*catch_boat\n",
        "V_charter = ASC_charter + B_price*price_charter + B_catch*catch_charter\n",
        "\n",
        "V_base = {1: V_beach,\n",
        "     2: V_pier,\n",
        "     3: V_boat,\n",
        "     4: V_charter}"
      ],
      "execution_count": 15,
      "outputs": []
    },
    {
      "cell_type": "code",
      "metadata": {
        "id": "_J5poICol34Q"
      },
      "source": [
        "model_base, results_base = qbus_estimate_bgm(V_base, data_pd, 'mode', 'fish')"
      ],
      "execution_count": 16,
      "outputs": []
    },
    {
      "cell_type": "code",
      "metadata": {
        "colab": {
          "base_uri": "https://localhost:8080/",
          "height": 203
        },
        "id": "_qu_aguema04",
        "outputId": "5bf020be-9503-4865-ef4d-fc9458091892"
      },
      "source": [
        "results_base.getEstimatedParameters()"
      ],
      "execution_count": 17,
      "outputs": [
        {
          "output_type": "execute_result",
          "data": {
            "text/html": [
              "<div>\n",
              "<style scoped>\n",
              "    .dataframe tbody tr th:only-of-type {\n",
              "        vertical-align: middle;\n",
              "    }\n",
              "\n",
              "    .dataframe tbody tr th {\n",
              "        vertical-align: top;\n",
              "    }\n",
              "\n",
              "    .dataframe thead th {\n",
              "        text-align: right;\n",
              "    }\n",
              "</style>\n",
              "<table border=\"1\" class=\"dataframe\">\n",
              "  <thead>\n",
              "    <tr style=\"text-align: right;\">\n",
              "      <th></th>\n",
              "      <th>Value</th>\n",
              "      <th>Std err</th>\n",
              "      <th>t-test</th>\n",
              "      <th>p-value</th>\n",
              "      <th>Rob. Std err</th>\n",
              "      <th>Rob. t-test</th>\n",
              "      <th>Rob. p-value</th>\n",
              "    </tr>\n",
              "  </thead>\n",
              "  <tbody>\n",
              "    <tr>\n",
              "      <th>ASC_beach</th>\n",
              "      <td>-1.498836</td>\n",
              "      <td>0.132932</td>\n",
              "      <td>-11.275196</td>\n",
              "      <td>0.000000e+00</td>\n",
              "      <td>0.129702</td>\n",
              "      <td>-11.555999</td>\n",
              "      <td>0.000000e+00</td>\n",
              "    </tr>\n",
              "    <tr>\n",
              "      <th>ASC_boat</th>\n",
              "      <td>-0.627457</td>\n",
              "      <td>0.100813</td>\n",
              "      <td>-6.223987</td>\n",
              "      <td>4.846765e-10</td>\n",
              "      <td>0.116827</td>\n",
              "      <td>-5.370843</td>\n",
              "      <td>7.836923e-08</td>\n",
              "    </tr>\n",
              "    <tr>\n",
              "      <th>ASC_pier</th>\n",
              "      <td>-1.191788</td>\n",
              "      <td>0.128483</td>\n",
              "      <td>-9.275864</td>\n",
              "      <td>0.000000e+00</td>\n",
              "      <td>0.128327</td>\n",
              "      <td>-9.287130</td>\n",
              "      <td>0.000000e+00</td>\n",
              "    </tr>\n",
              "    <tr>\n",
              "      <th>B_catch</th>\n",
              "      <td>0.377234</td>\n",
              "      <td>0.109971</td>\n",
              "      <td>3.430299</td>\n",
              "      <td>6.029167e-04</td>\n",
              "      <td>0.119248</td>\n",
              "      <td>3.163442</td>\n",
              "      <td>1.559155e-03</td>\n",
              "    </tr>\n",
              "    <tr>\n",
              "      <th>B_price</th>\n",
              "      <td>-0.024789</td>\n",
              "      <td>0.001704</td>\n",
              "      <td>-14.544409</td>\n",
              "      <td>0.000000e+00</td>\n",
              "      <td>0.002329</td>\n",
              "      <td>-10.645256</td>\n",
              "      <td>0.000000e+00</td>\n",
              "    </tr>\n",
              "  </tbody>\n",
              "</table>\n",
              "</div>"
            ],
            "text/plain": [
              "              Value   Std err  ...  Rob. t-test  Rob. p-value\n",
              "ASC_beach -1.498836  0.132932  ...   -11.555999  0.000000e+00\n",
              "ASC_boat  -0.627457  0.100813  ...    -5.370843  7.836923e-08\n",
              "ASC_pier  -1.191788  0.128483  ...    -9.287130  0.000000e+00\n",
              "B_catch    0.377234  0.109971  ...     3.163442  1.559155e-03\n",
              "B_price   -0.024789  0.001704  ...   -10.645256  0.000000e+00\n",
              "\n",
              "[5 rows x 7 columns]"
            ]
          },
          "metadata": {},
          "execution_count": 17
        }
      ]
    },
    {
      "cell_type": "markdown",
      "metadata": {
        "id": "4mtMh3Bl6FW8"
      },
      "source": [
        "---\n",
        "---\n",
        "\n",
        "# Nested logit Question: Estimate the model \n",
        "Nested logit, we declare the nest parameter, the parameter that will represent the 'strength' of the nesting.\n",
        "\n",
        "We use the biogeme expression (same as for the Beta coefficients). In biogeme\n",
        "the larger the parameter, the stronger the nesting. Its minimum value should be 1, the maximum can be a large enough number such as 100. This comes from the $\\lambda$ in the theory part that is between 0 and 1, biogeme use a $\\mu = 1/ \\lambda$ so it should be a number larger than 1 if $\\lambda$ is between 0 and 1."
      ]
    },
    {
      "cell_type": "code",
      "metadata": {
        "id": "T202OKu26mTv"
      },
      "source": [
        "MU_nest_A = exp.Beta('MU_nest_A', 1, 1, 100, 0)"
      ],
      "execution_count": 18,
      "outputs": []
    },
    {
      "cell_type": "markdown",
      "metadata": {
        "id": "ew8Okgp26mTv"
      },
      "source": [
        "And the nest structure. In biogeme, this is done via a python tuple of two elements:\n",
        "1. The first element is the the parameter\n",
        "2. The second parameter is a python list of ids of the alternatives that are affected by the grouping. **Remember to map the ids to the alternatives correctly!**\n",
        "\n",
        "In the following cell, we create a grouping for beach (alt. 1), pier (alt. 2) and private boat (alt. 3). This is the grouping that will be affected by the `MU_NONCHART`. Other group, in this case it is only formed by the charter boat.\n",
        "Since there is only one altenative in the group, we can set its grouping parameter to 1.\n",
        "Finaly we put all tuples together to create the full grouping specification that is passed to biogeme."
      ]
    },
    {
      "cell_type": "code",
      "metadata": {
        "id": "7rBft98X6mTv"
      },
      "source": [
        "nest_A = MU_nest_A, [1, 2, 3]\n",
        "nest_B = 1.0, [4]\n",
        "nests_struct = nest_A, nest_B"
      ],
      "execution_count": 19,
      "outputs": []
    },
    {
      "cell_type": "markdown",
      "metadata": {
        "id": "SHQARKkD6mTv"
      },
      "source": [
        "Then we will estimate and check the model parameters."
      ]
    },
    {
      "cell_type": "code",
      "metadata": {
        "id": "vcGDdPhU6mTw"
      },
      "source": [
        "model_nest, results_nest = qbus_estimate_nested_bgm(V_base, data_pd, nests_struct, 'mode', 'data_nest' )"
      ],
      "execution_count": 20,
      "outputs": []
    },
    {
      "cell_type": "markdown",
      "metadata": {
        "id": "JfvP0WRn6mTw"
      },
      "source": [
        "The estimation of the model gives similar coefficients to the paper."
      ]
    },
    {
      "cell_type": "code",
      "metadata": {
        "colab": {
          "base_uri": "https://localhost:8080/",
          "height": 234
        },
        "id": "Qhd3rYFi6mTw",
        "outputId": "d2119b50-f51a-4168-b481-f4843587ebdf"
      },
      "source": [
        "results_nest.getEstimatedParameters()"
      ],
      "execution_count": 21,
      "outputs": [
        {
          "output_type": "execute_result",
          "data": {
            "text/html": [
              "<div>\n",
              "<style scoped>\n",
              "    .dataframe tbody tr th:only-of-type {\n",
              "        vertical-align: middle;\n",
              "    }\n",
              "\n",
              "    .dataframe tbody tr th {\n",
              "        vertical-align: top;\n",
              "    }\n",
              "\n",
              "    .dataframe thead th {\n",
              "        text-align: right;\n",
              "    }\n",
              "</style>\n",
              "<table border=\"1\" class=\"dataframe\">\n",
              "  <thead>\n",
              "    <tr style=\"text-align: right;\">\n",
              "      <th></th>\n",
              "      <th>Value</th>\n",
              "      <th>Std err</th>\n",
              "      <th>t-test</th>\n",
              "      <th>p-value</th>\n",
              "      <th>Rob. Std err</th>\n",
              "      <th>Rob. t-test</th>\n",
              "      <th>Rob. p-value</th>\n",
              "    </tr>\n",
              "  </thead>\n",
              "  <tbody>\n",
              "    <tr>\n",
              "      <th>ASC_beach</th>\n",
              "      <td>-0.391672</td>\n",
              "      <td>0.183913</td>\n",
              "      <td>-2.129662</td>\n",
              "      <td>3.319953e-02</td>\n",
              "      <td>0.210005</td>\n",
              "      <td>-1.865064</td>\n",
              "      <td>6.217248e-02</td>\n",
              "    </tr>\n",
              "    <tr>\n",
              "      <th>ASC_boat</th>\n",
              "      <td>-0.063007</td>\n",
              "      <td>0.130176</td>\n",
              "      <td>-0.484013</td>\n",
              "      <td>6.283769e-01</td>\n",
              "      <td>0.144721</td>\n",
              "      <td>-0.435367</td>\n",
              "      <td>6.632961e-01</td>\n",
              "    </tr>\n",
              "    <tr>\n",
              "      <th>ASC_pier</th>\n",
              "      <td>-0.241545</td>\n",
              "      <td>0.166548</td>\n",
              "      <td>-1.450301</td>\n",
              "      <td>1.469746e-01</td>\n",
              "      <td>0.188887</td>\n",
              "      <td>-1.278783</td>\n",
              "      <td>2.009735e-01</td>\n",
              "    </tr>\n",
              "    <tr>\n",
              "      <th>B_catch</th>\n",
              "      <td>0.414475</td>\n",
              "      <td>0.101409</td>\n",
              "      <td>4.087152</td>\n",
              "      <td>4.367018e-05</td>\n",
              "      <td>0.098221</td>\n",
              "      <td>4.219833</td>\n",
              "      <td>2.444838e-05</td>\n",
              "    </tr>\n",
              "    <tr>\n",
              "      <th>B_price</th>\n",
              "      <td>-0.014047</td>\n",
              "      <td>0.002188</td>\n",
              "      <td>-6.418871</td>\n",
              "      <td>1.372891e-10</td>\n",
              "      <td>0.002377</td>\n",
              "      <td>-5.909232</td>\n",
              "      <td>3.437056e-09</td>\n",
              "    </tr>\n",
              "    <tr>\n",
              "      <th>MU_nest_A</th>\n",
              "      <td>2.280453</td>\n",
              "      <td>0.395305</td>\n",
              "      <td>5.768839</td>\n",
              "      <td>7.981938e-09</td>\n",
              "      <td>0.494278</td>\n",
              "      <td>4.613708</td>\n",
              "      <td>3.955487e-06</td>\n",
              "    </tr>\n",
              "  </tbody>\n",
              "</table>\n",
              "</div>"
            ],
            "text/plain": [
              "              Value   Std err  ...  Rob. t-test  Rob. p-value\n",
              "ASC_beach -0.391672  0.183913  ...    -1.865064  6.217248e-02\n",
              "ASC_boat  -0.063007  0.130176  ...    -0.435367  6.632961e-01\n",
              "ASC_pier  -0.241545  0.166548  ...    -1.278783  2.009735e-01\n",
              "B_catch    0.414475  0.101409  ...     4.219833  2.444838e-05\n",
              "B_price   -0.014047  0.002188  ...    -5.909232  3.437056e-09\n",
              "MU_nest_A  2.280453  0.395305  ...     4.613708  3.955487e-06\n",
              "\n",
              "[6 rows x 7 columns]"
            ]
          },
          "metadata": {},
          "execution_count": 21
        }
      ]
    },
    {
      "cell_type": "markdown",
      "metadata": {
        "id": "0bXGQXi-PyGD"
      },
      "source": [
        "To check is the nested model is a statistically significant improvement over the multinomial logit version, we can do a likelihood ratio test, as usual, when the complex model is nested. If the only thing that changes is the inclusion of the 'nesting parameter' we test if nesting is useful. We can check several modifications at once, but then we would not be able to sepearate the nesting part form the rest. "
      ]
    },
    {
      "cell_type": "code",
      "metadata": {
        "colab": {
          "base_uri": "https://localhost:8080/"
        },
        "id": "ZWajooN5Bsak",
        "outputId": "12e2bd52-7106-44da-e0f1-b4d6f8feb3cd"
      },
      "source": [
        "qbus_likeli_ratio_test_bgm(results_nest, results_base, 0.95)"
      ],
      "execution_count": 22,
      "outputs": [
        {
          "output_type": "execute_result",
          "data": {
            "text/plain": [
              "('H0 can be rejected at level 0.95', 27.929484121169025, 3.841458820694124)"
            ]
          },
          "metadata": {},
          "execution_count": 22
        }
      ]
    },
    {
      "cell_type": "markdown",
      "metadata": {
        "id": "g7XfTB8Y7Bmb"
      },
      "source": [
        "---\n",
        "---\n",
        "\n",
        "# Nested logit question: Find/Discuss the nest structure in the data\n",
        "\n",
        "Apart from knowing how to estimate the nested logit and interpret the results, we need to be able to compare different nesting structures that might be applicable to the data, to pick the one that is better. In practice, sometimes there are several 'reasonable' nesting structures ."
      ]
    },
    {
      "cell_type": "code",
      "metadata": {
        "id": "ui2JR6OC_XZE"
      },
      "source": [
        "MU_nest_B = exp.Beta('MU_nest_B', 1, 1, 100, 0)"
      ],
      "execution_count": 23,
      "outputs": []
    },
    {
      "cell_type": "code",
      "metadata": {
        "id": "arpkVrIv5_oQ"
      },
      "source": [
        "alt_nest_A = MU_nest_A, [1, 2, 4]\n",
        "alt_nest_B = MU_nest_B, [3]\n",
        "alt_nests_struct = alt_nest_A, alt_nest_B"
      ],
      "execution_count": 24,
      "outputs": []
    },
    {
      "cell_type": "code",
      "metadata": {
        "id": "K48SJvek_iIW"
      },
      "source": [
        "alt_model_nest, alt_results_nest = qbus_estimate_nested_bgm(V_base, data_pd, alt_nests_struct, 'mode', 'data_nest' )"
      ],
      "execution_count": 25,
      "outputs": []
    },
    {
      "cell_type": "code",
      "metadata": {
        "colab": {
          "base_uri": "https://localhost:8080/",
          "height": 265
        },
        "id": "9VwO7gBM_pPF",
        "outputId": "e43ec251-d647-4186-8c18-833a17869279"
      },
      "source": [
        "alt_results_nest.getEstimatedParameters()"
      ],
      "execution_count": 26,
      "outputs": [
        {
          "output_type": "execute_result",
          "data": {
            "text/html": [
              "<div>\n",
              "<style scoped>\n",
              "    .dataframe tbody tr th:only-of-type {\n",
              "        vertical-align: middle;\n",
              "    }\n",
              "\n",
              "    .dataframe tbody tr th {\n",
              "        vertical-align: top;\n",
              "    }\n",
              "\n",
              "    .dataframe thead th {\n",
              "        text-align: right;\n",
              "    }\n",
              "</style>\n",
              "<table border=\"1\" class=\"dataframe\">\n",
              "  <thead>\n",
              "    <tr style=\"text-align: right;\">\n",
              "      <th></th>\n",
              "      <th>Value</th>\n",
              "      <th>Active bound</th>\n",
              "      <th>Std err</th>\n",
              "      <th>t-test</th>\n",
              "      <th>p-value</th>\n",
              "      <th>Rob. Std err</th>\n",
              "      <th>Rob. t-test</th>\n",
              "      <th>Rob. p-value</th>\n",
              "    </tr>\n",
              "  </thead>\n",
              "  <tbody>\n",
              "    <tr>\n",
              "      <th>ASC_beach</th>\n",
              "      <td>-1.234321</td>\n",
              "      <td>0.0</td>\n",
              "      <td>2.297480e-01</td>\n",
              "      <td>-5.372500e+00</td>\n",
              "      <td>7.765229e-08</td>\n",
              "      <td>3.087403e-01</td>\n",
              "      <td>-3.997927e+00</td>\n",
              "      <td>6.389967e-05</td>\n",
              "    </tr>\n",
              "    <tr>\n",
              "      <th>ASC_boat</th>\n",
              "      <td>-0.602359</td>\n",
              "      <td>0.0</td>\n",
              "      <td>9.525206e-02</td>\n",
              "      <td>-6.323844e+00</td>\n",
              "      <td>2.551346e-10</td>\n",
              "      <td>1.108127e-01</td>\n",
              "      <td>-5.435830e+00</td>\n",
              "      <td>5.454193e-08</td>\n",
              "    </tr>\n",
              "    <tr>\n",
              "      <th>ASC_pier</th>\n",
              "      <td>-0.976813</td>\n",
              "      <td>0.0</td>\n",
              "      <td>1.956865e-01</td>\n",
              "      <td>-4.991723e+00</td>\n",
              "      <td>5.984309e-07</td>\n",
              "      <td>2.597492e-01</td>\n",
              "      <td>-3.760600e+00</td>\n",
              "      <td>1.695062e-04</td>\n",
              "    </tr>\n",
              "    <tr>\n",
              "      <th>B_catch</th>\n",
              "      <td>0.375114</td>\n",
              "      <td>0.0</td>\n",
              "      <td>1.020149e-01</td>\n",
              "      <td>3.677055e+00</td>\n",
              "      <td>2.359424e-04</td>\n",
              "      <td>1.110462e-01</td>\n",
              "      <td>3.378004e+00</td>\n",
              "      <td>7.301393e-04</td>\n",
              "    </tr>\n",
              "    <tr>\n",
              "      <th>B_price</th>\n",
              "      <td>-0.021707</td>\n",
              "      <td>0.0</td>\n",
              "      <td>2.923521e-03</td>\n",
              "      <td>-7.424786e+00</td>\n",
              "      <td>1.130207e-13</td>\n",
              "      <td>4.288608e-03</td>\n",
              "      <td>-5.061436e+00</td>\n",
              "      <td>4.161101e-07</td>\n",
              "    </tr>\n",
              "    <tr>\n",
              "      <th>MU_nest_A</th>\n",
              "      <td>1.209235</td>\n",
              "      <td>0.0</td>\n",
              "      <td>1.930314e-01</td>\n",
              "      <td>6.264446e+00</td>\n",
              "      <td>3.741529e-10</td>\n",
              "      <td>2.791467e-01</td>\n",
              "      <td>4.331897e+00</td>\n",
              "      <td>1.478299e-05</td>\n",
              "    </tr>\n",
              "    <tr>\n",
              "      <th>MU_nest_B</th>\n",
              "      <td>1.000000</td>\n",
              "      <td>1.0</td>\n",
              "      <td>2.723995e-19</td>\n",
              "      <td>3.671079e+18</td>\n",
              "      <td>0.000000e+00</td>\n",
              "      <td>3.278366e-19</td>\n",
              "      <td>3.050300e+18</td>\n",
              "      <td>0.000000e+00</td>\n",
              "    </tr>\n",
              "  </tbody>\n",
              "</table>\n",
              "</div>"
            ],
            "text/plain": [
              "              Value  Active bound  ...   Rob. t-test  Rob. p-value\n",
              "ASC_beach -1.234321           0.0  ... -3.997927e+00  6.389967e-05\n",
              "ASC_boat  -0.602359           0.0  ... -5.435830e+00  5.454193e-08\n",
              "ASC_pier  -0.976813           0.0  ... -3.760600e+00  1.695062e-04\n",
              "B_catch    0.375114           0.0  ...  3.378004e+00  7.301393e-04\n",
              "B_price   -0.021707           0.0  ... -5.061436e+00  4.161101e-07\n",
              "MU_nest_A  1.209235           0.0  ...  4.331897e+00  1.478299e-05\n",
              "MU_nest_B  1.000000           1.0  ...  3.050300e+18  0.000000e+00\n",
              "\n",
              "[7 rows x 8 columns]"
            ]
          },
          "metadata": {},
          "execution_count": 26
        }
      ]
    },
    {
      "cell_type": "markdown",
      "metadata": {
        "id": "fhQPk9cbHJgh"
      },
      "source": [
        "What happens when comparing the nested logit is that we cannot always use the likelihood ratio test, because the models to compare are not always nested (one is not always is included in the other). When models are very similar, just differing on the nested structure and the same number of parameters, we can compare the likelihoods directly (the larger the better). This will not give us a nice p-value but it can help decide among nest structures.\n",
        "\n",
        "**However,** it more general if we just use the  Akaike information criteria directly (AIC). Remember that lower means a better model, and in practice is very conservative (adding parameter has to improve the model by 'a lot').."
      ]
    },
    {
      "cell_type": "code",
      "metadata": {
        "id": "jtPvWq5GAMTi"
      },
      "source": [
        "#Likelihood ratio test is rarely applicable to compare between nests\n",
        "#qbus_likeli_ratio_test_bgm(alt_results_nest, results_nest, 0.95)"
      ],
      "execution_count": 27,
      "outputs": []
    },
    {
      "cell_type": "code",
      "metadata": {
        "id": "DOq00EgYDi2K"
      },
      "source": [
        "#alt_results_nest.data.logLike"
      ],
      "execution_count": 28,
      "outputs": []
    },
    {
      "cell_type": "code",
      "metadata": {
        "id": "5kZBFRoODmDA"
      },
      "source": [
        "#results_nest.data.logLike"
      ],
      "execution_count": 29,
      "outputs": []
    },
    {
      "cell_type": "markdown",
      "metadata": {
        "id": "GB-_HdejDf5U"
      },
      "source": [
        "We should go directly for the Akaike information criteria (the lower the better).."
      ]
    },
    {
      "cell_type": "code",
      "metadata": {
        "colab": {
          "base_uri": "https://localhost:8080/"
        },
        "id": "azLWObWxB-uZ",
        "outputId": "5bc56ddd-ff8c-4d7a-c713-56b15fd68ec4"
      },
      "source": [
        "alt_results_nest.data.akaike"
      ],
      "execution_count": 30,
      "outputs": [
        {
          "output_type": "execute_result",
          "data": {
            "text/plain": [
              "2474.0549750198943"
            ]
          },
          "metadata": {},
          "execution_count": 30
        }
      ]
    },
    {
      "cell_type": "code",
      "metadata": {
        "colab": {
          "base_uri": "https://localhost:8080/"
        },
        "id": "D3fmvTrzCJIq",
        "outputId": "70db9ebf-2547-45dc-c681-f99f6ad70ffd"
      },
      "source": [
        "results_nest.data.akaike"
      ],
      "execution_count": 31,
      "outputs": [
        {
          "output_type": "execute_result",
          "data": {
            "text/plain": [
              "2445.6381771493216"
            ]
          },
          "metadata": {},
          "execution_count": 31
        }
      ]
    },
    {
      "cell_type": "markdown",
      "metadata": {
        "id": "AZtTosUCJXuu"
      },
      "source": [
        "The results from loglik and Akaike are consistent in this case"
      ]
    },
    {
      "cell_type": "code",
      "metadata": {
        "colab": {
          "base_uri": "https://localhost:8080/"
        },
        "id": "I7FYqaFCIoNa",
        "outputId": "b4ecfe7a-fecf-456e-def4-f85b13a2f2b6"
      },
      "source": [
        "results_base.data.akaike"
      ],
      "execution_count": 32,
      "outputs": [
        {
          "output_type": "execute_result",
          "data": {
            "text/plain": [
              "2471.5676612704906"
            ]
          },
          "metadata": {},
          "execution_count": 32
        }
      ]
    },
    {
      "cell_type": "markdown",
      "metadata": {
        "id": "fMbMnRLfVJJo"
      },
      "source": [
        "---\n",
        "---\n",
        "\n",
        "# Ordered Logit question: Estimate the model and interpretation"
      ]
    },
    {
      "cell_type": "markdown",
      "metadata": {
        "id": "omPr8S9XVaDG"
      },
      "source": [
        "The ordered logit considers only one utility function, not one per alternative.\n",
        "The main 'challenge' in the ordered logit is realizing that the problem we are dealing with can be modeled with the ordered logit, that the alternatives have some sort of 'natural' order."
      ]
    },
    {
      "cell_type": "code",
      "metadata": {
        "id": "XEAtiY0rWFti"
      },
      "source": [
        "ASC_ord = exp.Beta('ASC_ord', 0, None, None, 0)"
      ],
      "execution_count": 33,
      "outputs": []
    },
    {
      "cell_type": "code",
      "metadata": {
        "id": "Bf83xKaFWCKN"
      },
      "source": [
        "V_ord = ASC_ord + B_price*price_beach + B_catch*catch_beach + B_price*price_pier + B_catch*catch_pier"
      ],
      "execution_count": 34,
      "outputs": []
    },
    {
      "cell_type": "markdown",
      "metadata": {
        "id": "D-A4gBIjnrx1"
      },
      "source": [
        "We use the auxiliary function `qbus_estimate_ordered_bgm`, notice the argument `[1,3,2,4]` specifying the desired order of the alternatives. In this case, it means we think that the order is:\n",
        "\n",
        " beach < private boat < pier < charterboat.\n",
        " \n",
        " **Please pay attention to the order that we specify! Otherwise we are incorrectly specify the model.**\n",
        "\n"
      ]
    },
    {
      "cell_type": "code",
      "metadata": {
        "id": "PqihL9PwjmFj"
      },
      "source": [
        "qord_model, qord_results = qbus_estimate_ordered_bgm(V_ord, [1,3,2,4], data_pd, 'mode', )"
      ],
      "execution_count": 35,
      "outputs": []
    },
    {
      "cell_type": "code",
      "metadata": {
        "colab": {
          "base_uri": "https://localhost:8080/",
          "height": 234
        },
        "id": "F1tnWUQ5ks9h",
        "outputId": "758ce1d9-ceed-40e7-edb0-f1848939b63c"
      },
      "source": [
        "qord_results.getEstimatedParameters()"
      ],
      "execution_count": 36,
      "outputs": [
        {
          "output_type": "execute_result",
          "data": {
            "text/html": [
              "<div>\n",
              "<style scoped>\n",
              "    .dataframe tbody tr th:only-of-type {\n",
              "        vertical-align: middle;\n",
              "    }\n",
              "\n",
              "    .dataframe tbody tr th {\n",
              "        vertical-align: top;\n",
              "    }\n",
              "\n",
              "    .dataframe thead th {\n",
              "        text-align: right;\n",
              "    }\n",
              "</style>\n",
              "<table border=\"1\" class=\"dataframe\">\n",
              "  <thead>\n",
              "    <tr style=\"text-align: right;\">\n",
              "      <th></th>\n",
              "      <th>Value</th>\n",
              "      <th>Std err</th>\n",
              "      <th>t-test</th>\n",
              "      <th>p-value</th>\n",
              "      <th>Rob. Std err</th>\n",
              "      <th>Rob. t-test</th>\n",
              "      <th>Rob. p-value</th>\n",
              "    </tr>\n",
              "  </thead>\n",
              "  <tbody>\n",
              "    <tr>\n",
              "      <th>ASC_ord</th>\n",
              "      <td>0.455434</td>\n",
              "      <td>0.058527</td>\n",
              "      <td>7.781605</td>\n",
              "      <td>7.105427e-15</td>\n",
              "      <td>0.060283</td>\n",
              "      <td>7.554879</td>\n",
              "      <td>4.196643e-14</td>\n",
              "    </tr>\n",
              "    <tr>\n",
              "      <th>B_catch</th>\n",
              "      <td>-0.046664</td>\n",
              "      <td>0.167358</td>\n",
              "      <td>-0.278824</td>\n",
              "      <td>7.803797e-01</td>\n",
              "      <td>0.174750</td>\n",
              "      <td>-0.267031</td>\n",
              "      <td>7.894457e-01</td>\n",
              "    </tr>\n",
              "    <tr>\n",
              "      <th>B_price</th>\n",
              "      <td>0.000794</td>\n",
              "      <td>0.000274</td>\n",
              "      <td>2.893848</td>\n",
              "      <td>3.805528e-03</td>\n",
              "      <td>0.000289</td>\n",
              "      <td>2.744581</td>\n",
              "      <td>6.058818e-03</td>\n",
              "    </tr>\n",
              "    <tr>\n",
              "      <th>delta_2</th>\n",
              "      <td>1.921617</td>\n",
              "      <td>0.087904</td>\n",
              "      <td>21.860342</td>\n",
              "      <td>0.000000e+00</td>\n",
              "      <td>0.087542</td>\n",
              "      <td>21.950819</td>\n",
              "      <td>0.000000e+00</td>\n",
              "    </tr>\n",
              "    <tr>\n",
              "      <th>delta_3</th>\n",
              "      <td>0.609226</td>\n",
              "      <td>0.042812</td>\n",
              "      <td>14.230393</td>\n",
              "      <td>0.000000e+00</td>\n",
              "      <td>0.042970</td>\n",
              "      <td>14.177963</td>\n",
              "      <td>0.000000e+00</td>\n",
              "    </tr>\n",
              "    <tr>\n",
              "      <th>tau1</th>\n",
              "      <td>-1.455434</td>\n",
              "      <td>0.058527</td>\n",
              "      <td>-24.867737</td>\n",
              "      <td>0.000000e+00</td>\n",
              "      <td>0.060283</td>\n",
              "      <td>-24.143185</td>\n",
              "      <td>0.000000e+00</td>\n",
              "    </tr>\n",
              "  </tbody>\n",
              "</table>\n",
              "</div>"
            ],
            "text/plain": [
              "            Value   Std err     t-test  ...  Rob. Std err  Rob. t-test  Rob. p-value\n",
              "ASC_ord  0.455434  0.058527   7.781605  ...      0.060283     7.554879  4.196643e-14\n",
              "B_catch -0.046664  0.167358  -0.278824  ...      0.174750    -0.267031  7.894457e-01\n",
              "B_price  0.000794  0.000274   2.893848  ...      0.000289     2.744581  6.058818e-03\n",
              "delta_2  1.921617  0.087904  21.860342  ...      0.087542    21.950819  0.000000e+00\n",
              "delta_3  0.609226  0.042812  14.230393  ...      0.042970    14.177963  0.000000e+00\n",
              "tau1    -1.455434  0.058527 -24.867737  ...      0.060283   -24.143185  0.000000e+00\n",
              "\n",
              "[6 rows x 7 columns]"
            ]
          },
          "metadata": {},
          "execution_count": 36
        }
      ]
    },
    {
      "cell_type": "markdown",
      "metadata": {
        "id": "sNbxuEYn4Q_x"
      },
      "source": [
        "The interpretation of the coefficients is slightly different because there is only one utility, therefoe, positive numbers that increase utility make the alternatives later in our specific order more likely. The interpretation of the cutoff points tau1 would be the fist cutoff, then tau2 would be tau1+delta_2, tau3 = tau2 + delta_3 and so on. Given the expression of the logit, it is difficult to get some clear intuition on the differences here, it is better to look at the predicions/simuations directly."
      ]
    },
    {
      "cell_type": "code",
      "metadata": {
        "colab": {
          "base_uri": "https://localhost:8080/",
          "height": 417
        },
        "id": "fABfvyZnXfy0",
        "outputId": "b474c8e8-0d7e-42cb-c3e0-b91fc3113da3"
      },
      "source": [
        "qbus_simulate_bgm(qord_model, qord_results.getBetaValues(), data_pd)"
      ],
      "execution_count": 37,
      "outputs": [
        {
          "output_type": "execute_result",
          "data": {
            "text/html": [
              "<div>\n",
              "<style scoped>\n",
              "    .dataframe tbody tr th:only-of-type {\n",
              "        vertical-align: middle;\n",
              "    }\n",
              "\n",
              "    .dataframe tbody tr th {\n",
              "        vertical-align: top;\n",
              "    }\n",
              "\n",
              "    .dataframe thead th {\n",
              "        text-align: right;\n",
              "    }\n",
              "</style>\n",
              "<table border=\"1\" class=\"dataframe\">\n",
              "  <thead>\n",
              "    <tr style=\"text-align: right;\">\n",
              "      <th></th>\n",
              "      <th>1</th>\n",
              "      <th>3</th>\n",
              "      <th>2</th>\n",
              "      <th>4</th>\n",
              "    </tr>\n",
              "  </thead>\n",
              "  <tbody>\n",
              "    <tr>\n",
              "      <th>0</th>\n",
              "      <td>0.103755</td>\n",
              "      <td>0.337871</td>\n",
              "      <td>0.150959</td>\n",
              "      <td>0.407416</td>\n",
              "    </tr>\n",
              "    <tr>\n",
              "      <th>1</th>\n",
              "      <td>0.126986</td>\n",
              "      <td>0.371450</td>\n",
              "      <td>0.147900</td>\n",
              "      <td>0.353664</td>\n",
              "    </tr>\n",
              "    <tr>\n",
              "      <th>2</th>\n",
              "      <td>0.106979</td>\n",
              "      <td>0.343098</td>\n",
              "      <td>0.150739</td>\n",
              "      <td>0.399183</td>\n",
              "    </tr>\n",
              "    <tr>\n",
              "      <th>3</th>\n",
              "      <td>0.126966</td>\n",
              "      <td>0.371424</td>\n",
              "      <td>0.147904</td>\n",
              "      <td>0.353707</td>\n",
              "    </tr>\n",
              "    <tr>\n",
              "      <th>4</th>\n",
              "      <td>0.111532</td>\n",
              "      <td>0.350151</td>\n",
              "      <td>0.150300</td>\n",
              "      <td>0.388016</td>\n",
              "    </tr>\n",
              "    <tr>\n",
              "      <th>...</th>\n",
              "      <td>...</td>\n",
              "      <td>...</td>\n",
              "      <td>...</td>\n",
              "      <td>...</td>\n",
              "    </tr>\n",
              "    <tr>\n",
              "      <th>1177</th>\n",
              "      <td>0.108758</td>\n",
              "      <td>0.345899</td>\n",
              "      <td>0.150585</td>\n",
              "      <td>0.394758</td>\n",
              "    </tr>\n",
              "    <tr>\n",
              "      <th>1178</th>\n",
              "      <td>0.096320</td>\n",
              "      <td>0.325042</td>\n",
              "      <td>0.151134</td>\n",
              "      <td>0.427505</td>\n",
              "    </tr>\n",
              "    <tr>\n",
              "      <th>1179</th>\n",
              "      <td>0.122585</td>\n",
              "      <td>0.365778</td>\n",
              "      <td>0.148707</td>\n",
              "      <td>0.362930</td>\n",
              "    </tr>\n",
              "    <tr>\n",
              "      <th>1180</th>\n",
              "      <td>0.127520</td>\n",
              "      <td>0.372117</td>\n",
              "      <td>0.147796</td>\n",
              "      <td>0.352567</td>\n",
              "    </tr>\n",
              "    <tr>\n",
              "      <th>1181</th>\n",
              "      <td>0.080775</td>\n",
              "      <td>0.294361</td>\n",
              "      <td>0.149589</td>\n",
              "      <td>0.475274</td>\n",
              "    </tr>\n",
              "  </tbody>\n",
              "</table>\n",
              "<p>1182 rows × 4 columns</p>\n",
              "</div>"
            ],
            "text/plain": [
              "             1         3         2         4\n",
              "0     0.103755  0.337871  0.150959  0.407416\n",
              "1     0.126986  0.371450  0.147900  0.353664\n",
              "2     0.106979  0.343098  0.150739  0.399183\n",
              "3     0.126966  0.371424  0.147904  0.353707\n",
              "4     0.111532  0.350151  0.150300  0.388016\n",
              "...        ...       ...       ...       ...\n",
              "1177  0.108758  0.345899  0.150585  0.394758\n",
              "1178  0.096320  0.325042  0.151134  0.427505\n",
              "1179  0.122585  0.365778  0.148707  0.362930\n",
              "1180  0.127520  0.372117  0.147796  0.352567\n",
              "1181  0.080775  0.294361  0.149589  0.475274\n",
              "\n",
              "[1182 rows x 4 columns]"
            ]
          },
          "metadata": {},
          "execution_count": 37
        }
      ]
    },
    {
      "cell_type": "markdown",
      "metadata": {
        "id": "CMIr-VivFLcd"
      },
      "source": [
        "---\n",
        "---\n",
        "\n",
        "# Ordered Logit question: Finding the order"
      ]
    },
    {
      "cell_type": "markdown",
      "metadata": {
        "id": "rNMC4bMyFSSr"
      },
      "source": [
        "The situation when several possible orders seem 'reasonable' is a bi far-fetched, but it is also simple to test. We can use Akaike."
      ]
    },
    {
      "cell_type": "code",
      "metadata": {
        "id": "svlTSEm7FjjQ"
      },
      "source": [
        "qord_model_na, qord_results_na = qbus_estimate_ordered_bgm(V_ord, [2,4,3,1], data_pd, 'mode')"
      ],
      "execution_count": 38,
      "outputs": []
    },
    {
      "cell_type": "code",
      "metadata": {
        "colab": {
          "base_uri": "https://localhost:8080/"
        },
        "id": "RoavYJm2Gt_r",
        "outputId": "0a91bab4-5c8f-47ea-db24-a6587ba39684"
      },
      "source": [
        "qord_results_na.getGeneralStatistics()"
      ],
      "execution_count": 39,
      "outputs": [
        {
          "output_type": "execute_result",
          "data": {
            "text/plain": [
              "{'Akaike Information Criterion': (2985.909279383948, '.7g'),\n",
              " 'Bayesian Information Criterion': (3016.3590585717443, '.7g'),\n",
              " 'Excluded observations': (0, ''),\n",
              " 'Final gradient norm': (0.000955210400516675, '.4E'),\n",
              " 'Final log likelihood': (-1486.954639691974, '.7g'),\n",
              " 'Init log likelihood': (-1778.778200033079, '.7g'),\n",
              " 'Likelihood ratio test for the init. model': (583.6471206822098, '.7g'),\n",
              " 'Nbr of threads': (2, ''),\n",
              " 'Number of estimated parameters': (6, ''),\n",
              " 'Rho-square for the init. model': (0.1640584308575842, '.3g'),\n",
              " 'Rho-square-bar for the init. model': (0.1606853290285375, '.3g'),\n",
              " 'Sample size': (1182, '')}"
            ]
          },
          "metadata": {},
          "execution_count": 39
        }
      ]
    },
    {
      "cell_type": "markdown",
      "metadata": {
        "id": "r9EhT_3uHTdw"
      },
      "source": [
        "We see the new order is better than the original, but both orders are really bad ideas..."
      ]
    },
    {
      "cell_type": "code",
      "metadata": {
        "colab": {
          "base_uri": "https://localhost:8080/"
        },
        "id": "sWUD5E6xFzW2",
        "outputId": "4813bba8-d1f6-4111-d73d-2f60f83a94ea"
      },
      "source": [
        "qord_results_na.data.akaike"
      ],
      "execution_count": 40,
      "outputs": [
        {
          "output_type": "execute_result",
          "data": {
            "text/plain": [
              "2985.909279383948"
            ]
          },
          "metadata": {},
          "execution_count": 40
        }
      ]
    },
    {
      "cell_type": "code",
      "metadata": {
        "colab": {
          "base_uri": "https://localhost:8080/"
        },
        "id": "mPEpJXqfF4df",
        "outputId": "657d6387-14f3-4b17-8251-80f206c6b229"
      },
      "source": [
        "qord_results.data.akaike"
      ],
      "execution_count": 41,
      "outputs": [
        {
          "output_type": "execute_result",
          "data": {
            "text/plain": [
              "2998.539958503067"
            ]
          },
          "metadata": {},
          "execution_count": 41
        }
      ]
    },
    {
      "cell_type": "code",
      "metadata": {
        "colab": {
          "base_uri": "https://localhost:8080/"
        },
        "id": "XOXPOrMcF6Ts",
        "outputId": "deee9839-0248-4efb-c8cd-064cb167bd00"
      },
      "source": [
        "results_base.data.akaike"
      ],
      "execution_count": 42,
      "outputs": [
        {
          "output_type": "execute_result",
          "data": {
            "text/plain": [
              "2471.5676612704906"
            ]
          },
          "metadata": {},
          "execution_count": 42
        }
      ]
    },
    {
      "cell_type": "markdown",
      "metadata": {
        "id": "xojh_NlC5q4K"
      },
      "source": [
        "---\n",
        "---\n",
        "\n",
        "\n",
        "# Panel and mixed logit questions\n",
        "\n",
        "We do not have auxiliary functions for the mixed model (yet) so we have to estimate it manually. We will go back to the Swissmetro dataset because it shows a nice result."
      ]
    },
    {
      "cell_type": "markdown",
      "metadata": {
        "id": "szu60o6XIbWO"
      },
      "source": [
        "# Panel and mixed logit questions: Panel vs Nonpanel\n",
        "\n",
        "What happens when we include the panel information?"
      ]
    },
    {
      "cell_type": "markdown",
      "metadata": {
        "id": "jD__NLr8LQwQ"
      },
      "source": [
        "Toggle `do_PANEL` and the Runtime -> Run After from here to check the differences."
      ]
    },
    {
      "cell_type": "code",
      "metadata": {
        "id": "cRZVLGPaJcB1"
      },
      "source": [
        "do_PANEL = True"
      ],
      "execution_count": 43,
      "outputs": []
    },
    {
      "cell_type": "code",
      "metadata": {
        "id": "g9reskyw5tc_"
      },
      "source": [
        "#path = 'https://raw.githubusercontent.com/pmontman/pub-choicemodels/main/data/catsup.csv'\n",
        "#data_pd = pd.read_csv(path)\n",
        "data_pd = pd.read_csv('http://transp-or.epfl.ch/data/swissmetro.dat', sep='\\t')\n",
        "\n",
        "#data_pd"
      ],
      "execution_count": 44,
      "outputs": []
    },
    {
      "cell_type": "markdown",
      "metadata": {
        "id": "lVPiQ_-jIbqX"
      },
      "source": [
        "The basic cleanup of the Swissmetro dataset, remove invalid choices (0s in the CHOICE variable)"
      ]
    },
    {
      "cell_type": "code",
      "metadata": {
        "id": "sgKwm2N65v5X"
      },
      "source": [
        "data_pd = data_pd[ data_pd['CHOICE'] > 0]\n",
        "data_bgm = db.Database(\"swiss\", data_pd)"
      ],
      "execution_count": 45,
      "outputs": []
    },
    {
      "cell_type": "code",
      "metadata": {
        "id": "--4ijyk57j6-"
      },
      "source": [
        "globals().update(data_bgm.variables)"
      ],
      "execution_count": 46,
      "outputs": []
    },
    {
      "cell_type": "code",
      "metadata": {
        "id": "BcPiXMUN6E61"
      },
      "source": [
        "if (do_PANEL):\n",
        " data_bgm.panel(\"ID\")"
      ],
      "execution_count": 47,
      "outputs": []
    },
    {
      "cell_type": "code",
      "metadata": {
        "id": "7WXxOSCH6NTR"
      },
      "source": [
        "ASC_CAR = exp.Beta ( 'ASC_CAR' ,0, None , None ,0)\n",
        "ASC_TRAIN = exp.Beta ( 'ASC_TRAIN' ,0, None , None ,0)\n",
        "ASC_SM = exp.Beta ( 'ASC_SM' ,0, None , None ,1)\n",
        "B_TIME = exp.Beta ( 'B_TIME' ,0, None , None ,0)\n",
        "B_COST = exp.Beta ( 'B_COST' ,0, None , None ,0)"
      ],
      "execution_count": 48,
      "outputs": []
    },
    {
      "cell_type": "code",
      "metadata": {
        "id": "xdkAY4nb7L8s"
      },
      "source": [
        "V1 = ASC_TRAIN + B_TIME * TRAIN_TT + B_COST * TRAIN_CO \n",
        "V2 = ASC_SM + B_TIME * SM_TT + B_COST * SM_CO \n",
        "V3 = ASC_CAR + B_TIME * CAR_TT + B_COST * CAR_CO"
      ],
      "execution_count": 49,
      "outputs": []
    },
    {
      "cell_type": "code",
      "metadata": {
        "id": "BvK71R587Oqa"
      },
      "source": [
        "V = {1: V1 ,\n",
        "2: V2 ,\n",
        "3: V3 }"
      ],
      "execution_count": 50,
      "outputs": []
    },
    {
      "cell_type": "code",
      "metadata": {
        "id": "PPe-B7Os7QcZ"
      },
      "source": [
        "av = {1: TRAIN_AV,\n",
        "2: SM_AV,\n",
        "3: CAR_AV }"
      ],
      "execution_count": 51,
      "outputs": []
    },
    {
      "cell_type": "code",
      "metadata": {
        "id": "orKX23f-7XPE"
      },
      "source": [
        "logprob = models.loglogit (V , av , CHOICE )\n",
        "bgm_model = bio.BIOGEME ( data_bgm, logprob )\n",
        "results = bgm_model.estimate()"
      ],
      "execution_count": 52,
      "outputs": []
    },
    {
      "cell_type": "code",
      "metadata": {
        "colab": {
          "base_uri": "https://localhost:8080/",
          "height": 172
        },
        "id": "yjtQKutD8SpL",
        "outputId": "ef1cf0d1-d790-4913-e1a9-b601e7321651"
      },
      "source": [
        "results.getEstimatedParameters()"
      ],
      "execution_count": 53,
      "outputs": [
        {
          "output_type": "execute_result",
          "data": {
            "text/html": [
              "<div>\n",
              "<style scoped>\n",
              "    .dataframe tbody tr th:only-of-type {\n",
              "        vertical-align: middle;\n",
              "    }\n",
              "\n",
              "    .dataframe tbody tr th {\n",
              "        vertical-align: top;\n",
              "    }\n",
              "\n",
              "    .dataframe thead th {\n",
              "        text-align: right;\n",
              "    }\n",
              "</style>\n",
              "<table border=\"1\" class=\"dataframe\">\n",
              "  <thead>\n",
              "    <tr style=\"text-align: right;\">\n",
              "      <th></th>\n",
              "      <th>Value</th>\n",
              "      <th>Std err</th>\n",
              "      <th>t-test</th>\n",
              "      <th>p-value</th>\n",
              "      <th>Rob. Std err</th>\n",
              "      <th>Rob. t-test</th>\n",
              "      <th>Rob. p-value</th>\n",
              "    </tr>\n",
              "  </thead>\n",
              "  <tbody>\n",
              "    <tr>\n",
              "      <th>ASC_CAR</th>\n",
              "      <td>0.111463</td>\n",
              "      <td>0.097955</td>\n",
              "      <td>1.137891</td>\n",
              "      <td>2.551661e-01</td>\n",
              "      <td>0.151773</td>\n",
              "      <td>0.734403</td>\n",
              "      <td>4.627033e-01</td>\n",
              "    </tr>\n",
              "    <tr>\n",
              "      <th>ASC_TRAIN</th>\n",
              "      <td>-1.171662</td>\n",
              "      <td>0.140207</td>\n",
              "      <td>-8.356658</td>\n",
              "      <td>0.000000e+00</td>\n",
              "      <td>0.221372</td>\n",
              "      <td>-5.292731</td>\n",
              "      <td>1.205028e-07</td>\n",
              "    </tr>\n",
              "    <tr>\n",
              "      <th>B_COST</th>\n",
              "      <td>0.000236</td>\n",
              "      <td>0.000070</td>\n",
              "      <td>3.395428</td>\n",
              "      <td>6.852131e-04</td>\n",
              "      <td>0.000060</td>\n",
              "      <td>3.903901</td>\n",
              "      <td>9.465462e-05</td>\n",
              "    </tr>\n",
              "    <tr>\n",
              "      <th>B_TIME</th>\n",
              "      <td>-0.008579</td>\n",
              "      <td>0.001166</td>\n",
              "      <td>-7.355149</td>\n",
              "      <td>1.907363e-13</td>\n",
              "      <td>0.002397</td>\n",
              "      <td>-3.579591</td>\n",
              "      <td>3.441329e-04</td>\n",
              "    </tr>\n",
              "  </tbody>\n",
              "</table>\n",
              "</div>"
            ],
            "text/plain": [
              "              Value   Std err  ...  Rob. t-test  Rob. p-value\n",
              "ASC_CAR    0.111463  0.097955  ...     0.734403  4.627033e-01\n",
              "ASC_TRAIN -1.171662  0.140207  ...    -5.292731  1.205028e-07\n",
              "B_COST     0.000236  0.000070  ...     3.903901  9.465462e-05\n",
              "B_TIME    -0.008579  0.001166  ...    -3.579591  3.441329e-04\n",
              "\n",
              "[4 rows x 7 columns]"
            ]
          },
          "metadata": {},
          "execution_count": 53
        }
      ]
    },
    {
      "cell_type": "markdown",
      "metadata": {
        "id": "UrV4tm529IaI"
      },
      "source": [
        "---\n",
        "---\n",
        "\n",
        "# Mixed logit question: Estimation"
      ]
    },
    {
      "cell_type": "code",
      "metadata": {
        "id": "Z7Hw5WBL9LQ3"
      },
      "source": [
        "SIGMA_B_COST = exp.Beta('SIGMA_B_COST',0,0,None,0)"
      ],
      "execution_count": 54,
      "outputs": []
    },
    {
      "cell_type": "code",
      "metadata": {
        "id": "DBx826Lk9W62"
      },
      "source": [
        "EC_B_COST = SIGMA_B_COST * exp.bioDraws('EC_B_COST','NORMAL')"
      ],
      "execution_count": 55,
      "outputs": []
    },
    {
      "cell_type": "code",
      "metadata": {
        "id": "ldGX-lTO9ca7"
      },
      "source": [
        "V1 = ASC_TRAIN + B_TIME * TRAIN_TT + (B_COST + EC_B_COST)  * TRAIN_CO \n",
        "V2 = ASC_SM + B_TIME * SM_TT + (B_COST + EC_B_COST) * SM_CO \n",
        "V3 = ASC_CAR + B_TIME * CAR_TT + (B_COST + EC_B_COST) * CAR_CO"
      ],
      "execution_count": 56,
      "outputs": []
    },
    {
      "cell_type": "code",
      "metadata": {
        "id": "8J92EHb_-U5t"
      },
      "source": [
        "V = {1: V1, 2:V2, 3:V3}"
      ],
      "execution_count": 57,
      "outputs": []
    },
    {
      "cell_type": "code",
      "metadata": {
        "id": "mrU6ylTf98ff"
      },
      "source": [
        "obsprob = models.logit(V, av, CHOICE)\n"
      ],
      "execution_count": 58,
      "outputs": []
    },
    {
      "cell_type": "code",
      "metadata": {
        "id": "BMrTTiT7uizv"
      },
      "source": [
        "if (do_PANEL):\n",
        " condprobIndiv = exp.PanelLikelihoodTrajectory(obsprob)\n",
        "else:\n",
        " condprobIndiv = obsprob"
      ],
      "execution_count": 59,
      "outputs": []
    },
    {
      "cell_type": "code",
      "metadata": {
        "id": "O7vqM0O9YwVz"
      },
      "source": [
        "#condprobIndiv = exp.PanelLikelihoodTrajectory(obsprob)"
      ],
      "execution_count": 60,
      "outputs": []
    },
    {
      "cell_type": "markdown",
      "metadata": {
        "id": "UfPNY5auywhh"
      },
      "source": [
        "And Step 2 we take the model and the modifying it by the expresion `exp.MonteCarlo`. The final log it to take the loglikelihood."
      ]
    },
    {
      "cell_type": "code",
      "metadata": {
        "id": "PS69PxS9yAGG"
      },
      "source": [
        "logprob = exp.log(exp.MonteCarlo(condprobIndiv))"
      ],
      "execution_count": 61,
      "outputs": []
    },
    {
      "cell_type": "markdown",
      "metadata": {
        "id": "MRtpFZRayEde"
      },
      "source": [
        "We we are using simulation, we have to tell biogeme how many draws from the distribution are we going to generate. The more draws, the more accurate estimation, but it is compuationally costly.\n",
        "\n",
        "We also set up a seed, so we can get the same results if the run the notebook again (setting up a seed is a good habit in general)"
      ]
    },
    {
      "cell_type": "code",
      "metadata": {
        "id": "iQ4kHXoaxoY8"
      },
      "source": [
        "\n",
        "# Create the Biogeme object\n",
        "biogeme  = bio.BIOGEME(data_bgm,logprob,numberOfDraws=50, seed=1)\n"
      ],
      "execution_count": 62,
      "outputs": []
    },
    {
      "cell_type": "code",
      "metadata": {
        "id": "lQpnVVzO-CAM"
      },
      "source": [
        "results_mixed = biogeme.estimate()"
      ],
      "execution_count": 63,
      "outputs": []
    },
    {
      "cell_type": "code",
      "metadata": {
        "colab": {
          "base_uri": "https://localhost:8080/",
          "height": 203
        },
        "id": "SGdjIPQM-G9u",
        "outputId": "f5df4331-aac9-4ad0-c10c-68fb511ef197"
      },
      "source": [
        "results_mixed.getEstimatedParameters()"
      ],
      "execution_count": 64,
      "outputs": [
        {
          "output_type": "execute_result",
          "data": {
            "text/html": [
              "<div>\n",
              "<style scoped>\n",
              "    .dataframe tbody tr th:only-of-type {\n",
              "        vertical-align: middle;\n",
              "    }\n",
              "\n",
              "    .dataframe tbody tr th {\n",
              "        vertical-align: top;\n",
              "    }\n",
              "\n",
              "    .dataframe thead th {\n",
              "        text-align: right;\n",
              "    }\n",
              "</style>\n",
              "<table border=\"1\" class=\"dataframe\">\n",
              "  <thead>\n",
              "    <tr style=\"text-align: right;\">\n",
              "      <th></th>\n",
              "      <th>Value</th>\n",
              "      <th>Std err</th>\n",
              "      <th>t-test</th>\n",
              "      <th>p-value</th>\n",
              "      <th>Rob. Std err</th>\n",
              "      <th>Rob. t-test</th>\n",
              "      <th>Rob. p-value</th>\n",
              "    </tr>\n",
              "  </thead>\n",
              "  <tbody>\n",
              "    <tr>\n",
              "      <th>ASC_CAR</th>\n",
              "      <td>0.027109</td>\n",
              "      <td>1.491668e-155</td>\n",
              "      <td>1.817356e+153</td>\n",
              "      <td>0.0</td>\n",
              "      <td>0.0</td>\n",
              "      <td>1.797693e+308</td>\n",
              "      <td>0.0</td>\n",
              "    </tr>\n",
              "    <tr>\n",
              "      <th>ASC_TRAIN</th>\n",
              "      <td>-0.721633</td>\n",
              "      <td>1.491668e-155</td>\n",
              "      <td>-4.837758e+154</td>\n",
              "      <td>0.0</td>\n",
              "      <td>0.0</td>\n",
              "      <td>1.797693e+308</td>\n",
              "      <td>0.0</td>\n",
              "    </tr>\n",
              "    <tr>\n",
              "      <th>B_COST</th>\n",
              "      <td>-0.010624</td>\n",
              "      <td>1.491668e-155</td>\n",
              "      <td>-7.122532e+152</td>\n",
              "      <td>0.0</td>\n",
              "      <td>0.0</td>\n",
              "      <td>1.797693e+308</td>\n",
              "      <td>0.0</td>\n",
              "    </tr>\n",
              "    <tr>\n",
              "      <th>B_TIME</th>\n",
              "      <td>-0.016584</td>\n",
              "      <td>1.491668e-155</td>\n",
              "      <td>-1.111781e+153</td>\n",
              "      <td>0.0</td>\n",
              "      <td>0.0</td>\n",
              "      <td>1.797693e+308</td>\n",
              "      <td>0.0</td>\n",
              "    </tr>\n",
              "    <tr>\n",
              "      <th>SIGMA_B_COST</th>\n",
              "      <td>0.019808</td>\n",
              "      <td>1.491668e-155</td>\n",
              "      <td>1.327940e+153</td>\n",
              "      <td>0.0</td>\n",
              "      <td>0.0</td>\n",
              "      <td>1.797693e+308</td>\n",
              "      <td>0.0</td>\n",
              "    </tr>\n",
              "  </tbody>\n",
              "</table>\n",
              "</div>"
            ],
            "text/plain": [
              "                 Value        Std err  ...    Rob. t-test  Rob. p-value\n",
              "ASC_CAR       0.027109  1.491668e-155  ...  1.797693e+308           0.0\n",
              "ASC_TRAIN    -0.721633  1.491668e-155  ...  1.797693e+308           0.0\n",
              "B_COST       -0.010624  1.491668e-155  ...  1.797693e+308           0.0\n",
              "B_TIME       -0.016584  1.491668e-155  ...  1.797693e+308           0.0\n",
              "SIGMA_B_COST  0.019808  1.491668e-155  ...  1.797693e+308           0.0\n",
              "\n",
              "[5 rows x 7 columns]"
            ]
          },
          "metadata": {},
          "execution_count": 64
        }
      ]
    },
    {
      "cell_type": "markdown",
      "metadata": {
        "id": "2S7TvfbZ-mH1"
      },
      "source": [
        "---\n",
        "---\n",
        "\n",
        "# Mixed Logit question: Interpretation of the distribution of a parameter"
      ]
    },
    {
      "cell_type": "markdown",
      "metadata": {
        "id": "Jf69M46IAnC6"
      },
      "source": [
        "* The main interpretation is the understanding that parameters are 'random' so the output is an estimation of the probability distribution of the parameters, in this case COST follows a normal $N(-0.0106, 0.020^2)$.\n",
        "\n",
        "* Secondary interpretations are doing 'something' with the distribution. \n",
        " For example: **What percentage of people in the population have a cost parameter that is positive?**"
      ]
    },
    {
      "cell_type": "code",
      "metadata": {
        "colab": {
          "base_uri": "https://localhost:8080/"
        },
        "id": "F2JfRHhTBYpn",
        "outputId": "90b61630-4fd2-48fb-bf6a-49be6509e7a1"
      },
      "source": [
        "from scipy.stats import norm\n",
        "\n",
        "1 - norm.cdf(0, results_mixed.getBetaValues()['B_COST'], results_mixed.getBetaValues()['SIGMA_B_COST'])"
      ],
      "execution_count": 65,
      "outputs": [
        {
          "output_type": "execute_result",
          "data": {
            "text/plain": [
              "0.295855117919254"
            ]
          },
          "metadata": {},
          "execution_count": 65
        }
      ]
    }
  ]
}
