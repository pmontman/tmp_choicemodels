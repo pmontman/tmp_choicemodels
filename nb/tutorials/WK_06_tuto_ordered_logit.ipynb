{
  "nbformat": 4,
  "nbformat_minor": 0,
  "metadata": {
    "colab": {
      "name": "tuto_06_ordered_logit",
      "provenance": [],
      "include_colab_link": true
    },
    "kernelspec": {
      "name": "python3",
      "display_name": "Python 3"
    },
    "language_info": {
      "name": "python"
    }
  },
  "cells": [
    {
      "cell_type": "markdown",
      "metadata": {
        "id": "view-in-github",
        "colab_type": "text"
      },
      "source": [
        "<a href=\"https://colab.research.google.com/github/pmontman/tmp_choicemodels/blob/main/nb/tutorials/WK_06_tuto_ordered_logit.ipynb\" target=\"_parent\"><img src=\"https://colab.research.google.com/assets/colab-badge.svg\" alt=\"Open In Colab\"/></a>"
      ]
    },
    {
      "cell_type": "markdown",
      "metadata": {
        "id": "RK_QlIPgbjtB"
      },
      "source": [
        "# Tutorial 6: Ordered Logit\n",
        "\n",
        "We will see an example on how to use biogeme to estimate ordered logit models.\n",
        "\n",
        "We will use the (in)famous 'affairs' dataset, described below.\n",
        "\n",
        "The data comes from a survey from *Psychology Today*, conducted in the year 1969. It describes 'extramarital affairs', specifically, the participants in \n",
        "the survey were asked this question:\n",
        "\n",
        "How often engaged in extramarital sexual intercourse during the past year?\n",
        "\n",
        "With the possible answers:\n",
        "\n",
        "* None\n",
        "* Once\n",
        "* Twice\n",
        "* Three times\n",
        "* 4 to 10 times\n",
        "* Monthly\n",
        "* Weekly\n",
        "* Daily\n",
        "\n",
        "Then by measuring socioeconomic variables of the participants, we could try to model the utility that they receive from having an extramarital affair (or more than one).\n",
        "\n",
        "We can see that this falls perfectly into the ordered logit, the alternatives have a clear notion of order, from less affairs per year to more affairs per year, yet they are not perfectly numerical (which would allow us to use standard regression techniques).\n"
      ]
    },
    {
      "cell_type": "markdown",
      "metadata": {
        "id": "JyzPlsofdvaG"
      },
      "source": [
        "# Description of the dataset\n",
        "\n",
        "A scientific paper making use of the dataset to develop a 'Theory of Extramarial Affairs' can be found [here](https://www.uibk.ac.at/econometrics/data/fair78.pdf).\n",
        "\n",
        "The dataset has 601 observations of the following variables:\n",
        "\n",
        "* **affairs:** The answer to the survey, the answers are encoded with numbers.\n",
        "  0 = None, 1 = Once, 2 = Twice, 3=Three times, 7= 4 to 10 times, 12= monthly, 12 = weekly, 12 = daily.\n",
        "  As we see, the information was encoded in such a way that we lose information about the more frequent answers, and the encoded numbers do not completely coincide with the frequencies. However, there is an ordinal relationship among the possible answer, from less frequent to more frequent. Several categories overlap in how the are described (from monthly to daily).\n",
        "\n",
        "*  **gender:** Categorical variable indicating either male or female among the participants.\n",
        "\n",
        "* **age:** Numeric variable coding age in years: 17.5 = under 20, 22 = 20–24, 27 = 25–29, 32 = 30–34, 37 = 35–39, 42 = 40–44, 47 = 45–49, 52 = 50–54, 57 = 55 or over. \n",
        "\n",
        "* **yearsmarried:** Numeric variable coding number of years married: 0.125 = 3 months or less, 0.417 = 4–6 months, 0.75 = 6 months–1 year, 1.5 = 1–2 years, 4 = 3–5 years, 7 = 6–8 years, 10 = 9–11 years, 15 = 12 or more years.\n",
        "\n",
        "* **children:** Categorical variable indicating if there are children in the marriage.\n",
        "\n",
        "* **religiousness:** Categorical variable indicating how religious in the person, encoded as numbers: 1 = anti, 2 = not at all, 3 = slightly, 4 = somewhat, 5 = very.\n",
        "\n",
        "* **education:**: Categorical variable indicating the level of education. Encoded as numbers: 9 = grade school, 12 = high school graduate, 14 = some college, 16 = college graduate, 17 = some graduate work, 18 = master's degree, 20 = Ph.D., M.D., or other advanced degree.\n",
        "\n",
        "* **occupation:** Categorical variable classifying the profession of the individual. Encoded as numbers, and the meaning of the numbers has been somewhat lost in time. It follows the Hollingshead classification, shown here in this [link.](https://www.researchgate.net/figure/Hollingshead-occupation-and-education-codes_tbl1_236996700)\n",
        "\n",
        "* **rating:** Categorical variable indicating how happy they are with the marriage. Encoded as numbers: 1 = very unhappy, 2 = somewhat unhappy, 3 = average, 4 = happier than average, 5 = very happy."
      ]
    },
    {
      "cell_type": "markdown",
      "metadata": {
        "id": "vb9SIunnASNB"
      },
      "source": [
        "---\n",
        "---\n",
        "\n",
        "# Preparing the environment\n",
        "*The preparation and dataset loading code is given to the students*"
      ]
    },
    {
      "cell_type": "code",
      "metadata": {
        "colab": {
          "base_uri": "https://localhost:8080/"
        },
        "id": "j5zHGhgErHPd",
        "outputId": "595ae467-0a19-49d8-f566-5969a0a5ca00"
      },
      "source": [
        "!pip install biogeme"
      ],
      "execution_count": 49,
      "outputs": [
        {
          "output_type": "stream",
          "name": "stdout",
          "text": [
            "Looking in indexes: https://pypi.org/simple, https://us-python.pkg.dev/colab-wheels/public/simple/\n",
            "Requirement already satisfied: biogeme in /usr/local/lib/python3.7/dist-packages (3.2.10)\n"
          ]
        }
      ]
    },
    {
      "cell_type": "markdown",
      "metadata": {
        "id": "1z0X9xZ8rChf"
      },
      "source": [
        "Load the packages, feel free to change the names."
      ]
    },
    {
      "cell_type": "code",
      "metadata": {
        "id": "apVB-TMkrFnb"
      },
      "source": [
        "import pandas  as pd\n",
        "import numpy as np\n",
        "import matplotlib.pyplot as plt\n",
        "\n",
        "import biogeme.database as db\n",
        "import biogeme.biogeme as bio\n",
        "import biogeme.models as models\n",
        "import biogeme.expressions as exp\n",
        "import biogeme.tools as tools\n",
        "import biogeme.distributions as dist"
      ],
      "execution_count": 50,
      "outputs": []
    },
    {
      "cell_type": "markdown",
      "metadata": {
        "id": "Mgv0hV1YAieW"
      },
      "source": [
        "# Load the dataset"
      ]
    },
    {
      "cell_type": "code",
      "metadata": {
        "id": "g1Ykn5Ytr7Rs"
      },
      "source": [
        "path = 'https://raw.githubusercontent.com/pmontman/pub-choicemodels/main/data/affairs.csv'\n",
        "affairs_pd = pd.read_csv(path)"
      ],
      "execution_count": 51,
      "outputs": []
    },
    {
      "cell_type": "markdown",
      "metadata": {
        "id": "ZY55r3Gesb3t"
      },
      "source": [
        "A simple look at the dataset."
      ]
    },
    {
      "cell_type": "code",
      "metadata": {
        "colab": {
          "base_uri": "https://localhost:8080/",
          "height": 206
        },
        "id": "ldkmnMhssemT",
        "outputId": "cab7a4c5-8a54-476e-cf91-78276d76918a"
      },
      "source": [
        "affairs_pd.head(5)"
      ],
      "execution_count": 52,
      "outputs": [
        {
          "output_type": "execute_result",
          "data": {
            "text/plain": [
              "   affairs  gender   age  yearsmarried children  religiousness  education  \\\n",
              "0        0    male  37.0         10.00       no              3         18   \n",
              "1        0  female  27.0          4.00       no              4         14   \n",
              "2        0  female  32.0         15.00      yes              1         12   \n",
              "3        0    male  57.0         15.00      yes              5         18   \n",
              "4        0    male  22.0          0.75       no              2         17   \n",
              "\n",
              "   occupation  rating  \n",
              "0           7       4  \n",
              "1           6       4  \n",
              "2           1       4  \n",
              "3           6       5  \n",
              "4           6       3  "
            ],
            "text/html": [
              "\n",
              "  <div id=\"df-c8780957-c599-4e33-89cf-caac567b30fa\">\n",
              "    <div class=\"colab-df-container\">\n",
              "      <div>\n",
              "<style scoped>\n",
              "    .dataframe tbody tr th:only-of-type {\n",
              "        vertical-align: middle;\n",
              "    }\n",
              "\n",
              "    .dataframe tbody tr th {\n",
              "        vertical-align: top;\n",
              "    }\n",
              "\n",
              "    .dataframe thead th {\n",
              "        text-align: right;\n",
              "    }\n",
              "</style>\n",
              "<table border=\"1\" class=\"dataframe\">\n",
              "  <thead>\n",
              "    <tr style=\"text-align: right;\">\n",
              "      <th></th>\n",
              "      <th>affairs</th>\n",
              "      <th>gender</th>\n",
              "      <th>age</th>\n",
              "      <th>yearsmarried</th>\n",
              "      <th>children</th>\n",
              "      <th>religiousness</th>\n",
              "      <th>education</th>\n",
              "      <th>occupation</th>\n",
              "      <th>rating</th>\n",
              "    </tr>\n",
              "  </thead>\n",
              "  <tbody>\n",
              "    <tr>\n",
              "      <th>0</th>\n",
              "      <td>0</td>\n",
              "      <td>male</td>\n",
              "      <td>37.0</td>\n",
              "      <td>10.00</td>\n",
              "      <td>no</td>\n",
              "      <td>3</td>\n",
              "      <td>18</td>\n",
              "      <td>7</td>\n",
              "      <td>4</td>\n",
              "    </tr>\n",
              "    <tr>\n",
              "      <th>1</th>\n",
              "      <td>0</td>\n",
              "      <td>female</td>\n",
              "      <td>27.0</td>\n",
              "      <td>4.00</td>\n",
              "      <td>no</td>\n",
              "      <td>4</td>\n",
              "      <td>14</td>\n",
              "      <td>6</td>\n",
              "      <td>4</td>\n",
              "    </tr>\n",
              "    <tr>\n",
              "      <th>2</th>\n",
              "      <td>0</td>\n",
              "      <td>female</td>\n",
              "      <td>32.0</td>\n",
              "      <td>15.00</td>\n",
              "      <td>yes</td>\n",
              "      <td>1</td>\n",
              "      <td>12</td>\n",
              "      <td>1</td>\n",
              "      <td>4</td>\n",
              "    </tr>\n",
              "    <tr>\n",
              "      <th>3</th>\n",
              "      <td>0</td>\n",
              "      <td>male</td>\n",
              "      <td>57.0</td>\n",
              "      <td>15.00</td>\n",
              "      <td>yes</td>\n",
              "      <td>5</td>\n",
              "      <td>18</td>\n",
              "      <td>6</td>\n",
              "      <td>5</td>\n",
              "    </tr>\n",
              "    <tr>\n",
              "      <th>4</th>\n",
              "      <td>0</td>\n",
              "      <td>male</td>\n",
              "      <td>22.0</td>\n",
              "      <td>0.75</td>\n",
              "      <td>no</td>\n",
              "      <td>2</td>\n",
              "      <td>17</td>\n",
              "      <td>6</td>\n",
              "      <td>3</td>\n",
              "    </tr>\n",
              "  </tbody>\n",
              "</table>\n",
              "</div>\n",
              "      <button class=\"colab-df-convert\" onclick=\"convertToInteractive('df-c8780957-c599-4e33-89cf-caac567b30fa')\"\n",
              "              title=\"Convert this dataframe to an interactive table.\"\n",
              "              style=\"display:none;\">\n",
              "        \n",
              "  <svg xmlns=\"http://www.w3.org/2000/svg\" height=\"24px\"viewBox=\"0 0 24 24\"\n",
              "       width=\"24px\">\n",
              "    <path d=\"M0 0h24v24H0V0z\" fill=\"none\"/>\n",
              "    <path d=\"M18.56 5.44l.94 2.06.94-2.06 2.06-.94-2.06-.94-.94-2.06-.94 2.06-2.06.94zm-11 1L8.5 8.5l.94-2.06 2.06-.94-2.06-.94L8.5 2.5l-.94 2.06-2.06.94zm10 10l.94 2.06.94-2.06 2.06-.94-2.06-.94-.94-2.06-.94 2.06-2.06.94z\"/><path d=\"M17.41 7.96l-1.37-1.37c-.4-.4-.92-.59-1.43-.59-.52 0-1.04.2-1.43.59L10.3 9.45l-7.72 7.72c-.78.78-.78 2.05 0 2.83L4 21.41c.39.39.9.59 1.41.59.51 0 1.02-.2 1.41-.59l7.78-7.78 2.81-2.81c.8-.78.8-2.07 0-2.86zM5.41 20L4 18.59l7.72-7.72 1.47 1.35L5.41 20z\"/>\n",
              "  </svg>\n",
              "      </button>\n",
              "      \n",
              "  <style>\n",
              "    .colab-df-container {\n",
              "      display:flex;\n",
              "      flex-wrap:wrap;\n",
              "      gap: 12px;\n",
              "    }\n",
              "\n",
              "    .colab-df-convert {\n",
              "      background-color: #E8F0FE;\n",
              "      border: none;\n",
              "      border-radius: 50%;\n",
              "      cursor: pointer;\n",
              "      display: none;\n",
              "      fill: #1967D2;\n",
              "      height: 32px;\n",
              "      padding: 0 0 0 0;\n",
              "      width: 32px;\n",
              "    }\n",
              "\n",
              "    .colab-df-convert:hover {\n",
              "      background-color: #E2EBFA;\n",
              "      box-shadow: 0px 1px 2px rgba(60, 64, 67, 0.3), 0px 1px 3px 1px rgba(60, 64, 67, 0.15);\n",
              "      fill: #174EA6;\n",
              "    }\n",
              "\n",
              "    [theme=dark] .colab-df-convert {\n",
              "      background-color: #3B4455;\n",
              "      fill: #D2E3FC;\n",
              "    }\n",
              "\n",
              "    [theme=dark] .colab-df-convert:hover {\n",
              "      background-color: #434B5C;\n",
              "      box-shadow: 0px 1px 3px 1px rgba(0, 0, 0, 0.15);\n",
              "      filter: drop-shadow(0px 1px 2px rgba(0, 0, 0, 0.3));\n",
              "      fill: #FFFFFF;\n",
              "    }\n",
              "  </style>\n",
              "\n",
              "      <script>\n",
              "        const buttonEl =\n",
              "          document.querySelector('#df-c8780957-c599-4e33-89cf-caac567b30fa button.colab-df-convert');\n",
              "        buttonEl.style.display =\n",
              "          google.colab.kernel.accessAllowed ? 'block' : 'none';\n",
              "\n",
              "        async function convertToInteractive(key) {\n",
              "          const element = document.querySelector('#df-c8780957-c599-4e33-89cf-caac567b30fa');\n",
              "          const dataTable =\n",
              "            await google.colab.kernel.invokeFunction('convertToInteractive',\n",
              "                                                     [key], {});\n",
              "          if (!dataTable) return;\n",
              "\n",
              "          const docLinkHtml = 'Like what you see? Visit the ' +\n",
              "            '<a target=\"_blank\" href=https://colab.research.google.com/notebooks/data_table.ipynb>data table notebook</a>'\n",
              "            + ' to learn more about interactive tables.';\n",
              "          element.innerHTML = '';\n",
              "          dataTable['output_type'] = 'display_data';\n",
              "          await google.colab.output.renderOutput(dataTable, element);\n",
              "          const docLink = document.createElement('div');\n",
              "          docLink.innerHTML = docLinkHtml;\n",
              "          element.appendChild(docLink);\n",
              "        }\n",
              "      </script>\n",
              "    </div>\n",
              "  </div>\n",
              "  "
            ]
          },
          "metadata": {},
          "execution_count": 52
        }
      ]
    },
    {
      "cell_type": "markdown",
      "metadata": {
        "id": "75S5mV9mG_i8"
      },
      "source": [
        "# Auxiliary function"
      ]
    },
    {
      "cell_type": "code",
      "metadata": {
        "id": "kkHePFuDHB6L"
      },
      "source": [
        "def qbus_update_globals_bgm(pd_df):\n",
        "   globals().update(db.Database('tmp_bg_bgm_for_glob', pd_df).variables)"
      ],
      "execution_count": 53,
      "outputs": []
    },
    {
      "cell_type": "markdown",
      "metadata": {
        "id": "IT44SQAUAVT5"
      },
      "source": [
        "# Data cleaning: Preparing the dataset for Biogeme"
      ]
    },
    {
      "cell_type": "markdown",
      "metadata": {
        "id": "yTEgKQ0HAY8c"
      },
      "source": [
        "Biogeme does not accept non-numerical variables.\n",
        "\n",
        "\n",
        "We need to transform categorical variables that are not encoded into numbers.\n",
        "The pandas function `factorize()` encodes a variable into integers. In this case, we will get 0 for Male, 1 for Female for the gender variable. We will get 0 for no, 1 for yes in the children varible. This means that we can use the encoding already as dummy variables that can be interpreted as 'isFemale' and 'hasChildren'."
      ]
    },
    {
      "cell_type": "code",
      "metadata": {
        "id": "3161scmJOPG8"
      },
      "source": [
        "affairs_pd['gender'] = affairs_pd['gender'].factorize()[0]\n",
        "affairs_pd['children'] = affairs_pd['children'].factorize()[0]\n"
      ],
      "execution_count": 54,
      "outputs": []
    },
    {
      "cell_type": "markdown",
      "metadata": {
        "id": "7IUIcyRKdyFK"
      },
      "source": [
        "After this transformation, we can already pass the pandas dataframe to biogeme, though be mindful that some variables such as occupation are numeric but should be transformed to dummy. "
      ]
    },
    {
      "cell_type": "markdown",
      "metadata": {
        "id": "TeHgubYpCvHQ"
      },
      "source": [
        "# Ordinal logit with biogeme\n",
        "\n",
        "We will first estimate the ordered logit 'manually' using biogeme, to get a better view of the process and how it is connected to the theory. Later we can create some auxiliary functions to simplify the process."
      ]
    },
    {
      "cell_type": "markdown",
      "metadata": {
        "id": "MDm_MPrPeUek"
      },
      "source": [
        "We start by update the globals as usual."
      ]
    },
    {
      "cell_type": "code",
      "metadata": {
        "id": "Ew1LZzZxGwm6"
      },
      "source": [
        "qbus_update_globals_bgm(affairs_pd)"
      ],
      "execution_count": 55,
      "outputs": []
    },
    {
      "cell_type": "markdown",
      "metadata": {
        "id": "5sV3eJTV_g5M"
      },
      "source": [
        "### Utility function\n",
        "\n",
        "The first step is to create the utility function, an important difference with respect to what we have done in the multinomial logit(MNL) and nested logit is that there will be only one utility function, while in the MNL there is one utility function per alternative.\n",
        "\n",
        "As for the variables, after some consideration (maybe you disagree), we can take\n",
        "the variables religiousness, rating and education as numeric, even though they are categorical. This is because religiousness can be represented as 'intensity' of the belief in religion and education can be roughly interpreted as 'years spent in education'. So for the sake of simplicity"
      ]
    },
    {
      "cell_type": "code",
      "metadata": {
        "id": "YCixV8Ry_lRW"
      },
      "source": [
        "# Parameters to be estimated\n",
        "B_gender = exp.Beta('B_gender', 0, None, None, 0)\n",
        "B_age = exp.Beta('B_age', 0, None, None, 0)\n",
        "B_yearsmarried = exp.Beta('B_yearsmarried', 0, None, None, 0)\n",
        "B_children = exp.Beta('B_children', 0, None, None, 0)\n",
        "B_religiousness = exp.Beta('B_religiousness', 0, None, None, 0)\n",
        "B_education = exp.Beta('B_education', 0, None, None, 0)\n",
        "B_rating = exp.Beta('B_rating', 0, None, None, 0)"
      ],
      "execution_count": 56,
      "outputs": []
    },
    {
      "cell_type": "markdown",
      "metadata": {
        "id": "3iNcMRBlAMzz"
      },
      "source": [
        "Define the one utility function using our familiar syntax.\n",
        "We will simplify and not apply any transformation or interaction, though it might very well improve the fitting."
      ]
    },
    {
      "cell_type": "code",
      "metadata": {
        "id": "2yCQfe0kONS2"
      },
      "source": [
        "V_one = B_gender*gender + B_age*age + B_yearsmarried*yearsmarried + B_children*children + B_religiousness*religiousness + B_education*education + B_rating*rating"
      ],
      "execution_count": 57,
      "outputs": []
    },
    {
      "cell_type": "markdown",
      "metadata": {
        "id": "hCXBaphn__q7"
      },
      "source": [
        "### Cutoff points\n",
        "\n",
        "An important part of the ordinal logit model are the cut-off points, the values that will split the utility into different alternatives. These are being estimated from the data. \n",
        "Remember that we have to impose some order in the cutoff points, this is, tau1\n",
        "is smaller than tau2, tau2 is smaller than tau3 and so on.\n",
        "\n",
        "The way to do this in biogeme (and other estimation software) is to create some 'auxiliary' parameters that can be interpreted as the deltas or differences between taus. These deltas are created with `exp.Beta` as the any other parameter of the model.\n",
        " We impose that the deltas can be estimated, but they have to be greater than 0. Remember that when we define the parameters in Biogeme, one of the arguments of the function `exp.Beta` are the bounds that restrict the range to which the values can be estimated.\n",
        "\n",
        "We can 'recreate' the taus from the deltas, for example, tau2 = tau1 + delta2, tau3 = tau2 + delta3 (or alternatively, tau3 = tau1 + delta2 + delta3).\n",
        "\n",
        "Just to clarify: what we are doing with the deltas is imposing the order in the taus, it is just a trick to impose: all taus are in increasing order, starting from tau1, 'tau1' can have any value, tau2 has to be between tau1 and tau3, tau3 has to be between tau2 and tau4, ..., tau6 has to be between tau5 and +infinity. What we are doing is just a way to pass the information to biogeme."
      ]
    },
    {
      "cell_type": "markdown",
      "metadata": {
        "id": "D-A4gBIjnrx1"
      },
      "source": [
        "In the next cell we declare the taus and the deltas. Notice the third argument in the `exp.Beta` when declaring the deltas is set to 0, the third argument specifies the lower bound in the estimation range. Notice how the taus are defined as the 'taus before them' plus some delta. With the exception of tau1. \n",
        "The default value of tau1 is -1, but this is arbitrary.\n",
        "\n",
        "There next cell will be very verbose, because we have to manually define each of the deltas and taus. This is a candidate to be done automatically in an auxiliary function..."
      ]
    },
    {
      "cell_type": "code",
      "metadata": {
        "id": "5oopOJUIhPir"
      },
      "source": [
        "tau1 = exp.Beta('tau1', -77, None, None, 0)\n",
        "\n",
        "delta2 = exp.Beta('delta2', 1, 0, None, 0)\n",
        "tau2 = tau1 + delta2\n",
        "\n",
        "delta3 = exp.Beta('delta3', 2, 0, None, 0)\n",
        "tau3 = tau2 + delta3\n",
        "\n",
        "delta4 = exp.Beta('delta4', 3, 0, None, 0)\n",
        "tau4 = tau3 + delta4\n",
        "\n",
        "delta5 = exp.Beta('delta5', 4, 0, None, 0)\n",
        "tau5 = tau4 + delta5"
      ],
      "execution_count": 96,
      "outputs": []
    },
    {
      "cell_type": "markdown",
      "metadata": {
        "id": "RX1r3MP8ofRT"
      },
      "source": [
        "What is left to define is the 'model' in the biogeme, the equivalent of the \n",
        "biogeme `models.loglogit` for the multinomial logit. In this case, we have to do it manually (another candidate for auxiliary functions).\n",
        "\n",
        "We define the 'model' in biogeme using a dictionary. The dictionary maps the **values for the choice variable** to the computed choice probabilities. The choice variable here is affairs.\n",
        "\n",
        "In the next cell the function `dist.logisticcdf` is just the name of the logistic transform in biogeme (there is the logistic probability distribution, which the cumulative distribution function 'logisticcdf' being the equivalent logistic transform)."
      ]
    },
    {
      "cell_type": "code",
      "metadata": {
        "id": "oJ5t9uO0r1e6"
      },
      "source": [
        "alt_probs_map = {\n",
        "    0: dist.logisticcdf(tau1 - V_one),\n",
        "    1: dist.logisticcdf(tau2 - V_one) - dist.logisticcdf( tau1 - V_one),\n",
        "    2: dist.logisticcdf(tau3 - V_one) - dist.logisticcdf( tau2 - V_one),\n",
        "    3: dist.logisticcdf(tau4 - V_one) - dist.logisticcdf( tau3 - V_one),\n",
        "    7: dist.logisticcdf(tau5 - V_one) - dist.logisticcdf( tau4 - V_one),\n",
        "    12: 1- dist.logisticcdf(tau5 - V_one)}"
      ],
      "execution_count": 97,
      "outputs": []
    },
    {
      "cell_type": "markdown",
      "metadata": {
        "id": "wUkJwKD2q0IT"
      },
      "source": [
        "Then we take the log of the choice probabilities (for the loglikelihood) and specify which variable in the dataset contains the choice or alternatives."
      ]
    },
    {
      "cell_type": "code",
      "metadata": {
        "id": "QeBx8_WUppUz"
      },
      "source": [
        "\n",
        "logprob = exp.log(exp.Elem(alt_probs_map, affairs))"
      ],
      "execution_count": 98,
      "outputs": []
    },
    {
      "cell_type": "markdown",
      "metadata": {
        "id": "8xhRW4nWq_55"
      },
      "source": [
        "We declare the biogeme object as usual, and we estimate the model."
      ]
    },
    {
      "cell_type": "code",
      "metadata": {
        "id": "BVab7bDjrAME",
        "outputId": "21289dbf-73f7-4646-96f3-aa3de4236b7c",
        "colab": {
          "base_uri": "https://localhost:8080/"
        }
      },
      "source": [
        "affairs_db = db.Database('affairs', affairs_pd)\n",
        "\n",
        "biogeme  = bio.BIOGEME(affairs_db, logprob)\n",
        "\n",
        "results = biogeme.estimate()"
      ],
      "execution_count": 99,
      "outputs": [
        {
          "output_type": "stream",
          "name": "stdout",
          "text": [
            "[04:23:24] < Warning >   You have not defined a name for the model. The output files are named from the model name. The default is [biogemeModelDefaultName]\n"
          ]
        }
      ]
    },
    {
      "cell_type": "markdown",
      "metadata": {
        "id": "3XSav5d4tIB0"
      },
      "source": [
        "And here are the results, for your interpretation!\n",
        "The new part are the taus and deltas. We have tau1, and then the deltas that will allow us to recover the remaining taus. We check tha everything looks OK,all deltas are positive."
      ]
    },
    {
      "cell_type": "code",
      "metadata": {
        "colab": {
          "base_uri": "https://localhost:8080/",
          "height": 426
        },
        "id": "Pi7_6RZ7re2e",
        "outputId": "806da6c0-429a-42a6-e386-47619438d5fc"
      },
      "source": [
        "results.getEstimatedParameters()"
      ],
      "execution_count": 100,
      "outputs": [
        {
          "output_type": "execute_result",
          "data": {
            "text/plain": [
              "                    Value  Rob. Std err  Rob. t-test  Rob. p-value\n",
              "B_age           -0.049739      0.018725    -2.656333  7.899566e-03\n",
              "B_children       0.261857      0.300961     0.870071  3.842619e-01\n",
              "B_education      0.023356      0.045836     0.509556  6.103623e-01\n",
              "B_gender        -0.304126      0.220738    -1.377768  1.682751e-01\n",
              "B_rating        -0.511372      0.090896    -5.625917  1.845250e-08\n",
              "B_religiousness -0.359800      0.091992    -3.911205  9.183687e-05\n",
              "B_yearsmarried   0.120863      0.033328     3.626427  2.873702e-04\n",
              "delta2           0.374719      0.060704     6.172915  6.704242e-10\n",
              "delta3           0.220784      0.052933     4.170973  3.033025e-05\n",
              "delta4           0.279964      0.063055     4.440035  8.994444e-06\n",
              "delta5           0.898868      0.132546     6.781553  1.188916e-11\n",
              "tau1            -2.106607      1.060487    -1.986453  4.698309e-02"
            ],
            "text/html": [
              "\n",
              "  <div id=\"df-b0230c97-d05b-4540-830d-d19fd77b8ad3\">\n",
              "    <div class=\"colab-df-container\">\n",
              "      <div>\n",
              "<style scoped>\n",
              "    .dataframe tbody tr th:only-of-type {\n",
              "        vertical-align: middle;\n",
              "    }\n",
              "\n",
              "    .dataframe tbody tr th {\n",
              "        vertical-align: top;\n",
              "    }\n",
              "\n",
              "    .dataframe thead th {\n",
              "        text-align: right;\n",
              "    }\n",
              "</style>\n",
              "<table border=\"1\" class=\"dataframe\">\n",
              "  <thead>\n",
              "    <tr style=\"text-align: right;\">\n",
              "      <th></th>\n",
              "      <th>Value</th>\n",
              "      <th>Rob. Std err</th>\n",
              "      <th>Rob. t-test</th>\n",
              "      <th>Rob. p-value</th>\n",
              "    </tr>\n",
              "  </thead>\n",
              "  <tbody>\n",
              "    <tr>\n",
              "      <th>B_age</th>\n",
              "      <td>-0.049739</td>\n",
              "      <td>0.018725</td>\n",
              "      <td>-2.656333</td>\n",
              "      <td>7.899566e-03</td>\n",
              "    </tr>\n",
              "    <tr>\n",
              "      <th>B_children</th>\n",
              "      <td>0.261857</td>\n",
              "      <td>0.300961</td>\n",
              "      <td>0.870071</td>\n",
              "      <td>3.842619e-01</td>\n",
              "    </tr>\n",
              "    <tr>\n",
              "      <th>B_education</th>\n",
              "      <td>0.023356</td>\n",
              "      <td>0.045836</td>\n",
              "      <td>0.509556</td>\n",
              "      <td>6.103623e-01</td>\n",
              "    </tr>\n",
              "    <tr>\n",
              "      <th>B_gender</th>\n",
              "      <td>-0.304126</td>\n",
              "      <td>0.220738</td>\n",
              "      <td>-1.377768</td>\n",
              "      <td>1.682751e-01</td>\n",
              "    </tr>\n",
              "    <tr>\n",
              "      <th>B_rating</th>\n",
              "      <td>-0.511372</td>\n",
              "      <td>0.090896</td>\n",
              "      <td>-5.625917</td>\n",
              "      <td>1.845250e-08</td>\n",
              "    </tr>\n",
              "    <tr>\n",
              "      <th>B_religiousness</th>\n",
              "      <td>-0.359800</td>\n",
              "      <td>0.091992</td>\n",
              "      <td>-3.911205</td>\n",
              "      <td>9.183687e-05</td>\n",
              "    </tr>\n",
              "    <tr>\n",
              "      <th>B_yearsmarried</th>\n",
              "      <td>0.120863</td>\n",
              "      <td>0.033328</td>\n",
              "      <td>3.626427</td>\n",
              "      <td>2.873702e-04</td>\n",
              "    </tr>\n",
              "    <tr>\n",
              "      <th>delta2</th>\n",
              "      <td>0.374719</td>\n",
              "      <td>0.060704</td>\n",
              "      <td>6.172915</td>\n",
              "      <td>6.704242e-10</td>\n",
              "    </tr>\n",
              "    <tr>\n",
              "      <th>delta3</th>\n",
              "      <td>0.220784</td>\n",
              "      <td>0.052933</td>\n",
              "      <td>4.170973</td>\n",
              "      <td>3.033025e-05</td>\n",
              "    </tr>\n",
              "    <tr>\n",
              "      <th>delta4</th>\n",
              "      <td>0.279964</td>\n",
              "      <td>0.063055</td>\n",
              "      <td>4.440035</td>\n",
              "      <td>8.994444e-06</td>\n",
              "    </tr>\n",
              "    <tr>\n",
              "      <th>delta5</th>\n",
              "      <td>0.898868</td>\n",
              "      <td>0.132546</td>\n",
              "      <td>6.781553</td>\n",
              "      <td>1.188916e-11</td>\n",
              "    </tr>\n",
              "    <tr>\n",
              "      <th>tau1</th>\n",
              "      <td>-2.106607</td>\n",
              "      <td>1.060487</td>\n",
              "      <td>-1.986453</td>\n",
              "      <td>4.698309e-02</td>\n",
              "    </tr>\n",
              "  </tbody>\n",
              "</table>\n",
              "</div>\n",
              "      <button class=\"colab-df-convert\" onclick=\"convertToInteractive('df-b0230c97-d05b-4540-830d-d19fd77b8ad3')\"\n",
              "              title=\"Convert this dataframe to an interactive table.\"\n",
              "              style=\"display:none;\">\n",
              "        \n",
              "  <svg xmlns=\"http://www.w3.org/2000/svg\" height=\"24px\"viewBox=\"0 0 24 24\"\n",
              "       width=\"24px\">\n",
              "    <path d=\"M0 0h24v24H0V0z\" fill=\"none\"/>\n",
              "    <path d=\"M18.56 5.44l.94 2.06.94-2.06 2.06-.94-2.06-.94-.94-2.06-.94 2.06-2.06.94zm-11 1L8.5 8.5l.94-2.06 2.06-.94-2.06-.94L8.5 2.5l-.94 2.06-2.06.94zm10 10l.94 2.06.94-2.06 2.06-.94-2.06-.94-.94-2.06-.94 2.06-2.06.94z\"/><path d=\"M17.41 7.96l-1.37-1.37c-.4-.4-.92-.59-1.43-.59-.52 0-1.04.2-1.43.59L10.3 9.45l-7.72 7.72c-.78.78-.78 2.05 0 2.83L4 21.41c.39.39.9.59 1.41.59.51 0 1.02-.2 1.41-.59l7.78-7.78 2.81-2.81c.8-.78.8-2.07 0-2.86zM5.41 20L4 18.59l7.72-7.72 1.47 1.35L5.41 20z\"/>\n",
              "  </svg>\n",
              "      </button>\n",
              "      \n",
              "  <style>\n",
              "    .colab-df-container {\n",
              "      display:flex;\n",
              "      flex-wrap:wrap;\n",
              "      gap: 12px;\n",
              "    }\n",
              "\n",
              "    .colab-df-convert {\n",
              "      background-color: #E8F0FE;\n",
              "      border: none;\n",
              "      border-radius: 50%;\n",
              "      cursor: pointer;\n",
              "      display: none;\n",
              "      fill: #1967D2;\n",
              "      height: 32px;\n",
              "      padding: 0 0 0 0;\n",
              "      width: 32px;\n",
              "    }\n",
              "\n",
              "    .colab-df-convert:hover {\n",
              "      background-color: #E2EBFA;\n",
              "      box-shadow: 0px 1px 2px rgba(60, 64, 67, 0.3), 0px 1px 3px 1px rgba(60, 64, 67, 0.15);\n",
              "      fill: #174EA6;\n",
              "    }\n",
              "\n",
              "    [theme=dark] .colab-df-convert {\n",
              "      background-color: #3B4455;\n",
              "      fill: #D2E3FC;\n",
              "    }\n",
              "\n",
              "    [theme=dark] .colab-df-convert:hover {\n",
              "      background-color: #434B5C;\n",
              "      box-shadow: 0px 1px 3px 1px rgba(0, 0, 0, 0.15);\n",
              "      filter: drop-shadow(0px 1px 2px rgba(0, 0, 0, 0.3));\n",
              "      fill: #FFFFFF;\n",
              "    }\n",
              "  </style>\n",
              "\n",
              "      <script>\n",
              "        const buttonEl =\n",
              "          document.querySelector('#df-b0230c97-d05b-4540-830d-d19fd77b8ad3 button.colab-df-convert');\n",
              "        buttonEl.style.display =\n",
              "          google.colab.kernel.accessAllowed ? 'block' : 'none';\n",
              "\n",
              "        async function convertToInteractive(key) {\n",
              "          const element = document.querySelector('#df-b0230c97-d05b-4540-830d-d19fd77b8ad3');\n",
              "          const dataTable =\n",
              "            await google.colab.kernel.invokeFunction('convertToInteractive',\n",
              "                                                     [key], {});\n",
              "          if (!dataTable) return;\n",
              "\n",
              "          const docLinkHtml = 'Like what you see? Visit the ' +\n",
              "            '<a target=\"_blank\" href=https://colab.research.google.com/notebooks/data_table.ipynb>data table notebook</a>'\n",
              "            + ' to learn more about interactive tables.';\n",
              "          element.innerHTML = '';\n",
              "          dataTable['output_type'] = 'display_data';\n",
              "          await google.colab.output.renderOutput(dataTable, element);\n",
              "          const docLink = document.createElement('div');\n",
              "          docLink.innerHTML = docLinkHtml;\n",
              "          element.appendChild(docLink);\n",
              "        }\n",
              "      </script>\n",
              "    </div>\n",
              "  </div>\n",
              "  "
            ]
          },
          "metadata": {},
          "execution_count": 100
        }
      ]
    },
    {
      "cell_type": "markdown",
      "metadata": {
        "id": "XY1uYheKtjlG"
      },
      "source": [
        "Simulation is as usual, pass the biogeme database and the dictionary with the targets to compute. In this case, to get the choice probabilities, we can reuse the `alt_probs_map` dictionary as the targets. \n"
      ]
    },
    {
      "cell_type": "code",
      "metadata": {
        "colab": {
          "base_uri": "https://localhost:8080/",
          "height": 424
        },
        "id": "Z9WSKGKitrpH",
        "outputId": "9cbd19d5-792e-4a31-b035-217cae4e860a"
      },
      "source": [
        "  bgm_pred_model = bio.BIOGEME(affairs_db, alt_probs_map)\n",
        "  simulatedValues = bgm_pred_model.simulate(results.getBetaValues())\n",
        "  simulatedValues"
      ],
      "execution_count": 63,
      "outputs": [
        {
          "output_type": "execute_result",
          "data": {
            "text/plain": [
              "           0         1         2         3         7         12\n",
              "0    0.773761  0.058871  0.028556  0.030216  0.061351  0.047244\n",
              "1    0.901568  0.028615  0.013047  0.013260  0.025331  0.018179\n",
              "2    0.459825  0.093393  0.053724  0.064441  0.162486  0.166131\n",
              "3    0.930193  0.020746  0.009334  0.009407  0.017753  0.012567\n",
              "4    0.679929  0.075573  0.038459  0.042063  0.090043  0.073932\n",
              "..        ...       ...       ...       ...       ...       ...\n",
              "596  0.764997  0.060638  0.029542  0.031352  0.063952  0.049518\n",
              "597  0.660056  0.078461  0.040349  0.044459  0.096347  0.080328\n",
              "598  0.709682  0.070816  0.035485  0.038392  0.080748  0.064877\n",
              "599  0.392028  0.091961  0.055113  0.068370  0.184286  0.208242\n",
              "600  0.735663  0.066247  0.032757  0.035116  0.072779  0.057438\n",
              "\n",
              "[601 rows x 6 columns]"
            ],
            "text/html": [
              "\n",
              "  <div id=\"df-d5d7ceba-8f00-48e1-bc73-eadaad4851f2\">\n",
              "    <div class=\"colab-df-container\">\n",
              "      <div>\n",
              "<style scoped>\n",
              "    .dataframe tbody tr th:only-of-type {\n",
              "        vertical-align: middle;\n",
              "    }\n",
              "\n",
              "    .dataframe tbody tr th {\n",
              "        vertical-align: top;\n",
              "    }\n",
              "\n",
              "    .dataframe thead th {\n",
              "        text-align: right;\n",
              "    }\n",
              "</style>\n",
              "<table border=\"1\" class=\"dataframe\">\n",
              "  <thead>\n",
              "    <tr style=\"text-align: right;\">\n",
              "      <th></th>\n",
              "      <th>0</th>\n",
              "      <th>1</th>\n",
              "      <th>2</th>\n",
              "      <th>3</th>\n",
              "      <th>7</th>\n",
              "      <th>12</th>\n",
              "    </tr>\n",
              "  </thead>\n",
              "  <tbody>\n",
              "    <tr>\n",
              "      <th>0</th>\n",
              "      <td>0.773761</td>\n",
              "      <td>0.058871</td>\n",
              "      <td>0.028556</td>\n",
              "      <td>0.030216</td>\n",
              "      <td>0.061351</td>\n",
              "      <td>0.047244</td>\n",
              "    </tr>\n",
              "    <tr>\n",
              "      <th>1</th>\n",
              "      <td>0.901568</td>\n",
              "      <td>0.028615</td>\n",
              "      <td>0.013047</td>\n",
              "      <td>0.013260</td>\n",
              "      <td>0.025331</td>\n",
              "      <td>0.018179</td>\n",
              "    </tr>\n",
              "    <tr>\n",
              "      <th>2</th>\n",
              "      <td>0.459825</td>\n",
              "      <td>0.093393</td>\n",
              "      <td>0.053724</td>\n",
              "      <td>0.064441</td>\n",
              "      <td>0.162486</td>\n",
              "      <td>0.166131</td>\n",
              "    </tr>\n",
              "    <tr>\n",
              "      <th>3</th>\n",
              "      <td>0.930193</td>\n",
              "      <td>0.020746</td>\n",
              "      <td>0.009334</td>\n",
              "      <td>0.009407</td>\n",
              "      <td>0.017753</td>\n",
              "      <td>0.012567</td>\n",
              "    </tr>\n",
              "    <tr>\n",
              "      <th>4</th>\n",
              "      <td>0.679929</td>\n",
              "      <td>0.075573</td>\n",
              "      <td>0.038459</td>\n",
              "      <td>0.042063</td>\n",
              "      <td>0.090043</td>\n",
              "      <td>0.073932</td>\n",
              "    </tr>\n",
              "    <tr>\n",
              "      <th>...</th>\n",
              "      <td>...</td>\n",
              "      <td>...</td>\n",
              "      <td>...</td>\n",
              "      <td>...</td>\n",
              "      <td>...</td>\n",
              "      <td>...</td>\n",
              "    </tr>\n",
              "    <tr>\n",
              "      <th>596</th>\n",
              "      <td>0.764997</td>\n",
              "      <td>0.060638</td>\n",
              "      <td>0.029542</td>\n",
              "      <td>0.031352</td>\n",
              "      <td>0.063952</td>\n",
              "      <td>0.049518</td>\n",
              "    </tr>\n",
              "    <tr>\n",
              "      <th>597</th>\n",
              "      <td>0.660056</td>\n",
              "      <td>0.078461</td>\n",
              "      <td>0.040349</td>\n",
              "      <td>0.044459</td>\n",
              "      <td>0.096347</td>\n",
              "      <td>0.080328</td>\n",
              "    </tr>\n",
              "    <tr>\n",
              "      <th>598</th>\n",
              "      <td>0.709682</td>\n",
              "      <td>0.070816</td>\n",
              "      <td>0.035485</td>\n",
              "      <td>0.038392</td>\n",
              "      <td>0.080748</td>\n",
              "      <td>0.064877</td>\n",
              "    </tr>\n",
              "    <tr>\n",
              "      <th>599</th>\n",
              "      <td>0.392028</td>\n",
              "      <td>0.091961</td>\n",
              "      <td>0.055113</td>\n",
              "      <td>0.068370</td>\n",
              "      <td>0.184286</td>\n",
              "      <td>0.208242</td>\n",
              "    </tr>\n",
              "    <tr>\n",
              "      <th>600</th>\n",
              "      <td>0.735663</td>\n",
              "      <td>0.066247</td>\n",
              "      <td>0.032757</td>\n",
              "      <td>0.035116</td>\n",
              "      <td>0.072779</td>\n",
              "      <td>0.057438</td>\n",
              "    </tr>\n",
              "  </tbody>\n",
              "</table>\n",
              "<p>601 rows × 6 columns</p>\n",
              "</div>\n",
              "      <button class=\"colab-df-convert\" onclick=\"convertToInteractive('df-d5d7ceba-8f00-48e1-bc73-eadaad4851f2')\"\n",
              "              title=\"Convert this dataframe to an interactive table.\"\n",
              "              style=\"display:none;\">\n",
              "        \n",
              "  <svg xmlns=\"http://www.w3.org/2000/svg\" height=\"24px\"viewBox=\"0 0 24 24\"\n",
              "       width=\"24px\">\n",
              "    <path d=\"M0 0h24v24H0V0z\" fill=\"none\"/>\n",
              "    <path d=\"M18.56 5.44l.94 2.06.94-2.06 2.06-.94-2.06-.94-.94-2.06-.94 2.06-2.06.94zm-11 1L8.5 8.5l.94-2.06 2.06-.94-2.06-.94L8.5 2.5l-.94 2.06-2.06.94zm10 10l.94 2.06.94-2.06 2.06-.94-2.06-.94-.94-2.06-.94 2.06-2.06.94z\"/><path d=\"M17.41 7.96l-1.37-1.37c-.4-.4-.92-.59-1.43-.59-.52 0-1.04.2-1.43.59L10.3 9.45l-7.72 7.72c-.78.78-.78 2.05 0 2.83L4 21.41c.39.39.9.59 1.41.59.51 0 1.02-.2 1.41-.59l7.78-7.78 2.81-2.81c.8-.78.8-2.07 0-2.86zM5.41 20L4 18.59l7.72-7.72 1.47 1.35L5.41 20z\"/>\n",
              "  </svg>\n",
              "      </button>\n",
              "      \n",
              "  <style>\n",
              "    .colab-df-container {\n",
              "      display:flex;\n",
              "      flex-wrap:wrap;\n",
              "      gap: 12px;\n",
              "    }\n",
              "\n",
              "    .colab-df-convert {\n",
              "      background-color: #E8F0FE;\n",
              "      border: none;\n",
              "      border-radius: 50%;\n",
              "      cursor: pointer;\n",
              "      display: none;\n",
              "      fill: #1967D2;\n",
              "      height: 32px;\n",
              "      padding: 0 0 0 0;\n",
              "      width: 32px;\n",
              "    }\n",
              "\n",
              "    .colab-df-convert:hover {\n",
              "      background-color: #E2EBFA;\n",
              "      box-shadow: 0px 1px 2px rgba(60, 64, 67, 0.3), 0px 1px 3px 1px rgba(60, 64, 67, 0.15);\n",
              "      fill: #174EA6;\n",
              "    }\n",
              "\n",
              "    [theme=dark] .colab-df-convert {\n",
              "      background-color: #3B4455;\n",
              "      fill: #D2E3FC;\n",
              "    }\n",
              "\n",
              "    [theme=dark] .colab-df-convert:hover {\n",
              "      background-color: #434B5C;\n",
              "      box-shadow: 0px 1px 3px 1px rgba(0, 0, 0, 0.15);\n",
              "      filter: drop-shadow(0px 1px 2px rgba(0, 0, 0, 0.3));\n",
              "      fill: #FFFFFF;\n",
              "    }\n",
              "  </style>\n",
              "\n",
              "      <script>\n",
              "        const buttonEl =\n",
              "          document.querySelector('#df-d5d7ceba-8f00-48e1-bc73-eadaad4851f2 button.colab-df-convert');\n",
              "        buttonEl.style.display =\n",
              "          google.colab.kernel.accessAllowed ? 'block' : 'none';\n",
              "\n",
              "        async function convertToInteractive(key) {\n",
              "          const element = document.querySelector('#df-d5d7ceba-8f00-48e1-bc73-eadaad4851f2');\n",
              "          const dataTable =\n",
              "            await google.colab.kernel.invokeFunction('convertToInteractive',\n",
              "                                                     [key], {});\n",
              "          if (!dataTable) return;\n",
              "\n",
              "          const docLinkHtml = 'Like what you see? Visit the ' +\n",
              "            '<a target=\"_blank\" href=https://colab.research.google.com/notebooks/data_table.ipynb>data table notebook</a>'\n",
              "            + ' to learn more about interactive tables.';\n",
              "          element.innerHTML = '';\n",
              "          dataTable['output_type'] = 'display_data';\n",
              "          await google.colab.output.renderOutput(dataTable, element);\n",
              "          const docLink = document.createElement('div');\n",
              "          docLink.innerHTML = docLinkHtml;\n",
              "          element.appendChild(docLink);\n",
              "        }\n",
              "      </script>\n",
              "    </div>\n",
              "  </div>\n",
              "  "
            ]
          },
          "metadata": {},
          "execution_count": 63
        }
      ]
    },
    {
      "cell_type": "markdown",
      "metadata": {
        "id": "voYVGcOQuUDR"
      },
      "source": [
        "To simulate the utilities we have to create a dictionary just with the utility funcion. "
      ]
    },
    {
      "cell_type": "code",
      "metadata": {
        "id": "KWhw880muTn9"
      },
      "source": [
        "V_pred_map = {\n",
        "    'util': V_one }"
      ],
      "execution_count": 64,
      "outputs": []
    },
    {
      "cell_type": "markdown",
      "metadata": {
        "id": "GefB4WHovMsh"
      },
      "source": [
        "We do the simulation as usual, notice how the more positive the utility, the more it tends towars more infidelities. This is because we considered arbitrarily to intepret the 'utility that is received from having an affair'. We could have also used the 'utility from being faithful'."
      ]
    },
    {
      "cell_type": "code",
      "metadata": {
        "colab": {
          "base_uri": "https://localhost:8080/",
          "height": 510
        },
        "id": "NvKLl-rAugbT",
        "outputId": "c6f1caaa-4b83-4edf-fb6d-d08af834bf1e"
      },
      "source": [
        "  bgm_pred_util = bio.BIOGEME(affairs_db, V_pred_map)\n",
        "  simulated_util = bgm_pred_util.simulate(results.getBetaValues())\n",
        "  simulated_util"
      ],
      "execution_count": 65,
      "outputs": [
        {
          "output_type": "stream",
          "name": "stdout",
          "text": [
            "[02:59:30] < Warning >   Parameter delta2 not present in the model\n",
            "[02:59:30] < Warning >   Parameter delta3 not present in the model\n",
            "[02:59:30] < Warning >   Parameter delta4 not present in the model\n",
            "[02:59:30] < Warning >   Parameter delta5 not present in the model\n",
            "[02:59:30] < Warning >   Parameter tau1 not present in the model\n"
          ]
        },
        {
          "output_type": "execute_result",
          "data": {
            "text/plain": [
              "         util\n",
              "0   -3.338505\n",
              "1   -4.323595\n",
              "2   -1.947782\n",
              "3   -4.698487\n",
              "4   -2.862278\n",
              "..        ...\n",
              "596 -3.289105\n",
              "597 -2.772374\n",
              "598 -3.002669\n",
              "599 -1.670035\n",
              "600 -3.132376\n",
              "\n",
              "[601 rows x 1 columns]"
            ],
            "text/html": [
              "\n",
              "  <div id=\"df-c05d6838-3f14-438c-969f-4080ff0a6f62\">\n",
              "    <div class=\"colab-df-container\">\n",
              "      <div>\n",
              "<style scoped>\n",
              "    .dataframe tbody tr th:only-of-type {\n",
              "        vertical-align: middle;\n",
              "    }\n",
              "\n",
              "    .dataframe tbody tr th {\n",
              "        vertical-align: top;\n",
              "    }\n",
              "\n",
              "    .dataframe thead th {\n",
              "        text-align: right;\n",
              "    }\n",
              "</style>\n",
              "<table border=\"1\" class=\"dataframe\">\n",
              "  <thead>\n",
              "    <tr style=\"text-align: right;\">\n",
              "      <th></th>\n",
              "      <th>util</th>\n",
              "    </tr>\n",
              "  </thead>\n",
              "  <tbody>\n",
              "    <tr>\n",
              "      <th>0</th>\n",
              "      <td>-3.338505</td>\n",
              "    </tr>\n",
              "    <tr>\n",
              "      <th>1</th>\n",
              "      <td>-4.323595</td>\n",
              "    </tr>\n",
              "    <tr>\n",
              "      <th>2</th>\n",
              "      <td>-1.947782</td>\n",
              "    </tr>\n",
              "    <tr>\n",
              "      <th>3</th>\n",
              "      <td>-4.698487</td>\n",
              "    </tr>\n",
              "    <tr>\n",
              "      <th>4</th>\n",
              "      <td>-2.862278</td>\n",
              "    </tr>\n",
              "    <tr>\n",
              "      <th>...</th>\n",
              "      <td>...</td>\n",
              "    </tr>\n",
              "    <tr>\n",
              "      <th>596</th>\n",
              "      <td>-3.289105</td>\n",
              "    </tr>\n",
              "    <tr>\n",
              "      <th>597</th>\n",
              "      <td>-2.772374</td>\n",
              "    </tr>\n",
              "    <tr>\n",
              "      <th>598</th>\n",
              "      <td>-3.002669</td>\n",
              "    </tr>\n",
              "    <tr>\n",
              "      <th>599</th>\n",
              "      <td>-1.670035</td>\n",
              "    </tr>\n",
              "    <tr>\n",
              "      <th>600</th>\n",
              "      <td>-3.132376</td>\n",
              "    </tr>\n",
              "  </tbody>\n",
              "</table>\n",
              "<p>601 rows × 1 columns</p>\n",
              "</div>\n",
              "      <button class=\"colab-df-convert\" onclick=\"convertToInteractive('df-c05d6838-3f14-438c-969f-4080ff0a6f62')\"\n",
              "              title=\"Convert this dataframe to an interactive table.\"\n",
              "              style=\"display:none;\">\n",
              "        \n",
              "  <svg xmlns=\"http://www.w3.org/2000/svg\" height=\"24px\"viewBox=\"0 0 24 24\"\n",
              "       width=\"24px\">\n",
              "    <path d=\"M0 0h24v24H0V0z\" fill=\"none\"/>\n",
              "    <path d=\"M18.56 5.44l.94 2.06.94-2.06 2.06-.94-2.06-.94-.94-2.06-.94 2.06-2.06.94zm-11 1L8.5 8.5l.94-2.06 2.06-.94-2.06-.94L8.5 2.5l-.94 2.06-2.06.94zm10 10l.94 2.06.94-2.06 2.06-.94-2.06-.94-.94-2.06-.94 2.06-2.06.94z\"/><path d=\"M17.41 7.96l-1.37-1.37c-.4-.4-.92-.59-1.43-.59-.52 0-1.04.2-1.43.59L10.3 9.45l-7.72 7.72c-.78.78-.78 2.05 0 2.83L4 21.41c.39.39.9.59 1.41.59.51 0 1.02-.2 1.41-.59l7.78-7.78 2.81-2.81c.8-.78.8-2.07 0-2.86zM5.41 20L4 18.59l7.72-7.72 1.47 1.35L5.41 20z\"/>\n",
              "  </svg>\n",
              "      </button>\n",
              "      \n",
              "  <style>\n",
              "    .colab-df-container {\n",
              "      display:flex;\n",
              "      flex-wrap:wrap;\n",
              "      gap: 12px;\n",
              "    }\n",
              "\n",
              "    .colab-df-convert {\n",
              "      background-color: #E8F0FE;\n",
              "      border: none;\n",
              "      border-radius: 50%;\n",
              "      cursor: pointer;\n",
              "      display: none;\n",
              "      fill: #1967D2;\n",
              "      height: 32px;\n",
              "      padding: 0 0 0 0;\n",
              "      width: 32px;\n",
              "    }\n",
              "\n",
              "    .colab-df-convert:hover {\n",
              "      background-color: #E2EBFA;\n",
              "      box-shadow: 0px 1px 2px rgba(60, 64, 67, 0.3), 0px 1px 3px 1px rgba(60, 64, 67, 0.15);\n",
              "      fill: #174EA6;\n",
              "    }\n",
              "\n",
              "    [theme=dark] .colab-df-convert {\n",
              "      background-color: #3B4455;\n",
              "      fill: #D2E3FC;\n",
              "    }\n",
              "\n",
              "    [theme=dark] .colab-df-convert:hover {\n",
              "      background-color: #434B5C;\n",
              "      box-shadow: 0px 1px 3px 1px rgba(0, 0, 0, 0.15);\n",
              "      filter: drop-shadow(0px 1px 2px rgba(0, 0, 0, 0.3));\n",
              "      fill: #FFFFFF;\n",
              "    }\n",
              "  </style>\n",
              "\n",
              "      <script>\n",
              "        const buttonEl =\n",
              "          document.querySelector('#df-c05d6838-3f14-438c-969f-4080ff0a6f62 button.colab-df-convert');\n",
              "        buttonEl.style.display =\n",
              "          google.colab.kernel.accessAllowed ? 'block' : 'none';\n",
              "\n",
              "        async function convertToInteractive(key) {\n",
              "          const element = document.querySelector('#df-c05d6838-3f14-438c-969f-4080ff0a6f62');\n",
              "          const dataTable =\n",
              "            await google.colab.kernel.invokeFunction('convertToInteractive',\n",
              "                                                     [key], {});\n",
              "          if (!dataTable) return;\n",
              "\n",
              "          const docLinkHtml = 'Like what you see? Visit the ' +\n",
              "            '<a target=\"_blank\" href=https://colab.research.google.com/notebooks/data_table.ipynb>data table notebook</a>'\n",
              "            + ' to learn more about interactive tables.';\n",
              "          element.innerHTML = '';\n",
              "          dataTable['output_type'] = 'display_data';\n",
              "          await google.colab.output.renderOutput(dataTable, element);\n",
              "          const docLink = document.createElement('div');\n",
              "          docLink.innerHTML = docLinkHtml;\n",
              "          element.appendChild(docLink);\n",
              "        }\n",
              "      </script>\n",
              "    </div>\n",
              "  </div>\n",
              "  "
            ]
          },
          "metadata": {},
          "execution_count": 65
        }
      ]
    },
    {
      "cell_type": "markdown",
      "metadata": {
        "id": "rgw5ORydxFpC"
      },
      "source": [
        "# Exercise 1) Create a more fine tuned ordered logit model, adding a variable transformation\n"
      ]
    },
    {
      "cell_type": "code",
      "metadata": {
        "id": "zMaxCr-52Tme"
      },
      "source": [],
      "execution_count": 65,
      "outputs": []
    },
    {
      "cell_type": "markdown",
      "metadata": {
        "id": "gmp18qrzxrHa"
      },
      "source": [
        "\n",
        "# Exercise 2) Compare the predictions and accuracy of the model tuned in the exposition of the tutorial (before exercise 1) to an equivalent multinomial logit (with the same variables)"
      ]
    },
    {
      "cell_type": "code",
      "metadata": {
        "id": "RQ2l9KA82N-e"
      },
      "source": [],
      "execution_count": 65,
      "outputs": []
    }
  ]
}