{
  "nbformat": 4,
  "nbformat_minor": 0,
  "metadata": {
    "colab": {
      "name": "tuto_06_ordered_logit",
      "provenance": [],
      "include_colab_link": true
    },
    "kernelspec": {
      "name": "python3",
      "display_name": "Python 3"
    },
    "language_info": {
      "name": "python"
    }
  },
  "cells": [
    {
      "cell_type": "markdown",
      "metadata": {
        "id": "view-in-github",
        "colab_type": "text"
      },
      "source": [
        "<a href=\"https://colab.research.google.com/github/pmontman/tmp_choicemodels/blob/main/nb/tutorials/WK_06_tuto_ordered_logit.ipynb\" target=\"_parent\"><img src=\"https://colab.research.google.com/assets/colab-badge.svg\" alt=\"Open In Colab\"/></a>"
      ]
    },
    {
      "cell_type": "markdown",
      "metadata": {
        "id": "RK_QlIPgbjtB"
      },
      "source": [
        "# Tutorial 6: Ordered Logit\n",
        "\n",
        "We will see an example on how to use biogeme to estimate ordered logit models.\n",
        "\n",
        "We will use the (in)famous 'affairs' dataset, described below.\n",
        "\n",
        "The data comes from a survey from *Psychology Today*, conducted in the year 1969. It describes 'extramarital affairs', specifically, the participants in \n",
        "the survey were asked this question:\n",
        "\n",
        "How often engaged in extramarital sexual intercourse during the past year?\n",
        "\n",
        "With the possible answers:\n",
        "\n",
        "* None\n",
        "* Once\n",
        "* Twice\n",
        "* Three times\n",
        "* 4 to 10 times\n",
        "* Monthly\n",
        "* Weekly\n",
        "* Daily\n",
        "\n",
        "Then by measuring socioeconomic variables of the participants, we could try to model the utility that they receive from having an extramarital affair (or more than one).\n",
        "\n",
        "We can see that this falls perfectly into the ordered logit, the alternatives have a clear notion of order, from less affairs per year to more affairs per year, yet they are not perfectly numerical (which would allow us to use standard regression techniques).\n"
      ]
    },
    {
      "cell_type": "markdown",
      "metadata": {
        "id": "JyzPlsofdvaG"
      },
      "source": [
        "# Description of the dataset\n",
        "\n",
        "A scientific paper making use of the dataset to develop a 'Theory of Extramarial Affairs' can be found [here](https://www.uibk.ac.at/econometrics/data/fair78.pdf).\n",
        "\n",
        "The dataset has 601 observations of the following variables:\n",
        "\n",
        "* **affairs:** The answer to the survey, the answers are encoded with numbers.\n",
        "  0 = None, 1 = Once, 2 = Twice, 3=Three times, 7= 4 to 10 times, 12= monthly, 12 = weekly, 12 = daily.\n",
        "  As we see, the information was encoded in such a way that we lose information about the more frequent answers, and the encoded numbers do not completely coincide with the frequencies. However, there is an ordinal relationship among the possible answer, from less frequent to more frequent. Several categories overlap in how the are described (from monthly to daily).\n",
        "\n",
        "*  **gender:** Categorical variable indicating either male or female among the participants.\n",
        "\n",
        "* **age:** Numeric variable coding age in years: 17.5 = under 20, 22 = 20–24, 27 = 25–29, 32 = 30–34, 37 = 35–39, 42 = 40–44, 47 = 45–49, 52 = 50–54, 57 = 55 or over. \n",
        "\n",
        "* **yearsmarried:** Numeric variable coding number of years married: 0.125 = 3 months or less, 0.417 = 4–6 months, 0.75 = 6 months–1 year, 1.5 = 1–2 years, 4 = 3–5 years, 7 = 6–8 years, 10 = 9–11 years, 15 = 12 or more years.\n",
        "\n",
        "* **children:** Categorical variable indicating if there are children in the marriage.\n",
        "\n",
        "* **religiousness:** Categorical variable indicating how religious in the person, encoded as numbers: 1 = anti, 2 = not at all, 3 = slightly, 4 = somewhat, 5 = very.\n",
        "\n",
        "* **education:**: Categorical variable indicating the level of education. Encoded as numbers: 9 = grade school, 12 = high school graduate, 14 = some college, 16 = college graduate, 17 = some graduate work, 18 = master's degree, 20 = Ph.D., M.D., or other advanced degree.\n",
        "\n",
        "* **occupation:** Categorical variable classifying the profession of the individual. Encoded as numbers, and the meaning of the numbers has been somewhat lost in time. But it could be something like the one in this [link.](https://dictionary.fitbir.nih.gov/portal/publicData/dataElementAction!view.action?dataElementName=HollingsheadJobClassCat&publicArea=true)\n",
        "\n",
        "* **rating:** Categorical variable indicating how happy they are with the marriage. Encoded as numbers: 1 = very unhappy, 2 = somewhat unhappy, 3 = average, 4 = happier than average, 5 = very happy."
      ]
    },
    {
      "cell_type": "markdown",
      "metadata": {
        "id": "vb9SIunnASNB"
      },
      "source": [
        "---\n",
        "---\n",
        "\n",
        "# Preparing the environment\n",
        "*The preparation and dataset loading code is given to the students*"
      ]
    },
    {
      "cell_type": "code",
      "metadata": {
        "colab": {
          "base_uri": "https://localhost:8080/"
        },
        "id": "j5zHGhgErHPd",
        "outputId": "64795837-3300-4d88-d7e5-d03b6b61a89d"
      },
      "source": [
        "!pip install biogeme"
      ],
      "execution_count": 1,
      "outputs": [
        {
          "output_type": "stream",
          "name": "stdout",
          "text": [
            "Looking in indexes: https://pypi.org/simple, https://us-python.pkg.dev/colab-wheels/public/simple/\n",
            "Collecting biogeme\n",
            "  Downloading biogeme-3.2.10.tar.gz (1.8 MB)\n",
            "\u001b[K     |████████████████████████████████| 1.8 MB 7.1 MB/s \n",
            "\u001b[?25hBuilding wheels for collected packages: biogeme\n",
            "  Building wheel for biogeme (setup.py) ... \u001b[?25l\u001b[?25hdone\n",
            "  Created wheel for biogeme: filename=biogeme-3.2.10-cp37-cp37m-linux_x86_64.whl size=4253607 sha256=14a10519ff3e119816b4dc6c327de22ff6f15700c03ca99bae1249b56189e0f5\n",
            "  Stored in directory: /root/.cache/pip/wheels/5b/92/9b/63caa7ad9b2cd582de77d3701d10f7e8d041466f4a9d07d554\n",
            "Successfully built biogeme\n",
            "Installing collected packages: biogeme\n",
            "Successfully installed biogeme-3.2.10\n"
          ]
        }
      ]
    },
    {
      "cell_type": "markdown",
      "metadata": {
        "id": "1z0X9xZ8rChf"
      },
      "source": [
        "Load the packages, feel free to change the names."
      ]
    },
    {
      "cell_type": "code",
      "metadata": {
        "id": "apVB-TMkrFnb"
      },
      "source": [
        "import pandas  as pd\n",
        "import numpy as np\n",
        "import matplotlib.pyplot as plt\n",
        "\n",
        "import biogeme.database as db\n",
        "import biogeme.biogeme as bio\n",
        "import biogeme.models as models\n",
        "import biogeme.expressions as exp\n",
        "import biogeme.tools as tools\n",
        "import biogeme.distributions as dist"
      ],
      "execution_count": 2,
      "outputs": []
    },
    {
      "cell_type": "markdown",
      "metadata": {
        "id": "Mgv0hV1YAieW"
      },
      "source": [
        "# Load the dataset"
      ]
    },
    {
      "cell_type": "code",
      "metadata": {
        "id": "g1Ykn5Ytr7Rs"
      },
      "source": [
        "path = 'https://raw.githubusercontent.com/pmontman/pub-choicemodels/main/data/affairs.csv'\n",
        "affairs_pd = pd.read_csv(path)"
      ],
      "execution_count": 3,
      "outputs": []
    },
    {
      "cell_type": "markdown",
      "metadata": {
        "id": "ZY55r3Gesb3t"
      },
      "source": [
        "A simple look at the dataset."
      ]
    },
    {
      "cell_type": "code",
      "metadata": {
        "colab": {
          "base_uri": "https://localhost:8080/",
          "height": 206
        },
        "id": "ldkmnMhssemT",
        "outputId": "e828a0ed-5f0f-4eff-c305-604af05fe75e"
      },
      "source": [
        "affairs_pd.head(5)"
      ],
      "execution_count": 4,
      "outputs": [
        {
          "output_type": "execute_result",
          "data": {
            "text/plain": [
              "   affairs  gender   age  yearsmarried children  religiousness  education  \\\n",
              "0        0    male  37.0         10.00       no              3         18   \n",
              "1        0  female  27.0          4.00       no              4         14   \n",
              "2        0  female  32.0         15.00      yes              1         12   \n",
              "3        0    male  57.0         15.00      yes              5         18   \n",
              "4        0    male  22.0          0.75       no              2         17   \n",
              "\n",
              "   occupation  rating  \n",
              "0           7       4  \n",
              "1           6       4  \n",
              "2           1       4  \n",
              "3           6       5  \n",
              "4           6       3  "
            ],
            "text/html": [
              "\n",
              "  <div id=\"df-09721304-be08-44f3-937f-6bbc5fc81e9d\">\n",
              "    <div class=\"colab-df-container\">\n",
              "      <div>\n",
              "<style scoped>\n",
              "    .dataframe tbody tr th:only-of-type {\n",
              "        vertical-align: middle;\n",
              "    }\n",
              "\n",
              "    .dataframe tbody tr th {\n",
              "        vertical-align: top;\n",
              "    }\n",
              "\n",
              "    .dataframe thead th {\n",
              "        text-align: right;\n",
              "    }\n",
              "</style>\n",
              "<table border=\"1\" class=\"dataframe\">\n",
              "  <thead>\n",
              "    <tr style=\"text-align: right;\">\n",
              "      <th></th>\n",
              "      <th>affairs</th>\n",
              "      <th>gender</th>\n",
              "      <th>age</th>\n",
              "      <th>yearsmarried</th>\n",
              "      <th>children</th>\n",
              "      <th>religiousness</th>\n",
              "      <th>education</th>\n",
              "      <th>occupation</th>\n",
              "      <th>rating</th>\n",
              "    </tr>\n",
              "  </thead>\n",
              "  <tbody>\n",
              "    <tr>\n",
              "      <th>0</th>\n",
              "      <td>0</td>\n",
              "      <td>male</td>\n",
              "      <td>37.0</td>\n",
              "      <td>10.00</td>\n",
              "      <td>no</td>\n",
              "      <td>3</td>\n",
              "      <td>18</td>\n",
              "      <td>7</td>\n",
              "      <td>4</td>\n",
              "    </tr>\n",
              "    <tr>\n",
              "      <th>1</th>\n",
              "      <td>0</td>\n",
              "      <td>female</td>\n",
              "      <td>27.0</td>\n",
              "      <td>4.00</td>\n",
              "      <td>no</td>\n",
              "      <td>4</td>\n",
              "      <td>14</td>\n",
              "      <td>6</td>\n",
              "      <td>4</td>\n",
              "    </tr>\n",
              "    <tr>\n",
              "      <th>2</th>\n",
              "      <td>0</td>\n",
              "      <td>female</td>\n",
              "      <td>32.0</td>\n",
              "      <td>15.00</td>\n",
              "      <td>yes</td>\n",
              "      <td>1</td>\n",
              "      <td>12</td>\n",
              "      <td>1</td>\n",
              "      <td>4</td>\n",
              "    </tr>\n",
              "    <tr>\n",
              "      <th>3</th>\n",
              "      <td>0</td>\n",
              "      <td>male</td>\n",
              "      <td>57.0</td>\n",
              "      <td>15.00</td>\n",
              "      <td>yes</td>\n",
              "      <td>5</td>\n",
              "      <td>18</td>\n",
              "      <td>6</td>\n",
              "      <td>5</td>\n",
              "    </tr>\n",
              "    <tr>\n",
              "      <th>4</th>\n",
              "      <td>0</td>\n",
              "      <td>male</td>\n",
              "      <td>22.0</td>\n",
              "      <td>0.75</td>\n",
              "      <td>no</td>\n",
              "      <td>2</td>\n",
              "      <td>17</td>\n",
              "      <td>6</td>\n",
              "      <td>3</td>\n",
              "    </tr>\n",
              "  </tbody>\n",
              "</table>\n",
              "</div>\n",
              "      <button class=\"colab-df-convert\" onclick=\"convertToInteractive('df-09721304-be08-44f3-937f-6bbc5fc81e9d')\"\n",
              "              title=\"Convert this dataframe to an interactive table.\"\n",
              "              style=\"display:none;\">\n",
              "        \n",
              "  <svg xmlns=\"http://www.w3.org/2000/svg\" height=\"24px\"viewBox=\"0 0 24 24\"\n",
              "       width=\"24px\">\n",
              "    <path d=\"M0 0h24v24H0V0z\" fill=\"none\"/>\n",
              "    <path d=\"M18.56 5.44l.94 2.06.94-2.06 2.06-.94-2.06-.94-.94-2.06-.94 2.06-2.06.94zm-11 1L8.5 8.5l.94-2.06 2.06-.94-2.06-.94L8.5 2.5l-.94 2.06-2.06.94zm10 10l.94 2.06.94-2.06 2.06-.94-2.06-.94-.94-2.06-.94 2.06-2.06.94z\"/><path d=\"M17.41 7.96l-1.37-1.37c-.4-.4-.92-.59-1.43-.59-.52 0-1.04.2-1.43.59L10.3 9.45l-7.72 7.72c-.78.78-.78 2.05 0 2.83L4 21.41c.39.39.9.59 1.41.59.51 0 1.02-.2 1.41-.59l7.78-7.78 2.81-2.81c.8-.78.8-2.07 0-2.86zM5.41 20L4 18.59l7.72-7.72 1.47 1.35L5.41 20z\"/>\n",
              "  </svg>\n",
              "      </button>\n",
              "      \n",
              "  <style>\n",
              "    .colab-df-container {\n",
              "      display:flex;\n",
              "      flex-wrap:wrap;\n",
              "      gap: 12px;\n",
              "    }\n",
              "\n",
              "    .colab-df-convert {\n",
              "      background-color: #E8F0FE;\n",
              "      border: none;\n",
              "      border-radius: 50%;\n",
              "      cursor: pointer;\n",
              "      display: none;\n",
              "      fill: #1967D2;\n",
              "      height: 32px;\n",
              "      padding: 0 0 0 0;\n",
              "      width: 32px;\n",
              "    }\n",
              "\n",
              "    .colab-df-convert:hover {\n",
              "      background-color: #E2EBFA;\n",
              "      box-shadow: 0px 1px 2px rgba(60, 64, 67, 0.3), 0px 1px 3px 1px rgba(60, 64, 67, 0.15);\n",
              "      fill: #174EA6;\n",
              "    }\n",
              "\n",
              "    [theme=dark] .colab-df-convert {\n",
              "      background-color: #3B4455;\n",
              "      fill: #D2E3FC;\n",
              "    }\n",
              "\n",
              "    [theme=dark] .colab-df-convert:hover {\n",
              "      background-color: #434B5C;\n",
              "      box-shadow: 0px 1px 3px 1px rgba(0, 0, 0, 0.15);\n",
              "      filter: drop-shadow(0px 1px 2px rgba(0, 0, 0, 0.3));\n",
              "      fill: #FFFFFF;\n",
              "    }\n",
              "  </style>\n",
              "\n",
              "      <script>\n",
              "        const buttonEl =\n",
              "          document.querySelector('#df-09721304-be08-44f3-937f-6bbc5fc81e9d button.colab-df-convert');\n",
              "        buttonEl.style.display =\n",
              "          google.colab.kernel.accessAllowed ? 'block' : 'none';\n",
              "\n",
              "        async function convertToInteractive(key) {\n",
              "          const element = document.querySelector('#df-09721304-be08-44f3-937f-6bbc5fc81e9d');\n",
              "          const dataTable =\n",
              "            await google.colab.kernel.invokeFunction('convertToInteractive',\n",
              "                                                     [key], {});\n",
              "          if (!dataTable) return;\n",
              "\n",
              "          const docLinkHtml = 'Like what you see? Visit the ' +\n",
              "            '<a target=\"_blank\" href=https://colab.research.google.com/notebooks/data_table.ipynb>data table notebook</a>'\n",
              "            + ' to learn more about interactive tables.';\n",
              "          element.innerHTML = '';\n",
              "          dataTable['output_type'] = 'display_data';\n",
              "          await google.colab.output.renderOutput(dataTable, element);\n",
              "          const docLink = document.createElement('div');\n",
              "          docLink.innerHTML = docLinkHtml;\n",
              "          element.appendChild(docLink);\n",
              "        }\n",
              "      </script>\n",
              "    </div>\n",
              "  </div>\n",
              "  "
            ]
          },
          "metadata": {},
          "execution_count": 4
        }
      ]
    },
    {
      "cell_type": "markdown",
      "metadata": {
        "id": "75S5mV9mG_i8"
      },
      "source": [
        "# Auxiliary function"
      ]
    },
    {
      "cell_type": "code",
      "metadata": {
        "id": "kkHePFuDHB6L"
      },
      "source": [
        "def qbus_update_globals_bgm(pd_df):\n",
        "   globals().update(db.Database('tmp_bg_bgm_for_glob', pd_df).variables)"
      ],
      "execution_count": 5,
      "outputs": []
    },
    {
      "cell_type": "markdown",
      "metadata": {
        "id": "IT44SQAUAVT5"
      },
      "source": [
        "# Data cleaning: Preparing the dataset for Biogeme"
      ]
    },
    {
      "cell_type": "markdown",
      "metadata": {
        "id": "yTEgKQ0HAY8c"
      },
      "source": [
        "Biogeme does not accept non-numerical variables.\n",
        "\n",
        "\n",
        "We need to transform categorical variables that are not encoded into numbers.\n",
        "The pandas function `factorize()` encodes a variable into integers. In this case, we will get 0 for Male, 1 for Female for the gender variable. We will get 0 for no, 1 for yes in the children varible. This means that we can use the encoding already as dummy variables that can be interpreted as 'isFemale' and 'hasChildren'."
      ]
    },
    {
      "cell_type": "code",
      "metadata": {
        "id": "3161scmJOPG8"
      },
      "source": [
        "affairs_pd['gender'] = affairs_pd['gender'].factorize()[0]\n",
        "affairs_pd['children'] = affairs_pd['children'].factorize()[0]\n"
      ],
      "execution_count": 6,
      "outputs": []
    },
    {
      "cell_type": "markdown",
      "metadata": {
        "id": "7IUIcyRKdyFK"
      },
      "source": [
        "After this transformation, we can already pass the pandas dataframe to biogeme, though be mindful that some variables such as occupation are numeric but should be transformed to dummy. "
      ]
    },
    {
      "cell_type": "markdown",
      "metadata": {
        "id": "TeHgubYpCvHQ"
      },
      "source": [
        "# Ordinal logit with biogeme\n",
        "\n",
        "We will first estimate the ordered logit 'manually' using biogeme, to get a better view of the process and how it is connected to the theory. Later we can create some auxiliary functions to simplify the process."
      ]
    },
    {
      "cell_type": "markdown",
      "metadata": {
        "id": "MDm_MPrPeUek"
      },
      "source": [
        "We start by update the globals as usual."
      ]
    },
    {
      "cell_type": "code",
      "metadata": {
        "id": "Ew1LZzZxGwm6"
      },
      "source": [
        "qbus_update_globals_bgm(affairs_pd)"
      ],
      "execution_count": 7,
      "outputs": []
    },
    {
      "cell_type": "markdown",
      "metadata": {
        "id": "5sV3eJTV_g5M"
      },
      "source": [
        "### Utility function\n",
        "\n",
        "The first step is to create the utility function, an important difference with respect to what we have done in the multinomial logit(MNL) and nested logit is that there will be only one utility function, while in the MNL there is one utility function per alternative.\n",
        "\n",
        "As for the variables, after some consideration (maybe you disagree), we can take\n",
        "the variables religiousness, rating and education as numeric, even though they are categorical. This is because religiousness can be represented as 'intensity' of the belief in religion and education can be roughly interpreted as 'years spent in education'. So for the sake of simplicity"
      ]
    },
    {
      "cell_type": "code",
      "metadata": {
        "id": "YCixV8Ry_lRW"
      },
      "source": [
        "# Parameters to be estimated\n",
        "B_gender = exp.Beta('B_gender', 0, None, None, 0)\n",
        "B_age = exp.Beta('B_age', 0, None, None, 0)\n",
        "B_yearsmarried = exp.Beta('B_yearsmarried', 0, None, None, 0)\n",
        "B_children = exp.Beta('B_children', 0, None, None, 0)\n",
        "B_religiousness = exp.Beta('B_religiousness', 0, None, None, 0)\n",
        "B_education = exp.Beta('B_education', 0, None, None, 0)\n",
        "B_rating = exp.Beta('B_rating', 0, None, None, 0)"
      ],
      "execution_count": 8,
      "outputs": []
    },
    {
      "cell_type": "markdown",
      "metadata": {
        "id": "3iNcMRBlAMzz"
      },
      "source": [
        "Define the one utility function using our familiar syntax.\n",
        "We will simplify and not apply any transformation or interaction, though it might very well improve the fitting."
      ]
    },
    {
      "cell_type": "code",
      "metadata": {
        "id": "2yCQfe0kONS2"
      },
      "source": [
        "V_one = B_gender*gender + B_age*age + B_yearsmarried*yearsmarried + B_children*children + B_religiousness*religiousness + B_education*education + B_rating*rating"
      ],
      "execution_count": 9,
      "outputs": []
    },
    {
      "cell_type": "markdown",
      "metadata": {
        "id": "hCXBaphn__q7"
      },
      "source": [
        "### Cutoff points\n",
        "\n",
        "An important part of the ordinal logit model are the cut-off points, the values that will split the utility into different alternatives. These are being estimated from the data. \n",
        "Remember that we have to impose some order in the cutoff points, this is, tau1\n",
        "is smaller than tau2, tau2 is smaller than tau3 and so on.\n",
        "\n",
        "The way to do this in biogeme (and other estimation software) is to create some 'auxiliary' parameters that can be interpreted as the deltas or differences between taus. These deltas are created with `exp.Beta` as the any other parameter of the model.\n",
        " We impose that the deltas can be estimated, but they have to be greater than 0. Remember that when we define the parameters in Biogeme, one of the arguments of the function `exp.Beta` are the bounds that restrict the range to which the values can be estimated.\n",
        "\n",
        "We can 'recreate' the taus from the deltas, for example, tau2 = tau1 + delta2, tau3 = tau2 + delta3 (or alternatively, tau3 = tau1 + delta2 + delta3).\n",
        "\n",
        "Just to clarify: what we are doing with the deltas is imposing the order in the taus, it is just a trick to impose: all taus are in increasing order, starting from tau1, 'tau1' can have any value, tau2 has to be between tau1 and tau3, tau3 has to be between tau2 and tau4, ..., tau6 has to be between tau5 and +infinity. What we are doing is just a way to pass the information to biogeme."
      ]
    },
    {
      "cell_type": "markdown",
      "metadata": {
        "id": "D-A4gBIjnrx1"
      },
      "source": [
        "In the next cell we declare the taus and the deltas. Notice the third argument in the `exp.Beta` when declaring the deltas is set to 0, the third argument specifies the lower bound in the estimation range. Notice how the taus are defined as the 'taus before them' plus some delta. With the exception of tau1. \n",
        "The default value of tau1 is -1, but this is arbitrary.\n",
        "\n",
        "There next cell will be very verbose, because we have to manually define each of the deltas and taus. This is a candidate to be done automatically in an auxiliary function..."
      ]
    },
    {
      "cell_type": "code",
      "metadata": {
        "id": "5oopOJUIhPir"
      },
      "source": [
        "tau1 = exp.Beta('tau1', -1, 0, None, 0)\n",
        "\n",
        "delta2 = exp.Beta('delta2', 1, 0, None, 0)\n",
        "tau2 = tau1 + delta2\n",
        "\n",
        "delta3 = exp.Beta('delta3', 2, 0, None, 0)\n",
        "tau3 = tau2 + delta3\n",
        "\n",
        "delta4 = exp.Beta('delta4', 3, 0, None, 0)\n",
        "tau4 = tau3 + delta4\n",
        "\n",
        "delta5 = exp.Beta('delta5', 4, 0, None, 0)\n",
        "tau5 = tau4 + delta5"
      ],
      "execution_count": 10,
      "outputs": []
    },
    {
      "cell_type": "markdown",
      "metadata": {
        "id": "RX1r3MP8ofRT"
      },
      "source": [
        "What is left to define is the 'model' in the biogeme, the equivalent of the \n",
        "biogeme `models.loglogit` for the multinomial logit. In this case, we have to do it manually (another candidate for auxiliary functions).\n",
        "\n",
        "We define the 'model' in biogeme using a dictionary. The dictionary maps the **values for the choice variable** to the computed choice probabilities. The choice variable here is affairs.\n",
        "\n",
        "In the next cell the function `dist.logisticcdf` is just the name of the logistic transform in biogeme (there is the logistic probability distribution, which the cumulative distribution function 'logisticcdf' being the equivalent logistic transform)."
      ]
    },
    {
      "cell_type": "code",
      "metadata": {
        "id": "oJ5t9uO0r1e6"
      },
      "source": [
        "alt_probs_map = {\n",
        "    0: dist.logisticcdf(tau1 - V_one),\n",
        "    1: dist.logisticcdf(tau2 - V_one) - dist.logisticcdf( tau1 - V_one),\n",
        "    2: dist.logisticcdf(tau3 - V_one) - dist.logisticcdf( tau2 - V_one),\n",
        "    3: dist.logisticcdf(tau4 - V_one) - dist.logisticcdf( tau3 - V_one),\n",
        "    7: dist.logisticcdf(tau5 - V_one) - dist.logisticcdf( tau4 - V_one),\n",
        "    12: 1- dist.logisticcdf(tau5 - V_one)}"
      ],
      "execution_count": 11,
      "outputs": []
    },
    {
      "cell_type": "markdown",
      "metadata": {
        "id": "wUkJwKD2q0IT"
      },
      "source": [
        "Then we take the log of the choice probabilities (for the loglikelihood) and specify which variable in the dataset contains the choice or alternatives."
      ]
    },
    {
      "cell_type": "code",
      "metadata": {
        "id": "QeBx8_WUppUz"
      },
      "source": [
        "\n",
        "logprob = exp.log(exp.Elem(alt_probs_map, affairs))"
      ],
      "execution_count": 12,
      "outputs": []
    },
    {
      "cell_type": "markdown",
      "metadata": {
        "id": "8xhRW4nWq_55"
      },
      "source": [
        "We declare the biogeme object as usual, and we estimate the model."
      ]
    },
    {
      "cell_type": "code",
      "metadata": {
        "id": "BVab7bDjrAME",
        "outputId": "566889a0-e7f4-4b07-8ba7-a94ab6ffd79d",
        "colab": {
          "base_uri": "https://localhost:8080/"
        }
      },
      "source": [
        "affairs_db = db.Database('affairs', affairs_pd)\n",
        "\n",
        "biogeme  = bio.BIOGEME(affairs_db, logprob)\n",
        "\n",
        "results = biogeme.estimate()"
      ],
      "execution_count": 13,
      "outputs": [
        {
          "output_type": "stream",
          "name": "stdout",
          "text": [
            "[06:18:07] < Warning >   You have not defined a name for the model. The output files are named from the model name. The default is [biogemeModelDefaultName]\n",
            "[06:18:07] < Warning >   Cannot read file __biogemeModelDefaultName.iter. Statement is ignored.\n",
            "[06:18:07] < Warning >   Initial point not feasible. It will be projected onto the feasible domain.\n"
          ]
        }
      ]
    },
    {
      "cell_type": "markdown",
      "metadata": {
        "id": "3XSav5d4tIB0"
      },
      "source": [
        "And here are the results, for your interpretation!\n",
        "The new part are the taus and deltas. We have tau1, and then the deltas that will allow us to recover the remaining taus. We check tha everything looks OK,all deltas are positive."
      ]
    },
    {
      "cell_type": "code",
      "metadata": {
        "colab": {
          "base_uri": "https://localhost:8080/",
          "height": 426
        },
        "id": "Pi7_6RZ7re2e",
        "outputId": "3b729df7-f81f-4481-c50c-859f056b2a03"
      },
      "source": [
        "results.getEstimatedParameters()"
      ],
      "execution_count": 14,
      "outputs": [
        {
          "output_type": "execute_result",
          "data": {
            "text/plain": [
              "                    Value  Active bound  Rob. Std err  Rob. t-test  \\\n",
              "B_age           -0.034204           0.0      0.017692    -1.933310   \n",
              "B_children       0.380194           0.0      0.317240     1.198444   \n",
              "B_education      0.095778           0.0      0.049239     1.945169   \n",
              "B_gender        -0.072075           0.0      0.224468    -0.321093   \n",
              "B_rating        -0.454255           0.0      0.090662    -5.010407   \n",
              "B_religiousness -0.311157           0.0      0.090100    -3.453457   \n",
              "B_yearsmarried   0.101443           0.0      0.032843     3.088692   \n",
              "delta2           0.368621           0.0      0.059607     6.184153   \n",
              "delta3           0.217145           0.0      0.052117     4.166477   \n",
              "delta4           0.276374           0.0      0.062076     4.452168   \n",
              "delta5           0.886676           0.0      0.131881     6.723309   \n",
              "tau1             0.000000           1.0      1.110463     0.000000   \n",
              "\n",
              "                 Rob. p-value  \n",
              "B_age            5.319796e-02  \n",
              "B_children       2.307442e-01  \n",
              "B_education      5.175461e-02  \n",
              "B_gender         7.481401e-01  \n",
              "B_rating         5.431494e-07  \n",
              "B_religiousness  5.534506e-04  \n",
              "B_yearsmarried   2.010395e-03  \n",
              "delta2           6.243668e-10  \n",
              "delta3           3.093435e-05  \n",
              "delta4           8.500749e-06  \n",
              "delta5           1.776446e-11  \n",
              "tau1             1.000000e+00  "
            ],
            "text/html": [
              "\n",
              "  <div id=\"df-bc9302dd-665a-43d7-a91f-603fdd993098\">\n",
              "    <div class=\"colab-df-container\">\n",
              "      <div>\n",
              "<style scoped>\n",
              "    .dataframe tbody tr th:only-of-type {\n",
              "        vertical-align: middle;\n",
              "    }\n",
              "\n",
              "    .dataframe tbody tr th {\n",
              "        vertical-align: top;\n",
              "    }\n",
              "\n",
              "    .dataframe thead th {\n",
              "        text-align: right;\n",
              "    }\n",
              "</style>\n",
              "<table border=\"1\" class=\"dataframe\">\n",
              "  <thead>\n",
              "    <tr style=\"text-align: right;\">\n",
              "      <th></th>\n",
              "      <th>Value</th>\n",
              "      <th>Active bound</th>\n",
              "      <th>Rob. Std err</th>\n",
              "      <th>Rob. t-test</th>\n",
              "      <th>Rob. p-value</th>\n",
              "    </tr>\n",
              "  </thead>\n",
              "  <tbody>\n",
              "    <tr>\n",
              "      <th>B_age</th>\n",
              "      <td>-0.034204</td>\n",
              "      <td>0.0</td>\n",
              "      <td>0.017692</td>\n",
              "      <td>-1.933310</td>\n",
              "      <td>5.319796e-02</td>\n",
              "    </tr>\n",
              "    <tr>\n",
              "      <th>B_children</th>\n",
              "      <td>0.380194</td>\n",
              "      <td>0.0</td>\n",
              "      <td>0.317240</td>\n",
              "      <td>1.198444</td>\n",
              "      <td>2.307442e-01</td>\n",
              "    </tr>\n",
              "    <tr>\n",
              "      <th>B_education</th>\n",
              "      <td>0.095778</td>\n",
              "      <td>0.0</td>\n",
              "      <td>0.049239</td>\n",
              "      <td>1.945169</td>\n",
              "      <td>5.175461e-02</td>\n",
              "    </tr>\n",
              "    <tr>\n",
              "      <th>B_gender</th>\n",
              "      <td>-0.072075</td>\n",
              "      <td>0.0</td>\n",
              "      <td>0.224468</td>\n",
              "      <td>-0.321093</td>\n",
              "      <td>7.481401e-01</td>\n",
              "    </tr>\n",
              "    <tr>\n",
              "      <th>B_rating</th>\n",
              "      <td>-0.454255</td>\n",
              "      <td>0.0</td>\n",
              "      <td>0.090662</td>\n",
              "      <td>-5.010407</td>\n",
              "      <td>5.431494e-07</td>\n",
              "    </tr>\n",
              "    <tr>\n",
              "      <th>B_religiousness</th>\n",
              "      <td>-0.311157</td>\n",
              "      <td>0.0</td>\n",
              "      <td>0.090100</td>\n",
              "      <td>-3.453457</td>\n",
              "      <td>5.534506e-04</td>\n",
              "    </tr>\n",
              "    <tr>\n",
              "      <th>B_yearsmarried</th>\n",
              "      <td>0.101443</td>\n",
              "      <td>0.0</td>\n",
              "      <td>0.032843</td>\n",
              "      <td>3.088692</td>\n",
              "      <td>2.010395e-03</td>\n",
              "    </tr>\n",
              "    <tr>\n",
              "      <th>delta2</th>\n",
              "      <td>0.368621</td>\n",
              "      <td>0.0</td>\n",
              "      <td>0.059607</td>\n",
              "      <td>6.184153</td>\n",
              "      <td>6.243668e-10</td>\n",
              "    </tr>\n",
              "    <tr>\n",
              "      <th>delta3</th>\n",
              "      <td>0.217145</td>\n",
              "      <td>0.0</td>\n",
              "      <td>0.052117</td>\n",
              "      <td>4.166477</td>\n",
              "      <td>3.093435e-05</td>\n",
              "    </tr>\n",
              "    <tr>\n",
              "      <th>delta4</th>\n",
              "      <td>0.276374</td>\n",
              "      <td>0.0</td>\n",
              "      <td>0.062076</td>\n",
              "      <td>4.452168</td>\n",
              "      <td>8.500749e-06</td>\n",
              "    </tr>\n",
              "    <tr>\n",
              "      <th>delta5</th>\n",
              "      <td>0.886676</td>\n",
              "      <td>0.0</td>\n",
              "      <td>0.131881</td>\n",
              "      <td>6.723309</td>\n",
              "      <td>1.776446e-11</td>\n",
              "    </tr>\n",
              "    <tr>\n",
              "      <th>tau1</th>\n",
              "      <td>0.000000</td>\n",
              "      <td>1.0</td>\n",
              "      <td>1.110463</td>\n",
              "      <td>0.000000</td>\n",
              "      <td>1.000000e+00</td>\n",
              "    </tr>\n",
              "  </tbody>\n",
              "</table>\n",
              "</div>\n",
              "      <button class=\"colab-df-convert\" onclick=\"convertToInteractive('df-bc9302dd-665a-43d7-a91f-603fdd993098')\"\n",
              "              title=\"Convert this dataframe to an interactive table.\"\n",
              "              style=\"display:none;\">\n",
              "        \n",
              "  <svg xmlns=\"http://www.w3.org/2000/svg\" height=\"24px\"viewBox=\"0 0 24 24\"\n",
              "       width=\"24px\">\n",
              "    <path d=\"M0 0h24v24H0V0z\" fill=\"none\"/>\n",
              "    <path d=\"M18.56 5.44l.94 2.06.94-2.06 2.06-.94-2.06-.94-.94-2.06-.94 2.06-2.06.94zm-11 1L8.5 8.5l.94-2.06 2.06-.94-2.06-.94L8.5 2.5l-.94 2.06-2.06.94zm10 10l.94 2.06.94-2.06 2.06-.94-2.06-.94-.94-2.06-.94 2.06-2.06.94z\"/><path d=\"M17.41 7.96l-1.37-1.37c-.4-.4-.92-.59-1.43-.59-.52 0-1.04.2-1.43.59L10.3 9.45l-7.72 7.72c-.78.78-.78 2.05 0 2.83L4 21.41c.39.39.9.59 1.41.59.51 0 1.02-.2 1.41-.59l7.78-7.78 2.81-2.81c.8-.78.8-2.07 0-2.86zM5.41 20L4 18.59l7.72-7.72 1.47 1.35L5.41 20z\"/>\n",
              "  </svg>\n",
              "      </button>\n",
              "      \n",
              "  <style>\n",
              "    .colab-df-container {\n",
              "      display:flex;\n",
              "      flex-wrap:wrap;\n",
              "      gap: 12px;\n",
              "    }\n",
              "\n",
              "    .colab-df-convert {\n",
              "      background-color: #E8F0FE;\n",
              "      border: none;\n",
              "      border-radius: 50%;\n",
              "      cursor: pointer;\n",
              "      display: none;\n",
              "      fill: #1967D2;\n",
              "      height: 32px;\n",
              "      padding: 0 0 0 0;\n",
              "      width: 32px;\n",
              "    }\n",
              "\n",
              "    .colab-df-convert:hover {\n",
              "      background-color: #E2EBFA;\n",
              "      box-shadow: 0px 1px 2px rgba(60, 64, 67, 0.3), 0px 1px 3px 1px rgba(60, 64, 67, 0.15);\n",
              "      fill: #174EA6;\n",
              "    }\n",
              "\n",
              "    [theme=dark] .colab-df-convert {\n",
              "      background-color: #3B4455;\n",
              "      fill: #D2E3FC;\n",
              "    }\n",
              "\n",
              "    [theme=dark] .colab-df-convert:hover {\n",
              "      background-color: #434B5C;\n",
              "      box-shadow: 0px 1px 3px 1px rgba(0, 0, 0, 0.15);\n",
              "      filter: drop-shadow(0px 1px 2px rgba(0, 0, 0, 0.3));\n",
              "      fill: #FFFFFF;\n",
              "    }\n",
              "  </style>\n",
              "\n",
              "      <script>\n",
              "        const buttonEl =\n",
              "          document.querySelector('#df-bc9302dd-665a-43d7-a91f-603fdd993098 button.colab-df-convert');\n",
              "        buttonEl.style.display =\n",
              "          google.colab.kernel.accessAllowed ? 'block' : 'none';\n",
              "\n",
              "        async function convertToInteractive(key) {\n",
              "          const element = document.querySelector('#df-bc9302dd-665a-43d7-a91f-603fdd993098');\n",
              "          const dataTable =\n",
              "            await google.colab.kernel.invokeFunction('convertToInteractive',\n",
              "                                                     [key], {});\n",
              "          if (!dataTable) return;\n",
              "\n",
              "          const docLinkHtml = 'Like what you see? Visit the ' +\n",
              "            '<a target=\"_blank\" href=https://colab.research.google.com/notebooks/data_table.ipynb>data table notebook</a>'\n",
              "            + ' to learn more about interactive tables.';\n",
              "          element.innerHTML = '';\n",
              "          dataTable['output_type'] = 'display_data';\n",
              "          await google.colab.output.renderOutput(dataTable, element);\n",
              "          const docLink = document.createElement('div');\n",
              "          docLink.innerHTML = docLinkHtml;\n",
              "          element.appendChild(docLink);\n",
              "        }\n",
              "      </script>\n",
              "    </div>\n",
              "  </div>\n",
              "  "
            ]
          },
          "metadata": {},
          "execution_count": 14
        }
      ]
    },
    {
      "cell_type": "markdown",
      "metadata": {
        "id": "XY1uYheKtjlG"
      },
      "source": [
        "Simulation is as usual, pass the biogeme database and the dictionary with the targets to compute. In this case, to get the choice probabilities, we can reuse the `alt_probs_map` dictionary as the targets. \n"
      ]
    },
    {
      "cell_type": "code",
      "metadata": {
        "colab": {
          "base_uri": "https://localhost:8080/",
          "height": 424
        },
        "id": "Z9WSKGKitrpH",
        "outputId": "940d2d66-08e8-46d2-8491-0e1d09a925ee"
      },
      "source": [
        "  bgm_pred_model = bio.BIOGEME(affairs_db, alt_probs_map)\n",
        "  simulatedValues = bgm_pred_model.simulate(results.getBetaValues())\n",
        "  simulatedValues"
      ],
      "execution_count": 15,
      "outputs": [
        {
          "output_type": "execute_result",
          "data": {
            "text/plain": [
              "           0         1         2         3         7         12\n",
              "0    0.782045  0.056338  0.027309  0.029017  0.059046  0.046246\n",
              "1    0.909749  0.026039  0.011877  0.012129  0.023239  0.016967\n",
              "2    0.560606  0.087846  0.047773  0.055113  0.128663  0.119999\n",
              "3    0.895750  0.029747  0.013657  0.014004  0.026995  0.019846\n",
              "4    0.737549  0.064934  0.032178  0.034709  0.072329  0.058300\n",
              "..        ...       ...       ...       ...       ...       ...\n",
              "596  0.839328  0.043745  0.020625  0.021515  0.042556  0.032231\n",
              "597  0.619476  0.082337  0.043371  0.048858  0.109406  0.096552\n",
              "598  0.724178  0.067307  0.033579  0.036389  0.076399  0.062147\n",
              "599  0.445266  0.091867  0.053347  0.064799  0.166582  0.178140\n",
              "600  0.755587  0.061578  0.030241  0.032419  0.066895  0.053280\n",
              "\n",
              "[601 rows x 6 columns]"
            ],
            "text/html": [
              "\n",
              "  <div id=\"df-0a41b139-dcbb-48a4-bef9-b60e3178d336\">\n",
              "    <div class=\"colab-df-container\">\n",
              "      <div>\n",
              "<style scoped>\n",
              "    .dataframe tbody tr th:only-of-type {\n",
              "        vertical-align: middle;\n",
              "    }\n",
              "\n",
              "    .dataframe tbody tr th {\n",
              "        vertical-align: top;\n",
              "    }\n",
              "\n",
              "    .dataframe thead th {\n",
              "        text-align: right;\n",
              "    }\n",
              "</style>\n",
              "<table border=\"1\" class=\"dataframe\">\n",
              "  <thead>\n",
              "    <tr style=\"text-align: right;\">\n",
              "      <th></th>\n",
              "      <th>0</th>\n",
              "      <th>1</th>\n",
              "      <th>2</th>\n",
              "      <th>3</th>\n",
              "      <th>7</th>\n",
              "      <th>12</th>\n",
              "    </tr>\n",
              "  </thead>\n",
              "  <tbody>\n",
              "    <tr>\n",
              "      <th>0</th>\n",
              "      <td>0.782045</td>\n",
              "      <td>0.056338</td>\n",
              "      <td>0.027309</td>\n",
              "      <td>0.029017</td>\n",
              "      <td>0.059046</td>\n",
              "      <td>0.046246</td>\n",
              "    </tr>\n",
              "    <tr>\n",
              "      <th>1</th>\n",
              "      <td>0.909749</td>\n",
              "      <td>0.026039</td>\n",
              "      <td>0.011877</td>\n",
              "      <td>0.012129</td>\n",
              "      <td>0.023239</td>\n",
              "      <td>0.016967</td>\n",
              "    </tr>\n",
              "    <tr>\n",
              "      <th>2</th>\n",
              "      <td>0.560606</td>\n",
              "      <td>0.087846</td>\n",
              "      <td>0.047773</td>\n",
              "      <td>0.055113</td>\n",
              "      <td>0.128663</td>\n",
              "      <td>0.119999</td>\n",
              "    </tr>\n",
              "    <tr>\n",
              "      <th>3</th>\n",
              "      <td>0.895750</td>\n",
              "      <td>0.029747</td>\n",
              "      <td>0.013657</td>\n",
              "      <td>0.014004</td>\n",
              "      <td>0.026995</td>\n",
              "      <td>0.019846</td>\n",
              "    </tr>\n",
              "    <tr>\n",
              "      <th>4</th>\n",
              "      <td>0.737549</td>\n",
              "      <td>0.064934</td>\n",
              "      <td>0.032178</td>\n",
              "      <td>0.034709</td>\n",
              "      <td>0.072329</td>\n",
              "      <td>0.058300</td>\n",
              "    </tr>\n",
              "    <tr>\n",
              "      <th>...</th>\n",
              "      <td>...</td>\n",
              "      <td>...</td>\n",
              "      <td>...</td>\n",
              "      <td>...</td>\n",
              "      <td>...</td>\n",
              "      <td>...</td>\n",
              "    </tr>\n",
              "    <tr>\n",
              "      <th>596</th>\n",
              "      <td>0.839328</td>\n",
              "      <td>0.043745</td>\n",
              "      <td>0.020625</td>\n",
              "      <td>0.021515</td>\n",
              "      <td>0.042556</td>\n",
              "      <td>0.032231</td>\n",
              "    </tr>\n",
              "    <tr>\n",
              "      <th>597</th>\n",
              "      <td>0.619476</td>\n",
              "      <td>0.082337</td>\n",
              "      <td>0.043371</td>\n",
              "      <td>0.048858</td>\n",
              "      <td>0.109406</td>\n",
              "      <td>0.096552</td>\n",
              "    </tr>\n",
              "    <tr>\n",
              "      <th>598</th>\n",
              "      <td>0.724178</td>\n",
              "      <td>0.067307</td>\n",
              "      <td>0.033579</td>\n",
              "      <td>0.036389</td>\n",
              "      <td>0.076399</td>\n",
              "      <td>0.062147</td>\n",
              "    </tr>\n",
              "    <tr>\n",
              "      <th>599</th>\n",
              "      <td>0.445266</td>\n",
              "      <td>0.091867</td>\n",
              "      <td>0.053347</td>\n",
              "      <td>0.064799</td>\n",
              "      <td>0.166582</td>\n",
              "      <td>0.178140</td>\n",
              "    </tr>\n",
              "    <tr>\n",
              "      <th>600</th>\n",
              "      <td>0.755587</td>\n",
              "      <td>0.061578</td>\n",
              "      <td>0.030241</td>\n",
              "      <td>0.032419</td>\n",
              "      <td>0.066895</td>\n",
              "      <td>0.053280</td>\n",
              "    </tr>\n",
              "  </tbody>\n",
              "</table>\n",
              "<p>601 rows × 6 columns</p>\n",
              "</div>\n",
              "      <button class=\"colab-df-convert\" onclick=\"convertToInteractive('df-0a41b139-dcbb-48a4-bef9-b60e3178d336')\"\n",
              "              title=\"Convert this dataframe to an interactive table.\"\n",
              "              style=\"display:none;\">\n",
              "        \n",
              "  <svg xmlns=\"http://www.w3.org/2000/svg\" height=\"24px\"viewBox=\"0 0 24 24\"\n",
              "       width=\"24px\">\n",
              "    <path d=\"M0 0h24v24H0V0z\" fill=\"none\"/>\n",
              "    <path d=\"M18.56 5.44l.94 2.06.94-2.06 2.06-.94-2.06-.94-.94-2.06-.94 2.06-2.06.94zm-11 1L8.5 8.5l.94-2.06 2.06-.94-2.06-.94L8.5 2.5l-.94 2.06-2.06.94zm10 10l.94 2.06.94-2.06 2.06-.94-2.06-.94-.94-2.06-.94 2.06-2.06.94z\"/><path d=\"M17.41 7.96l-1.37-1.37c-.4-.4-.92-.59-1.43-.59-.52 0-1.04.2-1.43.59L10.3 9.45l-7.72 7.72c-.78.78-.78 2.05 0 2.83L4 21.41c.39.39.9.59 1.41.59.51 0 1.02-.2 1.41-.59l7.78-7.78 2.81-2.81c.8-.78.8-2.07 0-2.86zM5.41 20L4 18.59l7.72-7.72 1.47 1.35L5.41 20z\"/>\n",
              "  </svg>\n",
              "      </button>\n",
              "      \n",
              "  <style>\n",
              "    .colab-df-container {\n",
              "      display:flex;\n",
              "      flex-wrap:wrap;\n",
              "      gap: 12px;\n",
              "    }\n",
              "\n",
              "    .colab-df-convert {\n",
              "      background-color: #E8F0FE;\n",
              "      border: none;\n",
              "      border-radius: 50%;\n",
              "      cursor: pointer;\n",
              "      display: none;\n",
              "      fill: #1967D2;\n",
              "      height: 32px;\n",
              "      padding: 0 0 0 0;\n",
              "      width: 32px;\n",
              "    }\n",
              "\n",
              "    .colab-df-convert:hover {\n",
              "      background-color: #E2EBFA;\n",
              "      box-shadow: 0px 1px 2px rgba(60, 64, 67, 0.3), 0px 1px 3px 1px rgba(60, 64, 67, 0.15);\n",
              "      fill: #174EA6;\n",
              "    }\n",
              "\n",
              "    [theme=dark] .colab-df-convert {\n",
              "      background-color: #3B4455;\n",
              "      fill: #D2E3FC;\n",
              "    }\n",
              "\n",
              "    [theme=dark] .colab-df-convert:hover {\n",
              "      background-color: #434B5C;\n",
              "      box-shadow: 0px 1px 3px 1px rgba(0, 0, 0, 0.15);\n",
              "      filter: drop-shadow(0px 1px 2px rgba(0, 0, 0, 0.3));\n",
              "      fill: #FFFFFF;\n",
              "    }\n",
              "  </style>\n",
              "\n",
              "      <script>\n",
              "        const buttonEl =\n",
              "          document.querySelector('#df-0a41b139-dcbb-48a4-bef9-b60e3178d336 button.colab-df-convert');\n",
              "        buttonEl.style.display =\n",
              "          google.colab.kernel.accessAllowed ? 'block' : 'none';\n",
              "\n",
              "        async function convertToInteractive(key) {\n",
              "          const element = document.querySelector('#df-0a41b139-dcbb-48a4-bef9-b60e3178d336');\n",
              "          const dataTable =\n",
              "            await google.colab.kernel.invokeFunction('convertToInteractive',\n",
              "                                                     [key], {});\n",
              "          if (!dataTable) return;\n",
              "\n",
              "          const docLinkHtml = 'Like what you see? Visit the ' +\n",
              "            '<a target=\"_blank\" href=https://colab.research.google.com/notebooks/data_table.ipynb>data table notebook</a>'\n",
              "            + ' to learn more about interactive tables.';\n",
              "          element.innerHTML = '';\n",
              "          dataTable['output_type'] = 'display_data';\n",
              "          await google.colab.output.renderOutput(dataTable, element);\n",
              "          const docLink = document.createElement('div');\n",
              "          docLink.innerHTML = docLinkHtml;\n",
              "          element.appendChild(docLink);\n",
              "        }\n",
              "      </script>\n",
              "    </div>\n",
              "  </div>\n",
              "  "
            ]
          },
          "metadata": {},
          "execution_count": 15
        }
      ]
    },
    {
      "cell_type": "markdown",
      "metadata": {
        "id": "voYVGcOQuUDR"
      },
      "source": [
        "To simulate the utilities we have to create a dictionary just with the utility funcion. "
      ]
    },
    {
      "cell_type": "code",
      "metadata": {
        "id": "KWhw880muTn9"
      },
      "source": [
        "V_pred_map = {\n",
        "    'util': V_one }"
      ],
      "execution_count": 16,
      "outputs": []
    },
    {
      "cell_type": "markdown",
      "metadata": {
        "id": "GefB4WHovMsh"
      },
      "source": [
        "We do the simulation as usual, notice how the more positive the utility, the more it tends towars more infidelities. This is because we considered arbitrarily to intepret the 'utility that is received from having an affair'. We could have also used the 'utility from being faithful'."
      ]
    },
    {
      "cell_type": "code",
      "metadata": {
        "colab": {
          "base_uri": "https://localhost:8080/",
          "height": 510
        },
        "id": "NvKLl-rAugbT",
        "outputId": "6b16e7eb-fd5f-47d2-ce9d-5c3e4cfc2b19"
      },
      "source": [
        "  bgm_pred_util = bio.BIOGEME(affairs_db, V_pred_map)\n",
        "  simulated_util = bgm_pred_util.simulate(results.getBetaValues())\n",
        "  simulated_util"
      ],
      "execution_count": 17,
      "outputs": [
        {
          "output_type": "stream",
          "name": "stdout",
          "text": [
            "[06:18:08] < Warning >   Parameter delta2 not present in the model\n",
            "[06:18:08] < Warning >   Parameter delta3 not present in the model\n",
            "[06:18:08] < Warning >   Parameter delta4 not present in the model\n",
            "[06:18:08] < Warning >   Parameter delta5 not present in the model\n",
            "[06:18:08] < Warning >   Parameter tau1 not present in the model\n"
          ]
        },
        {
          "output_type": "execute_result",
          "data": {
            "text/plain": [
              "         util\n",
              "0   -1.277622\n",
              "1   -2.310579\n",
              "2   -0.243622\n",
              "3   -2.150868\n",
              "4   -1.033269\n",
              "..        ...\n",
              "596 -1.653236\n",
              "597 -0.487326\n",
              "598 -0.965284\n",
              "599  0.219817\n",
              "600 -1.128636\n",
              "\n",
              "[601 rows x 1 columns]"
            ],
            "text/html": [
              "\n",
              "  <div id=\"df-a5af74c4-76e9-42cc-b7c8-4021c623ff37\">\n",
              "    <div class=\"colab-df-container\">\n",
              "      <div>\n",
              "<style scoped>\n",
              "    .dataframe tbody tr th:only-of-type {\n",
              "        vertical-align: middle;\n",
              "    }\n",
              "\n",
              "    .dataframe tbody tr th {\n",
              "        vertical-align: top;\n",
              "    }\n",
              "\n",
              "    .dataframe thead th {\n",
              "        text-align: right;\n",
              "    }\n",
              "</style>\n",
              "<table border=\"1\" class=\"dataframe\">\n",
              "  <thead>\n",
              "    <tr style=\"text-align: right;\">\n",
              "      <th></th>\n",
              "      <th>util</th>\n",
              "    </tr>\n",
              "  </thead>\n",
              "  <tbody>\n",
              "    <tr>\n",
              "      <th>0</th>\n",
              "      <td>-1.277622</td>\n",
              "    </tr>\n",
              "    <tr>\n",
              "      <th>1</th>\n",
              "      <td>-2.310579</td>\n",
              "    </tr>\n",
              "    <tr>\n",
              "      <th>2</th>\n",
              "      <td>-0.243622</td>\n",
              "    </tr>\n",
              "    <tr>\n",
              "      <th>3</th>\n",
              "      <td>-2.150868</td>\n",
              "    </tr>\n",
              "    <tr>\n",
              "      <th>4</th>\n",
              "      <td>-1.033269</td>\n",
              "    </tr>\n",
              "    <tr>\n",
              "      <th>...</th>\n",
              "      <td>...</td>\n",
              "    </tr>\n",
              "    <tr>\n",
              "      <th>596</th>\n",
              "      <td>-1.653236</td>\n",
              "    </tr>\n",
              "    <tr>\n",
              "      <th>597</th>\n",
              "      <td>-0.487326</td>\n",
              "    </tr>\n",
              "    <tr>\n",
              "      <th>598</th>\n",
              "      <td>-0.965284</td>\n",
              "    </tr>\n",
              "    <tr>\n",
              "      <th>599</th>\n",
              "      <td>0.219817</td>\n",
              "    </tr>\n",
              "    <tr>\n",
              "      <th>600</th>\n",
              "      <td>-1.128636</td>\n",
              "    </tr>\n",
              "  </tbody>\n",
              "</table>\n",
              "<p>601 rows × 1 columns</p>\n",
              "</div>\n",
              "      <button class=\"colab-df-convert\" onclick=\"convertToInteractive('df-a5af74c4-76e9-42cc-b7c8-4021c623ff37')\"\n",
              "              title=\"Convert this dataframe to an interactive table.\"\n",
              "              style=\"display:none;\">\n",
              "        \n",
              "  <svg xmlns=\"http://www.w3.org/2000/svg\" height=\"24px\"viewBox=\"0 0 24 24\"\n",
              "       width=\"24px\">\n",
              "    <path d=\"M0 0h24v24H0V0z\" fill=\"none\"/>\n",
              "    <path d=\"M18.56 5.44l.94 2.06.94-2.06 2.06-.94-2.06-.94-.94-2.06-.94 2.06-2.06.94zm-11 1L8.5 8.5l.94-2.06 2.06-.94-2.06-.94L8.5 2.5l-.94 2.06-2.06.94zm10 10l.94 2.06.94-2.06 2.06-.94-2.06-.94-.94-2.06-.94 2.06-2.06.94z\"/><path d=\"M17.41 7.96l-1.37-1.37c-.4-.4-.92-.59-1.43-.59-.52 0-1.04.2-1.43.59L10.3 9.45l-7.72 7.72c-.78.78-.78 2.05 0 2.83L4 21.41c.39.39.9.59 1.41.59.51 0 1.02-.2 1.41-.59l7.78-7.78 2.81-2.81c.8-.78.8-2.07 0-2.86zM5.41 20L4 18.59l7.72-7.72 1.47 1.35L5.41 20z\"/>\n",
              "  </svg>\n",
              "      </button>\n",
              "      \n",
              "  <style>\n",
              "    .colab-df-container {\n",
              "      display:flex;\n",
              "      flex-wrap:wrap;\n",
              "      gap: 12px;\n",
              "    }\n",
              "\n",
              "    .colab-df-convert {\n",
              "      background-color: #E8F0FE;\n",
              "      border: none;\n",
              "      border-radius: 50%;\n",
              "      cursor: pointer;\n",
              "      display: none;\n",
              "      fill: #1967D2;\n",
              "      height: 32px;\n",
              "      padding: 0 0 0 0;\n",
              "      width: 32px;\n",
              "    }\n",
              "\n",
              "    .colab-df-convert:hover {\n",
              "      background-color: #E2EBFA;\n",
              "      box-shadow: 0px 1px 2px rgba(60, 64, 67, 0.3), 0px 1px 3px 1px rgba(60, 64, 67, 0.15);\n",
              "      fill: #174EA6;\n",
              "    }\n",
              "\n",
              "    [theme=dark] .colab-df-convert {\n",
              "      background-color: #3B4455;\n",
              "      fill: #D2E3FC;\n",
              "    }\n",
              "\n",
              "    [theme=dark] .colab-df-convert:hover {\n",
              "      background-color: #434B5C;\n",
              "      box-shadow: 0px 1px 3px 1px rgba(0, 0, 0, 0.15);\n",
              "      filter: drop-shadow(0px 1px 2px rgba(0, 0, 0, 0.3));\n",
              "      fill: #FFFFFF;\n",
              "    }\n",
              "  </style>\n",
              "\n",
              "      <script>\n",
              "        const buttonEl =\n",
              "          document.querySelector('#df-a5af74c4-76e9-42cc-b7c8-4021c623ff37 button.colab-df-convert');\n",
              "        buttonEl.style.display =\n",
              "          google.colab.kernel.accessAllowed ? 'block' : 'none';\n",
              "\n",
              "        async function convertToInteractive(key) {\n",
              "          const element = document.querySelector('#df-a5af74c4-76e9-42cc-b7c8-4021c623ff37');\n",
              "          const dataTable =\n",
              "            await google.colab.kernel.invokeFunction('convertToInteractive',\n",
              "                                                     [key], {});\n",
              "          if (!dataTable) return;\n",
              "\n",
              "          const docLinkHtml = 'Like what you see? Visit the ' +\n",
              "            '<a target=\"_blank\" href=https://colab.research.google.com/notebooks/data_table.ipynb>data table notebook</a>'\n",
              "            + ' to learn more about interactive tables.';\n",
              "          element.innerHTML = '';\n",
              "          dataTable['output_type'] = 'display_data';\n",
              "          await google.colab.output.renderOutput(dataTable, element);\n",
              "          const docLink = document.createElement('div');\n",
              "          docLink.innerHTML = docLinkHtml;\n",
              "          element.appendChild(docLink);\n",
              "        }\n",
              "      </script>\n",
              "    </div>\n",
              "  </div>\n",
              "  "
            ]
          },
          "metadata": {},
          "execution_count": 17
        }
      ]
    },
    {
      "cell_type": "markdown",
      "metadata": {
        "id": "rgw5ORydxFpC"
      },
      "source": [
        "# Exercise 1) Create a more fine tuned ordered logit model\n"
      ]
    },
    {
      "cell_type": "code",
      "metadata": {
        "id": "zMaxCr-52Tme"
      },
      "source": [],
      "execution_count": 17,
      "outputs": []
    },
    {
      "cell_type": "markdown",
      "metadata": {
        "id": "gmp18qrzxrHa"
      },
      "source": [
        "\n",
        "# Exercise 2) Compare the predictions and accuracy of the fine tuned model to a multinomial logit"
      ]
    },
    {
      "cell_type": "code",
      "metadata": {
        "id": "RQ2l9KA82N-e"
      },
      "source": [],
      "execution_count": 17,
      "outputs": []
    }
  ]
}