{
  "nbformat": 4,
  "nbformat_minor": 0,
  "metadata": {
    "colab": {
      "name": "solu_tuto_04_multinomial",
      "provenance": [],
      "collapsed_sections": [],
      "include_colab_link": true
    },
    "kernelspec": {
      "name": "python3",
      "display_name": "Python 3"
    },
    "language_info": {
      "name": "python"
    }
  },
  "cells": [
    {
      "cell_type": "markdown",
      "metadata": {
        "id": "view-in-github",
        "colab_type": "text"
      },
      "source": [
        "<a href=\"https://colab.research.google.com/github/pmontman/tmp_choicemodels/blob/main/nb/tutorials/solutions/WK_04_sol_mnl.ipynb\" target=\"_parent\"><img src=\"https://colab.research.google.com/assets/colab-badge.svg\" alt=\"Open In Colab\"/></a>"
      ]
    },
    {
      "cell_type": "markdown",
      "metadata": {
        "id": "zuJImh8WqX_m"
      },
      "source": [
        "# Tutorial 4: Multinomial logit using the python biogeme package"
      ]
    },
    {
      "cell_type": "markdown",
      "metadata": {
        "id": "tzgJbWL2qlAP"
      },
      "source": [
        "We will learn to specify multinomial logit models using the biogeme package.\n",
        "\n",
        "\"*Biogeme is a open source Python package designed for the maximum likelihood estimation of parametric models in general, with a special emphasis on discrete choice models.*\""
      ]
    },
    {
      "cell_type": "markdown",
      "metadata": {
        "id": "vb9SIunnASNB"
      },
      "source": [
        "# Preparing the environment"
      ]
    },
    {
      "cell_type": "markdown",
      "metadata": {
        "id": "rlvYdSNvrRfV"
      },
      "source": [
        "Google colab environment does not have biogeme installed by default,\n",
        "so we need to install in every session. Hopefully, it will take less than one minute. Once installed it will be valid until the session expires (or we reset it)."
      ]
    },
    {
      "cell_type": "code",
      "metadata": {
        "id": "j5zHGhgErHPd",
        "colab": {
          "base_uri": "https://localhost:8080/"
        },
        "outputId": "c14de4bd-bc50-44ee-9c53-3c4cc5d76ec7"
      },
      "source": [
        "!pip install biogeme"
      ],
      "execution_count": 32,
      "outputs": [
        {
          "output_type": "stream",
          "name": "stdout",
          "text": [
            "Looking in indexes: https://pypi.org/simple, https://us-python.pkg.dev/colab-wheels/public/simple/\n",
            "Requirement already satisfied: biogeme in /usr/local/lib/python3.7/dist-packages (3.2.9)\n"
          ]
        }
      ]
    },
    {
      "cell_type": "markdown",
      "metadata": {
        "id": "1z0X9xZ8rChf"
      },
      "source": [
        "First load the packages typical packages, biogeme and the common one for python data analysis."
      ]
    },
    {
      "cell_type": "code",
      "metadata": {
        "id": "apVB-TMkrFnb"
      },
      "source": [
        "import pandas  as pd\n",
        "import numpy as np\n",
        "import seaborn as sns\n",
        "import matplotlib.pyplot as plt\n",
        "\n",
        "import biogeme.database as db\n",
        "import biogeme.biogeme as bio\n",
        "import biogeme.models as models\n",
        "import biogeme.expressions as exp\n"
      ],
      "execution_count": 33,
      "outputs": []
    },
    {
      "cell_type": "markdown",
      "metadata": {
        "id": "Mgv0hV1YAieW"
      },
      "source": [
        "# The dataset\n",
        "\n",
        "We will use the example from the biogeme package, Swissmetro dataset:\n",
        "\n",
        "\"*This dataset consists of survey data collected on the trains between St. Gallen and Geneva, Switzerland, during March 1998. The respondents provided information in order to analyze the impact of\n",
        "the modal innovation in transportation (a new mode of transport), represented by the Swissmetro, a revolutionary mag-lev underground system, against the usual transport modes represented by car and train.*\""
      ]
    },
    {
      "cell_type": "markdown",
      "metadata": {
        "id": "_Zq_3AwIr7u8"
      },
      "source": [
        "---\n",
        "---\n",
        "\n",
        "#Loading the dataset\n",
        "\n",
        "Biogeme can interact with the popular pandas package, so we can load the dataset in pandas first and then pass it to biogeme.\n",
        "\n",
        "This specific dataset uses the format 'tab separated values' instead of the more common 'comma separated values'. We can specify this non-standard separator by the argument `sep` in `pandas.read_csv`.\n",
        "\n"
      ]
    },
    {
      "cell_type": "code",
      "metadata": {
        "id": "g1Ykn5Ytr7Rs"
      },
      "source": [
        "swissmetro = pd.read_csv('http://transp-or.epfl.ch/data/swissmetro.dat', sep='\\t')"
      ],
      "execution_count": 34,
      "outputs": []
    },
    {
      "cell_type": "markdown",
      "metadata": {
        "id": "ZY55r3Gesb3t"
      },
      "source": [
        "We will take a look at it, using the head() method of to display the first few rows.\n",
        "\n",
        "There is a detailed description of the dataset \n",
        "variables [here](http://transp-or.epfl.ch/documents/technicalReports/CS_SwissmetroDescription.pdf). **You will need to take a look at them later\n",
        "to understand the data and create your own models.**"
      ]
    },
    {
      "cell_type": "code",
      "metadata": {
        "id": "ldkmnMhssemT",
        "colab": {
          "base_uri": "https://localhost:8080/",
          "height": 236
        },
        "outputId": "d8eeaa2d-9925-483b-f503-8a799dc17901"
      },
      "source": [
        "swissmetro.head(5)"
      ],
      "execution_count": 35,
      "outputs": [
        {
          "output_type": "execute_result",
          "data": {
            "text/plain": [
              "   GROUP  SURVEY  SP  ID  PURPOSE  FIRST  TICKET  WHO  LUGGAGE  AGE  ...  \\\n",
              "0      2       0   1   1        1      0       1    1        0    3  ...   \n",
              "1      2       0   1   1        1      0       1    1        0    3  ...   \n",
              "2      2       0   1   1        1      0       1    1        0    3  ...   \n",
              "3      2       0   1   1        1      0       1    1        0    3  ...   \n",
              "4      2       0   1   1        1      0       1    1        0    3  ...   \n",
              "\n",
              "   TRAIN_TT  TRAIN_CO  TRAIN_HE  SM_TT  SM_CO  SM_HE  SM_SEATS  CAR_TT  \\\n",
              "0       112        48       120     63     52     20         0     117   \n",
              "1       103        48        30     60     49     10         0     117   \n",
              "2       130        48        60     67     58     30         0     117   \n",
              "3       103        40        30     63     52     20         0      72   \n",
              "4       130        36        60     63     42     20         0      90   \n",
              "\n",
              "   CAR_CO  CHOICE  \n",
              "0      65       2  \n",
              "1      84       2  \n",
              "2      52       2  \n",
              "3      52       2  \n",
              "4      84       2  \n",
              "\n",
              "[5 rows x 28 columns]"
            ],
            "text/html": [
              "\n",
              "  <div id=\"df-296c5106-ec65-46ad-a921-f1bb601e090a\">\n",
              "    <div class=\"colab-df-container\">\n",
              "      <div>\n",
              "<style scoped>\n",
              "    .dataframe tbody tr th:only-of-type {\n",
              "        vertical-align: middle;\n",
              "    }\n",
              "\n",
              "    .dataframe tbody tr th {\n",
              "        vertical-align: top;\n",
              "    }\n",
              "\n",
              "    .dataframe thead th {\n",
              "        text-align: right;\n",
              "    }\n",
              "</style>\n",
              "<table border=\"1\" class=\"dataframe\">\n",
              "  <thead>\n",
              "    <tr style=\"text-align: right;\">\n",
              "      <th></th>\n",
              "      <th>GROUP</th>\n",
              "      <th>SURVEY</th>\n",
              "      <th>SP</th>\n",
              "      <th>ID</th>\n",
              "      <th>PURPOSE</th>\n",
              "      <th>FIRST</th>\n",
              "      <th>TICKET</th>\n",
              "      <th>WHO</th>\n",
              "      <th>LUGGAGE</th>\n",
              "      <th>AGE</th>\n",
              "      <th>...</th>\n",
              "      <th>TRAIN_TT</th>\n",
              "      <th>TRAIN_CO</th>\n",
              "      <th>TRAIN_HE</th>\n",
              "      <th>SM_TT</th>\n",
              "      <th>SM_CO</th>\n",
              "      <th>SM_HE</th>\n",
              "      <th>SM_SEATS</th>\n",
              "      <th>CAR_TT</th>\n",
              "      <th>CAR_CO</th>\n",
              "      <th>CHOICE</th>\n",
              "    </tr>\n",
              "  </thead>\n",
              "  <tbody>\n",
              "    <tr>\n",
              "      <th>0</th>\n",
              "      <td>2</td>\n",
              "      <td>0</td>\n",
              "      <td>1</td>\n",
              "      <td>1</td>\n",
              "      <td>1</td>\n",
              "      <td>0</td>\n",
              "      <td>1</td>\n",
              "      <td>1</td>\n",
              "      <td>0</td>\n",
              "      <td>3</td>\n",
              "      <td>...</td>\n",
              "      <td>112</td>\n",
              "      <td>48</td>\n",
              "      <td>120</td>\n",
              "      <td>63</td>\n",
              "      <td>52</td>\n",
              "      <td>20</td>\n",
              "      <td>0</td>\n",
              "      <td>117</td>\n",
              "      <td>65</td>\n",
              "      <td>2</td>\n",
              "    </tr>\n",
              "    <tr>\n",
              "      <th>1</th>\n",
              "      <td>2</td>\n",
              "      <td>0</td>\n",
              "      <td>1</td>\n",
              "      <td>1</td>\n",
              "      <td>1</td>\n",
              "      <td>0</td>\n",
              "      <td>1</td>\n",
              "      <td>1</td>\n",
              "      <td>0</td>\n",
              "      <td>3</td>\n",
              "      <td>...</td>\n",
              "      <td>103</td>\n",
              "      <td>48</td>\n",
              "      <td>30</td>\n",
              "      <td>60</td>\n",
              "      <td>49</td>\n",
              "      <td>10</td>\n",
              "      <td>0</td>\n",
              "      <td>117</td>\n",
              "      <td>84</td>\n",
              "      <td>2</td>\n",
              "    </tr>\n",
              "    <tr>\n",
              "      <th>2</th>\n",
              "      <td>2</td>\n",
              "      <td>0</td>\n",
              "      <td>1</td>\n",
              "      <td>1</td>\n",
              "      <td>1</td>\n",
              "      <td>0</td>\n",
              "      <td>1</td>\n",
              "      <td>1</td>\n",
              "      <td>0</td>\n",
              "      <td>3</td>\n",
              "      <td>...</td>\n",
              "      <td>130</td>\n",
              "      <td>48</td>\n",
              "      <td>60</td>\n",
              "      <td>67</td>\n",
              "      <td>58</td>\n",
              "      <td>30</td>\n",
              "      <td>0</td>\n",
              "      <td>117</td>\n",
              "      <td>52</td>\n",
              "      <td>2</td>\n",
              "    </tr>\n",
              "    <tr>\n",
              "      <th>3</th>\n",
              "      <td>2</td>\n",
              "      <td>0</td>\n",
              "      <td>1</td>\n",
              "      <td>1</td>\n",
              "      <td>1</td>\n",
              "      <td>0</td>\n",
              "      <td>1</td>\n",
              "      <td>1</td>\n",
              "      <td>0</td>\n",
              "      <td>3</td>\n",
              "      <td>...</td>\n",
              "      <td>103</td>\n",
              "      <td>40</td>\n",
              "      <td>30</td>\n",
              "      <td>63</td>\n",
              "      <td>52</td>\n",
              "      <td>20</td>\n",
              "      <td>0</td>\n",
              "      <td>72</td>\n",
              "      <td>52</td>\n",
              "      <td>2</td>\n",
              "    </tr>\n",
              "    <tr>\n",
              "      <th>4</th>\n",
              "      <td>2</td>\n",
              "      <td>0</td>\n",
              "      <td>1</td>\n",
              "      <td>1</td>\n",
              "      <td>1</td>\n",
              "      <td>0</td>\n",
              "      <td>1</td>\n",
              "      <td>1</td>\n",
              "      <td>0</td>\n",
              "      <td>3</td>\n",
              "      <td>...</td>\n",
              "      <td>130</td>\n",
              "      <td>36</td>\n",
              "      <td>60</td>\n",
              "      <td>63</td>\n",
              "      <td>42</td>\n",
              "      <td>20</td>\n",
              "      <td>0</td>\n",
              "      <td>90</td>\n",
              "      <td>84</td>\n",
              "      <td>2</td>\n",
              "    </tr>\n",
              "  </tbody>\n",
              "</table>\n",
              "<p>5 rows × 28 columns</p>\n",
              "</div>\n",
              "      <button class=\"colab-df-convert\" onclick=\"convertToInteractive('df-296c5106-ec65-46ad-a921-f1bb601e090a')\"\n",
              "              title=\"Convert this dataframe to an interactive table.\"\n",
              "              style=\"display:none;\">\n",
              "        \n",
              "  <svg xmlns=\"http://www.w3.org/2000/svg\" height=\"24px\"viewBox=\"0 0 24 24\"\n",
              "       width=\"24px\">\n",
              "    <path d=\"M0 0h24v24H0V0z\" fill=\"none\"/>\n",
              "    <path d=\"M18.56 5.44l.94 2.06.94-2.06 2.06-.94-2.06-.94-.94-2.06-.94 2.06-2.06.94zm-11 1L8.5 8.5l.94-2.06 2.06-.94-2.06-.94L8.5 2.5l-.94 2.06-2.06.94zm10 10l.94 2.06.94-2.06 2.06-.94-2.06-.94-.94-2.06-.94 2.06-2.06.94z\"/><path d=\"M17.41 7.96l-1.37-1.37c-.4-.4-.92-.59-1.43-.59-.52 0-1.04.2-1.43.59L10.3 9.45l-7.72 7.72c-.78.78-.78 2.05 0 2.83L4 21.41c.39.39.9.59 1.41.59.51 0 1.02-.2 1.41-.59l7.78-7.78 2.81-2.81c.8-.78.8-2.07 0-2.86zM5.41 20L4 18.59l7.72-7.72 1.47 1.35L5.41 20z\"/>\n",
              "  </svg>\n",
              "      </button>\n",
              "      \n",
              "  <style>\n",
              "    .colab-df-container {\n",
              "      display:flex;\n",
              "      flex-wrap:wrap;\n",
              "      gap: 12px;\n",
              "    }\n",
              "\n",
              "    .colab-df-convert {\n",
              "      background-color: #E8F0FE;\n",
              "      border: none;\n",
              "      border-radius: 50%;\n",
              "      cursor: pointer;\n",
              "      display: none;\n",
              "      fill: #1967D2;\n",
              "      height: 32px;\n",
              "      padding: 0 0 0 0;\n",
              "      width: 32px;\n",
              "    }\n",
              "\n",
              "    .colab-df-convert:hover {\n",
              "      background-color: #E2EBFA;\n",
              "      box-shadow: 0px 1px 2px rgba(60, 64, 67, 0.3), 0px 1px 3px 1px rgba(60, 64, 67, 0.15);\n",
              "      fill: #174EA6;\n",
              "    }\n",
              "\n",
              "    [theme=dark] .colab-df-convert {\n",
              "      background-color: #3B4455;\n",
              "      fill: #D2E3FC;\n",
              "    }\n",
              "\n",
              "    [theme=dark] .colab-df-convert:hover {\n",
              "      background-color: #434B5C;\n",
              "      box-shadow: 0px 1px 3px 1px rgba(0, 0, 0, 0.15);\n",
              "      filter: drop-shadow(0px 1px 2px rgba(0, 0, 0, 0.3));\n",
              "      fill: #FFFFFF;\n",
              "    }\n",
              "  </style>\n",
              "\n",
              "      <script>\n",
              "        const buttonEl =\n",
              "          document.querySelector('#df-296c5106-ec65-46ad-a921-f1bb601e090a button.colab-df-convert');\n",
              "        buttonEl.style.display =\n",
              "          google.colab.kernel.accessAllowed ? 'block' : 'none';\n",
              "\n",
              "        async function convertToInteractive(key) {\n",
              "          const element = document.querySelector('#df-296c5106-ec65-46ad-a921-f1bb601e090a');\n",
              "          const dataTable =\n",
              "            await google.colab.kernel.invokeFunction('convertToInteractive',\n",
              "                                                     [key], {});\n",
              "          if (!dataTable) return;\n",
              "\n",
              "          const docLinkHtml = 'Like what you see? Visit the ' +\n",
              "            '<a target=\"_blank\" href=https://colab.research.google.com/notebooks/data_table.ipynb>data table notebook</a>'\n",
              "            + ' to learn more about interactive tables.';\n",
              "          element.innerHTML = '';\n",
              "          dataTable['output_type'] = 'display_data';\n",
              "          await google.colab.output.renderOutput(dataTable, element);\n",
              "          const docLink = document.createElement('div');\n",
              "          docLink.innerHTML = docLinkHtml;\n",
              "          element.appendChild(docLink);\n",
              "        }\n",
              "      </script>\n",
              "    </div>\n",
              "  </div>\n",
              "  "
            ]
          },
          "metadata": {},
          "execution_count": 35
        }
      ]
    },
    {
      "cell_type": "markdown",
      "metadata": {
        "id": "K3-FzZrJuma4"
      },
      "source": [
        "We see some socioeconomic characteristics such as 'AGE', likely encoding by age groups, 'MALE' which we can assume refers to gender. There are also some attributes of the alternatives, such as 'CAR_TT' which would be travel time in car, 'TRAIN_CO' which refers to the cost of the fare by train.\n",
        "\n",
        "An important variable is 'CHOICE' it is the result of the choice for each individual, coded as 1 for train, 2 for swissmetro, 3 for car. The value 0 indicates invalid response."
      ]
    },
    {
      "cell_type": "markdown",
      "metadata": {
        "id": "o3BZ4otYvdYM"
      },
      "source": [
        "---\n",
        "---\n",
        "\n",
        "# Passing the dataset to biogeme\n",
        "\n",
        "For now, we have loaded the dataset into a pandas dataframe, we need to transform it into a Biogeme database, the format that biogeme understands.\n",
        "We pass first argument the name of the database that we want to give and second the pandas dataframe."
      ]
    },
    {
      "cell_type": "code",
      "metadata": {
        "id": "JAuXh-SfvcwT"
      },
      "source": [
        "bgm_swissmetro = db.Database('swissmetro', swissmetro)"
      ],
      "execution_count": 36,
      "outputs": []
    },
    {
      "cell_type": "markdown",
      "metadata": {
        "id": "LOO_ErPbw0go"
      },
      "source": [
        "We can access the dictionary of variables in the biogeme database the following way:"
      ]
    },
    {
      "cell_type": "code",
      "metadata": {
        "id": "6Bt1iHz9xUHm",
        "colab": {
          "base_uri": "https://localhost:8080/"
        },
        "outputId": "7193b6bd-bc78-4b62-c8b7-3125607efb01"
      },
      "source": [
        "bgm_swissmetro.variables['CHOICE']"
      ],
      "execution_count": 37,
      "outputs": [
        {
          "output_type": "execute_result",
          "data": {
            "text/plain": [
              "CHOICE"
            ]
          },
          "metadata": {},
          "execution_count": 37
        }
      ]
    },
    {
      "cell_type": "markdown",
      "metadata": {
        "id": "qmw2wtC2yHFZ"
      },
      "source": [
        "Because this is too verbose, we can load them into the global variables\n",
        "of the python environment, to make the symbolic manipulation less verbose, so we can refer to them just by writing `VARIABLE_NAME` instead of having to write `database.variables['VARIABLE_NAME']`. **Note that the use of global variables is discouraged in general, we use it here for the sake of simplicity, but if we are dealing with complex code, it can lead to confusion. For example when using several biogeme databases at the same time, that share variable names**\n",
        "\n",
        "The following line of code adds the name of the variables in the biogeme to the global environment in python. We check that now, for example `CHOICE` is understood by python as a variable in the biogeme database."
      ]
    },
    {
      "cell_type": "code",
      "metadata": {
        "id": "q3VDQa8Xwln5",
        "colab": {
          "base_uri": "https://localhost:8080/"
        },
        "outputId": "970768de-e032-41d5-9f18-dffe7e060266"
      },
      "source": [
        "globals().update(bgm_swissmetro.variables)\n",
        "CHOICE"
      ],
      "execution_count": 38,
      "outputs": [
        {
          "output_type": "execute_result",
          "data": {
            "text/plain": [
              "CHOICE"
            ]
          },
          "metadata": {},
          "execution_count": 38
        }
      ]
    },
    {
      "cell_type": "markdown",
      "metadata": {
        "id": "G-WceQeczaS4"
      },
      "source": [
        "Before we begin, we will need to clean the dataset a bit, as suggested by the creators of the dataset.\n",
        "\n",
        "In this case, we have people that did not respond to the survey, and their value assigned\n",
        "to the choice is 0. The only valid values for the choice are 1,2,3 indicating\n",
        "the alternatives, train, swissmetro and car.\n",
        "We can remove them from the biogeme database using the `remove` method with the logical indicator for the row that have choice 0.\n",
        "\n",
        "**It is recommended that all database manipulations/cleaning are applied directly on the pandas dataframe before passing it to biogeme.** The reason being that pandas is better designed for that purpose and makes the code more readable. Ideally we would like out interactions with biogeme to be minimized and do as much as possible with the standard frameworks such as pandas.  "
      ]
    },
    {
      "cell_type": "code",
      "metadata": {
        "id": "xV8HYAgdREiN"
      },
      "source": [
        "bgm_swissmetro.remove( (CHOICE == 0) )\n"
      ],
      "execution_count": 39,
      "outputs": []
    },
    {
      "cell_type": "code",
      "source": [
        "#If using pandas, we would call, for example:\n",
        "#swissmetro[swissmetro.CHOICE !=0]\n",
        "#BEFORE creating the biogeme database\n",
        "#bgm_swissmetro = db.Database('swissmetro', swissmetro)"
      ],
      "metadata": {
        "id": "MpLk_KvpkD3R"
      },
      "execution_count": 40,
      "outputs": []
    },
    {
      "cell_type": "markdown",
      "metadata": {
        "id": "KqiArlqd0qFR"
      },
      "source": [
        "---\n",
        "---\n",
        "\n",
        "# Creating the model\n",
        "\n",
        "What we usually need to define in the multinomial logit can be summarized as:\n",
        " * Which variables in the database are we going to include in the model linear model.\n",
        " * What is the variable in the database that specifies the choice made, the alternative selected by an individual. The 'target variable' or dependent variable.\n",
        " * What variables are used in the modelling of each alternative. Remember that we can define a utility function for each alternative, this means that different alternatives could use different variables.\n",
        "\n",
        "We can connect this back to the utily theory view, we want to specify the functions that produce the observed component of the utility, the $V_{nj}$\n",
        "\n",
        "For each alternative $j$ and observation $n$, we consider the vector $x_{nj}$\n",
        "to be the joint vector of for both attributes and characteristics (to simplify things).  We try to find the vector of coefficients $\\beta_j$ for each alternative. In other words, we try to find the linear relationship between the variables and utility for each alternative:\n",
        "  $$V_{nj} = \\beta_j x_n$$ \n",
        "\n",
        "Technical things to consider:\n",
        "\n",
        "* Consider that some attributes or characteristics are not relevant for some alternatives: This would be equivalent to fixing some of the values for $\\beta_j$ to 0 and not fitting them to data.\n",
        "* Consider that some attributes or characteristics 'share' the value of the coefficient. For example, we can specify that age affects the same way to all alternatives.\n"
      ]
    },
    {
      "cell_type": "markdown",
      "metadata": {
        "id": "0De-iYpQbw67"
      },
      "source": [
        "---\n",
        "---\n",
        "\n",
        "# The alternative specific constants:\n",
        "Just as in linear models we have the intercept, in choice models we have alternative specific constants. An important difference is that we cannot determine their 'true' value, because we have seen in the previous tutorial that the absolute level of utilities cannot be recovered, only relative differences among alternatives. In practice, what we will do is assume that the attribute specific characteristic of one of the alternatives is set to 0 and we do not fit it to the data. This will set a reference point.\n",
        "\n",
        "Again, which alternative we use as reference and what value for the ASC is arbitrary, up to use. We often choose wich alternative is set its ASC to 0 for interpretability (e.g. positive numbers in other ASCs will mean more utilty than the reference, negative numbers less utility than the reference, **all other things being equal**).\n"
      ]
    },
    {
      "cell_type": "markdown",
      "metadata": {
        "id": "PIouJf_BRyUu"
      },
      "source": [
        "---\n",
        "---\n",
        "\n",
        "# Definition of the model in biogeme\n",
        "We define the parameters of the model through the function `exp.Beta`.\n",
        "The function `exp.Beta` takes 5 arguments:\n",
        "1. the name of the parameter.\n",
        "2. the default value. We can use 0 for the default values unless we know a better starting value, for example when we have prior information.\n",
        "3. The lower bound, if we want to restrict it to a range, `None` if we do not want to restrict the value of the parameter. For example, sometimes we might know or would like to for a parameter to be positive.\n",
        "4. The upper bound, if we want to restrict it to a range, `None` if we do not want to restrict the value of the parameter.\n",
        "5. A 0/1 argument, 0 if the parameter must be estimated and 1 if it remains fixed.\n",
        "\n",
        "We will define a simple model with just the three ASCs and two parameters for two variables of interest, time and cost.\n",
        "Note that one of the ASCs, `ASC_SM` is set to not be estimated, notice the 1 in the value of the last argument when it is created. This comes from the explanation above, we set one of the ASCs arbitrarily to 0 because we utility cannot be recovered up to changes in constants, so we will pick among the many possible solutions the one that makes the ASC for the SwissMetro alternative 0.\n"
      ]
    },
    {
      "cell_type": "code",
      "metadata": {
        "id": "zOpyvTcbRPy4"
      },
      "source": [
        "ASC_CAR = exp.Beta ( 'ASC_CAR' ,0, None , None ,0)\n",
        "ASC_TRAIN = exp.Beta ( 'ASC_TRAIN' ,0, None , None ,0)\n",
        "ASC_SM = exp.Beta ( 'ASC_SM' ,0, None , None ,1)\n",
        "B_TIME = exp.Beta ( 'B_TIME' ,0, None , None ,0)\n",
        "B_COST = exp.Beta ( 'B_COST' ,0, None , None ,0)"
      ],
      "execution_count": 41,
      "outputs": []
    },
    {
      "cell_type": "markdown",
      "metadata": {
        "id": "t3REqjxrj2x1"
      },
      "source": [
        "We will create an artificial variable, ussing the luggage variable but squared.\n",
        "This variable will only be included as a parameter for the utility of the car alternative. This is a totally arbitrary variable for the purposes of exposition, it does not mean that it is a good one."
      ]
    },
    {
      "cell_type": "code",
      "metadata": {
        "id": "wwISbL_Gi-A_"
      },
      "source": [
        "B_LUGGA_SQ = exp.Beta( 'B_LUGGA_SQ', 0, None, None, 0)\n",
        "LUGGA_SQ = LUGGAGE**2"
      ],
      "execution_count": 42,
      "outputs": []
    },
    {
      "cell_type": "markdown",
      "metadata": {
        "id": "YT3brmCSUaLB"
      },
      "source": [
        "A warning from the creator of the biogeme package:\n",
        "when we define the parameters of our model, we store them into python variables.\n",
        "The author strongly recomments using the same name for the python variable\n",
        "than for the parameter.\n",
        "For example, while we could have define the variable following the code in the next cell, it is not recommended. I imagine that this could cause some confusion later on.\n",
        "\n"
      ]
    },
    {
      "cell_type": "code",
      "metadata": {
        "id": "J6jlUKDRUfjx"
      },
      "source": [
        "#doing this is not recommended!\n",
        "car_cte = exp.Beta( 'ASC_CAR' ,0, None , None ,0)"
      ],
      "execution_count": 43,
      "outputs": []
    },
    {
      "cell_type": "markdown",
      "metadata": {
        "id": "4ECerH2CWOBV"
      },
      "source": [
        "We now define the utility functions for each alternative, more speficifically the linear relationship between the variables and the observed component of the utility. The are the $V_j$ in our model."
      ]
    },
    {
      "cell_type": "code",
      "metadata": {
        "id": "VZ7iyvO4WEtz"
      },
      "source": [
        "V1 = ASC_TRAIN + B_TIME * TRAIN_TT + B_COST * TRAIN_CO \n",
        "\n",
        "V2 = ASC_SM + B_TIME * SM_TT + B_COST * SM_CO \n",
        "\n",
        "V3 = ASC_CAR + B_TIME * CAR_TT + B_COST * CAR_CO + B_LUGGA_SQ*LUGGA_SQ\n"
      ],
      "execution_count": 44,
      "outputs": []
    },
    {
      "cell_type": "markdown",
      "metadata": {
        "id": "DEC2xflnWfHr"
      },
      "source": [
        "We have to create a dictionary that maps the utility functions to the numbers that identify the alternatives in the database.\n",
        "In this case 1 for Train, 2 for Swissmetro, 3 for car."
      ]
    },
    {
      "cell_type": "code",
      "metadata": {
        "id": "B8hQMvaFWekd"
      },
      "source": [
        "V = {1: V1 ,\n",
        "2: V2 ,\n",
        "3: V3 }"
      ],
      "execution_count": 45,
      "outputs": []
    },
    {
      "cell_type": "markdown",
      "metadata": {
        "id": "Bs6NR7URW4_w"
      },
      "source": [
        "We have to pass availabilities, these are the indicator variables signaling if the option is available for that individual. Remember that the multinomial does not need to have all alternatives present for all individuals, it can recover the model from data even if the full choice set is not available for all individuals. In most normal situations, availabilities can be set to one, becuase individuals observe all alternatives. **An example when this does npt happen can be a survey with many alternatives, and not all are presented to the individual at the same time.**"
      ]
    },
    {
      "cell_type": "code",
      "metadata": {
        "id": "7cFRkLSQW5bZ"
      },
      "source": [
        "av = {1: TRAIN_AV,\n",
        "2: SM_AV,\n",
        "3: CAR_AV }"
      ],
      "execution_count": 46,
      "outputs": []
    },
    {
      "cell_type": "markdown",
      "metadata": {
        "id": "Ibxs6VjNDDo6"
      },
      "source": [
        "This is the definition of the model, in this case the multinomial logit (we will use other models later)."
      ]
    },
    {
      "cell_type": "code",
      "metadata": {
        "id": "FFPU3K7EXlZm"
      },
      "source": [
        "logprob = models.loglogit (V , av , CHOICE )"
      ],
      "execution_count": 47,
      "outputs": []
    },
    {
      "cell_type": "markdown",
      "metadata": {
        "id": "G6TgmVHtdT9G"
      },
      "source": [
        "And finally we pack everything together in the biogeme object."
      ]
    },
    {
      "cell_type": "code",
      "metadata": {
        "id": "4Qw4I1HdXgvb"
      },
      "source": [
        "bgm_model = bio.BIOGEME ( bgm_swissmetro, logprob )"
      ],
      "execution_count": 48,
      "outputs": []
    },
    {
      "cell_type": "markdown",
      "metadata": {
        "id": "ez0sa4fAcT9b"
      },
      "source": [
        "We can give a name to the model, this can help identifying the model when we come back to it later, for example when we save it to a file and want to use it in another report."
      ]
    },
    {
      "cell_type": "code",
      "metadata": {
        "id": "zn-2Fy3JX2Gi"
      },
      "source": [
        "bgm_model.modelName = 'my first multinomial logit'"
      ],
      "execution_count": 49,
      "outputs": []
    },
    {
      "cell_type": "markdown",
      "metadata": {
        "id": "86bZksOJb70Y"
      },
      "source": [
        "# Estimation of the model\n",
        "\n",
        "Everythin is set, biogeme will kindly do maximum likelihood estimation for us."
      ]
    },
    {
      "cell_type": "code",
      "metadata": {
        "id": "XqRyOneGYG2t"
      },
      "source": [
        "results = bgm_model.estimate()"
      ],
      "execution_count": 50,
      "outputs": []
    },
    {
      "cell_type": "markdown",
      "metadata": {
        "id": "d4RInW7rcC3r"
      },
      "source": [
        "# Results of the model\n",
        "\n",
        "We can check a basic summary of the estimated model, likelihoods, information\n",
        "criterions, etc."
      ]
    },
    {
      "cell_type": "code",
      "metadata": {
        "id": "oMV3mFzuYJKB",
        "colab": {
          "base_uri": "https://localhost:8080/"
        },
        "outputId": "84b7c1a2-c03c-4b29-a608-b389f1de6b8c"
      },
      "source": [
        "results.getGeneralStatistics()"
      ],
      "execution_count": 51,
      "outputs": [
        {
          "output_type": "execute_result",
          "data": {
            "text/plain": [
              "{'Number of estimated parameters': GeneralStatistic(value=5, format=''),\n",
              " 'Sample size': GeneralStatistic(value=10719, format=''),\n",
              " 'Excluded observations': GeneralStatistic(value=9, format=''),\n",
              " 'Init log likelihood': GeneralStatistic(value=-11434.723321665173, format='.7g'),\n",
              " 'Final log likelihood': GeneralStatistic(value=-8901.037009384283, format='.7g'),\n",
              " 'Likelihood ratio test for the init. model': GeneralStatistic(value=5067.37262456178, format='.7g'),\n",
              " 'Rho-square for the init. model': GeneralStatistic(value=0.22157827880980363, format='.3g'),\n",
              " 'Rho-square-bar for the init. model': GeneralStatistic(value=0.22114101418526078, format='.3g'),\n",
              " 'Akaike Information Criterion': GeneralStatistic(value=17812.074018768566, format='.7g'),\n",
              " 'Bayesian Information Criterion': GeneralStatistic(value=17848.472884502025, format='.7g'),\n",
              " 'Final gradient norm': GeneralStatistic(value=0.060229431283387626, format='.4E'),\n",
              " 'Nbr of threads': GeneralStatistic(value=2, format='')}"
            ]
          },
          "metadata": {},
          "execution_count": 51
        }
      ]
    },
    {
      "cell_type": "markdown",
      "metadata": {
        "id": "2IJGgJ59iHHB"
      },
      "source": [
        "The value of the parameters and the p-values for their statistical significance.\n",
        "**Note that ASC_SM is not shown, it was fixed to 0 by us.**"
      ]
    },
    {
      "cell_type": "code",
      "metadata": {
        "id": "6wTlZ6NuYXAf",
        "colab": {
          "base_uri": "https://localhost:8080/",
          "height": 206
        },
        "outputId": "16886fc5-6f66-4a25-e250-90c7e332dcd6"
      },
      "source": [
        "results.getEstimatedParameters()"
      ],
      "execution_count": 52,
      "outputs": [
        {
          "output_type": "execute_result",
          "data": {
            "text/plain": [
              "               Value  Rob. Std err  Rob. t-test  Rob. p-value\n",
              "ASC_CAR     0.288146      0.042592     6.765302  1.330314e-11\n",
              "ASC_TRAIN  -0.537436      0.053722   -10.004045  0.000000e+00\n",
              "B_COST      0.000158      0.000017     9.170692  0.000000e+00\n",
              "B_LUGGA_SQ -0.107936      0.025667    -4.205187  2.608666e-05\n",
              "B_TIME     -0.012348      0.000630   -19.593269  0.000000e+00"
            ],
            "text/html": [
              "\n",
              "  <div id=\"df-3d90aa5f-1e88-45bb-9e72-7482fac61670\">\n",
              "    <div class=\"colab-df-container\">\n",
              "      <div>\n",
              "<style scoped>\n",
              "    .dataframe tbody tr th:only-of-type {\n",
              "        vertical-align: middle;\n",
              "    }\n",
              "\n",
              "    .dataframe tbody tr th {\n",
              "        vertical-align: top;\n",
              "    }\n",
              "\n",
              "    .dataframe thead th {\n",
              "        text-align: right;\n",
              "    }\n",
              "</style>\n",
              "<table border=\"1\" class=\"dataframe\">\n",
              "  <thead>\n",
              "    <tr style=\"text-align: right;\">\n",
              "      <th></th>\n",
              "      <th>Value</th>\n",
              "      <th>Rob. Std err</th>\n",
              "      <th>Rob. t-test</th>\n",
              "      <th>Rob. p-value</th>\n",
              "    </tr>\n",
              "  </thead>\n",
              "  <tbody>\n",
              "    <tr>\n",
              "      <th>ASC_CAR</th>\n",
              "      <td>0.288146</td>\n",
              "      <td>0.042592</td>\n",
              "      <td>6.765302</td>\n",
              "      <td>1.330314e-11</td>\n",
              "    </tr>\n",
              "    <tr>\n",
              "      <th>ASC_TRAIN</th>\n",
              "      <td>-0.537436</td>\n",
              "      <td>0.053722</td>\n",
              "      <td>-10.004045</td>\n",
              "      <td>0.000000e+00</td>\n",
              "    </tr>\n",
              "    <tr>\n",
              "      <th>B_COST</th>\n",
              "      <td>0.000158</td>\n",
              "      <td>0.000017</td>\n",
              "      <td>9.170692</td>\n",
              "      <td>0.000000e+00</td>\n",
              "    </tr>\n",
              "    <tr>\n",
              "      <th>B_LUGGA_SQ</th>\n",
              "      <td>-0.107936</td>\n",
              "      <td>0.025667</td>\n",
              "      <td>-4.205187</td>\n",
              "      <td>2.608666e-05</td>\n",
              "    </tr>\n",
              "    <tr>\n",
              "      <th>B_TIME</th>\n",
              "      <td>-0.012348</td>\n",
              "      <td>0.000630</td>\n",
              "      <td>-19.593269</td>\n",
              "      <td>0.000000e+00</td>\n",
              "    </tr>\n",
              "  </tbody>\n",
              "</table>\n",
              "</div>\n",
              "      <button class=\"colab-df-convert\" onclick=\"convertToInteractive('df-3d90aa5f-1e88-45bb-9e72-7482fac61670')\"\n",
              "              title=\"Convert this dataframe to an interactive table.\"\n",
              "              style=\"display:none;\">\n",
              "        \n",
              "  <svg xmlns=\"http://www.w3.org/2000/svg\" height=\"24px\"viewBox=\"0 0 24 24\"\n",
              "       width=\"24px\">\n",
              "    <path d=\"M0 0h24v24H0V0z\" fill=\"none\"/>\n",
              "    <path d=\"M18.56 5.44l.94 2.06.94-2.06 2.06-.94-2.06-.94-.94-2.06-.94 2.06-2.06.94zm-11 1L8.5 8.5l.94-2.06 2.06-.94-2.06-.94L8.5 2.5l-.94 2.06-2.06.94zm10 10l.94 2.06.94-2.06 2.06-.94-2.06-.94-.94-2.06-.94 2.06-2.06.94z\"/><path d=\"M17.41 7.96l-1.37-1.37c-.4-.4-.92-.59-1.43-.59-.52 0-1.04.2-1.43.59L10.3 9.45l-7.72 7.72c-.78.78-.78 2.05 0 2.83L4 21.41c.39.39.9.59 1.41.59.51 0 1.02-.2 1.41-.59l7.78-7.78 2.81-2.81c.8-.78.8-2.07 0-2.86zM5.41 20L4 18.59l7.72-7.72 1.47 1.35L5.41 20z\"/>\n",
              "  </svg>\n",
              "      </button>\n",
              "      \n",
              "  <style>\n",
              "    .colab-df-container {\n",
              "      display:flex;\n",
              "      flex-wrap:wrap;\n",
              "      gap: 12px;\n",
              "    }\n",
              "\n",
              "    .colab-df-convert {\n",
              "      background-color: #E8F0FE;\n",
              "      border: none;\n",
              "      border-radius: 50%;\n",
              "      cursor: pointer;\n",
              "      display: none;\n",
              "      fill: #1967D2;\n",
              "      height: 32px;\n",
              "      padding: 0 0 0 0;\n",
              "      width: 32px;\n",
              "    }\n",
              "\n",
              "    .colab-df-convert:hover {\n",
              "      background-color: #E2EBFA;\n",
              "      box-shadow: 0px 1px 2px rgba(60, 64, 67, 0.3), 0px 1px 3px 1px rgba(60, 64, 67, 0.15);\n",
              "      fill: #174EA6;\n",
              "    }\n",
              "\n",
              "    [theme=dark] .colab-df-convert {\n",
              "      background-color: #3B4455;\n",
              "      fill: #D2E3FC;\n",
              "    }\n",
              "\n",
              "    [theme=dark] .colab-df-convert:hover {\n",
              "      background-color: #434B5C;\n",
              "      box-shadow: 0px 1px 3px 1px rgba(0, 0, 0, 0.15);\n",
              "      filter: drop-shadow(0px 1px 2px rgba(0, 0, 0, 0.3));\n",
              "      fill: #FFFFFF;\n",
              "    }\n",
              "  </style>\n",
              "\n",
              "      <script>\n",
              "        const buttonEl =\n",
              "          document.querySelector('#df-3d90aa5f-1e88-45bb-9e72-7482fac61670 button.colab-df-convert');\n",
              "        buttonEl.style.display =\n",
              "          google.colab.kernel.accessAllowed ? 'block' : 'none';\n",
              "\n",
              "        async function convertToInteractive(key) {\n",
              "          const element = document.querySelector('#df-3d90aa5f-1e88-45bb-9e72-7482fac61670');\n",
              "          const dataTable =\n",
              "            await google.colab.kernel.invokeFunction('convertToInteractive',\n",
              "                                                     [key], {});\n",
              "          if (!dataTable) return;\n",
              "\n",
              "          const docLinkHtml = 'Like what you see? Visit the ' +\n",
              "            '<a target=\"_blank\" href=https://colab.research.google.com/notebooks/data_table.ipynb>data table notebook</a>'\n",
              "            + ' to learn more about interactive tables.';\n",
              "          element.innerHTML = '';\n",
              "          dataTable['output_type'] = 'display_data';\n",
              "          await google.colab.output.renderOutput(dataTable, element);\n",
              "          const docLink = document.createElement('div');\n",
              "          docLink.innerHTML = docLinkHtml;\n",
              "          element.appendChild(docLink);\n",
              "        }\n",
              "      </script>\n",
              "    </div>\n",
              "  </div>\n",
              "  "
            ]
          },
          "metadata": {},
          "execution_count": 52
        }
      ]
    },
    {
      "cell_type": "markdown",
      "metadata": {
        "id": "AjwSwASHiZ63"
      },
      "source": [
        "We can recover the values for the parameters in a dictionary."
      ]
    },
    {
      "cell_type": "code",
      "metadata": {
        "id": "hbIei-9NYqR4",
        "colab": {
          "base_uri": "https://localhost:8080/"
        },
        "outputId": "83451212-1afc-4889-e23f-01c5dae26166"
      },
      "source": [
        "results.getBetaValues()"
      ],
      "execution_count": 53,
      "outputs": [
        {
          "output_type": "execute_result",
          "data": {
            "text/plain": [
              "{'ASC_CAR': 0.2881462968681277,\n",
              " 'ASC_TRAIN': -0.5374357600867589,\n",
              " 'B_COST': 0.00015829819061999233,\n",
              " 'B_LUGGA_SQ': -0.10793620108633975,\n",
              " 'B_TIME': -0.012348360228362132}"
            ]
          },
          "metadata": {},
          "execution_count": 53
        }
      ]
    },
    {
      "cell_type": "markdown",
      "metadata": {
        "id": "Nt46fenjfLJI"
      },
      "source": [
        "# Exercises\n",
        "\n"
      ]
    },
    {
      "cell_type": "markdown",
      "metadata": {
        "id": "rqM5utIDDl_S"
      },
      "source": [
        "\n",
        "## 1)Do you notice something unexepected in the sign of the cost parameter? Perhaps it has to do with another variable, `GA` the seasonal pass for public transport, a indicator variable of whether the individual has bought the seasonal pass or not. Create new variables for the cost of train and swissmetro that make the cost 0 if the user has bought the seasonal pass and keep the cost intact otherwise. *Please remove the 'luggage squared' variable.* Then fit the same model using those variables for their corresponding alternatives and check the results. \n",
        "\n",
        "The way to do this is to create an indicator variable for 'did not buy a seasonal pass', a varible that takes the value 1 if the used did **not** buy the seasonal pass, 0 otherwise. We can do that several ways, one is by taking the condition 'equals 0' on the original GA, `GA == 0`. Boolean values False/True are transformed into 0/1 integers when computed. Another option, looking at the definition could be transform GA in (1-GA). The second step is to multiply the value of the original cost variables by this new indicator.\n",
        "\n",
        "In the next cell we will also create an auxiliary function to avoid repeating the code that creates and estimates the biogeme model. We will reuse it in other exercises. This auxiliary function takes the utility functions as input and outputs the results of the biogeme estimation.\n",
        "\n",
        "Finally, we will print the estimated parameters."
      ]
    },
    {
      "cell_type": "code",
      "metadata": {
        "id": "mnF-Mjd45469",
        "colab": {
          "base_uri": "https://localhost:8080/",
          "height": 175
        },
        "outputId": "3e6d2c36-b064-44ac-ea9d-4a8c0be89378"
      },
      "source": [
        "TRAIN_CO_GA = TRAIN_CO * (GA ==0 )\n",
        "SM_CO_GA = TRAIN_CO * (GA == 0)\n",
        "\n",
        "V1 = ASC_TRAIN + B_TIME * TRAIN_TT + B_COST * TRAIN_CO_GA \n",
        "V2 = ASC_SM + B_TIME * SM_TT + B_COST * SM_CO_GA \n",
        "V3 = ASC_CAR + B_TIME * CAR_TT + B_COST * CAR_CO # removing lugga+ B_LUGGA_SQ*LUGGA_SQ\n",
        "\n",
        "def estimate_swissmetro_from_V(V1, V2, V3):\n",
        " V = {1: V1 ,\n",
        "  2: V2 ,\n",
        "  3: V3 }\n",
        "\n",
        " av = {1: TRAIN_AV,\n",
        "  2: SM_AV,\n",
        "  3: CAR_AV }\n",
        "\n",
        " logprob = models.loglogit (V , av , CHOICE )\n",
        " bgm_model = bio.BIOGEME ( bgm_swissmetro, logprob )\n",
        " bgm_model.modelName = 'my first multinomial logit'\n",
        " results = bgm_model.estimate()\n",
        " return results\n",
        "\n",
        "resGA = estimate_swissmetro_from_V(V1, V2, V3)\n",
        "resGA.getEstimatedParameters()\n",
        "\n"
      ],
      "execution_count": 54,
      "outputs": [
        {
          "output_type": "execute_result",
          "data": {
            "text/plain": [
              "              Value  Rob. Std err  Rob. t-test  Rob. p-value\n",
              "ASC_CAR    0.121867      0.037615     3.239882      0.001196\n",
              "ASC_TRAIN -0.581335      0.054404   -10.685587      0.000000\n",
              "B_COST    -0.008970      0.000579   -15.479236      0.000000\n",
              "B_TIME    -0.012065      0.000641   -18.812258      0.000000"
            ],
            "text/html": [
              "\n",
              "  <div id=\"df-797299ce-fdd1-4211-a129-b2c6e7e86e9b\">\n",
              "    <div class=\"colab-df-container\">\n",
              "      <div>\n",
              "<style scoped>\n",
              "    .dataframe tbody tr th:only-of-type {\n",
              "        vertical-align: middle;\n",
              "    }\n",
              "\n",
              "    .dataframe tbody tr th {\n",
              "        vertical-align: top;\n",
              "    }\n",
              "\n",
              "    .dataframe thead th {\n",
              "        text-align: right;\n",
              "    }\n",
              "</style>\n",
              "<table border=\"1\" class=\"dataframe\">\n",
              "  <thead>\n",
              "    <tr style=\"text-align: right;\">\n",
              "      <th></th>\n",
              "      <th>Value</th>\n",
              "      <th>Rob. Std err</th>\n",
              "      <th>Rob. t-test</th>\n",
              "      <th>Rob. p-value</th>\n",
              "    </tr>\n",
              "  </thead>\n",
              "  <tbody>\n",
              "    <tr>\n",
              "      <th>ASC_CAR</th>\n",
              "      <td>0.121867</td>\n",
              "      <td>0.037615</td>\n",
              "      <td>3.239882</td>\n",
              "      <td>0.001196</td>\n",
              "    </tr>\n",
              "    <tr>\n",
              "      <th>ASC_TRAIN</th>\n",
              "      <td>-0.581335</td>\n",
              "      <td>0.054404</td>\n",
              "      <td>-10.685587</td>\n",
              "      <td>0.000000</td>\n",
              "    </tr>\n",
              "    <tr>\n",
              "      <th>B_COST</th>\n",
              "      <td>-0.008970</td>\n",
              "      <td>0.000579</td>\n",
              "      <td>-15.479236</td>\n",
              "      <td>0.000000</td>\n",
              "    </tr>\n",
              "    <tr>\n",
              "      <th>B_TIME</th>\n",
              "      <td>-0.012065</td>\n",
              "      <td>0.000641</td>\n",
              "      <td>-18.812258</td>\n",
              "      <td>0.000000</td>\n",
              "    </tr>\n",
              "  </tbody>\n",
              "</table>\n",
              "</div>\n",
              "      <button class=\"colab-df-convert\" onclick=\"convertToInteractive('df-797299ce-fdd1-4211-a129-b2c6e7e86e9b')\"\n",
              "              title=\"Convert this dataframe to an interactive table.\"\n",
              "              style=\"display:none;\">\n",
              "        \n",
              "  <svg xmlns=\"http://www.w3.org/2000/svg\" height=\"24px\"viewBox=\"0 0 24 24\"\n",
              "       width=\"24px\">\n",
              "    <path d=\"M0 0h24v24H0V0z\" fill=\"none\"/>\n",
              "    <path d=\"M18.56 5.44l.94 2.06.94-2.06 2.06-.94-2.06-.94-.94-2.06-.94 2.06-2.06.94zm-11 1L8.5 8.5l.94-2.06 2.06-.94-2.06-.94L8.5 2.5l-.94 2.06-2.06.94zm10 10l.94 2.06.94-2.06 2.06-.94-2.06-.94-.94-2.06-.94 2.06-2.06.94z\"/><path d=\"M17.41 7.96l-1.37-1.37c-.4-.4-.92-.59-1.43-.59-.52 0-1.04.2-1.43.59L10.3 9.45l-7.72 7.72c-.78.78-.78 2.05 0 2.83L4 21.41c.39.39.9.59 1.41.59.51 0 1.02-.2 1.41-.59l7.78-7.78 2.81-2.81c.8-.78.8-2.07 0-2.86zM5.41 20L4 18.59l7.72-7.72 1.47 1.35L5.41 20z\"/>\n",
              "  </svg>\n",
              "      </button>\n",
              "      \n",
              "  <style>\n",
              "    .colab-df-container {\n",
              "      display:flex;\n",
              "      flex-wrap:wrap;\n",
              "      gap: 12px;\n",
              "    }\n",
              "\n",
              "    .colab-df-convert {\n",
              "      background-color: #E8F0FE;\n",
              "      border: none;\n",
              "      border-radius: 50%;\n",
              "      cursor: pointer;\n",
              "      display: none;\n",
              "      fill: #1967D2;\n",
              "      height: 32px;\n",
              "      padding: 0 0 0 0;\n",
              "      width: 32px;\n",
              "    }\n",
              "\n",
              "    .colab-df-convert:hover {\n",
              "      background-color: #E2EBFA;\n",
              "      box-shadow: 0px 1px 2px rgba(60, 64, 67, 0.3), 0px 1px 3px 1px rgba(60, 64, 67, 0.15);\n",
              "      fill: #174EA6;\n",
              "    }\n",
              "\n",
              "    [theme=dark] .colab-df-convert {\n",
              "      background-color: #3B4455;\n",
              "      fill: #D2E3FC;\n",
              "    }\n",
              "\n",
              "    [theme=dark] .colab-df-convert:hover {\n",
              "      background-color: #434B5C;\n",
              "      box-shadow: 0px 1px 3px 1px rgba(0, 0, 0, 0.15);\n",
              "      filter: drop-shadow(0px 1px 2px rgba(0, 0, 0, 0.3));\n",
              "      fill: #FFFFFF;\n",
              "    }\n",
              "  </style>\n",
              "\n",
              "      <script>\n",
              "        const buttonEl =\n",
              "          document.querySelector('#df-797299ce-fdd1-4211-a129-b2c6e7e86e9b button.colab-df-convert');\n",
              "        buttonEl.style.display =\n",
              "          google.colab.kernel.accessAllowed ? 'block' : 'none';\n",
              "\n",
              "        async function convertToInteractive(key) {\n",
              "          const element = document.querySelector('#df-797299ce-fdd1-4211-a129-b2c6e7e86e9b');\n",
              "          const dataTable =\n",
              "            await google.colab.kernel.invokeFunction('convertToInteractive',\n",
              "                                                     [key], {});\n",
              "          if (!dataTable) return;\n",
              "\n",
              "          const docLinkHtml = 'Like what you see? Visit the ' +\n",
              "            '<a target=\"_blank\" href=https://colab.research.google.com/notebooks/data_table.ipynb>data table notebook</a>'\n",
              "            + ' to learn more about interactive tables.';\n",
              "          element.innerHTML = '';\n",
              "          dataTable['output_type'] = 'display_data';\n",
              "          await google.colab.output.renderOutput(dataTable, element);\n",
              "          const docLink = document.createElement('div');\n",
              "          docLink.innerHTML = docLinkHtml;\n",
              "          element.appendChild(docLink);\n",
              "        }\n",
              "      </script>\n",
              "    </div>\n",
              "  </div>\n",
              "  "
            ]
          },
          "metadata": {},
          "execution_count": 54
        }
      ]
    },
    {
      "cell_type": "markdown",
      "metadata": {
        "id": "BZwOKnuo51s8"
      },
      "source": [
        "\n",
        "##2) Create a new model by *including two new variables*, you can use the ones existing or create new ones. Then estimate the model and compare it to the previous one. How can we compare them? Which one is better?\n"
      ]
    },
    {
      "cell_type": "markdown",
      "metadata": {
        "id": "Q5ZIiOWXGCtq"
      },
      "source": [
        "We add the variables \n",
        "'MALE', the indicator of gender, and 'INCOME' a varible that approximates the income of the individual into 5 different sections. We will 'clean' the 'INCOME' variable by assigning the 'unknown' income section into the lower section. We can do this by creating an indicator variable for the unkown incomes and the subtracting it to the actual 'INCOME' multiplied by 4, this makes the rows with 'INCOME 4' into 'INCOME 0'. Values of INCOME 0 are turned into 1 to remove the ambiguety in the definition of the variable (0 and 1 imply the same section of income in the description of the dataset). *These variables are arbitrarily chosen, you could have chosen other variables, or other transformations of the same variables. One thing that is important, however, is to handle invalid values in some way. In this case the invalid values for income are assigned to the lower section of income ranges. Leaving the variable completely unchanged would be a small error.*\n",
        "\n",
        "We will begin with an example of doing it **wrong, there will be a problem with the model.** \n",
        "What is wrong with the following modelling is that we will be adding the socioeconomical variables using one parameter for all alternatives, similar to cost and travel time. *The problem here is that socieconomical variables have the same value for all alternatives, so modelling like this does not help with distinguishing the utilities, it will add the same amout of utility to all alternatives!.*\n",
        "We can see that the coefficients have values of 0."
      ]
    },
    {
      "cell_type": "code",
      "metadata": {
        "colab": {
          "base_uri": "https://localhost:8080/",
          "height": 238
        },
        "id": "s8Uc5rK2F6gC",
        "outputId": "bf58dda9-7811-4d27-a724-6228dd33a59c"
      },
      "source": [
        "#BAD example, socieconomic variables are shared among alternatives\n",
        "B_MALE = exp.Beta( 'B_MALE', 0, None, None, 0)\n",
        "B_INCOME = exp.Beta( 'B_INCOME', 0, None, None, 0)\n",
        "INCOME_FIX = INCOME - 4*(INCOME==4)\n",
        "INCOME_FIX = INCOME_FIX + (INCOME==0)\n",
        "\n",
        "\n",
        "tV1 = ASC_TRAIN + B_TIME * TRAIN_TT + B_COST * TRAIN_CO_GA + B_MALE*MALE + B_INCOME*INCOME_FIX\n",
        "tV2 = ASC_SM + B_TIME * SM_TT + B_COST * SM_CO_GA + B_MALE*MALE + B_INCOME*INCOME_FIX \n",
        "tV3 = ASC_CAR + B_TIME * CAR_TT + B_COST * CAR_CO + B_MALE*MALE + B_INCOME*INCOME_FIX\n",
        "\n",
        "resTwoNewVar = estimate_swissmetro_from_V(tV1, tV2, tV3)\n",
        "resTwoNewVar.getEstimatedParameters()"
      ],
      "execution_count": 55,
      "outputs": [
        {
          "output_type": "execute_result",
          "data": {
            "text/plain": [
              "              Value   Rob. Std err  Rob. t-test  Rob. p-value\n",
              "ASC_CAR    0.121867   3.761456e-02     3.239882      0.001196\n",
              "ASC_TRAIN -0.581335   5.440365e-02   -10.685587      0.000000\n",
              "B_COST    -0.008970   5.794696e-04   -15.479236      0.000000\n",
              "B_INCOME   0.000000   5.730742e-20     0.000000      1.000000\n",
              "B_MALE     0.000000  1.797693e+308     0.000000      1.000000\n",
              "B_TIME    -0.012065   6.413260e-04   -18.812258      0.000000"
            ],
            "text/html": [
              "\n",
              "  <div id=\"df-99a1a67d-ed91-499a-8aab-ae6b514140c2\">\n",
              "    <div class=\"colab-df-container\">\n",
              "      <div>\n",
              "<style scoped>\n",
              "    .dataframe tbody tr th:only-of-type {\n",
              "        vertical-align: middle;\n",
              "    }\n",
              "\n",
              "    .dataframe tbody tr th {\n",
              "        vertical-align: top;\n",
              "    }\n",
              "\n",
              "    .dataframe thead th {\n",
              "        text-align: right;\n",
              "    }\n",
              "</style>\n",
              "<table border=\"1\" class=\"dataframe\">\n",
              "  <thead>\n",
              "    <tr style=\"text-align: right;\">\n",
              "      <th></th>\n",
              "      <th>Value</th>\n",
              "      <th>Rob. Std err</th>\n",
              "      <th>Rob. t-test</th>\n",
              "      <th>Rob. p-value</th>\n",
              "    </tr>\n",
              "  </thead>\n",
              "  <tbody>\n",
              "    <tr>\n",
              "      <th>ASC_CAR</th>\n",
              "      <td>0.121867</td>\n",
              "      <td>3.761456e-02</td>\n",
              "      <td>3.239882</td>\n",
              "      <td>0.001196</td>\n",
              "    </tr>\n",
              "    <tr>\n",
              "      <th>ASC_TRAIN</th>\n",
              "      <td>-0.581335</td>\n",
              "      <td>5.440365e-02</td>\n",
              "      <td>-10.685587</td>\n",
              "      <td>0.000000</td>\n",
              "    </tr>\n",
              "    <tr>\n",
              "      <th>B_COST</th>\n",
              "      <td>-0.008970</td>\n",
              "      <td>5.794696e-04</td>\n",
              "      <td>-15.479236</td>\n",
              "      <td>0.000000</td>\n",
              "    </tr>\n",
              "    <tr>\n",
              "      <th>B_INCOME</th>\n",
              "      <td>0.000000</td>\n",
              "      <td>5.730742e-20</td>\n",
              "      <td>0.000000</td>\n",
              "      <td>1.000000</td>\n",
              "    </tr>\n",
              "    <tr>\n",
              "      <th>B_MALE</th>\n",
              "      <td>0.000000</td>\n",
              "      <td>1.797693e+308</td>\n",
              "      <td>0.000000</td>\n",
              "      <td>1.000000</td>\n",
              "    </tr>\n",
              "    <tr>\n",
              "      <th>B_TIME</th>\n",
              "      <td>-0.012065</td>\n",
              "      <td>6.413260e-04</td>\n",
              "      <td>-18.812258</td>\n",
              "      <td>0.000000</td>\n",
              "    </tr>\n",
              "  </tbody>\n",
              "</table>\n",
              "</div>\n",
              "      <button class=\"colab-df-convert\" onclick=\"convertToInteractive('df-99a1a67d-ed91-499a-8aab-ae6b514140c2')\"\n",
              "              title=\"Convert this dataframe to an interactive table.\"\n",
              "              style=\"display:none;\">\n",
              "        \n",
              "  <svg xmlns=\"http://www.w3.org/2000/svg\" height=\"24px\"viewBox=\"0 0 24 24\"\n",
              "       width=\"24px\">\n",
              "    <path d=\"M0 0h24v24H0V0z\" fill=\"none\"/>\n",
              "    <path d=\"M18.56 5.44l.94 2.06.94-2.06 2.06-.94-2.06-.94-.94-2.06-.94 2.06-2.06.94zm-11 1L8.5 8.5l.94-2.06 2.06-.94-2.06-.94L8.5 2.5l-.94 2.06-2.06.94zm10 10l.94 2.06.94-2.06 2.06-.94-2.06-.94-.94-2.06-.94 2.06-2.06.94z\"/><path d=\"M17.41 7.96l-1.37-1.37c-.4-.4-.92-.59-1.43-.59-.52 0-1.04.2-1.43.59L10.3 9.45l-7.72 7.72c-.78.78-.78 2.05 0 2.83L4 21.41c.39.39.9.59 1.41.59.51 0 1.02-.2 1.41-.59l7.78-7.78 2.81-2.81c.8-.78.8-2.07 0-2.86zM5.41 20L4 18.59l7.72-7.72 1.47 1.35L5.41 20z\"/>\n",
              "  </svg>\n",
              "      </button>\n",
              "      \n",
              "  <style>\n",
              "    .colab-df-container {\n",
              "      display:flex;\n",
              "      flex-wrap:wrap;\n",
              "      gap: 12px;\n",
              "    }\n",
              "\n",
              "    .colab-df-convert {\n",
              "      background-color: #E8F0FE;\n",
              "      border: none;\n",
              "      border-radius: 50%;\n",
              "      cursor: pointer;\n",
              "      display: none;\n",
              "      fill: #1967D2;\n",
              "      height: 32px;\n",
              "      padding: 0 0 0 0;\n",
              "      width: 32px;\n",
              "    }\n",
              "\n",
              "    .colab-df-convert:hover {\n",
              "      background-color: #E2EBFA;\n",
              "      box-shadow: 0px 1px 2px rgba(60, 64, 67, 0.3), 0px 1px 3px 1px rgba(60, 64, 67, 0.15);\n",
              "      fill: #174EA6;\n",
              "    }\n",
              "\n",
              "    [theme=dark] .colab-df-convert {\n",
              "      background-color: #3B4455;\n",
              "      fill: #D2E3FC;\n",
              "    }\n",
              "\n",
              "    [theme=dark] .colab-df-convert:hover {\n",
              "      background-color: #434B5C;\n",
              "      box-shadow: 0px 1px 3px 1px rgba(0, 0, 0, 0.15);\n",
              "      filter: drop-shadow(0px 1px 2px rgba(0, 0, 0, 0.3));\n",
              "      fill: #FFFFFF;\n",
              "    }\n",
              "  </style>\n",
              "\n",
              "      <script>\n",
              "        const buttonEl =\n",
              "          document.querySelector('#df-99a1a67d-ed91-499a-8aab-ae6b514140c2 button.colab-df-convert');\n",
              "        buttonEl.style.display =\n",
              "          google.colab.kernel.accessAllowed ? 'block' : 'none';\n",
              "\n",
              "        async function convertToInteractive(key) {\n",
              "          const element = document.querySelector('#df-99a1a67d-ed91-499a-8aab-ae6b514140c2');\n",
              "          const dataTable =\n",
              "            await google.colab.kernel.invokeFunction('convertToInteractive',\n",
              "                                                     [key], {});\n",
              "          if (!dataTable) return;\n",
              "\n",
              "          const docLinkHtml = 'Like what you see? Visit the ' +\n",
              "            '<a target=\"_blank\" href=https://colab.research.google.com/notebooks/data_table.ipynb>data table notebook</a>'\n",
              "            + ' to learn more about interactive tables.';\n",
              "          element.innerHTML = '';\n",
              "          dataTable['output_type'] = 'display_data';\n",
              "          await google.colab.output.renderOutput(dataTable, element);\n",
              "          const docLink = document.createElement('div');\n",
              "          docLink.innerHTML = docLinkHtml;\n",
              "          element.appendChild(docLink);\n",
              "        }\n",
              "      </script>\n",
              "    </div>\n",
              "  </div>\n",
              "  "
            ]
          },
          "metadata": {},
          "execution_count": 55
        }
      ]
    },
    {
      "cell_type": "markdown",
      "metadata": {
        "id": "6dXC56-cydZ7"
      },
      "source": [
        "We need to add one *parameter per alternative*, to signify that these variables have different influence depending on the alternative."
      ]
    },
    {
      "cell_type": "code",
      "metadata": {
        "id": "AgkG7tJP55Um",
        "colab": {
          "base_uri": "https://localhost:8080/",
          "height": 363
        },
        "outputId": "2b85da76-b9e8-49a5-855d-664699092115"
      },
      "source": [
        "#one example, per alternative socieocon: \n",
        "B_MALE_TR = exp.Beta( 'B_MALE_TR', 0, None, None, 0)\n",
        "B_MALE_SM = exp.Beta( 'B_MALE_SM', 0, None, None, 0)\n",
        "B_MALE_CAR = exp.Beta( 'B_MALE_CAR', 0, None, None, 0)\n",
        "B_INCOME_TR = exp.Beta( 'B_INCOME_TR', 0, None, None, 0)\n",
        "B_INCOME_SM = exp.Beta( 'B_INCOME_SM', 0, None, None, 0)\n",
        "B_INCOME_CAR = exp.Beta( 'B_INCOME_CAR', 0, None, None, 0)\n",
        "\n",
        "tV1 = ASC_TRAIN + B_TIME * TRAIN_TT + B_COST * TRAIN_CO_GA + B_MALE_TR*MALE + B_INCOME_TR*INCOME_FIX\n",
        "tV2 = ASC_SM + B_TIME * SM_TT + B_COST * SM_CO_GA + B_MALE_SM*MALE + B_INCOME_SM*INCOME_FIX\n",
        "tV3 = ASC_CAR + B_TIME * CAR_TT + B_COST * CAR_CO + B_MALE_CAR*MALE+ B_INCOME_CAR*INCOME_FIX\n",
        "\n",
        "resTwoNewVar = estimate_swissmetro_from_V(tV1, tV2, tV3)\n",
        "resTwoNewVar.getEstimatedParameters()\n"
      ],
      "execution_count": 56,
      "outputs": [
        {
          "output_type": "execute_result",
          "data": {
            "text/plain": [
              "                 Value  Rob. Std err  Rob. t-test  Rob. p-value\n",
              "ASC_CAR      -0.040901      0.076764    -0.532808  5.941663e-01\n",
              "ASC_TRAIN     0.557575      0.073494     7.586677  3.286260e-14\n",
              "B_COST       -0.008979      0.000565   -15.904848  0.000000e+00\n",
              "B_INCOME_CAR  0.136010      0.019583     6.945128  3.781198e-12\n",
              "B_INCOME_SM   0.184551      0.016511    11.177324  0.000000e+00\n",
              "B_INCOME_TR  -0.320561      0.021662   -14.798151  0.000000e+00\n",
              "B_MALE_CAR    0.335318      0.044597     7.518932  5.528911e-14\n",
              "B_MALE_SM     0.059968      0.036171     1.657906  9.733635e-02\n",
              "B_MALE_TR    -0.395286      0.043449    -9.097735  0.000000e+00\n",
              "B_TIME       -0.011541      0.000644   -17.926625  0.000000e+00"
            ],
            "text/html": [
              "\n",
              "  <div id=\"df-c52d14b4-4dae-42f9-995c-16f68661e69a\">\n",
              "    <div class=\"colab-df-container\">\n",
              "      <div>\n",
              "<style scoped>\n",
              "    .dataframe tbody tr th:only-of-type {\n",
              "        vertical-align: middle;\n",
              "    }\n",
              "\n",
              "    .dataframe tbody tr th {\n",
              "        vertical-align: top;\n",
              "    }\n",
              "\n",
              "    .dataframe thead th {\n",
              "        text-align: right;\n",
              "    }\n",
              "</style>\n",
              "<table border=\"1\" class=\"dataframe\">\n",
              "  <thead>\n",
              "    <tr style=\"text-align: right;\">\n",
              "      <th></th>\n",
              "      <th>Value</th>\n",
              "      <th>Rob. Std err</th>\n",
              "      <th>Rob. t-test</th>\n",
              "      <th>Rob. p-value</th>\n",
              "    </tr>\n",
              "  </thead>\n",
              "  <tbody>\n",
              "    <tr>\n",
              "      <th>ASC_CAR</th>\n",
              "      <td>-0.040901</td>\n",
              "      <td>0.076764</td>\n",
              "      <td>-0.532808</td>\n",
              "      <td>5.941663e-01</td>\n",
              "    </tr>\n",
              "    <tr>\n",
              "      <th>ASC_TRAIN</th>\n",
              "      <td>0.557575</td>\n",
              "      <td>0.073494</td>\n",
              "      <td>7.586677</td>\n",
              "      <td>3.286260e-14</td>\n",
              "    </tr>\n",
              "    <tr>\n",
              "      <th>B_COST</th>\n",
              "      <td>-0.008979</td>\n",
              "      <td>0.000565</td>\n",
              "      <td>-15.904848</td>\n",
              "      <td>0.000000e+00</td>\n",
              "    </tr>\n",
              "    <tr>\n",
              "      <th>B_INCOME_CAR</th>\n",
              "      <td>0.136010</td>\n",
              "      <td>0.019583</td>\n",
              "      <td>6.945128</td>\n",
              "      <td>3.781198e-12</td>\n",
              "    </tr>\n",
              "    <tr>\n",
              "      <th>B_INCOME_SM</th>\n",
              "      <td>0.184551</td>\n",
              "      <td>0.016511</td>\n",
              "      <td>11.177324</td>\n",
              "      <td>0.000000e+00</td>\n",
              "    </tr>\n",
              "    <tr>\n",
              "      <th>B_INCOME_TR</th>\n",
              "      <td>-0.320561</td>\n",
              "      <td>0.021662</td>\n",
              "      <td>-14.798151</td>\n",
              "      <td>0.000000e+00</td>\n",
              "    </tr>\n",
              "    <tr>\n",
              "      <th>B_MALE_CAR</th>\n",
              "      <td>0.335318</td>\n",
              "      <td>0.044597</td>\n",
              "      <td>7.518932</td>\n",
              "      <td>5.528911e-14</td>\n",
              "    </tr>\n",
              "    <tr>\n",
              "      <th>B_MALE_SM</th>\n",
              "      <td>0.059968</td>\n",
              "      <td>0.036171</td>\n",
              "      <td>1.657906</td>\n",
              "      <td>9.733635e-02</td>\n",
              "    </tr>\n",
              "    <tr>\n",
              "      <th>B_MALE_TR</th>\n",
              "      <td>-0.395286</td>\n",
              "      <td>0.043449</td>\n",
              "      <td>-9.097735</td>\n",
              "      <td>0.000000e+00</td>\n",
              "    </tr>\n",
              "    <tr>\n",
              "      <th>B_TIME</th>\n",
              "      <td>-0.011541</td>\n",
              "      <td>0.000644</td>\n",
              "      <td>-17.926625</td>\n",
              "      <td>0.000000e+00</td>\n",
              "    </tr>\n",
              "  </tbody>\n",
              "</table>\n",
              "</div>\n",
              "      <button class=\"colab-df-convert\" onclick=\"convertToInteractive('df-c52d14b4-4dae-42f9-995c-16f68661e69a')\"\n",
              "              title=\"Convert this dataframe to an interactive table.\"\n",
              "              style=\"display:none;\">\n",
              "        \n",
              "  <svg xmlns=\"http://www.w3.org/2000/svg\" height=\"24px\"viewBox=\"0 0 24 24\"\n",
              "       width=\"24px\">\n",
              "    <path d=\"M0 0h24v24H0V0z\" fill=\"none\"/>\n",
              "    <path d=\"M18.56 5.44l.94 2.06.94-2.06 2.06-.94-2.06-.94-.94-2.06-.94 2.06-2.06.94zm-11 1L8.5 8.5l.94-2.06 2.06-.94-2.06-.94L8.5 2.5l-.94 2.06-2.06.94zm10 10l.94 2.06.94-2.06 2.06-.94-2.06-.94-.94-2.06-.94 2.06-2.06.94z\"/><path d=\"M17.41 7.96l-1.37-1.37c-.4-.4-.92-.59-1.43-.59-.52 0-1.04.2-1.43.59L10.3 9.45l-7.72 7.72c-.78.78-.78 2.05 0 2.83L4 21.41c.39.39.9.59 1.41.59.51 0 1.02-.2 1.41-.59l7.78-7.78 2.81-2.81c.8-.78.8-2.07 0-2.86zM5.41 20L4 18.59l7.72-7.72 1.47 1.35L5.41 20z\"/>\n",
              "  </svg>\n",
              "      </button>\n",
              "      \n",
              "  <style>\n",
              "    .colab-df-container {\n",
              "      display:flex;\n",
              "      flex-wrap:wrap;\n",
              "      gap: 12px;\n",
              "    }\n",
              "\n",
              "    .colab-df-convert {\n",
              "      background-color: #E8F0FE;\n",
              "      border: none;\n",
              "      border-radius: 50%;\n",
              "      cursor: pointer;\n",
              "      display: none;\n",
              "      fill: #1967D2;\n",
              "      height: 32px;\n",
              "      padding: 0 0 0 0;\n",
              "      width: 32px;\n",
              "    }\n",
              "\n",
              "    .colab-df-convert:hover {\n",
              "      background-color: #E2EBFA;\n",
              "      box-shadow: 0px 1px 2px rgba(60, 64, 67, 0.3), 0px 1px 3px 1px rgba(60, 64, 67, 0.15);\n",
              "      fill: #174EA6;\n",
              "    }\n",
              "\n",
              "    [theme=dark] .colab-df-convert {\n",
              "      background-color: #3B4455;\n",
              "      fill: #D2E3FC;\n",
              "    }\n",
              "\n",
              "    [theme=dark] .colab-df-convert:hover {\n",
              "      background-color: #434B5C;\n",
              "      box-shadow: 0px 1px 3px 1px rgba(0, 0, 0, 0.15);\n",
              "      filter: drop-shadow(0px 1px 2px rgba(0, 0, 0, 0.3));\n",
              "      fill: #FFFFFF;\n",
              "    }\n",
              "  </style>\n",
              "\n",
              "      <script>\n",
              "        const buttonEl =\n",
              "          document.querySelector('#df-c52d14b4-4dae-42f9-995c-16f68661e69a button.colab-df-convert');\n",
              "        buttonEl.style.display =\n",
              "          google.colab.kernel.accessAllowed ? 'block' : 'none';\n",
              "\n",
              "        async function convertToInteractive(key) {\n",
              "          const element = document.querySelector('#df-c52d14b4-4dae-42f9-995c-16f68661e69a');\n",
              "          const dataTable =\n",
              "            await google.colab.kernel.invokeFunction('convertToInteractive',\n",
              "                                                     [key], {});\n",
              "          if (!dataTable) return;\n",
              "\n",
              "          const docLinkHtml = 'Like what you see? Visit the ' +\n",
              "            '<a target=\"_blank\" href=https://colab.research.google.com/notebooks/data_table.ipynb>data table notebook</a>'\n",
              "            + ' to learn more about interactive tables.';\n",
              "          element.innerHTML = '';\n",
              "          dataTable['output_type'] = 'display_data';\n",
              "          await google.colab.output.renderOutput(dataTable, element);\n",
              "          const docLink = document.createElement('div');\n",
              "          docLink.innerHTML = docLinkHtml;\n",
              "          element.appendChild(docLink);\n",
              "        }\n",
              "      </script>\n",
              "    </div>\n",
              "  </div>\n",
              "  "
            ]
          },
          "metadata": {},
          "execution_count": 56
        }
      ]
    },
    {
      "cell_type": "markdown",
      "metadata": {
        "id": "V9E9houqy8g9"
      },
      "source": [
        "Note the coefficients look much better! We can look at the interpretation.\n",
        "Incomne has a positive relationship with car and Swissmetro, meaning that the larger the income, the more likely it makes individuals to go for these two alternatives. The coefficient of income for train is negative, the larger the income, the less likel to go or car. The effect of income is larger for swissmetro than for car.\n",
        "\n",
        "The influence of gender: Being male makes it more likely to choose car, and less likely to go for train. The effect of swismetro is positive, but small.\n",
        "\n",
        "**Important: We could have gotten all positive coefficients for the 'is male' variable, and still get the same conclusion. Why is that?** *We go back to the notion  of choice probabilities not being affected by adding a constant to the  observed utilities of each alternative. For example, if being male adds $2, 1, -1$ respectively to car, swissmetro and train, adding $4, 3, 1$ can produce the same results in terms of choice probabilities. It will depend on the other variables in the model, particular initial/reference values, etc.* **This is important if we get all positive values and interpret it as 'being male makes taking car, swissmetro and train more likely', it is clearly nonsense in our scenario, because you cannot make all alternatives more likely. So we have to always take into account one of the alternatives as reference.**\n",
        "\n",
        "\n",
        "---"
      ]
    },
    {
      "cell_type": "markdown",
      "metadata": {
        "id": "WmodkEFUnRP9"
      },
      "source": [
        "The second part of the question is to compare to the previous model, the one that used only travel cost and travel time.\n",
        "\n",
        "To do a **non rigorous** comparison of which model does better we can use the value of the likelihood, larger 'Final log likelihood' implies a better model.\n",
        "Another comparison is the prediction accuracy. "
      ]
    },
    {
      "cell_type": "code",
      "metadata": {
        "colab": {
          "base_uri": "https://localhost:8080/"
        },
        "id": "VIhXPGtTy2MY",
        "outputId": "62db9b69-af0b-4977-f224-db0b7afc7f8d"
      },
      "source": [
        "resTwoNewVar.getGeneralStatistics()"
      ],
      "execution_count": 57,
      "outputs": [
        {
          "output_type": "execute_result",
          "data": {
            "text/plain": [
              "{'Number of estimated parameters': GeneralStatistic(value=10, format=''),\n",
              " 'Sample size': GeneralStatistic(value=10719, format=''),\n",
              " 'Excluded observations': GeneralStatistic(value=9, format=''),\n",
              " 'Init log likelihood': GeneralStatistic(value=-8687.476203942184, format='.7g'),\n",
              " 'Final log likelihood': GeneralStatistic(value=-8462.046217507232, format='.7g'),\n",
              " 'Likelihood ratio test for the init. model': GeneralStatistic(value=450.8599728699046, format='.7g'),\n",
              " 'Rho-square for the init. model': GeneralStatistic(value=0.02594884649383644, format='.3g'),\n",
              " 'Rho-square-bar for the init. model': GeneralStatistic(value=0.024797764204199435, format='.3g'),\n",
              " 'Akaike Information Criterion': GeneralStatistic(value=16944.092435014463, format='.7g'),\n",
              " 'Bayesian Information Criterion': GeneralStatistic(value=17016.89016648138, format='.7g'),\n",
              " 'Final gradient norm': GeneralStatistic(value=0.04666203481406509, format='.4E'),\n",
              " 'Nbr of threads': GeneralStatistic(value=2, format='')}"
            ]
          },
          "metadata": {},
          "execution_count": 57
        }
      ]
    },
    {
      "cell_type": "code",
      "metadata": {
        "colab": {
          "base_uri": "https://localhost:8080/"
        },
        "id": "YNlVYbLo4TEf",
        "outputId": "3107a59e-a565-49a3-dbcc-e204e2dbb5b4"
      },
      "source": [
        "resGA.getGeneralStatistics()"
      ],
      "execution_count": 58,
      "outputs": [
        {
          "output_type": "execute_result",
          "data": {
            "text/plain": [
              "{'Number of estimated parameters': GeneralStatistic(value=4, format=''),\n",
              " 'Sample size': GeneralStatistic(value=10719, format=''),\n",
              " 'Excluded observations': GeneralStatistic(value=9, format=''),\n",
              " 'Init log likelihood': GeneralStatistic(value=-8976.716285827873, format='.7g'),\n",
              " 'Final log likelihood': GeneralStatistic(value=-8687.476203942184, format='.7g'),\n",
              " 'Likelihood ratio test for the init. model': GeneralStatistic(value=578.480163771379, format='.7g'),\n",
              " 'Rho-square for the init. model': GeneralStatistic(value=0.03222114553651778, format='.3g'),\n",
              " 'Rho-square-bar for the init. model': GeneralStatistic(value=0.03177554829665463, format='.3g'),\n",
              " 'Akaike Information Criterion': GeneralStatistic(value=17382.952407884368, format='.7g'),\n",
              " 'Bayesian Information Criterion': GeneralStatistic(value=17412.071500471135, format='.7g'),\n",
              " 'Final gradient norm': GeneralStatistic(value=0.04606492046595142, format='.4E'),\n",
              " 'Nbr of threads': GeneralStatistic(value=2, format='')}"
            ]
          },
          "metadata": {},
          "execution_count": 58
        }
      ]
    },
    {
      "cell_type": "markdown",
      "metadata": {
        "id": "fAjgVR5xFCsK"
      },
      "source": [
        "Because these models are **nested** (the second model includes all variables of the first), we can make the comparison more rigorous by doing a statistical test. The common test is the likelihood ratio test, the null hypothesis is that the more complex model is not significantly better than the reference model.\n",
        "We test if the likelihood of the complex model is larger enough than the likelihood of the reference model. By construction a model that is more complex and includes all the variables of the reference will always have the same or better likelihood of the reference, because it just has more parameters to fit the same data. We check if it is sufficiently better by considering the number of extra parameters that the more complex model is using.\n",
        "The test statistics is $2(\\text{Loglikelihood}_\\text{complex model} - \\text{Loglikelihood}_\\text{reference model})$ and it should be distributed as a Chi-squared distribution with the degrees of freedom equal to the difference in the number of parameters.\n",
        "\n",
        "Below the code to do the tests, in two ways\n",
        " * Looking at the results of getGeneralStatistics() and manually calculating the p-value from the Chi-squared\n",
        "\n",
        " * Using the implementation of the likelihood ratio test on the biogeme package.\n",
        "   We can access the values programmatically in the element .data of the biogeme results data structure. We have to pass loglikelihoods and number of parameters of the models to be compared, and then the significance level."
      ]
    },
    {
      "cell_type": "code",
      "metadata": {
        "colab": {
          "base_uri": "https://localhost:8080/"
        },
        "id": "QcolWITM11I4",
        "outputId": "a41ff49e-84a8-4e46-86a6-85e3a94aecf9"
      },
      "source": [
        "from scipy import stats\n",
        "import biogeme.tools as tools\n",
        "\n",
        "#manually using the chi-square distribution and copy-pasting the results from getGeneralStatistics()\n",
        "1 - stats.chi2.cdf( 2*(-8462 - -8687), 6)\n",
        "\n",
        "#using the implementation provided by biogeme, in the package biogeme.tools\n",
        "#we take the values from the results object\n",
        "tools.likelihood_ratio_test( (resTwoNewVar.data.logLike, resTwoNewVar.data.nparam),\n",
        "                            (resGA.data.logLike, resGA.data.nparam), 0.05)"
      ],
      "execution_count": 59,
      "outputs": [
        {
          "output_type": "execute_result",
          "data": {
            "text/plain": [
              "LRTuple(message='H0 can be rejected at level 5.0%', statistic=450.8599728699046, threshold=12.591587243743977)"
            ]
          },
          "metadata": {},
          "execution_count": 59
        }
      ]
    },
    {
      "cell_type": "markdown",
      "metadata": {
        "id": "iPVKeSfRHFlQ"
      },
      "source": [
        "An it seems that the second model is clearly better.\n",
        "\n",
        "**One caveat of hypothesis tests:** To really trust the results of the test, we should have established the two models to be compared **before seeing the data**. If we have the dataset and try and try different models until we get one that is significantly better than the reference, we are falling into the problem of multiple hypothesis testing. This is a huge problem in practice! Can lead to spurious results, 'findings' than then will not translate to practice.\n",
        "\n",
        "Another way is to use a holdout set, part of the data that is not used for fitting the model, only to check accuracies and likelihoods. This is the preferred approach (when available), but we must also be careful not to use it to find a good model by trial an error. Ideally should be used to compare models only once. When using a holdout set, the number of parameters can be ignored for the purposes of comparing likelihoods or accuracies. In summary, using holdout sets follows the 'scientific method', first generate the hypothsis using some data (the training data used to fit the models), then test the hypothesis using new data (the holdout). "
      ]
    },
    {
      "cell_type": "markdown",
      "metadata": {
        "id": "CecR3CjII0BP"
      },
      "source": [
        "**Final observation: When should we use shared or per-alternative parameters for the attributes of the alternatives?**\n",
        "As a general guideline, if we have enough data, it is better to use per-alternative parameters. If we require a very simple interpretation, we might simplify and use shared parameters."
      ]
    },
    {
      "cell_type": "markdown",
      "metadata": {
        "id": "mdDsNIDw54DR"
      },
      "source": [
        "\n",
        "##3) Create a model that calculates a specific coefficient for the price and travel time of each alternative. Check the model and calculate willingness to pay for the travel time of each alternative (*you can take a look at the definition in lecture 2)*."
      ]
    },
    {
      "cell_type": "markdown",
      "metadata": {
        "id": "0jbyogQmmbb6"
      },
      "source": [
        "We should know how to calcule per-alternative parameters by now."
      ]
    },
    {
      "cell_type": "code",
      "metadata": {
        "id": "-UzDM2x-56NK",
        "colab": {
          "base_uri": "https://localhost:8080/",
          "height": 300
        },
        "outputId": "4194f4f4-bd32-4f29-eeb1-a587728ab456"
      },
      "source": [
        "B_TT_TR = exp.Beta( 'B_TT_TR', 0, None, None, 0)\n",
        "B_TT_SM = exp.Beta( 'B_TT_SM', 0, None, None, 0)\n",
        "B_TT_CAR = exp.Beta( 'B_TT_CAR', 0, None, None, 0)\n",
        "B_COST_TR = exp.Beta( 'B_COST_TR', 0, None, None, 0)\n",
        "B_COST_SM = exp.Beta( 'B_COST_SM', 0, None, None, 0)\n",
        "B_COST_CAR = exp.Beta( 'B_COST_CAR', 0, None, None, 0)\n",
        "\n",
        "wV1 = ASC_TRAIN + B_TT_TR * TRAIN_TT + B_COST_TR * TRAIN_CO_GA \n",
        "wV2 = ASC_SM + B_TT_SM * SM_TT + B_COST_SM * SM_CO_GA \n",
        "wV3 = ASC_CAR + B_TT_CAR * CAR_TT + B_COST_CAR * CAR_CO\n",
        "\n",
        "\n",
        "\n",
        "reswtp = estimate_swissmetro_from_V(wV1, wV2, wV3)\n",
        "reswtp.getEstimatedParameters()"
      ],
      "execution_count": 60,
      "outputs": [
        {
          "output_type": "execute_result",
          "data": {
            "text/plain": [
              "               Value  Rob. Std err  Rob. t-test  Rob. p-value\n",
              "ASC_CAR    -0.542838      0.071853    -7.554822  4.196643e-14\n",
              "ASC_TRAIN   0.009602      0.085123     0.112804  9.101856e-01\n",
              "B_COST_CAR -0.006144      0.000963    -6.378496  1.788354e-10\n",
              "B_COST_SM  -0.008572      0.000591   -14.516322  0.000000e+00\n",
              "B_COST_TR  -0.017624      0.001297   -13.587535  0.000000e+00\n",
              "B_TT_CAR   -0.010222      0.000931   -10.979893  0.000000e+00\n",
              "B_TT_SM    -0.013987      0.000998   -14.007978  0.000000e+00\n",
              "B_TT_TR    -0.013847      0.000898   -15.412997  0.000000e+00"
            ],
            "text/html": [
              "\n",
              "  <div id=\"df-f4791959-1db6-4d7e-9d85-878f42aa500e\">\n",
              "    <div class=\"colab-df-container\">\n",
              "      <div>\n",
              "<style scoped>\n",
              "    .dataframe tbody tr th:only-of-type {\n",
              "        vertical-align: middle;\n",
              "    }\n",
              "\n",
              "    .dataframe tbody tr th {\n",
              "        vertical-align: top;\n",
              "    }\n",
              "\n",
              "    .dataframe thead th {\n",
              "        text-align: right;\n",
              "    }\n",
              "</style>\n",
              "<table border=\"1\" class=\"dataframe\">\n",
              "  <thead>\n",
              "    <tr style=\"text-align: right;\">\n",
              "      <th></th>\n",
              "      <th>Value</th>\n",
              "      <th>Rob. Std err</th>\n",
              "      <th>Rob. t-test</th>\n",
              "      <th>Rob. p-value</th>\n",
              "    </tr>\n",
              "  </thead>\n",
              "  <tbody>\n",
              "    <tr>\n",
              "      <th>ASC_CAR</th>\n",
              "      <td>-0.542838</td>\n",
              "      <td>0.071853</td>\n",
              "      <td>-7.554822</td>\n",
              "      <td>4.196643e-14</td>\n",
              "    </tr>\n",
              "    <tr>\n",
              "      <th>ASC_TRAIN</th>\n",
              "      <td>0.009602</td>\n",
              "      <td>0.085123</td>\n",
              "      <td>0.112804</td>\n",
              "      <td>9.101856e-01</td>\n",
              "    </tr>\n",
              "    <tr>\n",
              "      <th>B_COST_CAR</th>\n",
              "      <td>-0.006144</td>\n",
              "      <td>0.000963</td>\n",
              "      <td>-6.378496</td>\n",
              "      <td>1.788354e-10</td>\n",
              "    </tr>\n",
              "    <tr>\n",
              "      <th>B_COST_SM</th>\n",
              "      <td>-0.008572</td>\n",
              "      <td>0.000591</td>\n",
              "      <td>-14.516322</td>\n",
              "      <td>0.000000e+00</td>\n",
              "    </tr>\n",
              "    <tr>\n",
              "      <th>B_COST_TR</th>\n",
              "      <td>-0.017624</td>\n",
              "      <td>0.001297</td>\n",
              "      <td>-13.587535</td>\n",
              "      <td>0.000000e+00</td>\n",
              "    </tr>\n",
              "    <tr>\n",
              "      <th>B_TT_CAR</th>\n",
              "      <td>-0.010222</td>\n",
              "      <td>0.000931</td>\n",
              "      <td>-10.979893</td>\n",
              "      <td>0.000000e+00</td>\n",
              "    </tr>\n",
              "    <tr>\n",
              "      <th>B_TT_SM</th>\n",
              "      <td>-0.013987</td>\n",
              "      <td>0.000998</td>\n",
              "      <td>-14.007978</td>\n",
              "      <td>0.000000e+00</td>\n",
              "    </tr>\n",
              "    <tr>\n",
              "      <th>B_TT_TR</th>\n",
              "      <td>-0.013847</td>\n",
              "      <td>0.000898</td>\n",
              "      <td>-15.412997</td>\n",
              "      <td>0.000000e+00</td>\n",
              "    </tr>\n",
              "  </tbody>\n",
              "</table>\n",
              "</div>\n",
              "      <button class=\"colab-df-convert\" onclick=\"convertToInteractive('df-f4791959-1db6-4d7e-9d85-878f42aa500e')\"\n",
              "              title=\"Convert this dataframe to an interactive table.\"\n",
              "              style=\"display:none;\">\n",
              "        \n",
              "  <svg xmlns=\"http://www.w3.org/2000/svg\" height=\"24px\"viewBox=\"0 0 24 24\"\n",
              "       width=\"24px\">\n",
              "    <path d=\"M0 0h24v24H0V0z\" fill=\"none\"/>\n",
              "    <path d=\"M18.56 5.44l.94 2.06.94-2.06 2.06-.94-2.06-.94-.94-2.06-.94 2.06-2.06.94zm-11 1L8.5 8.5l.94-2.06 2.06-.94-2.06-.94L8.5 2.5l-.94 2.06-2.06.94zm10 10l.94 2.06.94-2.06 2.06-.94-2.06-.94-.94-2.06-.94 2.06-2.06.94z\"/><path d=\"M17.41 7.96l-1.37-1.37c-.4-.4-.92-.59-1.43-.59-.52 0-1.04.2-1.43.59L10.3 9.45l-7.72 7.72c-.78.78-.78 2.05 0 2.83L4 21.41c.39.39.9.59 1.41.59.51 0 1.02-.2 1.41-.59l7.78-7.78 2.81-2.81c.8-.78.8-2.07 0-2.86zM5.41 20L4 18.59l7.72-7.72 1.47 1.35L5.41 20z\"/>\n",
              "  </svg>\n",
              "      </button>\n",
              "      \n",
              "  <style>\n",
              "    .colab-df-container {\n",
              "      display:flex;\n",
              "      flex-wrap:wrap;\n",
              "      gap: 12px;\n",
              "    }\n",
              "\n",
              "    .colab-df-convert {\n",
              "      background-color: #E8F0FE;\n",
              "      border: none;\n",
              "      border-radius: 50%;\n",
              "      cursor: pointer;\n",
              "      display: none;\n",
              "      fill: #1967D2;\n",
              "      height: 32px;\n",
              "      padding: 0 0 0 0;\n",
              "      width: 32px;\n",
              "    }\n",
              "\n",
              "    .colab-df-convert:hover {\n",
              "      background-color: #E2EBFA;\n",
              "      box-shadow: 0px 1px 2px rgba(60, 64, 67, 0.3), 0px 1px 3px 1px rgba(60, 64, 67, 0.15);\n",
              "      fill: #174EA6;\n",
              "    }\n",
              "\n",
              "    [theme=dark] .colab-df-convert {\n",
              "      background-color: #3B4455;\n",
              "      fill: #D2E3FC;\n",
              "    }\n",
              "\n",
              "    [theme=dark] .colab-df-convert:hover {\n",
              "      background-color: #434B5C;\n",
              "      box-shadow: 0px 1px 3px 1px rgba(0, 0, 0, 0.15);\n",
              "      filter: drop-shadow(0px 1px 2px rgba(0, 0, 0, 0.3));\n",
              "      fill: #FFFFFF;\n",
              "    }\n",
              "  </style>\n",
              "\n",
              "      <script>\n",
              "        const buttonEl =\n",
              "          document.querySelector('#df-f4791959-1db6-4d7e-9d85-878f42aa500e button.colab-df-convert');\n",
              "        buttonEl.style.display =\n",
              "          google.colab.kernel.accessAllowed ? 'block' : 'none';\n",
              "\n",
              "        async function convertToInteractive(key) {\n",
              "          const element = document.querySelector('#df-f4791959-1db6-4d7e-9d85-878f42aa500e');\n",
              "          const dataTable =\n",
              "            await google.colab.kernel.invokeFunction('convertToInteractive',\n",
              "                                                     [key], {});\n",
              "          if (!dataTable) return;\n",
              "\n",
              "          const docLinkHtml = 'Like what you see? Visit the ' +\n",
              "            '<a target=\"_blank\" href=https://colab.research.google.com/notebooks/data_table.ipynb>data table notebook</a>'\n",
              "            + ' to learn more about interactive tables.';\n",
              "          element.innerHTML = '';\n",
              "          dataTable['output_type'] = 'display_data';\n",
              "          await google.colab.output.renderOutput(dataTable, element);\n",
              "          const docLink = document.createElement('div');\n",
              "          docLink.innerHTML = docLinkHtml;\n",
              "          element.appendChild(docLink);\n",
              "        }\n",
              "      </script>\n",
              "    </div>\n",
              "  </div>\n",
              "  "
            ]
          },
          "metadata": {},
          "execution_count": 60
        }
      ]
    },
    {
      "cell_type": "markdown",
      "metadata": {
        "id": "UHt8ie537Yjz"
      },
      "source": [
        "The willingness to pay, in linear utility (what we have now) can be summarized as the coefficient of the variable of interest for that alternative divided by the cost coefficient for that alternative.\n",
        "\n",
        "We can compute them manually, here the tuple for WTP of car, swissmetro and train."
      ]
    },
    {
      "cell_type": "code",
      "metadata": {
        "colab": {
          "base_uri": "https://localhost:8080/"
        },
        "id": "0iScqbxC9A0j",
        "outputId": "143866b1-1af2-4f0c-ed0c-f4d7587250c1"
      },
      "source": [
        "(-0.010222 / -0.006145,\n",
        "\n",
        "-0.013987 / -0.008572,\n",
        " \n",
        " -0.013987 / -0.017623)\n"
      ],
      "execution_count": 61,
      "outputs": [
        {
          "output_type": "execute_result",
          "data": {
            "text/plain": [
              "(1.66346623270952, 1.631707886140924, 0.7936787153152131)"
            ]
          },
          "metadata": {},
          "execution_count": 61
        }
      ]
    },
    {
      "cell_type": "markdown",
      "metadata": {
        "id": "naIuycKDAodf"
      },
      "source": [
        "The willingness to pay to reduce he travel time in car is he highest and train is the lowest. The inepretation is that indivuals are willing to pay 1.7 francs to reduce their travel time in one minute, it is the most 'annoying' of the methods of transport. I find surprising that the swissmetro, given that is is a 'luxury' fast train, is more annoying than the train. Of course the data comes from a survey so the individuals have not actually experienced the fast train. \n",
        "\n",
        "We can calculate them programmatrically by recovering the dictionary of the parameters."
      ]
    },
    {
      "cell_type": "code",
      "metadata": {
        "colab": {
          "base_uri": "https://localhost:8080/"
        },
        "id": "Vq4Xw1m5ACb4",
        "outputId": "a7acd68a-3cd9-4ec8-bfc5-ce860f9040ed"
      },
      "source": [
        "\n",
        "Betas = reswtp.getBetaValues()\n",
        "(Betas['B_TT_CAR'] / Betas['B_COST_CAR'],\n",
        " Betas['B_TT_SM'] / Betas['B_COST_SM'],\n",
        " Betas['B_TT_TR'] / Betas['B_COST_TR'])"
      ],
      "execution_count": 62,
      "outputs": [
        {
          "output_type": "execute_result",
          "data": {
            "text/plain": [
              "(1.663587712938376, 1.6316073735990617, 0.7856905146678734)"
            ]
          },
          "metadata": {},
          "execution_count": 62
        }
      ]
    },
    {
      "cell_type": "markdown",
      "metadata": {
        "id": "gehSxNcztWK5"
      },
      "source": [
        "Remember that there is a more general definition of willingess to pay, the ratio of the derivatives of utility w.r.t to the variable of interest and cost.\n",
        "\n",
        "A final note, the WTP will depend on the specific model that we use, so it can vary wildly."
      ]
    }
  ]
}