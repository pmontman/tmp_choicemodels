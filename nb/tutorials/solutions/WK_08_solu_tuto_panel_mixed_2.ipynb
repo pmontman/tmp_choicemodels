{
  "nbformat": 4,
  "nbformat_minor": 0,
  "metadata": {
    "colab": {
      "name": "tuto_08_continuing_panel_mixed_logit",
      "provenance": [],
      "authorship_tag": "ABX9TyPg7AbCQL4rXyowvXT/u8jE",
      "include_colab_link": true
    },
    "kernelspec": {
      "name": "python3",
      "display_name": "Python 3"
    },
    "language_info": {
      "name": "python"
    }
  },
  "cells": [
    {
      "cell_type": "markdown",
      "metadata": {
        "id": "view-in-github",
        "colab_type": "text"
      },
      "source": [
        "<a href=\"https://colab.research.google.com/github/pmontman/tmp_choicemodels/blob/main/nb/tutorials/solutions/WK_08_solu_tuto_panel_mixed_2.ipynb\" target=\"_parent\"><img src=\"https://colab.research.google.com/assets/colab-badge.svg\" alt=\"Open In Colab\"/></a>"
      ]
    },
    {
      "cell_type": "markdown",
      "metadata": {
        "id": "RK_QlIPgbjtB"
      },
      "source": [
        "# Tutorial 8: Continuing with the panel data and mixed logit\n",
        "\n",
        "We will continue with the tomato sauce dataset, showcasing how to create random effects on the coefficients, as opposed to the 'agent' effect (random alternative specific constants).\n",
        "\n",
        "\n",
        "\n",
        "\n",
        "We have two famous brands of catsup and 3 different package sizes.\n",
        "\n",
        "A description of the dataset can be found [here](https://www.tandfonline.com/doi/pdf/10.1080/07350015.1994.10524547?casa_token=r4LpjVvgDW4AAAAA:FVG8mEexsQ37tJ2bvk7oxZZ9K_jvvMJ2WxglLzBaHQD0_0REkXmKGsPPxXw_LRGwN3YHY8-L-k8U)"
      ]
    },
    {
      "cell_type": "markdown",
      "metadata": {
        "id": "JyzPlsofdvaG"
      },
      "source": [
        "# Description of the dataset\n",
        "\n",
        "* **id**: household identifiers,\n",
        "* **choice**: one of heinz41, heinz32, heinz28, hunts32.\n",
        "* **disp_x**: is there a display for brand X ?\n",
        "* **feat_x**: is there a newspaper feature advertisement for brand x?\n",
        "* **price_x**: price of brand x"
      ]
    },
    {
      "cell_type": "markdown",
      "metadata": {
        "id": "vb9SIunnASNB"
      },
      "source": [
        "---\n",
        "---\n",
        "\n",
        "# Preparing the environment\n",
        "*The preparation and dataset loading code is given to the students*"
      ]
    },
    {
      "cell_type": "code",
      "metadata": {
        "colab": {
          "base_uri": "https://localhost:8080/"
        },
        "id": "j5zHGhgErHPd",
        "outputId": "39613d1a-f8b5-44f0-82dc-e6a0a5684b55"
      },
      "source": [
        "!pip install biogeme"
      ],
      "execution_count": 1,
      "outputs": [
        {
          "output_type": "stream",
          "name": "stdout",
          "text": [
            "Looking in indexes: https://pypi.org/simple, https://us-python.pkg.dev/colab-wheels/public/simple/\n",
            "Collecting biogeme\n",
            "  Downloading biogeme-3.2.10.tar.gz (1.8 MB)\n",
            "\u001b[K     |████████████████████████████████| 1.8 MB 13.0 MB/s \n",
            "\u001b[?25hBuilding wheels for collected packages: biogeme\n",
            "  Building wheel for biogeme (setup.py) ... \u001b[?25l\u001b[?25hdone\n",
            "  Created wheel for biogeme: filename=biogeme-3.2.10-cp37-cp37m-linux_x86_64.whl size=4253301 sha256=ee7b887c2ef8e93ddabb01925e21b57741a4a7eb69d1a468090bb6a9e54854bf\n",
            "  Stored in directory: /root/.cache/pip/wheels/5b/92/9b/63caa7ad9b2cd582de77d3701d10f7e8d041466f4a9d07d554\n",
            "Successfully built biogeme\n",
            "Installing collected packages: biogeme\n",
            "Successfully installed biogeme-3.2.10\n"
          ]
        }
      ]
    },
    {
      "cell_type": "markdown",
      "metadata": {
        "id": "1z0X9xZ8rChf"
      },
      "source": [
        "Load the packages, feel free to change the names."
      ]
    },
    {
      "cell_type": "code",
      "metadata": {
        "id": "apVB-TMkrFnb"
      },
      "source": [
        "import pandas  as pd\n",
        "import numpy as np\n",
        "import matplotlib.pyplot as plt\n",
        "\n",
        "import biogeme.database as db\n",
        "import biogeme.biogeme as bio\n",
        "import biogeme.models as models\n",
        "import biogeme.expressions as exp\n",
        "import biogeme.tools as tools\n",
        "import biogeme.distributions as dist"
      ],
      "execution_count": 2,
      "outputs": []
    },
    {
      "cell_type": "markdown",
      "metadata": {
        "id": "Mgv0hV1YAieW"
      },
      "source": [
        "# Load the dataset"
      ]
    },
    {
      "cell_type": "code",
      "metadata": {
        "id": "g1Ykn5Ytr7Rs"
      },
      "source": [
        "path = 'https://raw.githubusercontent.com/pmontman/pub-choicemodels/main/data/catsup.csv'\n",
        "catsup_pd = pd.read_csv(path)"
      ],
      "execution_count": 3,
      "outputs": []
    },
    {
      "cell_type": "markdown",
      "metadata": {
        "id": "ZY55r3Gesb3t"
      },
      "source": [
        "\n",
        "In this case, notice the id variable, that identifies each household, so we have data from many choice situations for each household. We have also different amount of observations per household."
      ]
    },
    {
      "cell_type": "code",
      "metadata": {
        "colab": {
          "base_uri": "https://localhost:8080/",
          "height": 269
        },
        "id": "ldkmnMhssemT",
        "outputId": "df83872e-3d00-4c8f-872d-f282bcdc39ac"
      },
      "source": [
        "catsup_pd.head(7)"
      ],
      "execution_count": 4,
      "outputs": [
        {
          "output_type": "execute_result",
          "data": {
            "text/plain": [
              "   id  disp_heinz41  disp_heinz32  disp_heinz28  disp_hunts32  feat_heinz41  \\\n",
              "0   1             0             0             0             0             0   \n",
              "1   1             0             0             0             0             0   \n",
              "2   1             0             0             0             0             0   \n",
              "3   1             0             0             0             0             0   \n",
              "4   1             0             0             0             0             0   \n",
              "5   1             0             0             0             0             0   \n",
              "6   1             0             0             0             1             0   \n",
              "\n",
              "   feat_heinz32  feat_heinz28  feat_hunts32  price_heinz41  price_heinz32  \\\n",
              "0             0             0             0            4.6            3.7   \n",
              "1             0             0             0            4.6            4.3   \n",
              "2             1             0             0            4.6            2.5   \n",
              "3             0             0             0            4.6            3.7   \n",
              "4             0             1             0            4.6            3.0   \n",
              "5             0             0             0            5.0            3.0   \n",
              "6             0             0             1            5.1            3.1   \n",
              "\n",
              "   price_heinz28  price_hunts32   choice  \n",
              "0            5.2            3.4  heinz28  \n",
              "1            5.2            4.4  heinz28  \n",
              "2            4.6            4.8  heinz28  \n",
              "3            5.2            3.4  heinz28  \n",
              "4            4.6            4.8  heinz28  \n",
              "5            4.7            3.0  heinz28  \n",
              "6            4.6            4.1  heinz28  "
            ],
            "text/html": [
              "\n",
              "  <div id=\"df-50eaa5a2-210f-49d8-9be2-9f086fe55dd3\">\n",
              "    <div class=\"colab-df-container\">\n",
              "      <div>\n",
              "<style scoped>\n",
              "    .dataframe tbody tr th:only-of-type {\n",
              "        vertical-align: middle;\n",
              "    }\n",
              "\n",
              "    .dataframe tbody tr th {\n",
              "        vertical-align: top;\n",
              "    }\n",
              "\n",
              "    .dataframe thead th {\n",
              "        text-align: right;\n",
              "    }\n",
              "</style>\n",
              "<table border=\"1\" class=\"dataframe\">\n",
              "  <thead>\n",
              "    <tr style=\"text-align: right;\">\n",
              "      <th></th>\n",
              "      <th>id</th>\n",
              "      <th>disp_heinz41</th>\n",
              "      <th>disp_heinz32</th>\n",
              "      <th>disp_heinz28</th>\n",
              "      <th>disp_hunts32</th>\n",
              "      <th>feat_heinz41</th>\n",
              "      <th>feat_heinz32</th>\n",
              "      <th>feat_heinz28</th>\n",
              "      <th>feat_hunts32</th>\n",
              "      <th>price_heinz41</th>\n",
              "      <th>price_heinz32</th>\n",
              "      <th>price_heinz28</th>\n",
              "      <th>price_hunts32</th>\n",
              "      <th>choice</th>\n",
              "    </tr>\n",
              "  </thead>\n",
              "  <tbody>\n",
              "    <tr>\n",
              "      <th>0</th>\n",
              "      <td>1</td>\n",
              "      <td>0</td>\n",
              "      <td>0</td>\n",
              "      <td>0</td>\n",
              "      <td>0</td>\n",
              "      <td>0</td>\n",
              "      <td>0</td>\n",
              "      <td>0</td>\n",
              "      <td>0</td>\n",
              "      <td>4.6</td>\n",
              "      <td>3.7</td>\n",
              "      <td>5.2</td>\n",
              "      <td>3.4</td>\n",
              "      <td>heinz28</td>\n",
              "    </tr>\n",
              "    <tr>\n",
              "      <th>1</th>\n",
              "      <td>1</td>\n",
              "      <td>0</td>\n",
              "      <td>0</td>\n",
              "      <td>0</td>\n",
              "      <td>0</td>\n",
              "      <td>0</td>\n",
              "      <td>0</td>\n",
              "      <td>0</td>\n",
              "      <td>0</td>\n",
              "      <td>4.6</td>\n",
              "      <td>4.3</td>\n",
              "      <td>5.2</td>\n",
              "      <td>4.4</td>\n",
              "      <td>heinz28</td>\n",
              "    </tr>\n",
              "    <tr>\n",
              "      <th>2</th>\n",
              "      <td>1</td>\n",
              "      <td>0</td>\n",
              "      <td>0</td>\n",
              "      <td>0</td>\n",
              "      <td>0</td>\n",
              "      <td>0</td>\n",
              "      <td>1</td>\n",
              "      <td>0</td>\n",
              "      <td>0</td>\n",
              "      <td>4.6</td>\n",
              "      <td>2.5</td>\n",
              "      <td>4.6</td>\n",
              "      <td>4.8</td>\n",
              "      <td>heinz28</td>\n",
              "    </tr>\n",
              "    <tr>\n",
              "      <th>3</th>\n",
              "      <td>1</td>\n",
              "      <td>0</td>\n",
              "      <td>0</td>\n",
              "      <td>0</td>\n",
              "      <td>0</td>\n",
              "      <td>0</td>\n",
              "      <td>0</td>\n",
              "      <td>0</td>\n",
              "      <td>0</td>\n",
              "      <td>4.6</td>\n",
              "      <td>3.7</td>\n",
              "      <td>5.2</td>\n",
              "      <td>3.4</td>\n",
              "      <td>heinz28</td>\n",
              "    </tr>\n",
              "    <tr>\n",
              "      <th>4</th>\n",
              "      <td>1</td>\n",
              "      <td>0</td>\n",
              "      <td>0</td>\n",
              "      <td>0</td>\n",
              "      <td>0</td>\n",
              "      <td>0</td>\n",
              "      <td>0</td>\n",
              "      <td>1</td>\n",
              "      <td>0</td>\n",
              "      <td>4.6</td>\n",
              "      <td>3.0</td>\n",
              "      <td>4.6</td>\n",
              "      <td>4.8</td>\n",
              "      <td>heinz28</td>\n",
              "    </tr>\n",
              "    <tr>\n",
              "      <th>5</th>\n",
              "      <td>1</td>\n",
              "      <td>0</td>\n",
              "      <td>0</td>\n",
              "      <td>0</td>\n",
              "      <td>0</td>\n",
              "      <td>0</td>\n",
              "      <td>0</td>\n",
              "      <td>0</td>\n",
              "      <td>0</td>\n",
              "      <td>5.0</td>\n",
              "      <td>3.0</td>\n",
              "      <td>4.7</td>\n",
              "      <td>3.0</td>\n",
              "      <td>heinz28</td>\n",
              "    </tr>\n",
              "    <tr>\n",
              "      <th>6</th>\n",
              "      <td>1</td>\n",
              "      <td>0</td>\n",
              "      <td>0</td>\n",
              "      <td>0</td>\n",
              "      <td>1</td>\n",
              "      <td>0</td>\n",
              "      <td>0</td>\n",
              "      <td>0</td>\n",
              "      <td>1</td>\n",
              "      <td>5.1</td>\n",
              "      <td>3.1</td>\n",
              "      <td>4.6</td>\n",
              "      <td>4.1</td>\n",
              "      <td>heinz28</td>\n",
              "    </tr>\n",
              "  </tbody>\n",
              "</table>\n",
              "</div>\n",
              "      <button class=\"colab-df-convert\" onclick=\"convertToInteractive('df-50eaa5a2-210f-49d8-9be2-9f086fe55dd3')\"\n",
              "              title=\"Convert this dataframe to an interactive table.\"\n",
              "              style=\"display:none;\">\n",
              "        \n",
              "  <svg xmlns=\"http://www.w3.org/2000/svg\" height=\"24px\"viewBox=\"0 0 24 24\"\n",
              "       width=\"24px\">\n",
              "    <path d=\"M0 0h24v24H0V0z\" fill=\"none\"/>\n",
              "    <path d=\"M18.56 5.44l.94 2.06.94-2.06 2.06-.94-2.06-.94-.94-2.06-.94 2.06-2.06.94zm-11 1L8.5 8.5l.94-2.06 2.06-.94-2.06-.94L8.5 2.5l-.94 2.06-2.06.94zm10 10l.94 2.06.94-2.06 2.06-.94-2.06-.94-.94-2.06-.94 2.06-2.06.94z\"/><path d=\"M17.41 7.96l-1.37-1.37c-.4-.4-.92-.59-1.43-.59-.52 0-1.04.2-1.43.59L10.3 9.45l-7.72 7.72c-.78.78-.78 2.05 0 2.83L4 21.41c.39.39.9.59 1.41.59.51 0 1.02-.2 1.41-.59l7.78-7.78 2.81-2.81c.8-.78.8-2.07 0-2.86zM5.41 20L4 18.59l7.72-7.72 1.47 1.35L5.41 20z\"/>\n",
              "  </svg>\n",
              "      </button>\n",
              "      \n",
              "  <style>\n",
              "    .colab-df-container {\n",
              "      display:flex;\n",
              "      flex-wrap:wrap;\n",
              "      gap: 12px;\n",
              "    }\n",
              "\n",
              "    .colab-df-convert {\n",
              "      background-color: #E8F0FE;\n",
              "      border: none;\n",
              "      border-radius: 50%;\n",
              "      cursor: pointer;\n",
              "      display: none;\n",
              "      fill: #1967D2;\n",
              "      height: 32px;\n",
              "      padding: 0 0 0 0;\n",
              "      width: 32px;\n",
              "    }\n",
              "\n",
              "    .colab-df-convert:hover {\n",
              "      background-color: #E2EBFA;\n",
              "      box-shadow: 0px 1px 2px rgba(60, 64, 67, 0.3), 0px 1px 3px 1px rgba(60, 64, 67, 0.15);\n",
              "      fill: #174EA6;\n",
              "    }\n",
              "\n",
              "    [theme=dark] .colab-df-convert {\n",
              "      background-color: #3B4455;\n",
              "      fill: #D2E3FC;\n",
              "    }\n",
              "\n",
              "    [theme=dark] .colab-df-convert:hover {\n",
              "      background-color: #434B5C;\n",
              "      box-shadow: 0px 1px 3px 1px rgba(0, 0, 0, 0.15);\n",
              "      filter: drop-shadow(0px 1px 2px rgba(0, 0, 0, 0.3));\n",
              "      fill: #FFFFFF;\n",
              "    }\n",
              "  </style>\n",
              "\n",
              "      <script>\n",
              "        const buttonEl =\n",
              "          document.querySelector('#df-50eaa5a2-210f-49d8-9be2-9f086fe55dd3 button.colab-df-convert');\n",
              "        buttonEl.style.display =\n",
              "          google.colab.kernel.accessAllowed ? 'block' : 'none';\n",
              "\n",
              "        async function convertToInteractive(key) {\n",
              "          const element = document.querySelector('#df-50eaa5a2-210f-49d8-9be2-9f086fe55dd3');\n",
              "          const dataTable =\n",
              "            await google.colab.kernel.invokeFunction('convertToInteractive',\n",
              "                                                     [key], {});\n",
              "          if (!dataTable) return;\n",
              "\n",
              "          const docLinkHtml = 'Like what you see? Visit the ' +\n",
              "            '<a target=\"_blank\" href=https://colab.research.google.com/notebooks/data_table.ipynb>data table notebook</a>'\n",
              "            + ' to learn more about interactive tables.';\n",
              "          element.innerHTML = '';\n",
              "          dataTable['output_type'] = 'display_data';\n",
              "          await google.colab.output.renderOutput(dataTable, element);\n",
              "          const docLink = document.createElement('div');\n",
              "          docLink.innerHTML = docLinkHtml;\n",
              "          element.appendChild(docLink);\n",
              "        }\n",
              "      </script>\n",
              "    </div>\n",
              "  </div>\n",
              "  "
            ]
          },
          "metadata": {},
          "execution_count": 4
        }
      ]
    },
    {
      "cell_type": "markdown",
      "metadata": {
        "id": "75S5mV9mG_i8"
      },
      "source": [
        "# Auxiliary function"
      ]
    },
    {
      "cell_type": "code",
      "metadata": {
        "id": "kkHePFuDHB6L"
      },
      "source": [
        "def qbus_update_globals_bgm(pd_df):\n",
        "   globals().update(db.Database('tmp_bg_bgm_for_glob', pd_df).variables)"
      ],
      "execution_count": 5,
      "outputs": []
    },
    {
      "cell_type": "markdown",
      "metadata": {
        "id": "IT44SQAUAVT5"
      },
      "source": [
        "# Data cleaning: Preparing the dataset for Biogeme"
      ]
    },
    {
      "cell_type": "markdown",
      "metadata": {
        "id": "yTEgKQ0HAY8c"
      },
      "source": [
        "Encode the choice variable (a string) into numbers with the `factorize` function.\n",
        "We take a look at the codetable to know how the numbers are mapped to the alternatives. The order of the codetable indicates the association,\n",
        "0: heinz28, 1: heinz41 and so on."
      ]
    },
    {
      "cell_type": "code",
      "metadata": {
        "id": "3161scmJOPG8"
      },
      "source": [
        "catsup_pd['choice'], codetable = catsup_pd['choice'].factorize()"
      ],
      "execution_count": 6,
      "outputs": []
    },
    {
      "cell_type": "code",
      "metadata": {
        "colab": {
          "base_uri": "https://localhost:8080/"
        },
        "id": "AYqojw_PIpss",
        "outputId": "acbffe42-0571-4823-e713-ade7a2d03a0f"
      },
      "source": [
        "codetable"
      ],
      "execution_count": 7,
      "outputs": [
        {
          "output_type": "execute_result",
          "data": {
            "text/plain": [
              "Index(['heinz28', 'heinz41', 'heinz32', 'hunts32'], dtype='object')"
            ]
          },
          "metadata": {},
          "execution_count": 7
        }
      ]
    },
    {
      "cell_type": "code",
      "source": [
        "catsup_pd['choice']"
      ],
      "metadata": {
        "colab": {
          "base_uri": "https://localhost:8080/"
        },
        "id": "BPkqjnqV_f06",
        "outputId": "6aa81b11-b727-4255-8f28-d46f39c05ef0"
      },
      "execution_count": 8,
      "outputs": [
        {
          "output_type": "execute_result",
          "data": {
            "text/plain": [
              "0       0\n",
              "1       0\n",
              "2       0\n",
              "3       0\n",
              "4       0\n",
              "       ..\n",
              "2793    1\n",
              "2794    1\n",
              "2795    3\n",
              "2796    0\n",
              "2797    0\n",
              "Name: choice, Length: 2798, dtype: int64"
            ]
          },
          "metadata": {},
          "execution_count": 8
        }
      ]
    },
    {
      "cell_type": "markdown",
      "metadata": {
        "id": "FIyH5krhxwYI"
      },
      "source": [
        "# Random coeffcients (the Betas)\n",
        "\n",
        "We will showcase how to make the betas 'random' not only the ASCs.\n",
        "\n",
        "**We will not consider panel information for the sake of simplicity, you might compare the results as an exercise.**"
      ]
    },
    {
      "cell_type": "code",
      "metadata": {
        "id": "lo-Nu7ovxnoE"
      },
      "source": [
        "\n",
        "# Define level of verbosity\n",
        "import biogeme.messaging as msg\n",
        "logger = msg.bioMessage()\n",
        "logger.setSilent()\n"
      ],
      "execution_count": 9,
      "outputs": []
    },
    {
      "cell_type": "code",
      "metadata": {
        "id": "0OkXWfTDD6MH"
      },
      "source": [
        "database = db.Database(\"catsup\", catsup_pd)"
      ],
      "execution_count": 10,
      "outputs": []
    },
    {
      "cell_type": "markdown",
      "metadata": {
        "id": "k7iWoF9Ho_Pd"
      },
      "source": [
        "We now declare the coefficients in our model, we will make a simple model,\n",
        "just the alternative-specif constants and the variables disp, feat and price."
      ]
    },
    {
      "cell_type": "code",
      "metadata": {
        "id": "tI5UVDAZEfHn"
      },
      "source": [
        "ASC_heinz41 = exp.Beta('ASC_heinz41',0,None,None,0)\n",
        "ASC_heinz32  = exp.Beta('ASC_heinz32 ',0,None,None,0)\n",
        "ASC_heinz28 = exp.Beta('ASC_heinz28',0,None,None,0)\n",
        "ASC_hunts32 = exp.Beta('ASC_hunts32',0,None,None,1)\n",
        "\n",
        "B_disp = exp.Beta('B_disp',0,None,None,0)\n",
        "B_feat = exp.Beta('B_feat',0,None,None,0)\n",
        "B_price = exp.Beta('B_price',0,None,None,0)"
      ],
      "execution_count": 11,
      "outputs": []
    },
    {
      "cell_type": "markdown",
      "metadata": {
        "id": "i7WN4frIs5cY"
      },
      "source": [
        "We create the parameters that will be the standard deviations, and the Error components."
      ]
    },
    {
      "cell_type": "code",
      "metadata": {
        "id": "DmTyw30sohMo"
      },
      "source": [
        "\n",
        "SIGMA_price = exp.Beta('SIGMA_price',1,0,None,0)\n",
        "EC_price = SIGMA_price * exp.bioDraws('EC_price','NORMAL')\n"
      ],
      "execution_count": 12,
      "outputs": []
    },
    {
      "cell_type": "markdown",
      "metadata": {
        "id": "ropgcbeduC7I"
      },
      "source": [
        "**Pay attention to the utility specification**: We add the error component to the coefficient (the Beta) tha multiplies the variable. The interpretation then is that the `B_price`  will be the mean of the random Beta, and `SIGMA_price` will be the standard deviation."
      ]
    },
    {
      "cell_type": "code",
      "metadata": {
        "id": "n3xJhAWeIam9"
      },
      "source": [
        "globals().update(database.variables)\n",
        "# Definition of the utility functions\n",
        "V_heinz41 = ASC_heinz41 + B_disp *disp_heinz41 + B_feat * feat_heinz41 + (B_price + EC_price) * price_heinz41 \n",
        "V_heinz32 = ASC_heinz32 + B_disp *disp_heinz32 + B_feat * feat_heinz32 + (B_price  + EC_price) * price_heinz32 \n",
        "V_heinz28 = ASC_heinz28 + B_disp *disp_heinz28 + B_feat * feat_heinz28 + (B_price + EC_price) * price_heinz28 \n",
        "V_hunts32 = ASC_hunts32 + B_disp *disp_hunts32 + B_feat * feat_hunts32 + (B_price + EC_price) * price_hunts32 "
      ],
      "execution_count": 13,
      "outputs": []
    },
    {
      "cell_type": "markdown",
      "metadata": {
        "id": "f3IvSmrBubnJ"
      },
      "source": [
        "The rest of the process follows as usual."
      ]
    },
    {
      "cell_type": "code",
      "metadata": {
        "id": "vsqzjkqUJnmp"
      },
      "source": [
        "# Associate utility functions with the numbering of alternatives\n",
        "V = {0: V_heinz28,\n",
        "     1: V_heinz41,\n",
        "     2: V_heinz32,\n",
        "     3: V_hunts32}\n",
        "\n",
        "av = {0: 1,\n",
        "     1: 1,\n",
        "     2: 1,\n",
        "     3: 1}\n",
        "\n",
        "# Conditional to the random variables, the likelihood of one observation is\n",
        "# given by the logit model (called the kernel)\n",
        "obsprob = models.logit(V,av, choice)\n"
      ],
      "execution_count": 14,
      "outputs": []
    },
    {
      "cell_type": "markdown",
      "metadata": {
        "id": "k8p-NwHVu54l"
      },
      "source": [
        "The difference from the usual declaration of the MNL comes now.\n",
        "\n",
        "We have to do two new steps:\n",
        "\n",
        "1. Tell biogeme to consider the panel nature of the data.\n",
        "2. Tell biogeme to calculate the choice probabilities by simulation. This is how we deal with the random parameters. We simulate for the distribution, and the we calculate the likelihood for that distribution."
      ]
    },
    {
      "cell_type": "markdown",
      "metadata": {
        "id": "UfPNY5auywhh"
      },
      "source": [
        "And Step 2 we take the model and the modifyi it by the expresion `exp.MonteCarlo`. The final log it to take the loglikelihood."
      ]
    },
    {
      "cell_type": "code",
      "metadata": {
        "id": "PS69PxS9yAGG"
      },
      "source": [
        "logprob = exp.log(exp.MonteCarlo(obsprob))"
      ],
      "execution_count": 15,
      "outputs": []
    },
    {
      "cell_type": "markdown",
      "metadata": {
        "id": "MRtpFZRayEde"
      },
      "source": [
        "We we are using simulation, we have to tell biogeme how many draws from the distribution are we going to generate. The more draws, the more accurate estimation, but it is compuationally costly.\n",
        "\n",
        "We also set up a seed, so we can get the same results if the run the notebook again (setting up a seed is a good habit in general)"
      ]
    },
    {
      "cell_type": "code",
      "metadata": {
        "id": "iQ4kHXoaxoY8"
      },
      "source": [
        "\n",
        "# Create the Biogeme object\n",
        "biogeme  = bio.BIOGEME(database,logprob,numberOfDraws=50, seed=1)\n",
        "\n",
        "\n"
      ],
      "execution_count": 42,
      "outputs": []
    },
    {
      "cell_type": "markdown",
      "metadata": {
        "id": "NznXe9enzCJM"
      },
      "source": [
        "Estimation and results as usual."
      ]
    },
    {
      "cell_type": "code",
      "metadata": {
        "id": "FUAmEGgOyDsZ"
      },
      "source": [
        "\n",
        "# Estimate the parameters. \n",
        "results = biogeme.estimate()"
      ],
      "execution_count": 43,
      "outputs": []
    },
    {
      "cell_type": "markdown",
      "metadata": {
        "id": "uHsvEdkPzFqV"
      },
      "source": [
        "We take a look at the results."
      ]
    },
    {
      "cell_type": "code",
      "metadata": {
        "colab": {
          "base_uri": "https://localhost:8080/",
          "height": 269
        },
        "id": "2fyrewHzPO0I",
        "outputId": "a3738098-6bd2-423a-f3d6-c507dc01bfeb"
      },
      "source": [
        "results.getEstimatedParameters()"
      ],
      "execution_count": 44,
      "outputs": [
        {
          "output_type": "execute_result",
          "data": {
            "text/plain": [
              "                 Value  Rob. Std err  Rob. t-test  Rob. p-value\n",
              "ASC_heinz28   2.469766      0.098786    25.001236  0.000000e+00\n",
              "ASC_heinz32   1.534317      0.071020    21.604075  0.000000e+00\n",
              "ASC_heinz41   1.388038      0.119685    11.597414  0.000000e+00\n",
              "B_disp        0.898136      0.106737     8.414438  0.000000e+00\n",
              "B_feat        0.934979      0.125118     7.472792  7.860379e-14\n",
              "B_price      -1.470724      0.083743   -17.562396  0.000000e+00\n",
              "SIGMA_price   0.403928      0.193268     2.089986  3.661903e-02"
            ],
            "text/html": [
              "\n",
              "  <div id=\"df-f200f73c-a6af-43f4-88ec-2d5456ec98ba\">\n",
              "    <div class=\"colab-df-container\">\n",
              "      <div>\n",
              "<style scoped>\n",
              "    .dataframe tbody tr th:only-of-type {\n",
              "        vertical-align: middle;\n",
              "    }\n",
              "\n",
              "    .dataframe tbody tr th {\n",
              "        vertical-align: top;\n",
              "    }\n",
              "\n",
              "    .dataframe thead th {\n",
              "        text-align: right;\n",
              "    }\n",
              "</style>\n",
              "<table border=\"1\" class=\"dataframe\">\n",
              "  <thead>\n",
              "    <tr style=\"text-align: right;\">\n",
              "      <th></th>\n",
              "      <th>Value</th>\n",
              "      <th>Rob. Std err</th>\n",
              "      <th>Rob. t-test</th>\n",
              "      <th>Rob. p-value</th>\n",
              "    </tr>\n",
              "  </thead>\n",
              "  <tbody>\n",
              "    <tr>\n",
              "      <th>ASC_heinz28</th>\n",
              "      <td>2.469766</td>\n",
              "      <td>0.098786</td>\n",
              "      <td>25.001236</td>\n",
              "      <td>0.000000e+00</td>\n",
              "    </tr>\n",
              "    <tr>\n",
              "      <th>ASC_heinz32</th>\n",
              "      <td>1.534317</td>\n",
              "      <td>0.071020</td>\n",
              "      <td>21.604075</td>\n",
              "      <td>0.000000e+00</td>\n",
              "    </tr>\n",
              "    <tr>\n",
              "      <th>ASC_heinz41</th>\n",
              "      <td>1.388038</td>\n",
              "      <td>0.119685</td>\n",
              "      <td>11.597414</td>\n",
              "      <td>0.000000e+00</td>\n",
              "    </tr>\n",
              "    <tr>\n",
              "      <th>B_disp</th>\n",
              "      <td>0.898136</td>\n",
              "      <td>0.106737</td>\n",
              "      <td>8.414438</td>\n",
              "      <td>0.000000e+00</td>\n",
              "    </tr>\n",
              "    <tr>\n",
              "      <th>B_feat</th>\n",
              "      <td>0.934979</td>\n",
              "      <td>0.125118</td>\n",
              "      <td>7.472792</td>\n",
              "      <td>7.860379e-14</td>\n",
              "    </tr>\n",
              "    <tr>\n",
              "      <th>B_price</th>\n",
              "      <td>-1.470724</td>\n",
              "      <td>0.083743</td>\n",
              "      <td>-17.562396</td>\n",
              "      <td>0.000000e+00</td>\n",
              "    </tr>\n",
              "    <tr>\n",
              "      <th>SIGMA_price</th>\n",
              "      <td>0.403928</td>\n",
              "      <td>0.193268</td>\n",
              "      <td>2.089986</td>\n",
              "      <td>3.661903e-02</td>\n",
              "    </tr>\n",
              "  </tbody>\n",
              "</table>\n",
              "</div>\n",
              "      <button class=\"colab-df-convert\" onclick=\"convertToInteractive('df-f200f73c-a6af-43f4-88ec-2d5456ec98ba')\"\n",
              "              title=\"Convert this dataframe to an interactive table.\"\n",
              "              style=\"display:none;\">\n",
              "        \n",
              "  <svg xmlns=\"http://www.w3.org/2000/svg\" height=\"24px\"viewBox=\"0 0 24 24\"\n",
              "       width=\"24px\">\n",
              "    <path d=\"M0 0h24v24H0V0z\" fill=\"none\"/>\n",
              "    <path d=\"M18.56 5.44l.94 2.06.94-2.06 2.06-.94-2.06-.94-.94-2.06-.94 2.06-2.06.94zm-11 1L8.5 8.5l.94-2.06 2.06-.94-2.06-.94L8.5 2.5l-.94 2.06-2.06.94zm10 10l.94 2.06.94-2.06 2.06-.94-2.06-.94-.94-2.06-.94 2.06-2.06.94z\"/><path d=\"M17.41 7.96l-1.37-1.37c-.4-.4-.92-.59-1.43-.59-.52 0-1.04.2-1.43.59L10.3 9.45l-7.72 7.72c-.78.78-.78 2.05 0 2.83L4 21.41c.39.39.9.59 1.41.59.51 0 1.02-.2 1.41-.59l7.78-7.78 2.81-2.81c.8-.78.8-2.07 0-2.86zM5.41 20L4 18.59l7.72-7.72 1.47 1.35L5.41 20z\"/>\n",
              "  </svg>\n",
              "      </button>\n",
              "      \n",
              "  <style>\n",
              "    .colab-df-container {\n",
              "      display:flex;\n",
              "      flex-wrap:wrap;\n",
              "      gap: 12px;\n",
              "    }\n",
              "\n",
              "    .colab-df-convert {\n",
              "      background-color: #E8F0FE;\n",
              "      border: none;\n",
              "      border-radius: 50%;\n",
              "      cursor: pointer;\n",
              "      display: none;\n",
              "      fill: #1967D2;\n",
              "      height: 32px;\n",
              "      padding: 0 0 0 0;\n",
              "      width: 32px;\n",
              "    }\n",
              "\n",
              "    .colab-df-convert:hover {\n",
              "      background-color: #E2EBFA;\n",
              "      box-shadow: 0px 1px 2px rgba(60, 64, 67, 0.3), 0px 1px 3px 1px rgba(60, 64, 67, 0.15);\n",
              "      fill: #174EA6;\n",
              "    }\n",
              "\n",
              "    [theme=dark] .colab-df-convert {\n",
              "      background-color: #3B4455;\n",
              "      fill: #D2E3FC;\n",
              "    }\n",
              "\n",
              "    [theme=dark] .colab-df-convert:hover {\n",
              "      background-color: #434B5C;\n",
              "      box-shadow: 0px 1px 3px 1px rgba(0, 0, 0, 0.15);\n",
              "      filter: drop-shadow(0px 1px 2px rgba(0, 0, 0, 0.3));\n",
              "      fill: #FFFFFF;\n",
              "    }\n",
              "  </style>\n",
              "\n",
              "      <script>\n",
              "        const buttonEl =\n",
              "          document.querySelector('#df-f200f73c-a6af-43f4-88ec-2d5456ec98ba button.colab-df-convert');\n",
              "        buttonEl.style.display =\n",
              "          google.colab.kernel.accessAllowed ? 'block' : 'none';\n",
              "\n",
              "        async function convertToInteractive(key) {\n",
              "          const element = document.querySelector('#df-f200f73c-a6af-43f4-88ec-2d5456ec98ba');\n",
              "          const dataTable =\n",
              "            await google.colab.kernel.invokeFunction('convertToInteractive',\n",
              "                                                     [key], {});\n",
              "          if (!dataTable) return;\n",
              "\n",
              "          const docLinkHtml = 'Like what you see? Visit the ' +\n",
              "            '<a target=\"_blank\" href=https://colab.research.google.com/notebooks/data_table.ipynb>data table notebook</a>'\n",
              "            + ' to learn more about interactive tables.';\n",
              "          element.innerHTML = '';\n",
              "          dataTable['output_type'] = 'display_data';\n",
              "          await google.colab.output.renderOutput(dataTable, element);\n",
              "          const docLink = document.createElement('div');\n",
              "          docLink.innerHTML = docLinkHtml;\n",
              "          element.appendChild(docLink);\n",
              "        }\n",
              "      </script>\n",
              "    </div>\n",
              "  </div>\n",
              "  "
            ]
          },
          "metadata": {},
          "execution_count": 44
        }
      ]
    },
    {
      "cell_type": "markdown",
      "metadata": {
        "id": "T4TsEuG00FUS"
      },
      "source": [
        "# Analyzing the random paremeters\n",
        "\n",
        "So have recovered that the $\\beta_{price}$ is a random variable with mean -1.47 and standard deviation $\\sigma$ 0.40.\n",
        "We can 'ask questions' to interpret what this actually means. The type of questions will ask us to calculate something about the distribtuon, such as what is the proportion of individuals in the population that have values for a coefficient in a given range.\n",
        "\n"
      ]
    },
    {
      "cell_type": "code",
      "metadata": {
        "id": "kvk4m4HDFBzE",
        "outputId": "9295be7c-dfd8-4b26-c511-a6daecd95446",
        "colab": {
          "base_uri": "https://localhost:8080/"
        }
      },
      "source": [
        "from scipy.stats import norm\n",
        "\n",
        "mean_B_price = results.getBetaValues()['B_price']\n",
        "sd_B_price = results.getBetaValues()['SIGMA_price']\n",
        "mean_B_price, sd_B_price"
      ],
      "execution_count": 45,
      "outputs": [
        {
          "output_type": "execute_result",
          "data": {
            "text/plain": [
              "(-1.470724422071508, 0.40392790460637706)"
            ]
          },
          "metadata": {},
          "execution_count": 45
        }
      ]
    },
    {
      "cell_type": "markdown",
      "source": [
        "#What is the proportion of people in the population that have a positive utility relationship with price?\n",
        "Even though the mean of the $\\beta_{price}$ is negative, because it is random it might happen that *some* people in the population will have a positive value for their $B_{price}$. We can calculate this easily using the normal cumulative distribution function (CDF).\n",
        "Remember th CDF(x) is is the probability that values for that distribution is < x.\n",
        "In our case, we want to calculate the prob. that a gaussian with mean -1.47 and sd 0.4 is smaller than 0."
      ],
      "metadata": {
        "id": "NMEo3t2h1byu"
      }
    },
    {
      "cell_type": "code",
      "source": [
        "norm.cdf(   0, loc=mean_B_price, scale=sd_B_price)"
      ],
      "metadata": {
        "id": "BkstZe1006RI",
        "outputId": "3c228ad6-c53b-42c0-ba24-dc6e0fab22b2",
        "colab": {
          "base_uri": "https://localhost:8080/"
        }
      },
      "execution_count": 46,
      "outputs": [
        {
          "output_type": "execute_result",
          "data": {
            "text/plain": [
              "0.9998642393618259"
            ]
          },
          "metadata": {},
          "execution_count": 46
        }
      ]
    },
    {
      "cell_type": "markdown",
      "source": [
        "So 0.99984 are negative, the proportion that have positive values for $B_{price}$ is"
      ],
      "metadata": {
        "id": "CkTz9hRQ2e_I"
      }
    },
    {
      "cell_type": "code",
      "source": [
        "1- norm.cdf(   0, loc=mean_B_price, scale=sd_B_price)"
      ],
      "metadata": {
        "id": "5_cZh6_i2snD",
        "outputId": "75fb8446-8661-42b0-bab9-515008091b40",
        "colab": {
          "base_uri": "https://localhost:8080/"
        }
      },
      "execution_count": 47,
      "outputs": [
        {
          "output_type": "execute_result",
          "data": {
            "text/plain": [
              "0.00013576063817410944"
            ]
          },
          "metadata": {},
          "execution_count": 47
        }
      ]
    },
    {
      "cell_type": "markdown",
      "source": [
        "About 1 per 10000 in our population prefers to buy more expensive tomato sauces, all other things being equal."
      ],
      "metadata": {
        "id": "3iLV8aDo2wqw"
      }
    },
    {
      "cell_type": "markdown",
      "source": [],
      "metadata": {
        "id": "BISRGa_c27WG"
      }
    },
    {
      "cell_type": "markdown",
      "source": [
        "# Comparing mixed specification vs the fixed effects specification"
      ],
      "metadata": {
        "id": "mP3L7TaL3gRe"
      }
    },
    {
      "cell_type": "markdown",
      "source": [
        "We can also test if making $B_{price}$ random is significantly better. We can compare the likelihoods, the random component has an additional parameter (the sigma for the price)."
      ],
      "metadata": {
        "id": "sCdqoek4G9_U"
      }
    },
    {
      "cell_type": "code",
      "source": [
        "V_heinz41 = ASC_heinz41 + B_disp *disp_heinz41 + B_feat * feat_heinz41 + B_price * price_heinz41 \n",
        "V_heinz32 = ASC_heinz32 + B_disp *disp_heinz32 + B_feat * feat_heinz32 + B_price  * price_heinz32 \n",
        "V_heinz28 = ASC_heinz28 + B_disp *disp_heinz28 + B_feat * feat_heinz28 + B_price * price_heinz28 \n",
        "V_hunts32 = ASC_hunts32 + B_disp *disp_hunts32 + B_feat * feat_hunts32 + B_price  * price_hunts32 "
      ],
      "metadata": {
        "id": "I8ZzTcjc3u9B"
      },
      "execution_count": 48,
      "outputs": []
    },
    {
      "cell_type": "code",
      "source": [
        "# Associate utility functions with the numbering of alternatives\n",
        "V = {0: V_heinz28,\n",
        "     1: V_heinz41,\n",
        "     2: V_heinz32,\n",
        "     3: V_hunts32}\n",
        "\n",
        "av = {0: 1,\n",
        "     1: 1,\n",
        "     2: 1,\n",
        "     3: 1}\n",
        "\n",
        "# Conditional to the random variables, the likelihood of one observation is\n",
        "# given by the logit model (called the kernel)\n",
        "obsprob = models.loglogit(V,av, choice)\n"
      ],
      "metadata": {
        "id": "z1vJLYJ736GR"
      },
      "execution_count": 49,
      "outputs": []
    },
    {
      "cell_type": "code",
      "source": [
        "biogeme_fixed  = bio.BIOGEME(database,obsprob)\n",
        "results_fixed = biogeme_fixed.estimate()\n",
        "results_fixed.getEstimatedParameters()"
      ],
      "metadata": {
        "id": "Rtngqkrv33Hw",
        "outputId": "43b2ace2-e64a-401e-ce4c-e7337c341976",
        "colab": {
          "base_uri": "https://localhost:8080/",
          "height": 238
        }
      },
      "execution_count": 50,
      "outputs": [
        {
          "output_type": "execute_result",
          "data": {
            "text/plain": [
              "                 Value  Rob. Std err  Rob. t-test  Rob. p-value\n",
              "ASC_heinz28   2.425975      0.090695    26.748634  0.000000e+00\n",
              "ASC_heinz32   1.501252      0.063948    23.476225  0.000000e+00\n",
              "ASC_heinz41   1.353695      0.114963    11.775004  0.000000e+00\n",
              "B_disp        0.875587      0.102257     8.562617  0.000000e+00\n",
              "B_feat        0.908574      0.120177     7.560313  4.019007e-14\n",
              "B_price      -1.402406      0.056095   -25.000668  0.000000e+00"
            ],
            "text/html": [
              "\n",
              "  <div id=\"df-0a398723-f281-4a4e-9fdc-ef32cdec04a1\">\n",
              "    <div class=\"colab-df-container\">\n",
              "      <div>\n",
              "<style scoped>\n",
              "    .dataframe tbody tr th:only-of-type {\n",
              "        vertical-align: middle;\n",
              "    }\n",
              "\n",
              "    .dataframe tbody tr th {\n",
              "        vertical-align: top;\n",
              "    }\n",
              "\n",
              "    .dataframe thead th {\n",
              "        text-align: right;\n",
              "    }\n",
              "</style>\n",
              "<table border=\"1\" class=\"dataframe\">\n",
              "  <thead>\n",
              "    <tr style=\"text-align: right;\">\n",
              "      <th></th>\n",
              "      <th>Value</th>\n",
              "      <th>Rob. Std err</th>\n",
              "      <th>Rob. t-test</th>\n",
              "      <th>Rob. p-value</th>\n",
              "    </tr>\n",
              "  </thead>\n",
              "  <tbody>\n",
              "    <tr>\n",
              "      <th>ASC_heinz28</th>\n",
              "      <td>2.425975</td>\n",
              "      <td>0.090695</td>\n",
              "      <td>26.748634</td>\n",
              "      <td>0.000000e+00</td>\n",
              "    </tr>\n",
              "    <tr>\n",
              "      <th>ASC_heinz32</th>\n",
              "      <td>1.501252</td>\n",
              "      <td>0.063948</td>\n",
              "      <td>23.476225</td>\n",
              "      <td>0.000000e+00</td>\n",
              "    </tr>\n",
              "    <tr>\n",
              "      <th>ASC_heinz41</th>\n",
              "      <td>1.353695</td>\n",
              "      <td>0.114963</td>\n",
              "      <td>11.775004</td>\n",
              "      <td>0.000000e+00</td>\n",
              "    </tr>\n",
              "    <tr>\n",
              "      <th>B_disp</th>\n",
              "      <td>0.875587</td>\n",
              "      <td>0.102257</td>\n",
              "      <td>8.562617</td>\n",
              "      <td>0.000000e+00</td>\n",
              "    </tr>\n",
              "    <tr>\n",
              "      <th>B_feat</th>\n",
              "      <td>0.908574</td>\n",
              "      <td>0.120177</td>\n",
              "      <td>7.560313</td>\n",
              "      <td>4.019007e-14</td>\n",
              "    </tr>\n",
              "    <tr>\n",
              "      <th>B_price</th>\n",
              "      <td>-1.402406</td>\n",
              "      <td>0.056095</td>\n",
              "      <td>-25.000668</td>\n",
              "      <td>0.000000e+00</td>\n",
              "    </tr>\n",
              "  </tbody>\n",
              "</table>\n",
              "</div>\n",
              "      <button class=\"colab-df-convert\" onclick=\"convertToInteractive('df-0a398723-f281-4a4e-9fdc-ef32cdec04a1')\"\n",
              "              title=\"Convert this dataframe to an interactive table.\"\n",
              "              style=\"display:none;\">\n",
              "        \n",
              "  <svg xmlns=\"http://www.w3.org/2000/svg\" height=\"24px\"viewBox=\"0 0 24 24\"\n",
              "       width=\"24px\">\n",
              "    <path d=\"M0 0h24v24H0V0z\" fill=\"none\"/>\n",
              "    <path d=\"M18.56 5.44l.94 2.06.94-2.06 2.06-.94-2.06-.94-.94-2.06-.94 2.06-2.06.94zm-11 1L8.5 8.5l.94-2.06 2.06-.94-2.06-.94L8.5 2.5l-.94 2.06-2.06.94zm10 10l.94 2.06.94-2.06 2.06-.94-2.06-.94-.94-2.06-.94 2.06-2.06.94z\"/><path d=\"M17.41 7.96l-1.37-1.37c-.4-.4-.92-.59-1.43-.59-.52 0-1.04.2-1.43.59L10.3 9.45l-7.72 7.72c-.78.78-.78 2.05 0 2.83L4 21.41c.39.39.9.59 1.41.59.51 0 1.02-.2 1.41-.59l7.78-7.78 2.81-2.81c.8-.78.8-2.07 0-2.86zM5.41 20L4 18.59l7.72-7.72 1.47 1.35L5.41 20z\"/>\n",
              "  </svg>\n",
              "      </button>\n",
              "      \n",
              "  <style>\n",
              "    .colab-df-container {\n",
              "      display:flex;\n",
              "      flex-wrap:wrap;\n",
              "      gap: 12px;\n",
              "    }\n",
              "\n",
              "    .colab-df-convert {\n",
              "      background-color: #E8F0FE;\n",
              "      border: none;\n",
              "      border-radius: 50%;\n",
              "      cursor: pointer;\n",
              "      display: none;\n",
              "      fill: #1967D2;\n",
              "      height: 32px;\n",
              "      padding: 0 0 0 0;\n",
              "      width: 32px;\n",
              "    }\n",
              "\n",
              "    .colab-df-convert:hover {\n",
              "      background-color: #E2EBFA;\n",
              "      box-shadow: 0px 1px 2px rgba(60, 64, 67, 0.3), 0px 1px 3px 1px rgba(60, 64, 67, 0.15);\n",
              "      fill: #174EA6;\n",
              "    }\n",
              "\n",
              "    [theme=dark] .colab-df-convert {\n",
              "      background-color: #3B4455;\n",
              "      fill: #D2E3FC;\n",
              "    }\n",
              "\n",
              "    [theme=dark] .colab-df-convert:hover {\n",
              "      background-color: #434B5C;\n",
              "      box-shadow: 0px 1px 3px 1px rgba(0, 0, 0, 0.15);\n",
              "      filter: drop-shadow(0px 1px 2px rgba(0, 0, 0, 0.3));\n",
              "      fill: #FFFFFF;\n",
              "    }\n",
              "  </style>\n",
              "\n",
              "      <script>\n",
              "        const buttonEl =\n",
              "          document.querySelector('#df-0a398723-f281-4a4e-9fdc-ef32cdec04a1 button.colab-df-convert');\n",
              "        buttonEl.style.display =\n",
              "          google.colab.kernel.accessAllowed ? 'block' : 'none';\n",
              "\n",
              "        async function convertToInteractive(key) {\n",
              "          const element = document.querySelector('#df-0a398723-f281-4a4e-9fdc-ef32cdec04a1');\n",
              "          const dataTable =\n",
              "            await google.colab.kernel.invokeFunction('convertToInteractive',\n",
              "                                                     [key], {});\n",
              "          if (!dataTable) return;\n",
              "\n",
              "          const docLinkHtml = 'Like what you see? Visit the ' +\n",
              "            '<a target=\"_blank\" href=https://colab.research.google.com/notebooks/data_table.ipynb>data table notebook</a>'\n",
              "            + ' to learn more about interactive tables.';\n",
              "          element.innerHTML = '';\n",
              "          dataTable['output_type'] = 'display_data';\n",
              "          await google.colab.output.renderOutput(dataTable, element);\n",
              "          const docLink = document.createElement('div');\n",
              "          docLink.innerHTML = docLinkHtml;\n",
              "          element.appendChild(docLink);\n",
              "        }\n",
              "      </script>\n",
              "    </div>\n",
              "  </div>\n",
              "  "
            ]
          },
          "metadata": {},
          "execution_count": 50
        }
      ]
    },
    {
      "cell_type": "code",
      "source": [
        "def qbus_likeli_ratio_test_bgm(results_complex, results_reference, signif_level):\n",
        "  return tools.likelihood_ratio_test( (results_complex.data.logLike, results_complex.data.nparam),\n",
        "                                     (results_reference.data.logLike, results_reference.data.nparam), signif_level)"
      ],
      "metadata": {
        "id": "-ioBStx05lze"
      },
      "execution_count": 51,
      "outputs": []
    },
    {
      "cell_type": "code",
      "source": [
        "results.getGeneralStatistics()    "
      ],
      "metadata": {
        "id": "lp8M_x3j-5S3",
        "outputId": "28c79da3-d9fd-42d4-e39f-a88eb36c77ee",
        "colab": {
          "base_uri": "https://localhost:8080/"
        }
      },
      "execution_count": 52,
      "outputs": [
        {
          "output_type": "execute_result",
          "data": {
            "text/plain": [
              "{'Number of estimated parameters': GeneralStatistic(value=7, format=''),\n",
              " 'Sample size': GeneralStatistic(value=2798, format=''),\n",
              " 'Excluded observations': GeneralStatistic(value=0, format=''),\n",
              " 'Init log likelihood': GeneralStatistic(value=-3122.2562823556154, format='.7g'),\n",
              " 'Final log likelihood': GeneralStatistic(value=-2516.385525390116, format='.7g'),\n",
              " 'Likelihood ratio test for the init. model': GeneralStatistic(value=1211.7415139309987, format='.7g'),\n",
              " 'Rho-square for the init. model': GeneralStatistic(value=0.1940490152552098, format='.3g'),\n",
              " 'Rho-square-bar for the init. model': GeneralStatistic(value=0.1918070468301455, format='.3g'),\n",
              " 'Akaike Information Criterion': GeneralStatistic(value=5046.771050780232, format='.7g'),\n",
              " 'Bayesian Information Criterion': GeneralStatistic(value=5088.32767186681, format='.7g'),\n",
              " 'Final gradient norm': GeneralStatistic(value=0.009902403925245067, format='.4E'),\n",
              " 'Number of draws': GeneralStatistic(value=50, format=''),\n",
              " 'Draws generation time': GeneralStatistic(value=datetime.timedelta(microseconds=194493), format=''),\n",
              " 'Types of draws': GeneralStatistic(value=['EC_price: NORMAL'], format=''),\n",
              " 'Nbr of threads': GeneralStatistic(value=2, format='')}"
            ]
          },
          "metadata": {},
          "execution_count": 52
        }
      ]
    },
    {
      "cell_type": "code",
      "source": [
        "results_fixed.getGeneralStatistics()  "
      ],
      "metadata": {
        "id": "cJSNztR9_EbY",
        "outputId": "6671d5c8-13b8-484f-efb7-68731dad6f09",
        "colab": {
          "base_uri": "https://localhost:8080/"
        }
      },
      "execution_count": 53,
      "outputs": [
        {
          "output_type": "execute_result",
          "data": {
            "text/plain": [
              "{'Number of estimated parameters': GeneralStatistic(value=6, format=''),\n",
              " 'Sample size': GeneralStatistic(value=2798, format=''),\n",
              " 'Excluded observations': GeneralStatistic(value=0, format=''),\n",
              " 'Init log likelihood': GeneralStatistic(value=-3072.010954426005, format='.7g'),\n",
              " 'Final log likelihood': GeneralStatistic(value=-2517.877249601438, format='.7g'),\n",
              " 'Likelihood ratio test for the init. model': GeneralStatistic(value=1108.2674096491337, format='.7g'),\n",
              " 'Rho-square for the init. model': GeneralStatistic(value=0.18038142215157071, format='.3g'),\n",
              " 'Rho-square-bar for the init. model': GeneralStatistic(value=0.17842830411618238, format='.3g'),\n",
              " 'Akaike Information Criterion': GeneralStatistic(value=5047.754499202876, format='.7g'),\n",
              " 'Bayesian Information Criterion': GeneralStatistic(value=5083.374460134229, format='.7g'),\n",
              " 'Final gradient norm': GeneralStatistic(value=0.0012559093134939666, format='.4E'),\n",
              " 'Nbr of threads': GeneralStatistic(value=2, format='')}"
            ]
          },
          "metadata": {},
          "execution_count": 53
        }
      ]
    },
    {
      "cell_type": "code",
      "source": [
        "qbus_likeli_ratio_test_bgm(results, results_fixed, 0.05)"
      ],
      "metadata": {
        "id": "0-YkIQGO5yc3",
        "outputId": "45a15f8e-2671-4181-88d9-19a14c915a71",
        "colab": {
          "base_uri": "https://localhost:8080/"
        }
      },
      "execution_count": 54,
      "outputs": [
        {
          "output_type": "execute_result",
          "data": {
            "text/plain": [
              "LRTuple(message='H0 cannot be rejected at level 5.0%', statistic=2.98344842264396, threshold=3.841458820694124)"
            ]
          },
          "metadata": {},
          "execution_count": 54
        }
      ]
    },
    {
      "cell_type": "markdown",
      "source": [],
      "metadata": {
        "id": "AgICvILo-37W"
      }
    },
    {
      "cell_type": "markdown",
      "source": [
        "# Panel data: Advanced stuff (not implemented in Biogeme)\n",
        "\n",
        "We have seen that we can specify which variable has the 'panel' or 'grouping' information, for example, we can use the `id` variable in this dataset to identify the household, and the estimare a random effects when the individual unit is the household. The general version of this idea is that you could estimate each coefficient considering each group, for example, one can vary per household, other per district, other per person and so on. "
      ],
      "metadata": {
        "id": "-3Mimoe_3PYq"
      }
    },
    {
      "cell_type": "markdown",
      "source": [
        "#Exercise: What is the proportion of households that react negatively to didplaying the catsup product?"
      ],
      "metadata": {
        "id": "17Q5ma7W5T4n"
      }
    },
    {
      "cell_type": "code",
      "metadata": {
        "id": "6CWfQIUqKX5X"
      },
      "source": [
        "\n",
        "SIGMA_disp = exp.Beta('SIGMA_disp',1,0,None,0)\n",
        "EC_disp = SIGMA_disp * exp.bioDraws('EC_disp','NORMAL')\n"
      ],
      "execution_count": 62,
      "outputs": []
    },
    {
      "cell_type": "code",
      "metadata": {
        "id": "ijmlVfDRKX5Y"
      },
      "source": [
        "globals().update(database.variables)\n",
        "# Definition of the utility functions\n",
        "V_heinz41 = ASC_heinz41 + (B_disp + EC_disp) *disp_heinz41 + B_feat * feat_heinz41 + (B_price ) * price_heinz41 \n",
        "V_heinz32 = ASC_heinz32 + (B_disp + EC_disp) *disp_heinz32 + B_feat * feat_heinz32 + (B_price ) * price_heinz32 \n",
        "V_heinz28 = ASC_heinz28 + (B_disp + EC_disp)*disp_heinz28 + B_feat * feat_heinz28 + (B_price ) * price_heinz28 \n",
        "V_hunts32 = ASC_hunts32 + (B_disp + EC_disp) *disp_hunts32 + B_feat * feat_hunts32 + (B_price ) * price_hunts32 "
      ],
      "execution_count": 63,
      "outputs": []
    },
    {
      "cell_type": "code",
      "metadata": {
        "id": "jtKdm01MKX5Y"
      },
      "source": [
        "# Associate utility functions with the numbering of alternatives\n",
        "V = {0: V_heinz28,\n",
        "     1: V_heinz41,\n",
        "     2: V_heinz32,\n",
        "     3: V_hunts32}\n",
        "\n",
        "av = {0: 1,\n",
        "     1: 1,\n",
        "     2: 1,\n",
        "     3: 1}\n",
        "\n",
        "# Conditional to the random variables, the likelihood of one observation is\n",
        "# given by the logit model (called the kernel)\n",
        "obsprob = models.logit(V,av, choice)\n"
      ],
      "execution_count": 64,
      "outputs": []
    },
    {
      "cell_type": "code",
      "metadata": {
        "id": "9zYKLGOeKX5Z"
      },
      "source": [
        "logprob = exp.log(exp.MonteCarlo(obsprob))"
      ],
      "execution_count": 65,
      "outputs": []
    },
    {
      "cell_type": "code",
      "metadata": {
        "id": "lxHbWi50KX5Z"
      },
      "source": [
        "\n",
        "# Create the Biogeme object\n",
        "biogeme  = bio.BIOGEME(database,logprob,numberOfDraws=50, seed=1)\n",
        "\n",
        "\n"
      ],
      "execution_count": 66,
      "outputs": []
    },
    {
      "cell_type": "code",
      "metadata": {
        "id": "QLu2AiggKX5Z"
      },
      "source": [
        "\n",
        "# Estimate the parameters. \n",
        "results = biogeme.estimate()"
      ],
      "execution_count": 67,
      "outputs": []
    },
    {
      "cell_type": "code",
      "metadata": {
        "colab": {
          "base_uri": "https://localhost:8080/",
          "height": 269
        },
        "outputId": "94e51edc-b3df-4f3d-d19c-060f96783c25",
        "id": "Xu0iN_O0KX5a"
      },
      "source": [
        "results.getEstimatedParameters()"
      ],
      "execution_count": 68,
      "outputs": [
        {
          "output_type": "execute_result",
          "data": {
            "text/plain": [
              "                 Value  Rob. Std err  Rob. t-test  Rob. p-value\n",
              "ASC_heinz28   2.485258      0.097094    25.596404  0.000000e+00\n",
              "ASC_heinz32   1.539285      0.067642    22.756209  0.000000e+00\n",
              "ASC_heinz41   1.380163      0.119295    11.569356  0.000000e+00\n",
              "B_disp        1.038502      0.159657     6.504564  7.791900e-11\n",
              "B_feat        0.962528      0.127828     7.529890  5.084821e-14\n",
              "B_price      -1.429810      0.059148   -24.173270  0.000000e+00\n",
              "SIGMA_disp    1.340501      0.469691     2.854010  4.317120e-03"
            ],
            "text/html": [
              "\n",
              "  <div id=\"df-65552b8b-c99c-4680-9952-aa8a196033e2\">\n",
              "    <div class=\"colab-df-container\">\n",
              "      <div>\n",
              "<style scoped>\n",
              "    .dataframe tbody tr th:only-of-type {\n",
              "        vertical-align: middle;\n",
              "    }\n",
              "\n",
              "    .dataframe tbody tr th {\n",
              "        vertical-align: top;\n",
              "    }\n",
              "\n",
              "    .dataframe thead th {\n",
              "        text-align: right;\n",
              "    }\n",
              "</style>\n",
              "<table border=\"1\" class=\"dataframe\">\n",
              "  <thead>\n",
              "    <tr style=\"text-align: right;\">\n",
              "      <th></th>\n",
              "      <th>Value</th>\n",
              "      <th>Rob. Std err</th>\n",
              "      <th>Rob. t-test</th>\n",
              "      <th>Rob. p-value</th>\n",
              "    </tr>\n",
              "  </thead>\n",
              "  <tbody>\n",
              "    <tr>\n",
              "      <th>ASC_heinz28</th>\n",
              "      <td>2.485258</td>\n",
              "      <td>0.097094</td>\n",
              "      <td>25.596404</td>\n",
              "      <td>0.000000e+00</td>\n",
              "    </tr>\n",
              "    <tr>\n",
              "      <th>ASC_heinz32</th>\n",
              "      <td>1.539285</td>\n",
              "      <td>0.067642</td>\n",
              "      <td>22.756209</td>\n",
              "      <td>0.000000e+00</td>\n",
              "    </tr>\n",
              "    <tr>\n",
              "      <th>ASC_heinz41</th>\n",
              "      <td>1.380163</td>\n",
              "      <td>0.119295</td>\n",
              "      <td>11.569356</td>\n",
              "      <td>0.000000e+00</td>\n",
              "    </tr>\n",
              "    <tr>\n",
              "      <th>B_disp</th>\n",
              "      <td>1.038502</td>\n",
              "      <td>0.159657</td>\n",
              "      <td>6.504564</td>\n",
              "      <td>7.791900e-11</td>\n",
              "    </tr>\n",
              "    <tr>\n",
              "      <th>B_feat</th>\n",
              "      <td>0.962528</td>\n",
              "      <td>0.127828</td>\n",
              "      <td>7.529890</td>\n",
              "      <td>5.084821e-14</td>\n",
              "    </tr>\n",
              "    <tr>\n",
              "      <th>B_price</th>\n",
              "      <td>-1.429810</td>\n",
              "      <td>0.059148</td>\n",
              "      <td>-24.173270</td>\n",
              "      <td>0.000000e+00</td>\n",
              "    </tr>\n",
              "    <tr>\n",
              "      <th>SIGMA_disp</th>\n",
              "      <td>1.340501</td>\n",
              "      <td>0.469691</td>\n",
              "      <td>2.854010</td>\n",
              "      <td>4.317120e-03</td>\n",
              "    </tr>\n",
              "  </tbody>\n",
              "</table>\n",
              "</div>\n",
              "      <button class=\"colab-df-convert\" onclick=\"convertToInteractive('df-65552b8b-c99c-4680-9952-aa8a196033e2')\"\n",
              "              title=\"Convert this dataframe to an interactive table.\"\n",
              "              style=\"display:none;\">\n",
              "        \n",
              "  <svg xmlns=\"http://www.w3.org/2000/svg\" height=\"24px\"viewBox=\"0 0 24 24\"\n",
              "       width=\"24px\">\n",
              "    <path d=\"M0 0h24v24H0V0z\" fill=\"none\"/>\n",
              "    <path d=\"M18.56 5.44l.94 2.06.94-2.06 2.06-.94-2.06-.94-.94-2.06-.94 2.06-2.06.94zm-11 1L8.5 8.5l.94-2.06 2.06-.94-2.06-.94L8.5 2.5l-.94 2.06-2.06.94zm10 10l.94 2.06.94-2.06 2.06-.94-2.06-.94-.94-2.06-.94 2.06-2.06.94z\"/><path d=\"M17.41 7.96l-1.37-1.37c-.4-.4-.92-.59-1.43-.59-.52 0-1.04.2-1.43.59L10.3 9.45l-7.72 7.72c-.78.78-.78 2.05 0 2.83L4 21.41c.39.39.9.59 1.41.59.51 0 1.02-.2 1.41-.59l7.78-7.78 2.81-2.81c.8-.78.8-2.07 0-2.86zM5.41 20L4 18.59l7.72-7.72 1.47 1.35L5.41 20z\"/>\n",
              "  </svg>\n",
              "      </button>\n",
              "      \n",
              "  <style>\n",
              "    .colab-df-container {\n",
              "      display:flex;\n",
              "      flex-wrap:wrap;\n",
              "      gap: 12px;\n",
              "    }\n",
              "\n",
              "    .colab-df-convert {\n",
              "      background-color: #E8F0FE;\n",
              "      border: none;\n",
              "      border-radius: 50%;\n",
              "      cursor: pointer;\n",
              "      display: none;\n",
              "      fill: #1967D2;\n",
              "      height: 32px;\n",
              "      padding: 0 0 0 0;\n",
              "      width: 32px;\n",
              "    }\n",
              "\n",
              "    .colab-df-convert:hover {\n",
              "      background-color: #E2EBFA;\n",
              "      box-shadow: 0px 1px 2px rgba(60, 64, 67, 0.3), 0px 1px 3px 1px rgba(60, 64, 67, 0.15);\n",
              "      fill: #174EA6;\n",
              "    }\n",
              "\n",
              "    [theme=dark] .colab-df-convert {\n",
              "      background-color: #3B4455;\n",
              "      fill: #D2E3FC;\n",
              "    }\n",
              "\n",
              "    [theme=dark] .colab-df-convert:hover {\n",
              "      background-color: #434B5C;\n",
              "      box-shadow: 0px 1px 3px 1px rgba(0, 0, 0, 0.15);\n",
              "      filter: drop-shadow(0px 1px 2px rgba(0, 0, 0, 0.3));\n",
              "      fill: #FFFFFF;\n",
              "    }\n",
              "  </style>\n",
              "\n",
              "      <script>\n",
              "        const buttonEl =\n",
              "          document.querySelector('#df-65552b8b-c99c-4680-9952-aa8a196033e2 button.colab-df-convert');\n",
              "        buttonEl.style.display =\n",
              "          google.colab.kernel.accessAllowed ? 'block' : 'none';\n",
              "\n",
              "        async function convertToInteractive(key) {\n",
              "          const element = document.querySelector('#df-65552b8b-c99c-4680-9952-aa8a196033e2');\n",
              "          const dataTable =\n",
              "            await google.colab.kernel.invokeFunction('convertToInteractive',\n",
              "                                                     [key], {});\n",
              "          if (!dataTable) return;\n",
              "\n",
              "          const docLinkHtml = 'Like what you see? Visit the ' +\n",
              "            '<a target=\"_blank\" href=https://colab.research.google.com/notebooks/data_table.ipynb>data table notebook</a>'\n",
              "            + ' to learn more about interactive tables.';\n",
              "          element.innerHTML = '';\n",
              "          dataTable['output_type'] = 'display_data';\n",
              "          await google.colab.output.renderOutput(dataTable, element);\n",
              "          const docLink = document.createElement('div');\n",
              "          docLink.innerHTML = docLinkHtml;\n",
              "          element.appendChild(docLink);\n",
              "        }\n",
              "      </script>\n",
              "    </div>\n",
              "  </div>\n",
              "  "
            ]
          },
          "metadata": {},
          "execution_count": 68
        }
      ]
    },
    {
      "cell_type": "code",
      "source": [
        "norm.cdf( 0, loc=1.038502, scale=1.340501)"
      ],
      "metadata": {
        "id": "ONfJ0mX2K3q3",
        "outputId": "75ea09ef-df0d-49b8-8d2c-49d16c5cad41",
        "colab": {
          "base_uri": "https://localhost:8080/"
        }
      },
      "execution_count": 71,
      "outputs": [
        {
          "output_type": "execute_result",
          "data": {
            "text/plain": [
              "0.2192549757348154"
            ]
          },
          "metadata": {},
          "execution_count": 71
        }
      ]
    },
    {
      "cell_type": "markdown",
      "source": [
        "</details>"
      ],
      "metadata": {
        "id": "EiSM_Me_Mywd"
      }
    }
  ]
}