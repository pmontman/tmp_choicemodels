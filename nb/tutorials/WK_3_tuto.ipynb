{
  "nbformat": 4,
  "nbformat_minor": 0,
  "metadata": {
    "colab": {
      "name": "tuto_2_rum_binary",
      "provenance": [],
      "collapsed_sections": [],
      "authorship_tag": "ABX9TyMs8EW4Q9Sd2OW7AMNPbRit",
      "include_colab_link": true
    },
    "kernelspec": {
      "name": "python3",
      "display_name": "Python 3"
    },
    "language_info": {
      "name": "python"
    }
  },
  "cells": [
    {
      "cell_type": "markdown",
      "metadata": {
        "id": "view-in-github",
        "colab_type": "text"
      },
      "source": [
        "<a href=\"https://colab.research.google.com/github/pmontman/pub-choicemodels/blob/main/nb/tuto_2_rum_binary.ipynb\" target=\"_parent\"><img src=\"https://colab.research.google.com/assets/colab-badge.svg\" alt=\"Open In Colab\"/></a>"
      ]
    },
    {
      "cell_type": "markdown",
      "metadata": {
        "id": "XAaq0M26oNGI"
      },
      "source": [
        "# Tutorial 2\n",
        "\n",
        "In this tutorial, we will see:\n",
        "\n",
        "* The decomposition of the utility into observed component of utility and the random component. How randomness induces choice probabilities and finally what utility can and cannot be recovered when we only observe the results of the choices and not the full utility.\n",
        "\n",
        "* Exercise our understanding of likelihood functions and how to use it to find good values for the parameters in our model by maximizing the likelihood.\n",
        "\n",
        "**Please remember to save the notebook in your own google drive! (you can do this just as you open it and go from there)**\n",
        "\n",
        "# 1) Intuition on Random Utility Models\n",
        "\n",
        "Imagine a scenario where we are offering two products to the consumer base.\n",
        "In our estimation, product A has more observed utility than product B, but because of 'randomness', we cannot perfectly predict the sales. We will explore how different random component of the utility affect the market share of these two products.\n",
        "\n",
        "## 1.1) Create the two observed utility components: 10 and 8, and plot them as vertical lines, each on its own color.\n",
        "*Create two python variables to hold the observed components of the utility, then create a simple plot of these two numbers as vertical lines*"
      ]
    },
    {
      "cell_type": "code",
      "metadata": {
        "id": "9AaJM_r0oMQi"
      },
      "source": [
        ""
      ],
      "execution_count": null,
      "outputs": []
    },
    {
      "cell_type": "markdown",
      "metadata": {
        "id": "6b3YuCJhpkWw"
      },
      "source": [
        "We will simulate 1000 consumers choosing between the two alternatives according to the random utility model. This means that there is a random component that is added to the observed utility to each of the alternatives\n",
        "## 1.2) Add 1000 random values taken from a uniform distribution (-2, 2) to each of the two alternatives and plot the density functions around each alternative.\n",
        "*This step will simulate the utility that 1000 independent consumers get for each product. We will end up with two vectors, one for product A and one for product B. The i-est element of the vector represents the utility that the i-est individial gets for that product, already considering the observed part and the random component of the utility. Instead of each consumer getting utility 10 for product A and utility 8 for product B, each consumer gets slightly different utility. Some consumers, because of this randomness, could end up preferring product B over product A, even though the 'observed' part of the utility would make everyone prefer product A.* "
      ]
    },
    {
      "cell_type": "code",
      "metadata": {
        "id": "00Uji4yPqTsi"
      },
      "source": [
        ""
      ],
      "execution_count": null,
      "outputs": []
    },
    {
      "cell_type": "markdown",
      "metadata": {
        "id": "-mSFxuk6pPoe"
      },
      "source": [
        "If there was no random component, a consumer will always choose the option with the larger observed utility. But because of the random component, there is a chance that the product with less observed utility ends up being the one with the larger total utility. This is visualized by the overlapping density function in the plot. Because of randomness, we will need to talk about choice probabilities, it is the best we can do, we cannot perfectly predict the choice.\n",
        "## 1.3) Calculate the choice probabilities for the first item. (counting how many times its utility is larger than the utility of other item)."
      ]
    },
    {
      "cell_type": "code",
      "metadata": {
        "id": "qdqIlqfitBW1"
      },
      "source": [
        ""
      ],
      "execution_count": null,
      "outputs": []
    },
    {
      "cell_type": "markdown",
      "metadata": {
        "id": "AJ8Dvm09tB7b"
      },
      "source": [
        "The larger the variance of the random component, the more 'random' the choices are. We can see how this affects the choice probabilities by simulating different scenarios where the only thing that changes is the variance of the random component. In the uniform distribution, we can just play with the range of the distribution, keeping it centered in 0.\n",
        "\n",
        "## 1.4) Try creating a plot of the choice probability of the first item with respect to the range of the uniform distribution centered in 0 (eg. U(0,0), U(-0.1, 0.1), U(-0.2, 0.2), ... U(-10, 10).\n",
        "\n",
        "*Simulate serveral scenarios with more and more variance in the random component, the more variance the more the choice probabilities go to 0.5 for each product (even though product A will always have higher chance of being chosen than product B).*"
      ]
    },
    {
      "cell_type": "code",
      "metadata": {
        "id": "PQMz0_rGu-am"
      },
      "source": [
        ""
      ],
      "execution_count": null,
      "outputs": []
    },
    {
      "cell_type": "markdown",
      "metadata": {
        "id": "Pg4IcRmCrwGT"
      },
      "source": [
        " \n",
        "\n",
        "---\n",
        "---\n"
      ]
    },
    {
      "cell_type": "markdown",
      "source": [
        "\n",
        "\n",
        " \n",
        "We will now see a few limitations of the utility that can be recovered from the data. We will see that the different possible values of utility produce the same choice probabilities. Therefore there are many values for the utility that are consistent with the experimental observations, and we cannot know which one is the 'true' one.\n",
        "\n",
        "##1.5) Going back to the first scenario (the result of Exercise 1.2)\n",
        " * ## Create a new choice scenario of two alternatives by adding the same constant (nonzero please) to the utilities of product A and product B (you would get two new vectors of utilities).\n",
        " * ## Plot the densities together with the original ones, using different colors (please choose the constant so the plot looks nice and is not too far away from the original densities).\n",
        " * ## Then compute the choice probabilities of the new setting, the one with the added constant.\n",
        "\n",
        "## Do the choice probabilities change, compared to the original ones? Do you think that the true utility can be recovered when we only observe the results of the choices?\n",
        "\n",
        "*Add a constant to the utilities in the experiment to simulate 'another' scenario when the observed components of utility are different from the original, the plot everything together to get a visual understanding on how different the two scenarios are.*\n"
      ],
      "metadata": {
        "id": "EdBSUtc_gDmO"
      }
    },
    {
      "cell_type": "code",
      "metadata": {
        "id": "6xGUKVnStPGA"
      },
      "source": [
        ""
      ],
      "execution_count": null,
      "outputs": []
    },
    {
      "cell_type": "markdown",
      "metadata": {
        "id": "twk2khk2ChiT"
      },
      "source": [
        "\n",
        "When we add a constant to the observed components, the choice probabilities remain the same. A consequence of that is that when we only observe the choice proabilities, as is the case in experimental data, we can recover many possible values for the observed utility, all consistent with the data. Therefore we do not know which one is the 'true value' for the observed component."
      ]
    },
    {
      "cell_type": "markdown",
      "metadata": {
        "id": "XpJd4lWdtPs0"
      },
      "source": [
        "## 1.6) Repeat 1.5, but instead of *adding* a constant to the utilities, *multiply* the utilities by a constant (positive).\n"
      ]
    },
    {
      "cell_type": "code",
      "metadata": {
        "id": "vHqq1rgZxPRT"
      },
      "source": [
        ""
      ],
      "execution_count": null,
      "outputs": []
    },
    {
      "cell_type": "markdown",
      "metadata": {
        "id": "twPVFi2WxMb-"
      },
      "source": [
        "Consider that the choice probabilties do not change when adding a constant or when multiplying by a constant:\n",
        "Do you think that values of the utility can be recovered, or only the relative order of the preferences?\n",
        "This is what is called Cardinal utility vs Ordinal utility.\n",
        "\n",
        "In cardinal utility, the values of the utility are meaningful, in ordinal utility, they can only represent the relative order between a set of alternatives.\n",
        "\n",
        "As a consequence, do you think that two set of utilities that have been estimated separately can be compared? For example, on one hand we have a dataset about coffee preferences from which we recover the utilies for the alternatives latte, espresso, long black. On the other hand we have a dataset about car preference, we recover the preferences for van, sedan, and sports car.\n",
        "Will be able to compare utilities from the coffee dataset to utilities from the car dataset in a meaningful way? Will we be able to know what alternatives produce the most utility across datasets, for example a latte vs a sports car?"
      ]
    },
    {
      "cell_type": "markdown",
      "source": [
        "\n",
        "\n",
        "\n",
        "---\n",
        "---\n",
        "\n",
        "\n"
      ],
      "metadata": {
        "id": "miR9YFO9i14Y"
      }
    },
    {
      "cell_type": "markdown",
      "metadata": {
        "id": "J2OoDtt4qUYM"
      },
      "source": [
        "We will now see that the type of probability distribution of the noise does not affect the choice probabilities, therefore this is another piece of the RUM that cannot be truly recovered from the experimental data.\n",
        "\n",
        "## 1.7) Change the distribution of the random component in the original experiment form a U(-2,2) to a Gaussian with mean 0 and variance $\\frac{16}{12}$. Do the choice probabilities change (much)?\n",
        "*It is unlikely that we will get exactly the same choice probabilities, but it will be clear that we could make them arbitrarily close if we tune the variance of the gaussian.*\n"
      ]
    },
    {
      "cell_type": "code",
      "metadata": {
        "id": "gZFGWSEGyALF"
      },
      "source": [
        ""
      ],
      "execution_count": null,
      "outputs": []
    },
    {
      "cell_type": "markdown",
      "metadata": {
        "id": "RO6MAJb-x-8C"
      },
      "source": [
        "The consequence is that the distribution of the random component cannot be recovered, since there are many distribution that will lead to the same choice probabilities. In practice, it will depend on the model that we the analysts assume for the observed component.\n",
        "\n",
        "# 1.8) Finally, try a different distribution for each of the alternatives, e.g. Uniform for product A, Gaussian for product B, play with the parameters of the distributions to see if you can reach the same choice probabilities as in other sections\n",
        "\n",
        "*This exercise is for extra clarification*\n"
      ]
    },
    {
      "cell_type": "code",
      "metadata": {
        "id": "MwuhZV8l0g2G"
      },
      "source": [
        ""
      ],
      "execution_count": null,
      "outputs": []
    },
    {
      "cell_type": "markdown",
      "metadata": {
        "id": "5WSklb2pcTRh"
      },
      "source": [
        "---\n",
        "---\n",
        "\n",
        "We will now do some exercises aroun the concept of likelihood or likelihood function for a candidate model, given some data.\n",
        "\n",
        "\n",
        "# 2) Intuition on likelihood\n",
        "\n",
        "\n",
        "Let's consider the following scenario: We are responsible for the sales of umbrellas in a large department store, we would like to understand a bit more about the process.\n",
        "We have a sample of the clients that come into the store, knowing whether they bought an umbrella or not, a simple binary choice.\n",
        "\n",
        "Our first approximation consists of assuming that all clients are equivalent, so every time a client enters our store, they choose whether to buy an umbrella or not following some random variable (but the probability distribution for that random variable is the same for all clients). For example, the choose according to a coin toss, each client might get a different outcome, but they all choose according to a coin toss."
      ]
    },
    {
      "cell_type": "markdown",
      "metadata": {
        "id": "BEHO7qeF85ZB"
      },
      "source": [
        "## 2.1) What do you think is the probability distribution that governs the decision-making process under our initial assumptions?\n",
        " A random choice between two alternatives, there is a 'famous' probability distribution that is used to model experiments with 2 possible outcomes...\n"
      ]
    },
    {
      "cell_type": "markdown",
      "source": [
        "\n",
        "## *You can write the answer here, if you want.*"
      ],
      "metadata": {
        "id": "0lEq2D54jy95"
      }
    },
    {
      "cell_type": "markdown",
      "metadata": {
        "id": "JaWwv9p59iIv"
      },
      "source": [
        "---\n",
        "\n",
        "The parameter of that distribution, this unique probability, lets call it $p_{\\Omega}$ is the parameter in our simple model.\n",
        "\n",
        "Our data for the clients coming to our store is [in this file](https://raw.githubusercontent.com/pmontman/pub-choicemodels/main/data/umbrella_month.csv), lets take a look at it.\n"
      ]
    },
    {
      "cell_type": "code",
      "metadata": {
        "colab": {
          "base_uri": "https://localhost:8080/",
          "height": 203
        },
        "id": "6jqxsqsS9eb7",
        "outputId": "fe771bdb-b2bb-4941-c282-3aff71499fe8"
      },
      "source": [
        "import pandas as pd\n",
        "umbrella_df = pd.read_csv(\"https://raw.githubusercontent.com/pmontman/pub-choicemodels/main/data/umbrella_month.csv\")\n",
        "\n",
        "umbrella_df.head(5)"
      ],
      "execution_count": null,
      "outputs": [
        {
          "output_type": "execute_result",
          "data": {
            "text/html": [
              "<div>\n",
              "<style scoped>\n",
              "    .dataframe tbody tr th:only-of-type {\n",
              "        vertical-align: middle;\n",
              "    }\n",
              "\n",
              "    .dataframe tbody tr th {\n",
              "        vertical-align: top;\n",
              "    }\n",
              "\n",
              "    .dataframe thead th {\n",
              "        text-align: right;\n",
              "    }\n",
              "</style>\n",
              "<table border=\"1\" class=\"dataframe\">\n",
              "  <thead>\n",
              "    <tr style=\"text-align: right;\">\n",
              "      <th></th>\n",
              "      <th>buy_umbr</th>\n",
              "      <th>month</th>\n",
              "      <th>client_id</th>\n",
              "    </tr>\n",
              "  </thead>\n",
              "  <tbody>\n",
              "    <tr>\n",
              "      <th>0</th>\n",
              "      <td>True</td>\n",
              "      <td>12</td>\n",
              "      <td>1</td>\n",
              "    </tr>\n",
              "    <tr>\n",
              "      <th>1</th>\n",
              "      <td>False</td>\n",
              "      <td>10</td>\n",
              "      <td>2</td>\n",
              "    </tr>\n",
              "    <tr>\n",
              "      <th>2</th>\n",
              "      <td>False</td>\n",
              "      <td>6</td>\n",
              "      <td>3</td>\n",
              "    </tr>\n",
              "    <tr>\n",
              "      <th>3</th>\n",
              "      <td>True</td>\n",
              "      <td>5</td>\n",
              "      <td>4</td>\n",
              "    </tr>\n",
              "    <tr>\n",
              "      <th>4</th>\n",
              "      <td>True</td>\n",
              "      <td>12</td>\n",
              "      <td>5</td>\n",
              "    </tr>\n",
              "  </tbody>\n",
              "</table>\n",
              "</div>"
            ],
            "text/plain": [
              "   buy_umbr  month  client_id\n",
              "0      True     12          1\n",
              "1     False     10          2\n",
              "2     False      6          3\n",
              "3      True      5          4\n",
              "4      True     12          5"
            ]
          },
          "metadata": {},
          "execution_count": 2
        }
      ]
    },
    {
      "cell_type": "markdown",
      "metadata": {
        "id": "Z6Sm5ZiXI8b1"
      },
      "source": [
        "the variable **buy_umbr** indicates whether the client bought the umbrella, **month** is the month when the client visited the store (it is some 'side information' that we will use later to come up with a better model)."
      ]
    },
    {
      "cell_type": "markdown",
      "metadata": {
        "id": "tPDgg2qsHI74"
      },
      "source": [
        "\n",
        "\n",
        "## 2.2) Compute the likehood function for a range of values of $p_{\\Omega}$ and plot them.\n",
        "*For each value of $p_{\\Omega}$ compute the likelihood function: the probability of having ovserved the data if $p_{\\Omega}$ was the value of the Bernouilli that generates the experimental data.*\n",
        "*Because there are many repetitions of the experiment, the likelihood for all is the joint probability. We can assume that the observations are independent therefore the joint probability is calculated by the product of all individual ones.* *The product of many small number will produced 'numerical problems' in the computations, rounding errors because of the limitations. A way to mitigate the issue is to transform the product into a sum of larger numbers by taking the logarithm. We can use the logarithm to do maximum likelihood because the logarithm does not change which input value produces the maximum.*\n",
        "\n",
        "HINT: You can transform the product in the likelhood function to a sum by taking the logarithm. $\\log(a\\times b \\times c) = log(a) + log(b) + log(c)$. This is commonly done when calculating likelihoods, because computing many products of small numbers produces numerical problems (very small numbers are difficult to handle by computers). This technique is so commo that we often tlak about log likelihoods."
      ]
    },
    {
      "cell_type": "code",
      "metadata": {
        "id": "Q14AW5NGH6qN"
      },
      "source": [
        ""
      ],
      "execution_count": null,
      "outputs": []
    },
    {
      "cell_type": "markdown",
      "metadata": {
        "id": "B6BhTU_v-ZV8"
      },
      "source": [
        "We now go for a more advanced model. We have data about the month that the clients visit our store, and we think with that the probability of buying an umbrella can be approximated more accurately if we consider the month in our model. The probability therefore is not unique, it varies from month to month.\n",
        "\n",
        "#2.3) Can you think of a function that could express the relationship between month and the probability of buying an umbrella?\n",
        "HINT: You can plot the data, and think of functions that create cyclical patterns. The answer does not have to be perfect! There are many different possibilities, the main point is using the information about the month to now produce a probability of buying an umbrella for each client, instead of the same for all clients.\n",
        "\n",
        "*Please write some answer here*\n"
      ]
    },
    {
      "cell_type": "markdown",
      "metadata": {
        "id": "nMJV2N2FBShF"
      },
      "source": [
        "To better tune the solution, we introduce a parameter in our model, we will first multiplying the number of the month by this parameter and then transform this through the function that creates cycles.\n",
        "\n",
        "*The idea here is that when we have a function that produces cycles, we then can adjust the length of the cycles by adding a parameter to the model. We can find the value of this parameter by using maximum likelihood. This should make clear the idea that maximum likelihood is a general technique to find good values for the parameters in our model, when we know the shape of the underlying probability distribution that generates the data. In the case of choice model, this is a well known distribution.*\n",
        "\n",
        "##2.4) Plot the likelihood function of that parameter for a range of values. What are some good values for that parameter? Compare the likelihoods of this model with the initial one, which model do you think  is better?"
      ]
    },
    {
      "cell_type": "code",
      "metadata": {
        "id": "n7v9EMt6CW88"
      },
      "source": [
        ""
      ],
      "execution_count": null,
      "outputs": []
    }
  ]
}