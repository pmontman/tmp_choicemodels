{
  "nbformat": 4,
  "nbformat_minor": 0,
  "metadata": {
    "colab": {
      "provenance": [],
      "collapsed_sections": []
    },
    "kernelspec": {
      "name": "python3",
      "display_name": "Python 3"
    },
    "language_info": {
      "name": "python"
    }
  },
  "cells": [
    {
      "cell_type": "markdown",
      "metadata": {
        "id": "zuJImh8WqX_m"
      },
      "source": [
        "# Practice QBUS3840 Test using the Heater dataset"
      ]
    },
    {
      "cell_type": "markdown",
      "metadata": {
        "id": "rxbeRIOOkIRc"
      },
      "source": [
        "You will anayze a classic dataset, from Kenneth Train, about Heating system preferences.\n",
        "Households face the decision of which heating system to install, for example, Should we install a gas central heating system or for a heat pump instead? (among others).\n",
        "\n",
        "Several variables that affect the decision are measured, such as the installation costs, operation costs for one year and characteristics such as the number of rooms in the house or the income of the household.\n",
        "The dataset was gathered in California\n"
      ]
    },
    {
      "cell_type": "markdown",
      "source": [
        "\n",
        "## Description of the dataset\n",
        "\n",
        "Each row represents a different household, os the household is the 'decision-maker' in this scenario. Household are 'independent' of each other.\n",
        "\n",
        "The variables in the dataset are:\n",
        "\n",
        "**idcase:** The identifier of each individual, decision-maker.\n",
        "\n",
        "**depvar**: A categorical variable indicating the choice of heating system. It is encoded in text *(we will turn it into numbers for biogeme in the preprocessing step)*. We have 5 alternatives.\n",
        "\n",
        " * 'gc': Gas central\n",
        " * 'gr': Gas room\n",
        " * 'ec': Electric central\n",
        " * 'er': Electric room\n",
        " * 'hp': Heat pump\n",
        "\n",
        "**Installation costs variables**:  The cost of installing each system, the variable names are encoded such as `ic_xx`, with xx being the name of the alternative, as in the depvar variable. For example the column `ic_gc` means installation costs for the gas central alternative. `ic_er` would be installation cost for the electric room alternative.\n",
        "\n",
        "**Operation costs**: Operation costs of each heating system, for a year. The variable names are encoded in a similar fashion to installation cost. So the column`oc_gr` would mean operation cost for the gas room alternative.\n",
        "\n",
        "**rooms**: The number of rooms in the house, a numeric variable.\n",
        "\n",
        "**agehed**: Age of the decision maker, considered as the 'household head'.\n",
        "\n",
        "**income**: Yearly income of the household, in dollars.\n",
        "\n",
        "**region**: A categorical variable encoding the location of the household within California. Four levels encoded with text (will be turned into numbers for processing in biogeme).\n",
        " * 'ncostl': Norther coastal region\n",
        " 2. 'scostl': Souther coastal region\n",
        " 3. 'mountn': Mountain region\n",
        " 4. 'valley': Valley region"
      ],
      "metadata": {
        "id": "-2RB1j0txjoq"
      }
    },
    {
      "cell_type": "markdown",
      "metadata": {
        "id": "vb9SIunnASNB"
      },
      "source": [
        "---\n",
        "---\n",
        "\n",
        "# Preparing the environment\n"
      ]
    },
    {
      "cell_type": "code",
      "metadata": {
        "colab": {
          "base_uri": "https://localhost:8080/"
        },
        "id": "j5zHGhgErHPd",
        "outputId": "c68ad76b-7bd6-4f51-c8e6-0333411a3ec4"
      },
      "source": [
        "!pip install biogeme"
      ],
      "execution_count": 1,
      "outputs": [
        {
          "output_type": "stream",
          "name": "stdout",
          "text": [
            "Looking in indexes: https://pypi.org/simple, https://us-python.pkg.dev/colab-wheels/public/simple/\n",
            "Collecting biogeme\n",
            "  Downloading biogeme-3.2.10.tar.gz (1.8 MB)\n",
            "\u001b[K     |████████████████████████████████| 1.8 MB 4.1 MB/s \n",
            "\u001b[?25hBuilding wheels for collected packages: biogeme\n",
            "  Building wheel for biogeme (setup.py) ... \u001b[?25l\u001b[?25hdone\n",
            "  Created wheel for biogeme: filename=biogeme-3.2.10-cp37-cp37m-linux_x86_64.whl size=4253805 sha256=fa2075f2b949602b08dcd3515d91c3b6008de4bdbe9f42d7156f13b8b014bfe8\n",
            "  Stored in directory: /root/.cache/pip/wheels/5b/92/9b/63caa7ad9b2cd582de77d3701d10f7e8d041466f4a9d07d554\n",
            "Successfully built biogeme\n",
            "Installing collected packages: biogeme\n",
            "Successfully installed biogeme-3.2.10\n"
          ]
        }
      ]
    },
    {
      "cell_type": "markdown",
      "metadata": {
        "id": "1z0X9xZ8rChf"
      },
      "source": [
        "Load the packages, feel free to change the names."
      ]
    },
    {
      "cell_type": "code",
      "metadata": {
        "id": "apVB-TMkrFnb"
      },
      "source": [
        "import pandas  as pd\n",
        "import numpy as np\n",
        "import matplotlib.pyplot as plt\n",
        "\n",
        "import biogeme.database as db\n",
        "import biogeme.biogeme as bio\n",
        "import biogeme.models as models\n",
        "import biogeme.expressions as exp\n",
        "import biogeme.tools as tools"
      ],
      "execution_count": 2,
      "outputs": []
    },
    {
      "cell_type": "markdown",
      "metadata": {
        "id": "Mgv0hV1YAieW"
      },
      "source": [
        "# Load the dataset"
      ]
    },
    {
      "cell_type": "code",
      "metadata": {
        "id": "g1Ykn5Ytr7Rs"
      },
      "source": [
        "\n",
        "heater_pd = pd.read_csv('https://github.com/pmontman/tmp_choicemodels/raw/main/data/heating.csv')\n"
      ],
      "execution_count": 3,
      "outputs": []
    },
    {
      "cell_type": "markdown",
      "metadata": {
        "id": "ZY55r3Gesb3t"
      },
      "source": [
        "A simple look at the dataset."
      ]
    },
    {
      "cell_type": "code",
      "metadata": {
        "colab": {
          "base_uri": "https://localhost:8080/",
          "height": 206
        },
        "id": "ldkmnMhssemT",
        "outputId": "12970595-619a-4a47-fbf3-bc7a27799765"
      },
      "source": [
        "heater_pd.head(5)"
      ],
      "execution_count": 4,
      "outputs": [
        {
          "output_type": "execute_result",
          "data": {
            "text/plain": [
              "   idcase depvar   ic_gc   ic_gr   ic_ec   ic_er    ic_hp   oc_gc   oc_gr  \\\n",
              "0       1     gc  866.00  962.64  859.90  995.76  1135.50  199.69  151.72   \n",
              "1       2     gc  727.93  758.89  796.82  894.69   968.90  168.66  168.66   \n",
              "2       3     gc  599.48  783.05  719.86  900.11  1048.30  165.58  137.80   \n",
              "3       4     er  835.17  793.06  761.25  831.04  1048.70  180.88  147.14   \n",
              "4       5     er  755.59  846.29  858.86  985.64   883.05  174.91  138.90   \n",
              "\n",
              "    oc_ec   oc_er   oc_hp  income  agehed  rooms  region  \n",
              "0  553.34  505.60  237.88       7      25      6  ncostl  \n",
              "1  520.24  486.49  199.19       5      60      5  scostl  \n",
              "2  439.06  404.74  171.47       4      65      2  ncostl  \n",
              "3  483.00  425.22  222.95       2      50      4  scostl  \n",
              "4  404.41  389.52  178.49       2      25      6  valley  "
            ],
            "text/html": [
              "\n",
              "  <div id=\"df-c8aeb80b-9e35-4deb-bb8e-19edc75a9f06\">\n",
              "    <div class=\"colab-df-container\">\n",
              "      <div>\n",
              "<style scoped>\n",
              "    .dataframe tbody tr th:only-of-type {\n",
              "        vertical-align: middle;\n",
              "    }\n",
              "\n",
              "    .dataframe tbody tr th {\n",
              "        vertical-align: top;\n",
              "    }\n",
              "\n",
              "    .dataframe thead th {\n",
              "        text-align: right;\n",
              "    }\n",
              "</style>\n",
              "<table border=\"1\" class=\"dataframe\">\n",
              "  <thead>\n",
              "    <tr style=\"text-align: right;\">\n",
              "      <th></th>\n",
              "      <th>idcase</th>\n",
              "      <th>depvar</th>\n",
              "      <th>ic_gc</th>\n",
              "      <th>ic_gr</th>\n",
              "      <th>ic_ec</th>\n",
              "      <th>ic_er</th>\n",
              "      <th>ic_hp</th>\n",
              "      <th>oc_gc</th>\n",
              "      <th>oc_gr</th>\n",
              "      <th>oc_ec</th>\n",
              "      <th>oc_er</th>\n",
              "      <th>oc_hp</th>\n",
              "      <th>income</th>\n",
              "      <th>agehed</th>\n",
              "      <th>rooms</th>\n",
              "      <th>region</th>\n",
              "    </tr>\n",
              "  </thead>\n",
              "  <tbody>\n",
              "    <tr>\n",
              "      <th>0</th>\n",
              "      <td>1</td>\n",
              "      <td>gc</td>\n",
              "      <td>866.00</td>\n",
              "      <td>962.64</td>\n",
              "      <td>859.90</td>\n",
              "      <td>995.76</td>\n",
              "      <td>1135.50</td>\n",
              "      <td>199.69</td>\n",
              "      <td>151.72</td>\n",
              "      <td>553.34</td>\n",
              "      <td>505.60</td>\n",
              "      <td>237.88</td>\n",
              "      <td>7</td>\n",
              "      <td>25</td>\n",
              "      <td>6</td>\n",
              "      <td>ncostl</td>\n",
              "    </tr>\n",
              "    <tr>\n",
              "      <th>1</th>\n",
              "      <td>2</td>\n",
              "      <td>gc</td>\n",
              "      <td>727.93</td>\n",
              "      <td>758.89</td>\n",
              "      <td>796.82</td>\n",
              "      <td>894.69</td>\n",
              "      <td>968.90</td>\n",
              "      <td>168.66</td>\n",
              "      <td>168.66</td>\n",
              "      <td>520.24</td>\n",
              "      <td>486.49</td>\n",
              "      <td>199.19</td>\n",
              "      <td>5</td>\n",
              "      <td>60</td>\n",
              "      <td>5</td>\n",
              "      <td>scostl</td>\n",
              "    </tr>\n",
              "    <tr>\n",
              "      <th>2</th>\n",
              "      <td>3</td>\n",
              "      <td>gc</td>\n",
              "      <td>599.48</td>\n",
              "      <td>783.05</td>\n",
              "      <td>719.86</td>\n",
              "      <td>900.11</td>\n",
              "      <td>1048.30</td>\n",
              "      <td>165.58</td>\n",
              "      <td>137.80</td>\n",
              "      <td>439.06</td>\n",
              "      <td>404.74</td>\n",
              "      <td>171.47</td>\n",
              "      <td>4</td>\n",
              "      <td>65</td>\n",
              "      <td>2</td>\n",
              "      <td>ncostl</td>\n",
              "    </tr>\n",
              "    <tr>\n",
              "      <th>3</th>\n",
              "      <td>4</td>\n",
              "      <td>er</td>\n",
              "      <td>835.17</td>\n",
              "      <td>793.06</td>\n",
              "      <td>761.25</td>\n",
              "      <td>831.04</td>\n",
              "      <td>1048.70</td>\n",
              "      <td>180.88</td>\n",
              "      <td>147.14</td>\n",
              "      <td>483.00</td>\n",
              "      <td>425.22</td>\n",
              "      <td>222.95</td>\n",
              "      <td>2</td>\n",
              "      <td>50</td>\n",
              "      <td>4</td>\n",
              "      <td>scostl</td>\n",
              "    </tr>\n",
              "    <tr>\n",
              "      <th>4</th>\n",
              "      <td>5</td>\n",
              "      <td>er</td>\n",
              "      <td>755.59</td>\n",
              "      <td>846.29</td>\n",
              "      <td>858.86</td>\n",
              "      <td>985.64</td>\n",
              "      <td>883.05</td>\n",
              "      <td>174.91</td>\n",
              "      <td>138.90</td>\n",
              "      <td>404.41</td>\n",
              "      <td>389.52</td>\n",
              "      <td>178.49</td>\n",
              "      <td>2</td>\n",
              "      <td>25</td>\n",
              "      <td>6</td>\n",
              "      <td>valley</td>\n",
              "    </tr>\n",
              "  </tbody>\n",
              "</table>\n",
              "</div>\n",
              "      <button class=\"colab-df-convert\" onclick=\"convertToInteractive('df-c8aeb80b-9e35-4deb-bb8e-19edc75a9f06')\"\n",
              "              title=\"Convert this dataframe to an interactive table.\"\n",
              "              style=\"display:none;\">\n",
              "        \n",
              "  <svg xmlns=\"http://www.w3.org/2000/svg\" height=\"24px\"viewBox=\"0 0 24 24\"\n",
              "       width=\"24px\">\n",
              "    <path d=\"M0 0h24v24H0V0z\" fill=\"none\"/>\n",
              "    <path d=\"M18.56 5.44l.94 2.06.94-2.06 2.06-.94-2.06-.94-.94-2.06-.94 2.06-2.06.94zm-11 1L8.5 8.5l.94-2.06 2.06-.94-2.06-.94L8.5 2.5l-.94 2.06-2.06.94zm10 10l.94 2.06.94-2.06 2.06-.94-2.06-.94-.94-2.06-.94 2.06-2.06.94z\"/><path d=\"M17.41 7.96l-1.37-1.37c-.4-.4-.92-.59-1.43-.59-.52 0-1.04.2-1.43.59L10.3 9.45l-7.72 7.72c-.78.78-.78 2.05 0 2.83L4 21.41c.39.39.9.59 1.41.59.51 0 1.02-.2 1.41-.59l7.78-7.78 2.81-2.81c.8-.78.8-2.07 0-2.86zM5.41 20L4 18.59l7.72-7.72 1.47 1.35L5.41 20z\"/>\n",
              "  </svg>\n",
              "      </button>\n",
              "      \n",
              "  <style>\n",
              "    .colab-df-container {\n",
              "      display:flex;\n",
              "      flex-wrap:wrap;\n",
              "      gap: 12px;\n",
              "    }\n",
              "\n",
              "    .colab-df-convert {\n",
              "      background-color: #E8F0FE;\n",
              "      border: none;\n",
              "      border-radius: 50%;\n",
              "      cursor: pointer;\n",
              "      display: none;\n",
              "      fill: #1967D2;\n",
              "      height: 32px;\n",
              "      padding: 0 0 0 0;\n",
              "      width: 32px;\n",
              "    }\n",
              "\n",
              "    .colab-df-convert:hover {\n",
              "      background-color: #E2EBFA;\n",
              "      box-shadow: 0px 1px 2px rgba(60, 64, 67, 0.3), 0px 1px 3px 1px rgba(60, 64, 67, 0.15);\n",
              "      fill: #174EA6;\n",
              "    }\n",
              "\n",
              "    [theme=dark] .colab-df-convert {\n",
              "      background-color: #3B4455;\n",
              "      fill: #D2E3FC;\n",
              "    }\n",
              "\n",
              "    [theme=dark] .colab-df-convert:hover {\n",
              "      background-color: #434B5C;\n",
              "      box-shadow: 0px 1px 3px 1px rgba(0, 0, 0, 0.15);\n",
              "      filter: drop-shadow(0px 1px 2px rgba(0, 0, 0, 0.3));\n",
              "      fill: #FFFFFF;\n",
              "    }\n",
              "  </style>\n",
              "\n",
              "      <script>\n",
              "        const buttonEl =\n",
              "          document.querySelector('#df-c8aeb80b-9e35-4deb-bb8e-19edc75a9f06 button.colab-df-convert');\n",
              "        buttonEl.style.display =\n",
              "          google.colab.kernel.accessAllowed ? 'block' : 'none';\n",
              "\n",
              "        async function convertToInteractive(key) {\n",
              "          const element = document.querySelector('#df-c8aeb80b-9e35-4deb-bb8e-19edc75a9f06');\n",
              "          const dataTable =\n",
              "            await google.colab.kernel.invokeFunction('convertToInteractive',\n",
              "                                                     [key], {});\n",
              "          if (!dataTable) return;\n",
              "\n",
              "          const docLinkHtml = 'Like what you see? Visit the ' +\n",
              "            '<a target=\"_blank\" href=https://colab.research.google.com/notebooks/data_table.ipynb>data table notebook</a>'\n",
              "            + ' to learn more about interactive tables.';\n",
              "          element.innerHTML = '';\n",
              "          dataTable['output_type'] = 'display_data';\n",
              "          await google.colab.output.renderOutput(dataTable, element);\n",
              "          const docLink = document.createElement('div');\n",
              "          docLink.innerHTML = docLinkHtml;\n",
              "          element.appendChild(docLink);\n",
              "        }\n",
              "      </script>\n",
              "    </div>\n",
              "  </div>\n",
              "  "
            ]
          },
          "metadata": {},
          "execution_count": 4
        }
      ]
    },
    {
      "cell_type": "markdown",
      "source": [
        "Data cleaning (not needed in a exam): The variable depvar uses strings for the variable, we need to use integers (starting in 1) for biogeme. So we re-encode the `depvar` variable as integer using the pandas `factorize` function.\n",
        "\n",
        "**Be careful with the encoding! according to `factorize`, in this dataset, the corresponding numbers will be:**\n",
        " 1. gas central\n",
        " 2. electricity room\n",
        " 3. gas room\n",
        " 4. heat pump\n",
        " 5. electricty central\n",
        "\n",
        "---\n",
        "\n"
      ],
      "metadata": {
        "id": "IbWrMzgQp6MY"
      }
    },
    {
      "cell_type": "code",
      "source": [
        "depvar_factor = pd.factorize(heater_pd['depvar'])\n",
        "\n",
        "heater_pd['depvar'] = depvar_factor[0] + 1\n",
        "depvar_factor[1]"
      ],
      "metadata": {
        "colab": {
          "base_uri": "https://localhost:8080/"
        },
        "id": "K3FRy68QovmN",
        "outputId": "3318c01a-da7a-4c1f-9598-5d8dc382fe83"
      },
      "execution_count": 5,
      "outputs": [
        {
          "output_type": "execute_result",
          "data": {
            "text/plain": [
              "Index(['gc', 'er', 'gr', 'hp', 'ec'], dtype='object')"
            ]
          },
          "metadata": {},
          "execution_count": 5
        }
      ]
    },
    {
      "cell_type": "markdown",
      "source": [
        "The `region` variable, we will encoded it as numbers via binary encoding. We do this with `get_dummies` function from pandas. We can do the efficient binary encoding, considering one of the levels of region as the baseline (saving one variable), or the explicit encoding, creating one variable per level.\n",
        "Let's go for explicit encoding, easier interpretation.\n",
        "\n",
        "We will also print a snapshot of the resulting dataset, already clean and ready for analysis."
      ],
      "metadata": {
        "id": "Wh0Rp3t9xrKp"
      }
    },
    {
      "cell_type": "code",
      "source": [
        "heater_pd = pd.get_dummies(heater_pd, 'region')\n",
        "\n",
        "heater_pd.head(5)"
      ],
      "metadata": {
        "colab": {
          "base_uri": "https://localhost:8080/",
          "height": 206
        },
        "id": "OX3WUFVbxnuQ",
        "outputId": "45f7a498-9918-446c-8401-21ff4e1e449b"
      },
      "execution_count": 6,
      "outputs": [
        {
          "output_type": "execute_result",
          "data": {
            "text/plain": [
              "   idcase  depvar   ic_gc   ic_gr   ic_ec   ic_er    ic_hp   oc_gc   oc_gr  \\\n",
              "0       1       1  866.00  962.64  859.90  995.76  1135.50  199.69  151.72   \n",
              "1       2       1  727.93  758.89  796.82  894.69   968.90  168.66  168.66   \n",
              "2       3       1  599.48  783.05  719.86  900.11  1048.30  165.58  137.80   \n",
              "3       4       2  835.17  793.06  761.25  831.04  1048.70  180.88  147.14   \n",
              "4       5       2  755.59  846.29  858.86  985.64   883.05  174.91  138.90   \n",
              "\n",
              "    oc_ec   oc_er   oc_hp  income  agehed  rooms  region_mountn  \\\n",
              "0  553.34  505.60  237.88       7      25      6              0   \n",
              "1  520.24  486.49  199.19       5      60      5              0   \n",
              "2  439.06  404.74  171.47       4      65      2              0   \n",
              "3  483.00  425.22  222.95       2      50      4              0   \n",
              "4  404.41  389.52  178.49       2      25      6              0   \n",
              "\n",
              "   region_ncostl  region_scostl  region_valley  \n",
              "0              1              0              0  \n",
              "1              0              1              0  \n",
              "2              1              0              0  \n",
              "3              0              1              0  \n",
              "4              0              0              1  "
            ],
            "text/html": [
              "\n",
              "  <div id=\"df-75fc75c0-4ea4-4e87-8968-ce0a1c715202\">\n",
              "    <div class=\"colab-df-container\">\n",
              "      <div>\n",
              "<style scoped>\n",
              "    .dataframe tbody tr th:only-of-type {\n",
              "        vertical-align: middle;\n",
              "    }\n",
              "\n",
              "    .dataframe tbody tr th {\n",
              "        vertical-align: top;\n",
              "    }\n",
              "\n",
              "    .dataframe thead th {\n",
              "        text-align: right;\n",
              "    }\n",
              "</style>\n",
              "<table border=\"1\" class=\"dataframe\">\n",
              "  <thead>\n",
              "    <tr style=\"text-align: right;\">\n",
              "      <th></th>\n",
              "      <th>idcase</th>\n",
              "      <th>depvar</th>\n",
              "      <th>ic_gc</th>\n",
              "      <th>ic_gr</th>\n",
              "      <th>ic_ec</th>\n",
              "      <th>ic_er</th>\n",
              "      <th>ic_hp</th>\n",
              "      <th>oc_gc</th>\n",
              "      <th>oc_gr</th>\n",
              "      <th>oc_ec</th>\n",
              "      <th>oc_er</th>\n",
              "      <th>oc_hp</th>\n",
              "      <th>income</th>\n",
              "      <th>agehed</th>\n",
              "      <th>rooms</th>\n",
              "      <th>region_mountn</th>\n",
              "      <th>region_ncostl</th>\n",
              "      <th>region_scostl</th>\n",
              "      <th>region_valley</th>\n",
              "    </tr>\n",
              "  </thead>\n",
              "  <tbody>\n",
              "    <tr>\n",
              "      <th>0</th>\n",
              "      <td>1</td>\n",
              "      <td>1</td>\n",
              "      <td>866.00</td>\n",
              "      <td>962.64</td>\n",
              "      <td>859.90</td>\n",
              "      <td>995.76</td>\n",
              "      <td>1135.50</td>\n",
              "      <td>199.69</td>\n",
              "      <td>151.72</td>\n",
              "      <td>553.34</td>\n",
              "      <td>505.60</td>\n",
              "      <td>237.88</td>\n",
              "      <td>7</td>\n",
              "      <td>25</td>\n",
              "      <td>6</td>\n",
              "      <td>0</td>\n",
              "      <td>1</td>\n",
              "      <td>0</td>\n",
              "      <td>0</td>\n",
              "    </tr>\n",
              "    <tr>\n",
              "      <th>1</th>\n",
              "      <td>2</td>\n",
              "      <td>1</td>\n",
              "      <td>727.93</td>\n",
              "      <td>758.89</td>\n",
              "      <td>796.82</td>\n",
              "      <td>894.69</td>\n",
              "      <td>968.90</td>\n",
              "      <td>168.66</td>\n",
              "      <td>168.66</td>\n",
              "      <td>520.24</td>\n",
              "      <td>486.49</td>\n",
              "      <td>199.19</td>\n",
              "      <td>5</td>\n",
              "      <td>60</td>\n",
              "      <td>5</td>\n",
              "      <td>0</td>\n",
              "      <td>0</td>\n",
              "      <td>1</td>\n",
              "      <td>0</td>\n",
              "    </tr>\n",
              "    <tr>\n",
              "      <th>2</th>\n",
              "      <td>3</td>\n",
              "      <td>1</td>\n",
              "      <td>599.48</td>\n",
              "      <td>783.05</td>\n",
              "      <td>719.86</td>\n",
              "      <td>900.11</td>\n",
              "      <td>1048.30</td>\n",
              "      <td>165.58</td>\n",
              "      <td>137.80</td>\n",
              "      <td>439.06</td>\n",
              "      <td>404.74</td>\n",
              "      <td>171.47</td>\n",
              "      <td>4</td>\n",
              "      <td>65</td>\n",
              "      <td>2</td>\n",
              "      <td>0</td>\n",
              "      <td>1</td>\n",
              "      <td>0</td>\n",
              "      <td>0</td>\n",
              "    </tr>\n",
              "    <tr>\n",
              "      <th>3</th>\n",
              "      <td>4</td>\n",
              "      <td>2</td>\n",
              "      <td>835.17</td>\n",
              "      <td>793.06</td>\n",
              "      <td>761.25</td>\n",
              "      <td>831.04</td>\n",
              "      <td>1048.70</td>\n",
              "      <td>180.88</td>\n",
              "      <td>147.14</td>\n",
              "      <td>483.00</td>\n",
              "      <td>425.22</td>\n",
              "      <td>222.95</td>\n",
              "      <td>2</td>\n",
              "      <td>50</td>\n",
              "      <td>4</td>\n",
              "      <td>0</td>\n",
              "      <td>0</td>\n",
              "      <td>1</td>\n",
              "      <td>0</td>\n",
              "    </tr>\n",
              "    <tr>\n",
              "      <th>4</th>\n",
              "      <td>5</td>\n",
              "      <td>2</td>\n",
              "      <td>755.59</td>\n",
              "      <td>846.29</td>\n",
              "      <td>858.86</td>\n",
              "      <td>985.64</td>\n",
              "      <td>883.05</td>\n",
              "      <td>174.91</td>\n",
              "      <td>138.90</td>\n",
              "      <td>404.41</td>\n",
              "      <td>389.52</td>\n",
              "      <td>178.49</td>\n",
              "      <td>2</td>\n",
              "      <td>25</td>\n",
              "      <td>6</td>\n",
              "      <td>0</td>\n",
              "      <td>0</td>\n",
              "      <td>0</td>\n",
              "      <td>1</td>\n",
              "    </tr>\n",
              "  </tbody>\n",
              "</table>\n",
              "</div>\n",
              "      <button class=\"colab-df-convert\" onclick=\"convertToInteractive('df-75fc75c0-4ea4-4e87-8968-ce0a1c715202')\"\n",
              "              title=\"Convert this dataframe to an interactive table.\"\n",
              "              style=\"display:none;\">\n",
              "        \n",
              "  <svg xmlns=\"http://www.w3.org/2000/svg\" height=\"24px\"viewBox=\"0 0 24 24\"\n",
              "       width=\"24px\">\n",
              "    <path d=\"M0 0h24v24H0V0z\" fill=\"none\"/>\n",
              "    <path d=\"M18.56 5.44l.94 2.06.94-2.06 2.06-.94-2.06-.94-.94-2.06-.94 2.06-2.06.94zm-11 1L8.5 8.5l.94-2.06 2.06-.94-2.06-.94L8.5 2.5l-.94 2.06-2.06.94zm10 10l.94 2.06.94-2.06 2.06-.94-2.06-.94-.94-2.06-.94 2.06-2.06.94z\"/><path d=\"M17.41 7.96l-1.37-1.37c-.4-.4-.92-.59-1.43-.59-.52 0-1.04.2-1.43.59L10.3 9.45l-7.72 7.72c-.78.78-.78 2.05 0 2.83L4 21.41c.39.39.9.59 1.41.59.51 0 1.02-.2 1.41-.59l7.78-7.78 2.81-2.81c.8-.78.8-2.07 0-2.86zM5.41 20L4 18.59l7.72-7.72 1.47 1.35L5.41 20z\"/>\n",
              "  </svg>\n",
              "      </button>\n",
              "      \n",
              "  <style>\n",
              "    .colab-df-container {\n",
              "      display:flex;\n",
              "      flex-wrap:wrap;\n",
              "      gap: 12px;\n",
              "    }\n",
              "\n",
              "    .colab-df-convert {\n",
              "      background-color: #E8F0FE;\n",
              "      border: none;\n",
              "      border-radius: 50%;\n",
              "      cursor: pointer;\n",
              "      display: none;\n",
              "      fill: #1967D2;\n",
              "      height: 32px;\n",
              "      padding: 0 0 0 0;\n",
              "      width: 32px;\n",
              "    }\n",
              "\n",
              "    .colab-df-convert:hover {\n",
              "      background-color: #E2EBFA;\n",
              "      box-shadow: 0px 1px 2px rgba(60, 64, 67, 0.3), 0px 1px 3px 1px rgba(60, 64, 67, 0.15);\n",
              "      fill: #174EA6;\n",
              "    }\n",
              "\n",
              "    [theme=dark] .colab-df-convert {\n",
              "      background-color: #3B4455;\n",
              "      fill: #D2E3FC;\n",
              "    }\n",
              "\n",
              "    [theme=dark] .colab-df-convert:hover {\n",
              "      background-color: #434B5C;\n",
              "      box-shadow: 0px 1px 3px 1px rgba(0, 0, 0, 0.15);\n",
              "      filter: drop-shadow(0px 1px 2px rgba(0, 0, 0, 0.3));\n",
              "      fill: #FFFFFF;\n",
              "    }\n",
              "  </style>\n",
              "\n",
              "      <script>\n",
              "        const buttonEl =\n",
              "          document.querySelector('#df-75fc75c0-4ea4-4e87-8968-ce0a1c715202 button.colab-df-convert');\n",
              "        buttonEl.style.display =\n",
              "          google.colab.kernel.accessAllowed ? 'block' : 'none';\n",
              "\n",
              "        async function convertToInteractive(key) {\n",
              "          const element = document.querySelector('#df-75fc75c0-4ea4-4e87-8968-ce0a1c715202');\n",
              "          const dataTable =\n",
              "            await google.colab.kernel.invokeFunction('convertToInteractive',\n",
              "                                                     [key], {});\n",
              "          if (!dataTable) return;\n",
              "\n",
              "          const docLinkHtml = 'Like what you see? Visit the ' +\n",
              "            '<a target=\"_blank\" href=https://colab.research.google.com/notebooks/data_table.ipynb>data table notebook</a>'\n",
              "            + ' to learn more about interactive tables.';\n",
              "          element.innerHTML = '';\n",
              "          dataTable['output_type'] = 'display_data';\n",
              "          await google.colab.output.renderOutput(dataTable, element);\n",
              "          const docLink = document.createElement('div');\n",
              "          docLink.innerHTML = docLinkHtml;\n",
              "          element.appendChild(docLink);\n",
              "        }\n",
              "      </script>\n",
              "    </div>\n",
              "  </div>\n",
              "  "
            ]
          },
          "metadata": {},
          "execution_count": 6
        }
      ]
    },
    {
      "cell_type": "markdown",
      "metadata": {
        "id": "Ya_1zth9vEX1"
      },
      "source": [
        "---\n",
        "---\n",
        "\n",
        "# 1) Adjust a model with alternative specific constants and shared parameters for installation cost and operation costs. Select one of the alternatives as the reference (pick the one that you prefer). Comment on the results: Signs of the variables and alternative specific constants."
      ]
    },
    {
      "cell_type": "code",
      "metadata": {
        "id": "SeRgbCnbG4aD"
      },
      "source": [],
      "execution_count": 6,
      "outputs": []
    },
    {
      "cell_type": "markdown",
      "metadata": {
        "id": "mdDsNIDw54DR"
      },
      "source": [
        "---\n",
        "---\n",
        "\n",
        "# 2) Calculate the willingness to pay for reducing operating cost.\n",
        "* *In this case, we have two 'price' variables (installation and operation): Operating cost is the variable we want to understand, installation cost is the price variable in the WTP formula.*\n",
        "\n"
      ]
    },
    {
      "cell_type": "code",
      "metadata": {
        "id": "50-uEFlTG3jR"
      },
      "source": [],
      "execution_count": 6,
      "outputs": []
    },
    {
      "cell_type": "markdown",
      "metadata": {
        "id": "WZfSHc91m3iQ"
      },
      "source": [
        "---\n",
        "---\n",
        "\n",
        "#3) Do big houses with many rooms (5,6,7) have different preferences than the rest (4 and less rooms)?\n",
        "* *Might or might not need to fit another model.*"
      ]
    },
    {
      "cell_type": "code",
      "metadata": {
        "id": "-UzDM2x-56NK"
      },
      "source": [],
      "execution_count": 6,
      "outputs": []
    },
    {
      "cell_type": "markdown",
      "metadata": {
        "id": "va6FLcr4nOCi"
      },
      "source": [
        "---\n",
        "---\n",
        "\n",
        "# 4) Create a more complex model, that includes at least one *interaction* variable between an attribute and a characteristic (product of two variables). Comment on the interpretation of the model. Comment of the per-alernative Willingess To Pay for operating cost, and how they compare to the answer in Question 2.\n",
        "# Is the model a better fit than the one created in in Question 1?\n"
      ]
    },
    {
      "cell_type": "code",
      "metadata": {
        "id": "Jq5fH38GG-iP"
      },
      "source": [],
      "execution_count": 6,
      "outputs": []
    },
    {
      "cell_type": "markdown",
      "metadata": {
        "id": "ZrERT0Lnm44E"
      },
      "source": [
        "---\n",
        "---\n",
        "\n",
        "# 5) Do the people of the 'valley' region have significatively utility relationship for installation cost and operation cost, compared to the other regions?\n",
        "*You might need to fit one model (or two) to answer this question.*\n"
      ]
    },
    {
      "cell_type": "code",
      "metadata": {
        "id": "O4Iau_IHHCzc"
      },
      "source": [],
      "execution_count": 6,
      "outputs": []
    },
    {
      "cell_type": "markdown",
      "metadata": {
        "id": "GakjB3brH3oX"
      },
      "source": [
        "---\n",
        "---\n",
        "\n",
        "# 6) Due to a 'Special Operation', it is expeted that the supply of gas will be completely cut, this is, the two alternatives that use gas, 'gas central' and 'gas room' will not be available. The households that *chose one of those alternatives* will have to move another heating system. Calculate the installation cost that will be incurred due to this change for the population. Use the model fitted in Question 4."
      ]
    },
    {
      "cell_type": "code",
      "metadata": {
        "id": "JRYpnoSvHQx3"
      },
      "source": [],
      "execution_count": 6,
      "outputs": []
    }
  ]
}