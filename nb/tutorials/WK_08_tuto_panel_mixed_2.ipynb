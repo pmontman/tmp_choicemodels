{
  "nbformat": 4,
  "nbformat_minor": 0,
  "metadata": {
    "colab": {
      "name": "tuto_07_panel_mixed_logit",
      "provenance": [],
      "authorship_tag": "ABX9TyNh5CbauW5UvDzku+c/zINP",
      "include_colab_link": true
    },
    "kernelspec": {
      "name": "python3",
      "display_name": "Python 3"
    },
    "language_info": {
      "name": "python"
    }
  },
  "cells": [
    {
      "cell_type": "markdown",
      "metadata": {
        "id": "view-in-github",
        "colab_type": "text"
      },
      "source": [
        "<a href=\"https://colab.research.google.com/github/pmontman/tmp_choicemodels/blob/main/nb/tutorials/WK_08_tuto_panel_mixed_2.ipynb\" target=\"_parent\"><img src=\"https://colab.research.google.com/assets/colab-badge.svg\" alt=\"Open In Colab\"/></a>"
      ]
    },
    {
      "cell_type": "markdown",
      "metadata": {
        "id": "RK_QlIPgbjtB"
      },
      "source": [
        "# Tutorial 8: Continuing with the panel ataPanel data and mixed logit\n",
        "\n",
        "We will continue with the tomato sauce dataset, showcasing how to create random effects on the coefficients, as opposed to the 'agent' effect (random alternative specific constants).\n",
        "\n",
        "\n",
        "\n",
        "\n",
        "We have two famous brands of catsup and 3 different package sizes.\n",
        "\n",
        "A description of the dataset can be found [here](https://www.tandfonline.com/doi/pdf/10.1080/07350015.1994.10524547?casa_token=r4LpjVvgDW4AAAAA:FVG8mEexsQ37tJ2bvk7oxZZ9K_jvvMJ2WxglLzBaHQD0_0REkXmKGsPPxXw_LRGwN3YHY8-L-k8U)"
      ]
    },
    {
      "cell_type": "markdown",
      "metadata": {
        "id": "JyzPlsofdvaG"
      },
      "source": [
        "# Description of the dataset\n",
        "\n",
        "* **id**: household identifiers,\n",
        "* **choice**: one of heinz41, heinz32, heinz28, hunts32.\n",
        "* **disp_x**: is there a display for brand X ?\n",
        "* **feat_x**: is there a newspaper feature advertisement for brand x?\n",
        "* **price_x**: price of brand x"
      ]
    },
    {
      "cell_type": "markdown",
      "metadata": {
        "id": "vb9SIunnASNB"
      },
      "source": [
        "---\n",
        "---\n",
        "\n",
        "# Preparing the environment\n",
        "*The preparation and dataset loading code is given to the students*"
      ]
    },
    {
      "cell_type": "code",
      "metadata": {
        "colab": {
          "base_uri": "https://localhost:8080/"
        },
        "id": "j5zHGhgErHPd",
        "outputId": "cd32c21d-3999-4ade-8abc-744f6be6905a"
      },
      "source": [
        "!pip install biogeme"
      ],
      "execution_count": 1,
      "outputs": [
        {
          "output_type": "stream",
          "name": "stdout",
          "text": [
            "Looking in indexes: https://pypi.org/simple, https://us-python.pkg.dev/colab-wheels/public/simple/\n",
            "Requirement already satisfied: biogeme in /usr/local/lib/python3.7/dist-packages (3.2.10)\n"
          ]
        }
      ]
    },
    {
      "cell_type": "markdown",
      "metadata": {
        "id": "1z0X9xZ8rChf"
      },
      "source": [
        "Load the packages, feel free to change the names."
      ]
    },
    {
      "cell_type": "code",
      "metadata": {
        "id": "apVB-TMkrFnb"
      },
      "source": [
        "import pandas  as pd\n",
        "import numpy as np\n",
        "import matplotlib.pyplot as plt\n",
        "\n",
        "import biogeme.database as db\n",
        "import biogeme.biogeme as bio\n",
        "import biogeme.models as models\n",
        "import biogeme.expressions as exp\n",
        "import biogeme.tools as tools\n",
        "import biogeme.distributions as dist"
      ],
      "execution_count": 2,
      "outputs": []
    },
    {
      "cell_type": "markdown",
      "metadata": {
        "id": "Mgv0hV1YAieW"
      },
      "source": [
        "# Load the dataset"
      ]
    },
    {
      "cell_type": "code",
      "metadata": {
        "id": "g1Ykn5Ytr7Rs"
      },
      "source": [
        "path = 'https://raw.githubusercontent.com/pmontman/pub-choicemodels/main/data/catsup.csv'\n",
        "catsup_pd = pd.read_csv(path)"
      ],
      "execution_count": 3,
      "outputs": []
    },
    {
      "cell_type": "markdown",
      "metadata": {
        "id": "ZY55r3Gesb3t"
      },
      "source": [
        "\n",
        "In this case, notice the id variable, that identifies each household, so we have data from many choice situations for each household. We have also different amount of observations per household."
      ]
    },
    {
      "cell_type": "code",
      "metadata": {
        "colab": {
          "base_uri": "https://localhost:8080/",
          "height": 269
        },
        "id": "ldkmnMhssemT",
        "outputId": "6650c3b1-d364-4d94-f98d-38f22d30b5b6"
      },
      "source": [
        "catsup_pd.head(7)"
      ],
      "execution_count": 4,
      "outputs": [
        {
          "output_type": "execute_result",
          "data": {
            "text/plain": [
              "   id  disp_heinz41  disp_heinz32  disp_heinz28  disp_hunts32  feat_heinz41  \\\n",
              "0   1             0             0             0             0             0   \n",
              "1   1             0             0             0             0             0   \n",
              "2   1             0             0             0             0             0   \n",
              "3   1             0             0             0             0             0   \n",
              "4   1             0             0             0             0             0   \n",
              "5   1             0             0             0             0             0   \n",
              "6   1             0             0             0             1             0   \n",
              "\n",
              "   feat_heinz32  feat_heinz28  feat_hunts32  price_heinz41  price_heinz32  \\\n",
              "0             0             0             0            4.6            3.7   \n",
              "1             0             0             0            4.6            4.3   \n",
              "2             1             0             0            4.6            2.5   \n",
              "3             0             0             0            4.6            3.7   \n",
              "4             0             1             0            4.6            3.0   \n",
              "5             0             0             0            5.0            3.0   \n",
              "6             0             0             1            5.1            3.1   \n",
              "\n",
              "   price_heinz28  price_hunts32   choice  \n",
              "0            5.2            3.4  heinz28  \n",
              "1            5.2            4.4  heinz28  \n",
              "2            4.6            4.8  heinz28  \n",
              "3            5.2            3.4  heinz28  \n",
              "4            4.6            4.8  heinz28  \n",
              "5            4.7            3.0  heinz28  \n",
              "6            4.6            4.1  heinz28  "
            ],
            "text/html": [
              "\n",
              "  <div id=\"df-3ddfc334-c426-4b90-8db6-9cf901198dbb\">\n",
              "    <div class=\"colab-df-container\">\n",
              "      <div>\n",
              "<style scoped>\n",
              "    .dataframe tbody tr th:only-of-type {\n",
              "        vertical-align: middle;\n",
              "    }\n",
              "\n",
              "    .dataframe tbody tr th {\n",
              "        vertical-align: top;\n",
              "    }\n",
              "\n",
              "    .dataframe thead th {\n",
              "        text-align: right;\n",
              "    }\n",
              "</style>\n",
              "<table border=\"1\" class=\"dataframe\">\n",
              "  <thead>\n",
              "    <tr style=\"text-align: right;\">\n",
              "      <th></th>\n",
              "      <th>id</th>\n",
              "      <th>disp_heinz41</th>\n",
              "      <th>disp_heinz32</th>\n",
              "      <th>disp_heinz28</th>\n",
              "      <th>disp_hunts32</th>\n",
              "      <th>feat_heinz41</th>\n",
              "      <th>feat_heinz32</th>\n",
              "      <th>feat_heinz28</th>\n",
              "      <th>feat_hunts32</th>\n",
              "      <th>price_heinz41</th>\n",
              "      <th>price_heinz32</th>\n",
              "      <th>price_heinz28</th>\n",
              "      <th>price_hunts32</th>\n",
              "      <th>choice</th>\n",
              "    </tr>\n",
              "  </thead>\n",
              "  <tbody>\n",
              "    <tr>\n",
              "      <th>0</th>\n",
              "      <td>1</td>\n",
              "      <td>0</td>\n",
              "      <td>0</td>\n",
              "      <td>0</td>\n",
              "      <td>0</td>\n",
              "      <td>0</td>\n",
              "      <td>0</td>\n",
              "      <td>0</td>\n",
              "      <td>0</td>\n",
              "      <td>4.6</td>\n",
              "      <td>3.7</td>\n",
              "      <td>5.2</td>\n",
              "      <td>3.4</td>\n",
              "      <td>heinz28</td>\n",
              "    </tr>\n",
              "    <tr>\n",
              "      <th>1</th>\n",
              "      <td>1</td>\n",
              "      <td>0</td>\n",
              "      <td>0</td>\n",
              "      <td>0</td>\n",
              "      <td>0</td>\n",
              "      <td>0</td>\n",
              "      <td>0</td>\n",
              "      <td>0</td>\n",
              "      <td>0</td>\n",
              "      <td>4.6</td>\n",
              "      <td>4.3</td>\n",
              "      <td>5.2</td>\n",
              "      <td>4.4</td>\n",
              "      <td>heinz28</td>\n",
              "    </tr>\n",
              "    <tr>\n",
              "      <th>2</th>\n",
              "      <td>1</td>\n",
              "      <td>0</td>\n",
              "      <td>0</td>\n",
              "      <td>0</td>\n",
              "      <td>0</td>\n",
              "      <td>0</td>\n",
              "      <td>1</td>\n",
              "      <td>0</td>\n",
              "      <td>0</td>\n",
              "      <td>4.6</td>\n",
              "      <td>2.5</td>\n",
              "      <td>4.6</td>\n",
              "      <td>4.8</td>\n",
              "      <td>heinz28</td>\n",
              "    </tr>\n",
              "    <tr>\n",
              "      <th>3</th>\n",
              "      <td>1</td>\n",
              "      <td>0</td>\n",
              "      <td>0</td>\n",
              "      <td>0</td>\n",
              "      <td>0</td>\n",
              "      <td>0</td>\n",
              "      <td>0</td>\n",
              "      <td>0</td>\n",
              "      <td>0</td>\n",
              "      <td>4.6</td>\n",
              "      <td>3.7</td>\n",
              "      <td>5.2</td>\n",
              "      <td>3.4</td>\n",
              "      <td>heinz28</td>\n",
              "    </tr>\n",
              "    <tr>\n",
              "      <th>4</th>\n",
              "      <td>1</td>\n",
              "      <td>0</td>\n",
              "      <td>0</td>\n",
              "      <td>0</td>\n",
              "      <td>0</td>\n",
              "      <td>0</td>\n",
              "      <td>0</td>\n",
              "      <td>1</td>\n",
              "      <td>0</td>\n",
              "      <td>4.6</td>\n",
              "      <td>3.0</td>\n",
              "      <td>4.6</td>\n",
              "      <td>4.8</td>\n",
              "      <td>heinz28</td>\n",
              "    </tr>\n",
              "    <tr>\n",
              "      <th>5</th>\n",
              "      <td>1</td>\n",
              "      <td>0</td>\n",
              "      <td>0</td>\n",
              "      <td>0</td>\n",
              "      <td>0</td>\n",
              "      <td>0</td>\n",
              "      <td>0</td>\n",
              "      <td>0</td>\n",
              "      <td>0</td>\n",
              "      <td>5.0</td>\n",
              "      <td>3.0</td>\n",
              "      <td>4.7</td>\n",
              "      <td>3.0</td>\n",
              "      <td>heinz28</td>\n",
              "    </tr>\n",
              "    <tr>\n",
              "      <th>6</th>\n",
              "      <td>1</td>\n",
              "      <td>0</td>\n",
              "      <td>0</td>\n",
              "      <td>0</td>\n",
              "      <td>1</td>\n",
              "      <td>0</td>\n",
              "      <td>0</td>\n",
              "      <td>0</td>\n",
              "      <td>1</td>\n",
              "      <td>5.1</td>\n",
              "      <td>3.1</td>\n",
              "      <td>4.6</td>\n",
              "      <td>4.1</td>\n",
              "      <td>heinz28</td>\n",
              "    </tr>\n",
              "  </tbody>\n",
              "</table>\n",
              "</div>\n",
              "      <button class=\"colab-df-convert\" onclick=\"convertToInteractive('df-3ddfc334-c426-4b90-8db6-9cf901198dbb')\"\n",
              "              title=\"Convert this dataframe to an interactive table.\"\n",
              "              style=\"display:none;\">\n",
              "        \n",
              "  <svg xmlns=\"http://www.w3.org/2000/svg\" height=\"24px\"viewBox=\"0 0 24 24\"\n",
              "       width=\"24px\">\n",
              "    <path d=\"M0 0h24v24H0V0z\" fill=\"none\"/>\n",
              "    <path d=\"M18.56 5.44l.94 2.06.94-2.06 2.06-.94-2.06-.94-.94-2.06-.94 2.06-2.06.94zm-11 1L8.5 8.5l.94-2.06 2.06-.94-2.06-.94L8.5 2.5l-.94 2.06-2.06.94zm10 10l.94 2.06.94-2.06 2.06-.94-2.06-.94-.94-2.06-.94 2.06-2.06.94z\"/><path d=\"M17.41 7.96l-1.37-1.37c-.4-.4-.92-.59-1.43-.59-.52 0-1.04.2-1.43.59L10.3 9.45l-7.72 7.72c-.78.78-.78 2.05 0 2.83L4 21.41c.39.39.9.59 1.41.59.51 0 1.02-.2 1.41-.59l7.78-7.78 2.81-2.81c.8-.78.8-2.07 0-2.86zM5.41 20L4 18.59l7.72-7.72 1.47 1.35L5.41 20z\"/>\n",
              "  </svg>\n",
              "      </button>\n",
              "      \n",
              "  <style>\n",
              "    .colab-df-container {\n",
              "      display:flex;\n",
              "      flex-wrap:wrap;\n",
              "      gap: 12px;\n",
              "    }\n",
              "\n",
              "    .colab-df-convert {\n",
              "      background-color: #E8F0FE;\n",
              "      border: none;\n",
              "      border-radius: 50%;\n",
              "      cursor: pointer;\n",
              "      display: none;\n",
              "      fill: #1967D2;\n",
              "      height: 32px;\n",
              "      padding: 0 0 0 0;\n",
              "      width: 32px;\n",
              "    }\n",
              "\n",
              "    .colab-df-convert:hover {\n",
              "      background-color: #E2EBFA;\n",
              "      box-shadow: 0px 1px 2px rgba(60, 64, 67, 0.3), 0px 1px 3px 1px rgba(60, 64, 67, 0.15);\n",
              "      fill: #174EA6;\n",
              "    }\n",
              "\n",
              "    [theme=dark] .colab-df-convert {\n",
              "      background-color: #3B4455;\n",
              "      fill: #D2E3FC;\n",
              "    }\n",
              "\n",
              "    [theme=dark] .colab-df-convert:hover {\n",
              "      background-color: #434B5C;\n",
              "      box-shadow: 0px 1px 3px 1px rgba(0, 0, 0, 0.15);\n",
              "      filter: drop-shadow(0px 1px 2px rgba(0, 0, 0, 0.3));\n",
              "      fill: #FFFFFF;\n",
              "    }\n",
              "  </style>\n",
              "\n",
              "      <script>\n",
              "        const buttonEl =\n",
              "          document.querySelector('#df-3ddfc334-c426-4b90-8db6-9cf901198dbb button.colab-df-convert');\n",
              "        buttonEl.style.display =\n",
              "          google.colab.kernel.accessAllowed ? 'block' : 'none';\n",
              "\n",
              "        async function convertToInteractive(key) {\n",
              "          const element = document.querySelector('#df-3ddfc334-c426-4b90-8db6-9cf901198dbb');\n",
              "          const dataTable =\n",
              "            await google.colab.kernel.invokeFunction('convertToInteractive',\n",
              "                                                     [key], {});\n",
              "          if (!dataTable) return;\n",
              "\n",
              "          const docLinkHtml = 'Like what you see? Visit the ' +\n",
              "            '<a target=\"_blank\" href=https://colab.research.google.com/notebooks/data_table.ipynb>data table notebook</a>'\n",
              "            + ' to learn more about interactive tables.';\n",
              "          element.innerHTML = '';\n",
              "          dataTable['output_type'] = 'display_data';\n",
              "          await google.colab.output.renderOutput(dataTable, element);\n",
              "          const docLink = document.createElement('div');\n",
              "          docLink.innerHTML = docLinkHtml;\n",
              "          element.appendChild(docLink);\n",
              "        }\n",
              "      </script>\n",
              "    </div>\n",
              "  </div>\n",
              "  "
            ]
          },
          "metadata": {},
          "execution_count": 4
        }
      ]
    },
    {
      "cell_type": "markdown",
      "metadata": {
        "id": "75S5mV9mG_i8"
      },
      "source": [
        "# Auxiliary function"
      ]
    },
    {
      "cell_type": "code",
      "metadata": {
        "id": "kkHePFuDHB6L"
      },
      "source": [
        "def qbus_update_globals_bgm(pd_df):\n",
        "   globals().update(db.Database('tmp_bg_bgm_for_glob', pd_df).variables)"
      ],
      "execution_count": 5,
      "outputs": []
    },
    {
      "cell_type": "markdown",
      "metadata": {
        "id": "IT44SQAUAVT5"
      },
      "source": [
        "# Data cleaning: Preparing the dataset for Biogeme"
      ]
    },
    {
      "cell_type": "markdown",
      "metadata": {
        "id": "yTEgKQ0HAY8c"
      },
      "source": [
        "Encode the choice variable (a string) into numbers with the `factorize` function.\n",
        "We take a look at the codetable to know how the numbers are mapped to the alternatives. The order of the codetable indicates the association,\n",
        "0: heinz28, 1: heinz41 and so on."
      ]
    },
    {
      "cell_type": "code",
      "metadata": {
        "id": "3161scmJOPG8"
      },
      "source": [
        "catsup_pd['choice'], codetable = catsup_pd['choice'].factorize()"
      ],
      "execution_count": 6,
      "outputs": []
    },
    {
      "cell_type": "code",
      "metadata": {
        "colab": {
          "base_uri": "https://localhost:8080/"
        },
        "id": "AYqojw_PIpss",
        "outputId": "48273fe0-eccb-4cab-d630-dea3eb6e5696"
      },
      "source": [
        "codetable"
      ],
      "execution_count": 7,
      "outputs": [
        {
          "output_type": "execute_result",
          "data": {
            "text/plain": [
              "Index(['heinz28', 'heinz41', 'heinz32', 'hunts32'], dtype='object')"
            ]
          },
          "metadata": {},
          "execution_count": 7
        }
      ]
    },
    {
      "cell_type": "code",
      "source": [
        "catsup_pd['choice']"
      ],
      "metadata": {
        "colab": {
          "base_uri": "https://localhost:8080/"
        },
        "id": "BPkqjnqV_f06",
        "outputId": "059fd4bf-40c3-44cc-f001-28c4b5468fa9"
      },
      "execution_count": 8,
      "outputs": [
        {
          "output_type": "execute_result",
          "data": {
            "text/plain": [
              "0       0\n",
              "1       0\n",
              "2       0\n",
              "3       0\n",
              "4       0\n",
              "       ..\n",
              "2793    1\n",
              "2794    1\n",
              "2795    3\n",
              "2796    0\n",
              "2797    0\n",
              "Name: choice, Length: 2798, dtype: int64"
            ]
          },
          "metadata": {},
          "execution_count": 8
        }
      ]
    },
    {
      "cell_type": "markdown",
      "metadata": {
        "id": "FIyH5krhxwYI"
      },
      "source": [
        "#Capturing agent effect through mixed logit"
      ]
    },
    {
      "cell_type": "code",
      "metadata": {
        "id": "lo-Nu7ovxnoE"
      },
      "source": [
        "\n",
        "# Define level of verbosity\n",
        "import biogeme.messaging as msg\n",
        "logger = msg.bioMessage()\n",
        "logger.setSilent()\n"
      ],
      "execution_count": 9,
      "outputs": []
    },
    {
      "cell_type": "markdown",
      "metadata": {
        "id": "7IUIcyRKdyFK"
      },
      "source": [
        "We will have to use some additional functionalities of biogeme so the auxiliary functions cannot be used. So we have to create the biogeme database manually."
      ]
    },
    {
      "cell_type": "code",
      "metadata": {
        "id": "0OkXWfTDD6MH"
      },
      "source": [
        "database = db.Database(\"catsup\", catsup_pd)"
      ],
      "execution_count": 10,
      "outputs": []
    },
    {
      "cell_type": "markdown",
      "metadata": {
        "id": "k7iWoF9Ho_Pd"
      },
      "source": [
        "We now declare the coefficients in our model, we will make a simple model,\n",
        "just the alternative-specif constants and the variables disp, feat and price."
      ]
    },
    {
      "cell_type": "code",
      "metadata": {
        "id": "tI5UVDAZEfHn"
      },
      "source": [
        "ASC_heinz41 = exp.Beta('ASC_heinz41',0,None,None,0)\n",
        "ASC_heinz32  = exp.Beta('ASC_heinz32 ',0,None,None,0)\n",
        "ASC_heinz28 = exp.Beta('ASC_heinz28',0,None,None,0)\n",
        "ASC_hunts32 = exp.Beta('ASC_hunts32',0,None,None,1)\n",
        "\n",
        "B_disp = exp.Beta('B_disp',0,None,None,0)\n",
        "B_feat = exp.Beta('B_feat',0,None,None,0)\n",
        "B_price = exp.Beta('B_price',0,None,None,0)"
      ],
      "execution_count": 11,
      "outputs": []
    },
    {
      "cell_type": "markdown",
      "metadata": {
        "id": "i7WN4frIs5cY"
      },
      "source": [
        "We creat the parameters that will be the standard deviations"
      ]
    },
    {
      "cell_type": "code",
      "metadata": {
        "id": "DmTyw30sohMo"
      },
      "source": [
        "\n",
        "SIGMA_price = exp.Beta('SIGMA_price',1,0,None,0)\n",
        "EC_price = SIGMA_price * exp.bioDraws('EC_price','NORMAL')\n"
      ],
      "execution_count": 12,
      "outputs": []
    },
    {
      "cell_type": "markdown",
      "metadata": {
        "id": "ff-rLzfTtLNV"
      },
      "source": [
        "And the following code is how we tell biogeme that the parameters are random.\n",
        "The `EC_`s are the agent effects. EC stands for Error Component. The key function that indicates randomness is the biogeme function `exp.bioDraws`, that indicates that they are drawn from a probability distribution. The second argument specifies the distribution, some possible values are `'NORMAL'` `'UNIFORMSYM'`."
      ]
    },
    {
      "cell_type": "code",
      "metadata": {
        "id": "eG2K9AAgtJQd"
      },
      "source": [
        "#B_price_rnd = B_price + "
      ],
      "execution_count": 13,
      "outputs": []
    },
    {
      "cell_type": "markdown",
      "metadata": {
        "id": "ropgcbeduC7I"
      },
      "source": [
        "An this is how the specification of the utility functions looks like in the end.\n",
        "The Betas (disp, feat and price) and ASCsare fixed effect, while the EC are random."
      ]
    },
    {
      "cell_type": "code",
      "metadata": {
        "id": "n3xJhAWeIam9"
      },
      "source": [
        "globals().update(database.variables)\n",
        "# Definition of the utility functions\n",
        "V_heinz41 = ASC_heinz41 + B_disp *disp_heinz41 + (B_feat) * feat_heinz41 + (B_price + EC_price) * price_heinz41 \n",
        "V_heinz32 = ASC_heinz32 + B_disp *disp_heinz32 + B_feat * feat_heinz32 + (B_price  + EC_price) * price_heinz32 \n",
        "V_heinz28 = ASC_heinz28 + B_disp *disp_heinz28 + B_feat * feat_heinz28 + (B_price + EC_price) * price_heinz28 \n",
        "V_hunts32 = ASC_hunts32 + B_disp *disp_hunts32 + B_feat * feat_hunts32 + (B_price + EC_price) * price_hunts32 "
      ],
      "execution_count": 14,
      "outputs": []
    },
    {
      "cell_type": "markdown",
      "metadata": {
        "id": "f3IvSmrBubnJ"
      },
      "source": [
        "We create the dictionary that maps to the alternatives. **Remember to be careful here.** The numbers should match the alternatives as we indicated by the factorize() transformation at the beginning of the notebook.\n",
        "Availabilities are not considered here, we set them to 1.\n",
        "Finaly, we specify the logit model, as usual.\n",
        "These steps are common to the multinomial logit."
      ]
    },
    {
      "cell_type": "code",
      "metadata": {
        "id": "vsqzjkqUJnmp"
      },
      "source": [
        "# Associate utility functions with the numbering of alternatives\n",
        "V = {0: V_heinz28,\n",
        "     1: V_heinz41,\n",
        "     2: V_heinz32,\n",
        "     3: V_hunts32}\n",
        "\n",
        "av = {0: 1,\n",
        "     1: 1,\n",
        "     2: 1,\n",
        "     3: 1}\n",
        "\n",
        "# Conditional to the random variables, the likelihood of one observation is\n",
        "# given by the logit model (called the kernel)\n",
        "obsprob = models.logit(V,av, choice)\n"
      ],
      "execution_count": 15,
      "outputs": []
    },
    {
      "cell_type": "markdown",
      "metadata": {
        "id": "k8p-NwHVu54l"
      },
      "source": [
        "The difference from the usual declaration of the MNL comes now.\n",
        "\n",
        "We have to do two new steps:\n",
        "\n",
        "1. Tell biogeme to consider the panel nature of the data.\n",
        "2. Tell biogeme to calculate the choice probabilities by simulation. This is how we deal with the random parameters. We simulate for the distribution, and the we calculate the likelihood for that distribution."
      ]
    },
    {
      "cell_type": "markdown",
      "metadata": {
        "id": "UfPNY5auywhh"
      },
      "source": [
        "And Step 2 we take the model and the modifyi it by the expresion `exp.MonteCarlo`. The final log it to take the loglikelihood."
      ]
    },
    {
      "cell_type": "code",
      "metadata": {
        "id": "PS69PxS9yAGG"
      },
      "source": [
        "logprob = exp.log(exp.MonteCarlo(obsprob))"
      ],
      "execution_count": 16,
      "outputs": []
    },
    {
      "cell_type": "markdown",
      "metadata": {
        "id": "MRtpFZRayEde"
      },
      "source": [
        "We we are using simulation, we have to tell biogeme how many draws from the distribution are we going to generate. The more draws, the more accurate estimation, but it is compuationally costly.\n",
        "\n",
        "We also set up a seed, so we can get the same results if the run the notebook again (setting up a seed is a good habit in general)"
      ]
    },
    {
      "cell_type": "code",
      "metadata": {
        "id": "iQ4kHXoaxoY8"
      },
      "source": [
        "\n",
        "# Create the Biogeme object\n",
        "biogeme  = bio.BIOGEME(database,logprob,numberOfDraws=100, seed=1)\n",
        "\n",
        "\n"
      ],
      "execution_count": 17,
      "outputs": []
    },
    {
      "cell_type": "markdown",
      "metadata": {
        "id": "NznXe9enzCJM"
      },
      "source": [
        "Estimation and results as usual."
      ]
    },
    {
      "cell_type": "code",
      "metadata": {
        "id": "FUAmEGgOyDsZ"
      },
      "source": [
        "\n",
        "# Estimate the parameters. \n",
        "results = biogeme.estimate()"
      ],
      "execution_count": 18,
      "outputs": []
    },
    {
      "cell_type": "markdown",
      "metadata": {
        "id": "uHsvEdkPzFqV"
      },
      "source": [
        "We take a look at the results,"
      ]
    },
    {
      "cell_type": "code",
      "metadata": {
        "colab": {
          "base_uri": "https://localhost:8080/",
          "height": 269
        },
        "id": "2fyrewHzPO0I",
        "outputId": "10dc5a49-6d4e-425d-fdd5-e1679a2527be"
      },
      "source": [
        "results.getEstimatedParameters()"
      ],
      "execution_count": 19,
      "outputs": [
        {
          "output_type": "execute_result",
          "data": {
            "text/plain": [
              "                 Value  Rob. Std err  Rob. t-test  Rob. p-value\n",
              "ASC_heinz28   2.447719      0.100295    24.405280  0.000000e+00\n",
              "ASC_heinz32   1.518159      0.073230    20.731406  0.000000e+00\n",
              "ASC_heinz41   1.370617      0.120309    11.392508  0.000000e+00\n",
              "B_disp        0.887912      0.106160     8.363890  0.000000e+00\n",
              "B_feat        0.920067      0.125651     7.322431  2.435829e-13\n",
              "B_price      -1.436162      0.092175   -15.580874  0.000000e+00\n",
              "SIGMA_price   0.283032      0.310318     0.912071  3.617313e-01"
            ],
            "text/html": [
              "\n",
              "  <div id=\"df-5fd50f74-d6d9-4305-9152-bc2d92f43a0c\">\n",
              "    <div class=\"colab-df-container\">\n",
              "      <div>\n",
              "<style scoped>\n",
              "    .dataframe tbody tr th:only-of-type {\n",
              "        vertical-align: middle;\n",
              "    }\n",
              "\n",
              "    .dataframe tbody tr th {\n",
              "        vertical-align: top;\n",
              "    }\n",
              "\n",
              "    .dataframe thead th {\n",
              "        text-align: right;\n",
              "    }\n",
              "</style>\n",
              "<table border=\"1\" class=\"dataframe\">\n",
              "  <thead>\n",
              "    <tr style=\"text-align: right;\">\n",
              "      <th></th>\n",
              "      <th>Value</th>\n",
              "      <th>Rob. Std err</th>\n",
              "      <th>Rob. t-test</th>\n",
              "      <th>Rob. p-value</th>\n",
              "    </tr>\n",
              "  </thead>\n",
              "  <tbody>\n",
              "    <tr>\n",
              "      <th>ASC_heinz28</th>\n",
              "      <td>2.447719</td>\n",
              "      <td>0.100295</td>\n",
              "      <td>24.405280</td>\n",
              "      <td>0.000000e+00</td>\n",
              "    </tr>\n",
              "    <tr>\n",
              "      <th>ASC_heinz32</th>\n",
              "      <td>1.518159</td>\n",
              "      <td>0.073230</td>\n",
              "      <td>20.731406</td>\n",
              "      <td>0.000000e+00</td>\n",
              "    </tr>\n",
              "    <tr>\n",
              "      <th>ASC_heinz41</th>\n",
              "      <td>1.370617</td>\n",
              "      <td>0.120309</td>\n",
              "      <td>11.392508</td>\n",
              "      <td>0.000000e+00</td>\n",
              "    </tr>\n",
              "    <tr>\n",
              "      <th>B_disp</th>\n",
              "      <td>0.887912</td>\n",
              "      <td>0.106160</td>\n",
              "      <td>8.363890</td>\n",
              "      <td>0.000000e+00</td>\n",
              "    </tr>\n",
              "    <tr>\n",
              "      <th>B_feat</th>\n",
              "      <td>0.920067</td>\n",
              "      <td>0.125651</td>\n",
              "      <td>7.322431</td>\n",
              "      <td>2.435829e-13</td>\n",
              "    </tr>\n",
              "    <tr>\n",
              "      <th>B_price</th>\n",
              "      <td>-1.436162</td>\n",
              "      <td>0.092175</td>\n",
              "      <td>-15.580874</td>\n",
              "      <td>0.000000e+00</td>\n",
              "    </tr>\n",
              "    <tr>\n",
              "      <th>SIGMA_price</th>\n",
              "      <td>0.283032</td>\n",
              "      <td>0.310318</td>\n",
              "      <td>0.912071</td>\n",
              "      <td>3.617313e-01</td>\n",
              "    </tr>\n",
              "  </tbody>\n",
              "</table>\n",
              "</div>\n",
              "      <button class=\"colab-df-convert\" onclick=\"convertToInteractive('df-5fd50f74-d6d9-4305-9152-bc2d92f43a0c')\"\n",
              "              title=\"Convert this dataframe to an interactive table.\"\n",
              "              style=\"display:none;\">\n",
              "        \n",
              "  <svg xmlns=\"http://www.w3.org/2000/svg\" height=\"24px\"viewBox=\"0 0 24 24\"\n",
              "       width=\"24px\">\n",
              "    <path d=\"M0 0h24v24H0V0z\" fill=\"none\"/>\n",
              "    <path d=\"M18.56 5.44l.94 2.06.94-2.06 2.06-.94-2.06-.94-.94-2.06-.94 2.06-2.06.94zm-11 1L8.5 8.5l.94-2.06 2.06-.94-2.06-.94L8.5 2.5l-.94 2.06-2.06.94zm10 10l.94 2.06.94-2.06 2.06-.94-2.06-.94-.94-2.06-.94 2.06-2.06.94z\"/><path d=\"M17.41 7.96l-1.37-1.37c-.4-.4-.92-.59-1.43-.59-.52 0-1.04.2-1.43.59L10.3 9.45l-7.72 7.72c-.78.78-.78 2.05 0 2.83L4 21.41c.39.39.9.59 1.41.59.51 0 1.02-.2 1.41-.59l7.78-7.78 2.81-2.81c.8-.78.8-2.07 0-2.86zM5.41 20L4 18.59l7.72-7.72 1.47 1.35L5.41 20z\"/>\n",
              "  </svg>\n",
              "      </button>\n",
              "      \n",
              "  <style>\n",
              "    .colab-df-container {\n",
              "      display:flex;\n",
              "      flex-wrap:wrap;\n",
              "      gap: 12px;\n",
              "    }\n",
              "\n",
              "    .colab-df-convert {\n",
              "      background-color: #E8F0FE;\n",
              "      border: none;\n",
              "      border-radius: 50%;\n",
              "      cursor: pointer;\n",
              "      display: none;\n",
              "      fill: #1967D2;\n",
              "      height: 32px;\n",
              "      padding: 0 0 0 0;\n",
              "      width: 32px;\n",
              "    }\n",
              "\n",
              "    .colab-df-convert:hover {\n",
              "      background-color: #E2EBFA;\n",
              "      box-shadow: 0px 1px 2px rgba(60, 64, 67, 0.3), 0px 1px 3px 1px rgba(60, 64, 67, 0.15);\n",
              "      fill: #174EA6;\n",
              "    }\n",
              "\n",
              "    [theme=dark] .colab-df-convert {\n",
              "      background-color: #3B4455;\n",
              "      fill: #D2E3FC;\n",
              "    }\n",
              "\n",
              "    [theme=dark] .colab-df-convert:hover {\n",
              "      background-color: #434B5C;\n",
              "      box-shadow: 0px 1px 3px 1px rgba(0, 0, 0, 0.15);\n",
              "      filter: drop-shadow(0px 1px 2px rgba(0, 0, 0, 0.3));\n",
              "      fill: #FFFFFF;\n",
              "    }\n",
              "  </style>\n",
              "\n",
              "      <script>\n",
              "        const buttonEl =\n",
              "          document.querySelector('#df-5fd50f74-d6d9-4305-9152-bc2d92f43a0c button.colab-df-convert');\n",
              "        buttonEl.style.display =\n",
              "          google.colab.kernel.accessAllowed ? 'block' : 'none';\n",
              "\n",
              "        async function convertToInteractive(key) {\n",
              "          const element = document.querySelector('#df-5fd50f74-d6d9-4305-9152-bc2d92f43a0c');\n",
              "          const dataTable =\n",
              "            await google.colab.kernel.invokeFunction('convertToInteractive',\n",
              "                                                     [key], {});\n",
              "          if (!dataTable) return;\n",
              "\n",
              "          const docLinkHtml = 'Like what you see? Visit the ' +\n",
              "            '<a target=\"_blank\" href=https://colab.research.google.com/notebooks/data_table.ipynb>data table notebook</a>'\n",
              "            + ' to learn more about interactive tables.';\n",
              "          element.innerHTML = '';\n",
              "          dataTable['output_type'] = 'display_data';\n",
              "          await google.colab.output.renderOutput(dataTable, element);\n",
              "          const docLink = document.createElement('div');\n",
              "          docLink.innerHTML = docLinkHtml;\n",
              "          element.appendChild(docLink);\n",
              "        }\n",
              "      </script>\n",
              "    </div>\n",
              "  </div>\n",
              "  "
            ]
          },
          "metadata": {},
          "execution_count": 19
        }
      ]
    },
    {
      "cell_type": "markdown",
      "metadata": {
        "id": "T4TsEuG00FUS"
      },
      "source": [
        "# Analyzing the random paremeters\n",
        "\n",
        "So have recovered that the $\\beta_{price}$ is a random variable with mean -1.47 and standard deviation $\\sigma$ 0.40.\n",
        "We can 'ask questions' to interpret what this actually means. The type of questions will ask us to calculate something about \n",
        "\n"
      ]
    },
    {
      "cell_type": "code",
      "metadata": {
        "id": "kvk4m4HDFBzE",
        "outputId": "af5670c1-2e88-4927-994a-150e43f68107",
        "colab": {
          "base_uri": "https://localhost:8080/"
        }
      },
      "source": [
        "from scipy.stats import norm\n",
        "\n",
        "mean_B_price = results.getBetaValues()['B_price']\n",
        "sd_B_price = results.getBetaValues()['SIGMA_price']\n",
        "mean_B_price, sd_B_price"
      ],
      "execution_count": 20,
      "outputs": [
        {
          "output_type": "execute_result",
          "data": {
            "text/plain": [
              "(-1.4361624039031133, 0.28303223287403495)"
            ]
          },
          "metadata": {},
          "execution_count": 20
        }
      ]
    },
    {
      "cell_type": "markdown",
      "source": [
        "#What is the proportion of people in the population that have a positive utility relationship with price?\n",
        "Even though the mean of the $\\beta_{price}$ is negative, because it is random it might happen that *some* people in the population will have a positive value for their $B_{price}$. We can calculate this easily using the normal cumulative distribution function (CDF).\n",
        "Remember th CDF(x) is is the probability that values for that distribution is < x.\n",
        "In our case, we want to calculate the prob. that a gaussian with mean -1.47 and sd 0.4 is smaller than 0."
      ],
      "metadata": {
        "id": "NMEo3t2h1byu"
      }
    },
    {
      "cell_type": "code",
      "source": [
        "norm.cdf(   0, loc=mean_B_price, scale=sd_B_price)"
      ],
      "metadata": {
        "id": "BkstZe1006RI",
        "outputId": "3ff833ab-2065-40e9-cbb2-20f8b85879ab",
        "colab": {
          "base_uri": "https://localhost:8080/"
        }
      },
      "execution_count": 21,
      "outputs": [
        {
          "output_type": "execute_result",
          "data": {
            "text/plain": [
              "0.999999805436089"
            ]
          },
          "metadata": {},
          "execution_count": 21
        }
      ]
    },
    {
      "cell_type": "markdown",
      "source": [
        "So 0.99984 are negative, the proportion that have positive values for $B_{price}$ is"
      ],
      "metadata": {
        "id": "CkTz9hRQ2e_I"
      }
    },
    {
      "cell_type": "code",
      "source": [
        "1- norm.cdf(   0, loc=mean_B_price, scale=sd_B_price)"
      ],
      "metadata": {
        "id": "5_cZh6_i2snD",
        "outputId": "3e9170e4-4a4e-4a17-c840-1b7a0db62fa9",
        "colab": {
          "base_uri": "https://localhost:8080/"
        }
      },
      "execution_count": 22,
      "outputs": [
        {
          "output_type": "execute_result",
          "data": {
            "text/plain": [
              "1.9456391098238157e-07"
            ]
          },
          "metadata": {},
          "execution_count": 22
        }
      ]
    },
    {
      "cell_type": "markdown",
      "source": [
        "About 1 per 10000 in our population prefers to buy more expensive tomato sauces, all other things being equal."
      ],
      "metadata": {
        "id": "3iLV8aDo2wqw"
      }
    },
    {
      "cell_type": "markdown",
      "source": [],
      "metadata": {
        "id": "BISRGa_c27WG"
      }
    },
    {
      "cell_type": "markdown",
      "source": [
        "# Comparing mixed specificaion vs the fixed effects specification"
      ],
      "metadata": {
        "id": "mP3L7TaL3gRe"
      }
    },
    {
      "cell_type": "code",
      "source": [
        "V_heinz41 = ASC_heinz41 + B_disp *disp_heinz41 + B_feat * feat_heinz41 + B_price * price_heinz41 \n",
        "V_heinz32 = ASC_heinz32 + B_disp *disp_heinz32 + B_feat * feat_heinz32 + B_price  * price_heinz32 \n",
        "V_heinz28 = ASC_heinz28 + B_disp *disp_heinz28 + B_feat * feat_heinz28 + B_price * price_heinz28 \n",
        "V_hunts32 = ASC_hunts32 + B_disp *disp_hunts32 + B_feat * feat_hunts32 + B_price  * price_hunts32 "
      ],
      "metadata": {
        "id": "I8ZzTcjc3u9B"
      },
      "execution_count": 36,
      "outputs": []
    },
    {
      "cell_type": "code",
      "source": [
        "# Associate utility functions with the numbering of alternatives\n",
        "V = {0: V_heinz28,\n",
        "     1: V_heinz41,\n",
        "     2: V_heinz32,\n",
        "     3: V_hunts32}\n",
        "\n",
        "av = {0: 1,\n",
        "     1: 1,\n",
        "     2: 1,\n",
        "     3: 1}\n",
        "\n",
        "# Conditional to the random variables, the likelihood of one observation is\n",
        "# given by the logit model (called the kernel)\n",
        "obsprob = models.loglogit(V,av, choice)\n"
      ],
      "metadata": {
        "id": "z1vJLYJ736GR"
      },
      "execution_count": 37,
      "outputs": []
    },
    {
      "cell_type": "code",
      "source": [
        "biogeme_fixed  = bio.BIOGEME(database,obsprob)\n",
        "results_fixed = biogeme_fixed.estimate()\n",
        "results_fixed.getEstimatedParameters()"
      ],
      "metadata": {
        "id": "Rtngqkrv33Hw",
        "outputId": "87fc4a03-2d03-42a5-96e9-cc11364024b4",
        "colab": {
          "base_uri": "https://localhost:8080/",
          "height": 238
        }
      },
      "execution_count": 38,
      "outputs": [
        {
          "output_type": "execute_result",
          "data": {
            "text/plain": [
              "                 Value  Rob. Std err  Rob. t-test  Rob. p-value\n",
              "ASC_heinz28   2.425955      0.090695    26.748585  0.000000e+00\n",
              "ASC_heinz32   1.501228      0.063947    23.476127  0.000000e+00\n",
              "ASC_heinz41   1.353701      0.114962    11.775184  0.000000e+00\n",
              "B_disp        0.875603      0.102257     8.562782  0.000000e+00\n",
              "B_feat        0.908579      0.120177     7.560374  4.019007e-14\n",
              "B_price      -1.402411      0.056095   -25.000760  0.000000e+00"
            ],
            "text/html": [
              "\n",
              "  <div id=\"df-4eedd1bf-6518-4de5-8143-44c3b80a7366\">\n",
              "    <div class=\"colab-df-container\">\n",
              "      <div>\n",
              "<style scoped>\n",
              "    .dataframe tbody tr th:only-of-type {\n",
              "        vertical-align: middle;\n",
              "    }\n",
              "\n",
              "    .dataframe tbody tr th {\n",
              "        vertical-align: top;\n",
              "    }\n",
              "\n",
              "    .dataframe thead th {\n",
              "        text-align: right;\n",
              "    }\n",
              "</style>\n",
              "<table border=\"1\" class=\"dataframe\">\n",
              "  <thead>\n",
              "    <tr style=\"text-align: right;\">\n",
              "      <th></th>\n",
              "      <th>Value</th>\n",
              "      <th>Rob. Std err</th>\n",
              "      <th>Rob. t-test</th>\n",
              "      <th>Rob. p-value</th>\n",
              "    </tr>\n",
              "  </thead>\n",
              "  <tbody>\n",
              "    <tr>\n",
              "      <th>ASC_heinz28</th>\n",
              "      <td>2.425955</td>\n",
              "      <td>0.090695</td>\n",
              "      <td>26.748585</td>\n",
              "      <td>0.000000e+00</td>\n",
              "    </tr>\n",
              "    <tr>\n",
              "      <th>ASC_heinz32</th>\n",
              "      <td>1.501228</td>\n",
              "      <td>0.063947</td>\n",
              "      <td>23.476127</td>\n",
              "      <td>0.000000e+00</td>\n",
              "    </tr>\n",
              "    <tr>\n",
              "      <th>ASC_heinz41</th>\n",
              "      <td>1.353701</td>\n",
              "      <td>0.114962</td>\n",
              "      <td>11.775184</td>\n",
              "      <td>0.000000e+00</td>\n",
              "    </tr>\n",
              "    <tr>\n",
              "      <th>B_disp</th>\n",
              "      <td>0.875603</td>\n",
              "      <td>0.102257</td>\n",
              "      <td>8.562782</td>\n",
              "      <td>0.000000e+00</td>\n",
              "    </tr>\n",
              "    <tr>\n",
              "      <th>B_feat</th>\n",
              "      <td>0.908579</td>\n",
              "      <td>0.120177</td>\n",
              "      <td>7.560374</td>\n",
              "      <td>4.019007e-14</td>\n",
              "    </tr>\n",
              "    <tr>\n",
              "      <th>B_price</th>\n",
              "      <td>-1.402411</td>\n",
              "      <td>0.056095</td>\n",
              "      <td>-25.000760</td>\n",
              "      <td>0.000000e+00</td>\n",
              "    </tr>\n",
              "  </tbody>\n",
              "</table>\n",
              "</div>\n",
              "      <button class=\"colab-df-convert\" onclick=\"convertToInteractive('df-4eedd1bf-6518-4de5-8143-44c3b80a7366')\"\n",
              "              title=\"Convert this dataframe to an interactive table.\"\n",
              "              style=\"display:none;\">\n",
              "        \n",
              "  <svg xmlns=\"http://www.w3.org/2000/svg\" height=\"24px\"viewBox=\"0 0 24 24\"\n",
              "       width=\"24px\">\n",
              "    <path d=\"M0 0h24v24H0V0z\" fill=\"none\"/>\n",
              "    <path d=\"M18.56 5.44l.94 2.06.94-2.06 2.06-.94-2.06-.94-.94-2.06-.94 2.06-2.06.94zm-11 1L8.5 8.5l.94-2.06 2.06-.94-2.06-.94L8.5 2.5l-.94 2.06-2.06.94zm10 10l.94 2.06.94-2.06 2.06-.94-2.06-.94-.94-2.06-.94 2.06-2.06.94z\"/><path d=\"M17.41 7.96l-1.37-1.37c-.4-.4-.92-.59-1.43-.59-.52 0-1.04.2-1.43.59L10.3 9.45l-7.72 7.72c-.78.78-.78 2.05 0 2.83L4 21.41c.39.39.9.59 1.41.59.51 0 1.02-.2 1.41-.59l7.78-7.78 2.81-2.81c.8-.78.8-2.07 0-2.86zM5.41 20L4 18.59l7.72-7.72 1.47 1.35L5.41 20z\"/>\n",
              "  </svg>\n",
              "      </button>\n",
              "      \n",
              "  <style>\n",
              "    .colab-df-container {\n",
              "      display:flex;\n",
              "      flex-wrap:wrap;\n",
              "      gap: 12px;\n",
              "    }\n",
              "\n",
              "    .colab-df-convert {\n",
              "      background-color: #E8F0FE;\n",
              "      border: none;\n",
              "      border-radius: 50%;\n",
              "      cursor: pointer;\n",
              "      display: none;\n",
              "      fill: #1967D2;\n",
              "      height: 32px;\n",
              "      padding: 0 0 0 0;\n",
              "      width: 32px;\n",
              "    }\n",
              "\n",
              "    .colab-df-convert:hover {\n",
              "      background-color: #E2EBFA;\n",
              "      box-shadow: 0px 1px 2px rgba(60, 64, 67, 0.3), 0px 1px 3px 1px rgba(60, 64, 67, 0.15);\n",
              "      fill: #174EA6;\n",
              "    }\n",
              "\n",
              "    [theme=dark] .colab-df-convert {\n",
              "      background-color: #3B4455;\n",
              "      fill: #D2E3FC;\n",
              "    }\n",
              "\n",
              "    [theme=dark] .colab-df-convert:hover {\n",
              "      background-color: #434B5C;\n",
              "      box-shadow: 0px 1px 3px 1px rgba(0, 0, 0, 0.15);\n",
              "      filter: drop-shadow(0px 1px 2px rgba(0, 0, 0, 0.3));\n",
              "      fill: #FFFFFF;\n",
              "    }\n",
              "  </style>\n",
              "\n",
              "      <script>\n",
              "        const buttonEl =\n",
              "          document.querySelector('#df-4eedd1bf-6518-4de5-8143-44c3b80a7366 button.colab-df-convert');\n",
              "        buttonEl.style.display =\n",
              "          google.colab.kernel.accessAllowed ? 'block' : 'none';\n",
              "\n",
              "        async function convertToInteractive(key) {\n",
              "          const element = document.querySelector('#df-4eedd1bf-6518-4de5-8143-44c3b80a7366');\n",
              "          const dataTable =\n",
              "            await google.colab.kernel.invokeFunction('convertToInteractive',\n",
              "                                                     [key], {});\n",
              "          if (!dataTable) return;\n",
              "\n",
              "          const docLinkHtml = 'Like what you see? Visit the ' +\n",
              "            '<a target=\"_blank\" href=https://colab.research.google.com/notebooks/data_table.ipynb>data table notebook</a>'\n",
              "            + ' to learn more about interactive tables.';\n",
              "          element.innerHTML = '';\n",
              "          dataTable['output_type'] = 'display_data';\n",
              "          await google.colab.output.renderOutput(dataTable, element);\n",
              "          const docLink = document.createElement('div');\n",
              "          docLink.innerHTML = docLinkHtml;\n",
              "          element.appendChild(docLink);\n",
              "        }\n",
              "      </script>\n",
              "    </div>\n",
              "  </div>\n",
              "  "
            ]
          },
          "metadata": {},
          "execution_count": 38
        }
      ]
    },
    {
      "cell_type": "code",
      "source": [
        "def qbus_likeli_ratio_test_bgm(results_complex, results_reference, signif_level):\n",
        "  return tools.likelihood_ratio_test( (results_complex.data.logLike, results_complex.data.nparam),\n",
        "                                     (results_reference.data.logLike, results_reference.data.nparam), signif_level)"
      ],
      "metadata": {
        "id": "-ioBStx05lze"
      },
      "execution_count": 39,
      "outputs": []
    },
    {
      "cell_type": "code",
      "source": [
        "results.getGeneralStatistics()    "
      ],
      "metadata": {
        "id": "lp8M_x3j-5S3",
        "outputId": "d15680e9-23e7-4c04-8bad-cf4d83b66a53",
        "colab": {
          "base_uri": "https://localhost:8080/"
        }
      },
      "execution_count": 40,
      "outputs": [
        {
          "output_type": "execute_result",
          "data": {
            "text/plain": [
              "{'Number of estimated parameters': GeneralStatistic(value=7, format=''),\n",
              " 'Sample size': GeneralStatistic(value=2798, format=''),\n",
              " 'Excluded observations': GeneralStatistic(value=0, format=''),\n",
              " 'Init log likelihood': GeneralStatistic(value=-6018.19697891139, format='.7g'),\n",
              " 'Final log likelihood': GeneralStatistic(value=-2517.6554602899787, format='.7g'),\n",
              " 'Likelihood ratio test for the init. model': GeneralStatistic(value=7001.083037242823, format='.7g'),\n",
              " 'Rho-square for the init. model': GeneralStatistic(value=0.5816595121242794, format='.3g'),\n",
              " 'Rho-square-bar for the init. model': GeneralStatistic(value=0.5804963730604487, format='.3g'),\n",
              " 'Akaike Information Criterion': GeneralStatistic(value=5049.310920579957, format='.7g'),\n",
              " 'Bayesian Information Criterion': GeneralStatistic(value=5090.8675416665355, format='.7g'),\n",
              " 'Final gradient norm': GeneralStatistic(value=0.014646393343248675, format='.4E'),\n",
              " 'Number of draws': GeneralStatistic(value=100, format=''),\n",
              " 'Draws generation time': GeneralStatistic(value=datetime.timedelta(microseconds=443778), format=''),\n",
              " 'Types of draws': GeneralStatistic(value=['EC_price: NORMAL'], format=''),\n",
              " 'Nbr of threads': GeneralStatistic(value=2, format='')}"
            ]
          },
          "metadata": {},
          "execution_count": 40
        }
      ]
    },
    {
      "cell_type": "code",
      "source": [
        "results_fixed.getGeneralStatistics()  "
      ],
      "metadata": {
        "id": "cJSNztR9_EbY",
        "outputId": "97c43ac2-598e-4033-ab05-40990af9ff21",
        "colab": {
          "base_uri": "https://localhost:8080/"
        }
      },
      "execution_count": 41,
      "outputs": [
        {
          "output_type": "execute_result",
          "data": {
            "text/plain": [
              "{'Number of estimated parameters': GeneralStatistic(value=6, format=''),\n",
              " 'Sample size': GeneralStatistic(value=2798, format=''),\n",
              " 'Excluded observations': GeneralStatistic(value=0, format=''),\n",
              " 'Init log likelihood': GeneralStatistic(value=-3093.6519669271274, format='.7g'),\n",
              " 'Final log likelihood': GeneralStatistic(value=-2517.877249720801, format='.7g'),\n",
              " 'Likelihood ratio test for the init. model': GeneralStatistic(value=1151.5494344126528, format='.7g'),\n",
              " 'Rho-square for the init. model': GeneralStatistic(value=0.18611489700899797, format='.3g'),\n",
              " 'Rho-square-bar for the init. model': GeneralStatistic(value=0.18417544161319288, format='.3g'),\n",
              " 'Akaike Information Criterion': GeneralStatistic(value=5047.754499441602, format='.7g'),\n",
              " 'Bayesian Information Criterion': GeneralStatistic(value=5083.374460372955, format='.7g'),\n",
              " 'Final gradient norm': GeneralStatistic(value=0.0074695674779374395, format='.4E'),\n",
              " 'Nbr of threads': GeneralStatistic(value=2, format='')}"
            ]
          },
          "metadata": {},
          "execution_count": 41
        }
      ]
    },
    {
      "cell_type": "code",
      "source": [
        "qbus_likeli_ratio_test_bgm(results, results_fixed, 0.05)"
      ],
      "metadata": {
        "id": "0-YkIQGO5yc3",
        "outputId": "546516a2-057e-4653-ac7f-72b1cb4f3836",
        "colab": {
          "base_uri": "https://localhost:8080/"
        }
      },
      "execution_count": 42,
      "outputs": [
        {
          "output_type": "execute_result",
          "data": {
            "text/plain": [
              "LRTuple(message='H0 cannot be rejected at level 5.0%', statistic=0.44357886164470983, threshold=3.841458820694124)"
            ]
          },
          "metadata": {},
          "execution_count": 42
        }
      ]
    },
    {
      "cell_type": "markdown",
      "source": [],
      "metadata": {
        "id": "AgICvILo-37W"
      }
    },
    {
      "cell_type": "markdown",
      "source": [
        "# Panel data: Advanced stuff (not implemented)\n",
        "\n",
        "We have seen that we can specify which variable has the 'panel' or 'grouping' information, for example, we can use the `id` variable to "
      ],
      "metadata": {
        "id": "-3Mimoe_3PYq"
      }
    },
    {
      "cell_type": "markdown",
      "source": [
        "#Exercise: What is the proportion of households that react negatively to diplaying the catsup product?"
      ],
      "metadata": {
        "id": "17Q5ma7W5T4n"
      }
    }
  ]
}