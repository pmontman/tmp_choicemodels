{
  "nbformat": 4,
  "nbformat_minor": 0,
  "metadata": {
    "colab": {
      "name": "solu_tuto_04_multinomial",
      "provenance": [],
      "collapsed_sections": [],
      "authorship_tag": "ABX9TyOLvg/ipaNZ5fUUUSlFJK+r",
      "include_colab_link": true
    },
    "kernelspec": {
      "name": "python3",
      "display_name": "Python 3"
    },
    "language_info": {
      "name": "python"
    }
  },
  "cells": [
    {
      "cell_type": "markdown",
      "metadata": {
        "id": "view-in-github",
        "colab_type": "text"
      },
      "source": [
        "<a href=\"https://colab.research.google.com/github/pmontman/tmp_choicemodels/blob/main/nb/tutorial/solution/WK_04_sol_mnl.ipynb\" target=\"_parent\"><img src=\"https://colab.research.google.com/assets/colab-badge.svg\" alt=\"Open In Colab\"/></a>"
      ]
    },
    {
      "cell_type": "markdown",
      "metadata": {
        "id": "zuJImh8WqX_m"
      },
      "source": [
        "# Tutorial 4: Multinomial logit using the python biogeme package"
      ]
    },
    {
      "cell_type": "markdown",
      "metadata": {
        "id": "tzgJbWL2qlAP"
      },
      "source": [
        "\"*Biogeme is a open source Python package designed for the maximum likelihood estimation of parametric models in general, with a special emphasis on discrete choice models.*\""
      ]
    },
    {
      "cell_type": "markdown",
      "metadata": {
        "id": "vb9SIunnASNB"
      },
      "source": [
        "# Preparing the environment"
      ]
    },
    {
      "cell_type": "markdown",
      "metadata": {
        "id": "rlvYdSNvrRfV"
      },
      "source": [
        "Google colab environment does not have biogeme installed by default,\n",
        "so we need to install in every session. Hopefully, it will take less than one minute. Once installed it will be valid until the session expires (or we reset it)."
      ]
    },
    {
      "cell_type": "code",
      "metadata": {
        "colab": {
          "base_uri": "https://localhost:8080/"
        },
        "id": "j5zHGhgErHPd",
        "outputId": "78b62881-720b-4885-9ddd-dfc8f894af51"
      },
      "source": [
        "!pip install biogeme"
      ],
      "execution_count": 2,
      "outputs": [
        {
          "output_type": "stream",
          "name": "stdout",
          "text": [
            "Collecting biogeme\n",
            "  Downloading biogeme-3.2.8.tar.gz (1.5 MB)\n",
            "\u001b[K     |████████████████████████████████| 1.5 MB 5.2 MB/s \n",
            "\u001b[?25hRequirement already satisfied: numpy in /usr/local/lib/python3.7/dist-packages (from biogeme) (1.19.5)\n",
            "Requirement already satisfied: cython in /usr/local/lib/python3.7/dist-packages (from biogeme) (0.29.24)\n",
            "Collecting unidecode\n",
            "  Downloading Unidecode-1.2.0-py2.py3-none-any.whl (241 kB)\n",
            "\u001b[K     |████████████████████████████████| 241 kB 46.3 MB/s \n",
            "\u001b[?25hRequirement already satisfied: scipy in /usr/local/lib/python3.7/dist-packages (from biogeme) (1.4.1)\n",
            "Requirement already satisfied: pandas in /usr/local/lib/python3.7/dist-packages (from biogeme) (1.1.5)\n",
            "Requirement already satisfied: tqdm in /usr/local/lib/python3.7/dist-packages (from biogeme) (4.62.0)\n",
            "Requirement already satisfied: python-dateutil>=2.7.3 in /usr/local/lib/python3.7/dist-packages (from pandas->biogeme) (2.8.2)\n",
            "Requirement already satisfied: pytz>=2017.2 in /usr/local/lib/python3.7/dist-packages (from pandas->biogeme) (2018.9)\n",
            "Requirement already satisfied: six>=1.5 in /usr/local/lib/python3.7/dist-packages (from python-dateutil>=2.7.3->pandas->biogeme) (1.15.0)\n",
            "Building wheels for collected packages: biogeme\n",
            "  Building wheel for biogeme (setup.py) ... \u001b[?25l\u001b[?25hdone\n",
            "  Created wheel for biogeme: filename=biogeme-3.2.8-cp37-cp37m-linux_x86_64.whl size=4030466 sha256=bb6ad22eeb4ae47c7acfca0ffff2b38298fce035674ce93eb8f599fc0abf8d7f\n",
            "  Stored in directory: /root/.cache/pip/wheels/d4/52/61/de6c73d2bc17603c60e754e260bccb7d4da2503e97015ebd49\n",
            "Successfully built biogeme\n",
            "Installing collected packages: unidecode, biogeme\n",
            "Successfully installed biogeme-3.2.8 unidecode-1.2.0\n"
          ]
        }
      ]
    },
    {
      "cell_type": "markdown",
      "metadata": {
        "id": "1z0X9xZ8rChf"
      },
      "source": [
        "First load the packages typical packages, biogeme and the common one for python data analysis."
      ]
    },
    {
      "cell_type": "code",
      "metadata": {
        "id": "apVB-TMkrFnb"
      },
      "source": [
        "import pandas  as pd\n",
        "import numpy as np\n",
        "import seaborn as sns\n",
        "import matplotlib.pyplot as plt\n",
        "\n",
        "import biogeme.database as db\n",
        "import biogeme.biogeme as bio\n",
        "import biogeme.models as models\n",
        "import biogeme.expressions as exp\n"
      ],
      "execution_count": 3,
      "outputs": []
    },
    {
      "cell_type": "markdown",
      "metadata": {
        "id": "Mgv0hV1YAieW"
      },
      "source": [
        "# The dataset\n",
        "\n",
        "We will use the example from the biogeme package, Swissmetro dataset:\n",
        "\n",
        "\"*This dataset consists of survey data collected on the trains between St. Gallen and Geneva, Switzerland, during March 1998. The respondents provided information in order to analyze the impact of\n",
        "the modal innovation in transportation (a new mode of transport), represented by the Swissmetro, a revolutionary mag-lev underground system, against the usual transport modes represented by car and train.*\""
      ]
    },
    {
      "cell_type": "markdown",
      "metadata": {
        "id": "_Zq_3AwIr7u8"
      },
      "source": [
        "#Loading the dataset\n",
        "\n",
        "Biogeme can interact with the popular pandas package, so we can load the dataset in pandas first and then pass it to biogeme.\n",
        "\n",
        "This specific dataset uses the format 'tab separated values' instead of the more common 'comma separated values'. We can specify this non-standard separator by the argument `sep` in `pandas.read_csv`.\n",
        "\n"
      ]
    },
    {
      "cell_type": "code",
      "metadata": {
        "id": "g1Ykn5Ytr7Rs"
      },
      "source": [
        "swissmetro = pd.read_csv('http://transp-or.epfl.ch/data/swissmetro.dat', sep='\\t')"
      ],
      "execution_count": 4,
      "outputs": []
    },
    {
      "cell_type": "markdown",
      "metadata": {
        "id": "ZY55r3Gesb3t"
      },
      "source": [
        "We will take a look at it, using the head() method of to display the first few rows.\n",
        "\n",
        "There is a detailed description of the dataset \n",
        "variables [here](http://transp-or.epfl.ch/documents/technicalReports/CS_SwissmetroDescription.pdf). **You will need to take a look at them later\n",
        "to understand the data and create your own models.**"
      ]
    },
    {
      "cell_type": "code",
      "metadata": {
        "colab": {
          "base_uri": "https://localhost:8080/",
          "height": 223
        },
        "id": "ldkmnMhssemT",
        "outputId": "ffb2df0b-0e50-4980-d8ef-f750219d3a7c"
      },
      "source": [
        "swissmetro.head(5)"
      ],
      "execution_count": 5,
      "outputs": [
        {
          "output_type": "execute_result",
          "data": {
            "text/html": [
              "<div>\n",
              "<style scoped>\n",
              "    .dataframe tbody tr th:only-of-type {\n",
              "        vertical-align: middle;\n",
              "    }\n",
              "\n",
              "    .dataframe tbody tr th {\n",
              "        vertical-align: top;\n",
              "    }\n",
              "\n",
              "    .dataframe thead th {\n",
              "        text-align: right;\n",
              "    }\n",
              "</style>\n",
              "<table border=\"1\" class=\"dataframe\">\n",
              "  <thead>\n",
              "    <tr style=\"text-align: right;\">\n",
              "      <th></th>\n",
              "      <th>GROUP</th>\n",
              "      <th>SURVEY</th>\n",
              "      <th>SP</th>\n",
              "      <th>ID</th>\n",
              "      <th>PURPOSE</th>\n",
              "      <th>FIRST</th>\n",
              "      <th>TICKET</th>\n",
              "      <th>WHO</th>\n",
              "      <th>LUGGAGE</th>\n",
              "      <th>AGE</th>\n",
              "      <th>MALE</th>\n",
              "      <th>INCOME</th>\n",
              "      <th>GA</th>\n",
              "      <th>ORIGIN</th>\n",
              "      <th>DEST</th>\n",
              "      <th>TRAIN_AV</th>\n",
              "      <th>CAR_AV</th>\n",
              "      <th>SM_AV</th>\n",
              "      <th>TRAIN_TT</th>\n",
              "      <th>TRAIN_CO</th>\n",
              "      <th>TRAIN_HE</th>\n",
              "      <th>SM_TT</th>\n",
              "      <th>SM_CO</th>\n",
              "      <th>SM_HE</th>\n",
              "      <th>SM_SEATS</th>\n",
              "      <th>CAR_TT</th>\n",
              "      <th>CAR_CO</th>\n",
              "      <th>CHOICE</th>\n",
              "    </tr>\n",
              "  </thead>\n",
              "  <tbody>\n",
              "    <tr>\n",
              "      <th>0</th>\n",
              "      <td>2</td>\n",
              "      <td>0</td>\n",
              "      <td>1</td>\n",
              "      <td>1</td>\n",
              "      <td>1</td>\n",
              "      <td>0</td>\n",
              "      <td>1</td>\n",
              "      <td>1</td>\n",
              "      <td>0</td>\n",
              "      <td>3</td>\n",
              "      <td>0</td>\n",
              "      <td>2</td>\n",
              "      <td>0</td>\n",
              "      <td>2</td>\n",
              "      <td>1</td>\n",
              "      <td>1</td>\n",
              "      <td>1</td>\n",
              "      <td>1</td>\n",
              "      <td>112</td>\n",
              "      <td>48</td>\n",
              "      <td>120</td>\n",
              "      <td>63</td>\n",
              "      <td>52</td>\n",
              "      <td>20</td>\n",
              "      <td>0</td>\n",
              "      <td>117</td>\n",
              "      <td>65</td>\n",
              "      <td>2</td>\n",
              "    </tr>\n",
              "    <tr>\n",
              "      <th>1</th>\n",
              "      <td>2</td>\n",
              "      <td>0</td>\n",
              "      <td>1</td>\n",
              "      <td>1</td>\n",
              "      <td>1</td>\n",
              "      <td>0</td>\n",
              "      <td>1</td>\n",
              "      <td>1</td>\n",
              "      <td>0</td>\n",
              "      <td>3</td>\n",
              "      <td>0</td>\n",
              "      <td>2</td>\n",
              "      <td>0</td>\n",
              "      <td>2</td>\n",
              "      <td>1</td>\n",
              "      <td>1</td>\n",
              "      <td>1</td>\n",
              "      <td>1</td>\n",
              "      <td>103</td>\n",
              "      <td>48</td>\n",
              "      <td>30</td>\n",
              "      <td>60</td>\n",
              "      <td>49</td>\n",
              "      <td>10</td>\n",
              "      <td>0</td>\n",
              "      <td>117</td>\n",
              "      <td>84</td>\n",
              "      <td>2</td>\n",
              "    </tr>\n",
              "    <tr>\n",
              "      <th>2</th>\n",
              "      <td>2</td>\n",
              "      <td>0</td>\n",
              "      <td>1</td>\n",
              "      <td>1</td>\n",
              "      <td>1</td>\n",
              "      <td>0</td>\n",
              "      <td>1</td>\n",
              "      <td>1</td>\n",
              "      <td>0</td>\n",
              "      <td>3</td>\n",
              "      <td>0</td>\n",
              "      <td>2</td>\n",
              "      <td>0</td>\n",
              "      <td>2</td>\n",
              "      <td>1</td>\n",
              "      <td>1</td>\n",
              "      <td>1</td>\n",
              "      <td>1</td>\n",
              "      <td>130</td>\n",
              "      <td>48</td>\n",
              "      <td>60</td>\n",
              "      <td>67</td>\n",
              "      <td>58</td>\n",
              "      <td>30</td>\n",
              "      <td>0</td>\n",
              "      <td>117</td>\n",
              "      <td>52</td>\n",
              "      <td>2</td>\n",
              "    </tr>\n",
              "    <tr>\n",
              "      <th>3</th>\n",
              "      <td>2</td>\n",
              "      <td>0</td>\n",
              "      <td>1</td>\n",
              "      <td>1</td>\n",
              "      <td>1</td>\n",
              "      <td>0</td>\n",
              "      <td>1</td>\n",
              "      <td>1</td>\n",
              "      <td>0</td>\n",
              "      <td>3</td>\n",
              "      <td>0</td>\n",
              "      <td>2</td>\n",
              "      <td>0</td>\n",
              "      <td>2</td>\n",
              "      <td>1</td>\n",
              "      <td>1</td>\n",
              "      <td>1</td>\n",
              "      <td>1</td>\n",
              "      <td>103</td>\n",
              "      <td>40</td>\n",
              "      <td>30</td>\n",
              "      <td>63</td>\n",
              "      <td>52</td>\n",
              "      <td>20</td>\n",
              "      <td>0</td>\n",
              "      <td>72</td>\n",
              "      <td>52</td>\n",
              "      <td>2</td>\n",
              "    </tr>\n",
              "    <tr>\n",
              "      <th>4</th>\n",
              "      <td>2</td>\n",
              "      <td>0</td>\n",
              "      <td>1</td>\n",
              "      <td>1</td>\n",
              "      <td>1</td>\n",
              "      <td>0</td>\n",
              "      <td>1</td>\n",
              "      <td>1</td>\n",
              "      <td>0</td>\n",
              "      <td>3</td>\n",
              "      <td>0</td>\n",
              "      <td>2</td>\n",
              "      <td>0</td>\n",
              "      <td>2</td>\n",
              "      <td>1</td>\n",
              "      <td>1</td>\n",
              "      <td>1</td>\n",
              "      <td>1</td>\n",
              "      <td>130</td>\n",
              "      <td>36</td>\n",
              "      <td>60</td>\n",
              "      <td>63</td>\n",
              "      <td>42</td>\n",
              "      <td>20</td>\n",
              "      <td>0</td>\n",
              "      <td>90</td>\n",
              "      <td>84</td>\n",
              "      <td>2</td>\n",
              "    </tr>\n",
              "  </tbody>\n",
              "</table>\n",
              "</div>"
            ],
            "text/plain": [
              "   GROUP  SURVEY  SP  ID  PURPOSE  ...  SM_HE  SM_SEATS  CAR_TT  CAR_CO  CHOICE\n",
              "0      2       0   1   1        1  ...     20         0     117      65       2\n",
              "1      2       0   1   1        1  ...     10         0     117      84       2\n",
              "2      2       0   1   1        1  ...     30         0     117      52       2\n",
              "3      2       0   1   1        1  ...     20         0      72      52       2\n",
              "4      2       0   1   1        1  ...     20         0      90      84       2\n",
              "\n",
              "[5 rows x 28 columns]"
            ]
          },
          "metadata": {},
          "execution_count": 5
        }
      ]
    },
    {
      "cell_type": "markdown",
      "metadata": {
        "id": "K3-FzZrJuma4"
      },
      "source": [
        "We see some socioeconomic characteristics such as 'AGE', likely encoding by age groups, 'MALE' which we can assume refers to gender. There are also some attributes of the alternatives, such as 'CAR_TT' which would be travel time in car, 'TRAIN_CO' which refers to the cost of the fare by train.\n",
        "\n",
        "An important variable is 'CHOICE' it is the result of the choice for each individual, coded as 1 for train, 2 for swissmetro, 3 for car. The value 0 indicates invalid response."
      ]
    },
    {
      "cell_type": "markdown",
      "metadata": {
        "id": "o3BZ4otYvdYM"
      },
      "source": [
        "# Passing the dataset to biogeme\n",
        "\n",
        "For now, we have loaded the dataset into a pandas dataframe, we need to transform it into a Biogeme database, the format that biogeme understands.\n",
        "We pass first argument the name of the database that we want to give and second the pandas dataframe."
      ]
    },
    {
      "cell_type": "code",
      "metadata": {
        "id": "JAuXh-SfvcwT"
      },
      "source": [
        "bgm_swissmetro = db.Database('swissmetro', swissmetro)"
      ],
      "execution_count": 6,
      "outputs": []
    },
    {
      "cell_type": "markdown",
      "metadata": {
        "id": "LOO_ErPbw0go"
      },
      "source": [
        "We can access the dictionary of variables in the biogeme database the following way:"
      ]
    },
    {
      "cell_type": "code",
      "metadata": {
        "colab": {
          "base_uri": "https://localhost:8080/"
        },
        "id": "6Bt1iHz9xUHm",
        "outputId": "46aeb230-21a7-420b-a5c6-55203c8c8636"
      },
      "source": [
        "bgm_swissmetro.variables['CHOICE']"
      ],
      "execution_count": 7,
      "outputs": [
        {
          "output_type": "execute_result",
          "data": {
            "text/plain": [
              "CHOICE"
            ]
          },
          "metadata": {},
          "execution_count": 7
        }
      ]
    },
    {
      "cell_type": "markdown",
      "metadata": {
        "id": "qmw2wtC2yHFZ"
      },
      "source": [
        "Because this is too verbose, we can load them into the global variables\n",
        "of the python environment, to make the symbolic manipulation less verbose, so we can refer to them just by writing `VARIABLE_NAME` instead of having to write `database.variables['VARIABLE_NAME']`."
      ]
    },
    {
      "cell_type": "code",
      "metadata": {
        "colab": {
          "base_uri": "https://localhost:8080/"
        },
        "id": "q3VDQa8Xwln5",
        "outputId": "c33c5604-0970-4c97-a87b-8953c763620d"
      },
      "source": [
        "globals().update(bgm_swissmetro.variables)\n",
        "CHOICE"
      ],
      "execution_count": 8,
      "outputs": [
        {
          "output_type": "execute_result",
          "data": {
            "text/plain": [
              "CHOICE"
            ]
          },
          "metadata": {},
          "execution_count": 8
        }
      ]
    },
    {
      "cell_type": "markdown",
      "metadata": {
        "id": "G-WceQeczaS4"
      },
      "source": [
        "Before we begin, we will need to clean the dataset a bit. In this case,\n",
        "we have people that did not respond to the survey, and their value assigned\n",
        "to the choice is 0. The only valid values for the choice are 1,2,3 indicating\n",
        "the alternatives, train, swissmetro and car.\n",
        "We can remove them from the biogeme database using the `remove` method with the logical indicator for the row that have choice 0.\n",
        "\n",
        "**It is recommended that all database manipulations/cleaning are applied directly on the pandas dataframe before passing it to biogeme.** The reason being that pandas is better designed for that purpose and makes the code more readable. Ideally we would like out interactions with biogeme to be minimized and do as much as possible with the standard frameworks such as pandas.  "
      ]
    },
    {
      "cell_type": "code",
      "metadata": {
        "id": "xV8HYAgdREiN"
      },
      "source": [
        "bgm_swissmetro.remove( (CHOICE == 0) )"
      ],
      "execution_count": 9,
      "outputs": []
    },
    {
      "cell_type": "markdown",
      "metadata": {
        "id": "KqiArlqd0qFR"
      },
      "source": [
        "# Creating the model\n",
        "\n",
        "What we usually need to define in the multinomial logit can be summarized as:\n",
        " * Which variables in the database are we going to include in the model linear model.\n",
        " * What is the variable in the database that specifies the choice made, the alternative selected by an individual. The 'target variable' or dependent variable.\n",
        " * What variables are used in the modelling of each alternative. Remember that we can define a utility function for each alternative, so we can have alternatives that depend of some variables, and we can also have some variables that are estimated for all alternatives.\n",
        "\n",
        "We can connect this back to the utily theory view, we want to specify the functions that produce the observed component of the utility, the $V_{nj}$\n",
        "\n",
        "For each alternative $j$ and observation $n$, we consider the vector $x_{nj}$\n",
        "to be the joint vector of for both attributes and characteristics (to simplify things).  We try to find the vector of coefficients $\\beta_j$ for each alternative. In other words, we try to find the linear relationship between the variables and utility for each alternative:\n",
        "  $$V_{nj} = \\beta_j x_n$$ \n",
        "\n",
        "* Consider that some attributes or characteristics are not relevant for some alternatives: This would be equivanlent to fixing some of the values for $\\beta_j$ to 0 and not fitting them to data.\n",
        "* Consider that some attributes or characteristics 'share' the value of the coefficient.\n"
      ]
    },
    {
      "cell_type": "markdown",
      "metadata": {
        "id": "0De-iYpQbw67"
      },
      "source": [
        "\n",
        "# The alternative specific constants:\n",
        "Just as in linear models we have the intercept, in choice models we have alternative specific constants. An important difference is that we cannot determine their value, because we have seen in the previous tutorial that the absolute level of utilities cannot be recovered. In practice, what we will do is assume that the attribute specific characteristic of one of the alternatives is set to 0 and we do not fit them to the data. This will set a reference point.\n",
        "Again, which alternative we use as reference and what value for the ASC is arbitrary.\n"
      ]
    },
    {
      "cell_type": "markdown",
      "metadata": {
        "id": "PIouJf_BRyUu"
      },
      "source": [
        "# Definition of the model in biogeme\n",
        "We define the parameters of the model through the function `exp.Beta`.\n",
        "The function `exp.Beta` takes 5 arguments:\n",
        "1. the name of the parameter.\n",
        "2. the default value. We can use 0 for the default values unless we know a better starting value, for example when we have prior information.\n",
        "3. The lower bound, if we want to restrict it to a range, `None` if we do not want to restrict the value of the parameter. For example, sometimes we might know or would like to for a parameter to be positive.\n",
        "4. The upper bound, if we want to restrict it to a range, `None` if we do not want to restrict the value of the parameter.\n",
        "5. A 0/1 argument, 0 if the parameter must be estimated and 1 if it remains fixed.\n",
        "\n",
        "We will define a simple model with just the three ASCs and two parameters for two variables of interest, time and cost.\n",
        "Note that one of the ASCs, `ASC_SM` is set to not be estimated, notice the 1 in the value of the last argument when it is created. This comes from the explanation above, we set one of the ASCs arbitrarily to 0 because we utility cannot be recovered up to changes in constants, so we will pick among the many possible solutions the one that makes the ASC for the SwissMetro alternative 0.\n"
      ]
    },
    {
      "cell_type": "code",
      "metadata": {
        "id": "zOpyvTcbRPy4"
      },
      "source": [
        "ASC_CAR = exp.Beta ( 'ASC_CAR' ,0, None , None ,0)\n",
        "ASC_TRAIN = exp.Beta ( 'ASC_TRAIN' ,0, None , None ,0)\n",
        "ASC_SM = exp.Beta ( 'ASC_SM' ,0, None , None ,1)\n",
        "B_TIME = exp.Beta ( 'B_TIME' ,0, None , None ,0)\n",
        "B_COST = exp.Beta ( 'B_COST' ,0, None , None ,0)"
      ],
      "execution_count": 10,
      "outputs": []
    },
    {
      "cell_type": "markdown",
      "metadata": {
        "id": "t3REqjxrj2x1"
      },
      "source": [
        "We will create an artificial variable, ussing the luggage variable but squared.\n",
        "This variable will only be included as a parameter for the utility of the car alternative. This is a totally arbitrary variable for the purposes of exposition, it does not mean that it is a good one."
      ]
    },
    {
      "cell_type": "code",
      "metadata": {
        "id": "wwISbL_Gi-A_"
      },
      "source": [
        "B_LUGGA_SQ = exp.Beta( 'B_LUGGA_SQ', 0, None, None, 0)\n",
        "LUGGA_SQ = LUGGAGE**2"
      ],
      "execution_count": 11,
      "outputs": []
    },
    {
      "cell_type": "markdown",
      "metadata": {
        "id": "YT3brmCSUaLB"
      },
      "source": [
        "A warning from the creator of the biogeme package:\n",
        "when we define the parameters of our model, we store them into python variables.\n",
        "The authr strongly recomments using the same name for the python variable\n",
        "than for the parameter.\n",
        "For example, while we could have define the variable following the code in the next cell, it is not recommended. I imagine that this could cause some confusion later on.\n",
        "\n"
      ]
    },
    {
      "cell_type": "code",
      "metadata": {
        "id": "J6jlUKDRUfjx"
      },
      "source": [
        "#doing this is not recommended!\n",
        "car_cte = exp.Beta( 'ASC_CAR' ,0, None , None ,0)"
      ],
      "execution_count": 12,
      "outputs": []
    },
    {
      "cell_type": "markdown",
      "metadata": {
        "id": "4ECerH2CWOBV"
      },
      "source": [
        "We now define the utility functions for each alternative, more speficifically the linear relationship between the variables and the observed component of the utility."
      ]
    },
    {
      "cell_type": "code",
      "metadata": {
        "id": "VZ7iyvO4WEtz"
      },
      "source": [
        "V1 = ASC_TRAIN + B_TIME * TRAIN_TT + B_COST * TRAIN_CO \n",
        "\n",
        "V2 = ASC_SM + B_TIME * SM_TT + B_COST * SM_CO \n",
        "\n",
        "V3 = ASC_CAR + B_TIME * CAR_TT + B_COST * CAR_CO + B_LUGGA_SQ*LUGGA_SQ\n"
      ],
      "execution_count": 13,
      "outputs": []
    },
    {
      "cell_type": "markdown",
      "metadata": {
        "id": "DEC2xflnWfHr"
      },
      "source": [
        "We have to create a dictionary that maps the utility functions to the numbers that identify the alternatives in the database.\n",
        "In this case 1 for Train, 2 for Swissmetro, 3 for car."
      ]
    },
    {
      "cell_type": "code",
      "metadata": {
        "id": "B8hQMvaFWekd"
      },
      "source": [
        "V = {1: V1 ,\n",
        "2: V2 ,\n",
        "3: V3 }"
      ],
      "execution_count": 14,
      "outputs": []
    },
    {
      "cell_type": "markdown",
      "metadata": {
        "id": "Bs6NR7URW4_w"
      },
      "source": [
        "We have to pass availabilities, these are the indicator variables signaling if the option is available for that individual. Remember that the multinomial does not need to have all alternatives present for all individuals, it can recover the model from data even if the full choice set is not available for all individuals."
      ]
    },
    {
      "cell_type": "code",
      "metadata": {
        "id": "7cFRkLSQW5bZ"
      },
      "source": [
        "\n",
        "\n",
        "av = {1: TRAIN_AV,\n",
        "2: SM_AV,\n",
        "3: CAR_AV }"
      ],
      "execution_count": 15,
      "outputs": []
    },
    {
      "cell_type": "markdown",
      "metadata": {
        "id": "Ibxs6VjNDDo6"
      },
      "source": [
        "This is the definition of the model, in this case the multinomial logit (we will use other models later)."
      ]
    },
    {
      "cell_type": "code",
      "metadata": {
        "id": "FFPU3K7EXlZm"
      },
      "source": [
        "logprob = models.loglogit (V , av , CHOICE )"
      ],
      "execution_count": 16,
      "outputs": []
    },
    {
      "cell_type": "markdown",
      "metadata": {
        "id": "G6TgmVHtdT9G"
      },
      "source": [
        "And finally we pack everything together in the biogeme object."
      ]
    },
    {
      "cell_type": "code",
      "metadata": {
        "id": "4Qw4I1HdXgvb"
      },
      "source": [
        "bgm_model = bio.BIOGEME ( bgm_swissmetro, logprob )"
      ],
      "execution_count": 17,
      "outputs": []
    },
    {
      "cell_type": "markdown",
      "metadata": {
        "id": "ez0sa4fAcT9b"
      },
      "source": [
        "We can give a name to the model, this can help identifying the model when we come back to it later, for example when we save it to a file and want to use it in another report."
      ]
    },
    {
      "cell_type": "code",
      "metadata": {
        "id": "zn-2Fy3JX2Gi"
      },
      "source": [
        "bgm_model.modelName = 'my first multinomial logit'"
      ],
      "execution_count": 18,
      "outputs": []
    },
    {
      "cell_type": "markdown",
      "metadata": {
        "id": "86bZksOJb70Y"
      },
      "source": [
        "# Estimation of the model\n",
        "\n",
        "Everythin is set, biogeme will kindly do maximum likelihood estimation for us."
      ]
    },
    {
      "cell_type": "code",
      "metadata": {
        "id": "XqRyOneGYG2t"
      },
      "source": [
        "results = bgm_model.estimate()"
      ],
      "execution_count": 19,
      "outputs": []
    },
    {
      "cell_type": "markdown",
      "metadata": {
        "id": "d4RInW7rcC3r"
      },
      "source": [
        "# Results of the model\n",
        "\n",
        "We can check a basic summary of the estimated model, likelihoods, information\n",
        "criterions, etc."
      ]
    },
    {
      "cell_type": "code",
      "metadata": {
        "colab": {
          "base_uri": "https://localhost:8080/"
        },
        "id": "oMV3mFzuYJKB",
        "outputId": "9b199c2d-d153-42ae-c1ec-27fbad339018"
      },
      "source": [
        "results.getGeneralStatistics()"
      ],
      "execution_count": 20,
      "outputs": [
        {
          "output_type": "execute_result",
          "data": {
            "text/plain": [
              "{'Akaike Information Criterion': (17812.074024739646, '.7g'),\n",
              " 'Bayesian Information Criterion': (17848.472890473106, '.7g'),\n",
              " 'Excluded observations': (9, ''),\n",
              " 'Final gradient norm': (0.06477755392923387, '.4E'),\n",
              " 'Final log likelihood': (-8901.037012369823, '.7g'),\n",
              " 'Init log likelihood': (-11093.627345286657, '.7g'),\n",
              " 'Likelihood ratio test for the init. model': (4385.180665833668, '.7g'),\n",
              " 'Nbr of threads': (2, ''),\n",
              " 'Number of estimated parameters': (5, ''),\n",
              " 'Rho-square for the init. model': (0.19764413069530395, '.3g'),\n",
              " 'Rho-square-bar for the init. model': (0.19719342148682095, '.3g'),\n",
              " 'Sample size': (10719, '')}"
            ]
          },
          "metadata": {},
          "execution_count": 20
        }
      ]
    },
    {
      "cell_type": "markdown",
      "metadata": {
        "id": "2IJGgJ59iHHB"
      },
      "source": [
        "The value of the parameters and the p-values for their statistical significance.\n",
        "Note that ASC_SM is not shown, it was fixed to 0 by us."
      ]
    },
    {
      "cell_type": "code",
      "metadata": {
        "colab": {
          "base_uri": "https://localhost:8080/",
          "height": 203
        },
        "id": "6wTlZ6NuYXAf",
        "outputId": "b0cc91cc-13b6-4d66-e015-c18c82b5a2c5"
      },
      "source": [
        "results.getEstimatedParameters()"
      ],
      "execution_count": 21,
      "outputs": [
        {
          "output_type": "execute_result",
          "data": {
            "text/html": [
              "<div>\n",
              "<style scoped>\n",
              "    .dataframe tbody tr th:only-of-type {\n",
              "        vertical-align: middle;\n",
              "    }\n",
              "\n",
              "    .dataframe tbody tr th {\n",
              "        vertical-align: top;\n",
              "    }\n",
              "\n",
              "    .dataframe thead th {\n",
              "        text-align: right;\n",
              "    }\n",
              "</style>\n",
              "<table border=\"1\" class=\"dataframe\">\n",
              "  <thead>\n",
              "    <tr style=\"text-align: right;\">\n",
              "      <th></th>\n",
              "      <th>Value</th>\n",
              "      <th>Std err</th>\n",
              "      <th>t-test</th>\n",
              "      <th>p-value</th>\n",
              "      <th>Rob. Std err</th>\n",
              "      <th>Rob. t-test</th>\n",
              "      <th>Rob. p-value</th>\n",
              "    </tr>\n",
              "  </thead>\n",
              "  <tbody>\n",
              "    <tr>\n",
              "      <th>ASC_CAR</th>\n",
              "      <td>0.288084</td>\n",
              "      <td>0.035179</td>\n",
              "      <td>8.189052</td>\n",
              "      <td>2.220446e-16</td>\n",
              "      <td>0.042591</td>\n",
              "      <td>6.763907</td>\n",
              "      <td>1.343192e-11</td>\n",
              "    </tr>\n",
              "    <tr>\n",
              "      <th>ASC_TRAIN</th>\n",
              "      <td>-0.537563</td>\n",
              "      <td>0.041771</td>\n",
              "      <td>-12.869260</td>\n",
              "      <td>0.000000e+00</td>\n",
              "      <td>0.053722</td>\n",
              "      <td>-10.006467</td>\n",
              "      <td>0.000000e+00</td>\n",
              "    </tr>\n",
              "    <tr>\n",
              "      <th>B_COST</th>\n",
              "      <td>0.000158</td>\n",
              "      <td>0.000021</td>\n",
              "      <td>7.494344</td>\n",
              "      <td>6.661338e-14</td>\n",
              "      <td>0.000017</td>\n",
              "      <td>9.170090</td>\n",
              "      <td>0.000000e+00</td>\n",
              "    </tr>\n",
              "    <tr>\n",
              "      <th>B_LUGGA_SQ</th>\n",
              "      <td>-0.107941</td>\n",
              "      <td>0.024129</td>\n",
              "      <td>-4.473528</td>\n",
              "      <td>7.693943e-06</td>\n",
              "      <td>0.025668</td>\n",
              "      <td>-4.205303</td>\n",
              "      <td>2.607322e-05</td>\n",
              "    </tr>\n",
              "    <tr>\n",
              "      <th>B_TIME</th>\n",
              "      <td>-0.012347</td>\n",
              "      <td>0.000415</td>\n",
              "      <td>-29.739497</td>\n",
              "      <td>0.000000e+00</td>\n",
              "      <td>0.000630</td>\n",
              "      <td>-19.592414</td>\n",
              "      <td>0.000000e+00</td>\n",
              "    </tr>\n",
              "  </tbody>\n",
              "</table>\n",
              "</div>"
            ],
            "text/plain": [
              "               Value   Std err  ...  Rob. t-test  Rob. p-value\n",
              "ASC_CAR     0.288084  0.035179  ...     6.763907  1.343192e-11\n",
              "ASC_TRAIN  -0.537563  0.041771  ...   -10.006467  0.000000e+00\n",
              "B_COST      0.000158  0.000021  ...     9.170090  0.000000e+00\n",
              "B_LUGGA_SQ -0.107941  0.024129  ...    -4.205303  2.607322e-05\n",
              "B_TIME     -0.012347  0.000415  ...   -19.592414  0.000000e+00\n",
              "\n",
              "[5 rows x 7 columns]"
            ]
          },
          "metadata": {},
          "execution_count": 21
        }
      ]
    },
    {
      "cell_type": "markdown",
      "metadata": {
        "id": "AjwSwASHiZ63"
      },
      "source": [
        "We can recover the values for the parameters in a dictionary."
      ]
    },
    {
      "cell_type": "code",
      "metadata": {
        "colab": {
          "base_uri": "https://localhost:8080/"
        },
        "id": "hbIei-9NYqR4",
        "outputId": "bb6f654d-4796-4a8b-c3d1-6cff39ee9d5d"
      },
      "source": [
        "results.getBetaValues()"
      ],
      "execution_count": 22,
      "outputs": [
        {
          "output_type": "execute_result",
          "data": {
            "text/plain": [
              "{'ASC_CAR': 0.288083632546446,\n",
              " 'ASC_TRAIN': -0.5375627609395981,\n",
              " 'B_COST': 0.00015828563290032964,\n",
              " 'B_LUGGA_SQ': -0.10794146292246269,\n",
              " 'B_TIME': -0.012347443695005794}"
            ]
          },
          "metadata": {},
          "execution_count": 22
        }
      ]
    },
    {
      "cell_type": "markdown",
      "metadata": {
        "id": "Nt46fenjfLJI"
      },
      "source": [
        "# Exercises\n",
        "\n"
      ]
    },
    {
      "cell_type": "markdown",
      "metadata": {
        "id": "rqM5utIDDl_S"
      },
      "source": [
        "\n",
        "## 1)Do you notice something unexepected in the sign of the cost parameter? Perhaps it has to do with another variable, `GA` the seasonal pass for public transport, a indicator variable of whether the individual has bought the seasonal pass or not. Create new variables for the cost of train and swissmetro that make the cost 0 if the user has bought the seasonal pass and keep the cost intact otherwise. *Please remove the 'luggage squared' variable.* Then fit the same model using those variables for their corresponding alternatives and check the results. \n",
        "\n",
        "The way to do this is to create an indicator variable for 'did not buy a seasonal pass', a varible that takes the value 1 if the used did **not** buy the seasonal pass, 0 otherwise. We can do that several ways, one is by taking the condition 'equals 0' on the original GA, `GA == 0`. Boolean values False/True are transformed into 0/1 integers when computed. Another option, looking at the definition could be transform GA in (1-GA). The second step is to multiply the value of the original cost variables by this new indicator.\n",
        "\n",
        "In the next cell we will also create an auxiliary function to avoid repeating the code that creates and estimates the biogeme model. We will reuse it in other exercises. This auxiliary function takes the utility functions as input and outputs the results of the biogeme estimation.\n",
        "\n",
        "Finally, we will print the estimated parameters."
      ]
    },
    {
      "cell_type": "code",
      "metadata": {
        "id": "mnF-Mjd45469",
        "colab": {
          "base_uri": "https://localhost:8080/",
          "height": 173
        },
        "outputId": "fa885069-ddc1-4023-f921-32da68c0e82c"
      },
      "source": [
        "TRAIN_CO_GA = TRAIN_CO * (GA ==0 )\n",
        "SM_CO_GA = TRAIN_CO * (GA == 0)\n",
        "\n",
        "V1 = ASC_TRAIN + B_TIME * TRAIN_TT + B_COST * TRAIN_CO_GA \n",
        "V2 = ASC_SM + B_TIME * SM_TT + B_COST * SM_CO_GA \n",
        "V3 = ASC_CAR + B_TIME * CAR_TT + B_COST * CAR_CO # removing lugga+ B_LUGGA_SQ*LUGGA_SQ\n",
        "\n",
        "def estimate_swissmetro_from_V(V1, V2, V3):\n",
        " V = {1: V1 ,\n",
        "  2: V2 ,\n",
        "  3: V3 }\n",
        "\n",
        " av = {1: TRAIN_AV,\n",
        "  2: SM_AV,\n",
        "  3: CAR_AV }\n",
        "\n",
        " logprob = models.loglogit (V , av , CHOICE )\n",
        " bgm_model = bio.BIOGEME ( bgm_swissmetro, logprob )\n",
        " bgm_model.modelName = 'my first multinomial logit'\n",
        " results = bgm_model.estimate()\n",
        " return results\n",
        "\n",
        "resGA = estimate_swissmetro_from_V(V1, V2, V3)\n",
        "resGA.getEstimatedParameters()\n",
        "\n"
      ],
      "execution_count": 23,
      "outputs": [
        {
          "output_type": "execute_result",
          "data": {
            "text/html": [
              "<div>\n",
              "<style scoped>\n",
              "    .dataframe tbody tr th:only-of-type {\n",
              "        vertical-align: middle;\n",
              "    }\n",
              "\n",
              "    .dataframe tbody tr th {\n",
              "        vertical-align: top;\n",
              "    }\n",
              "\n",
              "    .dataframe thead th {\n",
              "        text-align: right;\n",
              "    }\n",
              "</style>\n",
              "<table border=\"1\" class=\"dataframe\">\n",
              "  <thead>\n",
              "    <tr style=\"text-align: right;\">\n",
              "      <th></th>\n",
              "      <th>Value</th>\n",
              "      <th>Std err</th>\n",
              "      <th>t-test</th>\n",
              "      <th>p-value</th>\n",
              "      <th>Rob. Std err</th>\n",
              "      <th>Rob. t-test</th>\n",
              "      <th>Rob. p-value</th>\n",
              "    </tr>\n",
              "  </thead>\n",
              "  <tbody>\n",
              "    <tr>\n",
              "      <th>ASC_CAR</th>\n",
              "      <td>0.121867</td>\n",
              "      <td>0.030941</td>\n",
              "      <td>3.938739</td>\n",
              "      <td>0.000082</td>\n",
              "      <td>0.037615</td>\n",
              "      <td>3.239882</td>\n",
              "      <td>0.001196</td>\n",
              "    </tr>\n",
              "    <tr>\n",
              "      <th>ASC_TRAIN</th>\n",
              "      <td>-0.581335</td>\n",
              "      <td>0.041750</td>\n",
              "      <td>-13.924213</td>\n",
              "      <td>0.000000</td>\n",
              "      <td>0.054404</td>\n",
              "      <td>-10.685587</td>\n",
              "      <td>0.000000</td>\n",
              "    </tr>\n",
              "    <tr>\n",
              "      <th>B_COST</th>\n",
              "      <td>-0.008970</td>\n",
              "      <td>0.000424</td>\n",
              "      <td>-21.142570</td>\n",
              "      <td>0.000000</td>\n",
              "      <td>0.000579</td>\n",
              "      <td>-15.479236</td>\n",
              "      <td>0.000000</td>\n",
              "    </tr>\n",
              "    <tr>\n",
              "      <th>B_TIME</th>\n",
              "      <td>-0.012065</td>\n",
              "      <td>0.000421</td>\n",
              "      <td>-28.653198</td>\n",
              "      <td>0.000000</td>\n",
              "      <td>0.000641</td>\n",
              "      <td>-18.812258</td>\n",
              "      <td>0.000000</td>\n",
              "    </tr>\n",
              "  </tbody>\n",
              "</table>\n",
              "</div>"
            ],
            "text/plain": [
              "              Value   Std err  ...  Rob. t-test  Rob. p-value\n",
              "ASC_CAR    0.121867  0.030941  ...     3.239882      0.001196\n",
              "ASC_TRAIN -0.581335  0.041750  ...   -10.685587      0.000000\n",
              "B_COST    -0.008970  0.000424  ...   -15.479236      0.000000\n",
              "B_TIME    -0.012065  0.000421  ...   -18.812258      0.000000\n",
              "\n",
              "[4 rows x 7 columns]"
            ]
          },
          "metadata": {},
          "execution_count": 23
        }
      ]
    },
    {
      "cell_type": "markdown",
      "metadata": {
        "id": "BZwOKnuo51s8"
      },
      "source": [
        "\n",
        "##2) Create a new model by *including two new variables*, you can use the ones existing or create new ones. Then estimate the model and compare it to the previous one. How can we compare them? Which one is better?\n"
      ]
    },
    {
      "cell_type": "markdown",
      "metadata": {
        "id": "Q5ZIiOWXGCtq"
      },
      "source": [
        "We add the variables \n",
        "'MALE', the indicator of gender, and 'INCOME' a varible that approximates the income of the individual into 5 different sections. We will 'clean' the 'INCOME' variable by assigning the 'unknown' income section into the lower section. We can do this by creating an indicator variable for the unkown incomes and the subtracting it to the actual 'INCOME' multiplied by 4, this makes the rows with 'INCOME 4' into 'INCOME 0'. Values of INCOME 0 are turned into 1 to remove the ambiguety in the definition of the variable (0 and 1 imply the same section of income in the description of the dataset). *These variables are arbitrarily chosen, you could have chosen other variables, or other transformations of the same variables. One thing that is important, however, is to handle invalid values in some way. In this case the invalid values for income are assigned to the lower section of income ranges. Leaving the variable completely unchanged would be a small error.*\n",
        "\n",
        "We will begin with an example of doing it **wrong, there will be a problem with the model.** \n",
        "What is wrong with the following modelling is that we will be adding the socioeconomical variables using one parameter for all alternatives, similar to cost and travel time. *The problem here is that socieconomical variables have the same value for all alternatives, so modelling like this does not help with distinguishing the utilities, it will add the same amout of utility to all alternatives!.*\n",
        "We can see that the coefficients have values of 0."
      ]
    },
    {
      "cell_type": "code",
      "metadata": {
        "colab": {
          "base_uri": "https://localhost:8080/",
          "height": 235
        },
        "id": "s8Uc5rK2F6gC",
        "outputId": "12e8af24-6232-4c0c-d2fc-e7261a920cea"
      },
      "source": [
        "#BAD example, socieconomic variables are shared among alternatives\n",
        "B_MALE = exp.Beta( 'B_MALE', 0, None, None, 0)\n",
        "B_INCOME = exp.Beta( 'B_INCOME', 0, None, None, 0)\n",
        "INCOME_FIX = INCOME - 4*(INCOME==4)\n",
        "INCOME_FIX = INCOME_FIX + (INCOME==0)\n",
        "\n",
        "\n",
        "tV1 = ASC_TRAIN + B_TIME * TRAIN_TT + B_COST * TRAIN_CO_GA + B_MALE*MALE + B_INCOME*INCOME_FIX\n",
        "tV2 = ASC_SM + B_TIME * SM_TT + B_COST * SM_CO_GA + B_MALE*MALE + B_INCOME*INCOME_FIX \n",
        "tV3 = ASC_CAR + B_TIME * CAR_TT + B_COST * CAR_CO + B_MALE*MALE + B_INCOME*INCOME_FIX\n",
        "\n",
        "resTwoNewVar = estimate_swissmetro_from_V(tV1, tV2, tV3)\n",
        "resTwoNewVar.getEstimatedParameters()"
      ],
      "execution_count": 24,
      "outputs": [
        {
          "output_type": "execute_result",
          "data": {
            "text/html": [
              "<div>\n",
              "<style scoped>\n",
              "    .dataframe tbody tr th:only-of-type {\n",
              "        vertical-align: middle;\n",
              "    }\n",
              "\n",
              "    .dataframe tbody tr th {\n",
              "        vertical-align: top;\n",
              "    }\n",
              "\n",
              "    .dataframe thead th {\n",
              "        text-align: right;\n",
              "    }\n",
              "</style>\n",
              "<table border=\"1\" class=\"dataframe\">\n",
              "  <thead>\n",
              "    <tr style=\"text-align: right;\">\n",
              "      <th></th>\n",
              "      <th>Value</th>\n",
              "      <th>Std err</th>\n",
              "      <th>t-test</th>\n",
              "      <th>p-value</th>\n",
              "      <th>Rob. Std err</th>\n",
              "      <th>Rob. t-test</th>\n",
              "      <th>Rob. p-value</th>\n",
              "    </tr>\n",
              "  </thead>\n",
              "  <tbody>\n",
              "    <tr>\n",
              "      <th>ASC_CAR</th>\n",
              "      <td>0.121867</td>\n",
              "      <td>3.094054e-02</td>\n",
              "      <td>3.938739</td>\n",
              "      <td>0.000082</td>\n",
              "      <td>3.761456e-02</td>\n",
              "      <td>3.239882</td>\n",
              "      <td>0.001196</td>\n",
              "    </tr>\n",
              "    <tr>\n",
              "      <th>ASC_TRAIN</th>\n",
              "      <td>-0.581335</td>\n",
              "      <td>4.174993e-02</td>\n",
              "      <td>-13.924213</td>\n",
              "      <td>0.000000</td>\n",
              "      <td>5.440365e-02</td>\n",
              "      <td>-10.685587</td>\n",
              "      <td>0.000000</td>\n",
              "    </tr>\n",
              "    <tr>\n",
              "      <th>B_COST</th>\n",
              "      <td>-0.008970</td>\n",
              "      <td>4.242505e-04</td>\n",
              "      <td>-21.142570</td>\n",
              "      <td>0.000000</td>\n",
              "      <td>5.794696e-04</td>\n",
              "      <td>-15.479236</td>\n",
              "      <td>0.000000</td>\n",
              "    </tr>\n",
              "    <tr>\n",
              "      <th>B_INCOME</th>\n",
              "      <td>0.000000</td>\n",
              "      <td>1.653225e-21</td>\n",
              "      <td>0.000000</td>\n",
              "      <td>1.000000</td>\n",
              "      <td>1.797693e+308</td>\n",
              "      <td>0.000000</td>\n",
              "      <td>1.000000</td>\n",
              "    </tr>\n",
              "    <tr>\n",
              "      <th>B_MALE</th>\n",
              "      <td>0.000000</td>\n",
              "      <td>2.042887e-19</td>\n",
              "      <td>0.000000</td>\n",
              "      <td>1.000000</td>\n",
              "      <td>2.705146e-19</td>\n",
              "      <td>0.000000</td>\n",
              "      <td>1.000000</td>\n",
              "    </tr>\n",
              "    <tr>\n",
              "      <th>B_TIME</th>\n",
              "      <td>-0.012065</td>\n",
              "      <td>4.210626e-04</td>\n",
              "      <td>-28.653198</td>\n",
              "      <td>0.000000</td>\n",
              "      <td>6.413260e-04</td>\n",
              "      <td>-18.812258</td>\n",
              "      <td>0.000000</td>\n",
              "    </tr>\n",
              "  </tbody>\n",
              "</table>\n",
              "</div>"
            ],
            "text/plain": [
              "              Value       Std err  ...  Rob. t-test  Rob. p-value\n",
              "ASC_CAR    0.121867  3.094054e-02  ...     3.239882      0.001196\n",
              "ASC_TRAIN -0.581335  4.174993e-02  ...   -10.685587      0.000000\n",
              "B_COST    -0.008970  4.242505e-04  ...   -15.479236      0.000000\n",
              "B_INCOME   0.000000  1.653225e-21  ...     0.000000      1.000000\n",
              "B_MALE     0.000000  2.042887e-19  ...     0.000000      1.000000\n",
              "B_TIME    -0.012065  4.210626e-04  ...   -18.812258      0.000000\n",
              "\n",
              "[6 rows x 7 columns]"
            ]
          },
          "metadata": {},
          "execution_count": 24
        }
      ]
    },
    {
      "cell_type": "markdown",
      "metadata": {
        "id": "6dXC56-cydZ7"
      },
      "source": [
        "We need to add one *parameter per alternative*, to signify that these variables have different influence depending on the alternative."
      ]
    },
    {
      "cell_type": "code",
      "metadata": {
        "id": "AgkG7tJP55Um",
        "colab": {
          "base_uri": "https://localhost:8080/",
          "height": 359
        },
        "outputId": "1f0b507a-6794-435a-c3f9-cda1b963a836"
      },
      "source": [
        "#one example, per alternative socieocon: \n",
        "B_MALE_TR = exp.Beta( 'B_MALE_TR', 0, None, None, 0)\n",
        "B_MALE_SM = exp.Beta( 'B_MALE_SM', 0, None, None, 0)\n",
        "B_MALE_CAR = exp.Beta( 'B_MALE_CAR', 0, None, None, 0)\n",
        "B_INCOME_TR = exp.Beta( 'B_INCOME_TR', 0, None, None, 0)\n",
        "B_INCOME_SM = exp.Beta( 'B_INCOME_SM', 0, None, None, 0)\n",
        "B_INCOME_CAR = exp.Beta( 'B_INCOME_CAR', 0, None, None, 0)\n",
        "\n",
        "tV1 = ASC_TRAIN + B_TIME * TRAIN_TT + B_COST * TRAIN_CO_GA + B_MALE_TR*MALE + B_INCOME_TR*INCOME_FIX\n",
        "tV2 = ASC_SM + B_TIME * SM_TT + B_COST * SM_CO_GA + B_MALE_SM*MALE + B_INCOME_SM*INCOME_FIX\n",
        "tV3 = ASC_CAR + B_TIME * CAR_TT + B_COST * CAR_CO + B_MALE_CAR*MALE+ B_INCOME_CAR*INCOME_FIX\n",
        "\n",
        "resTwoNewVar = estimate_swissmetro_from_V(tV1, tV2, tV3)\n",
        "resTwoNewVar.getEstimatedParameters()\n"
      ],
      "execution_count": 25,
      "outputs": [
        {
          "output_type": "execute_result",
          "data": {
            "text/html": [
              "<div>\n",
              "<style scoped>\n",
              "    .dataframe tbody tr th:only-of-type {\n",
              "        vertical-align: middle;\n",
              "    }\n",
              "\n",
              "    .dataframe tbody tr th {\n",
              "        vertical-align: top;\n",
              "    }\n",
              "\n",
              "    .dataframe thead th {\n",
              "        text-align: right;\n",
              "    }\n",
              "</style>\n",
              "<table border=\"1\" class=\"dataframe\">\n",
              "  <thead>\n",
              "    <tr style=\"text-align: right;\">\n",
              "      <th></th>\n",
              "      <th>Value</th>\n",
              "      <th>Std err</th>\n",
              "      <th>t-test</th>\n",
              "      <th>p-value</th>\n",
              "      <th>Rob. Std err</th>\n",
              "      <th>Rob. t-test</th>\n",
              "      <th>Rob. p-value</th>\n",
              "    </tr>\n",
              "  </thead>\n",
              "  <tbody>\n",
              "    <tr>\n",
              "      <th>ASC_CAR</th>\n",
              "      <td>-0.040900</td>\n",
              "      <td>0.075222</td>\n",
              "      <td>-0.543729</td>\n",
              "      <td>5.866278e-01</td>\n",
              "      <td>0.076764</td>\n",
              "      <td>-0.532808</td>\n",
              "      <td>5.941663e-01</td>\n",
              "    </tr>\n",
              "    <tr>\n",
              "      <th>ASC_TRAIN</th>\n",
              "      <td>0.557575</td>\n",
              "      <td>0.067943</td>\n",
              "      <td>8.206561</td>\n",
              "      <td>2.220446e-16</td>\n",
              "      <td>0.073494</td>\n",
              "      <td>7.586677</td>\n",
              "      <td>3.286260e-14</td>\n",
              "    </tr>\n",
              "    <tr>\n",
              "      <th>B_COST</th>\n",
              "      <td>-0.008979</td>\n",
              "      <td>0.000421</td>\n",
              "      <td>-21.336962</td>\n",
              "      <td>0.000000e+00</td>\n",
              "      <td>0.000565</td>\n",
              "      <td>-15.904848</td>\n",
              "      <td>0.000000e+00</td>\n",
              "    </tr>\n",
              "    <tr>\n",
              "      <th>B_INCOME_CAR</th>\n",
              "      <td>0.136010</td>\n",
              "      <td>0.020020</td>\n",
              "      <td>6.793598</td>\n",
              "      <td>1.093703e-11</td>\n",
              "      <td>0.019583</td>\n",
              "      <td>6.945128</td>\n",
              "      <td>3.781198e-12</td>\n",
              "    </tr>\n",
              "    <tr>\n",
              "      <th>B_INCOME_SM</th>\n",
              "      <td>0.184551</td>\n",
              "      <td>0.016144</td>\n",
              "      <td>11.431694</td>\n",
              "      <td>0.000000e+00</td>\n",
              "      <td>0.016511</td>\n",
              "      <td>11.177324</td>\n",
              "      <td>0.000000e+00</td>\n",
              "    </tr>\n",
              "    <tr>\n",
              "      <th>B_INCOME_TR</th>\n",
              "      <td>-0.320561</td>\n",
              "      <td>0.021789</td>\n",
              "      <td>-14.711726</td>\n",
              "      <td>0.000000e+00</td>\n",
              "      <td>0.021662</td>\n",
              "      <td>-14.798151</td>\n",
              "      <td>0.000000e+00</td>\n",
              "    </tr>\n",
              "    <tr>\n",
              "      <th>B_MALE_CAR</th>\n",
              "      <td>0.335318</td>\n",
              "      <td>0.044050</td>\n",
              "      <td>7.612290</td>\n",
              "      <td>2.686740e-14</td>\n",
              "      <td>0.044597</td>\n",
              "      <td>7.518932</td>\n",
              "      <td>5.528911e-14</td>\n",
              "    </tr>\n",
              "    <tr>\n",
              "      <th>B_MALE_SM</th>\n",
              "      <td>0.059968</td>\n",
              "      <td>0.034481</td>\n",
              "      <td>1.739173</td>\n",
              "      <td>8.200438e-02</td>\n",
              "      <td>0.036171</td>\n",
              "      <td>1.657906</td>\n",
              "      <td>9.733635e-02</td>\n",
              "    </tr>\n",
              "    <tr>\n",
              "      <th>B_MALE_TR</th>\n",
              "      <td>-0.395286</td>\n",
              "      <td>0.044474</td>\n",
              "      <td>-8.887942</td>\n",
              "      <td>0.000000e+00</td>\n",
              "      <td>0.043449</td>\n",
              "      <td>-9.097735</td>\n",
              "      <td>0.000000e+00</td>\n",
              "    </tr>\n",
              "    <tr>\n",
              "      <th>B_TIME</th>\n",
              "      <td>-0.011541</td>\n",
              "      <td>0.000422</td>\n",
              "      <td>-27.359507</td>\n",
              "      <td>0.000000e+00</td>\n",
              "      <td>0.000644</td>\n",
              "      <td>-17.926625</td>\n",
              "      <td>0.000000e+00</td>\n",
              "    </tr>\n",
              "  </tbody>\n",
              "</table>\n",
              "</div>"
            ],
            "text/plain": [
              "                 Value   Std err  ...  Rob. t-test  Rob. p-value\n",
              "ASC_CAR      -0.040900  0.075222  ...    -0.532808  5.941663e-01\n",
              "ASC_TRAIN     0.557575  0.067943  ...     7.586677  3.286260e-14\n",
              "B_COST       -0.008979  0.000421  ...   -15.904848  0.000000e+00\n",
              "B_INCOME_CAR  0.136010  0.020020  ...     6.945128  3.781198e-12\n",
              "B_INCOME_SM   0.184551  0.016144  ...    11.177324  0.000000e+00\n",
              "B_INCOME_TR  -0.320561  0.021789  ...   -14.798151  0.000000e+00\n",
              "B_MALE_CAR    0.335318  0.044050  ...     7.518932  5.528911e-14\n",
              "B_MALE_SM     0.059968  0.034481  ...     1.657906  9.733635e-02\n",
              "B_MALE_TR    -0.395286  0.044474  ...    -9.097735  0.000000e+00\n",
              "B_TIME       -0.011541  0.000422  ...   -17.926625  0.000000e+00\n",
              "\n",
              "[10 rows x 7 columns]"
            ]
          },
          "metadata": {},
          "execution_count": 25
        }
      ]
    },
    {
      "cell_type": "markdown",
      "metadata": {
        "id": "V9E9houqy8g9"
      },
      "source": [
        "Note the coefficients look much better! We can look at the interpretation.\n",
        "Incomne has a positive relationship with car and Swissmetro, meaning that the larger the income, the more likely it makes individuals to go for these two alternatives. The coefficient of income for train is negative, the larger the income, the less likel to go or car. The effect of income is larger for swissmetro than for car.\n",
        "\n",
        "The influence of gender: Being male makes it more likely to choose car, and less likely to go for train. The effect of swismetro is positive, but small.\n",
        "\n",
        "**Important: We could have gotten all positive coefficients for the 'is male' variable, and still get the same conclusion. Why is that?** *We go back to the notion  of choice probabilities not being affected by adding a constant to the  observed utilities of each alternative. For example, if being make adds $2, 1, -1$ respectively to car, swissmetro and train, adding $4, 3, 1$ can produce the same results in terms of choice probabilities. It will depend on the other variables in the model, particular initial/reference values, etc.* **This is important if we get all positive values and interpret it as 'being male makes taking car, swissmetro and train more likely', it is clearly nonsense in our scenario, because you cannot make all alternatives more likely. So we have to always take into account one of the alternatives as reference.**\n",
        "\n",
        "\n",
        "---"
      ]
    },
    {
      "cell_type": "markdown",
      "metadata": {
        "id": "WmodkEFUnRP9"
      },
      "source": [
        "The second part of the question is to compare to the previous model, the one that used only travel cost and travel time.\n",
        "\n",
        "To do a **non rigorous** comparison of which model does better we can use the value of the likelihood, larger 'Final log likelihood' implies a better model.\n",
        "Another comparison is the prediction accuracy. "
      ]
    },
    {
      "cell_type": "code",
      "metadata": {
        "colab": {
          "base_uri": "https://localhost:8080/"
        },
        "id": "VIhXPGtTy2MY",
        "outputId": "843c017c-22d6-4ebd-f09a-43cbb7f1fa36"
      },
      "source": [
        "resTwoNewVar.getGeneralStatistics()"
      ],
      "execution_count": 26,
      "outputs": [
        {
          "output_type": "execute_result",
          "data": {
            "text/plain": [
              "{'Akaike Information Criterion': (16944.09243501439, '.7g'),\n",
              " 'Bayesian Information Criterion': (17016.890166481306, '.7g'),\n",
              " 'Excluded observations': (9, ''),\n",
              " 'Final gradient norm': (0.04666149746794342, '.4E'),\n",
              " 'Final log likelihood': (-8462.046217507195, '.7g'),\n",
              " 'Init log likelihood': (-8687.476203942144, '.7g'),\n",
              " 'Likelihood ratio test for the init. model': (450.8599728698973, '.7g'),\n",
              " 'Nbr of threads': (2, ''),\n",
              " 'Number of estimated parameters': (10, ''),\n",
              " 'Rho-square for the init. model': (0.02594884649383611, '.3g'),\n",
              " 'Rho-square-bar for the init. model': (0.024797764204199213, '.3g'),\n",
              " 'Sample size': (10719, '')}"
            ]
          },
          "metadata": {},
          "execution_count": 26
        }
      ]
    },
    {
      "cell_type": "code",
      "metadata": {
        "colab": {
          "base_uri": "https://localhost:8080/"
        },
        "id": "YNlVYbLo4TEf",
        "outputId": "8bd726fd-ae0f-4997-90fe-c14707c0ea3d"
      },
      "source": [
        "resGA.getGeneralStatistics()"
      ],
      "execution_count": 27,
      "outputs": [
        {
          "output_type": "execute_result",
          "data": {
            "text/plain": [
              "{'Akaike Information Criterion': (17382.952407884288, '.7g'),\n",
              " 'Bayesian Information Criterion': (17412.071500471055, '.7g'),\n",
              " 'Excluded observations': (9, ''),\n",
              " 'Final gradient norm': (0.04607304017740684, '.4E'),\n",
              " 'Final log likelihood': (-8687.476203942144, '.7g'),\n",
              " 'Init log likelihood': (-8976.709487906577, '.7g'),\n",
              " 'Likelihood ratio test for the init. model': (578.4665679288664, '.7g'),\n",
              " 'Nbr of threads': (2, ''),\n",
              " 'Number of estimated parameters': (4, ''),\n",
              " 'Rho-square for the init. model': (0.03222041265277531, '.3g'),\n",
              " 'Rho-square-bar for the init. model': (0.03177481507546831, '.3g'),\n",
              " 'Sample size': (10719, '')}"
            ]
          },
          "metadata": {},
          "execution_count": 27
        }
      ]
    },
    {
      "cell_type": "markdown",
      "metadata": {
        "id": "fAjgVR5xFCsK"
      },
      "source": [
        "Because these models are **nested** (the second model includes all variables of the first), we can make the comparison more rigorous by doing a statistical test. The common test is the likelihood ratio test, the null hypothesis is that the more complex model is not significantly better than the reference model.\n",
        "We test if the likelihood of the complex model is larger enough than the likelihood of the reference model. By construction a model that is more complex and includes all the variables of the reference will always have the same or better likelihood of the reference, because it just has more parameters to fit the same data. We check if it is sufficiently better by considering the number of extra parameters that the more complex model is using.\n",
        "The test statistics is $2(\\text{Loglikelihood}_\\text{complex model} - \\text{Loglikelihood}_\\text{reference model})$ and it should be distributed as a Chi-squared distribution with the degrees of freedom equal to the difference in the number of parameters.\n",
        "\n",
        "Below the code to do the tests, in two ways\n",
        " * Looking at the results of getGeneralStatistics() and manually calculating the p-value from the Chi-squared\n",
        "\n",
        " * Using the implementation of the likelihood ratio test on the biogeme package.\n",
        "   We can access the values programmatically in the element .data of the biogeme results data structure. We have to pass loglikelihoods and number of parameters of the models to be compared, and then the significance level."
      ]
    },
    {
      "cell_type": "code",
      "metadata": {
        "colab": {
          "base_uri": "https://localhost:8080/"
        },
        "id": "QcolWITM11I4",
        "outputId": "d5cda395-7e26-418f-8e37-dc4f4bc59197"
      },
      "source": [
        "from scipy import stats\n",
        "import biogeme.tools as tools\n",
        "\n",
        "#manually using the chi-square distribution and copy-pasting the results from getGeneralStatistics()\n",
        "1 - stats.chi2.cdf( 2*(-8462 - -8687), 6)\n",
        "\n",
        "#using the implementation provided by biogeme, in the package biogeme.tools\n",
        "#we take the values from the results object\n",
        "tools.likelihood_ratio_test( (resTwoNewVar.data.logLike, resTwoNewVar.data.nparam),\n",
        "                            (resGA.data.logLike, resGA.data.nparam), 0.05)"
      ],
      "execution_count": 28,
      "outputs": [
        {
          "output_type": "execute_result",
          "data": {
            "text/plain": [
              "('H0 can be rejected at level 0.05', 450.8599728698973, 1.6353828943279067)"
            ]
          },
          "metadata": {},
          "execution_count": 28
        }
      ]
    },
    {
      "cell_type": "markdown",
      "metadata": {
        "id": "iPVKeSfRHFlQ"
      },
      "source": [
        "An it seems that the second model is clearly better.\n",
        "\n",
        "**One caveat of hypothesis tests:** To really trust the results of the test, we should have established the two models to be compared **before seeing the data**. If we have the dataset and try and try different models until we get one that is significantly better than the reference, we are falling into the problem of multiple hypothesis testing. This is a huge problem in practice! Can lead to spurious results, 'findings' than then will not translate to practice.\n",
        "\n",
        "Another way is to use a holdout set, part of the data that is not used for fitting the model, only to check accuracies and likelihoods. This is the preferred approach (when available), but we must also be careful not to use it to find a good model by trial an error. Ideally should be used to compare models only once. When using a holdout set, the number of parameters can be ignored for the purposes of comparing likelihoods or accuracies. In summary, using holdout sets follows the 'scientific method', first generate the hypothsis using some data (the training data used to fit the models), then test the hypothesis using new data (the holdout). "
      ]
    },
    {
      "cell_type": "markdown",
      "metadata": {
        "id": "CecR3CjII0BP"
      },
      "source": [
        "**Final observation: When should we use shared or per-alternative parameters for the attributes of the alternatives?**\n",
        "As a general guideline, if we have enough data, it is better to use per-alternative parameters. If we require a very simple interpretation, we might simplify and use shared parameters."
      ]
    },
    {
      "cell_type": "markdown",
      "metadata": {
        "id": "mdDsNIDw54DR"
      },
      "source": [
        "\n",
        "##3) Create a model that calculates a specific coefficient for the price and travel time of each alternative. Check the model and calculate willingness to pay for the travel time of each alternative (*you can take a look at the definition in lecture 2)*."
      ]
    },
    {
      "cell_type": "markdown",
      "metadata": {
        "id": "0jbyogQmmbb6"
      },
      "source": [
        "We should know how to calcule per-alternative parameters by now."
      ]
    },
    {
      "cell_type": "code",
      "metadata": {
        "id": "-UzDM2x-56NK",
        "colab": {
          "base_uri": "https://localhost:8080/",
          "height": 295
        },
        "outputId": "c13f041a-1ced-402d-ab5c-1600db41c0d3"
      },
      "source": [
        "B_TT_TR = exp.Beta( 'B_TT_TR', 0, None, None, 0)\n",
        "B_TT_SM = exp.Beta( 'B_TT_SM', 0, None, None, 0)\n",
        "B_TT_CAR = exp.Beta( 'B_TT_CAR', 0, None, None, 0)\n",
        "B_COST_TR = exp.Beta( 'B_COST_TR', 0, None, None, 0)\n",
        "B_COST_SM = exp.Beta( 'B_COST_SM', 0, None, None, 0)\n",
        "B_COST_CAR = exp.Beta( 'B_COST_CAR', 0, None, None, 0)\n",
        "\n",
        "wV1 = ASC_TRAIN + B_TT_TR * TRAIN_TT + B_COST_TR * TRAIN_CO_GA \n",
        "wV2 = ASC_SM + B_TT_SM * SM_TT + B_COST_SM * SM_CO_GA \n",
        "wV3 = ASC_CAR + B_TT_CAR * CAR_TT + B_COST_CAR * CAR_CO\n",
        "\n",
        "\n",
        "\n",
        "reswtp = estimate_swissmetro_from_V(wV1, wV2, wV3)\n",
        "reswtp.getEstimatedParameters()"
      ],
      "execution_count": 38,
      "outputs": [
        {
          "output_type": "execute_result",
          "data": {
            "text/html": [
              "<div>\n",
              "<style scoped>\n",
              "    .dataframe tbody tr th:only-of-type {\n",
              "        vertical-align: middle;\n",
              "    }\n",
              "\n",
              "    .dataframe tbody tr th {\n",
              "        vertical-align: top;\n",
              "    }\n",
              "\n",
              "    .dataframe thead th {\n",
              "        text-align: right;\n",
              "    }\n",
              "</style>\n",
              "<table border=\"1\" class=\"dataframe\">\n",
              "  <thead>\n",
              "    <tr style=\"text-align: right;\">\n",
              "      <th></th>\n",
              "      <th>Value</th>\n",
              "      <th>Std err</th>\n",
              "      <th>t-test</th>\n",
              "      <th>p-value</th>\n",
              "      <th>Rob. Std err</th>\n",
              "      <th>Rob. t-test</th>\n",
              "      <th>Rob. p-value</th>\n",
              "    </tr>\n",
              "  </thead>\n",
              "  <tbody>\n",
              "    <tr>\n",
              "      <th>ASC_CAR</th>\n",
              "      <td>-0.542834</td>\n",
              "      <td>0.065227</td>\n",
              "      <td>-8.322257</td>\n",
              "      <td>0.000000e+00</td>\n",
              "      <td>0.071853</td>\n",
              "      <td>-7.554777</td>\n",
              "      <td>4.196643e-14</td>\n",
              "    </tr>\n",
              "    <tr>\n",
              "      <th>ASC_TRAIN</th>\n",
              "      <td>0.009622</td>\n",
              "      <td>0.079154</td>\n",
              "      <td>0.121563</td>\n",
              "      <td>9.032448e-01</td>\n",
              "      <td>0.085124</td>\n",
              "      <td>0.113038</td>\n",
              "      <td>9.100004e-01</td>\n",
              "    </tr>\n",
              "    <tr>\n",
              "      <th>B_COST_CAR</th>\n",
              "      <td>-0.006144</td>\n",
              "      <td>0.000782</td>\n",
              "      <td>-7.857987</td>\n",
              "      <td>3.996803e-15</td>\n",
              "      <td>0.000963</td>\n",
              "      <td>-6.378500</td>\n",
              "      <td>1.788303e-10</td>\n",
              "    </tr>\n",
              "    <tr>\n",
              "      <th>B_COST_SM</th>\n",
              "      <td>-0.008572</td>\n",
              "      <td>0.000444</td>\n",
              "      <td>-19.288611</td>\n",
              "      <td>0.000000e+00</td>\n",
              "      <td>0.000591</td>\n",
              "      <td>-14.516311</td>\n",
              "      <td>0.000000e+00</td>\n",
              "    </tr>\n",
              "    <tr>\n",
              "      <th>B_COST_TR</th>\n",
              "      <td>-0.017624</td>\n",
              "      <td>0.000793</td>\n",
              "      <td>-22.232162</td>\n",
              "      <td>0.000000e+00</td>\n",
              "      <td>0.001297</td>\n",
              "      <td>-13.587545</td>\n",
              "      <td>0.000000e+00</td>\n",
              "    </tr>\n",
              "    <tr>\n",
              "      <th>B_TT_CAR</th>\n",
              "      <td>-0.010222</td>\n",
              "      <td>0.000578</td>\n",
              "      <td>-17.689231</td>\n",
              "      <td>0.000000e+00</td>\n",
              "      <td>0.000931</td>\n",
              "      <td>-10.979895</td>\n",
              "      <td>0.000000e+00</td>\n",
              "    </tr>\n",
              "    <tr>\n",
              "      <th>B_TT_SM</th>\n",
              "      <td>-0.013987</td>\n",
              "      <td>0.000618</td>\n",
              "      <td>-22.633799</td>\n",
              "      <td>0.000000e+00</td>\n",
              "      <td>0.000998</td>\n",
              "      <td>-14.007969</td>\n",
              "      <td>0.000000e+00</td>\n",
              "    </tr>\n",
              "    <tr>\n",
              "      <th>B_TT_TR</th>\n",
              "      <td>-0.013847</td>\n",
              "      <td>0.000652</td>\n",
              "      <td>-21.226708</td>\n",
              "      <td>0.000000e+00</td>\n",
              "      <td>0.000898</td>\n",
              "      <td>-15.413107</td>\n",
              "      <td>0.000000e+00</td>\n",
              "    </tr>\n",
              "  </tbody>\n",
              "</table>\n",
              "</div>"
            ],
            "text/plain": [
              "               Value   Std err  ...  Rob. t-test  Rob. p-value\n",
              "ASC_CAR    -0.542834  0.065227  ...    -7.554777  4.196643e-14\n",
              "ASC_TRAIN   0.009622  0.079154  ...     0.113038  9.100004e-01\n",
              "B_COST_CAR -0.006144  0.000782  ...    -6.378500  1.788303e-10\n",
              "B_COST_SM  -0.008572  0.000444  ...   -14.516311  0.000000e+00\n",
              "B_COST_TR  -0.017624  0.000793  ...   -13.587545  0.000000e+00\n",
              "B_TT_CAR   -0.010222  0.000578  ...   -10.979895  0.000000e+00\n",
              "B_TT_SM    -0.013987  0.000618  ...   -14.007969  0.000000e+00\n",
              "B_TT_TR    -0.013847  0.000652  ...   -15.413107  0.000000e+00\n",
              "\n",
              "[8 rows x 7 columns]"
            ]
          },
          "metadata": {},
          "execution_count": 38
        }
      ]
    },
    {
      "cell_type": "markdown",
      "metadata": {
        "id": "UHt8ie537Yjz"
      },
      "source": [
        "The willingness to pay, in linear utility (what we have now) can be summarized as the coefficient of the variable of interest for that alternative divided by the cost coefficient for that alternative.\n",
        "\n",
        "We can compute them manually, here the tuple for WTP of car, swissmetro and train."
      ]
    },
    {
      "cell_type": "code",
      "metadata": {
        "colab": {
          "base_uri": "https://localhost:8080/"
        },
        "id": "0iScqbxC9A0j",
        "outputId": "abc1bc33-d9b8-4c4e-ee88-b9500753b969"
      },
      "source": [
        "(-0.010222 / -0.006145,\n",
        "\n",
        "-0.013987 / -0.008572,\n",
        " \n",
        " -0.013987 / -0.017623)\n"
      ],
      "execution_count": 30,
      "outputs": [
        {
          "output_type": "execute_result",
          "data": {
            "text/plain": [
              "(1.66346623270952, 1.631707886140924, 0.7936787153152131)"
            ]
          },
          "metadata": {},
          "execution_count": 30
        }
      ]
    },
    {
      "cell_type": "markdown",
      "metadata": {
        "id": "naIuycKDAodf"
      },
      "source": [
        "The willingness to pay to reduce he travel time in car is he highest and train is the lowest. The inepretation is that indivuals are willing to pay 1.7 francs to reduce their travel time in one minute, it is the most 'annoying' of the methods of transport. I find surprising that the swissmetro, given that is is a 'luxury' fast train, is more annoying than the train. Of course the data comes from a survey so the individuals have not actually experienced the fast train. \n",
        "\n",
        "We can calculate them programmatrically by recovering the dictionary of the parameters."
      ]
    },
    {
      "cell_type": "code",
      "metadata": {
        "colab": {
          "base_uri": "https://localhost:8080/"
        },
        "id": "Vq4Xw1m5ACb4",
        "outputId": "d4c0e906-3aa6-431c-8d75-1ec4a8fb3db0"
      },
      "source": [
        "\n",
        "Betas = reswtp.getBetaValues()\n",
        "(Betas['B_TT_CAR'] / Betas['B_COST_CAR'],\n",
        " Betas['B_TT_SM'] / Betas['B_COST_SM'],\n",
        " Betas['B_TT_TR'] / Betas['B_COST_TR'])"
      ],
      "execution_count": 39,
      "outputs": [
        {
          "output_type": "execute_result",
          "data": {
            "text/plain": [
              "(1.6635867088696066, 1.631608146921827, 0.7856989745528365)"
            ]
          },
          "metadata": {},
          "execution_count": 39
        }
      ]
    },
    {
      "cell_type": "markdown",
      "metadata": {
        "id": "gehSxNcztWK5"
      },
      "source": [
        "Remember that there is a more general definition of willingess to pay, the ratio of the derivatives of utility w.r.t to the variable of interest and cost.\n",
        "\n",
        "A final note, the WTP will depend on the specific model that we use, so it can vary wildly."
      ]
    }
  ]
}
