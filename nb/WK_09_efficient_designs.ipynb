{
  "nbformat": 4,
  "nbformat_minor": 0,
  "metadata": {
    "colab": {
      "name": "09_efficient_designs",
      "provenance": [],
      "authorship_tag": "ABX9TyNHp+elzMFBETTgeJvg+6Oo",
      "include_colab_link": true
    },
    "kernelspec": {
      "name": "python3",
      "display_name": "Python 3"
    },
    "language_info": {
      "name": "python"
    }
  },
  "cells": [
    {
      "cell_type": "markdown",
      "metadata": {
        "id": "view-in-github",
        "colab_type": "text"
      },
      "source": [
        "<a href=\"https://colab.research.google.com/github/pmontman/tmp_choicemodels/blob/main/nb/WK_09_efficient_designs.ipynb\" target=\"_parent\"><img src=\"https://colab.research.google.com/assets/colab-badge.svg\" alt=\"Open In Colab\"/></a>"
      ]
    },
    {
      "cell_type": "markdown",
      "metadata": {
        "id": "FiGIpQJKMDqU"
      },
      "source": [
        "# How to design efficient experiments\n",
        "\n",
        "In this lecture we are going to\n",
        "\n",
        "* Properly define what is an efficient design\n",
        "* Use the mathematical deffinition to create good designs\n",
        "* Give some final guidelines on design of experiments for choice modelling"
      ]
    },
    {
      "cell_type": "code",
      "metadata": {
        "id": "zmxyZx5dl267"
      },
      "source": [
        "import pandas as pd\n",
        "import numpy as np"
      ],
      "execution_count": 36,
      "outputs": []
    },
    {
      "cell_type": "code",
      "metadata": {
        "id": "jXHBZMkwjxq2"
      },
      "source": [
        "betas = np.matrix(' 1 1; 2 2')"
      ],
      "execution_count": 37,
      "outputs": []
    },
    {
      "cell_type": "code",
      "metadata": {
        "id": "XhQsU5Rgof6x"
      },
      "source": [
        "def choice_prob(betas, X):\n",
        "  V = np.matmul(X, betas)\n",
        "  P = np.exp(V)\n",
        "  return P / np.sum(P, axis = 1)"
      ],
      "execution_count": 38,
      "outputs": []
    },
    {
      "cell_type": "markdown",
      "metadata": {
        "id": "z3-GWN4yzvE7"
      },
      "source": [
        "# Working example: Designing a smartphone\n",
        "We are trying to design a smartphone, we want to create a survey to ask potential customers about their preferences, then model then using a choice model.\n",
        " For the sake of exposition, lets imagine that we can alter three attributes for two alternatives.\n",
        "The attributes are:\n",
        " * **Price**\n",
        " * **Screen Size**\n",
        " * **Processor Speed**\n",
        "\n",
        "The two alternatives are identified by the 'operating system' either 'apple' or\n",
        "'android'."
      ]
    },
    {
      "cell_type": "code",
      "metadata": {
        "id": "930fgh5UUUdh"
      },
      "source": [
        "colnames = ['price_apple', 'size_apple', 'os_apple', 'price_android', 'size_android', 'os_android']"
      ],
      "execution_count": 39,
      "outputs": []
    },
    {
      "cell_type": "markdown",
      "metadata": {
        "id": "zeREN9QyK0cM"
      },
      "source": [
        "When creating the survey, we have to decide how many choice situations we are going to create. Ideally, we would test a wide range of price, screen size and processor combinations. \n",
        "\n",
        "But lets assume that in the survey, we ask each respondent to choose between only two alternatives at a time. For example, the respondant is prompted\n",
        "the following question:\n",
        "\n",
        "*Which of these two smartphones would you buy?*\n",
        "\n"
      ]
    },
    {
      "cell_type": "markdown",
      "metadata": {
        "id": "x-erIGJCMq2k"
      },
      "source": [
        "| Attrib      | Apple |  Android |\n",
        "| ----------- | ----------- | ----------- |\n",
        "| Price      | 800       |  1200       |\n",
        "| Screen Size   | 4.7        | 5.8        |\n",
        "| Processor   | 3.2        | 1.8        |"
      ]
    },
    {
      "cell_type": "markdown",
      "metadata": {
        "id": "8ZsRq_vNOYZ2"
      },
      "source": [
        "In order to get a good model out of our survey, it is intuitively the we should get data from different values for the attributes of the alternatives.\n",
        "\n",
        "Therefore we would have to create several variations of the question.\n",
        "\n",
        "But just how many variations?\n",
        "\n",
        "Lets simplify and say that we consider only 3 prices\n",
        " * **Price**: 800 AUD, 1000 AUD, 1200 AUD\n",
        " * **Screen Size**: 4.7 in, 5.8 in\n",
        " * **Processor**: 1.8Ghz, 3.2 GHz\n",
        "\n",
        "Note that this is a strong reduction of the possible values that would\n",
        "create 'feasible' smartphones, even ignoring pricing there is much more variety\n",
        "in the Screen Size and Processor attributes in the current market.\n"
      ]
    },
    {
      "cell_type": "markdown",
      "metadata": {
        "id": "V4pglKCiQslA"
      },
      "source": [
        "How many variations? \n",
        "For each smartphone, we have 12 different combinations of price, size and speed,\n",
        "coming from the 3 different levels for price, 2 different levels for size and 2 different levels for speed.\n",
        "$3 \\times 2 \\times 2 = 12$"
      ]
    },
    {
      "cell_type": "code",
      "metadata": {
        "colab": {
          "base_uri": "https://localhost:8080/",
          "height": 418
        },
        "id": "peajmmSF1hNd",
        "outputId": "943470f1-5f5e-4733-c9a0-ac22973526fb"
      },
      "source": [
        "from sklearn.utils.extmath import cartesian\n",
        "pd.DataFrame(cartesian(([800.0, 1000.0, 1200.0], [4.7, 5.8], [1.8, 3.2])), columns=['price', 'size', 'speed'])"
      ],
      "execution_count": 40,
      "outputs": [
        {
          "output_type": "execute_result",
          "data": {
            "text/html": [
              "<div>\n",
              "<style scoped>\n",
              "    .dataframe tbody tr th:only-of-type {\n",
              "        vertical-align: middle;\n",
              "    }\n",
              "\n",
              "    .dataframe tbody tr th {\n",
              "        vertical-align: top;\n",
              "    }\n",
              "\n",
              "    .dataframe thead th {\n",
              "        text-align: right;\n",
              "    }\n",
              "</style>\n",
              "<table border=\"1\" class=\"dataframe\">\n",
              "  <thead>\n",
              "    <tr style=\"text-align: right;\">\n",
              "      <th></th>\n",
              "      <th>price</th>\n",
              "      <th>size</th>\n",
              "      <th>speed</th>\n",
              "    </tr>\n",
              "  </thead>\n",
              "  <tbody>\n",
              "    <tr>\n",
              "      <th>0</th>\n",
              "      <td>800.0</td>\n",
              "      <td>4.7</td>\n",
              "      <td>1.8</td>\n",
              "    </tr>\n",
              "    <tr>\n",
              "      <th>1</th>\n",
              "      <td>800.0</td>\n",
              "      <td>4.7</td>\n",
              "      <td>3.2</td>\n",
              "    </tr>\n",
              "    <tr>\n",
              "      <th>2</th>\n",
              "      <td>800.0</td>\n",
              "      <td>5.8</td>\n",
              "      <td>1.8</td>\n",
              "    </tr>\n",
              "    <tr>\n",
              "      <th>3</th>\n",
              "      <td>800.0</td>\n",
              "      <td>5.8</td>\n",
              "      <td>3.2</td>\n",
              "    </tr>\n",
              "    <tr>\n",
              "      <th>4</th>\n",
              "      <td>1000.0</td>\n",
              "      <td>4.7</td>\n",
              "      <td>1.8</td>\n",
              "    </tr>\n",
              "    <tr>\n",
              "      <th>5</th>\n",
              "      <td>1000.0</td>\n",
              "      <td>4.7</td>\n",
              "      <td>3.2</td>\n",
              "    </tr>\n",
              "    <tr>\n",
              "      <th>6</th>\n",
              "      <td>1000.0</td>\n",
              "      <td>5.8</td>\n",
              "      <td>1.8</td>\n",
              "    </tr>\n",
              "    <tr>\n",
              "      <th>7</th>\n",
              "      <td>1000.0</td>\n",
              "      <td>5.8</td>\n",
              "      <td>3.2</td>\n",
              "    </tr>\n",
              "    <tr>\n",
              "      <th>8</th>\n",
              "      <td>1200.0</td>\n",
              "      <td>4.7</td>\n",
              "      <td>1.8</td>\n",
              "    </tr>\n",
              "    <tr>\n",
              "      <th>9</th>\n",
              "      <td>1200.0</td>\n",
              "      <td>4.7</td>\n",
              "      <td>3.2</td>\n",
              "    </tr>\n",
              "    <tr>\n",
              "      <th>10</th>\n",
              "      <td>1200.0</td>\n",
              "      <td>5.8</td>\n",
              "      <td>1.8</td>\n",
              "    </tr>\n",
              "    <tr>\n",
              "      <th>11</th>\n",
              "      <td>1200.0</td>\n",
              "      <td>5.8</td>\n",
              "      <td>3.2</td>\n",
              "    </tr>\n",
              "  </tbody>\n",
              "</table>\n",
              "</div>"
            ],
            "text/plain": [
              "     price  size  speed\n",
              "0    800.0   4.7    1.8\n",
              "1    800.0   4.7    3.2\n",
              "2    800.0   5.8    1.8\n",
              "3    800.0   5.8    3.2\n",
              "4   1000.0   4.7    1.8\n",
              "5   1000.0   4.7    3.2\n",
              "6   1000.0   5.8    1.8\n",
              "7   1000.0   5.8    3.2\n",
              "8   1200.0   4.7    1.8\n",
              "9   1200.0   4.7    3.2\n",
              "10  1200.0   5.8    1.8\n",
              "11  1200.0   5.8    3.2"
            ]
          },
          "metadata": {},
          "execution_count": 40
        }
      ]
    },
    {
      "cell_type": "markdown",
      "metadata": {
        "id": "CsR4E1nJSVXt"
      },
      "source": [
        "And this is for each type of smartphone, either apple or android.\n",
        "\n",
        "If we want to compare all possible options of apple smartphones to all possible\n",
        "options of android smartphone, we would have 144 possible choice questions."
      ]
    },
    {
      "cell_type": "code",
      "metadata": {
        "colab": {
          "base_uri": "https://localhost:8080/",
          "height": 417
        },
        "id": "U7szbrwD2f1q",
        "outputId": "b7bfd903-568b-4b6d-a891-e697d0f2d417"
      },
      "source": [
        "full_factorial = pd.DataFrame(cartesian(([800.0, 1000.0, 1200.0], [4.7, 5.8], [1.8, 3.2], [800.0, 1000.0, 1200.0], [4.7, 5.8], [1.8, 3.2])),\n",
        "                              columns=colnames)\n",
        "full_factorial"
      ],
      "execution_count": 41,
      "outputs": [
        {
          "output_type": "execute_result",
          "data": {
            "text/html": [
              "<div>\n",
              "<style scoped>\n",
              "    .dataframe tbody tr th:only-of-type {\n",
              "        vertical-align: middle;\n",
              "    }\n",
              "\n",
              "    .dataframe tbody tr th {\n",
              "        vertical-align: top;\n",
              "    }\n",
              "\n",
              "    .dataframe thead th {\n",
              "        text-align: right;\n",
              "    }\n",
              "</style>\n",
              "<table border=\"1\" class=\"dataframe\">\n",
              "  <thead>\n",
              "    <tr style=\"text-align: right;\">\n",
              "      <th></th>\n",
              "      <th>price_apple</th>\n",
              "      <th>size_apple</th>\n",
              "      <th>os_apple</th>\n",
              "      <th>price_android</th>\n",
              "      <th>size_android</th>\n",
              "      <th>os_android</th>\n",
              "    </tr>\n",
              "  </thead>\n",
              "  <tbody>\n",
              "    <tr>\n",
              "      <th>0</th>\n",
              "      <td>800.0</td>\n",
              "      <td>4.7</td>\n",
              "      <td>1.8</td>\n",
              "      <td>800.0</td>\n",
              "      <td>4.7</td>\n",
              "      <td>1.8</td>\n",
              "    </tr>\n",
              "    <tr>\n",
              "      <th>1</th>\n",
              "      <td>800.0</td>\n",
              "      <td>4.7</td>\n",
              "      <td>1.8</td>\n",
              "      <td>800.0</td>\n",
              "      <td>4.7</td>\n",
              "      <td>3.2</td>\n",
              "    </tr>\n",
              "    <tr>\n",
              "      <th>2</th>\n",
              "      <td>800.0</td>\n",
              "      <td>4.7</td>\n",
              "      <td>1.8</td>\n",
              "      <td>800.0</td>\n",
              "      <td>5.8</td>\n",
              "      <td>1.8</td>\n",
              "    </tr>\n",
              "    <tr>\n",
              "      <th>3</th>\n",
              "      <td>800.0</td>\n",
              "      <td>4.7</td>\n",
              "      <td>1.8</td>\n",
              "      <td>800.0</td>\n",
              "      <td>5.8</td>\n",
              "      <td>3.2</td>\n",
              "    </tr>\n",
              "    <tr>\n",
              "      <th>4</th>\n",
              "      <td>800.0</td>\n",
              "      <td>4.7</td>\n",
              "      <td>1.8</td>\n",
              "      <td>1000.0</td>\n",
              "      <td>4.7</td>\n",
              "      <td>1.8</td>\n",
              "    </tr>\n",
              "    <tr>\n",
              "      <th>...</th>\n",
              "      <td>...</td>\n",
              "      <td>...</td>\n",
              "      <td>...</td>\n",
              "      <td>...</td>\n",
              "      <td>...</td>\n",
              "      <td>...</td>\n",
              "    </tr>\n",
              "    <tr>\n",
              "      <th>139</th>\n",
              "      <td>1200.0</td>\n",
              "      <td>5.8</td>\n",
              "      <td>3.2</td>\n",
              "      <td>1000.0</td>\n",
              "      <td>5.8</td>\n",
              "      <td>3.2</td>\n",
              "    </tr>\n",
              "    <tr>\n",
              "      <th>140</th>\n",
              "      <td>1200.0</td>\n",
              "      <td>5.8</td>\n",
              "      <td>3.2</td>\n",
              "      <td>1200.0</td>\n",
              "      <td>4.7</td>\n",
              "      <td>1.8</td>\n",
              "    </tr>\n",
              "    <tr>\n",
              "      <th>141</th>\n",
              "      <td>1200.0</td>\n",
              "      <td>5.8</td>\n",
              "      <td>3.2</td>\n",
              "      <td>1200.0</td>\n",
              "      <td>4.7</td>\n",
              "      <td>3.2</td>\n",
              "    </tr>\n",
              "    <tr>\n",
              "      <th>142</th>\n",
              "      <td>1200.0</td>\n",
              "      <td>5.8</td>\n",
              "      <td>3.2</td>\n",
              "      <td>1200.0</td>\n",
              "      <td>5.8</td>\n",
              "      <td>1.8</td>\n",
              "    </tr>\n",
              "    <tr>\n",
              "      <th>143</th>\n",
              "      <td>1200.0</td>\n",
              "      <td>5.8</td>\n",
              "      <td>3.2</td>\n",
              "      <td>1200.0</td>\n",
              "      <td>5.8</td>\n",
              "      <td>3.2</td>\n",
              "    </tr>\n",
              "  </tbody>\n",
              "</table>\n",
              "<p>144 rows × 6 columns</p>\n",
              "</div>"
            ],
            "text/plain": [
              "     price_apple  size_apple  os_apple  price_android  size_android  os_android\n",
              "0          800.0         4.7       1.8          800.0           4.7         1.8\n",
              "1          800.0         4.7       1.8          800.0           4.7         3.2\n",
              "2          800.0         4.7       1.8          800.0           5.8         1.8\n",
              "3          800.0         4.7       1.8          800.0           5.8         3.2\n",
              "4          800.0         4.7       1.8         1000.0           4.7         1.8\n",
              "..           ...         ...       ...            ...           ...         ...\n",
              "139       1200.0         5.8       3.2         1000.0           5.8         3.2\n",
              "140       1200.0         5.8       3.2         1200.0           4.7         1.8\n",
              "141       1200.0         5.8       3.2         1200.0           4.7         3.2\n",
              "142       1200.0         5.8       3.2         1200.0           5.8         1.8\n",
              "143       1200.0         5.8       3.2         1200.0           5.8         3.2\n",
              "\n",
              "[144 rows x 6 columns]"
            ]
          },
          "metadata": {},
          "execution_count": 41
        }
      ]
    },
    {
      "cell_type": "markdown",
      "metadata": {
        "id": "suo4An1VS_Hs"
      },
      "source": [
        "We would have to sample at least 144 persons (Assuming one question per subject) to even get an observation per choice situation.\n",
        "\n",
        "In a bit more 'realistic' scenario, it is clear that the potential number of choice sitations goes out of control, to many variations to get a sample for each one.\n",
        "\n",
        "The practical question now becomes:\n",
        "\n",
        "**Assuming a limited budget of people we can ask, which choice situations should we choose among the possible in order to estimate the model as well as possible?**\n",
        "\n",
        "The solution comes from defining what we mean by *'estimate the model as well as possible'*. This measure is oftern called **'efficiency'** of the experiment\n",
        "and is something **arbitrary**. There are many ways of defining efficiency,\n",
        "we will see what can be considered the most popular.\n"
      ]
    },
    {
      "cell_type": "markdown",
      "metadata": {
        "id": "9LG1JSBKcOOp"
      },
      "source": [
        "\n",
        "# Efficiency in experimental designs\n",
        "\n",
        "Plainly, when we design an experiment we have to deal with the problem that we cannot perform the 'ideal' experiment. The efficiency of a experiment is intuitively a measure of how much we lose in a given experiment compared to the ideal experiment. The less we lose, the more efficient.\n",
        "\n",
        "Most measures of the efficieny of the experiment account for the variance of the estimation of the coefficients in the model, the covariance of the estimator of $\\beta$s."
      ]
    },
    {
      "cell_type": "markdown",
      "metadata": {
        "id": "-1BPiuOfeEJk"
      },
      "source": [
        "# Covariance matrix for the $\\beta$\n",
        "\n",
        "*We will illustrate the concept with standard linear regression and the add the 'choice probability layer' on top of it later. You can also think of modelling the utilities which are linear in the Multinomial Logit.*\n",
        "\n",
        "\n",
        "Recall from basic Stats, the sample mean estimation of\n",
        "a vector of observations $x$ of size $N$ is:\n",
        "$$ \\text{sample_mean}(x) = \\frac{1}{N}\\sum_{i=1}^N x_i$$\n",
        "\n",
        "In a random sample of indepent observations coming from a normal distribution of $N(\\mu, \\sigma^2)$, the sample mean is itself a random variable,\n",
        "distributed as a normal $N(\\mu,\\frac{\\sigma^2}{N})$\n",
        "\n",
        "As long as $x$ is indepent and identically distributed, even if $x$ is not gaussian, for $N$ 'large enough', the sample mean is also $N(\\mu,\\frac{\\sigma^2}{N})$, with $\\mu$ and $\\sigma^2$ mean and variance of the distribution of $x$. \n",
        "\n",
        "When we do least squares linear regression under the typical assumptions of linearity, independence and gaussianity,\n",
        "\n",
        " $$ y = X\\beta^* + \\varepsilon$$\n",
        "\n",
        " With $X$ the matrix of observations (one column per variable), $\\beta^*$ the true underlying beta and $\\varepsilon$ a i.i.d. gaussian noise of mean 0 and variance $\\sigma^2$.\n",
        "\n",
        "The least squares estimator of the $\\beta$ is also normal with distribution:\n",
        " $$N(\\beta^*, \\sigma^2 (X'X)^{-1})$$\n",
        "\n",
        "The important part for us is the term $(X'X)^{-1}$, because the $\\sigma^2$ is given, we cannot experiment with it. But when designing and experiment, we get to decide the values of the $X$.\n",
        "\n",
        "To simplify, asume that $\\sigma^2=1$ (we do not loose much, we can get there by just scaling everythin by a constant). This way we simplyfy the expression for the covariance matrix of the least squares estimator.\n",
        "\n",
        "$$\\text{covariance}(\\beta) = (X'X)^{-1}$$\n",
        "\n",
        "$$Y = X\\beta + \\varepsilon$$\n",
        "\n",
        "and 3 variables, so $\\beta$ is a vector of three numbers $\\beta_1, \\beta_2, \\beta_3$, each is the coefficient for one variable.\n",
        "\n",
        "\n",
        "Remember that the covariance matrix contains the variances of the individual coefficients (denoted by $\\sigma^2_{\\beta_i}$) and their covariances (denoted by $\\sigma_{\\beta_i \\beta_j}$).\n",
        "\n",
        "We likle know that having the less variance in the estimator, the more likely we are to be close to the true values when estimating.  So, in the covariance matrix, 'big numbers are bad'.\n",
        "\n",
        "$$\\text{covariance}(\\beta) = (X'X)^{-1} =\n",
        "\\begin{pmatrix}\n",
        "\\sigma^2_{\\beta_1} & \\sigma_{\\beta_1 \\beta_2} & \\sigma_{\\beta_1 \\beta_3}\\\\\n",
        "\\sigma_{\\beta_1 \\beta_2} & \\sigma^2_{\\beta_2} & \\sigma_{\\beta_2 \\beta_3} \\\\\n",
        "\\sigma_{\\beta_1 \\beta_3} & \\sigma_{\\beta_2 \\beta_3} & \\sigma^2_{\\beta_3}\n",
        "\\end{pmatrix}$$\n",
        "\n",
        "So we have to find values for $X$ that make the covariance matrix of $\\beta$ 'small'. The smaller the $\\beta$.\n",
        "So if we have a limited number of samples, we will select the combinations of levels of the alternatives that create the smallest covariance matrix possible. \n",
        "\n"
      ]
    },
    {
      "cell_type": "markdown",
      "metadata": {
        "id": "iNB8dUNyUfMZ"
      },
      "source": [
        "# A-efficiency\n",
        "\n",
        "We have mentioned that we want to make the covariance of the estimation of $\\beta$ as small as possible.\n",
        "\n",
        "**What do we mean by small?**\n",
        "\n",
        " And the measurement of the 'size' of the matrix is what we mean by **efficiency** of the experiment.\n",
        "\n",
        "One idea for measuring the size of the matrix, or how large are the numbers inse is the following:\n",
        "The average variance of the coefficients, so the sum of the diagional of the variance covariance matrix. So from all possible variantions of the experiment, we will pick the one that produces a covariance matrix with the smallest sum of its diagonal.\n",
        "\n",
        "This idea is called *A-efficiency*, and it is defined in proper matemathical terms as\n",
        "$ A= \\frac{\\text{trace}((X'X)^{-1})}{K+1}$\n",
        "with $K$ the number of variables to estimate in the model.\n",
        "\n",
        "When we pick the design with the best A-efficiency we call it $A-optimal$.\n",
        "\n",
        "There are many other measures of efficiency, identified by letters $A, D, E, G, ...$\n",
        "\n"
      ]
    },
    {
      "cell_type": "markdown",
      "metadata": {
        "id": "Y8UiDwryung_"
      },
      "source": [
        "# D-efficiency\n",
        "\n",
        "D-efficiency is considered the most popular measure of efficiency, though which one to use is not clear, it will depend on the application.\n",
        "\n",
        "The D-efficiency is defined in terms of the determinant of the covariance matrix of $\\beta$\n",
        "\n",
        "$D = \\text{det}((X'X)^{-1})^{\\frac{1}{K+1}}$"
      ]
    },
    {
      "cell_type": "code",
      "metadata": {
        "id": "Hr-jlLPj5OAO"
      },
      "source": [
        "def cov_reg(X):\n",
        "  X = np.matrix(X)\n",
        "  return np.linalg.inv(np.matmul(np.transpose(X), X))"
      ],
      "execution_count": 42,
      "outputs": []
    },
    {
      "cell_type": "code",
      "metadata": {
        "colab": {
          "base_uri": "https://localhost:8080/",
          "height": 282
        },
        "id": "iP7bx3Yswj7W",
        "outputId": "347ca4c6-ccea-4061-c9ae-d3d0dff81d96"
      },
      "source": [
        "np.transpose(full_factorial)"
      ],
      "execution_count": 43,
      "outputs": [
        {
          "output_type": "execute_result",
          "data": {
            "text/html": [
              "<div>\n",
              "<style scoped>\n",
              "    .dataframe tbody tr th:only-of-type {\n",
              "        vertical-align: middle;\n",
              "    }\n",
              "\n",
              "    .dataframe tbody tr th {\n",
              "        vertical-align: top;\n",
              "    }\n",
              "\n",
              "    .dataframe thead th {\n",
              "        text-align: right;\n",
              "    }\n",
              "</style>\n",
              "<table border=\"1\" class=\"dataframe\">\n",
              "  <thead>\n",
              "    <tr style=\"text-align: right;\">\n",
              "      <th></th>\n",
              "      <th>0</th>\n",
              "      <th>1</th>\n",
              "      <th>2</th>\n",
              "      <th>3</th>\n",
              "      <th>4</th>\n",
              "      <th>5</th>\n",
              "      <th>6</th>\n",
              "      <th>7</th>\n",
              "      <th>8</th>\n",
              "      <th>9</th>\n",
              "      <th>10</th>\n",
              "      <th>11</th>\n",
              "      <th>12</th>\n",
              "      <th>13</th>\n",
              "      <th>14</th>\n",
              "      <th>15</th>\n",
              "      <th>16</th>\n",
              "      <th>17</th>\n",
              "      <th>18</th>\n",
              "      <th>19</th>\n",
              "      <th>20</th>\n",
              "      <th>21</th>\n",
              "      <th>22</th>\n",
              "      <th>23</th>\n",
              "      <th>24</th>\n",
              "      <th>25</th>\n",
              "      <th>26</th>\n",
              "      <th>27</th>\n",
              "      <th>28</th>\n",
              "      <th>29</th>\n",
              "      <th>30</th>\n",
              "      <th>31</th>\n",
              "      <th>32</th>\n",
              "      <th>33</th>\n",
              "      <th>34</th>\n",
              "      <th>35</th>\n",
              "      <th>36</th>\n",
              "      <th>37</th>\n",
              "      <th>38</th>\n",
              "      <th>39</th>\n",
              "      <th>...</th>\n",
              "      <th>104</th>\n",
              "      <th>105</th>\n",
              "      <th>106</th>\n",
              "      <th>107</th>\n",
              "      <th>108</th>\n",
              "      <th>109</th>\n",
              "      <th>110</th>\n",
              "      <th>111</th>\n",
              "      <th>112</th>\n",
              "      <th>113</th>\n",
              "      <th>114</th>\n",
              "      <th>115</th>\n",
              "      <th>116</th>\n",
              "      <th>117</th>\n",
              "      <th>118</th>\n",
              "      <th>119</th>\n",
              "      <th>120</th>\n",
              "      <th>121</th>\n",
              "      <th>122</th>\n",
              "      <th>123</th>\n",
              "      <th>124</th>\n",
              "      <th>125</th>\n",
              "      <th>126</th>\n",
              "      <th>127</th>\n",
              "      <th>128</th>\n",
              "      <th>129</th>\n",
              "      <th>130</th>\n",
              "      <th>131</th>\n",
              "      <th>132</th>\n",
              "      <th>133</th>\n",
              "      <th>134</th>\n",
              "      <th>135</th>\n",
              "      <th>136</th>\n",
              "      <th>137</th>\n",
              "      <th>138</th>\n",
              "      <th>139</th>\n",
              "      <th>140</th>\n",
              "      <th>141</th>\n",
              "      <th>142</th>\n",
              "      <th>143</th>\n",
              "    </tr>\n",
              "  </thead>\n",
              "  <tbody>\n",
              "    <tr>\n",
              "      <th>price_apple</th>\n",
              "      <td>800.0</td>\n",
              "      <td>800.0</td>\n",
              "      <td>800.0</td>\n",
              "      <td>800.0</td>\n",
              "      <td>800.0</td>\n",
              "      <td>800.0</td>\n",
              "      <td>800.0</td>\n",
              "      <td>800.0</td>\n",
              "      <td>800.0</td>\n",
              "      <td>800.0</td>\n",
              "      <td>800.0</td>\n",
              "      <td>800.0</td>\n",
              "      <td>800.0</td>\n",
              "      <td>800.0</td>\n",
              "      <td>800.0</td>\n",
              "      <td>800.0</td>\n",
              "      <td>800.0</td>\n",
              "      <td>800.0</td>\n",
              "      <td>800.0</td>\n",
              "      <td>800.0</td>\n",
              "      <td>800.0</td>\n",
              "      <td>800.0</td>\n",
              "      <td>800.0</td>\n",
              "      <td>800.0</td>\n",
              "      <td>800.0</td>\n",
              "      <td>800.0</td>\n",
              "      <td>800.0</td>\n",
              "      <td>800.0</td>\n",
              "      <td>800.0</td>\n",
              "      <td>800.0</td>\n",
              "      <td>800.0</td>\n",
              "      <td>800.0</td>\n",
              "      <td>800.0</td>\n",
              "      <td>800.0</td>\n",
              "      <td>800.0</td>\n",
              "      <td>800.0</td>\n",
              "      <td>800.0</td>\n",
              "      <td>800.0</td>\n",
              "      <td>800.0</td>\n",
              "      <td>800.0</td>\n",
              "      <td>...</td>\n",
              "      <td>1200.0</td>\n",
              "      <td>1200.0</td>\n",
              "      <td>1200.0</td>\n",
              "      <td>1200.0</td>\n",
              "      <td>1200.0</td>\n",
              "      <td>1200.0</td>\n",
              "      <td>1200.0</td>\n",
              "      <td>1200.0</td>\n",
              "      <td>1200.0</td>\n",
              "      <td>1200.0</td>\n",
              "      <td>1200.0</td>\n",
              "      <td>1200.0</td>\n",
              "      <td>1200.0</td>\n",
              "      <td>1200.0</td>\n",
              "      <td>1200.0</td>\n",
              "      <td>1200.0</td>\n",
              "      <td>1200.0</td>\n",
              "      <td>1200.0</td>\n",
              "      <td>1200.0</td>\n",
              "      <td>1200.0</td>\n",
              "      <td>1200.0</td>\n",
              "      <td>1200.0</td>\n",
              "      <td>1200.0</td>\n",
              "      <td>1200.0</td>\n",
              "      <td>1200.0</td>\n",
              "      <td>1200.0</td>\n",
              "      <td>1200.0</td>\n",
              "      <td>1200.0</td>\n",
              "      <td>1200.0</td>\n",
              "      <td>1200.0</td>\n",
              "      <td>1200.0</td>\n",
              "      <td>1200.0</td>\n",
              "      <td>1200.0</td>\n",
              "      <td>1200.0</td>\n",
              "      <td>1200.0</td>\n",
              "      <td>1200.0</td>\n",
              "      <td>1200.0</td>\n",
              "      <td>1200.0</td>\n",
              "      <td>1200.0</td>\n",
              "      <td>1200.0</td>\n",
              "    </tr>\n",
              "    <tr>\n",
              "      <th>size_apple</th>\n",
              "      <td>4.7</td>\n",
              "      <td>4.7</td>\n",
              "      <td>4.7</td>\n",
              "      <td>4.7</td>\n",
              "      <td>4.7</td>\n",
              "      <td>4.7</td>\n",
              "      <td>4.7</td>\n",
              "      <td>4.7</td>\n",
              "      <td>4.7</td>\n",
              "      <td>4.7</td>\n",
              "      <td>4.7</td>\n",
              "      <td>4.7</td>\n",
              "      <td>4.7</td>\n",
              "      <td>4.7</td>\n",
              "      <td>4.7</td>\n",
              "      <td>4.7</td>\n",
              "      <td>4.7</td>\n",
              "      <td>4.7</td>\n",
              "      <td>4.7</td>\n",
              "      <td>4.7</td>\n",
              "      <td>4.7</td>\n",
              "      <td>4.7</td>\n",
              "      <td>4.7</td>\n",
              "      <td>4.7</td>\n",
              "      <td>5.8</td>\n",
              "      <td>5.8</td>\n",
              "      <td>5.8</td>\n",
              "      <td>5.8</td>\n",
              "      <td>5.8</td>\n",
              "      <td>5.8</td>\n",
              "      <td>5.8</td>\n",
              "      <td>5.8</td>\n",
              "      <td>5.8</td>\n",
              "      <td>5.8</td>\n",
              "      <td>5.8</td>\n",
              "      <td>5.8</td>\n",
              "      <td>5.8</td>\n",
              "      <td>5.8</td>\n",
              "      <td>5.8</td>\n",
              "      <td>5.8</td>\n",
              "      <td>...</td>\n",
              "      <td>4.7</td>\n",
              "      <td>4.7</td>\n",
              "      <td>4.7</td>\n",
              "      <td>4.7</td>\n",
              "      <td>4.7</td>\n",
              "      <td>4.7</td>\n",
              "      <td>4.7</td>\n",
              "      <td>4.7</td>\n",
              "      <td>4.7</td>\n",
              "      <td>4.7</td>\n",
              "      <td>4.7</td>\n",
              "      <td>4.7</td>\n",
              "      <td>4.7</td>\n",
              "      <td>4.7</td>\n",
              "      <td>4.7</td>\n",
              "      <td>4.7</td>\n",
              "      <td>5.8</td>\n",
              "      <td>5.8</td>\n",
              "      <td>5.8</td>\n",
              "      <td>5.8</td>\n",
              "      <td>5.8</td>\n",
              "      <td>5.8</td>\n",
              "      <td>5.8</td>\n",
              "      <td>5.8</td>\n",
              "      <td>5.8</td>\n",
              "      <td>5.8</td>\n",
              "      <td>5.8</td>\n",
              "      <td>5.8</td>\n",
              "      <td>5.8</td>\n",
              "      <td>5.8</td>\n",
              "      <td>5.8</td>\n",
              "      <td>5.8</td>\n",
              "      <td>5.8</td>\n",
              "      <td>5.8</td>\n",
              "      <td>5.8</td>\n",
              "      <td>5.8</td>\n",
              "      <td>5.8</td>\n",
              "      <td>5.8</td>\n",
              "      <td>5.8</td>\n",
              "      <td>5.8</td>\n",
              "    </tr>\n",
              "    <tr>\n",
              "      <th>os_apple</th>\n",
              "      <td>1.8</td>\n",
              "      <td>1.8</td>\n",
              "      <td>1.8</td>\n",
              "      <td>1.8</td>\n",
              "      <td>1.8</td>\n",
              "      <td>1.8</td>\n",
              "      <td>1.8</td>\n",
              "      <td>1.8</td>\n",
              "      <td>1.8</td>\n",
              "      <td>1.8</td>\n",
              "      <td>1.8</td>\n",
              "      <td>1.8</td>\n",
              "      <td>3.2</td>\n",
              "      <td>3.2</td>\n",
              "      <td>3.2</td>\n",
              "      <td>3.2</td>\n",
              "      <td>3.2</td>\n",
              "      <td>3.2</td>\n",
              "      <td>3.2</td>\n",
              "      <td>3.2</td>\n",
              "      <td>3.2</td>\n",
              "      <td>3.2</td>\n",
              "      <td>3.2</td>\n",
              "      <td>3.2</td>\n",
              "      <td>1.8</td>\n",
              "      <td>1.8</td>\n",
              "      <td>1.8</td>\n",
              "      <td>1.8</td>\n",
              "      <td>1.8</td>\n",
              "      <td>1.8</td>\n",
              "      <td>1.8</td>\n",
              "      <td>1.8</td>\n",
              "      <td>1.8</td>\n",
              "      <td>1.8</td>\n",
              "      <td>1.8</td>\n",
              "      <td>1.8</td>\n",
              "      <td>3.2</td>\n",
              "      <td>3.2</td>\n",
              "      <td>3.2</td>\n",
              "      <td>3.2</td>\n",
              "      <td>...</td>\n",
              "      <td>1.8</td>\n",
              "      <td>1.8</td>\n",
              "      <td>1.8</td>\n",
              "      <td>1.8</td>\n",
              "      <td>3.2</td>\n",
              "      <td>3.2</td>\n",
              "      <td>3.2</td>\n",
              "      <td>3.2</td>\n",
              "      <td>3.2</td>\n",
              "      <td>3.2</td>\n",
              "      <td>3.2</td>\n",
              "      <td>3.2</td>\n",
              "      <td>3.2</td>\n",
              "      <td>3.2</td>\n",
              "      <td>3.2</td>\n",
              "      <td>3.2</td>\n",
              "      <td>1.8</td>\n",
              "      <td>1.8</td>\n",
              "      <td>1.8</td>\n",
              "      <td>1.8</td>\n",
              "      <td>1.8</td>\n",
              "      <td>1.8</td>\n",
              "      <td>1.8</td>\n",
              "      <td>1.8</td>\n",
              "      <td>1.8</td>\n",
              "      <td>1.8</td>\n",
              "      <td>1.8</td>\n",
              "      <td>1.8</td>\n",
              "      <td>3.2</td>\n",
              "      <td>3.2</td>\n",
              "      <td>3.2</td>\n",
              "      <td>3.2</td>\n",
              "      <td>3.2</td>\n",
              "      <td>3.2</td>\n",
              "      <td>3.2</td>\n",
              "      <td>3.2</td>\n",
              "      <td>3.2</td>\n",
              "      <td>3.2</td>\n",
              "      <td>3.2</td>\n",
              "      <td>3.2</td>\n",
              "    </tr>\n",
              "    <tr>\n",
              "      <th>price_android</th>\n",
              "      <td>800.0</td>\n",
              "      <td>800.0</td>\n",
              "      <td>800.0</td>\n",
              "      <td>800.0</td>\n",
              "      <td>1000.0</td>\n",
              "      <td>1000.0</td>\n",
              "      <td>1000.0</td>\n",
              "      <td>1000.0</td>\n",
              "      <td>1200.0</td>\n",
              "      <td>1200.0</td>\n",
              "      <td>1200.0</td>\n",
              "      <td>1200.0</td>\n",
              "      <td>800.0</td>\n",
              "      <td>800.0</td>\n",
              "      <td>800.0</td>\n",
              "      <td>800.0</td>\n",
              "      <td>1000.0</td>\n",
              "      <td>1000.0</td>\n",
              "      <td>1000.0</td>\n",
              "      <td>1000.0</td>\n",
              "      <td>1200.0</td>\n",
              "      <td>1200.0</td>\n",
              "      <td>1200.0</td>\n",
              "      <td>1200.0</td>\n",
              "      <td>800.0</td>\n",
              "      <td>800.0</td>\n",
              "      <td>800.0</td>\n",
              "      <td>800.0</td>\n",
              "      <td>1000.0</td>\n",
              "      <td>1000.0</td>\n",
              "      <td>1000.0</td>\n",
              "      <td>1000.0</td>\n",
              "      <td>1200.0</td>\n",
              "      <td>1200.0</td>\n",
              "      <td>1200.0</td>\n",
              "      <td>1200.0</td>\n",
              "      <td>800.0</td>\n",
              "      <td>800.0</td>\n",
              "      <td>800.0</td>\n",
              "      <td>800.0</td>\n",
              "      <td>...</td>\n",
              "      <td>1200.0</td>\n",
              "      <td>1200.0</td>\n",
              "      <td>1200.0</td>\n",
              "      <td>1200.0</td>\n",
              "      <td>800.0</td>\n",
              "      <td>800.0</td>\n",
              "      <td>800.0</td>\n",
              "      <td>800.0</td>\n",
              "      <td>1000.0</td>\n",
              "      <td>1000.0</td>\n",
              "      <td>1000.0</td>\n",
              "      <td>1000.0</td>\n",
              "      <td>1200.0</td>\n",
              "      <td>1200.0</td>\n",
              "      <td>1200.0</td>\n",
              "      <td>1200.0</td>\n",
              "      <td>800.0</td>\n",
              "      <td>800.0</td>\n",
              "      <td>800.0</td>\n",
              "      <td>800.0</td>\n",
              "      <td>1000.0</td>\n",
              "      <td>1000.0</td>\n",
              "      <td>1000.0</td>\n",
              "      <td>1000.0</td>\n",
              "      <td>1200.0</td>\n",
              "      <td>1200.0</td>\n",
              "      <td>1200.0</td>\n",
              "      <td>1200.0</td>\n",
              "      <td>800.0</td>\n",
              "      <td>800.0</td>\n",
              "      <td>800.0</td>\n",
              "      <td>800.0</td>\n",
              "      <td>1000.0</td>\n",
              "      <td>1000.0</td>\n",
              "      <td>1000.0</td>\n",
              "      <td>1000.0</td>\n",
              "      <td>1200.0</td>\n",
              "      <td>1200.0</td>\n",
              "      <td>1200.0</td>\n",
              "      <td>1200.0</td>\n",
              "    </tr>\n",
              "    <tr>\n",
              "      <th>size_android</th>\n",
              "      <td>4.7</td>\n",
              "      <td>4.7</td>\n",
              "      <td>5.8</td>\n",
              "      <td>5.8</td>\n",
              "      <td>4.7</td>\n",
              "      <td>4.7</td>\n",
              "      <td>5.8</td>\n",
              "      <td>5.8</td>\n",
              "      <td>4.7</td>\n",
              "      <td>4.7</td>\n",
              "      <td>5.8</td>\n",
              "      <td>5.8</td>\n",
              "      <td>4.7</td>\n",
              "      <td>4.7</td>\n",
              "      <td>5.8</td>\n",
              "      <td>5.8</td>\n",
              "      <td>4.7</td>\n",
              "      <td>4.7</td>\n",
              "      <td>5.8</td>\n",
              "      <td>5.8</td>\n",
              "      <td>4.7</td>\n",
              "      <td>4.7</td>\n",
              "      <td>5.8</td>\n",
              "      <td>5.8</td>\n",
              "      <td>4.7</td>\n",
              "      <td>4.7</td>\n",
              "      <td>5.8</td>\n",
              "      <td>5.8</td>\n",
              "      <td>4.7</td>\n",
              "      <td>4.7</td>\n",
              "      <td>5.8</td>\n",
              "      <td>5.8</td>\n",
              "      <td>4.7</td>\n",
              "      <td>4.7</td>\n",
              "      <td>5.8</td>\n",
              "      <td>5.8</td>\n",
              "      <td>4.7</td>\n",
              "      <td>4.7</td>\n",
              "      <td>5.8</td>\n",
              "      <td>5.8</td>\n",
              "      <td>...</td>\n",
              "      <td>4.7</td>\n",
              "      <td>4.7</td>\n",
              "      <td>5.8</td>\n",
              "      <td>5.8</td>\n",
              "      <td>4.7</td>\n",
              "      <td>4.7</td>\n",
              "      <td>5.8</td>\n",
              "      <td>5.8</td>\n",
              "      <td>4.7</td>\n",
              "      <td>4.7</td>\n",
              "      <td>5.8</td>\n",
              "      <td>5.8</td>\n",
              "      <td>4.7</td>\n",
              "      <td>4.7</td>\n",
              "      <td>5.8</td>\n",
              "      <td>5.8</td>\n",
              "      <td>4.7</td>\n",
              "      <td>4.7</td>\n",
              "      <td>5.8</td>\n",
              "      <td>5.8</td>\n",
              "      <td>4.7</td>\n",
              "      <td>4.7</td>\n",
              "      <td>5.8</td>\n",
              "      <td>5.8</td>\n",
              "      <td>4.7</td>\n",
              "      <td>4.7</td>\n",
              "      <td>5.8</td>\n",
              "      <td>5.8</td>\n",
              "      <td>4.7</td>\n",
              "      <td>4.7</td>\n",
              "      <td>5.8</td>\n",
              "      <td>5.8</td>\n",
              "      <td>4.7</td>\n",
              "      <td>4.7</td>\n",
              "      <td>5.8</td>\n",
              "      <td>5.8</td>\n",
              "      <td>4.7</td>\n",
              "      <td>4.7</td>\n",
              "      <td>5.8</td>\n",
              "      <td>5.8</td>\n",
              "    </tr>\n",
              "    <tr>\n",
              "      <th>os_android</th>\n",
              "      <td>1.8</td>\n",
              "      <td>3.2</td>\n",
              "      <td>1.8</td>\n",
              "      <td>3.2</td>\n",
              "      <td>1.8</td>\n",
              "      <td>3.2</td>\n",
              "      <td>1.8</td>\n",
              "      <td>3.2</td>\n",
              "      <td>1.8</td>\n",
              "      <td>3.2</td>\n",
              "      <td>1.8</td>\n",
              "      <td>3.2</td>\n",
              "      <td>1.8</td>\n",
              "      <td>3.2</td>\n",
              "      <td>1.8</td>\n",
              "      <td>3.2</td>\n",
              "      <td>1.8</td>\n",
              "      <td>3.2</td>\n",
              "      <td>1.8</td>\n",
              "      <td>3.2</td>\n",
              "      <td>1.8</td>\n",
              "      <td>3.2</td>\n",
              "      <td>1.8</td>\n",
              "      <td>3.2</td>\n",
              "      <td>1.8</td>\n",
              "      <td>3.2</td>\n",
              "      <td>1.8</td>\n",
              "      <td>3.2</td>\n",
              "      <td>1.8</td>\n",
              "      <td>3.2</td>\n",
              "      <td>1.8</td>\n",
              "      <td>3.2</td>\n",
              "      <td>1.8</td>\n",
              "      <td>3.2</td>\n",
              "      <td>1.8</td>\n",
              "      <td>3.2</td>\n",
              "      <td>1.8</td>\n",
              "      <td>3.2</td>\n",
              "      <td>1.8</td>\n",
              "      <td>3.2</td>\n",
              "      <td>...</td>\n",
              "      <td>1.8</td>\n",
              "      <td>3.2</td>\n",
              "      <td>1.8</td>\n",
              "      <td>3.2</td>\n",
              "      <td>1.8</td>\n",
              "      <td>3.2</td>\n",
              "      <td>1.8</td>\n",
              "      <td>3.2</td>\n",
              "      <td>1.8</td>\n",
              "      <td>3.2</td>\n",
              "      <td>1.8</td>\n",
              "      <td>3.2</td>\n",
              "      <td>1.8</td>\n",
              "      <td>3.2</td>\n",
              "      <td>1.8</td>\n",
              "      <td>3.2</td>\n",
              "      <td>1.8</td>\n",
              "      <td>3.2</td>\n",
              "      <td>1.8</td>\n",
              "      <td>3.2</td>\n",
              "      <td>1.8</td>\n",
              "      <td>3.2</td>\n",
              "      <td>1.8</td>\n",
              "      <td>3.2</td>\n",
              "      <td>1.8</td>\n",
              "      <td>3.2</td>\n",
              "      <td>1.8</td>\n",
              "      <td>3.2</td>\n",
              "      <td>1.8</td>\n",
              "      <td>3.2</td>\n",
              "      <td>1.8</td>\n",
              "      <td>3.2</td>\n",
              "      <td>1.8</td>\n",
              "      <td>3.2</td>\n",
              "      <td>1.8</td>\n",
              "      <td>3.2</td>\n",
              "      <td>1.8</td>\n",
              "      <td>3.2</td>\n",
              "      <td>1.8</td>\n",
              "      <td>3.2</td>\n",
              "    </tr>\n",
              "  </tbody>\n",
              "</table>\n",
              "<p>6 rows × 144 columns</p>\n",
              "</div>"
            ],
            "text/plain": [
              "                 0      1      2      3    ...     140     141     142     143\n",
              "price_apple    800.0  800.0  800.0  800.0  ...  1200.0  1200.0  1200.0  1200.0\n",
              "size_apple       4.7    4.7    4.7    4.7  ...     5.8     5.8     5.8     5.8\n",
              "os_apple         1.8    1.8    1.8    1.8  ...     3.2     3.2     3.2     3.2\n",
              "price_android  800.0  800.0  800.0  800.0  ...  1200.0  1200.0  1200.0  1200.0\n",
              "size_android     4.7    4.7    5.8    5.8  ...     4.7     4.7     5.8     5.8\n",
              "os_android       1.8    3.2    1.8    3.2  ...     1.8     3.2     1.8     3.2\n",
              "\n",
              "[6 rows x 144 columns]"
            ]
          },
          "metadata": {},
          "execution_count": 43
        }
      ]
    },
    {
      "cell_type": "code",
      "metadata": {
        "id": "4xcOp1E-3iFd"
      },
      "source": [
        "COV_ff = cov_reg(full_factorial)"
      ],
      "execution_count": 44,
      "outputs": []
    },
    {
      "cell_type": "code",
      "metadata": {
        "colab": {
          "base_uri": "https://localhost:8080/",
          "height": 234
        },
        "id": "_grdMjal4LMw",
        "outputId": "b970f1f7-c368-4640-b361-ee022d3002cc"
      },
      "source": [
        "pd.DataFrame(COV_ff*100000, columns = ['price_apple', 'size_apple', 'cost_apple', 'price_android', 'size_android', 'cost_android'])"
      ],
      "execution_count": 45,
      "outputs": [
        {
          "output_type": "execute_result",
          "data": {
            "text/html": [
              "<div>\n",
              "<style scoped>\n",
              "    .dataframe tbody tr th:only-of-type {\n",
              "        vertical-align: middle;\n",
              "    }\n",
              "\n",
              "    .dataframe tbody tr th {\n",
              "        vertical-align: top;\n",
              "    }\n",
              "\n",
              "    .dataframe thead th {\n",
              "        text-align: right;\n",
              "    }\n",
              "</style>\n",
              "<table border=\"1\" class=\"dataframe\">\n",
              "  <thead>\n",
              "    <tr style=\"text-align: right;\">\n",
              "      <th></th>\n",
              "      <th>price_apple</th>\n",
              "      <th>size_apple</th>\n",
              "      <th>cost_apple</th>\n",
              "      <th>price_android</th>\n",
              "      <th>size_android</th>\n",
              "      <th>cost_android</th>\n",
              "    </tr>\n",
              "  </thead>\n",
              "  <tbody>\n",
              "    <tr>\n",
              "      <th>0</th>\n",
              "      <td>0.022600</td>\n",
              "      <td>-1.592868</td>\n",
              "      <td>-0.468263</td>\n",
              "      <td>-0.003442</td>\n",
              "      <td>-1.592868</td>\n",
              "      <td>-0.468263</td>\n",
              "    </tr>\n",
              "    <tr>\n",
              "      <th>1</th>\n",
              "      <td>-1.592868</td>\n",
              "      <td>1558.489201</td>\n",
              "      <td>-216.716677</td>\n",
              "      <td>-1.592868</td>\n",
              "      <td>-737.194913</td>\n",
              "      <td>-216.716677</td>\n",
              "    </tr>\n",
              "    <tr>\n",
              "      <th>2</th>\n",
              "      <td>-0.468263</td>\n",
              "      <td>-216.716677</td>\n",
              "      <td>1353.524333</td>\n",
              "      <td>-0.468263</td>\n",
              "      <td>-216.716677</td>\n",
              "      <td>-63.709227</td>\n",
              "    </tr>\n",
              "    <tr>\n",
              "      <th>3</th>\n",
              "      <td>-0.003442</td>\n",
              "      <td>-1.592868</td>\n",
              "      <td>-0.468263</td>\n",
              "      <td>0.022600</td>\n",
              "      <td>-1.592868</td>\n",
              "      <td>-0.468263</td>\n",
              "    </tr>\n",
              "    <tr>\n",
              "      <th>4</th>\n",
              "      <td>-1.592868</td>\n",
              "      <td>-737.194913</td>\n",
              "      <td>-216.716677</td>\n",
              "      <td>-1.592868</td>\n",
              "      <td>1558.489201</td>\n",
              "      <td>-216.716677</td>\n",
              "    </tr>\n",
              "    <tr>\n",
              "      <th>5</th>\n",
              "      <td>-0.468263</td>\n",
              "      <td>-216.716677</td>\n",
              "      <td>-63.709227</td>\n",
              "      <td>-0.468263</td>\n",
              "      <td>-216.716677</td>\n",
              "      <td>1353.524333</td>\n",
              "    </tr>\n",
              "  </tbody>\n",
              "</table>\n",
              "</div>"
            ],
            "text/plain": [
              "   price_apple   size_apple  ...  size_android  cost_android\n",
              "0     0.022600    -1.592868  ...     -1.592868     -0.468263\n",
              "1    -1.592868  1558.489201  ...   -737.194913   -216.716677\n",
              "2    -0.468263  -216.716677  ...   -216.716677    -63.709227\n",
              "3    -0.003442    -1.592868  ...     -1.592868     -0.468263\n",
              "4    -1.592868  -737.194913  ...   1558.489201   -216.716677\n",
              "5    -0.468263  -216.716677  ...   -216.716677   1353.524333\n",
              "\n",
              "[6 rows x 6 columns]"
            ]
          },
          "metadata": {},
          "execution_count": 45
        }
      ]
    },
    {
      "cell_type": "markdown",
      "metadata": {
        "id": "gJwcum9ey2yd"
      },
      "source": [
        "Lets see what can we do if we 'do nothing', this is just pick the variations at random until we get to the given sample size.\n",
        "\n",
        "*Repeat to see how the covariance varies*"
      ]
    },
    {
      "cell_type": "code",
      "metadata": {
        "colab": {
          "base_uri": "https://localhost:8080/"
        },
        "id": "g61fhd0S4jfX",
        "outputId": "5f5d90ed-77e9-4818-e852-4d3b56730045"
      },
      "source": [
        "N = 70\n",
        "sub_fact = np.array(full_factorial)[np.random.choice(full_factorial.shape[0], N, replace=False), :]\n",
        "sub_fact"
      ],
      "execution_count": 70,
      "outputs": [
        {
          "output_type": "execute_result",
          "data": {
            "text/plain": [
              "array([[ 800. ,    4.7,    3.2, 1000. ,    5.8,    3.2],\n",
              "       [ 800. ,    4.7,    1.8, 1200. ,    5.8,    1.8],\n",
              "       [ 800. ,    4.7,    1.8,  800. ,    5.8,    1.8],\n",
              "       [1000. ,    4.7,    1.8, 1000. ,    5.8,    1.8],\n",
              "       [ 800. ,    5.8,    3.2, 1200. ,    5.8,    3.2],\n",
              "       [1000. ,    5.8,    3.2,  800. ,    5.8,    3.2],\n",
              "       [ 800. ,    5.8,    3.2,  800. ,    5.8,    1.8],\n",
              "       [1200. ,    4.7,    3.2,  800. ,    4.7,    1.8],\n",
              "       [1200. ,    5.8,    1.8, 1200. ,    5.8,    1.8],\n",
              "       [1000. ,    4.7,    3.2,  800. ,    4.7,    1.8],\n",
              "       [1000. ,    4.7,    3.2, 1200. ,    4.7,    1.8],\n",
              "       [1000. ,    5.8,    1.8, 1000. ,    5.8,    1.8],\n",
              "       [ 800. ,    5.8,    3.2,  800. ,    4.7,    3.2],\n",
              "       [ 800. ,    4.7,    3.2,  800. ,    5.8,    1.8],\n",
              "       [ 800. ,    4.7,    1.8, 1000. ,    5.8,    3.2],\n",
              "       [1000. ,    5.8,    3.2, 1200. ,    4.7,    3.2],\n",
              "       [1000. ,    5.8,    1.8, 1200. ,    5.8,    1.8],\n",
              "       [ 800. ,    4.7,    3.2, 1000. ,    4.7,    1.8],\n",
              "       [1200. ,    4.7,    3.2, 1000. ,    4.7,    1.8],\n",
              "       [ 800. ,    5.8,    1.8,  800. ,    5.8,    1.8],\n",
              "       [1200. ,    5.8,    3.2, 1000. ,    4.7,    1.8],\n",
              "       [1000. ,    4.7,    1.8,  800. ,    4.7,    1.8],\n",
              "       [1200. ,    5.8,    3.2, 1200. ,    5.8,    1.8],\n",
              "       [1200. ,    5.8,    3.2,  800. ,    5.8,    1.8],\n",
              "       [ 800. ,    4.7,    3.2, 1200. ,    4.7,    3.2],\n",
              "       [1200. ,    5.8,    1.8, 1000. ,    5.8,    3.2],\n",
              "       [1200. ,    5.8,    3.2,  800. ,    4.7,    3.2],\n",
              "       [1200. ,    4.7,    3.2, 1000. ,    5.8,    3.2],\n",
              "       [1000. ,    5.8,    1.8,  800. ,    4.7,    1.8],\n",
              "       [1200. ,    4.7,    1.8, 1200. ,    5.8,    1.8],\n",
              "       [1000. ,    5.8,    3.2, 1000. ,    5.8,    1.8],\n",
              "       [1000. ,    4.7,    3.2, 1000. ,    5.8,    1.8],\n",
              "       [ 800. ,    5.8,    1.8,  800. ,    4.7,    3.2],\n",
              "       [1200. ,    4.7,    1.8,  800. ,    5.8,    1.8],\n",
              "       [1000. ,    4.7,    3.2, 1200. ,    5.8,    3.2],\n",
              "       [1200. ,    4.7,    3.2,  800. ,    5.8,    1.8],\n",
              "       [1200. ,    4.7,    1.8,  800. ,    4.7,    3.2],\n",
              "       [1000. ,    4.7,    3.2,  800. ,    5.8,    1.8],\n",
              "       [1000. ,    4.7,    3.2, 1000. ,    4.7,    3.2],\n",
              "       [1200. ,    5.8,    3.2, 1000. ,    5.8,    3.2],\n",
              "       [1200. ,    5.8,    3.2,  800. ,    5.8,    3.2],\n",
              "       [1200. ,    4.7,    1.8, 1000. ,    5.8,    3.2],\n",
              "       [ 800. ,    5.8,    3.2,  800. ,    4.7,    1.8],\n",
              "       [1000. ,    5.8,    3.2,  800. ,    4.7,    1.8],\n",
              "       [1000. ,    5.8,    1.8, 1200. ,    4.7,    3.2],\n",
              "       [1000. ,    4.7,    1.8, 1000. ,    5.8,    3.2],\n",
              "       [1000. ,    5.8,    3.2, 1200. ,    5.8,    3.2],\n",
              "       [ 800. ,    5.8,    3.2, 1000. ,    4.7,    1.8],\n",
              "       [ 800. ,    5.8,    1.8, 1000. ,    4.7,    3.2],\n",
              "       [1000. ,    5.8,    3.2, 1000. ,    4.7,    1.8],\n",
              "       [1200. ,    5.8,    1.8,  800. ,    4.7,    3.2],\n",
              "       [ 800. ,    5.8,    1.8, 1200. ,    4.7,    1.8],\n",
              "       [ 800. ,    4.7,    3.2,  800. ,    4.7,    1.8],\n",
              "       [ 800. ,    5.8,    1.8,  800. ,    5.8,    3.2],\n",
              "       [1200. ,    4.7,    3.2, 1200. ,    4.7,    1.8],\n",
              "       [1200. ,    5.8,    3.2, 1200. ,    4.7,    1.8],\n",
              "       [1200. ,    4.7,    3.2, 1200. ,    5.8,    3.2],\n",
              "       [1200. ,    4.7,    3.2, 1200. ,    4.7,    3.2],\n",
              "       [1200. ,    4.7,    3.2,  800. ,    4.7,    3.2],\n",
              "       [1200. ,    4.7,    1.8, 1000. ,    4.7,    1.8],\n",
              "       [1000. ,    5.8,    1.8, 1000. ,    4.7,    3.2],\n",
              "       [ 800. ,    5.8,    1.8, 1200. ,    5.8,    1.8],\n",
              "       [1200. ,    4.7,    3.2, 1200. ,    5.8,    1.8],\n",
              "       [ 800. ,    5.8,    3.2,  800. ,    5.8,    3.2],\n",
              "       [ 800. ,    5.8,    3.2, 1000. ,    4.7,    3.2],\n",
              "       [ 800. ,    5.8,    1.8, 1000. ,    4.7,    1.8],\n",
              "       [1200. ,    5.8,    1.8, 1200. ,    5.8,    3.2],\n",
              "       [1200. ,    4.7,    3.2, 1000. ,    4.7,    3.2],\n",
              "       [1200. ,    4.7,    3.2,  800. ,    5.8,    3.2],\n",
              "       [ 800. ,    4.7,    1.8, 1200. ,    5.8,    3.2]])"
            ]
          },
          "metadata": {},
          "execution_count": 70
        }
      ]
    },
    {
      "cell_type": "code",
      "metadata": {
        "colab": {
          "base_uri": "https://localhost:8080/",
          "height": 234
        },
        "id": "SozJ1xZW5L1X",
        "outputId": "b557b287-aeb6-4af8-82bf-7a453a266268"
      },
      "source": [
        "pd.DataFrame(cov_reg(sub_fact)*100000, columns = ['price_apple', 'size_apple', 'cost_apple', 'price_android', 'size_android', 'cost_android'])"
      ],
      "execution_count": 71,
      "outputs": [
        {
          "output_type": "execute_result",
          "data": {
            "text/html": [
              "<div>\n",
              "<style scoped>\n",
              "    .dataframe tbody tr th:only-of-type {\n",
              "        vertical-align: middle;\n",
              "    }\n",
              "\n",
              "    .dataframe tbody tr th {\n",
              "        vertical-align: top;\n",
              "    }\n",
              "\n",
              "    .dataframe thead th {\n",
              "        text-align: right;\n",
              "    }\n",
              "</style>\n",
              "<table border=\"1\" class=\"dataframe\">\n",
              "  <thead>\n",
              "    <tr style=\"text-align: right;\">\n",
              "      <th></th>\n",
              "      <th>price_apple</th>\n",
              "      <th>size_apple</th>\n",
              "      <th>cost_apple</th>\n",
              "      <th>price_android</th>\n",
              "      <th>size_android</th>\n",
              "      <th>cost_android</th>\n",
              "    </tr>\n",
              "  </thead>\n",
              "  <tbody>\n",
              "    <tr>\n",
              "      <th>0</th>\n",
              "      <td>0.045913</td>\n",
              "      <td>-1.223141</td>\n",
              "      <td>-3.032315</td>\n",
              "      <td>-0.009387</td>\n",
              "      <td>-3.795301</td>\n",
              "      <td>-1.023039</td>\n",
              "    </tr>\n",
              "    <tr>\n",
              "      <th>1</th>\n",
              "      <td>-1.223141</td>\n",
              "      <td>2832.585644</td>\n",
              "      <td>-501.234566</td>\n",
              "      <td>-2.966758</td>\n",
              "      <td>-1516.790833</td>\n",
              "      <td>-537.364546</td>\n",
              "    </tr>\n",
              "    <tr>\n",
              "      <th>2</th>\n",
              "      <td>-3.032315</td>\n",
              "      <td>-501.234566</td>\n",
              "      <td>2851.382678</td>\n",
              "      <td>-0.286266</td>\n",
              "      <td>-205.841472</td>\n",
              "      <td>-168.038778</td>\n",
              "    </tr>\n",
              "    <tr>\n",
              "      <th>3</th>\n",
              "      <td>-0.009387</td>\n",
              "      <td>-2.966758</td>\n",
              "      <td>-0.286266</td>\n",
              "      <td>0.050155</td>\n",
              "      <td>-3.990724</td>\n",
              "      <td>-0.953695</td>\n",
              "    </tr>\n",
              "    <tr>\n",
              "      <th>4</th>\n",
              "      <td>-3.795301</td>\n",
              "      <td>-1516.790833</td>\n",
              "      <td>-205.841472</td>\n",
              "      <td>-3.990724</td>\n",
              "      <td>3272.024200</td>\n",
              "      <td>-362.742349</td>\n",
              "    </tr>\n",
              "    <tr>\n",
              "      <th>5</th>\n",
              "      <td>-1.023039</td>\n",
              "      <td>-537.364546</td>\n",
              "      <td>-168.038778</td>\n",
              "      <td>-0.953695</td>\n",
              "      <td>-362.742349</td>\n",
              "      <td>2917.259495</td>\n",
              "    </tr>\n",
              "  </tbody>\n",
              "</table>\n",
              "</div>"
            ],
            "text/plain": [
              "   price_apple   size_apple  ...  size_android  cost_android\n",
              "0     0.045913    -1.223141  ...     -3.795301     -1.023039\n",
              "1    -1.223141  2832.585644  ...  -1516.790833   -537.364546\n",
              "2    -3.032315  -501.234566  ...   -205.841472   -168.038778\n",
              "3    -0.009387    -2.966758  ...     -3.990724     -0.953695\n",
              "4    -3.795301 -1516.790833  ...   3272.024200   -362.742349\n",
              "5    -1.023039  -537.364546  ...   -362.742349   2917.259495\n",
              "\n",
              "[6 rows x 6 columns]"
            ]
          },
          "metadata": {},
          "execution_count": 71
        }
      ]
    },
    {
      "cell_type": "markdown",
      "metadata": {
        "id": "0jTIuSItyolm"
      },
      "source": [
        "Lets compare both covariances, the one with the full experiment vs the one with the reduced experiment."
      ]
    },
    {
      "cell_type": "code",
      "metadata": {
        "colab": {
          "base_uri": "https://localhost:8080/",
          "height": 234
        },
        "id": "pg082K41yKdA",
        "outputId": "3e933b4b-0f89-46ac-afd5-5039085179d4"
      },
      "source": [
        "pd.DataFrame(cov_reg(sub_fact) / cov_reg(full_factorial))"
      ],
      "execution_count": 72,
      "outputs": [
        {
          "output_type": "execute_result",
          "data": {
            "text/html": [
              "<div>\n",
              "<style scoped>\n",
              "    .dataframe tbody tr th:only-of-type {\n",
              "        vertical-align: middle;\n",
              "    }\n",
              "\n",
              "    .dataframe tbody tr th {\n",
              "        vertical-align: top;\n",
              "    }\n",
              "\n",
              "    .dataframe thead th {\n",
              "        text-align: right;\n",
              "    }\n",
              "</style>\n",
              "<table border=\"1\" class=\"dataframe\">\n",
              "  <thead>\n",
              "    <tr style=\"text-align: right;\">\n",
              "      <th></th>\n",
              "      <th>0</th>\n",
              "      <th>1</th>\n",
              "      <th>2</th>\n",
              "      <th>3</th>\n",
              "      <th>4</th>\n",
              "      <th>5</th>\n",
              "    </tr>\n",
              "  </thead>\n",
              "  <tbody>\n",
              "    <tr>\n",
              "      <th>0</th>\n",
              "      <td>2.031570</td>\n",
              "      <td>0.767886</td>\n",
              "      <td>6.475669</td>\n",
              "      <td>2.727450</td>\n",
              "      <td>2.382684</td>\n",
              "      <td>2.184754</td>\n",
              "    </tr>\n",
              "    <tr>\n",
              "      <th>1</th>\n",
              "      <td>0.767886</td>\n",
              "      <td>1.817520</td>\n",
              "      <td>2.312856</td>\n",
              "      <td>1.862527</td>\n",
              "      <td>2.057517</td>\n",
              "      <td>2.479572</td>\n",
              "    </tr>\n",
              "    <tr>\n",
              "      <th>2</th>\n",
              "      <td>6.475669</td>\n",
              "      <td>2.312856</td>\n",
              "      <td>2.106636</td>\n",
              "      <td>0.611336</td>\n",
              "      <td>0.949818</td>\n",
              "      <td>2.637589</td>\n",
              "    </tr>\n",
              "    <tr>\n",
              "      <th>3</th>\n",
              "      <td>2.727450</td>\n",
              "      <td>1.862527</td>\n",
              "      <td>0.611336</td>\n",
              "      <td>2.219258</td>\n",
              "      <td>2.505371</td>\n",
              "      <td>2.036665</td>\n",
              "    </tr>\n",
              "    <tr>\n",
              "      <th>4</th>\n",
              "      <td>2.382684</td>\n",
              "      <td>2.057517</td>\n",
              "      <td>0.949818</td>\n",
              "      <td>2.505371</td>\n",
              "      <td>2.099485</td>\n",
              "      <td>1.673809</td>\n",
              "    </tr>\n",
              "    <tr>\n",
              "      <th>5</th>\n",
              "      <td>2.184754</td>\n",
              "      <td>2.479572</td>\n",
              "      <td>2.637589</td>\n",
              "      <td>2.036665</td>\n",
              "      <td>1.673809</td>\n",
              "      <td>2.155306</td>\n",
              "    </tr>\n",
              "  </tbody>\n",
              "</table>\n",
              "</div>"
            ],
            "text/plain": [
              "          0         1         2         3         4         5\n",
              "0  2.031570  0.767886  6.475669  2.727450  2.382684  2.184754\n",
              "1  0.767886  1.817520  2.312856  1.862527  2.057517  2.479572\n",
              "2  6.475669  2.312856  2.106636  0.611336  0.949818  2.637589\n",
              "3  2.727450  1.862527  0.611336  2.219258  2.505371  2.036665\n",
              "4  2.382684  2.057517  0.949818  2.505371  2.099485  1.673809\n",
              "5  2.184754  2.479572  2.637589  2.036665  1.673809  2.155306"
            ]
          },
          "metadata": {},
          "execution_count": 72
        }
      ]
    },
    {
      "cell_type": "code",
      "metadata": {
        "id": "BH0mihQczRNw"
      },
      "source": [
        "def deffic_reg(X):\n",
        "  covX = cov_reg(X)\n",
        "  return np.power( np.linalg.det(covX), 1 / (covX.shape[0] + 1) )"
      ],
      "execution_count": 73,
      "outputs": []
    },
    {
      "cell_type": "markdown",
      "metadata": {
        "id": "Wf4NqV2P1AYH"
      },
      "source": [
        "When we calculate the d-efficiency (smaller is better), we see that\n",
        "the fll experiment is roughly twice as efficient."
      ]
    },
    {
      "cell_type": "code",
      "metadata": {
        "colab": {
          "base_uri": "https://localhost:8080/"
        },
        "id": "1tfEbUQhzd5H",
        "outputId": "28963aea-5d0a-4ed7-b236-693de7392372"
      },
      "source": [
        "deffic_reg(full_factorial)*1000"
      ],
      "execution_count": 74,
      "outputs": [
        {
          "output_type": "execute_result",
          "data": {
            "text/plain": [
              "0.5913907394643277"
            ]
          },
          "metadata": {},
          "execution_count": 74
        }
      ]
    },
    {
      "cell_type": "code",
      "metadata": {
        "colab": {
          "base_uri": "https://localhost:8080/"
        },
        "id": "F18RBPtWzggW",
        "outputId": "e2211481-fb56-4179-f731-3b71a6998d46"
      },
      "source": [
        "deffic_reg(sub_fact)*1000"
      ],
      "execution_count": 75,
      "outputs": [
        {
          "output_type": "execute_result",
          "data": {
            "text/plain": [
              "1.0954361010482425"
            ]
          },
          "metadata": {},
          "execution_count": 75
        }
      ]
    },
    {
      "cell_type": "markdown",
      "metadata": {
        "id": "XpVGAet02Dnw"
      },
      "source": [
        "So, now we will try to do something a bit more clever, we will try to pick the design with the best D-efficiency.\n",
        "But how many design variations are there? Maybe we can compute them all and pick the best?\n",
        "\n",
        "Lets say of size 70, when the full factorial is 144, combinations without\n",
        "repetition...\n"
      ]
    },
    {
      "cell_type": "code",
      "metadata": {
        "colab": {
          "base_uri": "https://localhost:8080/"
        },
        "id": "DUcnl35v2-fW",
        "outputId": "ba6da0c4-5f0b-4539-f28e-fc5de4391704"
      },
      "source": [
        "from math import factorial\n",
        "\n",
        "factorial(144) / factorial(70) / factorial(144 - 70)"
      ],
      "execution_count": 52,
      "outputs": [
        {
          "output_type": "execute_result",
          "data": {
            "text/plain": [
              "1.4007495090837087e+42"
            ]
          },
          "metadata": {},
          "execution_count": 52
        }
      ]
    },
    {
      "cell_type": "markdown",
      "metadata": {
        "id": "raI2V0QL4QmJ"
      },
      "source": [
        "No, but lets check a few thousands really quickly, trying to get the improvement"
      ]
    },
    {
      "cell_type": "code",
      "metadata": {
        "colab": {
          "base_uri": "https://localhost:8080/"
        },
        "id": "BY9lCaHS1OwS",
        "outputId": "623eb01b-f4cf-40df-e922-88bc149c08a0"
      },
      "source": [
        "def calc_sub_effic():\n",
        " N = 70\n",
        " sub_fact = np.array(full_factorial)[np.random.choice(full_factorial.shape[0], N, replace=False), :]\n",
        " return deffic_reg(sub_fact)*1000\n",
        "\n",
        "\n",
        "\n",
        "np.min([calc_sub_effic() for _ in range(100000)])"
      ],
      "execution_count": 76,
      "outputs": [
        {
          "output_type": "execute_result",
          "data": {
            "text/plain": [
              "1.0352719350516428"
            ]
          },
          "metadata": {},
          "execution_count": 76
        }
      ]
    },
    {
      "cell_type": "markdown",
      "metadata": {
        "id": "sILtgA334cNu"
      },
      "source": [
        "The best efficiency we can find in this random search is 1.015.\n",
        "\n",
        "There are better algorithms to look for good design, to 'optimize' the experimental design."
      ]
    },
    {
      "cell_type": "markdown",
      "metadata": {
        "id": "tSVKJUoTypn6"
      },
      "source": [
        "# D-efficiency for Discrete Choice\n",
        "\n",
        "We have seen the definition of D-efficiency for standard linear regression.\n",
        "It is based on the covariance matrix for the least squares estimator for the coefficients. For discrete choice, the D-efficiency is technically the same, but the covariance matrix that it works on is slightly different\n",
        "\n",
        "In choice modelling, specifically the multinomial logit (MNL), the coefficients are \n",
        "not estimated by least squares, they are estimated by maximum likelihood. Moreover, the MNL transforms the linear predictions by the softmax transformation.\n",
        "\n",
        "$$\\text{covariance}(\\beta) = (Z' P Z )^{-1}$$\n",
        "\n",
        "when working with $J$ alternatives:\n",
        "*  $P$ is the matrix of choice probabilities computed by the model.\n",
        "* $Z$ is similar to design matrix, but 'centered' using the choice probabilities. Basically, to each row of observations, we substract the weighted mean of the variables across all alternatives. The weights are the choice probabilities computed by the model.\n",
        "\n",
        " $$z_{jn} = x_{jn} - \\sum_{i=1}^Jx_{in}P_{in}$$\n",
        "\n",
        " The $x_{in}$ represents the attributes of alternative $i$ for individual $n$.\n",
        "\n",
        " Just to clarify, if all choice probabilities are equal, we get\n",
        "  $$z_{jn} = x_{jn} - \\overline{x\n",
        "  _n}$$\n",
        "   with $\\overline{x\n",
        "  _n}$ denotine the simple mean of the variables.\n",
        "\n",
        "\n",
        "**There is an important difference comparing to the linear regression:** In the\n",
        "expression for the covariance we have the choice probabilities, which themselves depend on the true values of the coefficients $\\beta^*$!!\n",
        "\n",
        "The solution is to consider some 'prior' values for the $\\beta*$, for example, it is typical to start with all $\\beta^*_i = 0$ to first design the pilot experiment. The from the pilot experiment get a better estimate, and use it to calculate the efficiency fot the final experiment. \n"
      ]
    },
    {
      "cell_type": "code",
      "metadata": {
        "id": "_now17Bg5lcS"
      },
      "source": [
        "def cov_mnl(Xj, J, betas):\n",
        "  Xj = np.hsplit(np.array(Xj), 2)\n",
        "  P = np.hstack( [np.matmul(Xj[0], betas[0].T ), np.matmul(Xj[1], betas[0].T )])\n",
        "  P = np.exp(P)\n",
        "  PP = P / np.sum(P, axis = 1)\n",
        "  P0D = np.diag(np.array(PP[:,0].flatten()[0].T[:]).T[0])\n",
        "  return np.linalg.inv(np.matmul( np.matmul(Xj[0].T, P0D), Xj[0]))"
      ],
      "execution_count": 54,
      "outputs": []
    },
    {
      "cell_type": "markdown",
      "metadata": {
        "id": "I1p6yicQFaH8"
      },
      "source": [
        "And now we calculate"
      ]
    },
    {
      "cell_type": "code",
      "metadata": {
        "id": "QSOrlg4d7D2o"
      },
      "source": [
        " sub_fact = np.array(full_factorial)[np.random.choice(full_factorial.shape[0], 10, replace=False), :]"
      ],
      "execution_count": 55,
      "outputs": []
    },
    {
      "cell_type": "code",
      "metadata": {
        "colab": {
          "base_uri": "https://localhost:8080/"
        },
        "id": "M3toETva7WzX",
        "outputId": "98d5a276-a203-4de3-e530-5ca7b936937c"
      },
      "source": [
        "betas = [ np.matrix('0.5 0.1 1.1')]\n",
        "betas[0]"
      ],
      "execution_count": 56,
      "outputs": [
        {
          "output_type": "execute_result",
          "data": {
            "text/plain": [
              "matrix([[0.5, 0.1, 1.1]])"
            ]
          },
          "metadata": {},
          "execution_count": 56
        }
      ]
    },
    {
      "cell_type": "code",
      "metadata": {
        "colab": {
          "base_uri": "https://localhost:8080/",
          "height": 142
        },
        "id": "iNi6gCQxEqsK",
        "outputId": "9aec49d4-9133-458e-a274-76aff22d26f0"
      },
      "source": [
        "pd.DataFrame(cov_mnl(sub_fact, 2, betas))"
      ],
      "execution_count": 57,
      "outputs": [
        {
          "output_type": "execute_result",
          "data": {
            "text/html": [
              "<div>\n",
              "<style scoped>\n",
              "    .dataframe tbody tr th:only-of-type {\n",
              "        vertical-align: middle;\n",
              "    }\n",
              "\n",
              "    .dataframe tbody tr th {\n",
              "        vertical-align: top;\n",
              "    }\n",
              "\n",
              "    .dataframe thead th {\n",
              "        text-align: right;\n",
              "    }\n",
              "</style>\n",
              "<table border=\"1\" class=\"dataframe\">\n",
              "  <thead>\n",
              "    <tr style=\"text-align: right;\">\n",
              "      <th></th>\n",
              "      <th>0</th>\n",
              "      <th>1</th>\n",
              "      <th>2</th>\n",
              "    </tr>\n",
              "  </thead>\n",
              "  <tbody>\n",
              "    <tr>\n",
              "      <th>0</th>\n",
              "      <td>0.000154</td>\n",
              "      <td>-0.051625</td>\n",
              "      <td>0.066145</td>\n",
              "    </tr>\n",
              "    <tr>\n",
              "      <th>1</th>\n",
              "      <td>-0.051625</td>\n",
              "      <td>22.627593</td>\n",
              "      <td>-38.999823</td>\n",
              "    </tr>\n",
              "    <tr>\n",
              "      <th>2</th>\n",
              "      <td>0.066145</td>\n",
              "      <td>-38.999823</td>\n",
              "      <td>81.653478</td>\n",
              "    </tr>\n",
              "  </tbody>\n",
              "</table>\n",
              "</div>"
            ],
            "text/plain": [
              "          0          1          2\n",
              "0  0.000154  -0.051625   0.066145\n",
              "1 -0.051625  22.627593 -38.999823\n",
              "2  0.066145 -38.999823  81.653478"
            ]
          },
          "metadata": {},
          "execution_count": 57
        }
      ]
    },
    {
      "cell_type": "code",
      "metadata": {
        "id": "0y5YckmNFoWq"
      },
      "source": [
        "def deffic_mnl(X, J, betas):\n",
        "  covX = cov_mnl(X, J, betas)\n",
        "  return np.power( np.linalg.det(covX), 1 / (covX.shape[0] + 1) )"
      ],
      "execution_count": 58,
      "outputs": []
    },
    {
      "cell_type": "code",
      "metadata": {
        "colab": {
          "base_uri": "https://localhost:8080/"
        },
        "id": "f9FZVpPLFtpk",
        "outputId": "c8f05a34-a60c-4652-867c-2208321009cb"
      },
      "source": [
        "deffic_mnl(sub_fact, 2, betas)"
      ],
      "execution_count": 59,
      "outputs": [
        {
          "output_type": "execute_result",
          "data": {
            "text/plain": [
              "0.11694985937518415"
            ]
          },
          "metadata": {},
          "execution_count": 59
        }
      ]
    },
    {
      "cell_type": "code",
      "metadata": {
        "colab": {
          "base_uri": "https://localhost:8080/"
        },
        "id": "pa0YZZR-F4mt",
        "outputId": "d59303cf-3961-4d49-da2d-921621f2104f"
      },
      "source": [
        "deffic_mnl(full_factorial, 2, betas)"
      ],
      "execution_count": 60,
      "outputs": [
        {
          "output_type": "execute_result",
          "data": {
            "text/plain": [
              "0.0015392314315362842"
            ]
          },
          "metadata": {},
          "execution_count": 60
        }
      ]
    },
    {
      "cell_type": "markdown",
      "metadata": {
        "id": "_4S08C4NKBMl"
      },
      "source": [
        "#Relationship to the principles of design of experiments\n",
        "\n",
        "Recall the four principles\n",
        "\n",
        "1. Level balance\n",
        "2. Orthogonality\n",
        "3. Minimal level overlap\n",
        "4. Utility balance\n",
        "\n",
        "\n",
        "These principles are all summarized in the D-efficiency, meaning that they are 'rules of thumb' to create designs with good efficiency. Nowadays we can just put the computer to work... but it is important to get an intuition on how it works.\n"
      ]
    },
    {
      "cell_type": "markdown",
      "metadata": {
        "id": "cQ1qdKzNGVlK"
      },
      "source": [
        "# Example: Level balance and overlap\n",
        "\n"
      ]
    },
    {
      "cell_type": "code",
      "metadata": {
        "colab": {
          "base_uri": "https://localhost:8080/"
        },
        "id": "kbVbA_dIGaIv",
        "outputId": "fcf2092d-7a17-4ae5-e665-868a9262fe65"
      },
      "source": [
        "np.random.seed(1234) \n",
        "sub_fact = np.array(full_factorial)[np.random.choice(full_factorial.shape[0], 20, replace=False), :]\n",
        "sub_fact"
      ],
      "execution_count": 88,
      "outputs": [
        {
          "output_type": "execute_result",
          "data": {
            "text/plain": [
              "array([[ 800. ,    4.7,    1.8, 1000. ,    5.8,    1.8],\n",
              "       [1200. ,    4.7,    1.8, 1000. ,    4.7,    3.2],\n",
              "       [1000. ,    4.7,    3.2,  800. ,    5.8,    3.2],\n",
              "       [1000. ,    5.8,    3.2, 1000. ,    4.7,    1.8],\n",
              "       [1200. ,    4.7,    3.2, 1200. ,    4.7,    3.2],\n",
              "       [ 800. ,    5.8,    3.2, 1000. ,    4.7,    1.8],\n",
              "       [1200. ,    4.7,    3.2,  800. ,    5.8,    3.2],\n",
              "       [1200. ,    4.7,    1.8,  800. ,    5.8,    1.8],\n",
              "       [ 800. ,    5.8,    1.8,  800. ,    5.8,    3.2],\n",
              "       [ 800. ,    5.8,    3.2, 1000. ,    5.8,    3.2],\n",
              "       [1000. ,    4.7,    3.2, 1000. ,    5.8,    1.8],\n",
              "       [1000. ,    4.7,    1.8, 1200. ,    5.8,    1.8],\n",
              "       [1000. ,    4.7,    1.8,  800. ,    5.8,    3.2],\n",
              "       [ 800. ,    5.8,    1.8,  800. ,    4.7,    3.2],\n",
              "       [1000. ,    5.8,    1.8, 1000. ,    5.8,    3.2],\n",
              "       [ 800. ,    5.8,    3.2, 1000. ,    5.8,    1.8],\n",
              "       [1000. ,    5.8,    3.2,  800. ,    4.7,    3.2],\n",
              "       [ 800. ,    5.8,    3.2,  800. ,    4.7,    1.8],\n",
              "       [1200. ,    5.8,    3.2, 1000. ,    4.7,    3.2],\n",
              "       [ 800. ,    5.8,    1.8, 1200. ,    5.8,    3.2]])"
            ]
          },
          "metadata": {},
          "execution_count": 88
        }
      ]
    },
    {
      "cell_type": "code",
      "metadata": {
        "id": "yTH-BHFAHG89"
      },
      "source": [
        "\n",
        "sub_fact = sub_fact[[ 0, 5, 8, 9, 13, 15,  17, 2],:]\n"
      ],
      "execution_count": 89,
      "outputs": []
    },
    {
      "cell_type": "code",
      "metadata": {
        "colab": {
          "base_uri": "https://localhost:8080/"
        },
        "id": "WeqR0NsqHDq5",
        "outputId": "bd68da9b-2083-46d9-9718-8f699fc22d81"
      },
      "source": [
        "sub_fact"
      ],
      "execution_count": 90,
      "outputs": [
        {
          "output_type": "execute_result",
          "data": {
            "text/plain": [
              "array([[ 800. ,    4.7,    1.8, 1000. ,    5.8,    1.8],\n",
              "       [ 800. ,    5.8,    3.2, 1000. ,    4.7,    1.8],\n",
              "       [ 800. ,    5.8,    1.8,  800. ,    5.8,    3.2],\n",
              "       [ 800. ,    5.8,    3.2, 1000. ,    5.8,    3.2],\n",
              "       [ 800. ,    5.8,    1.8,  800. ,    4.7,    3.2],\n",
              "       [ 800. ,    5.8,    3.2, 1000. ,    5.8,    1.8],\n",
              "       [ 800. ,    5.8,    3.2,  800. ,    4.7,    1.8],\n",
              "       [1000. ,    4.7,    3.2,  800. ,    5.8,    3.2]])"
            ]
          },
          "metadata": {},
          "execution_count": 90
        }
      ]
    },
    {
      "cell_type": "code",
      "metadata": {
        "colab": {
          "base_uri": "https://localhost:8080/"
        },
        "id": "ovjGNMzzG6N1",
        "outputId": "130741b1-4cd1-4647-d303-ed1b8a843365"
      },
      "source": [
        "deffic_mnl(sub_fact, 2, betas)"
      ],
      "execution_count": 91,
      "outputs": [
        {
          "output_type": "execute_result",
          "data": {
            "text/plain": [
              "0.025075612050753034"
            ]
          },
          "metadata": {},
          "execution_count": 91
        }
      ]
    },
    {
      "cell_type": "markdown",
      "metadata": {
        "id": "Fz9boXB3IpPl"
      },
      "source": [
        "Compare with a random experiment of the same size"
      ]
    },
    {
      "cell_type": "code",
      "metadata": {
        "colab": {
          "base_uri": "https://localhost:8080/"
        },
        "id": "POBZbuxRIMYB",
        "outputId": "1bdde2f2-193b-4d49-a9d6-808d299cb497"
      },
      "source": [
        "np.random.seed(1234) \n",
        "[deffic_mnl(np.array(full_factorial)[np.random.choice(full_factorial.shape[0], 8, replace=False), :], 2, betas) for i in range(10)]"
      ],
      "execution_count": 81,
      "outputs": [
        {
          "output_type": "execute_result",
          "data": {
            "text/plain": [
              "[0.012616982133300475,\n",
              " 0.011695402568277422,\n",
              " 0.03184815359360863,\n",
              " 0.03509450126161441,\n",
              " 0.012031835107409962,\n",
              " 0.012735934085607276,\n",
              " 0.012301612107096155,\n",
              " 0.024778969051915935,\n",
              " 0.012241126754476495,\n",
              " 0.015347405493874025]"
            ]
          },
          "metadata": {},
          "execution_count": 81
        }
      ]
    },
    {
      "cell_type": "markdown",
      "metadata": {
        "id": "nfOBc4Ly4ohV"
      },
      "source": [
        "# The workflow\n",
        "\n",
        "1) Define attributes and levels\n",
        "\n",
        "\n",
        "2) Pilot Studuy\n",
        "\n",
        "3) Design of the Experiment\n",
        "\n",
        "4) Design the Survey\n",
        "\n",
        "5) Conduct the survey and data analysis"
      ]
    },
    {
      "cell_type": "markdown",
      "metadata": {
        "id": "4eV_Jtea4qRq"
      },
      "source": [
        "# Recommendations\n",
        "\n",
        "\n",
        "* **Which variables should we choose?**\n",
        " Create an exhaustive list of attributes, the reduce it to a number between 3 to 7 by discarding some and mergin others (important combinations of a pair of attributes). For example, screen size and speed can be merged if these do not really vary independently (no small fast smartphones), just create a new categorical attribute with a few levels for the realistic combination.\n",
        "\n",
        "* **How do we choose the levels?**\n",
        " Try a large range and pick the best subset using a computer.\n",
        "\n",
        "* **How many alternatives**\n",
        " From 2 to 3 alternatives can be handled by people before getting intp decision fatigue."
      ]
    }
  ]
}
